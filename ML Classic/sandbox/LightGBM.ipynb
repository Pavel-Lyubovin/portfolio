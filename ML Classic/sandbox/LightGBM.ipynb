{
 "cells": [
  {
   "cell_type": "markdown",
   "id": "2851a7c3",
   "metadata": {},
   "source": [
    "# ML-Фреймворк LightGBM для градиентного бустинга"
   ]
  },
  {
   "cell_type": "code",
   "execution_count": 3,
   "id": "2e70da03",
   "metadata": {},
   "outputs": [
    {
     "name": "stdout",
     "output_type": "stream",
     "text": [
      "Версия LightGBM      :  3.2.1\n",
      "Версия Scikit-Learn  :  0.21.2\n"
     ]
    }
   ],
   "source": [
    "import pandas as pd\n",
    "import numpy as np\n",
    "import matplotlib.pyplot as plt\n",
    "import lightgbm as lgb\n",
    "import sklearn\n",
    "\n",
    "import warnings\n",
    "warnings.filterwarnings(\"ignore\")\n",
    "\n",
    "print(\"Версия LightGBM      : \", lgb.__version__)\n",
    "print(\"Версия Scikit-Learn  : \", sklearn.__version__)"
   ]
  },
  {
   "cell_type": "code",
   "execution_count": 4,
   "id": "2aee025b",
   "metadata": {},
   "outputs": [
    {
     "name": "stdout",
     "output_type": "stream",
     "text": [
      "**Data Set Characteristics:**  \n",
      "\n",
      "    :Number of Instances: 506 \n",
      "\n",
      "    :Number of Attributes: 13 numeric/categorical predictive. Median Value (attribute 14) is usually the target.\n",
      "\n",
      "    :Attribute Information (in order):\n",
      "        - CRIM     per capita crime rate by town\n",
      "        - ZN       proportion of residential land zoned for lots over 25,000 sq.ft.\n",
      "        - INDUS    proportion of non-retail business acres per town\n",
      "        - CHAS     Charles River dummy variable (= 1 if tract bounds river; 0 otherwise)\n",
      "        - NOX      nitric oxides concentration (parts per 10 million)\n",
      "        - RM       average number of rooms per dwelling\n",
      "        - AGE      proportion of owner-occupied units built prior to 1940\n",
      "        - DIS      weighted distances to five Boston employment centres\n",
      "        - RAD      index of accessibility to radial highways\n",
      "        - TAX      full-value property-tax rate per $10,000\n",
      "        - PTRATIO  pupil-teacher ratio by town\n",
      "        - B        1000(Bk - 0.63)^2 where Bk is the proportion of blacks by town\n",
      "        - LSTAT    % lower status of the population\n",
      "        - MEDV     Median value of owner-occupied homes in $1000's\n",
      "\n",
      "    :Missing Attribute Values: None\n",
      "\n"
     ]
    },
    {
     "data": {
      "text/html": [
       "<div>\n",
       "<style scoped>\n",
       "    .dataframe tbody tr th:only-of-type {\n",
       "        vertical-align: middle;\n",
       "    }\n",
       "\n",
       "    .dataframe tbody tr th {\n",
       "        vertical-align: top;\n",
       "    }\n",
       "\n",
       "    .dataframe thead th {\n",
       "        text-align: right;\n",
       "    }\n",
       "</style>\n",
       "<table border=\"1\" class=\"dataframe\">\n",
       "  <thead>\n",
       "    <tr style=\"text-align: right;\">\n",
       "      <th></th>\n",
       "      <th>CRIM</th>\n",
       "      <th>ZN</th>\n",
       "      <th>INDUS</th>\n",
       "      <th>CHAS</th>\n",
       "      <th>NOX</th>\n",
       "      <th>RM</th>\n",
       "      <th>AGE</th>\n",
       "      <th>DIS</th>\n",
       "      <th>RAD</th>\n",
       "      <th>TAX</th>\n",
       "      <th>PTRATIO</th>\n",
       "      <th>B</th>\n",
       "      <th>LSTAT</th>\n",
       "      <th>Price</th>\n",
       "    </tr>\n",
       "  </thead>\n",
       "  <tbody>\n",
       "    <tr>\n",
       "      <th>0</th>\n",
       "      <td>0.00632</td>\n",
       "      <td>18.0</td>\n",
       "      <td>2.31</td>\n",
       "      <td>0.0</td>\n",
       "      <td>0.538</td>\n",
       "      <td>6.575</td>\n",
       "      <td>65.2</td>\n",
       "      <td>4.0900</td>\n",
       "      <td>1.0</td>\n",
       "      <td>296.0</td>\n",
       "      <td>15.3</td>\n",
       "      <td>396.90</td>\n",
       "      <td>4.98</td>\n",
       "      <td>24.0</td>\n",
       "    </tr>\n",
       "    <tr>\n",
       "      <th>1</th>\n",
       "      <td>0.02731</td>\n",
       "      <td>0.0</td>\n",
       "      <td>7.07</td>\n",
       "      <td>0.0</td>\n",
       "      <td>0.469</td>\n",
       "      <td>6.421</td>\n",
       "      <td>78.9</td>\n",
       "      <td>4.9671</td>\n",
       "      <td>2.0</td>\n",
       "      <td>242.0</td>\n",
       "      <td>17.8</td>\n",
       "      <td>396.90</td>\n",
       "      <td>9.14</td>\n",
       "      <td>21.6</td>\n",
       "    </tr>\n",
       "    <tr>\n",
       "      <th>2</th>\n",
       "      <td>0.02729</td>\n",
       "      <td>0.0</td>\n",
       "      <td>7.07</td>\n",
       "      <td>0.0</td>\n",
       "      <td>0.469</td>\n",
       "      <td>7.185</td>\n",
       "      <td>61.1</td>\n",
       "      <td>4.9671</td>\n",
       "      <td>2.0</td>\n",
       "      <td>242.0</td>\n",
       "      <td>17.8</td>\n",
       "      <td>392.83</td>\n",
       "      <td>4.03</td>\n",
       "      <td>34.7</td>\n",
       "    </tr>\n",
       "    <tr>\n",
       "      <th>3</th>\n",
       "      <td>0.03237</td>\n",
       "      <td>0.0</td>\n",
       "      <td>2.18</td>\n",
       "      <td>0.0</td>\n",
       "      <td>0.458</td>\n",
       "      <td>6.998</td>\n",
       "      <td>45.8</td>\n",
       "      <td>6.0622</td>\n",
       "      <td>3.0</td>\n",
       "      <td>222.0</td>\n",
       "      <td>18.7</td>\n",
       "      <td>394.63</td>\n",
       "      <td>2.94</td>\n",
       "      <td>33.4</td>\n",
       "    </tr>\n",
       "    <tr>\n",
       "      <th>4</th>\n",
       "      <td>0.06905</td>\n",
       "      <td>0.0</td>\n",
       "      <td>2.18</td>\n",
       "      <td>0.0</td>\n",
       "      <td>0.458</td>\n",
       "      <td>7.147</td>\n",
       "      <td>54.2</td>\n",
       "      <td>6.0622</td>\n",
       "      <td>3.0</td>\n",
       "      <td>222.0</td>\n",
       "      <td>18.7</td>\n",
       "      <td>396.90</td>\n",
       "      <td>5.33</td>\n",
       "      <td>36.2</td>\n",
       "    </tr>\n",
       "  </tbody>\n",
       "</table>\n",
       "</div>"
      ],
      "text/plain": [
       "      CRIM    ZN  INDUS  CHAS    NOX     RM   AGE     DIS  RAD    TAX  \\\n",
       "0  0.00632  18.0   2.31   0.0  0.538  6.575  65.2  4.0900  1.0  296.0   \n",
       "1  0.02731   0.0   7.07   0.0  0.469  6.421  78.9  4.9671  2.0  242.0   \n",
       "2  0.02729   0.0   7.07   0.0  0.469  7.185  61.1  4.9671  2.0  242.0   \n",
       "3  0.03237   0.0   2.18   0.0  0.458  6.998  45.8  6.0622  3.0  222.0   \n",
       "4  0.06905   0.0   2.18   0.0  0.458  7.147  54.2  6.0622  3.0  222.0   \n",
       "\n",
       "   PTRATIO       B  LSTAT  Price  \n",
       "0     15.3  396.90   4.98   24.0  \n",
       "1     17.8  396.90   9.14   21.6  \n",
       "2     17.8  392.83   4.03   34.7  \n",
       "3     18.7  394.63   2.94   33.4  \n",
       "4     18.7  396.90   5.33   36.2  "
      ]
     },
     "execution_count": 4,
     "metadata": {},
     "output_type": "execute_result"
    }
   ],
   "source": [
    "# Датасет boston_housing для решения задачи РЕГРЕССИИ\n",
    "\n",
    "from sklearn.datasets import load_boston\n",
    "\n",
    "boston = load_boston()\n",
    "\n",
    "for line in boston.DESCR.split(\"\\n\")[5:29]:\n",
    "    print(line)\n",
    "\n",
    "boston_df = pd.DataFrame(data=boston.data, columns = boston.feature_names)\n",
    "boston_df[\"Price\"] = boston.target\n",
    "\n",
    "boston_df.head()"
   ]
  },
  {
   "cell_type": "code",
   "execution_count": 5,
   "id": "f2c1f14c",
   "metadata": {},
   "outputs": [
    {
     "name": "stdout",
     "output_type": "stream",
     "text": [
      "**Data Set Characteristics:**\n",
      "\n",
      "    :Number of Instances: 569\n",
      "\n",
      "    :Number of Attributes: 30 numeric, predictive attributes and the class\n",
      "\n",
      "    :Attribute Information:\n",
      "        - radius (mean of distances from center to points on the perimeter)\n",
      "        - texture (standard deviation of gray-scale values)\n",
      "        - perimeter\n",
      "        - area\n",
      "        - smoothness (local variation in radius lengths)\n",
      "        - compactness (perimeter^2 / area - 1.0)\n",
      "        - concavity (severity of concave portions of the contour)\n",
      "        - concave points (number of concave portions of the contour)\n",
      "        - symmetry \n",
      "        - fractal dimension (\"coastline approximation\" - 1)\n",
      "\n",
      "        The mean, standard error, and \"worst\" or largest (mean of the three\n",
      "        largest values) of these features were computed for each image,\n",
      "        resulting in 30 features.  For instance, field 3 is Mean Radius, field\n",
      "        13 is Radius SE, field 23 is Worst Radius.\n",
      "\n",
      "        - class:\n",
      "                - WDBC-Malignant\n",
      "                - WDBC-Benign\n"
     ]
    },
    {
     "data": {
      "text/html": [
       "<div>\n",
       "<style scoped>\n",
       "    .dataframe tbody tr th:only-of-type {\n",
       "        vertical-align: middle;\n",
       "    }\n",
       "\n",
       "    .dataframe tbody tr th {\n",
       "        vertical-align: top;\n",
       "    }\n",
       "\n",
       "    .dataframe thead th {\n",
       "        text-align: right;\n",
       "    }\n",
       "</style>\n",
       "<table border=\"1\" class=\"dataframe\">\n",
       "  <thead>\n",
       "    <tr style=\"text-align: right;\">\n",
       "      <th></th>\n",
       "      <th>mean radius</th>\n",
       "      <th>mean texture</th>\n",
       "      <th>mean perimeter</th>\n",
       "      <th>mean area</th>\n",
       "      <th>mean smoothness</th>\n",
       "      <th>mean compactness</th>\n",
       "      <th>mean concavity</th>\n",
       "      <th>mean concave points</th>\n",
       "      <th>mean symmetry</th>\n",
       "      <th>mean fractal dimension</th>\n",
       "      <th>...</th>\n",
       "      <th>worst texture</th>\n",
       "      <th>worst perimeter</th>\n",
       "      <th>worst area</th>\n",
       "      <th>worst smoothness</th>\n",
       "      <th>worst compactness</th>\n",
       "      <th>worst concavity</th>\n",
       "      <th>worst concave points</th>\n",
       "      <th>worst symmetry</th>\n",
       "      <th>worst fractal dimension</th>\n",
       "      <th>TumorType</th>\n",
       "    </tr>\n",
       "  </thead>\n",
       "  <tbody>\n",
       "    <tr>\n",
       "      <th>0</th>\n",
       "      <td>17.99</td>\n",
       "      <td>10.38</td>\n",
       "      <td>122.80</td>\n",
       "      <td>1001.0</td>\n",
       "      <td>0.11840</td>\n",
       "      <td>0.27760</td>\n",
       "      <td>0.3001</td>\n",
       "      <td>0.14710</td>\n",
       "      <td>0.2419</td>\n",
       "      <td>0.07871</td>\n",
       "      <td>...</td>\n",
       "      <td>17.33</td>\n",
       "      <td>184.60</td>\n",
       "      <td>2019.0</td>\n",
       "      <td>0.1622</td>\n",
       "      <td>0.6656</td>\n",
       "      <td>0.7119</td>\n",
       "      <td>0.2654</td>\n",
       "      <td>0.4601</td>\n",
       "      <td>0.11890</td>\n",
       "      <td>0</td>\n",
       "    </tr>\n",
       "    <tr>\n",
       "      <th>1</th>\n",
       "      <td>20.57</td>\n",
       "      <td>17.77</td>\n",
       "      <td>132.90</td>\n",
       "      <td>1326.0</td>\n",
       "      <td>0.08474</td>\n",
       "      <td>0.07864</td>\n",
       "      <td>0.0869</td>\n",
       "      <td>0.07017</td>\n",
       "      <td>0.1812</td>\n",
       "      <td>0.05667</td>\n",
       "      <td>...</td>\n",
       "      <td>23.41</td>\n",
       "      <td>158.80</td>\n",
       "      <td>1956.0</td>\n",
       "      <td>0.1238</td>\n",
       "      <td>0.1866</td>\n",
       "      <td>0.2416</td>\n",
       "      <td>0.1860</td>\n",
       "      <td>0.2750</td>\n",
       "      <td>0.08902</td>\n",
       "      <td>0</td>\n",
       "    </tr>\n",
       "    <tr>\n",
       "      <th>2</th>\n",
       "      <td>19.69</td>\n",
       "      <td>21.25</td>\n",
       "      <td>130.00</td>\n",
       "      <td>1203.0</td>\n",
       "      <td>0.10960</td>\n",
       "      <td>0.15990</td>\n",
       "      <td>0.1974</td>\n",
       "      <td>0.12790</td>\n",
       "      <td>0.2069</td>\n",
       "      <td>0.05999</td>\n",
       "      <td>...</td>\n",
       "      <td>25.53</td>\n",
       "      <td>152.50</td>\n",
       "      <td>1709.0</td>\n",
       "      <td>0.1444</td>\n",
       "      <td>0.4245</td>\n",
       "      <td>0.4504</td>\n",
       "      <td>0.2430</td>\n",
       "      <td>0.3613</td>\n",
       "      <td>0.08758</td>\n",
       "      <td>0</td>\n",
       "    </tr>\n",
       "    <tr>\n",
       "      <th>3</th>\n",
       "      <td>11.42</td>\n",
       "      <td>20.38</td>\n",
       "      <td>77.58</td>\n",
       "      <td>386.1</td>\n",
       "      <td>0.14250</td>\n",
       "      <td>0.28390</td>\n",
       "      <td>0.2414</td>\n",
       "      <td>0.10520</td>\n",
       "      <td>0.2597</td>\n",
       "      <td>0.09744</td>\n",
       "      <td>...</td>\n",
       "      <td>26.50</td>\n",
       "      <td>98.87</td>\n",
       "      <td>567.7</td>\n",
       "      <td>0.2098</td>\n",
       "      <td>0.8663</td>\n",
       "      <td>0.6869</td>\n",
       "      <td>0.2575</td>\n",
       "      <td>0.6638</td>\n",
       "      <td>0.17300</td>\n",
       "      <td>0</td>\n",
       "    </tr>\n",
       "    <tr>\n",
       "      <th>4</th>\n",
       "      <td>20.29</td>\n",
       "      <td>14.34</td>\n",
       "      <td>135.10</td>\n",
       "      <td>1297.0</td>\n",
       "      <td>0.10030</td>\n",
       "      <td>0.13280</td>\n",
       "      <td>0.1980</td>\n",
       "      <td>0.10430</td>\n",
       "      <td>0.1809</td>\n",
       "      <td>0.05883</td>\n",
       "      <td>...</td>\n",
       "      <td>16.67</td>\n",
       "      <td>152.20</td>\n",
       "      <td>1575.0</td>\n",
       "      <td>0.1374</td>\n",
       "      <td>0.2050</td>\n",
       "      <td>0.4000</td>\n",
       "      <td>0.1625</td>\n",
       "      <td>0.2364</td>\n",
       "      <td>0.07678</td>\n",
       "      <td>0</td>\n",
       "    </tr>\n",
       "  </tbody>\n",
       "</table>\n",
       "<p>5 rows × 31 columns</p>\n",
       "</div>"
      ],
      "text/plain": [
       "   mean radius  mean texture  mean perimeter  mean area  mean smoothness  \\\n",
       "0        17.99         10.38          122.80     1001.0          0.11840   \n",
       "1        20.57         17.77          132.90     1326.0          0.08474   \n",
       "2        19.69         21.25          130.00     1203.0          0.10960   \n",
       "3        11.42         20.38           77.58      386.1          0.14250   \n",
       "4        20.29         14.34          135.10     1297.0          0.10030   \n",
       "\n",
       "   mean compactness  mean concavity  mean concave points  mean symmetry  \\\n",
       "0           0.27760          0.3001              0.14710         0.2419   \n",
       "1           0.07864          0.0869              0.07017         0.1812   \n",
       "2           0.15990          0.1974              0.12790         0.2069   \n",
       "3           0.28390          0.2414              0.10520         0.2597   \n",
       "4           0.13280          0.1980              0.10430         0.1809   \n",
       "\n",
       "   mean fractal dimension  ...  worst texture  worst perimeter  worst area  \\\n",
       "0                 0.07871  ...          17.33           184.60      2019.0   \n",
       "1                 0.05667  ...          23.41           158.80      1956.0   \n",
       "2                 0.05999  ...          25.53           152.50      1709.0   \n",
       "3                 0.09744  ...          26.50            98.87       567.7   \n",
       "4                 0.05883  ...          16.67           152.20      1575.0   \n",
       "\n",
       "   worst smoothness  worst compactness  worst concavity  worst concave points  \\\n",
       "0            0.1622             0.6656           0.7119                0.2654   \n",
       "1            0.1238             0.1866           0.2416                0.1860   \n",
       "2            0.1444             0.4245           0.4504                0.2430   \n",
       "3            0.2098             0.8663           0.6869                0.2575   \n",
       "4            0.1374             0.2050           0.4000                0.1625   \n",
       "\n",
       "   worst symmetry  worst fractal dimension  TumorType  \n",
       "0          0.4601                  0.11890          0  \n",
       "1          0.2750                  0.08902          0  \n",
       "2          0.3613                  0.08758          0  \n",
       "3          0.6638                  0.17300          0  \n",
       "4          0.2364                  0.07678          0  \n",
       "\n",
       "[5 rows x 31 columns]"
      ]
     },
     "execution_count": 5,
     "metadata": {},
     "output_type": "execute_result"
    }
   ],
   "source": [
    "# Датасет Breast Cancer для БИНАРНОЙ классификации\n",
    "\n",
    "from sklearn.datasets import load_breast_cancer\n",
    "\n",
    "breast_cancer = load_breast_cancer()\n",
    "\n",
    "for line in breast_cancer.DESCR.split(\"\\n\")[5:31]:\n",
    "    print(line)\n",
    "\n",
    "breast_cancer_df = pd.DataFrame(data=breast_cancer.data, columns = breast_cancer.feature_names)\n",
    "breast_cancer_df[\"TumorType\"] = breast_cancer.target\n",
    "\n",
    "breast_cancer_df.head()"
   ]
  },
  {
   "cell_type": "code",
   "execution_count": 6,
   "id": "db029415",
   "metadata": {},
   "outputs": [
    {
     "name": "stdout",
     "output_type": "stream",
     "text": [
      "**Data Set Characteristics:**\n",
      "\n",
      "    :Number of Instances: 178 (50 in each of three classes)\n",
      "    :Number of Attributes: 13 numeric, predictive attributes and the class\n",
      "    :Attribute Information:\n",
      " \t\t- Alcohol\n",
      " \t\t- Malic acid\n",
      " \t\t- Ash\n",
      "\t\t- Alcalinity of ash  \n",
      " \t\t- Magnesium\n",
      "\t\t- Total phenols\n",
      " \t\t- Flavanoids\n",
      " \t\t- Nonflavanoid phenols\n",
      " \t\t- Proanthocyanins\n",
      "\t\t- Color intensity\n",
      " \t\t- Hue\n",
      " \t\t- OD280/OD315 of diluted wines\n",
      " \t\t- Proline\n",
      "\n",
      "    - class:\n",
      "            - class_0\n",
      "            - class_1\n",
      "            - class_2\n",
      "\t\t\n"
     ]
    },
    {
     "data": {
      "text/html": [
       "<div>\n",
       "<style scoped>\n",
       "    .dataframe tbody tr th:only-of-type {\n",
       "        vertical-align: middle;\n",
       "    }\n",
       "\n",
       "    .dataframe tbody tr th {\n",
       "        vertical-align: top;\n",
       "    }\n",
       "\n",
       "    .dataframe thead th {\n",
       "        text-align: right;\n",
       "    }\n",
       "</style>\n",
       "<table border=\"1\" class=\"dataframe\">\n",
       "  <thead>\n",
       "    <tr style=\"text-align: right;\">\n",
       "      <th></th>\n",
       "      <th>alcohol</th>\n",
       "      <th>malic_acid</th>\n",
       "      <th>ash</th>\n",
       "      <th>alcalinity_of_ash</th>\n",
       "      <th>magnesium</th>\n",
       "      <th>total_phenols</th>\n",
       "      <th>flavanoids</th>\n",
       "      <th>nonflavanoid_phenols</th>\n",
       "      <th>proanthocyanins</th>\n",
       "      <th>color_intensity</th>\n",
       "      <th>hue</th>\n",
       "      <th>od280/od315_of_diluted_wines</th>\n",
       "      <th>proline</th>\n",
       "      <th>WineType</th>\n",
       "    </tr>\n",
       "  </thead>\n",
       "  <tbody>\n",
       "    <tr>\n",
       "      <th>0</th>\n",
       "      <td>14.23</td>\n",
       "      <td>1.71</td>\n",
       "      <td>2.43</td>\n",
       "      <td>15.6</td>\n",
       "      <td>127.0</td>\n",
       "      <td>2.80</td>\n",
       "      <td>3.06</td>\n",
       "      <td>0.28</td>\n",
       "      <td>2.29</td>\n",
       "      <td>5.64</td>\n",
       "      <td>1.04</td>\n",
       "      <td>3.92</td>\n",
       "      <td>1065.0</td>\n",
       "      <td>0</td>\n",
       "    </tr>\n",
       "    <tr>\n",
       "      <th>1</th>\n",
       "      <td>13.20</td>\n",
       "      <td>1.78</td>\n",
       "      <td>2.14</td>\n",
       "      <td>11.2</td>\n",
       "      <td>100.0</td>\n",
       "      <td>2.65</td>\n",
       "      <td>2.76</td>\n",
       "      <td>0.26</td>\n",
       "      <td>1.28</td>\n",
       "      <td>4.38</td>\n",
       "      <td>1.05</td>\n",
       "      <td>3.40</td>\n",
       "      <td>1050.0</td>\n",
       "      <td>0</td>\n",
       "    </tr>\n",
       "    <tr>\n",
       "      <th>2</th>\n",
       "      <td>13.16</td>\n",
       "      <td>2.36</td>\n",
       "      <td>2.67</td>\n",
       "      <td>18.6</td>\n",
       "      <td>101.0</td>\n",
       "      <td>2.80</td>\n",
       "      <td>3.24</td>\n",
       "      <td>0.30</td>\n",
       "      <td>2.81</td>\n",
       "      <td>5.68</td>\n",
       "      <td>1.03</td>\n",
       "      <td>3.17</td>\n",
       "      <td>1185.0</td>\n",
       "      <td>0</td>\n",
       "    </tr>\n",
       "    <tr>\n",
       "      <th>3</th>\n",
       "      <td>14.37</td>\n",
       "      <td>1.95</td>\n",
       "      <td>2.50</td>\n",
       "      <td>16.8</td>\n",
       "      <td>113.0</td>\n",
       "      <td>3.85</td>\n",
       "      <td>3.49</td>\n",
       "      <td>0.24</td>\n",
       "      <td>2.18</td>\n",
       "      <td>7.80</td>\n",
       "      <td>0.86</td>\n",
       "      <td>3.45</td>\n",
       "      <td>1480.0</td>\n",
       "      <td>0</td>\n",
       "    </tr>\n",
       "    <tr>\n",
       "      <th>4</th>\n",
       "      <td>13.24</td>\n",
       "      <td>2.59</td>\n",
       "      <td>2.87</td>\n",
       "      <td>21.0</td>\n",
       "      <td>118.0</td>\n",
       "      <td>2.80</td>\n",
       "      <td>2.69</td>\n",
       "      <td>0.39</td>\n",
       "      <td>1.82</td>\n",
       "      <td>4.32</td>\n",
       "      <td>1.04</td>\n",
       "      <td>2.93</td>\n",
       "      <td>735.0</td>\n",
       "      <td>0</td>\n",
       "    </tr>\n",
       "  </tbody>\n",
       "</table>\n",
       "</div>"
      ],
      "text/plain": [
       "   alcohol  malic_acid   ash  alcalinity_of_ash  magnesium  total_phenols  \\\n",
       "0    14.23        1.71  2.43               15.6      127.0           2.80   \n",
       "1    13.20        1.78  2.14               11.2      100.0           2.65   \n",
       "2    13.16        2.36  2.67               18.6      101.0           2.80   \n",
       "3    14.37        1.95  2.50               16.8      113.0           3.85   \n",
       "4    13.24        2.59  2.87               21.0      118.0           2.80   \n",
       "\n",
       "   flavanoids  nonflavanoid_phenols  proanthocyanins  color_intensity   hue  \\\n",
       "0        3.06                  0.28             2.29             5.64  1.04   \n",
       "1        2.76                  0.26             1.28             4.38  1.05   \n",
       "2        3.24                  0.30             2.81             5.68  1.03   \n",
       "3        3.49                  0.24             2.18             7.80  0.86   \n",
       "4        2.69                  0.39             1.82             4.32  1.04   \n",
       "\n",
       "   od280/od315_of_diluted_wines  proline  WineType  \n",
       "0                          3.92   1065.0         0  \n",
       "1                          3.40   1050.0         0  \n",
       "2                          3.17   1185.0         0  \n",
       "3                          3.45   1480.0         0  \n",
       "4                          2.93    735.0         0  "
      ]
     },
     "execution_count": 6,
     "metadata": {},
     "output_type": "execute_result"
    }
   ],
   "source": [
    "# Датасет Wine для задачи МУЛЬТИКЛАССОВОЙ классификации\n",
    "\n",
    "from sklearn.datasets import load_wine\n",
    "\n",
    "wine = load_wine()\n",
    "\n",
    "for line in wine.DESCR.split(\"\\n\")[5:29]:\n",
    "    print(line)\n",
    "\n",
    "wine_df = pd.DataFrame(data=wine.data, columns = wine.feature_names)\n",
    "wine_df[\"WineType\"] = wine.target\n",
    "\n",
    "wine_df.head()"
   ]
  },
  {
   "cell_type": "markdown",
   "id": "12907047",
   "metadata": {},
   "source": [
    "## Обучение модели линейной регрессии с бустингом"
   ]
  },
  {
   "cell_type": "code",
   "execution_count": 7,
   "id": "a1308819",
   "metadata": {},
   "outputs": [
    {
     "name": "stdout",
     "output_type": "stream",
     "text": [
      "Размеры Train/Test:  (379, 13) (127, 13) (379,) (127,)\n",
      "[LightGBM] [Warning] Auto-choosing row-wise multi-threading, the overhead of testing was 0.014956 seconds.\n",
      "You can set `force_row_wise=true` to remove the overhead.\n",
      "And if memory is not enough, you can set `force_col_wise=true`.\n",
      "[LightGBM] [Info] Total Bins 983\n",
      "[LightGBM] [Info] Number of data points in the train set: 379, number of used features: 13\n",
      "[LightGBM] [Info] Start training from score 22.877836\n",
      "[LightGBM] [Warning] No further splits with positive gain, best gain: -inf\n",
      "[1]\tvalid_0's l2: 63.6962\n",
      "[LightGBM] [Warning] No further splits with positive gain, best gain: -inf\n",
      "[2]\tvalid_0's l2: 54.9488\n",
      "[LightGBM] [Warning] No further splits with positive gain, best gain: -inf\n",
      "[3]\tvalid_0's l2: 47.9305\n",
      "[LightGBM] [Warning] No further splits with positive gain, best gain: -inf\n",
      "[4]\tvalid_0's l2: 42.3835\n",
      "[LightGBM] [Warning] No further splits with positive gain, best gain: -inf\n",
      "[5]\tvalid_0's l2: 37.5934\n",
      "[LightGBM] [Warning] No further splits with positive gain, best gain: -inf\n",
      "[6]\tvalid_0's l2: 33.9115\n",
      "[LightGBM] [Warning] No further splits with positive gain, best gain: -inf\n",
      "[7]\tvalid_0's l2: 30.5452\n",
      "[LightGBM] [Warning] No further splits with positive gain, best gain: -inf\n",
      "[8]\tvalid_0's l2: 28.0801\n",
      "[LightGBM] [Warning] No further splits with positive gain, best gain: -inf\n",
      "[9]\tvalid_0's l2: 25.7444\n",
      "[LightGBM] [Warning] No further splits with positive gain, best gain: -inf\n",
      "[10]\tvalid_0's l2: 23.6762\n"
     ]
    }
   ],
   "source": [
    "# Создаем 10 деревьев\n",
    "# В качестве функции потерь используется l2\n",
    "# (по умолчанию lightgbm минимизирует потерю l2 для задачи регрессии)\n",
    "\n",
    "from sklearn.model_selection import train_test_split\n",
    "\n",
    "X_train, X_test, Y_train, Y_test = train_test_split(boston.data, boston.target)\n",
    "\n",
    "print(\"Размеры Train/Test: \", X_train.shape, X_test.shape, Y_train.shape, Y_test.shape)\n",
    "\n",
    "train_dataset = lgb.Dataset(X_train, Y_train, feature_name=boston.feature_names.tolist())\n",
    "test_dataset = lgb.Dataset(X_test, Y_test, feature_name=boston.feature_names.tolist())\n",
    "\n",
    "booster = lgb.train({\"objective\": \"regression\"},\n",
    "                    train_set=train_dataset, valid_sets=(test_dataset,),\n",
    "                    num_boost_round=10)"
   ]
  },
  {
   "cell_type": "code",
   "execution_count": 8,
   "id": "cd2dfa13",
   "metadata": {},
   "outputs": [
    {
     "name": "stdout",
     "output_type": "stream",
     "text": [
      "Test  R2 Score : 0.67\n",
      "Train R2 Score : 0.76\n"
     ]
    }
   ],
   "source": [
    "from sklearn.metrics import r2_score\n",
    "\n",
    "test_preds = booster.predict(X_test)\n",
    "train_preds = booster.predict(X_train)\n",
    "\n",
    "print(\"Test  R2 Score : %.2f\"%r2_score(Y_test, test_preds))\n",
    "print(\"Train R2 Score : %.2f\"%r2_score(Y_train, train_preds))"
   ]
  },
  {
   "cell_type": "markdown",
   "id": "521de552",
   "metadata": {},
   "source": [
    "### Изучаем предсказания + важность параметров"
   ]
  },
  {
   "cell_type": "markdown",
   "id": "1eaada44",
   "metadata": {},
   "source": [
    "Параметры, которые можно передать в booster.predict():\n",
    "\n",
    "raw_score — это логический параметр, при котором, если он установлен в True, результатом выполнения будут необработанные прогнозы. Для задач регрессии это не имеет никакого значения, но при классификации predict вернет значения функции, а не вероятности.\n",
    "\n",
    "pred_leaf — этот параметр принимает логические значения. Если задано True, то будет возвращаться индекс листа каждого дерева, который был спрогнозирован для конкретного семпла. Размер вывода будет n_samples x n_trees.\n",
    "\n",
    "pred_contrib — возвращает массив показателей для каждого наблюдения. Результатом будет являться массив размера (n_features + 1) для каждого семпла, где последнее значение является ожидаемым значением, а первые n_features являются вкладом показателей в этот прогноз. Мы можем добавить вклад каждого показателя к последнему ожидаемому значению и получить фактический прогноз. Обычно такие значения называют SHAP."
   ]
  },
  {
   "cell_type": "code",
   "execution_count": 9,
   "id": "64819508",
   "metadata": {},
   "outputs": [
    {
     "name": "stdout",
     "output_type": "stream",
     "text": [
      "Размерность:  (127, 10)\n"
     ]
    },
    {
     "data": {
      "text/plain": [
       "array([[13, 12,  4, ...,  6,  1,  6],\n",
       "       [15, 15, 14, ..., 13,  6, 14],\n",
       "       [ 4,  4, 12, ..., 12,  1, 10],\n",
       "       ...,\n",
       "       [ 6,  6,  6, ...,  4,  4,  5],\n",
       "       [10, 10,  2, ...,  5,  9, 14],\n",
       "       [ 2,  2,  2, ...,  2,  2,  3]], dtype=int32)"
      ]
     },
     "execution_count": 9,
     "metadata": {},
     "output_type": "execute_result"
    }
   ],
   "source": [
    "idxs = booster.predict(X_test, pred_leaf=True)\n",
    "\n",
    "print(\"Размерность: \", idxs.shape)\n",
    "\n",
    "idxs"
   ]
  },
  {
   "cell_type": "code",
   "execution_count": 10,
   "id": "a8326636",
   "metadata": {},
   "outputs": [
    {
     "name": "stdout",
     "output_type": "stream",
     "text": [
      "Размерность:  (127, 14)\n",
      "\n",
      "Значения Shap для нулевого семпла:  [ 0.03411909  0.         -0.09411227  0.          0.23168974 -1.58598204\n",
      "  0.02683302 -0.02883977 -0.24755575 -0.10835765  0.47391561  0.13381518\n",
      " -0.41855202 22.87783647]\n",
      "\n",
      "Предсказания с использованием значений SHAP:  21.29480960320953\n",
      "Предсказания без SHAP:  21.29480960320953\n"
     ]
    }
   ],
   "source": [
    "shap_vals = booster.predict(X_test, pred_contrib=True)\n",
    "\n",
    "print(\"Размерность: \", shap_vals.shape)\n",
    "\n",
    "print(\"\\nЗначения Shap для нулевого семпла: \", shap_vals[0])\n",
    "print(\"\\nПредсказания с использованием значений SHAP: \", shap_vals[0].sum())\n",
    "print(\"Предсказания без SHAP: \", test_preds[0])"
   ]
  },
  {
   "cell_type": "code",
   "execution_count": 11,
   "id": "fb477dce",
   "metadata": {},
   "outputs": [
    {
     "data": {
      "text/plain": [
       "10"
      ]
     },
     "execution_count": 11,
     "metadata": {},
     "output_type": "execute_result"
    }
   ],
   "source": [
    "# Кол-во деревьев бустинга\n",
    "booster.num_trees()"
   ]
  },
  {
   "cell_type": "code",
   "execution_count": 13,
   "id": "ef086154",
   "metadata": {},
   "outputs": [
    {
     "data": {
      "text/plain": [
       "(array([  971.16069794,     0.        ,   576.52338791,     0.        ,\n",
       "         2375.9596138 , 66732.33864212,   509.78182697,  1508.20930481,\n",
       "         1165.06179047,  1243.87712288,  2003.18970299,   451.41620636,\n",
       "        55541.50243187]),\n",
       " array([10,  0,  6,  0, 11, 27,  8,  6,  5,  9, 10,  5, 45], dtype=int32))"
      ]
     },
     "execution_count": 13,
     "metadata": {},
     "output_type": "execute_result"
    }
   ],
   "source": [
    "# важность признаков на основе значений выигрыша - importance_type=\"gain\"\n",
    "# важность признаков на основе значений разделения - importance_type=\"split\"\n",
    "booster.feature_importance(importance_type=\"gain\"), booster.feature_importance(importance_type=\"split\")"
   ]
  },
  {
   "cell_type": "markdown",
   "id": "80f03375",
   "metadata": {},
   "source": [
    "## Бинарная классификация"
   ]
  },
  {
   "cell_type": "code",
   "execution_count": 14,
   "id": "9b19dfae",
   "metadata": {},
   "outputs": [
    {
     "name": "stdout",
     "output_type": "stream",
     "text": [
      "Размеры Train/Test:  (426, 30) (143, 30) (426,) (143,)\n",
      "[1]\tvalid_0's binary_logloss: 0.588043\n",
      "[2]\tvalid_0's binary_logloss: 0.525273\n",
      "[3]\tvalid_0's binary_logloss: 0.471976\n",
      "[4]\tvalid_0's binary_logloss: 0.428868\n",
      "[5]\tvalid_0's binary_logloss: 0.389895\n",
      "[6]\tvalid_0's binary_logloss: 0.3568\n",
      "[7]\tvalid_0's binary_logloss: 0.327469\n",
      "[8]\tvalid_0's binary_logloss: 0.302014\n",
      "[9]\tvalid_0's binary_logloss: 0.28165\n",
      "[10]\tvalid_0's binary_logloss: 0.261689\n",
      "Test Accuracy: 0.95\n",
      "Train Accuracy: 0.97\n"
     ]
    }
   ],
   "source": [
    "# \"objective\": \"binary\" - бинарная классификация\n",
    "# verbosity -1, чтобы предотвратить вывод сообщений во время обучения.\n",
    "\n",
    "# Мы можем добавить параметр metric в словарь, который передается методу train(),\n",
    "# с названиями любых метрик, доступных в lightgbm\n",
    "\n",
    "#По умолчанию при решении задач бинарной классификации LightGBM использует\n",
    "# для оценки бинарную логистическую функцию потери на проверочной выборке.\n",
    "\n",
    "X_train, X_test, Y_train, Y_test = train_test_split(breast_cancer.data, breast_cancer.target)\n",
    "\n",
    "print(\"Размеры Train/Test: \", X_train.shape, X_test.shape, Y_train.shape, Y_test.shape)\n",
    "\n",
    "train_dataset = lgb.Dataset(X_train, Y_train, feature_name=breast_cancer.feature_names.tolist())\n",
    "test_dataset = lgb.Dataset(X_test, Y_test, feature_name=breast_cancer.feature_names.tolist())\n",
    "\n",
    "\n",
    "booster = lgb.train({\"objective\": \"binary\", \"verbosity\": -1},\n",
    "                    train_set=train_dataset, valid_sets=(test_dataset,),\n",
    "                    num_boost_round=10)\n",
    "\n",
    "from sklearn.metrics import accuracy_score\n",
    "\n",
    "\n",
    "test_preds = booster.predict(X_test)\n",
    "train_preds = booster.predict(X_train)\n",
    "\n",
    "# Изначально возвращаются вероятности, которые надо преоразовать в целевой класс\n",
    "test_preds = [1 if pred > 0.5 else 0 for pred in test_preds]\n",
    "train_preds = [1 if pred > 0.5 else 0 for pred in train_preds]\n",
    "\n",
    "print(\"Test Accuracy: %.2f\"%accuracy_score(Y_test, test_preds))\n",
    "print(\"Train Accuracy: %.2f\"%accuracy_score(Y_train, train_preds))"
   ]
  },
  {
   "cell_type": "markdown",
   "id": "fa6a080c",
   "metadata": {},
   "source": [
    "## Мультиклассовая классификация"
   ]
  },
  {
   "cell_type": "code",
   "execution_count": 15,
   "id": "0d57068e",
   "metadata": {},
   "outputs": [
    {
     "name": "stdout",
     "output_type": "stream",
     "text": [
      "Размеры Train/Test:  (133, 13) (45, 13) (133,) (45,)\n",
      "[1]\tvalid_0's multi_logloss: 0.95201\n",
      "[2]\tvalid_0's multi_logloss: 0.841977\n",
      "[3]\tvalid_0's multi_logloss: 0.757642\n",
      "[4]\tvalid_0's multi_logloss: 0.686874\n",
      "[5]\tvalid_0's multi_logloss: 0.627052\n",
      "[6]\tvalid_0's multi_logloss: 0.574901\n",
      "[7]\tvalid_0's multi_logloss: 0.52574\n",
      "[8]\tvalid_0's multi_logloss: 0.486469\n",
      "[9]\tvalid_0's multi_logloss: 0.456461\n",
      "[10]\tvalid_0's multi_logloss: 0.42315\n",
      "\n",
      "Test Accuracy: 0.96\n",
      "Train Accuracy: 1.00\n"
     ]
    }
   ],
   "source": [
    "# \"objective\": \"multiclass\" - мультиклассовая классификация\n",
    "\n",
    "from sklearn.model_selection import train_test_split\n",
    "\n",
    "X_train, X_test, Y_train, Y_test = train_test_split(wine.data, wine.target)\n",
    "\n",
    "print(\"Размеры Train/Test: \", X_train.shape, X_test.shape, Y_train.shape, Y_test.shape)\n",
    "\n",
    "train_dataset = lgb.Dataset(X_train, Y_train, feature_name=wine.feature_names)\n",
    "test_dataset = lgb.Dataset(X_test, Y_test, feature_name=wine.feature_names)\n",
    "\n",
    "\n",
    "booster = lgb.train({\"objective\": \"multiclass\", \"num_class\":3, \"verbosity\": -1},\n",
    "                    train_set=train_dataset, valid_sets=(test_dataset,),\n",
    "                    num_boost_round=10)\n",
    "\n",
    "from sklearn.metrics import accuracy_score\n",
    "\n",
    "# Метод predict() возвращает вероятности для каждого класса в случае мультиклассовых задач\n",
    "test_preds = booster.predict(X_test)\n",
    "train_preds = booster.predict(X_train)\n",
    "\n",
    "# Мы добавили логику для выбора класса с наибольшим значением вероятности в качестве фактического предсказания.\n",
    "test_preds = np.argmax(test_preds, axis=1)\n",
    "train_preds = np.argmax(train_preds, axis=1)\n",
    "\n",
    "print(\"\\nTest Accuracy: %.2f\"%accuracy_score(Y_test, test_preds))\n",
    "print(\"Train Accuracy: %.2f\"%accuracy_score(Y_train, train_preds))"
   ]
  },
  {
   "cell_type": "markdown",
   "id": "47633652",
   "metadata": {},
   "source": [
    "## Некоторые настройки LigthGBM"
   ]
  },
  {
   "cell_type": "markdown",
   "id": "839b8635",
   "metadata": {},
   "source": [
    "objective — этот параметр позволяет нам определить целевую функцию, используемую для текущей задачи.\n",
    "Его значением по умолчанию является regression.\n",
    "Ниже приведен список часто используемых значений этого параметра.\n",
    "\n",
    "    regression\n",
    "    regression_l1\n",
    "    tweedie\n",
    "    binary\n",
    "    multiclass\n",
    "    multiclassova\n",
    "    cross_entropy\n",
    "    \n",
    "Полный список:\n",
    "https://lightgbm.readthedocs.io/en/latest/Parameters.html#objective"
   ]
  },
  {
   "cell_type": "markdown",
   "id": "8a23d918",
   "metadata": {},
   "source": [
    "metric — данный параметр принимает метрики для расчета на оценочных наборах данных (в случае если эти выборки предоставлены как значение параметра eval_set/validation_sets). Мы можем предоставить более одной метрики, и все они будут посчитаны на проверочных датасетах. Ниже приведен список наиболее часто используемых значений этого параметра.\n",
    "\n",
    "    rmse\n",
    "    l2\n",
    "    l1\n",
    "    tweedie\n",
    "    binary_logloss\n",
    "    multi_logloss\n",
    "    auc\n",
    "    cross_entropy\n",
    "    \n",
    "Полный список:\n",
    "https://lightgbm.readthedocs.io/en/latest/Parameters.html#metric"
   ]
  },
  {
   "cell_type": "markdown",
   "id": "4ea16533",
   "metadata": {},
   "source": [
    "boosting — этот параметр принимает одну из нижеперечисленных строк, определяющих, какой алгоритм использовать.\n",
    "\n",
    "    gbdt — значение по умолчанию. Дерево решений с градиентным бустингом\n",
    "    rf — Случайный лес\n",
    "    dart — Dropout на множественных аддитивных регрессионных деревьях\n",
    "    goss — Односторонняя выборка на основе градиента\n",
    "\n",
    "num_iterations — данный параметр является псевдонимом для num_boost_round, который позволяет нам указать число деревьев в ансамбле для создания оценщика. По умолчанию 100.\n",
    "\n",
    "learning_rate — этот параметр используется для определения скорости обучения. По умолчанию 0.1.\n",
    "\n",
    "num_class — если мы работаем с задачей мультиклассовой классификации, то этот параметр должен содержать количество классов.\n",
    "\n",
    "num_leaves — данный параметр принимает целое число, определяющее максимальное количество листьев, разрешенное для каждого дерева. По умолчанию 31.\n",
    "\n",
    "num_threads — принимает целое число, указывающее количество потоков, используемых для обучения. Мы можем установить его равным числу ядер системы.\n",
    "\n",
    "seed — позволяет нам указать инициализирующее значение для процесса обучения, что предоставляет нам возможность повторно генерировать те же результаты.\n",
    "\n",
    "max_depth — этот параметр позволяет нам указать максимальную глубину, разрешенную для деревьев в ансамбле. По умолчанию -1, что позволяет деревьям расти как можно глубже. Мы можем ограничить это поведение, установив этот параметр.\n",
    "\n",
    "min_data_in_leaf — данный параметр принимает целочисленное значение, определяющее минимальное количество точек данных (семплов), которые могут храниться в одном листе дерева. Этот параметр можно использовать для контроля переобучения. Значение по умолчанию 20.\n",
    "\n",
    "bagging_fraction — этот параметр принимает значение с плавающей запятой от 0 до 1, которое позволяет указать, насколько большая часть данных будет случайно отбираться при обучении. Этот параметр может помочь предотвратить переобучение. По умолчанию 1.0.\n",
    "\n",
    "feature_fraction — данный параметр принимает значение с плавающей запятой от 0 до 1, которое информирует алгоритм о выборе этой доли показателей из общего числа для обучения на каждой итерации. По умолчанию 1.0, поэтому используются все показатели.\n",
    "\n",
    "extra_trees — этот параметр принимает логические значения, определяющие, следует ли использовать чрезвычайно рандомизированное дерево или нет.\n",
    "\n",
    "early_stopping_round — принимает целое число, указывающее, что мы должны остановить обучение, если оценочная метрика, рассчитанная на последнем проверочном датасете, не улучшается на протяжении определенного параметром числа итераций.\n",
    "\n",
    "monotone_constraints — этот параметр позволяет нам указать, должна ли наша модель обеспечивать увеличение, уменьшение или отсутствие связи отдельного показателя с целевым значением. Использование данного параметра объясняется в разделе «Монотонные ограничения».\n",
    "\n",
    "monotone_constraints_method — этот параметр принимает одну из нижеперечисленных строк, определяющих тип накладываемых монотонных ограничений.\n",
    "\n",
    "    basic — базовый метод монотонных ограничений, который может чрезмерно ограничивать модель.\n",
    "    intermediate — это более сложный метод ограничений, который немного менее ограничивает, чем базовый метод, но может занять больше времени.\n",
    "    advanced — это расширенный метод ограничений, который менее ограничивает, чем базовый и промежуточный методы, но может занять больше времени.\n",
    "\n",
    "interaction_constraints — этот параметр принимает список списков, в которых отдельные списки определяют индексы показателей, которым разрешено взаимодействовать друг с другом. Такое взаимодействие подробно объясняется в разделе «Ограничения взаимодействия показателей».\n",
    "\n",
    "verbosity — этот параметр принимает целочисленное значение для управления логированием сообщений при обучении.\n",
    "\n",
    "    < 0 — отображаются только фатальные ошибки.\n",
    "\n",
    "    0 — отображаются сообщения об ошибках/предупреждениях и перечисленные выше.\n",
    "    1 — отображаются информационные сообщения и перечисленные выше.\n",
    "    > 1 — отображается отладочная информация и перечисленные выше.\n",
    "\n",
    "is_unbalance — это логический параметр, который должен иметь значение True, если данные не сбалансированы. Его следует использовать с задачами бинарной и мультиклассовой классификации.\n",
    "\n",
    "device_type — принимает одну из следующих строк, определяющих тип используемого для обучения оборудования.\n",
    "\n",
    "    cpu\n",
    "    gpu\n",
    "    cuda\n",
    "\n",
    "force_col_wise — этот параметр принимает логическое значение, определяющее, следует ли принудительно строить гистограмму по столбцам при обучении. Если в данных слишком много столбцов, установка для этого параметра значения True повысит скорость процесса обучения за счет уменьшения использования памяти.\n",
    "\n",
    "force_row_wise — этот параметр принимает логическое значение, определяющее, следует ли принудительно строить гистограмму по строкам при обучении. Если в данных слишком много строк, установка для этого параметра значения True повысит скорость процесса обучения за счет уменьшения использования памяти.\n",
    "\n",
    "Полный список:\n",
    "https://lightgbm.readthedocs.io/en/latest/Parameters.html"
   ]
  },
  {
   "cell_type": "markdown",
   "id": "aff75fec",
   "metadata": {},
   "source": [
    "# LGBMModel"
   ]
  },
  {
   "cell_type": "markdown",
   "id": "9b67073c",
   "metadata": {},
   "source": [
    "Класс LGBMModel — это обертка для класса Booster, которая предоставляет подобный scikit-learn API для обучения и прогнозирования в lightgbm. Он позволяет нам создать объект оценщика со списком параметров в качестве входных данных. Затем мы можем вызвать метод fit() для обучения, передав ему тренировочные данные, и метод predict() для предсказания. "
   ]
  },
  {
   "cell_type": "markdown",
   "id": "b6d92520",
   "metadata": {},
   "source": [
    "## Регрессия"
   ]
  },
  {
   "cell_type": "code",
   "execution_count": 17,
   "id": "97884053",
   "metadata": {},
   "outputs": [
    {
     "name": "stdout",
     "output_type": "stream",
     "text": [
      "Размеры Train/Test Sizes:  (379, 13) (127, 13) (379,) (127,)\n",
      "[1]\tvalid_0's rmse: 6.95002\tvalid_0's l2: 48.3028\n",
      "[2]\tvalid_0's rmse: 6.45893\tvalid_0's l2: 41.7178\n",
      "[3]\tvalid_0's rmse: 6.04473\tvalid_0's l2: 36.5388\n",
      "[4]\tvalid_0's rmse: 5.65647\tvalid_0's l2: 31.9957\n",
      "[5]\tvalid_0's rmse: 5.32339\tvalid_0's l2: 28.3384\n",
      "[6]\tvalid_0's rmse: 5.03996\tvalid_0's l2: 25.4012\n",
      "[7]\tvalid_0's rmse: 4.78806\tvalid_0's l2: 22.9256\n",
      "[8]\tvalid_0's rmse: 4.56714\tvalid_0's l2: 20.8587\n",
      "[9]\tvalid_0's rmse: 4.40139\tvalid_0's l2: 19.3722\n",
      "[10]\tvalid_0's rmse: 4.25004\tvalid_0's l2: 18.0628\n",
      "\n",
      "Test  R2 Score: 0.68\n",
      "Train R2 Score: 0.75\n"
     ]
    }
   ],
   "source": [
    "from sklearn.model_selection import train_test_split\n",
    "\n",
    "X_train, X_test, Y_train, Y_test = train_test_split(boston.data, boston.target)\n",
    "\n",
    "print(\"Размеры Train/Test Sizes: \", X_train.shape, X_test.shape, Y_train.shape, Y_test.shape)\n",
    "\n",
    "booster = lgb.LGBMModel(objective=\"regression\", n_estimators=10)\n",
    "\n",
    "booster.fit(X_train, Y_train, eval_set=[(X_test, Y_test),], eval_metric=\"rmse\")\n",
    "\n",
    "from sklearn.metrics import r2_score\n",
    "\n",
    "test_preds = booster.predict(X_test)\n",
    "train_preds = booster.predict(X_train)\n",
    "\n",
    "print(\"\\nTest  R2 Score: %.2f\"%r2_score(Y_test, test_preds))\n",
    "print(\"Train R2 Score: %.2f\"%r2_score(Y_train, train_preds))"
   ]
  },
  {
   "cell_type": "markdown",
   "id": "fe98c16c",
   "metadata": {},
   "source": [
    "## Бинарная классификация"
   ]
  },
  {
   "cell_type": "code",
   "execution_count": 18,
   "id": "c622ab3a",
   "metadata": {},
   "outputs": [
    {
     "name": "stdout",
     "output_type": "stream",
     "text": [
      "Размеры Train/Test Sizes:  (426, 30) (143, 30) (426,) (143,)\n",
      "[1]\tvalid_0's binary_logloss: 0.559123\n",
      "[2]\tvalid_0's binary_logloss: 0.499562\n",
      "[3]\tvalid_0's binary_logloss: 0.446627\n",
      "[4]\tvalid_0's binary_logloss: 0.405819\n",
      "[5]\tvalid_0's binary_logloss: 0.370929\n",
      "[6]\tvalid_0's binary_logloss: 0.3405\n",
      "[7]\tvalid_0's binary_logloss: 0.314533\n",
      "[8]\tvalid_0's binary_logloss: 0.290689\n",
      "[9]\tvalid_0's binary_logloss: 0.269446\n",
      "[10]\tvalid_0's binary_logloss: 0.251264\n",
      "Test  Accuracy: 0.96\n",
      "Train Accuracy: 0.98\n"
     ]
    }
   ],
   "source": [
    "from sklearn.model_selection import train_test_split\n",
    "\n",
    "X_train, X_test, Y_train, Y_test = train_test_split(breast_cancer.data, breast_cancer.target)\n",
    "\n",
    "print(\"Размеры Train/Test Sizes: \", X_train.shape, X_test.shape, Y_train.shape, Y_test.shape)\n",
    "\n",
    "booster = lgb.LGBMModel(objective=\"binary\", n_estimators=10,)\n",
    "\n",
    "booster.fit(X_train, Y_train, eval_set=[(X_test, Y_test),])\n",
    "\n",
    "from sklearn.metrics import accuracy_score\n",
    "\n",
    "test_preds = booster.predict(X_test)\n",
    "train_preds = booster.predict(X_train)\n",
    "\n",
    "test_preds = [1 if pred > 0.5 else 0 for pred in test_preds]\n",
    "train_preds = [1 if pred > 0.5 else 0 for pred in train_preds]\n",
    "\n",
    "print(\"Test  Accuracy: %.2f\"%accuracy_score(Y_test, test_preds))\n",
    "print(\"Train Accuracy: %.2f\"%accuracy_score(Y_train, train_preds))"
   ]
  },
  {
   "cell_type": "markdown",
   "id": "e454a991",
   "metadata": {},
   "source": [
    "## LGBMRegressor"
   ]
  },
  {
   "cell_type": "markdown",
   "id": "d9a8a450",
   "metadata": {},
   "source": [
    "LGBMRegressor — еще одна обертка-оценщик вокруг класса Booster, предоставляемая lightgbm и имеющая тот же API, что и у оценщиков sklearn. Как следует из названия, он предназначен для задач регрессии.\n",
    "\n",
    "LGBMRegressor почти такой же, как LGBMModel, с той лишь разницей, что он предназначен только для задач регрессии"
   ]
  },
  {
   "cell_type": "code",
   "execution_count": 19,
   "id": "b4698a5b",
   "metadata": {},
   "outputs": [
    {
     "name": "stdout",
     "output_type": "stream",
     "text": [
      "Размеры Train/Test Sizes:  (379, 13) (127, 13) (379,) (127,)\n",
      "[1]\tvalid_0's rmse: 10.0409\tvalid_0's l2: 100.82\tvalid_0's l1: 7.29365\n",
      "[2]\tvalid_0's rmse: 9.37562\tvalid_0's l2: 87.9023\tvalid_0's l1: 6.77938\n",
      "[3]\tvalid_0's rmse: 8.7746\tvalid_0's l2: 76.9936\tvalid_0's l1: 6.2945\n",
      "[4]\tvalid_0's rmse: 8.27848\tvalid_0's l2: 68.5332\tvalid_0's l1: 5.89842\n",
      "[5]\tvalid_0's rmse: 7.82875\tvalid_0's l2: 61.2894\tvalid_0's l1: 5.52463\n",
      "[6]\tvalid_0's rmse: 7.43684\tvalid_0's l2: 55.3066\tvalid_0's l1: 5.21923\n",
      "[7]\tvalid_0's rmse: 7.05676\tvalid_0's l2: 49.7979\tvalid_0's l1: 4.91182\n",
      "[8]\tvalid_0's rmse: 6.70135\tvalid_0's l2: 44.908\tvalid_0's l1: 4.61443\n",
      "[9]\tvalid_0's rmse: 6.41984\tvalid_0's l2: 41.2143\tvalid_0's l1: 4.35352\n",
      "[10]\tvalid_0's rmse: 6.15083\tvalid_0's l2: 37.8328\tvalid_0's l1: 4.1248\n",
      "Test  R2 Score: 0.74\n",
      "Train R2 Score: 0.66\n"
     ]
    }
   ],
   "source": [
    "from sklearn.model_selection import train_test_split\n",
    "\n",
    "X_train, X_test, Y_train, Y_test = train_test_split(boston.data, boston.target)\n",
    "\n",
    "print(\"Размеры Train/Test Sizes: \", X_train.shape, X_test.shape, Y_train.shape, Y_test.shape)\n",
    "\n",
    "booster = lgb.LGBMRegressor(objective=\"regression_l2\", n_estimators=10,)\n",
    "\n",
    "booster.fit(X_train, Y_train, eval_set=[(X_test, Y_test),], eval_metric=[\"rmse\", \"l2\", \"l1\"])\n",
    "\n",
    "print(\"Test  R2 Score: %.2f\"%booster.score(X_train, Y_train))\n",
    "print(\"Train R2 Score: %.2f\"%booster.score(X_test, Y_test))"
   ]
  },
  {
   "cell_type": "markdown",
   "id": "30a5bc15",
   "metadata": {},
   "source": [
    "## LGBMClassifier"
   ]
  },
  {
   "cell_type": "markdown",
   "id": "b4859c18",
   "metadata": {},
   "source": [
    "LGBMClassifier — еще одна обертка-оценщик вокруг класса Booster, которая предоставляет API, подобный sklearn, для задач классификации. Он работает точно так же, как LGBMModel, но только для задач классификации."
   ]
  },
  {
   "cell_type": "markdown",
   "id": "656b66be",
   "metadata": {},
   "source": [
    "## Бинарная классификация"
   ]
  },
  {
   "cell_type": "code",
   "execution_count": 20,
   "id": "0b56599f",
   "metadata": {},
   "outputs": [
    {
     "name": "stdout",
     "output_type": "stream",
     "text": [
      "[1]\tvalid_0's binary_logloss: 0.569052\n",
      "[2]\tvalid_0's binary_logloss: 0.508516\n",
      "[3]\tvalid_0's binary_logloss: 0.46316\n",
      "[4]\tvalid_0's binary_logloss: 0.420399\n",
      "[5]\tvalid_0's binary_logloss: 0.383049\n",
      "[6]\tvalid_0's binary_logloss: 0.351867\n",
      "[7]\tvalid_0's binary_logloss: 0.323983\n",
      "[8]\tvalid_0's binary_logloss: 0.299839\n",
      "[9]\tvalid_0's binary_logloss: 0.277053\n",
      "[10]\tvalid_0's binary_logloss: 0.257138\n",
      "Test  Accuracy: 0.94\n",
      "Train Accuracy: 0.97\n"
     ]
    }
   ],
   "source": [
    "from sklearn.model_selection import train_test_split\n",
    "\n",
    "X_train, X_test, Y_train, Y_test = train_test_split(breast_cancer.data, breast_cancer.target)\n",
    "booster = lgb.LGBMClassifier(objective=\"binary\", n_estimators=10)\n",
    "booster.fit(X_train, Y_train, eval_set=[(X_test, Y_test),])\n",
    "\n",
    "print(\"Test  Accuracy: %.2f\"%booster.score(X_test, Y_test))\n",
    "print(\"Train Accuracy: %.2f\"%booster.score(X_train, Y_train))"
   ]
  },
  {
   "cell_type": "markdown",
   "id": "5f433d95",
   "metadata": {},
   "source": [
    "## Мультиклассовая классификация"
   ]
  },
  {
   "cell_type": "code",
   "execution_count": 21,
   "id": "b682f3b3",
   "metadata": {},
   "outputs": [
    {
     "name": "stdout",
     "output_type": "stream",
     "text": [
      "[1]\tvalid_0's multi_logloss: 0.947685\n",
      "[2]\tvalid_0's multi_logloss: 0.860289\n",
      "[3]\tvalid_0's multi_logloss: 0.779154\n",
      "[4]\tvalid_0's multi_logloss: 0.720849\n",
      "[5]\tvalid_0's multi_logloss: 0.675284\n",
      "[6]\tvalid_0's multi_logloss: 0.630248\n",
      "[7]\tvalid_0's multi_logloss: 0.592315\n",
      "[8]\tvalid_0's multi_logloss: 0.56565\n",
      "[9]\tvalid_0's multi_logloss: 0.530469\n",
      "[10]\tvalid_0's multi_logloss: 0.508687\n",
      "Test  Accuracy: 0.96\n",
      "Train Accuracy: 1.00\n"
     ]
    }
   ],
   "source": [
    "from sklearn.model_selection import train_test_split\n",
    "\n",
    "X_train, X_test, Y_train, Y_test = train_test_split(wine.data, wine.target)\n",
    "booster = lgb.LGBMClassifier(objective=\"multiclassova\", n_estimators=10, num_class=3)\n",
    "booster.fit(X_train, Y_train, eval_set=[(X_test, Y_test),])\n",
    "\n",
    "print(\"Test  Accuracy: %.2f\"%booster.score(X_test, Y_test))\n",
    "print(\"Train Accuracy: %.2f\"%booster.score(X_train, Y_train))"
   ]
  },
  {
   "cell_type": "markdown",
   "id": "35ead54d",
   "metadata": {},
   "source": [
    "## Сохранение и загрузка модели"
   ]
  },
  {
   "cell_type": "markdown",
   "id": "09d335a8",
   "metadata": {},
   "source": [
    "    save_model() — этот метод принимает имя файла, в котором сохраняется модель.\n",
    "    \n",
    "    model_to_string() — данный метод возвращает строковое представление модели, которое мы затем можем сохранить в текстовый файл.\n",
    "   \n",
    "    lightgbm.Booster() — этот конструктор позволяет нам создать экземпляр класса Booster. У него есть два важных параметра, которые могут помочь нам загрузить модель из файла или из строки.\n",
    "        \n",
    "        model_file — этот параметр принимает имя файла, из которого загружается обученная модель.\n",
    "        \n",
    "        model_str — данный параметр принимает строку, содержащую информацию об обученной модели. Нам нужно передать этому параметру строку, которая была сгенерирована с помощью model_to_string() после загрузки из файла."
   ]
  },
  {
   "cell_type": "code",
   "execution_count": 22,
   "id": "151bf8a8",
   "metadata": {},
   "outputs": [
    {
     "data": {
      "text/plain": [
       "<lightgbm.basic.Booster at 0x7fe6ccf949a0>"
      ]
     },
     "execution_count": 22,
     "metadata": {},
     "output_type": "execute_result"
    }
   ],
   "source": [
    "from sklearn.model_selection import train_test_split\n",
    "\n",
    "X_train, X_test, Y_train, Y_test = train_test_split(boston.data, boston.target)\n",
    "\n",
    "train_dataset = lgb.Dataset(X_train, Y_train, feature_name=boston.feature_names.tolist())\n",
    "test_dataset = lgb.Dataset(X_test, Y_test, feature_name=boston.feature_names.tolist())\n",
    "\n",
    "booster = lgb.train({\"objective\": \"regression\", \"verbosity\": -1},\n",
    "                    train_set=train_dataset, valid_sets=(test_dataset,),\n",
    "                    verbose_eval=False,\n",
    "                    feature_name=boston.feature_names.tolist(),\n",
    "                    num_boost_round=10)\n",
    "\n",
    "booster.save_model(\"lgb.model\")"
   ]
  },
  {
   "cell_type": "code",
   "execution_count": 23,
   "id": "a25ec8ae",
   "metadata": {},
   "outputs": [
    {
     "name": "stdout",
     "output_type": "stream",
     "text": [
      "Test  R2 Score: 0.69\n",
      "Train R2 Score: 0.75\n"
     ]
    }
   ],
   "source": [
    "loaded_booster = lgb.Booster(model_file=\"lgb.model\")\n",
    "test_preds = loaded_booster.predict(X_test)\n",
    "train_preds = loaded_booster.predict(X_train)\n",
    "\n",
    "print(\"Test  R2 Score: %.2f\"%r2_score(Y_test, test_preds))\n",
    "print(\"Train R2 Score: %.2f\"%r2_score(Y_train, train_preds))"
   ]
  },
  {
   "cell_type": "markdown",
   "id": "2f605de6",
   "metadata": {},
   "source": [
    "## Кросс-валидация"
   ]
  },
  {
   "cell_type": "code",
   "execution_count": 24,
   "id": "c96923c6",
   "metadata": {},
   "outputs": [
    {
     "name": "stdout",
     "output_type": "stream",
     "text": [
      "[1]\tcv_agg's binary_logloss: 0.581476 + 0.00564412\n",
      "[2]\tcv_agg's binary_logloss: 0.528245 + 0.010635\n",
      "[3]\tcv_agg's binary_logloss: 0.48031 + 0.0130702\n",
      "[4]\tcv_agg's binary_logloss: 0.443169 + 0.0185618\n",
      "[5]\tcv_agg's binary_logloss: 0.408328 + 0.0184916\n",
      "[6]\tcv_agg's binary_logloss: 0.376805 + 0.0208253\n",
      "[7]\tcv_agg's binary_logloss: 0.354632 + 0.0221434\n",
      "[8]\tcv_agg's binary_logloss: 0.331299 + 0.024907\n",
      "[9]\tcv_agg's binary_logloss: 0.311582 + 0.0277387\n",
      "[10]\tcv_agg's binary_logloss: 0.293714 + 0.0308274\n",
      "[1]\tcv_agg's auc: 0.97 + 0.0141421\tcv_agg's average_precision: 0.976768 + 0.00714249\n",
      "[2]\tcv_agg's auc: 0.976667 + 0.020548\tcv_agg's average_precision: 0.982828 + 0.013627\n",
      "[3]\tcv_agg's auc: 0.976667 + 0.020548\tcv_agg's average_precision: 0.982828 + 0.013627\n",
      "[4]\tcv_agg's auc: 0.993333 + 0.00942809\tcv_agg's average_precision: 0.993939 + 0.00857099\n",
      "[5]\tcv_agg's auc: 1 + 0\tcv_agg's average_precision: 1 + 0\n",
      "[6]\tcv_agg's auc: 1 + 0\tcv_agg's average_precision: 1 + 0\n",
      "[7]\tcv_agg's auc: 1 + 0\tcv_agg's average_precision: 1 + 0\n",
      "[8]\tcv_agg's auc: 1 + 0\tcv_agg's average_precision: 1 + 0\n",
      "[9]\tcv_agg's auc: 1 + 0\tcv_agg's average_precision: 1 + 0\n",
      "[10]\tcv_agg's auc: 1 + 0\tcv_agg's average_precision: 1 + 0\n",
      "\n",
      "auc-mean  :  [0.9700000000000001, 0.9766666666666666, 0.9766666666666666, 0.9933333333333333, 1.0, 1.0, 1.0, 1.0, 1.0, 1.0]\n",
      "\n",
      "auc-stdv  :  [0.014142135623730965, 0.020548046676563275, 0.020548046676563275, 0.009428090415820642, 0.0, 0.0, 0.0, 0.0, 0.0, 0.0]\n",
      "\n",
      "average_precision-mean  :  [0.9767676767676767, 0.9828282828282827, 0.9828282828282827, 0.993939393939394, 1.0, 1.0, 1.0, 1.0, 1.0, 1.0]\n",
      "\n",
      "average_precision-stdv  :  [0.007142492739258102, 0.013627007639628366, 0.013627007639628366, 0.00857099128710967, 0.0, 0.0, 0.0, 0.0, 0.0, 0.0]\n",
      "\n",
      "cvbooster  :  <lightgbm.engine.CVBooster object at 0x7fe68b483a30>\n"
     ]
    }
   ],
   "source": [
    "from sklearn.model_selection import StratifiedShuffleSplit\n",
    "\n",
    "\n",
    "X_train, X_test, Y_train, Y_test = train_test_split(breast_cancer.data, breast_cancer.target)\n",
    "\n",
    "train_dataset = lgb.Dataset(X_train, Y_train, feature_name=breast_cancer.feature_names.tolist())\n",
    "test_dataset = lgb.Dataset(X_test, Y_test, feature_name=breast_cancer.feature_names.tolist())\n",
    "\n",
    "lgb.cv({\"objective\": \"binary\", \"verbosity\": -1},\n",
    "       train_set=test_dataset, num_boost_round=10,\n",
    "       nfold=5, stratified=True, shuffle=True,\n",
    "       verbose_eval=True)\n",
    "\n",
    "cv_output = lgb.cv({\"objective\": \"binary\", \"verbosity\": -1},\n",
    "                   train_set=test_dataset, num_boost_round=10,\n",
    "                   metrics=[\"auc\", \"average_precision\"],\n",
    "                   folds=StratifiedShuffleSplit(n_splits=3),\n",
    "                   verbose_eval=True,\n",
    "                   return_cvbooster=True)\n",
    "\n",
    "for key, val in cv_output.items():\n",
    "    print(\"\\n\" + key, \" : \", val)"
   ]
  },
  {
   "cell_type": "markdown",
   "id": "414b3435",
   "metadata": {},
   "source": [
    "## Построение графиков"
   ]
  },
  {
   "cell_type": "code",
   "execution_count": 25,
   "id": "58d7769d",
   "metadata": {},
   "outputs": [
    {
     "data": {
      "image/png": "[encoded data removed]",
      "text/plain": [
       "<Figure size 576x432 with 1 Axes>"
      ]
     },
     "metadata": {
      "needs_background": "light"
     },
     "output_type": "display_data"
    }
   ],
   "source": [
    "lgb.plot_importance(booster, figsize=(8,6));"
   ]
  },
  {
   "cell_type": "code",
   "execution_count": 26,
   "id": "51c3c01d",
   "metadata": {},
   "outputs": [
    {
     "name": "stdout",
     "output_type": "stream",
     "text": [
      "[1]\tValidation Set's rmse: 7.32589\tValidation Set's l2: 53.6687\n",
      "[2]\tValidation Set's rmse: 6.63512\tValidation Set's l2: 44.0249\n",
      "[3]\tValidation Set's rmse: 6.04117\tValidation Set's l2: 36.4957\n",
      "[4]\tValidation Set's rmse: 5.50287\tValidation Set's l2: 30.2815\n",
      "[5]\tValidation Set's rmse: 5.06509\tValidation Set's l2: 25.6551\n",
      "[6]\tValidation Set's rmse: 4.66406\tValidation Set's l2: 21.7534\n",
      "[7]\tValidation Set's rmse: 4.35394\tValidation Set's l2: 18.9568\n",
      "[8]\tValidation Set's rmse: 4.05992\tValidation Set's l2: 16.4829\n",
      "[9]\tValidation Set's rmse: 3.84355\tValidation Set's l2: 14.7729\n",
      "[10]\tValidation Set's rmse: 3.65108\tValidation Set's l2: 13.3304\n"
     ]
    },
    {
     "data": {
      "image/png": "[encoded data removed]",
      "text/plain": [
       "<Figure size 576x432 with 1 Axes>"
      ]
     },
     "metadata": {
      "needs_background": "light"
     },
     "output_type": "display_data"
    }
   ],
   "source": [
    "X_train, X_test, Y_train, Y_test = train_test_split(boston.data, boston.target)\n",
    "booster = lgb.LGBMModel(objective=\"regression\", n_estimators=10,)\n",
    "booster.fit(X_train, Y_train,\n",
    "            eval_set=[(X_test, Y_test),], eval_metric=\"rmse\", eval_names = [\"Validation Set\"],\n",
    "            feature_name=boston.feature_names.tolist()\n",
    "           )\n",
    "\n",
    "lgb.plot_metric(booster, figsize=(8,6));"
   ]
  },
  {
   "cell_type": "code",
   "execution_count": 27,
   "id": "74d539b3",
   "metadata": {},
   "outputs": [
    {
     "data": {
      "image/png": "[encoded data removed]",
      "text/plain": [
       "<Figure size 576x432 with 1 Axes>"
      ]
     },
     "metadata": {
      "needs_background": "light"
     },
     "output_type": "display_data"
    }
   ],
   "source": [
    "# split - количество раз каждый показатель использовался для разбиения\n",
    "lgb.plot_split_value_histogram(booster, feature=\"LSTAT\", figsize=(8,6));"
   ]
  },
  {
   "cell_type": "code",
   "execution_count": 30,
   "id": "f16a5ea5",
   "metadata": {},
   "outputs": [
    {
     "data": {
      "image/png": "[encoded data removed]",
      "text/plain": [
       "<Figure size 1440x864 with 1 Axes>"
      ]
     },
     "metadata": {
      "needs_background": "light"
     },
     "output_type": "display_data"
    }
   ],
   "source": [
    " lgb.plot_tree(booster, tree_index = 1, figsize=(20,12));"
   ]
  },
  {
   "cell_type": "markdown",
   "id": "f13f2731",
   "metadata": {},
   "source": [
    "## Ранняя остановка обучения"
   ]
  },
  {
   "cell_type": "code",
   "execution_count": 31,
   "id": "62e5d756",
   "metadata": {},
   "outputs": [
    {
     "name": "stdout",
     "output_type": "stream",
     "text": [
      "Размеры Train/Test:  (426, 30) (143, 30) (426,) (143,)\n",
      "[1]\tvalid_0's auc: 0.952557\n",
      "Training until validation scores don't improve for 3 rounds\n",
      "[2]\tvalid_0's auc: 0.952768\n",
      "[3]\tvalid_0's auc: 0.952663\n",
      "[4]\tvalid_0's auc: 0.966716\n",
      "[5]\tvalid_0's auc: 0.970203\n",
      "[6]\tvalid_0's auc: 0.968618\n",
      "[7]\tvalid_0's auc: 0.970414\n",
      "[8]\tvalid_0's auc: 0.970414\n",
      "[9]\tvalid_0's auc: 0.971048\n",
      "[10]\tvalid_0's auc: 0.969358\n",
      "[11]\tvalid_0's auc: 0.985418\n",
      "[12]\tvalid_0's auc: 0.983728\n",
      "[13]\tvalid_0's auc: 0.985207\n",
      "[14]\tvalid_0's auc: 0.98563\n",
      "[15]\tvalid_0's auc: 0.984784\n",
      "[16]\tvalid_0's auc: 0.984996\n",
      "[17]\tvalid_0's auc: 0.98563\n",
      "Early stopping, best iteration is:\n",
      "[14]\tvalid_0's auc: 0.98563\n",
      "Test  Accuracy: 0.96\n",
      "Train Accuracy: 0.98\n"
     ]
    }
   ],
   "source": [
    "from sklearn.model_selection import train_test_split\n",
    "\n",
    "X_train, X_test, Y_train, Y_test = train_test_split(breast_cancer.data, breast_cancer.target)\n",
    "\n",
    "print(\"Размеры Train/Test: \", X_train.shape, X_test.shape, Y_train.shape, Y_test.shape)\n",
    "\n",
    "booster = lgb.LGBMModel(objective=\"binary\", n_estimators=100, metric=\"auc\")\n",
    "\n",
    "booster.fit(X_train, Y_train,\n",
    "            eval_set=[(X_test, Y_test),],\n",
    "            early_stopping_rounds=3)\n",
    "\n",
    "from sklearn.metrics import accuracy_score\n",
    "\n",
    "test_preds = booster.predict(X_test)\n",
    "train_preds = booster.predict(X_train)\n",
    "\n",
    "test_preds = [1 if pred > 0.5 else 0 for pred in test_preds]\n",
    "train_preds = [1 if pred > 0.5 else 0 for pred in train_preds]\n",
    "\n",
    "print(\"Test  Accuracy: %.2f\"%accuracy_score(Y_test, test_preds))\n",
    "print(\"Train Accuracy: %.2f\"%accuracy_score(Y_train, train_preds))"
   ]
  },
  {
   "cell_type": "markdown",
   "id": "484c1cbe",
   "metadata": {},
   "source": [
    "## Ограничения взаимодействия показателей"
   ]
  },
  {
   "cell_type": "code",
   "execution_count": 33,
   "id": "b9548636",
   "metadata": {},
   "outputs": [
    {
     "name": "stdout",
     "output_type": "stream",
     "text": [
      "[1]\tvalid_0's rmse: 7.50225\n",
      "[2]\tvalid_0's rmse: 7.01989\n",
      "[3]\tvalid_0's rmse: 6.58246\n",
      "[4]\tvalid_0's rmse: 6.18581\n",
      "[5]\tvalid_0's rmse: 5.83873\n",
      "[6]\tvalid_0's rmse: 5.47166\n",
      "[7]\tvalid_0's rmse: 5.19667\n",
      "[8]\tvalid_0's rmse: 4.96259\n",
      "[9]\tvalid_0's rmse: 4.69168\n",
      "[10]\tvalid_0's rmse: 4.51653\n"
     ]
    }
   ],
   "source": [
    "X_train, X_test, Y_train, Y_test = train_test_split(boston.data, boston.target, train_size=0.90, random_state=42)\n",
    "\n",
    "train_dataset = lgb.Dataset(X_train, Y_train, feature_name=boston.feature_names.tolist())\n",
    "test_dataset = lgb.Dataset(X_test, Y_test, feature_name=boston.feature_names.tolist())\n",
    "\n",
    "booster = lgb.train({\"objective\": \"regression\", \"verbosity\": -1, \"metric\": \"rmse\",\n",
    "                    'interaction_constraints':[[0,1,2,11,12], [3, 4],[6,10], [5,9], [7,8]]},\n",
    "                    train_set=train_dataset, valid_sets=(test_dataset,),\n",
    "                    num_boost_round=10)"
   ]
  },
  {
   "cell_type": "code",
   "execution_count": 35,
   "id": "8692c1e5",
   "metadata": {},
   "outputs": [],
   "source": [
    "# test_preds = booster.predict(X_test)\n",
    "# train_preds = booster.predict(X_train)\n",
    "\n",
    "# test_preds = [1 if pred > 0.5 else 0 for pred in test_preds]\n",
    "# train_preds = [1 if pred > 0.5 else 0 for pred in train_preds]\n",
    "\n",
    "# print(\"Test  Accuracy: %.2f\"%accuracy_score(Y_test, test_preds))\n",
    "# print(\"Train Accuracy: %.2f\"%accuracy_score(Y_train, train_preds))"
   ]
  },
  {
   "cell_type": "markdown",
   "id": "bc48e769",
   "metadata": {},
   "source": [
    "## Монотонные ограничения"
   ]
  },
  {
   "cell_type": "code",
   "execution_count": 36,
   "id": "a27b0eba",
   "metadata": {},
   "outputs": [
    {
     "name": "stdout",
     "output_type": "stream",
     "text": [
      "[1]\tvalid_0's rmse: 7.50077\n",
      "[2]\tvalid_0's rmse: 7.01013\n",
      "[3]\tvalid_0's rmse: 6.57254\n",
      "[4]\tvalid_0's rmse: 6.19802\n",
      "[5]\tvalid_0's rmse: 5.8771\n",
      "[6]\tvalid_0's rmse: 5.59538\n",
      "[7]\tvalid_0's rmse: 5.35168\n",
      "[8]\tvalid_0's rmse: 5.15228\n",
      "[9]\tvalid_0's rmse: 4.95664\n",
      "[10]\tvalid_0's rmse: 4.81777\n"
     ]
    }
   ],
   "source": [
    "booster = lgb.train({\"objective\": \"regression\", \"verbosity\": -1, \"metric\": \"rmse\",\n",
    "                    'monotone_constraints':(1,0,1,-1,1,0,1,0,-1,1,1, -1, 1)},\n",
    "                    train_set=train_dataset, valid_sets=(test_dataset,),\n",
    "                    num_boost_round=10)"
   ]
  },
  {
   "cell_type": "markdown",
   "id": "b9b07ca2",
   "metadata": {},
   "source": [
    "## Пользовательская функция цели/потерь"
   ]
  },
  {
   "cell_type": "code",
   "execution_count": 37,
   "id": "b84c65b7",
   "metadata": {},
   "outputs": [
    {
     "name": "stdout",
     "output_type": "stream",
     "text": [
      "[1]\tvalid_0's rmse: 18.1052\n",
      "[2]\tvalid_0's rmse: 14.5847\n",
      "[3]\tvalid_0's rmse: 11.7345\n",
      "[4]\tvalid_0's rmse: 9.5314\n",
      "[5]\tvalid_0's rmse: 7.78258\n",
      "[6]\tvalid_0's rmse: 6.50828\n",
      "[7]\tvalid_0's rmse: 5.56412\n",
      "[8]\tvalid_0's rmse: 4.73723\n",
      "[9]\tvalid_0's rmse: 4.1203\n",
      "[10]\tvalid_0's rmse: 3.73135\n",
      "Test  R2 Score: 0.78\n",
      "Train R2 Score: 0.82\n"
     ]
    }
   ],
   "source": [
    "def first_grad(predt, dmat):\n",
    "    '''Вычисли первую производную для MSE.'''\n",
    "    y = dmat.get_label() if isinstance(dmat, lgb.Dataset) else dmat\n",
    "    return 2*(y-predt)\n",
    "\n",
    "def second_grad(predt, dmat):\n",
    "    '''Вычисли вторую производную для MSE.'''\n",
    "    y = dmat.get_label() if isinstance(dmat, lgb.Dataset) else dmat\n",
    "    return [1] * len(predt)\n",
    "\n",
    "def mean_sqaured_error(predt, dmat):\n",
    "    ''''Функция MSE.'''\n",
    "    predt[predt < -1] = -1 + 1e-6\n",
    "    grad = first_grad(predt, dmat)\n",
    "    hess = second_grad(predt, dmat)\n",
    "    return grad, hess\n",
    "\n",
    "\n",
    "booster = lgb.LGBMModel(objective=mean_sqaured_error, n_estimators=10,)\n",
    "booster.fit(X_train, Y_train, eval_set=[(X_test, Y_test),], eval_metric=\"rmse\")\n",
    "\n",
    "test_preds = booster.predict(X_test)\n",
    "train_preds = booster.predict(X_train)\n",
    "\n",
    "print(\"Test  R2 Score: %.2f\"%r2_score(Y_test, test_preds))\n",
    "print(\"Train R2 Score: %.2f\"%r2_score(Y_train, train_preds))"
   ]
  },
  {
   "cell_type": "markdown",
   "id": "b35ded1d",
   "metadata": {},
   "source": [
    "## Пользовательская функция оценки"
   ]
  },
  {
   "cell_type": "code",
   "execution_count": 38,
   "id": "39cc3109",
   "metadata": {},
   "outputs": [
    {
     "name": "stdout",
     "output_type": "stream",
     "text": [
      "[1]\tvalid_0's rmse: 7.40798\tvalid_0's MAE: -74.3941\n",
      "[2]\tvalid_0's rmse: 6.83504\tvalid_0's MAE: -68.5244\n",
      "[3]\tvalid_0's rmse: 6.32897\tvalid_0's MAE: -63.4968\n",
      "[4]\tvalid_0's rmse: 5.90259\tvalid_0's MAE: -59.304\n",
      "[5]\tvalid_0's rmse: 5.53393\tvalid_0's MAE: -55.712\n",
      "[6]\tvalid_0's rmse: 5.17631\tvalid_0's MAE: -52.3329\n",
      "[7]\tvalid_0's rmse: 4.87576\tvalid_0's MAE: -48.2586\n",
      "[8]\tvalid_0's rmse: 4.62314\tvalid_0's MAE: -46.1631\n",
      "[9]\tvalid_0's rmse: 4.38363\tvalid_0's MAE: -41.8425\n",
      "[10]\tvalid_0's rmse: 4.2398\tvalid_0's MAE: -39.1324\n",
      "Test  R2 Score: 0.71\n",
      "Train R2 Score: 0.76\n"
     ]
    }
   ],
   "source": [
    "def mean_absolute_error(preds, dmat):\n",
    "    actuals = dmat.get_label() if isinstance(dmat, lgb.Dataset) else dmat\n",
    "    err = (actuals - preds).sum()\n",
    "    is_higher_better = False\n",
    "    return \"MAE\", err, is_higher_better\n",
    "\n",
    "booster = lgb.train({\"objective\": \"regression\", \"verbosity\": -1, \"metric\": \"rmse\"},\n",
    "                    feval=mean_absolute_error,\n",
    "                    train_set=train_dataset, valid_sets=(test_dataset,),\n",
    "                    num_boost_round=10)\n",
    "\n",
    "\n",
    "test_preds = booster.predict(X_test)\n",
    "train_preds = booster.predict(X_train)\n",
    "\n",
    "print(\"Test  R2 Score: %.2f\"%r2_score(Y_test, test_preds))\n",
    "print(\"Train R2 Score: %.2f\"%r2_score(Y_train, train_preds))"
   ]
  },
  {
   "cell_type": "code",
   "execution_count": null,
   "id": "5342cda5",
   "metadata": {},
   "outputs": [],
   "source": []
  },
  {
   "cell_type": "code",
   "execution_count": null,
   "id": "ea1f3daa",
   "metadata": {},
   "outputs": [],
   "source": []
  },
  {
   "cell_type": "markdown",
   "id": "f85e9341",
   "metadata": {},
   "source": [
    "Источник:\n",
    "\n",
    "https://pythonru.com/biblioteki/lightgbm"
   ]
  }
 ],
 "metadata": {
  "kernelspec": {
   "display_name": "Python 3",
   "language": "python",
   "name": "python3"
  },
  "language_info": {
   "codemirror_mode": {
    "name": "ipython",
    "version": 3
   },
   "file_extension": ".py",
   "mimetype": "text/x-python",
   "name": "python",
   "nbconvert_exporter": "python",
   "pygments_lexer": "ipython3",
   "version": "3.8.10"
  }
 },
 "nbformat": 4,
 "nbformat_minor": 5
}
