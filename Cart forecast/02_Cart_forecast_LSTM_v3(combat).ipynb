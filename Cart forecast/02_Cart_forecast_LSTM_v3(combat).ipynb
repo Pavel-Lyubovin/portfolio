{
 "cells": [
  {
   "cell_type": "markdown",
   "id": "91698d4b",
   "metadata": {},
   "source": [
    "Автор: Павел Любовин    \n",
    "chistota@mail.ru   "
   ]
  },
  {
   "cell_type": "markdown",
   "id": "ceec88cb",
   "metadata": {},
   "source": [
    "Продолжение.   \n",
    "Начало см. в ноутбуке: Cart_forecast.ipynb"
   ]
  },
  {
   "cell_type": "markdown",
   "id": "7b2010d5",
   "metadata": {},
   "source": [
    "# Прогноз с помощью LSTM"
   ]
  },
  {
   "cell_type": "markdown",
   "id": "c6170d8d",
   "metadata": {},
   "source": [
    "Основная идея:  \n",
    "Последовательность заказов от одного пользователя - это временной ряд.  \n",
    "Если превратить заказ в вектор, то ряд таких векторов можно попробовать предсказать  \n",
    "с помощью реккурентных нейронных сетей.  \n",
    "В данном решении была выбрана LSTM."
   ]
  },
  {
   "cell_type": "code",
   "execution_count": 253,
   "id": "5bac8f85",
   "metadata": {},
   "outputs": [],
   "source": [
    "import pandas as pd\n",
    "import numpy as np\n",
    "from tqdm import tqdm\n",
    "import torch\n",
    "import torch.nn as nn"
   ]
  },
  {
   "cell_type": "code",
   "execution_count": 254,
   "id": "9fa416fc",
   "metadata": {},
   "outputs": [],
   "source": [
    "df = pd.read_csv('train.csv')"
   ]
  },
  {
   "cell_type": "code",
   "execution_count": 255,
   "id": "b81a9963",
   "metadata": {},
   "outputs": [
    {
     "data": {
      "text/html": [
       "<div>\n",
       "<style scoped>\n",
       "    .dataframe tbody tr th:only-of-type {\n",
       "        vertical-align: middle;\n",
       "    }\n",
       "\n",
       "    .dataframe tbody tr th {\n",
       "        vertical-align: top;\n",
       "    }\n",
       "\n",
       "    .dataframe thead th {\n",
       "        text-align: right;\n",
       "    }\n",
       "</style>\n",
       "<table border=\"1\" class=\"dataframe\">\n",
       "  <thead>\n",
       "    <tr style=\"text-align: right;\">\n",
       "      <th></th>\n",
       "      <th>user_id</th>\n",
       "      <th>order_completed_at</th>\n",
       "      <th>cart</th>\n",
       "    </tr>\n",
       "  </thead>\n",
       "  <tbody>\n",
       "    <tr>\n",
       "      <th>0</th>\n",
       "      <td>2</td>\n",
       "      <td>2015-03-22 09:25:46</td>\n",
       "      <td>399</td>\n",
       "    </tr>\n",
       "    <tr>\n",
       "      <th>1</th>\n",
       "      <td>2</td>\n",
       "      <td>2015-03-22 09:25:46</td>\n",
       "      <td>14</td>\n",
       "    </tr>\n",
       "    <tr>\n",
       "      <th>2</th>\n",
       "      <td>2</td>\n",
       "      <td>2015-03-22 09:25:46</td>\n",
       "      <td>198</td>\n",
       "    </tr>\n",
       "    <tr>\n",
       "      <th>3</th>\n",
       "      <td>2</td>\n",
       "      <td>2015-03-22 09:25:46</td>\n",
       "      <td>88</td>\n",
       "    </tr>\n",
       "    <tr>\n",
       "      <th>4</th>\n",
       "      <td>2</td>\n",
       "      <td>2015-03-22 09:25:46</td>\n",
       "      <td>157</td>\n",
       "    </tr>\n",
       "  </tbody>\n",
       "</table>\n",
       "</div>"
      ],
      "text/plain": [
       "   user_id   order_completed_at  cart\n",
       "0        2  2015-03-22 09:25:46   399\n",
       "1        2  2015-03-22 09:25:46    14\n",
       "2        2  2015-03-22 09:25:46   198\n",
       "3        2  2015-03-22 09:25:46    88\n",
       "4        2  2015-03-22 09:25:46   157"
      ]
     },
     "execution_count": 255,
     "metadata": {},
     "output_type": "execute_result"
    }
   ],
   "source": [
    "df.head()"
   ]
  },
  {
   "cell_type": "code",
   "execution_count": 256,
   "id": "08b1337d",
   "metadata": {},
   "outputs": [],
   "source": [
    "df['order_completed_at'] = pd.to_datetime(df['order_completed_at'])  # Привожу к дате-времени"
   ]
  },
  {
   "cell_type": "code",
   "execution_count": 257,
   "id": "2de56fd2",
   "metadata": {},
   "outputs": [],
   "source": [
    "sample_out_df = pd.read_csv('sample_submission.csv')"
   ]
  },
  {
   "cell_type": "code",
   "execution_count": 258,
   "id": "c9ff9aa3",
   "metadata": {},
   "outputs": [
    {
     "data": {
      "text/html": [
       "<div>\n",
       "<style scoped>\n",
       "    .dataframe tbody tr th:only-of-type {\n",
       "        vertical-align: middle;\n",
       "    }\n",
       "\n",
       "    .dataframe tbody tr th {\n",
       "        vertical-align: top;\n",
       "    }\n",
       "\n",
       "    .dataframe thead th {\n",
       "        text-align: right;\n",
       "    }\n",
       "</style>\n",
       "<table border=\"1\" class=\"dataframe\">\n",
       "  <thead>\n",
       "    <tr style=\"text-align: right;\">\n",
       "      <th></th>\n",
       "      <th>id</th>\n",
       "      <th>target</th>\n",
       "    </tr>\n",
       "  </thead>\n",
       "  <tbody>\n",
       "    <tr>\n",
       "      <th>0</th>\n",
       "      <td>0;133</td>\n",
       "      <td>0</td>\n",
       "    </tr>\n",
       "    <tr>\n",
       "      <th>1</th>\n",
       "      <td>0;5</td>\n",
       "      <td>1</td>\n",
       "    </tr>\n",
       "    <tr>\n",
       "      <th>2</th>\n",
       "      <td>0;10</td>\n",
       "      <td>0</td>\n",
       "    </tr>\n",
       "    <tr>\n",
       "      <th>3</th>\n",
       "      <td>0;396</td>\n",
       "      <td>1</td>\n",
       "    </tr>\n",
       "    <tr>\n",
       "      <th>4</th>\n",
       "      <td>0;14</td>\n",
       "      <td>0</td>\n",
       "    </tr>\n",
       "  </tbody>\n",
       "</table>\n",
       "</div>"
      ],
      "text/plain": [
       "      id  target\n",
       "0  0;133       0\n",
       "1    0;5       1\n",
       "2   0;10       0\n",
       "3  0;396       1\n",
       "4   0;14       0"
      ]
     },
     "execution_count": 258,
     "metadata": {},
     "output_type": "execute_result"
    }
   ],
   "source": [
    "sample_out_df.head()"
   ]
  },
  {
   "cell_type": "markdown",
   "id": "22e51bd3",
   "metadata": {},
   "source": [
    "# Подготовка данных"
   ]
  },
  {
   "cell_type": "code",
   "execution_count": 259,
   "id": "d7e4fd1f",
   "metadata": {},
   "outputs": [],
   "source": [
    "# Выделяю пользователя и товар в отдельные колонки\n",
    "sample_out_df['user_category'] = sample_out_df['id'].apply(lambda x: x.split(';'))\n",
    "sample_out_df['user'] = sample_out_df['user_category'].apply(lambda x: int(x[0]))\n",
    "sample_out_df['category'] = sample_out_df['user_category'].apply(lambda x: int(x[1]))"
   ]
  },
  {
   "cell_type": "code",
   "execution_count": 260,
   "id": "aea946ff",
   "metadata": {},
   "outputs": [
    {
     "data": {
      "text/html": [
       "<div>\n",
       "<style scoped>\n",
       "    .dataframe tbody tr th:only-of-type {\n",
       "        vertical-align: middle;\n",
       "    }\n",
       "\n",
       "    .dataframe tbody tr th {\n",
       "        vertical-align: top;\n",
       "    }\n",
       "\n",
       "    .dataframe thead th {\n",
       "        text-align: right;\n",
       "    }\n",
       "</style>\n",
       "<table border=\"1\" class=\"dataframe\">\n",
       "  <thead>\n",
       "    <tr style=\"text-align: right;\">\n",
       "      <th></th>\n",
       "      <th>id</th>\n",
       "      <th>target</th>\n",
       "      <th>user_category</th>\n",
       "      <th>user</th>\n",
       "      <th>category</th>\n",
       "    </tr>\n",
       "  </thead>\n",
       "  <tbody>\n",
       "    <tr>\n",
       "      <th>0</th>\n",
       "      <td>0;133</td>\n",
       "      <td>0</td>\n",
       "      <td>[0, 133]</td>\n",
       "      <td>0</td>\n",
       "      <td>133</td>\n",
       "    </tr>\n",
       "    <tr>\n",
       "      <th>1</th>\n",
       "      <td>0;5</td>\n",
       "      <td>1</td>\n",
       "      <td>[0, 5]</td>\n",
       "      <td>0</td>\n",
       "      <td>5</td>\n",
       "    </tr>\n",
       "    <tr>\n",
       "      <th>2</th>\n",
       "      <td>0;10</td>\n",
       "      <td>0</td>\n",
       "      <td>[0, 10]</td>\n",
       "      <td>0</td>\n",
       "      <td>10</td>\n",
       "    </tr>\n",
       "    <tr>\n",
       "      <th>3</th>\n",
       "      <td>0;396</td>\n",
       "      <td>1</td>\n",
       "      <td>[0, 396]</td>\n",
       "      <td>0</td>\n",
       "      <td>396</td>\n",
       "    </tr>\n",
       "    <tr>\n",
       "      <th>4</th>\n",
       "      <td>0;14</td>\n",
       "      <td>0</td>\n",
       "      <td>[0, 14]</td>\n",
       "      <td>0</td>\n",
       "      <td>14</td>\n",
       "    </tr>\n",
       "  </tbody>\n",
       "</table>\n",
       "</div>"
      ],
      "text/plain": [
       "      id  target user_category  user  category\n",
       "0  0;133       0      [0, 133]     0       133\n",
       "1    0;5       1        [0, 5]     0         5\n",
       "2   0;10       0       [0, 10]     0        10\n",
       "3  0;396       1      [0, 396]     0       396\n",
       "4   0;14       0       [0, 14]     0        14"
      ]
     },
     "execution_count": 260,
     "metadata": {},
     "output_type": "execute_result"
    }
   ],
   "source": [
    "sample_out_df.head()"
   ]
  },
  {
   "cell_type": "code",
   "execution_count": 261,
   "id": "f8fe9734",
   "metadata": {},
   "outputs": [],
   "source": [
    "out_categories = pd.unique(sample_out_df['category'])"
   ]
  },
  {
   "cell_type": "code",
   "execution_count": 262,
   "id": "1bc1c982",
   "metadata": {},
   "outputs": [],
   "source": [
    "out_categories = np.sort(out_categories).tolist()"
   ]
  },
  {
   "cell_type": "code",
   "execution_count": 263,
   "id": "ea4e14ff",
   "metadata": {},
   "outputs": [
    {
     "name": "stdout",
     "output_type": "stream",
     "text": [
      "Количество уникальных категорий: 858\n"
     ]
    }
   ],
   "source": [
    "print('Количество уникальных категорий:', len(out_categories))"
   ]
  },
  {
   "cell_type": "code",
   "execution_count": 264,
   "id": "052f4797",
   "metadata": {},
   "outputs": [],
   "source": [
    "# Удаляю из основного фрейма все категории, которые не требуется предсказывать\n",
    "# т.е. тех, которых нет в out_categories\n",
    "df_cut = df[df['cart'].isin(out_categories)]"
   ]
  },
  {
   "cell_type": "code",
   "execution_count": 265,
   "id": "7bef855a",
   "metadata": {},
   "outputs": [],
   "source": [
    "# Формирую датасет с заказами:\n",
    "orders_df = df_cut.groupby(['user_id', 'order_completed_at'])['cart'].apply(set).to_frame().reset_index()"
   ]
  },
  {
   "cell_type": "code",
   "execution_count": 266,
   "id": "ad050932",
   "metadata": {},
   "outputs": [
    {
     "data": {
      "text/html": [
       "<div>\n",
       "<style scoped>\n",
       "    .dataframe tbody tr th:only-of-type {\n",
       "        vertical-align: middle;\n",
       "    }\n",
       "\n",
       "    .dataframe tbody tr th {\n",
       "        vertical-align: top;\n",
       "    }\n",
       "\n",
       "    .dataframe thead th {\n",
       "        text-align: right;\n",
       "    }\n",
       "</style>\n",
       "<table border=\"1\" class=\"dataframe\">\n",
       "  <thead>\n",
       "    <tr style=\"text-align: right;\">\n",
       "      <th></th>\n",
       "      <th>user_id</th>\n",
       "      <th>order_completed_at</th>\n",
       "      <th>cart</th>\n",
       "    </tr>\n",
       "  </thead>\n",
       "  <tbody>\n",
       "    <tr>\n",
       "      <th>0</th>\n",
       "      <td>0</td>\n",
       "      <td>2020-07-19 09:59:17</td>\n",
       "      <td>{14, 430, 82, 20, 405, 441, 379, 57}</td>\n",
       "    </tr>\n",
       "    <tr>\n",
       "      <th>1</th>\n",
       "      <td>0</td>\n",
       "      <td>2020-08-24 08:55:32</td>\n",
       "      <td>{5, 133, 10, 396, 14, 402, 405, 22, 409, 25, 2...</td>\n",
       "    </tr>\n",
       "    <tr>\n",
       "      <th>2</th>\n",
       "      <td>0</td>\n",
       "      <td>2020-09-02 07:38:25</td>\n",
       "      <td>{803, 169, 170, 398, 399, 401, 84, 55, 440, 57...</td>\n",
       "    </tr>\n",
       "    <tr>\n",
       "      <th>3</th>\n",
       "      <td>1</td>\n",
       "      <td>2019-05-08 16:09:41</td>\n",
       "      <td>{55}</td>\n",
       "    </tr>\n",
       "    <tr>\n",
       "      <th>4</th>\n",
       "      <td>1</td>\n",
       "      <td>2020-01-17 14:44:23</td>\n",
       "      <td>{421, 204, 82, 86, 55, 798}</td>\n",
       "    </tr>\n",
       "  </tbody>\n",
       "</table>\n",
       "</div>"
      ],
      "text/plain": [
       "   user_id  order_completed_at  \\\n",
       "0        0 2020-07-19 09:59:17   \n",
       "1        0 2020-08-24 08:55:32   \n",
       "2        0 2020-09-02 07:38:25   \n",
       "3        1 2019-05-08 16:09:41   \n",
       "4        1 2020-01-17 14:44:23   \n",
       "\n",
       "                                                cart  \n",
       "0               {14, 430, 82, 20, 405, 441, 379, 57}  \n",
       "1  {5, 133, 10, 396, 14, 402, 405, 22, 409, 25, 2...  \n",
       "2  {803, 169, 170, 398, 399, 401, 84, 55, 440, 57...  \n",
       "3                                               {55}  \n",
       "4                        {421, 204, 82, 86, 55, 798}  "
      ]
     },
     "execution_count": 266,
     "metadata": {},
     "output_type": "execute_result"
    }
   ],
   "source": [
    "orders_df.head()"
   ]
  },
  {
   "cell_type": "code",
   "execution_count": 267,
   "id": "7981fb54",
   "metadata": {},
   "outputs": [],
   "source": [
    "orders_df['index_cart'] = orders_df['cart'].apply(lambda x: [out_categories.index(i) for i in x])"
   ]
  },
  {
   "cell_type": "code",
   "execution_count": 268,
   "id": "d0c2b0e5",
   "metadata": {},
   "outputs": [],
   "source": [
    "#  Заготовка под вектор заказов (пока только нули)\n",
    "orders_df['vector_cart'] = pd.Series([[0] * len(out_categories) for _ in range(len(orders_df))])"
   ]
  },
  {
   "cell_type": "code",
   "execution_count": 269,
   "id": "2c3e11ca",
   "metadata": {},
   "outputs": [],
   "source": [
    "# Функция, расставляющая единицы по заданному списку индексов\n",
    "def index_ones(index_cart, vector_cart):\n",
    "    for i in index_cart:\n",
    "        vector_cart[i] = 1\n",
    "    return vector_cart"
   ]
  },
  {
   "cell_type": "code",
   "execution_count": 270,
   "id": "ba8c676f",
   "metadata": {},
   "outputs": [],
   "source": [
    "# Расстановка единиц с помощью спец. функции (чуть выше ее определение)\n",
    "# В итоге из каждого заказа получился вектор размерности 858 (по количеству товарных категорий)\n",
    "orders_df['vector_cart'] = orders_df.apply(lambda x: index_ones(x.index_cart, x.vector_cart), axis=1)"
   ]
  },
  {
   "cell_type": "code",
   "execution_count": 271,
   "id": "b863c9e4",
   "metadata": {},
   "outputs": [
    {
     "data": {
      "text/html": [
       "<div>\n",
       "<style scoped>\n",
       "    .dataframe tbody tr th:only-of-type {\n",
       "        vertical-align: middle;\n",
       "    }\n",
       "\n",
       "    .dataframe tbody tr th {\n",
       "        vertical-align: top;\n",
       "    }\n",
       "\n",
       "    .dataframe thead th {\n",
       "        text-align: right;\n",
       "    }\n",
       "</style>\n",
       "<table border=\"1\" class=\"dataframe\">\n",
       "  <thead>\n",
       "    <tr style=\"text-align: right;\">\n",
       "      <th></th>\n",
       "      <th>user_id</th>\n",
       "      <th>order_completed_at</th>\n",
       "      <th>cart</th>\n",
       "      <th>index_cart</th>\n",
       "      <th>vector_cart</th>\n",
       "    </tr>\n",
       "  </thead>\n",
       "  <tbody>\n",
       "    <tr>\n",
       "      <th>0</th>\n",
       "      <td>0</td>\n",
       "      <td>2020-07-19 09:59:17</td>\n",
       "      <td>{14, 430, 82, 20, 405, 441, 379, 57}</td>\n",
       "      <td>[14, 425, 81, 20, 400, 436, 374, 56]</td>\n",
       "      <td>[0, 0, 0, 0, 0, 0, 0, 0, 0, 0, 0, 0, 0, 0, 1, ...</td>\n",
       "    </tr>\n",
       "    <tr>\n",
       "      <th>1</th>\n",
       "      <td>0</td>\n",
       "      <td>2020-08-24 08:55:32</td>\n",
       "      <td>{5, 133, 10, 396, 14, 402, 405, 22, 409, 25, 2...</td>\n",
       "      <td>[5, 132, 10, 391, 14, 397, 400, 22, 404, 25, 2...</td>\n",
       "      <td>[0, 0, 0, 0, 0, 1, 0, 0, 0, 0, 1, 0, 0, 0, 1, ...</td>\n",
       "    </tr>\n",
       "    <tr>\n",
       "      <th>2</th>\n",
       "      <td>0</td>\n",
       "      <td>2020-09-02 07:38:25</td>\n",
       "      <td>{803, 169, 170, 398, 399, 401, 84, 55, 440, 57...</td>\n",
       "      <td>[781, 168, 169, 393, 394, 396, 83, 54, 435, 56...</td>\n",
       "      <td>[0, 0, 0, 0, 0, 0, 0, 0, 0, 0, 0, 0, 0, 0, 0, ...</td>\n",
       "    </tr>\n",
       "    <tr>\n",
       "      <th>3</th>\n",
       "      <td>1</td>\n",
       "      <td>2019-05-08 16:09:41</td>\n",
       "      <td>{55}</td>\n",
       "      <td>[54]</td>\n",
       "      <td>[0, 0, 0, 0, 0, 0, 0, 0, 0, 0, 0, 0, 0, 0, 0, ...</td>\n",
       "    </tr>\n",
       "    <tr>\n",
       "      <th>4</th>\n",
       "      <td>1</td>\n",
       "      <td>2020-01-17 14:44:23</td>\n",
       "      <td>{421, 204, 82, 86, 55, 798}</td>\n",
       "      <td>[416, 201, 81, 85, 54, 776]</td>\n",
       "      <td>[0, 0, 0, 0, 0, 0, 0, 0, 0, 0, 0, 0, 0, 0, 0, ...</td>\n",
       "    </tr>\n",
       "  </tbody>\n",
       "</table>\n",
       "</div>"
      ],
      "text/plain": [
       "   user_id  order_completed_at  \\\n",
       "0        0 2020-07-19 09:59:17   \n",
       "1        0 2020-08-24 08:55:32   \n",
       "2        0 2020-09-02 07:38:25   \n",
       "3        1 2019-05-08 16:09:41   \n",
       "4        1 2020-01-17 14:44:23   \n",
       "\n",
       "                                                cart  \\\n",
       "0               {14, 430, 82, 20, 405, 441, 379, 57}   \n",
       "1  {5, 133, 10, 396, 14, 402, 405, 22, 409, 25, 2...   \n",
       "2  {803, 169, 170, 398, 399, 401, 84, 55, 440, 57...   \n",
       "3                                               {55}   \n",
       "4                        {421, 204, 82, 86, 55, 798}   \n",
       "\n",
       "                                          index_cart  \\\n",
       "0               [14, 425, 81, 20, 400, 436, 374, 56]   \n",
       "1  [5, 132, 10, 391, 14, 397, 400, 22, 404, 25, 2...   \n",
       "2  [781, 168, 169, 393, 394, 396, 83, 54, 435, 56...   \n",
       "3                                               [54]   \n",
       "4                        [416, 201, 81, 85, 54, 776]   \n",
       "\n",
       "                                         vector_cart  \n",
       "0  [0, 0, 0, 0, 0, 0, 0, 0, 0, 0, 0, 0, 0, 0, 1, ...  \n",
       "1  [0, 0, 0, 0, 0, 1, 0, 0, 0, 0, 1, 0, 0, 0, 1, ...  \n",
       "2  [0, 0, 0, 0, 0, 0, 0, 0, 0, 0, 0, 0, 0, 0, 0, ...  \n",
       "3  [0, 0, 0, 0, 0, 0, 0, 0, 0, 0, 0, 0, 0, 0, 0, ...  \n",
       "4  [0, 0, 0, 0, 0, 0, 0, 0, 0, 0, 0, 0, 0, 0, 0, ...  "
      ]
     },
     "execution_count": 271,
     "metadata": {},
     "output_type": "execute_result"
    }
   ],
   "source": [
    "orders_df.head()"
   ]
  },
  {
   "cell_type": "markdown",
   "id": "61223c5f",
   "metadata": {},
   "source": [
    "# Формирование обучающей выборки"
   ]
  },
  {
   "cell_type": "markdown",
   "id": "6e8084c7",
   "metadata": {},
   "source": [
    "Теперь у нас есть вектор для каждого заказа.  \n",
    "Из этих векторов будем формировать обучающие примеры и таргет, который надо предсказать.  \n",
    "Обучающими примерами будут 10 (например) подряд идущих заказов, а одиннадцатый заказ - это таргет.  \n",
    "Если у какого-то пользователя более 11 заказов, то для него удастся сформировать несколько обучающих примеров\n",
    "(кол-во заказов минус 11).  \n",
    "Если кол-во заказов менее 11, то все равно сформируем последовательность из 11 заказов, добавив в начало\n",
    "несколько пустых заказов (пустой заказ - это вектор, состоящий из одних нулей)  "
   ]
  },
  {
   "cell_type": "code",
   "execution_count": 610,
   "id": "c539cdcb",
   "metadata": {},
   "outputs": [],
   "source": [
    "# Кол-во заказов для для тренировочной последовательности\n",
    "ORDERS_N = 10"
   ]
  },
  {
   "cell_type": "code",
   "execution_count": 611,
   "id": "91619ff3",
   "metadata": {},
   "outputs": [],
   "source": [
    "# Уникальные пользователи в заказах\n",
    "user_ids = orders_df['user_id'].unique()"
   ]
  },
  {
   "cell_type": "code",
   "execution_count": 612,
   "id": "0ccbbc46",
   "metadata": {},
   "outputs": [],
   "source": [
    "# Нулевой (пустой) фрейм (1 строка)\n",
    "empty_dict = {'user_id': 0, 'order_completed_at': pd.to_datetime('2000-01-01 00:00:00'),\n",
    "                        'cart': {}, 'index_cart': [], 'vector_cart': [0] * len(out_categories)}\n",
    "empty_df = pd.DataFrame({k: [v] for k, v in empty_dict.items()})"
   ]
  },
  {
   "cell_type": "code",
   "execution_count": 613,
   "id": "e8d30a0c",
   "metadata": {},
   "outputs": [
    {
     "data": {
      "text/html": [
       "<div>\n",
       "<style scoped>\n",
       "    .dataframe tbody tr th:only-of-type {\n",
       "        vertical-align: middle;\n",
       "    }\n",
       "\n",
       "    .dataframe tbody tr th {\n",
       "        vertical-align: top;\n",
       "    }\n",
       "\n",
       "    .dataframe thead th {\n",
       "        text-align: right;\n",
       "    }\n",
       "</style>\n",
       "<table border=\"1\" class=\"dataframe\">\n",
       "  <thead>\n",
       "    <tr style=\"text-align: right;\">\n",
       "      <th></th>\n",
       "      <th>user_id</th>\n",
       "      <th>order_completed_at</th>\n",
       "      <th>cart</th>\n",
       "      <th>index_cart</th>\n",
       "      <th>vector_cart</th>\n",
       "    </tr>\n",
       "  </thead>\n",
       "  <tbody>\n",
       "    <tr>\n",
       "      <th>0</th>\n",
       "      <td>0</td>\n",
       "      <td>2000-01-01</td>\n",
       "      <td>{}</td>\n",
       "      <td>[]</td>\n",
       "      <td>[0, 0, 0, 0, 0, 0, 0, 0, 0, 0, 0, 0, 0, 0, 0, ...</td>\n",
       "    </tr>\n",
       "  </tbody>\n",
       "</table>\n",
       "</div>"
      ],
      "text/plain": [
       "   user_id order_completed_at cart index_cart  \\\n",
       "0        0         2000-01-01   {}         []   \n",
       "\n",
       "                                         vector_cart  \n",
       "0  [0, 0, 0, 0, 0, 0, 0, 0, 0, 0, 0, 0, 0, 0, 0, ...  "
      ]
     },
     "execution_count": 613,
     "metadata": {},
     "output_type": "execute_result"
    }
   ],
   "source": [
    "empty_df"
   ]
  },
  {
   "cell_type": "code",
   "execution_count": 614,
   "id": "9ceaf7d1",
   "metadata": {},
   "outputs": [],
   "source": [
    "# Функция выравнивания кол-ва последовательности заказов, если она меньше чем ORDERS_N + 1\n",
    "def df_arrange(user_df, null_df):\n",
    "    if (len(user_df) <= ORDERS_N):\n",
    "        k = ORDERS_N + 1 - len(user_df)  # Сколько нулевых заказов надо вставить в начало фрейма\n",
    "        for _ in range(k):\n",
    "            user_df = pd.concat([null_df, user_df], ignore_index=True)  # Добавление нулевого заказа в начало\n",
    "    return user_df"
   ]
  },
  {
   "cell_type": "code",
   "execution_count": 615,
   "id": "28171aaf",
   "metadata": {},
   "outputs": [],
   "source": [
    "# Функция формирует список кортежей: (тренировочные примеры равной длины, таргет, дату последнего заказа)\n",
    "def create_inout_sequences(input_df, tw):\n",
    "    inout_seq = []\n",
    "    L = len(input_df)\n",
    "    input_df = input_df.to_numpy()\n",
    "    for i in range(L-tw):\n",
    "        train_seq = input_df[i:i+tw, 1].tolist()\n",
    "        train_label = input_df[i+tw, 1]\n",
    "        last_order_completed_at = input_df[i+tw, 0]\n",
    "        inout_seq.append((train_seq ,train_label, last_order_completed_at))\n",
    "    return inout_seq\n",
    "# Тут я кроме фич и таргета добавил дату (3-й элемент в кортежах)."
   ]
  },
  {
   "cell_type": "code",
   "execution_count": 616,
   "id": "b88374ff",
   "metadata": {},
   "outputs": [
    {
     "name": "stderr",
     "output_type": "stream",
     "text": [
      "100%|██████████| 20000/20000 [01:28<00:00, 224.95it/s]\n"
     ]
    }
   ],
   "source": [
    "# Подготовка тренировочных примеров по всем пользователям\n",
    "# Информация усредняется по всем пользователям\n",
    "counter = 0\n",
    "\n",
    "inout_seq = []\n",
    "with tqdm(total=len(user_ids)) as pbar:\n",
    "    for user_id in user_ids:\n",
    "\n",
    "        counter += 1\n",
    "        user_df = orders_df[orders_df['user_id'] == user_id]\n",
    "        user_df.sort_values(by='order_completed_at')\n",
    "        empty_df.loc[0, 'user_id'] = user_id\n",
    "        user_df = df_arrange(user_df, empty_df).reset_index(drop=True)\n",
    "        inout_seq.extend(create_inout_sequences(user_df.loc[:, ['order_completed_at', 'vector_cart']], ORDERS_N))\n",
    "\n",
    "        # Пока для тестов остановимся на заказах только от первых 1000 пользователей (из 20тыс)\n",
    "        # if counter == 1000:\n",
    "        #    break\n",
    "        \n",
    "\n",
    "        pbar.update()"
   ]
  },
  {
   "cell_type": "code",
   "execution_count": 617,
   "id": "fe389d15",
   "metadata": {},
   "outputs": [],
   "source": [
    "# Формирование тренировочной и тестовой выборки\n",
    "L = len(inout_seq)\n",
    "T = int(L * 0.8)\n",
    "# Сортровка по 3-му столбцу (last_order_completed_at)\n",
    "inout_seq.sort(key=lambda x:x[2])\n",
    "\n",
    "# Разбиение на тренировочную и тестовую выборку не нужно\n",
    "# train_X = torch.FloatTensor(np.array(inout_seq[:T])[:, 0].tolist())\n",
    "# train_Y = torch.FloatTensor(np.array(inout_seq[:T])[:, 1].tolist())\n",
    "# test_X = torch.FloatTensor(np.array(inout_seq[T:])[:, 0].tolist())\n",
    "# test_Y = torch.FloatTensor(np.array(inout_seq[T:])[:, 1].tolist())\n",
    "\n",
    "# Буду учиться на всех имеющихся данных\n",
    "train_X = torch.FloatTensor(np.array(inout_seq)[:, 0].tolist())\n",
    "train_Y = torch.FloatTensor(np.array(inout_seq)[:, 1].tolist())"
   ]
  },
  {
   "cell_type": "markdown",
   "id": "a1b04bf9",
   "metadata": {},
   "source": [
    "# Модель"
   ]
  },
  {
   "cell_type": "code",
   "execution_count": 618,
   "id": "b99d4679",
   "metadata": {},
   "outputs": [],
   "source": [
    "class LSTM_my(nn.Module):\n",
    "    def __init__(self, input_size=len(out_categories), hidden_layer_size=1000, output_size=len(out_categories)):\n",
    "        super().__init__()\n",
    "        self.hidden_layer_size = hidden_layer_size\n",
    "\n",
    "        self.lstm = nn.LSTM(input_size, hidden_layer_size)\n",
    "\n",
    "        self.linear = nn.Linear(hidden_layer_size, output_size)\n",
    "\n",
    "        self.hidden_cell = (torch.zeros(1,1,self.hidden_layer_size),\n",
    "                            torch.zeros(1,1,self.hidden_layer_size))\n",
    "        self.sigmoid = nn.Sigmoid()\n",
    "\n",
    "    def forward(self, input_seq):\n",
    "        lstm_out, self.hidden_cell = self.lstm(input_seq.view(len(input_seq) ,1, -1), self.hidden_cell)\n",
    "        predictions = self.linear(lstm_out.view(len(input_seq), -1))\n",
    "        \n",
    "#         prediction = self.sigmoid(predictions[-1])\n",
    "        prediction = predictions[-1]\n",
    "    \n",
    "        return prediction"
   ]
  },
  {
   "cell_type": "code",
   "execution_count": 619,
   "id": "5dc7e5ac",
   "metadata": {},
   "outputs": [],
   "source": [
    "model_my = LSTM_my()\n",
    "loss_function_my = nn.MSELoss()\n",
    "# loss_function_my = nn.BCELoss()\n",
    "# loss_function_my = nn.functional.binary_cross_entropy()\n",
    "optimizer_my = torch.optim.Adam(model_my.parameters(), lr=0.001)"
   ]
  },
  {
   "cell_type": "code",
   "execution_count": 620,
   "id": "a7632fc5",
   "metadata": {},
   "outputs": [
    {
     "name": "stdout",
     "output_type": "stream",
     "text": [
      "LSTM_my(\n",
      "  (lstm): LSTM(858, 1000)\n",
      "  (linear): Linear(in_features=1000, out_features=858, bias=True)\n",
      "  (sigmoid): Sigmoid()\n",
      ")\n"
     ]
    }
   ],
   "source": [
    "print(model_my)"
   ]
  },
  {
   "cell_type": "code",
   "execution_count": 621,
   "id": "45603e34",
   "metadata": {
    "scrolled": true
   },
   "outputs": [
    {
     "data": {
      "text/plain": [
       "'cpu'"
      ]
     },
     "execution_count": 621,
     "metadata": {},
     "output_type": "execute_result"
    }
   ],
   "source": [
    "device = torch.device('cuda:0' if torch.cuda.is_available() else 'cpu')\n",
    "device = 'cpu'\n",
    "device"
   ]
  },
  {
   "cell_type": "code",
   "execution_count": 622,
   "id": "ae067b3e",
   "metadata": {
    "scrolled": true
   },
   "outputs": [],
   "source": [
    "model_my.to(device)\n",
    "train_X = train_X.to(device)\n",
    "train_Y = train_Y.to(device)"
   ]
  },
  {
   "cell_type": "markdown",
   "id": "c5b2b76b",
   "metadata": {},
   "source": [
    "# Обучение модели"
   ]
  },
  {
   "cell_type": "code",
   "execution_count": 628,
   "id": "e91d293b",
   "metadata": {},
   "outputs": [
    {
     "name": "stderr",
     "output_type": "stream",
     "text": [
      "100%|██████████| 9092/9092 [20:42<00:00,  7.31it/s]"
     ]
    },
    {
     "name": "stdout",
     "output_type": "stream",
     "text": [
      "epoch: 9091 loss: 0.0076208692\n"
     ]
    },
    {
     "name": "stderr",
     "output_type": "stream",
     "text": [
      "\n"
     ]
    }
   ],
   "source": [
    "epochs = 1\n",
    "train_part = 0.1  # Доля тренировочных данных, участвующих в обучении\n",
    "\n",
    "for i in range(epochs):\n",
    "#     for seq, labels in train_inout_seq_my:\n",
    "    with tqdm(total=round(len(train_X) * train_part)) as pbar:\n",
    "        for i in range(round(len(train_X) * train_part)):\n",
    "            optimizer_my.zero_grad()\n",
    "            model_my.hidden_cell = (torch.zeros(1, 1, model_my.hidden_layer_size).to(device),\n",
    "                            torch.zeros(1, 1, model_my.hidden_layer_size).to(device))\n",
    "\n",
    "#             y_pred = model_my(train_X[i])\n",
    "            y_pred = model_my(train_X[len(train_X) - i - 1])  # Чтобы брать последние примеры (по дате)\n",
    "            \n",
    "            single_loss_my = loss_function_my(y_pred, train_Y[i])\n",
    "#             single_loss_my = nn.functional.binary_cross_entropy(y_pred, train_Y[i])\n",
    "\n",
    "            single_loss_my.backward()\n",
    "            optimizer_my.step()\n",
    "            \n",
    "            pbar.update()\n",
    "\n",
    "    if i%25 == 1:\n",
    "        print(f'epoch: {i:3} loss: {single_loss_my.item():10.8f}')\n",
    "\n",
    "print(f'epoch: {i:3} loss: {single_loss_my.item():10.10f}')"
   ]
  },
  {
   "cell_type": "code",
   "execution_count": 629,
   "id": "62f98587",
   "metadata": {},
   "outputs": [],
   "source": [
    "# Сохранение параметров обученной модели\n",
    "torch.save(model_my.state_dict(), 'LSTM_model_state_dict14.pt')"
   ]
  },
  {
   "cell_type": "code",
   "execution_count": 630,
   "id": "7d481108",
   "metadata": {},
   "outputs": [
    {
     "data": {
      "text/plain": [
       "LSTM_my(\n",
       "  (lstm): LSTM(858, 1000)\n",
       "  (linear): Linear(in_features=1000, out_features=858, bias=True)\n",
       "  (sigmoid): Sigmoid()\n",
       ")"
      ]
     },
     "execution_count": 630,
     "metadata": {},
     "output_type": "execute_result"
    }
   ],
   "source": [
    "# Загрузка параметров модели\n",
    "model_my.load_state_dict(torch.load('LSTM_model_state_dict14.pt'))\n",
    "model_my.eval()"
   ]
  },
  {
   "cell_type": "markdown",
   "id": "9e2563d5",
   "metadata": {},
   "source": [
    "# Прогноз корзины для каждого пользователя"
   ]
  },
  {
   "cell_type": "markdown",
   "id": "eb064dde",
   "metadata": {},
   "source": [
    "Нам нужны последние 10 заказов каждого пользователя  \n",
    "Добавить в начало пустые заказы, если их менее 10  \n",
    "Сделать прогноз по каждому пользователю  \n",
    "Из прогноза сделать submission  "
   ]
  },
  {
   "cell_type": "code",
   "execution_count": 631,
   "id": "06464dce",
   "metadata": {},
   "outputs": [],
   "source": [
    "# Этот параметр уже задан ранее\n",
    "# Кол-во заказов, по которому будем обучаться или предсказывать следующий заказ\n",
    "# ORDERS_N = 10"
   ]
  },
  {
   "cell_type": "code",
   "execution_count": 632,
   "id": "da9b59c2",
   "metadata": {},
   "outputs": [
    {
     "data": {
      "text/plain": [
       "LSTM_my(\n",
       "  (lstm): LSTM(858, 1000)\n",
       "  (linear): Linear(in_features=1000, out_features=858, bias=True)\n",
       "  (sigmoid): Sigmoid()\n",
       ")"
      ]
     },
     "execution_count": 632,
     "metadata": {},
     "output_type": "execute_result"
    }
   ],
   "source": [
    "model_my.eval()"
   ]
  },
  {
   "cell_type": "code",
   "execution_count": 633,
   "id": "f565a970",
   "metadata": {},
   "outputs": [
    {
     "name": "stderr",
     "output_type": "stream",
     "text": [
      "100%|██████████| 20000/20000 [11:52<00:00, 28.06it/s]  \n"
     ]
    }
   ],
   "source": [
    "# Порог для отнесения к 1-му классу\n",
    "TRESHOLD = 0.20\n",
    "\n",
    "predictions = {}\n",
    "predictions_raw = {}\n",
    "with tqdm(total=len(user_ids)) as pbar:\n",
    "    for user_id in user_ids:\n",
    "        # Подготовка последних заказов для каждого пользователя\n",
    "        user_df = orders_df[orders_df['user_id'] == user_id]\n",
    "        user_df.sort_values(by='order_completed_at')\n",
    "        empty_df.loc[0, 'user_id'] = user_id\n",
    "        user_df = df_arrange(user_df, empty_df).reset_index(drop=True)\n",
    "        # Оставляю только последние заказы\n",
    "        user_df = user_df.iloc[-ORDERS_N:]\n",
    "        \n",
    "        # Делаю прогноз\n",
    "        with torch.no_grad():\n",
    "            model_my.hidden = (torch.zeros(1, 1, model_my.hidden_layer_size).to(device),\n",
    "                            torch.zeros(1, 1, model_my.hidden_layer_size).to(device))\n",
    "            X = torch.FloatTensor(user_df.loc[:, ['vector_cart']].values.tolist()).to(device)\n",
    "            # Предсказание в сыром виде - просто какие-то числа\n",
    "            pred = model_my(X)\n",
    "            # Для чисел выше заданного порога определяю категорию - это и есть прогноз модели\n",
    "            pred_2 = [out_categories[i] for i, el in enumerate(pred) if el >= TRESHOLD]\n",
    "            predictions[user_id] = pred_2\n",
    "            predictions_raw[user_id] = pred\n",
    "            \n",
    "        pbar.update()"
   ]
  },
  {
   "cell_type": "code",
   "execution_count": 653,
   "id": "a2f38e3a",
   "metadata": {},
   "outputs": [],
   "source": [
    "# # Пробую потюнить порог\n",
    "# TRESHOLD = 0.15\n",
    "# for user_id in predictions_raw:\n",
    "#     predictions[user_id] = [out_categories[i] for i, el in enumerate(predictions_raw[user_id]) if el >= TRESHOLD]"
   ]
  },
  {
   "cell_type": "code",
   "execution_count": 667,
   "id": "51db9927",
   "metadata": {},
   "outputs": [],
   "source": [
    "CUR_USER_ID = 5"
   ]
  },
  {
   "cell_type": "code",
   "execution_count": 668,
   "id": "e26858c7",
   "metadata": {},
   "outputs": [
    {
     "data": {
      "text/plain": [
       "[9,\n",
       " 14,\n",
       " 16,\n",
       " 17,\n",
       " 19,\n",
       " 22,\n",
       " 23,\n",
       " 29,\n",
       " 41,\n",
       " 54,\n",
       " 55,\n",
       " 57,\n",
       " 61,\n",
       " 84,\n",
       " 88,\n",
       " 170,\n",
       " 376,\n",
       " 382,\n",
       " 396,\n",
       " 398,\n",
       " 402,\n",
       " 409,\n",
       " 420,\n",
       " 430]"
      ]
     },
     "execution_count": 668,
     "metadata": {},
     "output_type": "execute_result"
    }
   ],
   "source": [
    "# Пример прогноза для пользователя №3 (user_id == 3)\n",
    "predictions[CUR_USER_ID]"
   ]
  },
  {
   "cell_type": "code",
   "execution_count": 669,
   "id": "e2cd85a0",
   "metadata": {},
   "outputs": [
    {
     "data": {
      "text/plain": [
       "24"
      ]
     },
     "execution_count": 669,
     "metadata": {},
     "output_type": "execute_result"
    }
   ],
   "source": [
    "# Кол-во заказов в корзине пользователя\n",
    "len(predictions[CUR_USER_ID])"
   ]
  },
  {
   "cell_type": "code",
   "execution_count": 657,
   "id": "20857c12",
   "metadata": {},
   "outputs": [
    {
     "data": {
      "text/html": [
       "<div>\n",
       "<style scoped>\n",
       "    .dataframe tbody tr th:only-of-type {\n",
       "        vertical-align: middle;\n",
       "    }\n",
       "\n",
       "    .dataframe tbody tr th {\n",
       "        vertical-align: top;\n",
       "    }\n",
       "\n",
       "    .dataframe thead th {\n",
       "        text-align: right;\n",
       "    }\n",
       "</style>\n",
       "<table border=\"1\" class=\"dataframe\">\n",
       "  <thead>\n",
       "    <tr style=\"text-align: right;\">\n",
       "      <th></th>\n",
       "      <th>user_id</th>\n",
       "      <th>order_completed_at</th>\n",
       "      <th>cart</th>\n",
       "      <th>index_cart</th>\n",
       "      <th>vector_cart</th>\n",
       "    </tr>\n",
       "  </thead>\n",
       "  <tbody>\n",
       "    <tr>\n",
       "      <th>27</th>\n",
       "      <td>3</td>\n",
       "      <td>2015-06-18 16:15:33</td>\n",
       "      <td>{399}</td>\n",
       "      <td>[394]</td>\n",
       "      <td>[0, 0, 0, 0, 0, 0, 0, 0, 0, 0, 0, 0, 0, 0, 0, ...</td>\n",
       "    </tr>\n",
       "    <tr>\n",
       "      <th>28</th>\n",
       "      <td>3</td>\n",
       "      <td>2015-07-04 14:05:22</td>\n",
       "      <td>{399}</td>\n",
       "      <td>[394]</td>\n",
       "      <td>[0, 0, 0, 0, 0, 0, 0, 0, 0, 0, 0, 0, 0, 0, 0, ...</td>\n",
       "    </tr>\n",
       "    <tr>\n",
       "      <th>29</th>\n",
       "      <td>3</td>\n",
       "      <td>2015-08-12 10:33:44</td>\n",
       "      <td>{804, 134}</td>\n",
       "      <td>[782, 133]</td>\n",
       "      <td>[0, 0, 0, 0, 0, 0, 0, 0, 0, 0, 0, 0, 0, 0, 0, ...</td>\n",
       "    </tr>\n",
       "    <tr>\n",
       "      <th>30</th>\n",
       "      <td>3</td>\n",
       "      <td>2015-11-27 19:37:17</td>\n",
       "      <td>{399}</td>\n",
       "      <td>[394]</td>\n",
       "      <td>[0, 0, 0, 0, 0, 0, 0, 0, 0, 0, 0, 0, 0, 0, 0, ...</td>\n",
       "    </tr>\n",
       "    <tr>\n",
       "      <th>31</th>\n",
       "      <td>3</td>\n",
       "      <td>2020-04-12 10:57:57</td>\n",
       "      <td>{398, 15, 16, 19, 22, 27, 412, 41, 43, 430, 17...</td>\n",
       "      <td>[393, 15, 16, 19, 22, 27, 407, 40, 42, 425, 17...</td>\n",
       "      <td>[0, 0, 0, 0, 0, 0, 0, 0, 0, 0, 0, 0, 0, 0, 0, ...</td>\n",
       "    </tr>\n",
       "    <tr>\n",
       "      <th>32</th>\n",
       "      <td>3</td>\n",
       "      <td>2020-06-12 14:49:01</td>\n",
       "      <td>{398, 15, 16, 402, 19, 404, 148, 411, 41, 42, ...</td>\n",
       "      <td>[393, 15, 16, 397, 19, 399, 147, 406, 40, 41, ...</td>\n",
       "      <td>[0, 0, 0, 0, 0, 0, 0, 0, 0, 0, 0, 0, 0, 0, 0, ...</td>\n",
       "    </tr>\n",
       "    <tr>\n",
       "      <th>33</th>\n",
       "      <td>3</td>\n",
       "      <td>2020-06-24 13:07:29</td>\n",
       "      <td>{64, 41, 43, 14, 92, 142, 17, 19, 179, 22, 57,...</td>\n",
       "      <td>[63, 40, 42, 14, 91, 141, 17, 19, 178, 22, 56,...</td>\n",
       "      <td>[0, 0, 0, 0, 0, 0, 0, 0, 0, 0, 0, 0, 0, 0, 1, ...</td>\n",
       "    </tr>\n",
       "  </tbody>\n",
       "</table>\n",
       "</div>"
      ],
      "text/plain": [
       "    user_id  order_completed_at  \\\n",
       "27        3 2015-06-18 16:15:33   \n",
       "28        3 2015-07-04 14:05:22   \n",
       "29        3 2015-08-12 10:33:44   \n",
       "30        3 2015-11-27 19:37:17   \n",
       "31        3 2020-04-12 10:57:57   \n",
       "32        3 2020-06-12 14:49:01   \n",
       "33        3 2020-06-24 13:07:29   \n",
       "\n",
       "                                                 cart  \\\n",
       "27                                              {399}   \n",
       "28                                              {399}   \n",
       "29                                         {804, 134}   \n",
       "30                                              {399}   \n",
       "31  {398, 15, 16, 19, 22, 27, 412, 41, 43, 430, 17...   \n",
       "32  {398, 15, 16, 402, 19, 404, 148, 411, 41, 42, ...   \n",
       "33  {64, 41, 43, 14, 92, 142, 17, 19, 179, 22, 57,...   \n",
       "\n",
       "                                           index_cart  \\\n",
       "27                                              [394]   \n",
       "28                                              [394]   \n",
       "29                                         [782, 133]   \n",
       "30                                              [394]   \n",
       "31  [393, 15, 16, 19, 22, 27, 407, 40, 42, 425, 17...   \n",
       "32  [393, 15, 16, 397, 19, 399, 147, 406, 40, 41, ...   \n",
       "33  [63, 40, 42, 14, 91, 141, 17, 19, 178, 22, 56,...   \n",
       "\n",
       "                                          vector_cart  \n",
       "27  [0, 0, 0, 0, 0, 0, 0, 0, 0, 0, 0, 0, 0, 0, 0, ...  \n",
       "28  [0, 0, 0, 0, 0, 0, 0, 0, 0, 0, 0, 0, 0, 0, 0, ...  \n",
       "29  [0, 0, 0, 0, 0, 0, 0, 0, 0, 0, 0, 0, 0, 0, 0, ...  \n",
       "30  [0, 0, 0, 0, 0, 0, 0, 0, 0, 0, 0, 0, 0, 0, 0, ...  \n",
       "31  [0, 0, 0, 0, 0, 0, 0, 0, 0, 0, 0, 0, 0, 0, 0, ...  \n",
       "32  [0, 0, 0, 0, 0, 0, 0, 0, 0, 0, 0, 0, 0, 0, 0, ...  \n",
       "33  [0, 0, 0, 0, 0, 0, 0, 0, 0, 0, 0, 0, 0, 0, 1, ...  "
      ]
     },
     "execution_count": 657,
     "metadata": {},
     "output_type": "execute_result"
    }
   ],
   "source": [
    "# Вот заказы этого пользователя:\n",
    "orders_df[orders_df['user_id'] == CUR_USER_ID]"
   ]
  },
  {
   "cell_type": "markdown",
   "id": "30642d94",
   "metadata": {},
   "source": [
    "# Делаем submissions"
   ]
  },
  {
   "cell_type": "code",
   "execution_count": 658,
   "id": "b09b8132",
   "metadata": {},
   "outputs": [],
   "source": [
    "sample_out_df = pd.read_csv('sample_submission.csv')\n",
    "#Найдем всех уникальных пользователей и товары в выходном файле (т.е. те сущности, которые надо предсказать)\n",
    "sample_out_df['user_category'] = sample_out_df['id'].apply(lambda x: x.split(';'))\n",
    "sample_out_df['user'] = sample_out_df['user_category'].apply(lambda x: int(x[0]))\n",
    "sample_out_df['category'] = sample_out_df['user_category'].apply(lambda x: int(x[1]))"
   ]
  },
  {
   "cell_type": "code",
   "execution_count": 659,
   "id": "3fc7a349",
   "metadata": {},
   "outputs": [
    {
     "data": {
      "text/html": [
       "<div>\n",
       "<style scoped>\n",
       "    .dataframe tbody tr th:only-of-type {\n",
       "        vertical-align: middle;\n",
       "    }\n",
       "\n",
       "    .dataframe tbody tr th {\n",
       "        vertical-align: top;\n",
       "    }\n",
       "\n",
       "    .dataframe thead th {\n",
       "        text-align: right;\n",
       "    }\n",
       "</style>\n",
       "<table border=\"1\" class=\"dataframe\">\n",
       "  <thead>\n",
       "    <tr style=\"text-align: right;\">\n",
       "      <th></th>\n",
       "      <th>id</th>\n",
       "      <th>target</th>\n",
       "      <th>user_category</th>\n",
       "      <th>user</th>\n",
       "      <th>category</th>\n",
       "    </tr>\n",
       "  </thead>\n",
       "  <tbody>\n",
       "    <tr>\n",
       "      <th>0</th>\n",
       "      <td>0;133</td>\n",
       "      <td>0</td>\n",
       "      <td>[0, 133]</td>\n",
       "      <td>0</td>\n",
       "      <td>133</td>\n",
       "    </tr>\n",
       "    <tr>\n",
       "      <th>1</th>\n",
       "      <td>0;5</td>\n",
       "      <td>1</td>\n",
       "      <td>[0, 5]</td>\n",
       "      <td>0</td>\n",
       "      <td>5</td>\n",
       "    </tr>\n",
       "    <tr>\n",
       "      <th>2</th>\n",
       "      <td>0;10</td>\n",
       "      <td>0</td>\n",
       "      <td>[0, 10]</td>\n",
       "      <td>0</td>\n",
       "      <td>10</td>\n",
       "    </tr>\n",
       "    <tr>\n",
       "      <th>3</th>\n",
       "      <td>0;396</td>\n",
       "      <td>1</td>\n",
       "      <td>[0, 396]</td>\n",
       "      <td>0</td>\n",
       "      <td>396</td>\n",
       "    </tr>\n",
       "    <tr>\n",
       "      <th>4</th>\n",
       "      <td>0;14</td>\n",
       "      <td>0</td>\n",
       "      <td>[0, 14]</td>\n",
       "      <td>0</td>\n",
       "      <td>14</td>\n",
       "    </tr>\n",
       "  </tbody>\n",
       "</table>\n",
       "</div>"
      ],
      "text/plain": [
       "      id  target user_category  user  category\n",
       "0  0;133       0      [0, 133]     0       133\n",
       "1    0;5       1        [0, 5]     0         5\n",
       "2   0;10       0       [0, 10]     0        10\n",
       "3  0;396       1      [0, 396]     0       396\n",
       "4   0;14       0       [0, 14]     0        14"
      ]
     },
     "execution_count": 659,
     "metadata": {},
     "output_type": "execute_result"
    }
   ],
   "source": [
    "sample_out_df.head()"
   ]
  },
  {
   "cell_type": "code",
   "execution_count": 660,
   "id": "df4a0d86",
   "metadata": {},
   "outputs": [],
   "source": [
    "# Обновления таргетов в соответствиями с предсказаниями нейросети:\n",
    "sample_out_df['target'] = sample_out_df.apply(lambda x: x['category'] in predictions[x['user']], axis=1).astype(int)"
   ]
  },
  {
   "cell_type": "code",
   "execution_count": 661,
   "id": "d0389250",
   "metadata": {},
   "outputs": [
    {
     "data": {
      "text/plain": [
       "[9,\n",
       " 14,\n",
       " 16,\n",
       " 17,\n",
       " 19,\n",
       " 21,\n",
       " 22,\n",
       " 23,\n",
       " 29,\n",
       " 41,\n",
       " 55,\n",
       " 57,\n",
       " 61,\n",
       " 82,\n",
       " 84,\n",
       " 169,\n",
       " 382,\n",
       " 383,\n",
       " 398,\n",
       " 402,\n",
       " 409,\n",
       " 425,\n",
       " 430]"
      ]
     },
     "execution_count": 661,
     "metadata": {},
     "output_type": "execute_result"
    }
   ],
   "source": [
    "# Еще раз прогноз для пользователя №3\n",
    "predictions[CUR_USER_ID]"
   ]
  },
  {
   "cell_type": "code",
   "execution_count": 662,
   "id": "4a4c5327",
   "metadata": {},
   "outputs": [
    {
     "data": {
      "text/html": [
       "<div>\n",
       "<style scoped>\n",
       "    .dataframe tbody tr th:only-of-type {\n",
       "        vertical-align: middle;\n",
       "    }\n",
       "\n",
       "    .dataframe tbody tr th {\n",
       "        vertical-align: top;\n",
       "    }\n",
       "\n",
       "    .dataframe thead th {\n",
       "        text-align: right;\n",
       "    }\n",
       "</style>\n",
       "<table border=\"1\" class=\"dataframe\">\n",
       "  <thead>\n",
       "    <tr style=\"text-align: right;\">\n",
       "      <th></th>\n",
       "      <th>id</th>\n",
       "      <th>target</th>\n",
       "      <th>user_category</th>\n",
       "      <th>user</th>\n",
       "      <th>category</th>\n",
       "    </tr>\n",
       "  </thead>\n",
       "  <tbody>\n",
       "    <tr>\n",
       "      <th>56</th>\n",
       "      <td>3;134</td>\n",
       "      <td>0</td>\n",
       "      <td>[3, 134]</td>\n",
       "      <td>3</td>\n",
       "      <td>134</td>\n",
       "    </tr>\n",
       "    <tr>\n",
       "      <th>57</th>\n",
       "      <td>3;398</td>\n",
       "      <td>1</td>\n",
       "      <td>[3, 398]</td>\n",
       "      <td>3</td>\n",
       "      <td>398</td>\n",
       "    </tr>\n",
       "    <tr>\n",
       "      <th>58</th>\n",
       "      <td>3;399</td>\n",
       "      <td>0</td>\n",
       "      <td>[3, 399]</td>\n",
       "      <td>3</td>\n",
       "      <td>399</td>\n",
       "    </tr>\n",
       "    <tr>\n",
       "      <th>59</th>\n",
       "      <td>3;15</td>\n",
       "      <td>0</td>\n",
       "      <td>[3, 15]</td>\n",
       "      <td>3</td>\n",
       "      <td>15</td>\n",
       "    </tr>\n",
       "    <tr>\n",
       "      <th>60</th>\n",
       "      <td>3;16</td>\n",
       "      <td>1</td>\n",
       "      <td>[3, 16]</td>\n",
       "      <td>3</td>\n",
       "      <td>16</td>\n",
       "    </tr>\n",
       "  </tbody>\n",
       "</table>\n",
       "</div>"
      ],
      "text/plain": [
       "       id  target user_category  user  category\n",
       "56  3;134       0      [3, 134]     3       134\n",
       "57  3;398       1      [3, 398]     3       398\n",
       "58  3;399       0      [3, 399]     3       399\n",
       "59   3;15       0       [3, 15]     3        15\n",
       "60   3;16       1       [3, 16]     3        16"
      ]
     },
     "execution_count": 662,
     "metadata": {},
     "output_type": "execute_result"
    }
   ],
   "source": [
    "# Проверяю глазами: если категория есть в предсказании, то 1. Иначе - 0\n",
    "# 398 и 16 категории присутствуют - для них 1 в target - все верно.\n",
    "sample_out_df[sample_out_df['user'] == CUR_USER_ID].head()"
   ]
  },
  {
   "cell_type": "code",
   "execution_count": 663,
   "id": "58be3a5c",
   "metadata": {},
   "outputs": [],
   "source": [
    "sub_df = sample_out_df.copy()\n",
    "sub_df = sub_df.loc[:, ['id', 'target']]\n",
    "sub_df.to_csv('sub50.csv', index=False)   # Score = 0.45558\n",
    "# Ура! Новый рекорд!"
   ]
  },
  {
   "cell_type": "markdown",
   "id": "9e509d46",
   "metadata": {},
   "source": [
    "# Еще одна гипотеза"
   ]
  },
  {
   "cell_type": "markdown",
   "id": "9fa5c07a",
   "metadata": {},
   "source": [
    "Теперь совместим результаты LTSM и популярные товары (по ним был хороший результат в первом ноутбуке)  \n",
    "То есть возьмем результаты LTSM и для всех популярных товаров поставим 1"
   ]
  },
  {
   "cell_type": "code",
   "execution_count": 645,
   "id": "96e29924",
   "metadata": {},
   "outputs": [],
   "source": [
    "popular_df = df.groupby('cart')['order_completed_at'].count().to_frame().reset_index()  \\\n",
    "                .rename({'order_completed_at': 'orders_count'}, axis=1)  \\\n",
    "                .sort_values(by='orders_count', ascending=False)\n",
    "popular_df = popular_df[popular_df['orders_count'] > 20000]"
   ]
  },
  {
   "cell_type": "code",
   "execution_count": 92,
   "id": "908282ec",
   "metadata": {},
   "outputs": [
    {
     "data": {
      "text/html": [
       "<div>\n",
       "<style scoped>\n",
       "    .dataframe tbody tr th:only-of-type {\n",
       "        vertical-align: middle;\n",
       "    }\n",
       "\n",
       "    .dataframe tbody tr th {\n",
       "        vertical-align: top;\n",
       "    }\n",
       "\n",
       "    .dataframe thead th {\n",
       "        text-align: right;\n",
       "    }\n",
       "</style>\n",
       "<table border=\"1\" class=\"dataframe\">\n",
       "  <thead>\n",
       "    <tr style=\"text-align: right;\">\n",
       "      <th></th>\n",
       "      <th>cart</th>\n",
       "      <th>orders_count</th>\n",
       "    </tr>\n",
       "  </thead>\n",
       "  <tbody>\n",
       "    <tr>\n",
       "      <th>57</th>\n",
       "      <td>57</td>\n",
       "      <td>108877</td>\n",
       "    </tr>\n",
       "    <tr>\n",
       "      <th>14</th>\n",
       "      <td>14</td>\n",
       "      <td>93957</td>\n",
       "    </tr>\n",
       "    <tr>\n",
       "      <th>61</th>\n",
       "      <td>61</td>\n",
       "      <td>91543</td>\n",
       "    </tr>\n",
       "    <tr>\n",
       "      <th>398</th>\n",
       "      <td>398</td>\n",
       "      <td>81694</td>\n",
       "    </tr>\n",
       "    <tr>\n",
       "      <th>23</th>\n",
       "      <td>23</td>\n",
       "      <td>71837</td>\n",
       "    </tr>\n",
       "  </tbody>\n",
       "</table>\n",
       "</div>"
      ],
      "text/plain": [
       "     cart  orders_count\n",
       "57     57        108877\n",
       "14     14         93957\n",
       "61     61         91543\n",
       "398   398         81694\n",
       "23     23         71837"
      ]
     },
     "execution_count": 92,
     "metadata": {},
     "output_type": "execute_result"
    }
   ],
   "source": [
    "popular_df.head()"
   ]
  },
  {
   "cell_type": "code",
   "execution_count": 93,
   "id": "1d1f1953",
   "metadata": {},
   "outputs": [],
   "source": [
    "popular_categories = popular_df['cart'].values.tolist()"
   ]
  },
  {
   "cell_type": "code",
   "execution_count": 94,
   "id": "16459eba",
   "metadata": {},
   "outputs": [],
   "source": [
    "sub_df = sample_out_df.copy()"
   ]
  },
  {
   "cell_type": "code",
   "execution_count": 95,
   "id": "19a894f5",
   "metadata": {},
   "outputs": [],
   "source": [
    "sub_df.loc[sub_df['category'].isin(popular_categories), 'target'] = 1"
   ]
  },
  {
   "cell_type": "code",
   "execution_count": 96,
   "id": "0fb54548",
   "metadata": {},
   "outputs": [],
   "source": [
    "sub_df = sub_df.loc[:, ['id', 'target']]\n",
    "sub_df.to_csv('sub19.csv', index=False)   # Score = 0.41062\n",
    "# Улучшить не удалось"
   ]
  },
  {
   "cell_type": "markdown",
   "id": "dea7ca96",
   "metadata": {},
   "source": [
    "# Выводы:"
   ]
  },
  {
   "cell_type": "markdown",
   "id": "3d3a4895",
   "metadata": {},
   "source": [
    "1. Лучший результат был получен с помощью LSTM (Score = 0.45558)  \n",
    "2. Хотя предсказывать просто самые популярные товары тоже дает неплохой результат (без всякого ML)  \n",
    "3. Имеется очень большой потенциал для улучшения результата (хотя это потребует много времени):  \n",
    "    - обучить LSTM на всех имеющихся данных (сейчас использовано только 5%)  \n",
    "    - обучить LSTM хотя бы несколько эпох (сейчас была всего 1 эпоха)  \n",
    "    - поэкспериментировать с порогом для отнесения к 1-му классу (порог 0.2 был взят на глазок)  \n",
    "    - поэкспериментировать с learning rate, оптимизатором и функцией потерь  \n",
    "    - поэкспериментировать с количеством нейронов в линейном слое модели (и с количеством этих слоев)  "
   ]
  },
  {
   "cell_type": "code",
   "execution_count": null,
   "id": "0c12c04f",
   "metadata": {},
   "outputs": [],
   "source": []
  },
  {
   "cell_type": "code",
   "execution_count": null,
   "id": "c6fd0e77",
   "metadata": {},
   "outputs": [],
   "source": []
  },
  {
   "cell_type": "code",
   "execution_count": null,
   "id": "10220f96",
   "metadata": {},
   "outputs": [],
   "source": []
  }
 ],
 "metadata": {
  "kernelspec": {
   "display_name": "Python 3",
   "language": "python",
   "name": "python3"
  },
  "language_info": {
   "codemirror_mode": {
    "name": "ipython",
    "version": 3
   },
   "file_extension": ".py",
   "mimetype": "text/x-python",
   "name": "python",
   "nbconvert_exporter": "python",
   "pygments_lexer": "ipython3",
   "version": "3.8.10"
  }
 },
 "nbformat": 4,
 "nbformat_minor": 5
}
