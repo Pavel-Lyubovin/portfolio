{
 "cells": [
  {
   "cell_type": "markdown",
   "id": "f7c4b090",
   "metadata": {},
   "source": [
    "Автор: Павел Любовин    \n",
    "chistota@mail.ru   "
   ]
  },
  {
   "cell_type": "markdown",
   "id": "1f70582c",
   "metadata": {},
   "source": [
    "# Прогноз состава корзины следующего заказа"
   ]
  },
  {
   "cell_type": "markdown",
   "id": "00d953c4",
   "metadata": {},
   "source": [
    "Ссылка на соревнование:\n",
    "https://www.kaggle.com/c/sbermarket-internship-competition"
   ]
  },
  {
   "cell_type": "markdown",
   "id": "4d63068b",
   "metadata": {},
   "source": [
    "Описание задачи:\n",
    "На основании данных о заказах пользователей предсказать какие категории товаров будут заказаны в следующий раз.\n",
    "\n",
    "Формат данных о заказах:\n",
    "\n",
    "    - user_id - уникальный id пользователя\n",
    "    - order_completed_at - дата заказа\n",
    "    - cart - список уникальных категорий (category_id), из которых состоял заказ\n",
    "\n",
    "Формат прогноза:\n",
    "    \n",
    "    - id - идентификатор строки - состоит из user_id и category_id, разделенных точкой с запятой: f'{user_id};{category_id}'. Из-за особенностей проверяющей системы Kaggle InClass, использовать колонки user_id, category_id в качестве индекса отдельно невозможно\n",
    "    - target - 1 или 0 - будет ли данная категория присутствовать в следующем заказе пользователя\n",
    "    \n",
    "Прогноз необходимо сделать именно для тех пар {user_id};{category_id}, которые представлены в sample_submission.csv"
   ]
  },
  {
   "cell_type": "markdown",
   "id": "0661c847",
   "metadata": {},
   "source": [
    "# Импорт библиотек и загрузка данных"
   ]
  },
  {
   "cell_type": "code",
   "execution_count": 1,
   "id": "eeb0c963",
   "metadata": {},
   "outputs": [],
   "source": [
    "import pandas as pd\n",
    "import numpy as np"
   ]
  },
  {
   "cell_type": "code",
   "execution_count": 2,
   "id": "00a7f257",
   "metadata": {},
   "outputs": [],
   "source": [
    "df = pd.read_csv('train.csv')"
   ]
  },
  {
   "cell_type": "code",
   "execution_count": 3,
   "id": "13a81d80",
   "metadata": {},
   "outputs": [
    {
     "data": {
      "text/html": [
       "<div>\n",
       "<style scoped>\n",
       "    .dataframe tbody tr th:only-of-type {\n",
       "        vertical-align: middle;\n",
       "    }\n",
       "\n",
       "    .dataframe tbody tr th {\n",
       "        vertical-align: top;\n",
       "    }\n",
       "\n",
       "    .dataframe thead th {\n",
       "        text-align: right;\n",
       "    }\n",
       "</style>\n",
       "<table border=\"1\" class=\"dataframe\">\n",
       "  <thead>\n",
       "    <tr style=\"text-align: right;\">\n",
       "      <th></th>\n",
       "      <th>user_id</th>\n",
       "      <th>order_completed_at</th>\n",
       "      <th>cart</th>\n",
       "    </tr>\n",
       "  </thead>\n",
       "  <tbody>\n",
       "    <tr>\n",
       "      <th>0</th>\n",
       "      <td>2</td>\n",
       "      <td>2015-03-22 09:25:46</td>\n",
       "      <td>399</td>\n",
       "    </tr>\n",
       "    <tr>\n",
       "      <th>1</th>\n",
       "      <td>2</td>\n",
       "      <td>2015-03-22 09:25:46</td>\n",
       "      <td>14</td>\n",
       "    </tr>\n",
       "    <tr>\n",
       "      <th>2</th>\n",
       "      <td>2</td>\n",
       "      <td>2015-03-22 09:25:46</td>\n",
       "      <td>198</td>\n",
       "    </tr>\n",
       "    <tr>\n",
       "      <th>3</th>\n",
       "      <td>2</td>\n",
       "      <td>2015-03-22 09:25:46</td>\n",
       "      <td>88</td>\n",
       "    </tr>\n",
       "    <tr>\n",
       "      <th>4</th>\n",
       "      <td>2</td>\n",
       "      <td>2015-03-22 09:25:46</td>\n",
       "      <td>157</td>\n",
       "    </tr>\n",
       "  </tbody>\n",
       "</table>\n",
       "</div>"
      ],
      "text/plain": [
       "   user_id   order_completed_at  cart\n",
       "0        2  2015-03-22 09:25:46   399\n",
       "1        2  2015-03-22 09:25:46    14\n",
       "2        2  2015-03-22 09:25:46   198\n",
       "3        2  2015-03-22 09:25:46    88\n",
       "4        2  2015-03-22 09:25:46   157"
      ]
     },
     "execution_count": 3,
     "metadata": {},
     "output_type": "execute_result"
    }
   ],
   "source": [
    "df.head()"
   ]
  },
  {
   "cell_type": "code",
   "execution_count": 4,
   "id": "d5715412",
   "metadata": {},
   "outputs": [],
   "source": [
    "df['order_completed_at'] = pd.to_datetime(df['order_completed_at'])  # Привожу к дате-времени"
   ]
  },
  {
   "cell_type": "code",
   "execution_count": 5,
   "id": "5d4c8d67",
   "metadata": {},
   "outputs": [],
   "source": [
    "sample_out_df = pd.read_csv('sample_submission.csv')"
   ]
  },
  {
   "cell_type": "code",
   "execution_count": 6,
   "id": "bfe75fa1",
   "metadata": {},
   "outputs": [
    {
     "data": {
      "text/html": [
       "<div>\n",
       "<style scoped>\n",
       "    .dataframe tbody tr th:only-of-type {\n",
       "        vertical-align: middle;\n",
       "    }\n",
       "\n",
       "    .dataframe tbody tr th {\n",
       "        vertical-align: top;\n",
       "    }\n",
       "\n",
       "    .dataframe thead th {\n",
       "        text-align: right;\n",
       "    }\n",
       "</style>\n",
       "<table border=\"1\" class=\"dataframe\">\n",
       "  <thead>\n",
       "    <tr style=\"text-align: right;\">\n",
       "      <th></th>\n",
       "      <th>id</th>\n",
       "      <th>target</th>\n",
       "    </tr>\n",
       "  </thead>\n",
       "  <tbody>\n",
       "    <tr>\n",
       "      <th>0</th>\n",
       "      <td>0;133</td>\n",
       "      <td>0</td>\n",
       "    </tr>\n",
       "    <tr>\n",
       "      <th>1</th>\n",
       "      <td>0;5</td>\n",
       "      <td>1</td>\n",
       "    </tr>\n",
       "    <tr>\n",
       "      <th>2</th>\n",
       "      <td>0;10</td>\n",
       "      <td>0</td>\n",
       "    </tr>\n",
       "    <tr>\n",
       "      <th>3</th>\n",
       "      <td>0;396</td>\n",
       "      <td>1</td>\n",
       "    </tr>\n",
       "    <tr>\n",
       "      <th>4</th>\n",
       "      <td>0;14</td>\n",
       "      <td>0</td>\n",
       "    </tr>\n",
       "  </tbody>\n",
       "</table>\n",
       "</div>"
      ],
      "text/plain": [
       "      id  target\n",
       "0  0;133       0\n",
       "1    0;5       1\n",
       "2   0;10       0\n",
       "3  0;396       1\n",
       "4   0;14       0"
      ]
     },
     "execution_count": 6,
     "metadata": {},
     "output_type": "execute_result"
    }
   ],
   "source": [
    "sample_out_df.head()"
   ]
  },
  {
   "cell_type": "markdown",
   "id": "4edcac33",
   "metadata": {},
   "source": [
    "# Эксплоративный анализ"
   ]
  },
  {
   "cell_type": "code",
   "execution_count": 7,
   "id": "5eb851a8",
   "metadata": {},
   "outputs": [],
   "source": [
    "#Найдем всех уникальных пользователей и товары в выходном файле (т.е. те сущности, которые надо предсказать)\n",
    "sample_out_df['user_category'] = sample_out_df['id'].apply(lambda x: x.split(';'))"
   ]
  },
  {
   "cell_type": "code",
   "execution_count": 8,
   "id": "278c44cb",
   "metadata": {},
   "outputs": [],
   "source": [
    "sample_out_df['user'] = sample_out_df['user_category'].apply(lambda x: int(x[0]))\n",
    "sample_out_df['category'] = sample_out_df['user_category'].apply(lambda x: int(x[1]))"
   ]
  },
  {
   "cell_type": "code",
   "execution_count": 9,
   "id": "d0d381c6",
   "metadata": {},
   "outputs": [
    {
     "data": {
      "text/html": [
       "<div>\n",
       "<style scoped>\n",
       "    .dataframe tbody tr th:only-of-type {\n",
       "        vertical-align: middle;\n",
       "    }\n",
       "\n",
       "    .dataframe tbody tr th {\n",
       "        vertical-align: top;\n",
       "    }\n",
       "\n",
       "    .dataframe thead th {\n",
       "        text-align: right;\n",
       "    }\n",
       "</style>\n",
       "<table border=\"1\" class=\"dataframe\">\n",
       "  <thead>\n",
       "    <tr style=\"text-align: right;\">\n",
       "      <th></th>\n",
       "      <th>id</th>\n",
       "      <th>target</th>\n",
       "      <th>user_category</th>\n",
       "      <th>user</th>\n",
       "      <th>category</th>\n",
       "    </tr>\n",
       "  </thead>\n",
       "  <tbody>\n",
       "    <tr>\n",
       "      <th>0</th>\n",
       "      <td>0;133</td>\n",
       "      <td>0</td>\n",
       "      <td>[0, 133]</td>\n",
       "      <td>0</td>\n",
       "      <td>133</td>\n",
       "    </tr>\n",
       "    <tr>\n",
       "      <th>1</th>\n",
       "      <td>0;5</td>\n",
       "      <td>1</td>\n",
       "      <td>[0, 5]</td>\n",
       "      <td>0</td>\n",
       "      <td>5</td>\n",
       "    </tr>\n",
       "    <tr>\n",
       "      <th>2</th>\n",
       "      <td>0;10</td>\n",
       "      <td>0</td>\n",
       "      <td>[0, 10]</td>\n",
       "      <td>0</td>\n",
       "      <td>10</td>\n",
       "    </tr>\n",
       "    <tr>\n",
       "      <th>3</th>\n",
       "      <td>0;396</td>\n",
       "      <td>1</td>\n",
       "      <td>[0, 396]</td>\n",
       "      <td>0</td>\n",
       "      <td>396</td>\n",
       "    </tr>\n",
       "    <tr>\n",
       "      <th>4</th>\n",
       "      <td>0;14</td>\n",
       "      <td>0</td>\n",
       "      <td>[0, 14]</td>\n",
       "      <td>0</td>\n",
       "      <td>14</td>\n",
       "    </tr>\n",
       "  </tbody>\n",
       "</table>\n",
       "</div>"
      ],
      "text/plain": [
       "      id  target user_category  user  category\n",
       "0  0;133       0      [0, 133]     0       133\n",
       "1    0;5       1        [0, 5]     0         5\n",
       "2   0;10       0       [0, 10]     0        10\n",
       "3  0;396       1      [0, 396]     0       396\n",
       "4   0;14       0       [0, 14]     0        14"
      ]
     },
     "execution_count": 9,
     "metadata": {},
     "output_type": "execute_result"
    }
   ],
   "source": [
    "sample_out_df.head()"
   ]
  },
  {
   "cell_type": "code",
   "execution_count": 10,
   "id": "27ccee70",
   "metadata": {},
   "outputs": [],
   "source": [
    "out_users = pd.unique(sample_out_df['user'])\n",
    "out_categories = pd.unique(sample_out_df['category'])"
   ]
  },
  {
   "cell_type": "code",
   "execution_count": 11,
   "id": "c870fc5b",
   "metadata": {},
   "outputs": [
    {
     "name": "stdout",
     "output_type": "stream",
     "text": [
      "Количество записей в выходном файле:: 790449\n",
      "Количество уникальных пользователей в выходном файле: 13036\n",
      "Количество уникальных категорий в выходном файле: 858\n"
     ]
    }
   ],
   "source": [
    "print('Количество записей в выходном файле::', len(sample_out_df))\n",
    "print('Количество уникальных пользователей в выходном файле:', len(out_users))\n",
    "print('Количество уникальных категорий в выходном файле:', len(out_categories))"
   ]
  },
  {
   "cell_type": "code",
   "execution_count": 12,
   "id": "7760209d",
   "metadata": {},
   "outputs": [
    {
     "name": "stdout",
     "output_type": "stream",
     "text": [
      "Количество записей в тренировочном датасете: 3123064\n",
      "Количество уникальных пользователей в тренировочном датасете: 20000\n",
      "Количество уникальных категорий в тренировочном датасете: 881\n"
     ]
    }
   ],
   "source": [
    "# Теперь исследуем тренировочный датасет\n",
    "print('Количество записей в тренировочном датасете:', len(df))\n",
    "print('Количество уникальных пользователей в тренировочном датасете:', len(pd.unique(df['user_id'])))\n",
    "print('Количество уникальных категорий в тренировочном датасете:', len(pd.unique(df['cart'])))"
   ]
  },
  {
   "cell_type": "markdown",
   "id": "2eb8a9ec",
   "metadata": {},
   "source": [
    "Как видно, в тренировочных данных присутствует бОльшее количество пользователи и категорий,\n",
    "чем те, которые надо предсказать.\n",
    "Сделаю предположение, что от этих лишних пользователей и категорий можно избавиться,\n",
    "т.к. они, скорее всего, не несут большого смысла в рамках этой конкретной задачи. (Но это не точно )))"
   ]
  },
  {
   "cell_type": "code",
   "execution_count": 13,
   "id": "cc5ffd31",
   "metadata": {},
   "outputs": [],
   "source": [
    "df_cut = df.loc[df['user_id'].isin(out_users) & df['cart'].isin(out_categories)]"
   ]
  },
  {
   "cell_type": "code",
   "execution_count": 14,
   "id": "3d77f3c9",
   "metadata": {},
   "outputs": [
    {
     "name": "stdout",
     "output_type": "stream",
     "text": [
      "Количество записей в тренировочном датасете после удаления: 2395657\n",
      "Исходный датасет уменьшился на 23.29 %\n"
     ]
    }
   ],
   "source": [
    "# Смотрим, что получилось после удаления лишних записей\n",
    "print('Количество записей в тренировочном датасете после удаления:', len(df_cut))\n",
    "print('Исходный датасет уменьшился на', round(100 * (len(df) - len(df_cut)) / len(df), 2), '%')"
   ]
  },
  {
   "cell_type": "code",
   "execution_count": 15,
   "id": "3794720a",
   "metadata": {},
   "outputs": [
    {
     "name": "stdout",
     "output_type": "stream",
     "text": [
      "Пользователей в датасете: 13036\n",
      "Пользователей в выходном файле: 13036\n",
      "Категорий в датасете: 858\n",
      "Категорий в выходном файле: 858\n"
     ]
    }
   ],
   "source": [
    "# Еще раз проверим совпадает ли количество пользователей и категорий в тренировочном датасете и в выходном файле\n",
    "print('Пользователей в датасете:', len(pd.unique(df_cut['user_id'])))\n",
    "print('Пользователей в выходном файле:', len(out_users))\n",
    "print('Категорий в датасете:', len(pd.unique(df_cut['cart'])))\n",
    "print('Категорий в выходном файле:', len(out_categories))"
   ]
  },
  {
   "cell_type": "markdown",
   "id": "79098d56",
   "metadata": {},
   "source": [
    "Ура! Все совпадает!"
   ]
  },
  {
   "cell_type": "markdown",
   "id": "bdb6f2d9",
   "metadata": {},
   "source": [
    "## Новая сущность - Заказ"
   ]
  },
  {
   "cell_type": "markdown",
   "id": "3aaa7e73",
   "metadata": {},
   "source": [
    "Введем понятие заказа - множество категорий, заказанное одним клиентом в одно время."
   ]
  },
  {
   "cell_type": "code",
   "execution_count": 16,
   "id": "fd659758",
   "metadata": {},
   "outputs": [
    {
     "name": "stderr",
     "output_type": "stream",
     "text": [
      "<ipython-input-16-ec155f474e09>:2: SettingWithCopyWarning: \n",
      "A value is trying to be set on a copy of a slice from a DataFrame\n",
      "\n",
      "See the caveats in the documentation: http://pandas.pydata.org/pandas-docs/stable/user_guide/indexing.html#returning-a-view-versus-a-copy\n",
      "  df_cut.drop_duplicates(inplace=True)\n"
     ]
    }
   ],
   "source": [
    "# Но сначала проверим, нет ли в датасете полных дублей (т.е. повторов категорий в одном заказе)\n",
    "df_cut.drop_duplicates(inplace=True)"
   ]
  },
  {
   "cell_type": "code",
   "execution_count": 17,
   "id": "9883e21c",
   "metadata": {},
   "outputs": [
    {
     "data": {
      "text/plain": [
       "2395657"
      ]
     },
     "execution_count": 17,
     "metadata": {},
     "output_type": "execute_result"
    }
   ],
   "source": [
    "len(df_cut)"
   ]
  },
  {
   "cell_type": "markdown",
   "id": "fb06503b",
   "metadata": {},
   "source": [
    "Длина датасета НЕ изменилась, значит дублей не было.\n",
    "Тот, кто готовил датасет - молодец!"
   ]
  },
  {
   "cell_type": "code",
   "execution_count": null,
   "id": "72e9bb77",
   "metadata": {},
   "outputs": [],
   "source": [
    "# Формирую датасет с заказами:\n",
    "orders_df = df_cut.groupby(['user_id', 'order_completed_at'])['cart'].apply(set).to_frame().reset_index()"
   ]
  },
  {
   "cell_type": "code",
   "execution_count": 99,
   "id": "a2d78969",
   "metadata": {},
   "outputs": [],
   "source": [
    "# И сразу добавим размер заказа (в товарных позициях)\n",
    "orders_df['len_cart'] = orders_df['cart'].apply(lambda x: len(x))"
   ]
  },
  {
   "cell_type": "code",
   "execution_count": 100,
   "id": "66356eed",
   "metadata": {},
   "outputs": [
    {
     "data": {
      "text/html": [
       "<div>\n",
       "<style scoped>\n",
       "    .dataframe tbody tr th:only-of-type {\n",
       "        vertical-align: middle;\n",
       "    }\n",
       "\n",
       "    .dataframe tbody tr th {\n",
       "        vertical-align: top;\n",
       "    }\n",
       "\n",
       "    .dataframe thead th {\n",
       "        text-align: right;\n",
       "    }\n",
       "</style>\n",
       "<table border=\"1\" class=\"dataframe\">\n",
       "  <thead>\n",
       "    <tr style=\"text-align: right;\">\n",
       "      <th></th>\n",
       "      <th>user_id</th>\n",
       "      <th>order_completed_at</th>\n",
       "      <th>cart</th>\n",
       "      <th>len_cart</th>\n",
       "    </tr>\n",
       "  </thead>\n",
       "  <tbody>\n",
       "    <tr>\n",
       "      <th>0</th>\n",
       "      <td>0</td>\n",
       "      <td>2020-07-19 09:59:17</td>\n",
       "      <td>{14, 430, 82, 20, 405, 441, 379, 57}</td>\n",
       "      <td>8</td>\n",
       "    </tr>\n",
       "    <tr>\n",
       "      <th>1</th>\n",
       "      <td>0</td>\n",
       "      <td>2020-08-24 08:55:32</td>\n",
       "      <td>{5, 133, 10, 396, 14, 402, 405, 22, 409, 25, 2...</td>\n",
       "      <td>25</td>\n",
       "    </tr>\n",
       "    <tr>\n",
       "      <th>2</th>\n",
       "      <td>0</td>\n",
       "      <td>2020-09-02 07:38:25</td>\n",
       "      <td>{803, 169, 170, 398, 399, 401, 84, 55, 440, 57...</td>\n",
       "      <td>11</td>\n",
       "    </tr>\n",
       "    <tr>\n",
       "      <th>3</th>\n",
       "      <td>1</td>\n",
       "      <td>2019-05-08 16:09:41</td>\n",
       "      <td>{55}</td>\n",
       "      <td>1</td>\n",
       "    </tr>\n",
       "    <tr>\n",
       "      <th>4</th>\n",
       "      <td>1</td>\n",
       "      <td>2020-01-17 14:44:23</td>\n",
       "      <td>{421, 204, 82, 86, 55, 798}</td>\n",
       "      <td>6</td>\n",
       "    </tr>\n",
       "  </tbody>\n",
       "</table>\n",
       "</div>"
      ],
      "text/plain": [
       "   user_id   order_completed_at  \\\n",
       "0        0  2020-07-19 09:59:17   \n",
       "1        0  2020-08-24 08:55:32   \n",
       "2        0  2020-09-02 07:38:25   \n",
       "3        1  2019-05-08 16:09:41   \n",
       "4        1  2020-01-17 14:44:23   \n",
       "\n",
       "                                                cart  len_cart  \n",
       "0               {14, 430, 82, 20, 405, 441, 379, 57}         8  \n",
       "1  {5, 133, 10, 396, 14, 402, 405, 22, 409, 25, 2...        25  \n",
       "2  {803, 169, 170, 398, 399, 401, 84, 55, 440, 57...        11  \n",
       "3                                               {55}         1  \n",
       "4                        {421, 204, 82, 86, 55, 798}         6  "
      ]
     },
     "execution_count": 100,
     "metadata": {},
     "output_type": "execute_result"
    }
   ],
   "source": [
    "orders_df.head()"
   ]
  },
  {
   "cell_type": "markdown",
   "id": "702fc2f2",
   "metadata": {},
   "source": [
    "## Поисследуем заказы:"
   ]
  },
  {
   "cell_type": "code",
   "execution_count": 101,
   "id": "e1e2dcd6",
   "metadata": {},
   "outputs": [
    {
     "name": "stdout",
     "output_type": "stream",
     "text": [
      "Количество заказов: 160557\n",
      "Заказов на одного пользователя: 12.32\n"
     ]
    }
   ],
   "source": [
    "print('Количество заказов:', len(orders_df))\n",
    "print('Заказов на одного пользователя:', round(len(orders_df) / len(out_users), 2))"
   ]
  },
  {
   "cell_type": "code",
   "execution_count": 102,
   "id": "776826f3",
   "metadata": {},
   "outputs": [
    {
     "data": {
      "text/html": [
       "<div>\n",
       "<style scoped>\n",
       "    .dataframe tbody tr th:only-of-type {\n",
       "        vertical-align: middle;\n",
       "    }\n",
       "\n",
       "    .dataframe tbody tr th {\n",
       "        vertical-align: top;\n",
       "    }\n",
       "\n",
       "    .dataframe thead th {\n",
       "        text-align: right;\n",
       "    }\n",
       "</style>\n",
       "<table border=\"1\" class=\"dataframe\">\n",
       "  <thead>\n",
       "    <tr style=\"text-align: right;\">\n",
       "      <th></th>\n",
       "      <th>len_cart</th>\n",
       "    </tr>\n",
       "  </thead>\n",
       "  <tbody>\n",
       "    <tr>\n",
       "      <th>count</th>\n",
       "      <td>160557.000000</td>\n",
       "    </tr>\n",
       "    <tr>\n",
       "      <th>mean</th>\n",
       "      <td>14.920913</td>\n",
       "    </tr>\n",
       "    <tr>\n",
       "      <th>std</th>\n",
       "      <td>8.772478</td>\n",
       "    </tr>\n",
       "    <tr>\n",
       "      <th>min</th>\n",
       "      <td>1.000000</td>\n",
       "    </tr>\n",
       "    <tr>\n",
       "      <th>25%</th>\n",
       "      <td>9.000000</td>\n",
       "    </tr>\n",
       "    <tr>\n",
       "      <th>50%</th>\n",
       "      <td>13.000000</td>\n",
       "    </tr>\n",
       "    <tr>\n",
       "      <th>75%</th>\n",
       "      <td>19.000000</td>\n",
       "    </tr>\n",
       "    <tr>\n",
       "      <th>max</th>\n",
       "      <td>120.000000</td>\n",
       "    </tr>\n",
       "  </tbody>\n",
       "</table>\n",
       "</div>"
      ],
      "text/plain": [
       "            len_cart\n",
       "count  160557.000000\n",
       "mean       14.920913\n",
       "std         8.772478\n",
       "min         1.000000\n",
       "25%         9.000000\n",
       "50%        13.000000\n",
       "75%        19.000000\n",
       "max       120.000000"
      ]
     },
     "execution_count": 102,
     "metadata": {},
     "output_type": "execute_result"
    }
   ],
   "source": [
    "# Что у нас с размером заказа?\n",
    "orders_df['len_cart'].describe().to_frame()"
   ]
  },
  {
   "cell_type": "markdown",
   "id": "98f5a00c",
   "metadata": {},
   "source": [
    "Медиана: 13 позиций в заказе, Среднее: ~15 позиций."
   ]
  },
  {
   "cell_type": "code",
   "execution_count": 107,
   "id": "7bc8cced",
   "metadata": {},
   "outputs": [
    {
     "data": {
      "text/plain": [
       "<AxesSubplot:xlabel='order_completed_at'>"
      ]
     },
     "execution_count": 107,
     "metadata": {},
     "output_type": "execute_result"
    },
    {
     "data": {
      "image/png": "[encoded data removed]",
      "text/plain": [
       "<Figure size 1080x360 with 1 Axes>"
      ]
     },
     "metadata": {
      "needs_background": "light"
     },
     "output_type": "display_data"
    }
   ],
   "source": [
    "# Посмотрим заказы по месяцам\n",
    "# orders_df['order_completed_at'] = pd.to_datetime(orders_df['order_completed_at'])  # Привожу к дате-времени\n",
    "orders_df.groupby(orders_df['order_completed_at'].dt.to_period('M')).size().plot.bar(rot=90, grid=True, figsize=(15, 5))"
   ]
  },
  {
   "cell_type": "markdown",
   "id": "dd1985ab",
   "metadata": {},
   "source": [
    "Наблюдается экспоненциальный рост.\n",
    "Но есть сомнения, что данные из 2015 года полезны в 2020."
   ]
  },
  {
   "cell_type": "markdown",
   "id": "4abac16d",
   "metadata": {},
   "source": [
    "# Начинаем делать submissions (разведка)"
   ]
  },
  {
   "cell_type": "code",
   "execution_count": 190,
   "id": "b011cf09",
   "metadata": {},
   "outputs": [],
   "source": [
    "sub_df = pd.read_csv('sample_submission.csv')"
   ]
  },
  {
   "cell_type": "code",
   "execution_count": 110,
   "id": "fa16ffac",
   "metadata": {},
   "outputs": [
    {
     "data": {
      "text/html": [
       "<div>\n",
       "<style scoped>\n",
       "    .dataframe tbody tr th:only-of-type {\n",
       "        vertical-align: middle;\n",
       "    }\n",
       "\n",
       "    .dataframe tbody tr th {\n",
       "        vertical-align: top;\n",
       "    }\n",
       "\n",
       "    .dataframe thead th {\n",
       "        text-align: right;\n",
       "    }\n",
       "</style>\n",
       "<table border=\"1\" class=\"dataframe\">\n",
       "  <thead>\n",
       "    <tr style=\"text-align: right;\">\n",
       "      <th></th>\n",
       "      <th>id</th>\n",
       "      <th>target</th>\n",
       "    </tr>\n",
       "  </thead>\n",
       "  <tbody>\n",
       "    <tr>\n",
       "      <th>0</th>\n",
       "      <td>0;133</td>\n",
       "      <td>0</td>\n",
       "    </tr>\n",
       "    <tr>\n",
       "      <th>1</th>\n",
       "      <td>0;5</td>\n",
       "      <td>1</td>\n",
       "    </tr>\n",
       "    <tr>\n",
       "      <th>2</th>\n",
       "      <td>0;10</td>\n",
       "      <td>0</td>\n",
       "    </tr>\n",
       "    <tr>\n",
       "      <th>3</th>\n",
       "      <td>0;396</td>\n",
       "      <td>1</td>\n",
       "    </tr>\n",
       "    <tr>\n",
       "      <th>4</th>\n",
       "      <td>0;14</td>\n",
       "      <td>0</td>\n",
       "    </tr>\n",
       "  </tbody>\n",
       "</table>\n",
       "</div>"
      ],
      "text/plain": [
       "      id  target\n",
       "0  0;133       0\n",
       "1    0;5       1\n",
       "2   0;10       0\n",
       "3  0;396       1\n",
       "4   0;14       0"
      ]
     },
     "execution_count": 110,
     "metadata": {},
     "output_type": "execute_result"
    }
   ],
   "source": [
    "sub_df.head()"
   ]
  },
  {
   "cell_type": "markdown",
   "id": "6b68893d",
   "metadata": {},
   "source": [
    "Первые submissions будут разведочными. Я попробую понять, какие результаты можно получить без всякого ML.\n",
    "Возможно, это кому-то покажется читами. Но я использую для решения всю доступную мне информацию."
   ]
  },
  {
   "cell_type": "code",
   "execution_count": 114,
   "id": "70cc218c",
   "metadata": {},
   "outputs": [],
   "source": [
    "# Заполняю ответ одними нулями\n",
    "sub_df['target'] = 0\n",
    "sub_df.to_csv('sub1.csv', index=False)\n",
    "# Результат: Score = 0.00000"
   ]
  },
  {
   "cell_type": "code",
   "execution_count": 115,
   "id": "e5fe1004",
   "metadata": {},
   "outputs": [],
   "source": [
    "# Заполняю ответ одними единицами\n",
    "sub_df['target'] = 1\n",
    "sub_df.to_csv('sub2.csv', index=False)\n",
    "# Score = 0.30632"
   ]
  },
  {
   "cell_type": "markdown",
   "id": "d5c2bdf8",
   "metadata": {},
   "source": [
    "Вуаля! Результат sample_submission побит!\n",
    "Отсюда делаем предварительный вывод: не знаешь, что предсказывать - предсказывай 1!\n",
    "Но лучше ли это случайного предсказания?"
   ]
  },
  {
   "cell_type": "code",
   "execution_count": 126,
   "id": "26f67183",
   "metadata": {},
   "outputs": [],
   "source": [
    "# Заполняю таргет нулями и единицами случайным образом.\n",
    "# Для верности - 3 раза\n",
    "np.random.seed(0)\n",
    "sub_df['target'] = np.random.randint(0, 2, sub_df.shape[0])\n",
    "sub_df.to_csv('sub3.csv', index=False)  # Score = 0.26419\n",
    "\n",
    "np.random.seed(1)\n",
    "sub_df['target'] = np.random.randint(0, 2, sub_df.shape[0])\n",
    "sub_df.to_csv('sub4.csv', index=False)  # Score = 0.26659\n",
    "\n",
    "np.random.seed(2)\n",
    "sub_df['target'] = np.random.randint(0, 2, sub_df.shape[0])\n",
    "sub_df.to_csv('sub5.csv', index=False)  # Score = 0.26586"
   ]
  },
  {
   "cell_type": "markdown",
   "id": "734715c1",
   "metadata": {},
   "source": [
    "Выводы:\n",
    "    - случайное заполнение дает score ~0.265\n",
    "    - все, что выше этого порога - считаем, что нашли какую-то закономерность в данных\n",
    "    - если что-то получится ниже этого порога, то надо попробовать сделать наоборот\n",
    "На текущий момент лучшая стратегия - всегда предсказывать единицы."
   ]
  },
  {
   "cell_type": "markdown",
   "id": "8e8c7332",
   "metadata": {},
   "source": [
    "# Гипотеза 1 - Невостребованные товары"
   ]
  },
  {
   "cell_type": "markdown",
   "id": "1d30954d",
   "metadata": {},
   "source": [
    "Т.к. по умолчанию у нас таргет == 1, то пробую найти ситуации, тогда лучше предказывать 0\n",
    "Например, если пользователь ни разу не заказывал какой-то товар, то, наверное,\n",
    "в будущем заказе этого товара тоже не будет.\n",
    "Или другими словами: класть в следующий заказ ВСЁ и только то, что он заказывал ранее.\n",
    "Проверим это предположение"
   ]
  },
  {
   "cell_type": "code",
   "execution_count": 257,
   "id": "e78bb2a7",
   "metadata": {},
   "outputs": [],
   "source": [
    "df_cut2 = df_cut.groupby(['user_id', 'cart']).count().reset_index()  \\\n",
    "    .rename({'user_id': 'user', 'cart':'category', 'order_completed_at': 'orders_count'}, axis=1)"
   ]
  },
  {
   "cell_type": "code",
   "execution_count": 236,
   "id": "1b0bf0bd",
   "metadata": {},
   "outputs": [
    {
     "data": {
      "text/html": [
       "<div>\n",
       "<style scoped>\n",
       "    .dataframe tbody tr th:only-of-type {\n",
       "        vertical-align: middle;\n",
       "    }\n",
       "\n",
       "    .dataframe tbody tr th {\n",
       "        vertical-align: top;\n",
       "    }\n",
       "\n",
       "    .dataframe thead th {\n",
       "        text-align: right;\n",
       "    }\n",
       "</style>\n",
       "<table border=\"1\" class=\"dataframe\">\n",
       "  <thead>\n",
       "    <tr style=\"text-align: right;\">\n",
       "      <th></th>\n",
       "      <th>user</th>\n",
       "      <th>category</th>\n",
       "      <th>orders_count</th>\n",
       "    </tr>\n",
       "  </thead>\n",
       "  <tbody>\n",
       "    <tr>\n",
       "      <th>0</th>\n",
       "      <td>0</td>\n",
       "      <td>5</td>\n",
       "      <td>1</td>\n",
       "    </tr>\n",
       "    <tr>\n",
       "      <th>1</th>\n",
       "      <td>0</td>\n",
       "      <td>10</td>\n",
       "      <td>1</td>\n",
       "    </tr>\n",
       "    <tr>\n",
       "      <th>2</th>\n",
       "      <td>0</td>\n",
       "      <td>14</td>\n",
       "      <td>2</td>\n",
       "    </tr>\n",
       "    <tr>\n",
       "      <th>3</th>\n",
       "      <td>0</td>\n",
       "      <td>20</td>\n",
       "      <td>1</td>\n",
       "    </tr>\n",
       "    <tr>\n",
       "      <th>4</th>\n",
       "      <td>0</td>\n",
       "      <td>22</td>\n",
       "      <td>1</td>\n",
       "    </tr>\n",
       "  </tbody>\n",
       "</table>\n",
       "</div>"
      ],
      "text/plain": [
       "   user  category  orders_count\n",
       "0     0         5             1\n",
       "1     0        10             1\n",
       "2     0        14             2\n",
       "3     0        20             1\n",
       "4     0        22             1"
      ]
     },
     "execution_count": 236,
     "metadata": {},
     "output_type": "execute_result"
    }
   ],
   "source": [
    "# Считаю кол-во раз, сколько товар был заказан конкретным пользователем\n",
    "df_cut2.head()"
   ]
  },
  {
   "cell_type": "code",
   "execution_count": 234,
   "id": "332f024b",
   "metadata": {},
   "outputs": [],
   "source": [
    "# Объединяю информацю из выходного файла (тот, который надо предсказать)\n",
    "# с информацией по количеству тому, сколько конкретный пользователь заказал конкретный товар\n",
    "sample_out_df2 = pd.merge(sample_out_df, df_cut2, left_on=['user', 'category'], right_on=['user', 'category'])"
   ]
  },
  {
   "cell_type": "code",
   "execution_count": 237,
   "id": "bf98bcf2",
   "metadata": {},
   "outputs": [
    {
     "data": {
      "text/html": [
       "<div>\n",
       "<style scoped>\n",
       "    .dataframe tbody tr th:only-of-type {\n",
       "        vertical-align: middle;\n",
       "    }\n",
       "\n",
       "    .dataframe tbody tr th {\n",
       "        vertical-align: top;\n",
       "    }\n",
       "\n",
       "    .dataframe thead th {\n",
       "        text-align: right;\n",
       "    }\n",
       "</style>\n",
       "<table border=\"1\" class=\"dataframe\">\n",
       "  <thead>\n",
       "    <tr style=\"text-align: right;\">\n",
       "      <th></th>\n",
       "      <th>id</th>\n",
       "      <th>target</th>\n",
       "      <th>user_category</th>\n",
       "      <th>user</th>\n",
       "      <th>category</th>\n",
       "      <th>orders_count</th>\n",
       "    </tr>\n",
       "  </thead>\n",
       "  <tbody>\n",
       "    <tr>\n",
       "      <th>0</th>\n",
       "      <td>0;133</td>\n",
       "      <td>0</td>\n",
       "      <td>[0, 133]</td>\n",
       "      <td>0</td>\n",
       "      <td>133</td>\n",
       "      <td>1</td>\n",
       "    </tr>\n",
       "    <tr>\n",
       "      <th>1</th>\n",
       "      <td>0;5</td>\n",
       "      <td>1</td>\n",
       "      <td>[0, 5]</td>\n",
       "      <td>0</td>\n",
       "      <td>5</td>\n",
       "      <td>1</td>\n",
       "    </tr>\n",
       "    <tr>\n",
       "      <th>2</th>\n",
       "      <td>0;10</td>\n",
       "      <td>0</td>\n",
       "      <td>[0, 10]</td>\n",
       "      <td>0</td>\n",
       "      <td>10</td>\n",
       "      <td>1</td>\n",
       "    </tr>\n",
       "    <tr>\n",
       "      <th>3</th>\n",
       "      <td>0;396</td>\n",
       "      <td>1</td>\n",
       "      <td>[0, 396]</td>\n",
       "      <td>0</td>\n",
       "      <td>396</td>\n",
       "      <td>1</td>\n",
       "    </tr>\n",
       "    <tr>\n",
       "      <th>4</th>\n",
       "      <td>0;14</td>\n",
       "      <td>0</td>\n",
       "      <td>[0, 14]</td>\n",
       "      <td>0</td>\n",
       "      <td>14</td>\n",
       "      <td>2</td>\n",
       "    </tr>\n",
       "  </tbody>\n",
       "</table>\n",
       "</div>"
      ],
      "text/plain": [
       "      id  target user_category  user  category  orders_count\n",
       "0  0;133       0      [0, 133]     0       133             1\n",
       "1    0;5       1        [0, 5]     0         5             1\n",
       "2   0;10       0       [0, 10]     0        10             1\n",
       "3  0;396       1      [0, 396]     0       396             1\n",
       "4   0;14       0       [0, 14]     0        14             2"
      ]
     },
     "execution_count": 237,
     "metadata": {},
     "output_type": "execute_result"
    }
   ],
   "source": [
    "sample_out_df2.head()"
   ]
  },
  {
   "cell_type": "code",
   "execution_count": 238,
   "id": "7ece1b77",
   "metadata": {},
   "outputs": [
    {
     "data": {
      "text/plain": [
       "0"
      ]
     },
     "execution_count": 238,
     "metadata": {},
     "output_type": "execute_result"
    }
   ],
   "source": [
    "# А теперь ищу в нем NAN, то есть те сочетания пользователь-товар, которые ни разу не встретились в заказах\n",
    "sample_out_df2['orders_count'].isna().sum()"
   ]
  },
  {
   "cell_type": "markdown",
   "id": "f683777d",
   "metadata": {},
   "source": [
    "А их нет!\n",
    "Я сделал открытие: требуется предсказывать только то, что пользователь заказал хотя бы однажды\n",
    "Проверим еще раз этот факт:"
   ]
  },
  {
   "cell_type": "code",
   "execution_count": 239,
   "id": "894b9d97",
   "metadata": {},
   "outputs": [
    {
     "data": {
      "text/plain": [
       "True"
      ]
     },
     "execution_count": 239,
     "metadata": {},
     "output_type": "execute_result"
    }
   ],
   "source": [
    "len(sample_out_df2) == len(df_cut2)"
   ]
  },
  {
   "cell_type": "markdown",
   "id": "9e0e2fb1",
   "metadata": {},
   "source": [
    "Длины фреймов совпадают. Так и должно быть."
   ]
  },
  {
   "cell_type": "markdown",
   "id": "904e565b",
   "metadata": {},
   "source": [
    "# Гипотеза 2 - Популярные товары"
   ]
  },
  {
   "cell_type": "code",
   "execution_count": null,
   "id": "13f25305",
   "metadata": {},
   "outputs": [],
   "source": [
    "Теперь попробую предсказывать 1 только для популярных товаров. А для непопулярных - 0."
   ]
  },
  {
   "cell_type": "code",
   "execution_count": 261,
   "id": "ded3375e",
   "metadata": {},
   "outputs": [],
   "source": [
    "df_cut3 = df_cut.groupby('cart')['order_completed_at'].count().to_frame().reset_index()  \\\n",
    "        .rename({'order_completed_at': 'orders_count'}, axis=1)  \\\n",
    "        .sort_values(by='orders_count', ascending=False)"
   ]
  },
  {
   "cell_type": "code",
   "execution_count": 265,
   "id": "47bf231b",
   "metadata": {},
   "outputs": [
    {
     "data": {
      "text/html": [
       "<div>\n",
       "<style scoped>\n",
       "    .dataframe tbody tr th:only-of-type {\n",
       "        vertical-align: middle;\n",
       "    }\n",
       "\n",
       "    .dataframe tbody tr th {\n",
       "        vertical-align: top;\n",
       "    }\n",
       "\n",
       "    .dataframe thead th {\n",
       "        text-align: right;\n",
       "    }\n",
       "</style>\n",
       "<table border=\"1\" class=\"dataframe\">\n",
       "  <thead>\n",
       "    <tr style=\"text-align: right;\">\n",
       "      <th></th>\n",
       "      <th>cart</th>\n",
       "      <th>orders_count</th>\n",
       "    </tr>\n",
       "  </thead>\n",
       "  <tbody>\n",
       "    <tr>\n",
       "      <th>56</th>\n",
       "      <td>57</td>\n",
       "      <td>83722</td>\n",
       "    </tr>\n",
       "    <tr>\n",
       "      <th>14</th>\n",
       "      <td>14</td>\n",
       "      <td>72214</td>\n",
       "    </tr>\n",
       "    <tr>\n",
       "      <th>60</th>\n",
       "      <td>61</td>\n",
       "      <td>70478</td>\n",
       "    </tr>\n",
       "    <tr>\n",
       "      <th>393</th>\n",
       "      <td>398</td>\n",
       "      <td>63190</td>\n",
       "    </tr>\n",
       "    <tr>\n",
       "      <th>23</th>\n",
       "      <td>23</td>\n",
       "      <td>55231</td>\n",
       "    </tr>\n",
       "  </tbody>\n",
       "</table>\n",
       "</div>"
      ],
      "text/plain": [
       "     cart  orders_count\n",
       "56     57         83722\n",
       "14     14         72214\n",
       "60     61         70478\n",
       "393   398         63190\n",
       "23     23         55231"
      ]
     },
     "execution_count": 265,
     "metadata": {},
     "output_type": "execute_result"
    }
   ],
   "source": [
    "df_cut3.head()"
   ]
  },
  {
   "cell_type": "code",
   "execution_count": 266,
   "id": "f925f6ee",
   "metadata": {},
   "outputs": [
    {
     "data": {
      "text/plain": [
       "<AxesSubplot:>"
      ]
     },
     "execution_count": 266,
     "metadata": {},
     "output_type": "execute_result"
    },
    {
     "data": {
      "image/png": "[encoded data removed]",
      "text/plain": [
       "<Figure size 432x288 with 1 Axes>"
      ]
     },
     "metadata": {
      "needs_background": "light"
     },
     "output_type": "display_data"
    }
   ],
   "source": [
    "df_cut3['orders_count'].hist()"
   ]
  },
  {
   "cell_type": "code",
   "execution_count": 267,
   "id": "6352129c",
   "metadata": {},
   "outputs": [
    {
     "data": {
      "text/plain": [
       "count      858.000000\n",
       "mean      2792.141026\n",
       "std       8308.651958\n",
       "min          1.000000\n",
       "25%          6.000000\n",
       "50%         55.500000\n",
       "75%        903.000000\n",
       "max      83722.000000\n",
       "Name: orders_count, dtype: float64"
      ]
     },
     "execution_count": 267,
     "metadata": {},
     "output_type": "execute_result"
    }
   ],
   "source": [
    "df_cut3['orders_count'].describe()"
   ]
  },
  {
   "cell_type": "markdown",
   "id": "75199c7d",
   "metadata": {},
   "source": [
    "В качестве ориентира возьму медиану.\n",
    "То есть буду считать товар НЕпопулярным, если его заказали 55 раз или меньше.\n",
    "И предсказывать для таких непопулярных товаров 0."
   ]
  },
  {
   "cell_type": "code",
   "execution_count": 275,
   "id": "84ab35bc",
   "metadata": {},
   "outputs": [],
   "source": [
    "sample_out_df2 = sample_out_df2.merge(df_cut3, left_on='category', right_on='cart') \\\n",
    "    .drop('cart', axis=1)  \\\n",
    "    .rename({'orders_count_x': 'user_orders_count', 'orders_count_y': 'total_orders_count'}, axis=1)"
   ]
  },
  {
   "cell_type": "code",
   "execution_count": 392,
   "id": "29ef733a",
   "metadata": {},
   "outputs": [
    {
     "data": {
      "text/html": [
       "<div>\n",
       "<style scoped>\n",
       "    .dataframe tbody tr th:only-of-type {\n",
       "        vertical-align: middle;\n",
       "    }\n",
       "\n",
       "    .dataframe tbody tr th {\n",
       "        vertical-align: top;\n",
       "    }\n",
       "\n",
       "    .dataframe thead th {\n",
       "        text-align: right;\n",
       "    }\n",
       "</style>\n",
       "<table border=\"1\" class=\"dataframe\">\n",
       "  <thead>\n",
       "    <tr style=\"text-align: right;\">\n",
       "      <th></th>\n",
       "      <th>id</th>\n",
       "      <th>target</th>\n",
       "      <th>user_category</th>\n",
       "      <th>user</th>\n",
       "      <th>category</th>\n",
       "      <th>user_orders_count</th>\n",
       "      <th>total_orders_count</th>\n",
       "    </tr>\n",
       "  </thead>\n",
       "  <tbody>\n",
       "    <tr>\n",
       "      <th>0</th>\n",
       "      <td>0;133</td>\n",
       "      <td>0</td>\n",
       "      <td>[0, 133]</td>\n",
       "      <td>0</td>\n",
       "      <td>133</td>\n",
       "      <td>1</td>\n",
       "      <td>1099</td>\n",
       "    </tr>\n",
       "    <tr>\n",
       "      <th>1</th>\n",
       "      <td>4;133</td>\n",
       "      <td>1</td>\n",
       "      <td>[4, 133]</td>\n",
       "      <td>4</td>\n",
       "      <td>133</td>\n",
       "      <td>1</td>\n",
       "      <td>1099</td>\n",
       "    </tr>\n",
       "    <tr>\n",
       "      <th>2</th>\n",
       "      <td>16;133</td>\n",
       "      <td>0</td>\n",
       "      <td>[16, 133]</td>\n",
       "      <td>16</td>\n",
       "      <td>133</td>\n",
       "      <td>2</td>\n",
       "      <td>1099</td>\n",
       "    </tr>\n",
       "    <tr>\n",
       "      <th>3</th>\n",
       "      <td>18;133</td>\n",
       "      <td>1</td>\n",
       "      <td>[18, 133]</td>\n",
       "      <td>18</td>\n",
       "      <td>133</td>\n",
       "      <td>2</td>\n",
       "      <td>1099</td>\n",
       "    </tr>\n",
       "    <tr>\n",
       "      <th>4</th>\n",
       "      <td>21;133</td>\n",
       "      <td>0</td>\n",
       "      <td>[21, 133]</td>\n",
       "      <td>21</td>\n",
       "      <td>133</td>\n",
       "      <td>9</td>\n",
       "      <td>1099</td>\n",
       "    </tr>\n",
       "  </tbody>\n",
       "</table>\n",
       "</div>"
      ],
      "text/plain": [
       "       id  target user_category  user  category  user_orders_count  \\\n",
       "0   0;133       0      [0, 133]     0       133                  1   \n",
       "1   4;133       1      [4, 133]     4       133                  1   \n",
       "2  16;133       0     [16, 133]    16       133                  2   \n",
       "3  18;133       1     [18, 133]    18       133                  2   \n",
       "4  21;133       0     [21, 133]    21       133                  9   \n",
       "\n",
       "   total_orders_count  \n",
       "0                1099  \n",
       "1                1099  \n",
       "2                1099  \n",
       "3                1099  \n",
       "4                1099  "
      ]
     },
     "execution_count": 392,
     "metadata": {},
     "output_type": "execute_result"
    }
   ],
   "source": [
    "sample_out_df2.head()"
   ]
  },
  {
   "cell_type": "code",
   "execution_count": 277,
   "id": "258fce96",
   "metadata": {},
   "outputs": [],
   "source": [
    "sub_df = sample_out_df2.copy()"
   ]
  },
  {
   "cell_type": "code",
   "execution_count": 281,
   "id": "f6815987",
   "metadata": {},
   "outputs": [],
   "source": [
    "sub_df['target'] = (sub_df['total_orders_count'] > 55).astype(int)"
   ]
  },
  {
   "cell_type": "code",
   "execution_count": 286,
   "id": "872ea749",
   "metadata": {},
   "outputs": [],
   "source": [
    "sub_df = sub_df.loc[:, ['id', 'target']]\n",
    "sub_df.to_csv('sub6.csv', index=False)   # Score = 0.30769\n",
    "# Новый рекорд, но улучшение незначительное"
   ]
  },
  {
   "cell_type": "code",
   "execution_count": 287,
   "id": "1987fb33",
   "metadata": {},
   "outputs": [],
   "source": [
    "# Попробую теперь предсказывать 0 для еще менее популярных товаров\n",
    "# 25-перцентиль равен 6\n",
    "sub_df = sample_out_df2.copy()\n",
    "sub_df['target'] = (sub_df['total_orders_count'] > 6).astype(int)\n",
    "sub_df = sub_df.loc[:, ['id', 'target']]\n",
    "sub_df.to_csv('sub7.csv', index=False)   # Score = 0.30647\n",
    "# Результат стал немного хуже, но чуть лучше, чем предсказывать всегда 1"
   ]
  },
  {
   "cell_type": "code",
   "execution_count": 383,
   "id": "41fda944",
   "metadata": {},
   "outputs": [],
   "source": [
    "# Пробую 75-перцентиль, который равен 903\n",
    "sub_df = sample_out_df2.copy()\n",
    "sub_df['target'] = (sub_df['total_orders_count'] > 903).astype(int)\n",
    "sub_df = sub_df.loc[:, ['id', 'target']]\n",
    "sub_df.to_csv('sub8.csv', index=False)   # Score = 0.32222\n",
    "# Новый рекорд!"
   ]
  },
  {
   "cell_type": "code",
   "execution_count": 384,
   "id": "56fe16a5",
   "metadata": {},
   "outputs": [],
   "source": [
    "# 2000\n",
    "sub_df = sample_out_df2.copy()\n",
    "sub_df['target'] = (sub_df['total_orders_count'] > 2000).astype(int)\n",
    "sub_df = sub_df.loc[:, ['id', 'target']]\n",
    "sub_df.to_csv('sub11.csv', index=False)   # Score = 0.33502\n",
    "# Новый рекорд!"
   ]
  },
  {
   "cell_type": "code",
   "execution_count": 385,
   "id": "f1ff4d03",
   "metadata": {},
   "outputs": [],
   "source": [
    "# 3000\n",
    "sub_df = sample_out_df2.copy()\n",
    "sub_df['target'] = (sub_df['total_orders_count'] > 3000).astype(int)\n",
    "sub_df = sub_df.loc[:, ['id', 'target']]\n",
    "sub_df.to_csv('sub12.csv', index=False)   # Score = 0.34500\n",
    "# Новый рекорд!"
   ]
  },
  {
   "cell_type": "code",
   "execution_count": 386,
   "id": "74761add",
   "metadata": {},
   "outputs": [],
   "source": [
    "# 5000\n",
    "sub_df = sample_out_df2.copy()\n",
    "sub_df['target'] = (sub_df['total_orders_count'] > 5000).astype(int)\n",
    "sub_df = sub_df.loc[:, ['id', 'target']]\n",
    "sub_df.to_csv('sub13.csv', index=False)   # Score = 0.35555\n",
    "# Новый рекорд!"
   ]
  },
  {
   "cell_type": "code",
   "execution_count": 387,
   "id": "b71c6269",
   "metadata": {},
   "outputs": [],
   "source": [
    "# 10000\n",
    "sub_df = sample_out_df2.copy()\n",
    "sub_df['target'] = (sub_df['total_orders_count'] > 10000).astype(int)\n",
    "sub_df = sub_df.loc[:, ['id', 'target']]\n",
    "sub_df.to_csv('sub14.csv', index=False)   # Score = 0.37692\n",
    "# Новый рекорд!"
   ]
  },
  {
   "cell_type": "code",
   "execution_count": 389,
   "id": "51369e2e",
   "metadata": {},
   "outputs": [],
   "source": [
    "# 20000\n",
    "sub_df = sample_out_df2.copy()\n",
    "sub_df['target'] = (sub_df['total_orders_count'] > 20000).astype(int)\n",
    "sub_df = sub_df.loc[:, ['id', 'target']]\n",
    "sub_df.to_csv('sub15.csv', index=False)   # Score = 0.40912\n",
    "# Новый рекорд!\n",
    "# simple baseline побежден!"
   ]
  },
  {
   "cell_type": "code",
   "execution_count": 390,
   "id": "3689f67a",
   "metadata": {},
   "outputs": [],
   "source": [
    "# 40000\n",
    "sub_df = sample_out_df2.copy()\n",
    "sub_df['target'] = (sub_df['total_orders_count'] > 40000).astype(int)\n",
    "sub_df = sub_df.loc[:, ['id', 'target']]\n",
    "sub_df.to_csv('sub16.csv', index=False)   # Score = 0.34236\n",
    "# Существенное падение результата"
   ]
  },
  {
   "cell_type": "code",
   "execution_count": 391,
   "id": "0ff6bc65",
   "metadata": {},
   "outputs": [],
   "source": [
    "# 30000\n",
    "sub_df = sample_out_df2.copy()\n",
    "sub_df['target'] = (sub_df['total_orders_count'] > 30000).astype(int)\n",
    "sub_df = sub_df.loc[:, ['id', 'target']]\n",
    "sub_df.to_csv('sub17.csv', index=False)   # Score = 0.40336\n",
    "# Хуже, чем 20000"
   ]
  },
  {
   "cell_type": "markdown",
   "id": "3f00bb66",
   "metadata": {},
   "source": [
    "# Гипотеза 3 - Популярные товары конкретного пользователя"
   ]
  },
  {
   "cell_type": "markdown",
   "id": "2bfe5a34",
   "metadata": {},
   "source": [
    "Представим, что ожидаемый от нас прогноз - это вероятность того, что товар будет заказан пользователем.\n",
    "Если вероятность >= 0.5 (скорее всего, закажет), то логично предсказать 1,\n",
    "если меньше 0.5 (скорее всего, не закажет), то предсказать 0.\n",
    "\n",
    "Будем брать последние 10 заказов пользователя (или сколько есть).\n",
    "Для товаров, которые встретились в половине этих заказов или более, будем предсказывать 1, иначе 0."
   ]
  },
  {
   "cell_type": "code",
   "execution_count": 308,
   "id": "5656d1ce",
   "metadata": {},
   "outputs": [],
   "source": [
    "N = 10"
   ]
  },
  {
   "cell_type": "code",
   "execution_count": 309,
   "id": "dc6aa2b6",
   "metadata": {},
   "outputs": [],
   "source": [
    "# Последние N заказов каждого пользователя\n",
    "ordersN_df = orders_df.sort_values(['user_id', 'order_completed_at'], ascending=[True, False])  \\\n",
    "    .groupby('user_id').head(N)"
   ]
  },
  {
   "cell_type": "code",
   "execution_count": 357,
   "id": "63deb9ae",
   "metadata": {},
   "outputs": [],
   "source": [
    "# Теперь надо узнать, сколько этих самых последних заказов у каждого пользователя\n",
    "last_user_N_orders_count_df = ordersN_df.groupby('user_id')['cart'].count().to_frame().reset_index()  \\\n",
    "        .rename({'cart':'last_user_N_orders'}, axis=1)"
   ]
  },
  {
   "cell_type": "code",
   "execution_count": 359,
   "id": "dae80c13",
   "metadata": {},
   "outputs": [
    {
     "data": {
      "text/html": [
       "<div>\n",
       "<style scoped>\n",
       "    .dataframe tbody tr th:only-of-type {\n",
       "        vertical-align: middle;\n",
       "    }\n",
       "\n",
       "    .dataframe tbody tr th {\n",
       "        vertical-align: top;\n",
       "    }\n",
       "\n",
       "    .dataframe thead th {\n",
       "        text-align: right;\n",
       "    }\n",
       "</style>\n",
       "<table border=\"1\" class=\"dataframe\">\n",
       "  <thead>\n",
       "    <tr style=\"text-align: right;\">\n",
       "      <th></th>\n",
       "      <th>user_id</th>\n",
       "      <th>last_user_N_orders</th>\n",
       "    </tr>\n",
       "  </thead>\n",
       "  <tbody>\n",
       "    <tr>\n",
       "      <th>0</th>\n",
       "      <td>0</td>\n",
       "      <td>3</td>\n",
       "    </tr>\n",
       "    <tr>\n",
       "      <th>1</th>\n",
       "      <td>1</td>\n",
       "      <td>9</td>\n",
       "    </tr>\n",
       "    <tr>\n",
       "      <th>2</th>\n",
       "      <td>3</td>\n",
       "      <td>7</td>\n",
       "    </tr>\n",
       "    <tr>\n",
       "      <th>3</th>\n",
       "      <td>4</td>\n",
       "      <td>8</td>\n",
       "    </tr>\n",
       "    <tr>\n",
       "      <th>4</th>\n",
       "      <td>5</td>\n",
       "      <td>10</td>\n",
       "    </tr>\n",
       "  </tbody>\n",
       "</table>\n",
       "</div>"
      ],
      "text/plain": [
       "   user_id  last_user_N_orders\n",
       "0        0                   3\n",
       "1        1                   9\n",
       "2        3                   7\n",
       "3        4                   8\n",
       "4        5                  10"
      ]
     },
     "execution_count": 359,
     "metadata": {},
     "output_type": "execute_result"
    }
   ],
   "source": [
    "last_user_N_orders_count_df.head()"
   ]
  },
  {
   "cell_type": "code",
   "execution_count": 326,
   "id": "4b950815",
   "metadata": {},
   "outputs": [],
   "source": [
    "# Основной фрейм, но только с данными за последние N заказов\n",
    "df_cut4 = df_cut[df_cut['user_id'].isin(ordersN_df['user_id']) \\\n",
    "                & df_cut['order_completed_at'].isin(ordersN_df['order_completed_at'])]"
   ]
  },
  {
   "cell_type": "code",
   "execution_count": 329,
   "id": "3632a276",
   "metadata": {},
   "outputs": [
    {
     "data": {
      "text/html": [
       "<div>\n",
       "<style scoped>\n",
       "    .dataframe tbody tr th:only-of-type {\n",
       "        vertical-align: middle;\n",
       "    }\n",
       "\n",
       "    .dataframe tbody tr th {\n",
       "        vertical-align: top;\n",
       "    }\n",
       "\n",
       "    .dataframe thead th {\n",
       "        text-align: right;\n",
       "    }\n",
       "</style>\n",
       "<table border=\"1\" class=\"dataframe\">\n",
       "  <thead>\n",
       "    <tr style=\"text-align: right;\">\n",
       "      <th></th>\n",
       "      <th>user_id</th>\n",
       "      <th>order_completed_at</th>\n",
       "      <th>cart</th>\n",
       "    </tr>\n",
       "  </thead>\n",
       "  <tbody>\n",
       "    <tr>\n",
       "      <th>16</th>\n",
       "      <td>3</td>\n",
       "      <td>2015-06-18 16:15:33</td>\n",
       "      <td>399</td>\n",
       "    </tr>\n",
       "    <tr>\n",
       "      <th>17</th>\n",
       "      <td>3</td>\n",
       "      <td>2015-07-04 14:05:22</td>\n",
       "      <td>399</td>\n",
       "    </tr>\n",
       "    <tr>\n",
       "      <th>18</th>\n",
       "      <td>4</td>\n",
       "      <td>2015-07-08 06:59:04</td>\n",
       "      <td>54</td>\n",
       "    </tr>\n",
       "    <tr>\n",
       "      <th>19</th>\n",
       "      <td>4</td>\n",
       "      <td>2015-07-08 06:59:04</td>\n",
       "      <td>55</td>\n",
       "    </tr>\n",
       "    <tr>\n",
       "      <th>34</th>\n",
       "      <td>3</td>\n",
       "      <td>2015-08-12 10:33:44</td>\n",
       "      <td>804</td>\n",
       "    </tr>\n",
       "  </tbody>\n",
       "</table>\n",
       "</div>"
      ],
      "text/plain": [
       "    user_id  order_completed_at  cart\n",
       "16        3 2015-06-18 16:15:33   399\n",
       "17        3 2015-07-04 14:05:22   399\n",
       "18        4 2015-07-08 06:59:04    54\n",
       "19        4 2015-07-08 06:59:04    55\n",
       "34        3 2015-08-12 10:33:44   804"
      ]
     },
     "execution_count": 329,
     "metadata": {},
     "output_type": "execute_result"
    }
   ],
   "source": [
    "df_cut4.head()"
   ]
  },
  {
   "cell_type": "code",
   "execution_count": 361,
   "id": "35c896b5",
   "metadata": {},
   "outputs": [],
   "source": [
    "# Сколько раз в последних заказах пользователя присутствовала конкретная категория\n",
    "category_df = df_cut4.groupby(['user_id', 'cart']).count().reset_index()  \\\n",
    "            .rename({'order_completed_at': 'orders_count'}, axis=1)\n",
    "# Теперь добавлю информацию о количестве последних заказов\n",
    "category_df = category_df.merge(last_user_N_orders_count_df, on='user_id')"
   ]
  },
  {
   "cell_type": "code",
   "execution_count": 362,
   "id": "35a4842d",
   "metadata": {},
   "outputs": [
    {
     "data": {
      "text/html": [
       "<div>\n",
       "<style scoped>\n",
       "    .dataframe tbody tr th:only-of-type {\n",
       "        vertical-align: middle;\n",
       "    }\n",
       "\n",
       "    .dataframe tbody tr th {\n",
       "        vertical-align: top;\n",
       "    }\n",
       "\n",
       "    .dataframe thead th {\n",
       "        text-align: right;\n",
       "    }\n",
       "</style>\n",
       "<table border=\"1\" class=\"dataframe\">\n",
       "  <thead>\n",
       "    <tr style=\"text-align: right;\">\n",
       "      <th></th>\n",
       "      <th>user_id</th>\n",
       "      <th>cart</th>\n",
       "      <th>orders_count</th>\n",
       "      <th>last_user_N_orders</th>\n",
       "    </tr>\n",
       "  </thead>\n",
       "  <tbody>\n",
       "    <tr>\n",
       "      <th>0</th>\n",
       "      <td>0</td>\n",
       "      <td>5</td>\n",
       "      <td>1</td>\n",
       "      <td>3</td>\n",
       "    </tr>\n",
       "    <tr>\n",
       "      <th>1</th>\n",
       "      <td>0</td>\n",
       "      <td>10</td>\n",
       "      <td>1</td>\n",
       "      <td>3</td>\n",
       "    </tr>\n",
       "    <tr>\n",
       "      <th>2</th>\n",
       "      <td>0</td>\n",
       "      <td>14</td>\n",
       "      <td>2</td>\n",
       "      <td>3</td>\n",
       "    </tr>\n",
       "    <tr>\n",
       "      <th>3</th>\n",
       "      <td>0</td>\n",
       "      <td>20</td>\n",
       "      <td>1</td>\n",
       "      <td>3</td>\n",
       "    </tr>\n",
       "    <tr>\n",
       "      <th>4</th>\n",
       "      <td>0</td>\n",
       "      <td>22</td>\n",
       "      <td>1</td>\n",
       "      <td>3</td>\n",
       "    </tr>\n",
       "  </tbody>\n",
       "</table>\n",
       "</div>"
      ],
      "text/plain": [
       "   user_id  cart  orders_count  last_user_N_orders\n",
       "0        0     5             1                   3\n",
       "1        0    10             1                   3\n",
       "2        0    14             2                   3\n",
       "3        0    20             1                   3\n",
       "4        0    22             1                   3"
      ]
     },
     "execution_count": 362,
     "metadata": {},
     "output_type": "execute_result"
    }
   ],
   "source": [
    "category_df.head()"
   ]
  },
  {
   "cell_type": "code",
   "execution_count": 365,
   "id": "ca086ba4",
   "metadata": {},
   "outputs": [],
   "source": [
    "# Фрейм только с теми категориями, которые пользователь заказывал в половине своих последних заказов или чаще\n",
    "category_top_df = category_df[category_df['orders_count'] >= category_df['last_user_N_orders'] / 2] "
   ]
  },
  {
   "cell_type": "code",
   "execution_count": 367,
   "id": "e518b386",
   "metadata": {},
   "outputs": [
    {
     "data": {
      "text/html": [
       "<div>\n",
       "<style scoped>\n",
       "    .dataframe tbody tr th:only-of-type {\n",
       "        vertical-align: middle;\n",
       "    }\n",
       "\n",
       "    .dataframe tbody tr th {\n",
       "        vertical-align: top;\n",
       "    }\n",
       "\n",
       "    .dataframe thead th {\n",
       "        text-align: right;\n",
       "    }\n",
       "</style>\n",
       "<table border=\"1\" class=\"dataframe\">\n",
       "  <thead>\n",
       "    <tr style=\"text-align: right;\">\n",
       "      <th></th>\n",
       "      <th>user_id</th>\n",
       "      <th>cart</th>\n",
       "      <th>orders_count</th>\n",
       "      <th>last_user_N_orders</th>\n",
       "    </tr>\n",
       "  </thead>\n",
       "  <tbody>\n",
       "    <tr>\n",
       "      <th>2</th>\n",
       "      <td>0</td>\n",
       "      <td>14</td>\n",
       "      <td>2</td>\n",
       "      <td>3</td>\n",
       "    </tr>\n",
       "    <tr>\n",
       "      <th>9</th>\n",
       "      <td>0</td>\n",
       "      <td>57</td>\n",
       "      <td>3</td>\n",
       "      <td>3</td>\n",
       "    </tr>\n",
       "    <tr>\n",
       "      <th>11</th>\n",
       "      <td>0</td>\n",
       "      <td>82</td>\n",
       "      <td>2</td>\n",
       "      <td>3</td>\n",
       "    </tr>\n",
       "    <tr>\n",
       "      <th>13</th>\n",
       "      <td>0</td>\n",
       "      <td>84</td>\n",
       "      <td>2</td>\n",
       "      <td>3</td>\n",
       "    </tr>\n",
       "    <tr>\n",
       "      <th>18</th>\n",
       "      <td>0</td>\n",
       "      <td>379</td>\n",
       "      <td>2</td>\n",
       "      <td>3</td>\n",
       "    </tr>\n",
       "  </tbody>\n",
       "</table>\n",
       "</div>"
      ],
      "text/plain": [
       "    user_id  cart  orders_count  last_user_N_orders\n",
       "2         0    14             2                   3\n",
       "9         0    57             3                   3\n",
       "11        0    82             2                   3\n",
       "13        0    84             2                   3\n",
       "18        0   379             2                   3"
      ]
     },
     "execution_count": 367,
     "metadata": {},
     "output_type": "execute_result"
    }
   ],
   "source": [
    "category_top_df.head()"
   ]
  },
  {
   "cell_type": "code",
   "execution_count": 375,
   "id": "35f3b38a",
   "metadata": {},
   "outputs": [],
   "source": [
    "# Готовлю submission\n",
    "sub_df = sample_out_df2.copy()\n",
    "sub_df['target'] = (sub_df['user'].isin(category_top_df['user_id']) \\\n",
    "                    & sub_df['category'].isin(category_top_df['cart'])).astype(int)\n",
    "sub_df = sub_df.loc[:, ['id', 'target']]\n",
    "sub_df.to_csv('sub9.csv', index=False)   # Score = 0.31222\n",
    "# Результат улучшить не удалось"
   ]
  },
  {
   "cell_type": "markdown",
   "id": "f75617fd",
   "metadata": {},
   "source": [
    "# Гипотеза 4 - Следующий заказ совпадает с предыдущим"
   ]
  },
  {
   "cell_type": "markdown",
   "id": "d68c4487",
   "metadata": {},
   "source": [
    "Для временных рядов часто оказывается, что хорошим предсказанием является просто предыдущее значение ряда.\n",
    "То есть следующий заказ пользователя будет максимально похож на предыдущий.\n",
    "Проверим это предположение.\n",
    "Буду предсказывать 1, если товар был в последнем заказе. Иначе - 0."
   ]
  },
  {
   "cell_type": "code",
   "execution_count": null,
   "id": "5aa1346b",
   "metadata": {},
   "outputs": [],
   "source": [
    "N = 1"
   ]
  },
  {
   "cell_type": "code",
   "execution_count": 376,
   "id": "a7759f16",
   "metadata": {},
   "outputs": [],
   "source": [
    "# Последний заказ каждого пользователя\n",
    "orders1_df = orders_df.sort_values(['user_id', 'order_completed_at'], ascending=[True, False])  \\\n",
    "    .groupby('user_id').head(1)"
   ]
  },
  {
   "cell_type": "code",
   "execution_count": 378,
   "id": "719d5d74",
   "metadata": {},
   "outputs": [],
   "source": [
    "# Основной фрейм, но только с данными из последнего заказа\n",
    "df_cut5 = df_cut[df_cut['user_id'].isin(orders1_df['user_id']) \\\n",
    "                & df_cut['order_completed_at'].isin(orders1_df['order_completed_at'])]"
   ]
  },
  {
   "cell_type": "code",
   "execution_count": 382,
   "id": "dee96743",
   "metadata": {},
   "outputs": [],
   "source": [
    "# Готовлю submission\n",
    "sub_df = sample_out_df2.copy()\n",
    "sub_df['target'] = (sub_df['user'].isin(df_cut5['user_id']) \\\n",
    "                    & sub_df['category'].isin(df_cut5['cart'])).astype(int)\n",
    "sub_df = sub_df.loc[:, ['id', 'target']]\n",
    "sub_df.to_csv('sub10.csv', index=False)   # Score = 0.30666\n",
    "# Результат улучшить не удалось"
   ]
  },
  {
   "cell_type": "markdown",
   "id": "5e3ab059",
   "metadata": {},
   "source": [
    "На этом простые гипотезы закончились.\n",
    "Пора приступать к машинному обучению.\n",
    "Ему посвящен 2-й ноутбук: Cart_forecast_LSTM_v2(combat).ipynb"
   ]
  },
  {
   "cell_type": "code",
   "execution_count": null,
   "id": "bf0570e6",
   "metadata": {},
   "outputs": [],
   "source": []
  },
  {
   "cell_type": "code",
   "execution_count": null,
   "id": "6184c432",
   "metadata": {},
   "outputs": [],
   "source": []
  }
 ],
 "metadata": {
  "kernelspec": {
   "display_name": "Python 3",
   "language": "python",
   "name": "python3"
  },
  "language_info": {
   "codemirror_mode": {
    "name": "ipython",
    "version": 3
   },
   "file_extension": ".py",
   "mimetype": "text/x-python",
   "name": "python",
   "nbconvert_exporter": "python",
   "pygments_lexer": "ipython3",
   "version": "3.8.10"
  }
 },
 "nbformat": 4,
 "nbformat_minor": 5
}
