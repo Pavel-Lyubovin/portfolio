{
 "cells": [
  {
   "cell_type": "markdown",
   "metadata": {},
   "source": [
    "Тема: Линеаризация и дельта-метод\n",
    "\n",
    "Видео лекции:  \n",
    "https://www.youtube.com/watch?v=SymKn7KFYKk\n",
    "    \n",
    "Видео семинара:  \n",
    "https://www.youtube.com/watch?v=0QGRAQw4zwM"
   ]
  },
  {
   "cell_type": "code",
   "execution_count": 1,
   "metadata": {},
   "outputs": [],
   "source": [
    "import pandas as pd\n",
    "import numpy as np\n",
    "from tqdm import tqdm\n",
    "from scipy.stats import ttest_ind, norm, lognorm, bernoulli\n",
    "import matplotlib.pyplot as plt\n",
    "import seaborn as sns"
   ]
  },
  {
   "cell_type": "code",
   "execution_count": 2,
   "metadata": {},
   "outputs": [],
   "source": [
    "# Настройки для красивых графиков\n",
    "plt.rcParams['font.size'] = 16"
   ]
  },
  {
   "cell_type": "markdown",
   "metadata": {},
   "source": [
    "# Ratio-метрики и линеаризация"
   ]
  },
  {
   "cell_type": "markdown",
   "metadata": {},
   "source": [
    "## Генерация данных о сессиях пользователей"
   ]
  },
  {
   "cell_type": "markdown",
   "metadata": {},
   "source": [
    "Будем генерировать пользователей со случайным кол-вом сессеий от 3 до 9. У каждого пользователя будет своя средняя длина сессии, множество сессий пользователя будет генерироваться просто добавлением шума к средней длине сессии пользователя."
   ]
  },
  {
   "cell_type": "code",
   "execution_count": 3,
   "metadata": {},
   "outputs": [],
   "source": [
    "def get_session_duration(size, effect=0, seed=None):\n",
    "    \"\"\"Генерирует данные с продолжительностями сессий.\n",
    "    \n",
    "    size: int, количество пользователей.\n",
    "    effect: float, размер эффекта, на сколько изменилась продолжительность сессии относительно базовой.\n",
    "    seed: int, состоянеие генератора случайных чисел\n",
    "    \n",
    "    return: List[np.array], список массивов,\n",
    "        элемент списка - пользователь,\n",
    "        элементы массива - длины сессий.\n",
    "    \"\"\"\n",
    "    def _user_session(mean):\n",
    "        n_session = np.random.randint(3, 9)\n",
    "        sessions = np.random.normal(loc=mean, scale=10, size=n_session).astype(int)\n",
    "        sessions = np.where(sessions >= 0, sessions, 0)\n",
    "        return sessions\n",
    "        \n",
    "    if seed:\n",
    "        np.random.seed(seed)\n",
    "    \n",
    "    # Генерация средней длины сессии для каждого пользователя + эффект\n",
    "    mean_durations = np.random.normal(loc=100, scale=20, size=size) * (1 + effect)\n",
    "    \n",
    "    # Список длин сессий по пользователям (список списков)\n",
    "    return [_user_session(mean_duration) for mean_duration in mean_durations]"
   ]
  },
  {
   "cell_type": "markdown",
   "metadata": {},
   "source": [
    "Посмотрим, как работает функция генерации данных"
   ]
  },
  {
   "cell_type": "code",
   "execution_count": 4,
   "metadata": {},
   "outputs": [
    {
     "data": {
      "text/plain": [
       "[array([86, 70, 97, 73, 74, 86, 84]),\n",
       " array([89, 83, 79, 76, 69, 89]),\n",
       " array([ 98, 120,  87, 105]),\n",
       " array([76, 71, 82, 75, 86, 79]),\n",
       " array([127, 150, 144, 137, 161, 142])]"
      ]
     },
     "execution_count": 4,
     "metadata": {},
     "output_type": "execute_result"
    }
   ],
   "source": [
    "get_session_duration(size=5, effect=0, seed=None)"
   ]
  },
  {
   "cell_type": "markdown",
   "metadata": {},
   "source": [
    "## 1. АА-тест и распределение p-value"
   ]
  },
  {
   "cell_type": "markdown",
   "metadata": {},
   "source": [
    "Корректно работающий статистический тест дает равномерное распределение p-value для АА-теста. Действительно, p-value показывает вероятность получить такое же или большее значение статистики при справедливости нулевой гепотезы. Из этого автоматически следует выше написанное утверждение."
   ]
  },
  {
   "cell_type": "code",
   "execution_count": 5,
   "metadata": {},
   "outputs": [],
   "source": [
    "def plot_value_ecdf(pvalues, title=None):\n",
    "    fig, (ax1, ax2) = plt.subplots(1, 2, figsize=(14, 6))\n",
    "    \n",
    "    if title:\n",
    "        plt.suptitle(title)\n",
    "    \n",
    "    sns.histplot(pvalues, ax=ax1, bins=20, stat='density')\n",
    "    ax1.plot([0, 1], [1, 1], 'k--')\n",
    "    ax1.set_xlabel('P-value')\n",
    "    \n",
    "    sns.ecdfplot(pvalues, ax=ax2)\n",
    "    ax2.set_xlabel('P-value')\n",
    "    ax2.set_ylabel('Probability')\n",
    "    ax2.grid()"
   ]
  },
  {
   "cell_type": "markdown",
   "metadata": {},
   "source": [
    "Проверим наши рассуждения на примере нормального распределения:"
   ]
  },
  {
   "cell_type": "code",
   "execution_count": 6,
   "metadata": {},
   "outputs": [
    {
     "name": "stderr",
     "output_type": "stream",
     "text": [
      "100%|█████████████████████████████████████| 1000/1000 [00:00<00:00, 3898.83it/s]\n"
     ]
    },
    {
     "data": {
      "image/png": "[encoded data removed]",
      "text/plain": [
       "<Figure size 1008x432 with 2 Axes>"
      ]
     },
     "metadata": {
      "needs_background": "light"
     },
     "output_type": "display_data"
    }
   ],
   "source": [
    "def get_pvalue_samples(a_generator, b_generator, size):\n",
    "    pvalues = []\n",
    "    for _ in tqdm(range(size)):\n",
    "        _, pval = ttest_ind(a_generator(), b_generator())\n",
    "        pvalues.append(pval)\n",
    "    return pvalues\n",
    "\n",
    "a_generator = lambda: np.random.normal(loc=0, scale=1, size=100)\n",
    "b_generator = lambda: np.random.normal(loc=0, scale=1, size=100)\n",
    "\n",
    "pvalues = get_pvalue_samples(a_generator, b_generator, size=1000)\n",
    "\n",
    "plot_value_ecdf(pvalues, title='P-value ECDF. Normal distribution')"
   ]
  },
  {
   "cell_type": "markdown",
   "metadata": {},
   "source": [
    "Наши ожидания оправдались. Мы видим распределение p-value близкое к равномерному."
   ]
  },
  {
   "cell_type": "markdown",
   "metadata": {},
   "source": [
    "## 2.Проблема зависимых случайных величин. Тест Стьюдента по сессиям"
   ]
  },
  {
   "cell_type": "markdown",
   "metadata": {},
   "source": [
    "Посмотрим, что произойдет с тестом при наивном применении. Когда мы в качестве случайных величин возьмем длины сессий пользователей в пилотной и контрольной группах."
   ]
  },
  {
   "cell_type": "code",
   "execution_count": 7,
   "metadata": {},
   "outputs": [
    {
     "name": "stderr",
     "output_type": "stream",
     "text": [
      "100%|██████████████████████████████████████| 1000/1000 [00:03<00:00, 296.29it/s]\n"
     ]
    },
    {
     "data": {
      "image/png": "[encoded data removed]",
      "text/plain": [
       "<Figure size 1008x432 with 2 Axes>"
      ]
     },
     "metadata": {
      "needs_background": "light"
     },
     "output_type": "display_data"
    }
   ],
   "source": [
    "def check_test_naive(a, b):\n",
    "    \"\"\"Проверка гипотезы с помощью наивного среднего по длинам сессий.\n",
    "    \n",
    "    a: List[np.array], список множеств длин сессий пользователей контрольной группы\n",
    "    b: List[np.array], список множеств длин сессий пользователей пилотной группы\n",
    "    \n",
    "    return: pvalue и точечную оценку.\n",
    "    \"\"\"\n",
    "    a_naive = np.concatenate(a)\n",
    "    b_naive = np.concatenate(b)\n",
    "    delta = np.mean(b_naive) - np.mean(a_naive)\n",
    "    _, pval = ttest_ind(a_naive, b_naive)\n",
    "    return pval, delta\n",
    "\n",
    "def naive_session_duration(size=100, effect=0):\n",
    "    # Объединяем все сессии по пользователям в один массив\n",
    "    def _duration():\n",
    "        durations = get_session_duration(size=size, effect=effect)\n",
    "        return np.concatenate(durations)\n",
    "    return _duration\n",
    "\n",
    "pvalues = get_pvalue_samples(naive_session_duration(size=100, effect=0),\n",
    "                             naive_session_duration(size=100, effect=0),\n",
    "                             size=1000)\n",
    "        \n",
    "plot_value_ecdf(pvalues, title='P-value ECDF. Naive session duration T-Test')      "
   ]
  },
  {
   "cell_type": "markdown",
   "metadata": {},
   "source": [
    "Мы видим, что полученное распределение сильно неравномерное. Это говорит о неверно сконструированном тесте. \n",
    "\n",
    "pvalue < 0.05 примерно в 40% случаев, то есть в 40% случаев мы отклонили нулевую гипотезу, когда она была верна.\n",
    "\n",
    "Всё это связано с тем, что длины сессий не будут независимыми. Для каждого пользователя вообще говоря будет свое распределение. И неравенство в выборе приводит к таким плачевным результатам."
   ]
  },
  {
   "cell_type": "markdown",
   "metadata": {},
   "source": [
    "## 3. Среднее по пользователям"
   ]
  },
  {
   "cell_type": "markdown",
   "metadata": {},
   "source": [
    "Не всегда, но очень часто, мы можем предположить независимость действия отдельных пользователей. Поэтому и статистики для пользователей должны быть независимыми.\n",
    "\n",
    "Посмотрим на распределение p-value для user average. А также выясним, сохраняется ли сонаправленность этой мерики с исходной (без усреднения по пользователям)"
   ]
  },
  {
   "cell_type": "code",
   "execution_count": 8,
   "metadata": {},
   "outputs": [
    {
     "name": "stderr",
     "output_type": "stream",
     "text": [
      "100%|██████████████████████████████████████| 1000/1000 [00:05<00:00, 172.16it/s]\n"
     ]
    },
    {
     "data": {
      "image/png": "[encoded data removed]",
      "text/plain": [
       "<Figure size 1008x432 with 2 Axes>"
      ]
     },
     "metadata": {
      "needs_background": "light"
     },
     "output_type": "display_data"
    }
   ],
   "source": [
    "def check_test_avg(a, b):\n",
    "    \"\"\"Проверка гипотезы с помощью средней длины сессии каждого пользователя.\n",
    "    \n",
    "    a: List[np.array], список множеств длин сессий пользователей контрольной группы\n",
    "    b: List[np.array], список множеств длин сессий пользователей пилотной группы\n",
    "    \n",
    "    return: pvalue и точечную оценку.\n",
    "    \"\"\"\n",
    "    a_avg = [np.mean(s) for s in a]\n",
    "    b_avg = [np.mean(s) for s in b]\n",
    "    delta = np.mean(b_avg) - np.mean(a_avg)\n",
    "    _, pval = ttest_ind(a_avg, b_avg)\n",
    "    return pval, delta\n",
    "\n",
    "def user_average_duration(size=100, effect=0):\n",
    "    # Считаем среднюю длину сессии каждого пользователя\n",
    "    def _duration():\n",
    "        durations = get_session_duration(size=size, effect=effect)\n",
    "        return [np.mean(s) for s in durations]\n",
    "    return _duration\n",
    "\n",
    "pvalues = get_pvalue_samples(user_average_duration(size=100, effect=0),\n",
    "                             user_average_duration(size=100, effect=0),\n",
    "                             size=1000)\n",
    "        \n",
    "plot_value_ecdf(pvalues, title='P-value ECDF. User average session duration T-Test')      "
   ]
  },
  {
   "cell_type": "markdown",
   "metadata": {},
   "source": [
    "Сравним направленность метрик"
   ]
  },
  {
   "cell_type": "code",
   "execution_count": 9,
   "metadata": {},
   "outputs": [
    {
     "name": "stderr",
     "output_type": "stream",
     "text": [
      "100%|██████████████████████████████████████| 1000/1000 [00:05<00:00, 180.22it/s]\n"
     ]
    },
    {
     "data": {
      "image/png": "[encoded data removed]",
      "text/plain": [
       "<Figure size 576x576 with 1 Axes>"
      ]
     },
     "metadata": {
      "needs_background": "light"
     },
     "output_type": "display_data"
    }
   ],
   "source": [
    "session_lens = []\n",
    "avg_user_sessions_lens = []\n",
    "\n",
    "def get_sessions_diffs(a, b):\n",
    "    sa = np.concatenate(a)\n",
    "    sb = np.concatenate(b)\n",
    "    return np.mean(sb) - np.mean(sa)\n",
    "\n",
    "def get_avg_user_sessions_diffs(a, b):\n",
    "    sa = [np.mean(s) for s in a]\n",
    "    sb = [np.mean(s) for s in b]\n",
    "    return np.mean(sb) - np.mean(sa)\n",
    "\n",
    "for _ in tqdm(range(1000)):\n",
    "    a = get_session_duration(size=100)\n",
    "    b = get_session_duration(size=100)\n",
    "    session_lens.append(get_sessions_diffs(a, b))\n",
    "    avg_user_sessions_lens.append(get_avg_user_sessions_diffs(a, b))\n",
    "    \n",
    "plt.figure(figsize=(8, 8))    \n",
    "plt.scatter(session_lens, avg_user_sessions_lens, s=3, alpha=0.4)\n",
    "plt.title('Разность метрик между группами')\n",
    "plt.xlabel('Истинное среднее сессий')\n",
    "plt.ylabel('Среднее средних сессий по пользователям')\n",
    "plt.grid()\n",
    "    "
   ]
  },
  {
   "cell_type": "markdown",
   "metadata": {},
   "source": [
    "Видно, что в окрестности точки [0, 0] есть области (левее и выше, правее и ниже), где метрики разнонаправленны.\n",
    "\n",
    "К тому же сами метрики скоррелированы не идеально (относительно других примеров)"
   ]
  },
  {
   "cell_type": "markdown",
   "metadata": {},
   "source": [
    " ## 4. Бутстреп"
   ]
  },
  {
   "cell_type": "markdown",
   "metadata": {},
   "source": [
    "Будем сэмплировать пользователей из групп и считать разность RATIO метрики"
   ]
  },
  {
   "cell_type": "code",
   "execution_count": 10,
   "metadata": {},
   "outputs": [],
   "source": [
    "def check_bootstrap(a, b, n=1000):\n",
    "    \n",
    "    # Подготовка: для каждого клиента посчитаем сумму длин сессий их кол-во\n",
    "    a_prep_sum = np.array([np.sum(s) for s in a])\n",
    "    b_prep_sum = np.array([np.sum(s) for s in b])\n",
    "    a_prep_count = np.array([len(s) for s in a])\n",
    "    b_prep_count = np.array([len(s) for s in b])\n",
    "    \n",
    "    # Истинная оценка\n",
    "    delta = np.sum(b_prep_sum) / np.sum(b_prep_count) - np.sum(a_prep_sum) / np.sum(a_prep_count)\n",
    "    \n",
    "    # Массив разниц\n",
    "    bootstrap_deltas = []\n",
    "    for _ in range(n):\n",
    "        a_idx = np.random.choice(np.arange(len(a)), size=len(a), replace=True)\n",
    "        b_idx = np.random.choice(np.arange(len(b)), size=len(b), replace=True)\n",
    "        bootstrap_delta = np.sum(b_prep_sum[b_idx]) / np.sum(b_prep_count[b_idx]) \\\n",
    "                            - np.sum(a_prep_sum[a_idx]) / np.sum(a_prep_count[a_idx])\n",
    "        bootstrap_deltas.append(bootstrap_delta)\n",
    "\n",
    "    # Бутстреп-оценка\n",
    "    bootstrap_delta = np.mean(bootstrap_deltas)\n",
    "    # СКО бутстреп оценок\n",
    "    std_bootstrap_deltas = np.std(bootstrap_deltas)\n",
    "    \n",
    "    pvalue = 2 * (1 - norm.cdf(np.abs(delta) / std_bootstrap_deltas))\n",
    "    \n",
    "    return pvalue, delta\n",
    "    "
   ]
  },
  {
   "cell_type": "markdown",
   "metadata": {},
   "source": [
    "Проверим наличие у этого способа недостатков прошлых методов: неравномерность pvalue на АА-тесте и сонаправленность."
   ]
  },
  {
   "cell_type": "code",
   "execution_count": 11,
   "metadata": {},
   "outputs": [
    {
     "name": "stderr",
     "output_type": "stream",
     "text": [
      "100%|███████████████████████████████████████| 1000/1000 [01:08<00:00, 14.66it/s]\n"
     ]
    }
   ],
   "source": [
    "true_deltas = []\n",
    "bootstrap_deltas = []\n",
    "pvalues = []\n",
    "\n",
    "for _ in tqdm(range(1000)):\n",
    "    a = get_session_duration(size=100, effect=0)\n",
    "    b = get_session_duration(size=100, effect=0)\n",
    "    true_delta = np.mean(np.concatenate(b)) - np.mean(np.concatenate(a))\n",
    "    pvalue, delta = check_bootstrap(a, b)\n",
    "    true_deltas.append(true_delta)\n",
    "    bootstrap_deltas.append(delta)\n",
    "    pvalues.append(pvalue)"
   ]
  },
  {
   "cell_type": "code",
   "execution_count": 12,
   "metadata": {},
   "outputs": [
    {
     "name": "stderr",
     "output_type": "stream",
     "text": [
      "/home/lucky/anaconda3/lib/python3.9/site-packages/seaborn/_decorators.py:36: FutureWarning: Pass the following variables as keyword args: x, y. From version 0.12, the only valid positional argument will be `data`, and passing other arguments without an explicit keyword will result in an error or misinterpretation.\n",
      "  warnings.warn(\n"
     ]
    },
    {
     "data": {
      "text/plain": [
       "<Figure size 432x288 with 0 Axes>"
      ]
     },
     "metadata": {},
     "output_type": "display_data"
    },
    {
     "data": {
      "image/png": "[encoded data removed]",
      "text/plain": [
       "<Figure size 864x360 with 2 Axes>"
      ]
     },
     "metadata": {
      "needs_background": "light"
     },
     "output_type": "display_data"
    }
   ],
   "source": [
    "def plot_two_graph(list_pvalue, list_delta, list_real_delta, suptitle=None):\n",
    "    if suptitle:\n",
    "        plt.suptitle(suptitle)\n",
    "        \n",
    "    fig, (ax1, ax2) = plt.subplots(1, 2, figsize=[12, 5])\n",
    "    \n",
    "    sns.ecdfplot(list_pvalue, ax=ax1)\n",
    "    ax1.set_xlabel('p-value')\n",
    "    ax1.set_ylabel('Probability')\n",
    "    ax1.set_title('Функция распределения p-value')\n",
    "    ax1.grid()\n",
    "    \n",
    "    sns.scatterplot(list_delta, list_real_delta, s=2, ax=ax2)\n",
    "    ax2.set_xlabel('mean user metric delta')\n",
    "    ax2.set_ylabel('real ratio metric delta')\n",
    "    ax2.set_title('Разность метрик между группами')\n",
    "    ax2.grid()\n",
    "    \n",
    "\n",
    "plot_two_graph(pvalues, bootstrap_deltas, true_deltas, suptitle='АА-тест. Бутстреп')"
   ]
  },
  {
   "cell_type": "markdown",
   "metadata": {},
   "source": [
    "P-value распределен равномерно, направленность сохраняется. Отметим, что время вычислений заметно увеличилось. \n",
    "\n",
    "Проверим, может ли этот тест уловить эффект. Увеличим длину сессий в группе В."
   ]
  },
  {
   "cell_type": "code",
   "execution_count": 13,
   "metadata": {},
   "outputs": [
    {
     "name": "stderr",
     "output_type": "stream",
     "text": [
      "100%|███████████████████████████████████████| 1000/1000 [01:07<00:00, 14.73it/s]\n"
     ]
    }
   ],
   "source": [
    "true_deltas = []\n",
    "bootstrap_deltas = []\n",
    "pvalues = []\n",
    "\n",
    "for _ in tqdm(range(1000)):\n",
    "    a = get_session_duration(size=100, effect=0)\n",
    "    b = get_session_duration(size=100, effect=0.05)\n",
    "    true_delta = np.mean(np.concatenate(b)) - np.mean(np.concatenate(a))\n",
    "    pvalue, delta = check_bootstrap(a, b)\n",
    "    true_deltas.append(true_delta)\n",
    "    bootstrap_deltas.append(delta)\n",
    "    pvalues.append(pvalue)"
   ]
  },
  {
   "cell_type": "code",
   "execution_count": 14,
   "metadata": {
    "scrolled": false
   },
   "outputs": [
    {
     "name": "stderr",
     "output_type": "stream",
     "text": [
      "/home/lucky/anaconda3/lib/python3.9/site-packages/seaborn/_decorators.py:36: FutureWarning: Pass the following variables as keyword args: x, y. From version 0.12, the only valid positional argument will be `data`, and passing other arguments without an explicit keyword will result in an error or misinterpretation.\n",
      "  warnings.warn(\n"
     ]
    },
    {
     "data": {
      "text/plain": [
       "<Figure size 432x288 with 0 Axes>"
      ]
     },
     "metadata": {},
     "output_type": "display_data"
    },
    {
     "data": {
      "image/png": "[encoded data removed]",
      "text/plain": [
       "<Figure size 864x360 with 2 Axes>"
      ]
     },
     "metadata": {
      "needs_background": "light"
     },
     "output_type": "display_data"
    }
   ],
   "source": [
    "plot_two_graph(pvalues, bootstrap_deltas, true_deltas, suptitle='АB-тест с эффектом. Бутстреп')"
   ]
  },
  {
   "cell_type": "markdown",
   "metadata": {},
   "source": [
    "Видно, что распределение p-value сместилось ближе к нулю. То есть нулевая гипотеза стала отвергаться чаще."
   ]
  },
  {
   "cell_type": "markdown",
   "metadata": {},
   "source": [
    "## 5. Дельта-метод\n",
    "\n",
    "Реализуем дельта-метод"
   ]
  },
  {
   "cell_type": "code",
   "execution_count": 15,
   "metadata": {},
   "outputs": [],
   "source": [
    "def check_delta_method(a, b):\n",
    "    \n",
    "    def prep_components(a):\n",
    "        d = dict()\n",
    "        d['x'] = [np.sum(s) for s in a]\n",
    "        d['y'] = [len(s) for s in a]\n",
    "        d['mean_x'] = np.mean(d['x'])\n",
    "        d['mean_y'] = np.mean(d['y'])\n",
    "        d['std_x'] = np.std(d['x'])\n",
    "        d['std_y'] = np.std(d['y'])\n",
    "        d['cov_xy'] = np.cov(d['x'], d['y'])[0, 1]\n",
    "        \n",
    "        d['metric'] = np.sum(d['x']) / np.sum(d['y'])\n",
    "        d['metric_var'] = (\n",
    "            d['std_x'] ** 2 / d['mean_y'] ** 2 \\\n",
    "            + d['mean_x'] ** 2 / d['mean_y'] ** 4 * d['std_y'] ** 2 \\\n",
    "            - 2 * d['mean_x'] / d['mean_y'] ** 3 * d['cov_xy']\n",
    "        ) / len(a)\n",
    "        return d\n",
    "    \n",
    "    d_a = prep_components(a)\n",
    "    d_b = prep_components(b)\n",
    "    \n",
    "    var = d_a['metric_var'] + d_b['metric_var']\n",
    "    delta = d_b['metric'] - d_a['metric']\n",
    "    pvalue = 2 * (1 - norm.cdf(np.abs(delta) / np.sqrt(var)))\n",
    "    \n",
    "    return pvalue, delta"
   ]
  },
  {
   "cell_type": "markdown",
   "metadata": {},
   "source": [
    "Проведем проверки, аналогичные бутстрепу"
   ]
  },
  {
   "cell_type": "code",
   "execution_count": 16,
   "metadata": {},
   "outputs": [
    {
     "name": "stderr",
     "output_type": "stream",
     "text": [
      "100%|██████████████████████████████████████| 1000/1000 [00:04<00:00, 243.15it/s]\n",
      "/home/lucky/anaconda3/lib/python3.9/site-packages/seaborn/_decorators.py:36: FutureWarning: Pass the following variables as keyword args: x, y. From version 0.12, the only valid positional argument will be `data`, and passing other arguments without an explicit keyword will result in an error or misinterpretation.\n",
      "  warnings.warn(\n"
     ]
    },
    {
     "data": {
      "image/png": "[encoded data removed]",
      "text/plain": [
       "<Figure size 864x360 with 2 Axes>"
      ]
     },
     "metadata": {
      "needs_background": "light"
     },
     "output_type": "display_data"
    }
   ],
   "source": [
    "true_deltas = []\n",
    "bootstrap_deltas = []\n",
    "pvalues = []\n",
    "\n",
    "for _ in tqdm(range(1000)):\n",
    "    a = get_session_duration(size=100, effect=0)\n",
    "    b = get_session_duration(size=100, effect=0)\n",
    "    true_delta = np.mean(np.concatenate(b)) - np.mean(np.concatenate(a))\n",
    "    pvalue, delta = check_delta_method(a, b)\n",
    "    true_deltas.append(true_delta)\n",
    "    bootstrap_deltas.append(delta)\n",
    "    pvalues.append(pvalue)\n",
    "    \n",
    "plot_two_graph(pvalues, bootstrap_deltas, true_deltas)"
   ]
  },
  {
   "cell_type": "code",
   "execution_count": 17,
   "metadata": {},
   "outputs": [
    {
     "name": "stderr",
     "output_type": "stream",
     "text": [
      "100%|██████████████████████████████████████| 1000/1000 [00:04<00:00, 242.81it/s]\n",
      "/home/lucky/anaconda3/lib/python3.9/site-packages/seaborn/_decorators.py:36: FutureWarning: Pass the following variables as keyword args: x, y. From version 0.12, the only valid positional argument will be `data`, and passing other arguments without an explicit keyword will result in an error or misinterpretation.\n",
      "  warnings.warn(\n"
     ]
    },
    {
     "data": {
      "image/png": "[encoded data removed]",
      "text/plain": [
       "<Figure size 864x360 with 2 Axes>"
      ]
     },
     "metadata": {
      "needs_background": "light"
     },
     "output_type": "display_data"
    }
   ],
   "source": [
    "true_deltas = []\n",
    "bootstrap_deltas = []\n",
    "pvalues = []\n",
    "\n",
    "for _ in tqdm(range(1000)):\n",
    "    a = get_session_duration(size=100, effect=0)\n",
    "    b = get_session_duration(size=100, effect=0.05)\n",
    "    true_delta = np.mean(np.concatenate(b)) - np.mean(np.concatenate(a))\n",
    "    pvalue, delta = check_delta_method(a, b)\n",
    "    true_deltas.append(true_delta)\n",
    "    bootstrap_deltas.append(delta)\n",
    "    pvalues.append(pvalue)\n",
    "    \n",
    "plot_two_graph(pvalues, bootstrap_deltas, true_deltas)"
   ]
  },
  {
   "cell_type": "markdown",
   "metadata": {},
   "source": [
    "Получаем ожидаемые и корректные результаты"
   ]
  },
  {
   "cell_type": "markdown",
   "metadata": {},
   "source": [
    "## 6. Линеаризация"
   ]
  },
  {
   "cell_type": "code",
   "execution_count": 18,
   "metadata": {},
   "outputs": [],
   "source": [
    "def check_linearization(a, b):\n",
    "    a_x = np.array([np.sum(s) for s in a])\n",
    "    b_x = np.array([np.sum(s) for s in b])\n",
    "    a_y = np.array([len(s) for s in a])\n",
    "    b_y = np.array([len(s) for s in b])\n",
    "    coef = np.sum(a_x) / np.sum(a_y)\n",
    "    a_lin = a_x - coef * a_y\n",
    "    b_lin = b_x - coef * b_y\n",
    "    _, pvalue = ttest_ind(a_lin, b_lin, equal_var=False)\n",
    "    delta = np.mean(b_lin) - np.mean(a_lin)\n",
    "    return pvalue, delta"
   ]
  },
  {
   "cell_type": "code",
   "execution_count": 19,
   "metadata": {},
   "outputs": [
    {
     "name": "stderr",
     "output_type": "stream",
     "text": [
      "100%|██████████████████████████████████████| 1000/1000 [00:03<00:00, 256.64it/s]\n",
      "/home/lucky/anaconda3/lib/python3.9/site-packages/seaborn/_decorators.py:36: FutureWarning: Pass the following variables as keyword args: x, y. From version 0.12, the only valid positional argument will be `data`, and passing other arguments without an explicit keyword will result in an error or misinterpretation.\n",
      "  warnings.warn(\n"
     ]
    },
    {
     "data": {
      "image/png": "[encoded data removed]",
      "text/plain": [
       "<Figure size 864x360 with 2 Axes>"
      ]
     },
     "metadata": {
      "needs_background": "light"
     },
     "output_type": "display_data"
    }
   ],
   "source": [
    "true_deltas = []\n",
    "bootstrap_deltas = []\n",
    "pvalues = []\n",
    "\n",
    "for _ in tqdm(range(1000)):\n",
    "    a = get_session_duration(size=100, effect=0)\n",
    "    b = get_session_duration(size=100, effect=0)\n",
    "    true_delta = np.mean(np.concatenate(b)) - np.mean(np.concatenate(a))\n",
    "    pvalue, delta = check_linearization(a, b)\n",
    "    true_deltas.append(true_delta)\n",
    "    bootstrap_deltas.append(delta)\n",
    "    pvalues.append(pvalue)\n",
    "    \n",
    "plot_two_graph(pvalues, bootstrap_deltas, true_deltas)"
   ]
  },
  {
   "cell_type": "code",
   "execution_count": 20,
   "metadata": {},
   "outputs": [
    {
     "name": "stderr",
     "output_type": "stream",
     "text": [
      "100%|██████████████████████████████████████| 1000/1000 [00:03<00:00, 265.06it/s]\n",
      "/home/lucky/anaconda3/lib/python3.9/site-packages/seaborn/_decorators.py:36: FutureWarning: Pass the following variables as keyword args: x, y. From version 0.12, the only valid positional argument will be `data`, and passing other arguments without an explicit keyword will result in an error or misinterpretation.\n",
      "  warnings.warn(\n"
     ]
    },
    {
     "data": {
      "image/png": "[encoded data removed]",
      "text/plain": [
       "<Figure size 864x360 with 2 Axes>"
      ]
     },
     "metadata": {
      "needs_background": "light"
     },
     "output_type": "display_data"
    }
   ],
   "source": [
    "true_deltas = []\n",
    "bootstrap_deltas = []\n",
    "pvalues = []\n",
    "\n",
    "for _ in tqdm(range(1000)):\n",
    "    a = get_session_duration(size=100, effect=0)\n",
    "    b = get_session_duration(size=100, effect=0.05)\n",
    "    true_delta = np.mean(np.concatenate(b)) - np.mean(np.concatenate(a))\n",
    "    pvalue, delta = check_linearization(a, b)\n",
    "    true_deltas.append(true_delta)\n",
    "    bootstrap_deltas.append(delta)\n",
    "    pvalues.append(pvalue)\n",
    "    \n",
    "plot_two_graph(pvalues, bootstrap_deltas, true_deltas)"
   ]
  },
  {
   "cell_type": "markdown",
   "metadata": {},
   "source": [
    "Получаем ожидаемые и корректные результаты"
   ]
  },
  {
   "cell_type": "markdown",
   "metadata": {},
   "source": [
    "## 7. Итого"
   ]
  },
  {
   "cell_type": "markdown",
   "metadata": {},
   "source": [
    "Посмотрим на методы вместе. Будем генерировать данные и считать приращения метрик и pvalue всеми способами и отобразим полученные результаты на графиках."
   ]
  },
  {
   "cell_type": "code",
   "execution_count": 21,
   "metadata": {},
   "outputs": [
    {
     "name": "stderr",
     "output_type": "stream",
     "text": [
      "100%|█████████████████████████████████████████| 200/200 [00:14<00:00, 13.74it/s]\n"
     ]
    }
   ],
   "source": [
    "dict_check = {\n",
    "    'bootstrap': check_bootstrap,\n",
    "    'naive':check_test_naive,\n",
    "    'avg': check_test_avg,\n",
    "    'delta': check_delta_method,\n",
    "    'linearization': check_linearization,\n",
    "}\n",
    "res_dict = {method: {'pvalue': [], 'delta': []} for method in dict_check}\n",
    "\n",
    "for _ in tqdm(range(200)):\n",
    "    a = get_session_duration(size=100, effect=0)\n",
    "    b = get_session_duration(size=100, effect=np.random.choice([-0.05, 0, 0.05]))\n",
    "    for method_name, method_func in dict_check.items():\n",
    "        pvalue, delta = method_func(a, b)\n",
    "        res_dict[method_name]['pvalue'].append(pvalue)\n",
    "        res_dict[method_name]['delta'].append(delta)"
   ]
  },
  {
   "cell_type": "code",
   "execution_count": 22,
   "metadata": {},
   "outputs": [
    {
     "data": {
      "image/png": "[encoded data removed]",
      "text/plain": [
       "<Figure size 1872x432 with 4 Axes>"
      ]
     },
     "metadata": {
      "needs_background": "light"
     },
     "output_type": "display_data"
    },
    {
     "data": {
      "image/png": "[encoded data removed]",
      "text/plain": [
       "<Figure size 1872x432 with 4 Axes>"
      ]
     },
     "metadata": {
      "needs_background": "light"
     },
     "output_type": "display_data"
    }
   ],
   "source": [
    "for data_type in ['pvalue', 'delta']:\n",
    "    fig, axes = plt.subplots(1, len(dict_check) - 1, figsize=[26, 6])\n",
    "    i = 0\n",
    "    for method in dict_check:\n",
    "        # Строим графики относительно bootstrap, поэтому пропускаем\n",
    "        if method == 'bootstrap':\n",
    "            continue\n",
    "        axes[i].scatter(res_dict['bootstrap'][data_type], res_dict[method][data_type], s=1)\n",
    "        if data_type == 'pvalue':\n",
    "            axes[i].plot([0, 1], [0, 1], 'k')\n",
    "        axes[i].set_xlabel('bootstrap')\n",
    "        axes[i].set_ylabel(method)\n",
    "        axes[i].set_title(data_type)\n",
    "        i += 1"
   ]
  },
  {
   "cell_type": "markdown",
   "metadata": {},
   "source": [
    "В верхнем ряду графики для pvalue, в нижнем - для разности метрик. По оси обсцисс везде бутстреп, по оси ординат другие методы.\n",
    "\n",
    "Видно, что первые два метода отличаются от остальных и дают некорректные pvalue.\n",
    "\n",
    "Результаты бутстрепа, дельта-метода и линеаризации оень похожи. Но бутстреп плох сложностью вычислений, которые занимают много времени. Плюс линеаризации под дельта-методом в наличии пользовательской метрики. Давайте придумаем пример, где это может дать преимущество."
   ]
  },
  {
   "cell_type": "markdown",
   "metadata": {},
   "source": [
    "## 8. Дельта-метод VS линеаризация\n",
    "\n",
    "Нам понадобятся данные о пользовательских сессиях до пилота. Пусть там будет слечайное кол-во сессий от 3 до 9, но точно такое же среднее значение продолжительности сессий"
   ]
  },
  {
   "cell_type": "code",
   "execution_count": 23,
   "metadata": {},
   "outputs": [],
   "source": [
    "def get_session_duration_with_prepilot(size, effect=0, seed=None):\n",
    "    \"\"\"\n",
    "    Тоже самое, что и set_session_duration(), только возвращает 2 набора данных:\n",
    "    для каждого пользователя точно такая же средняя продолжительность сессий,\n",
    "    но кол-во сессий случайное\n",
    "    \"\"\"\n",
    "    def _user_session(mean):\n",
    "        n_session = np.random.randint(3, 10)\n",
    "        sessions = np.random.normal(loc=mean, scale=10, size=n_session).astype(int)\n",
    "        sessions = np.where(sessions >= 0, sessions, 0)\n",
    "        return sessions\n",
    "        \n",
    "    if seed:\n",
    "        np.random.seed(seed)\n",
    "    \n",
    "    # Генерация средней длины сессии для каждого пользователя без эффекта (препилот)\n",
    "    mean_durations_no_effect = np.random.normal(loc=100, scale=20, size=size)\n",
    "    # Добавляю эффект для пилота\n",
    "    mean_durations_effect = mean_durations_no_effect * (1 + effect)\n",
    "    \n",
    "    # Список длин сессий по пользователям (список списков)\n",
    "    data_effect = [_user_session(mean_duration) for mean_duration in mean_durations_effect]\n",
    "    data_no_effect = [_user_session(mean_duration) for mean_duration in mean_durations_no_effect]\n",
    "    \n",
    "    return data_effect, data_no_effect"
   ]
  },
  {
   "cell_type": "code",
   "execution_count": 24,
   "metadata": {},
   "outputs": [
    {
     "data": {
      "text/plain": [
       "([array([150, 157, 159, 149, 152, 138, 158]),\n",
       "  array([117, 105, 120]),\n",
       "  array([120, 134, 140, 115, 123, 148])],\n",
       " [array([137, 111, 124, 121, 128, 109, 116, 104, 120]),\n",
       "  array([91, 98, 88, 99, 67]),\n",
       "  array([100, 134, 101,  89,  93])])"
      ]
     },
     "execution_count": 24,
     "metadata": {},
     "output_type": "execute_result"
    }
   ],
   "source": [
    "# Тестовая генерация\n",
    "get_session_duration_with_prepilot(size=3, effect=0.2)"
   ]
  },
  {
   "cell_type": "markdown",
   "metadata": {},
   "source": [
    "Сгенерируем данные для пилотной и контрольной групп"
   ]
  },
  {
   "cell_type": "code",
   "execution_count": 25,
   "metadata": {},
   "outputs": [],
   "source": [
    "size = 10_000\n",
    "np.random.seed(23)\n",
    "effect = 0.007\n",
    "\n",
    "data_pilot, data_pilot_before = get_session_duration_with_prepilot(size=size, effect=effect)\n",
    "data_control, data_control_before = get_session_duration_with_prepilot(size=size, effect=0)"
   ]
  },
  {
   "cell_type": "markdown",
   "metadata": {},
   "source": [
    "Посчитаем pvalue с помощью дельта-метода и линеаризации"
   ]
  },
  {
   "cell_type": "code",
   "execution_count": 26,
   "metadata": {},
   "outputs": [
    {
     "name": "stdout",
     "output_type": "stream",
     "text": [
      "pvalue delta method 0.3994\n",
      "pvalue linearization 0.3985\n"
     ]
    }
   ],
   "source": [
    "pvalue, delta = check_delta_method(data_control, data_pilot)\n",
    "print(f'pvalue delta method {pvalue:0.4f}')\n",
    "\n",
    "pvalue, delta = check_linearization(data_control, data_pilot)\n",
    "print(f'pvalue linearization {pvalue:0.4f}')"
   ]
  },
  {
   "cell_type": "markdown",
   "metadata": {},
   "source": [
    "Оба метода не отвергли нулевую гипотезу на уровне значимости 0.05.  \n",
    "Для линеаризации мы имеем пользовательскую метрику.  \n",
    "Можем применить способ понижения дисперсии CUPED"
   ]
  },
  {
   "cell_type": "code",
   "execution_count": 27,
   "metadata": {},
   "outputs": [
    {
     "data": {
      "text/html": [
       "<div>\n",
       "<style scoped>\n",
       "    .dataframe tbody tr th:only-of-type {\n",
       "        vertical-align: middle;\n",
       "    }\n",
       "\n",
       "    .dataframe tbody tr th {\n",
       "        vertical-align: top;\n",
       "    }\n",
       "\n",
       "    .dataframe thead th {\n",
       "        text-align: right;\n",
       "    }\n",
       "</style>\n",
       "<table border=\"1\" class=\"dataframe\">\n",
       "  <thead>\n",
       "    <tr style=\"text-align: right;\">\n",
       "      <th></th>\n",
       "      <th>x</th>\n",
       "      <th>y</th>\n",
       "      <th>x_before</th>\n",
       "      <th>y_before</th>\n",
       "      <th>metric_lin</th>\n",
       "      <th>metric_lin_before</th>\n",
       "    </tr>\n",
       "  </thead>\n",
       "  <tbody>\n",
       "    <tr>\n",
       "      <th>0</th>\n",
       "      <td>838</td>\n",
       "      <td>8</td>\n",
       "      <td>685</td>\n",
       "      <td>6</td>\n",
       "      <td>42.946588</td>\n",
       "      <td>88.709941</td>\n",
       "    </tr>\n",
       "    <tr>\n",
       "      <th>1</th>\n",
       "      <td>704</td>\n",
       "      <td>7</td>\n",
       "      <td>691</td>\n",
       "      <td>7</td>\n",
       "      <td>8.328265</td>\n",
       "      <td>-4.671735</td>\n",
       "    </tr>\n",
       "    <tr>\n",
       "      <th>2</th>\n",
       "      <td>820</td>\n",
       "      <td>9</td>\n",
       "      <td>782</td>\n",
       "      <td>9</td>\n",
       "      <td>-74.435088</td>\n",
       "      <td>-112.435088</td>\n",
       "    </tr>\n",
       "    <tr>\n",
       "      <th>3</th>\n",
       "      <td>333</td>\n",
       "      <td>3</td>\n",
       "      <td>339</td>\n",
       "      <td>3</td>\n",
       "      <td>34.854971</td>\n",
       "      <td>40.854971</td>\n",
       "    </tr>\n",
       "    <tr>\n",
       "      <th>4</th>\n",
       "      <td>686</td>\n",
       "      <td>6</td>\n",
       "      <td>534</td>\n",
       "      <td>5</td>\n",
       "      <td>89.709941</td>\n",
       "      <td>37.091618</td>\n",
       "    </tr>\n",
       "    <tr>\n",
       "      <th>...</th>\n",
       "      <td>...</td>\n",
       "      <td>...</td>\n",
       "      <td>...</td>\n",
       "      <td>...</td>\n",
       "      <td>...</td>\n",
       "      <td>...</td>\n",
       "    </tr>\n",
       "    <tr>\n",
       "      <th>9995</th>\n",
       "      <td>300</td>\n",
       "      <td>4</td>\n",
       "      <td>695</td>\n",
       "      <td>9</td>\n",
       "      <td>-97.526706</td>\n",
       "      <td>-199.435088</td>\n",
       "    </tr>\n",
       "    <tr>\n",
       "      <th>9996</th>\n",
       "      <td>371</td>\n",
       "      <td>6</td>\n",
       "      <td>477</td>\n",
       "      <td>7</td>\n",
       "      <td>-225.290059</td>\n",
       "      <td>-218.671735</td>\n",
       "    </tr>\n",
       "    <tr>\n",
       "      <th>9997</th>\n",
       "      <td>1047</td>\n",
       "      <td>8</td>\n",
       "      <td>867</td>\n",
       "      <td>7</td>\n",
       "      <td>251.946588</td>\n",
       "      <td>171.328265</td>\n",
       "    </tr>\n",
       "    <tr>\n",
       "      <th>9998</th>\n",
       "      <td>627</td>\n",
       "      <td>5</td>\n",
       "      <td>1086</td>\n",
       "      <td>9</td>\n",
       "      <td>130.091618</td>\n",
       "      <td>191.564912</td>\n",
       "    </tr>\n",
       "    <tr>\n",
       "      <th>9999</th>\n",
       "      <td>848</td>\n",
       "      <td>8</td>\n",
       "      <td>869</td>\n",
       "      <td>9</td>\n",
       "      <td>52.946588</td>\n",
       "      <td>-25.435088</td>\n",
       "    </tr>\n",
       "  </tbody>\n",
       "</table>\n",
       "<p>10000 rows × 6 columns</p>\n",
       "</div>"
      ],
      "text/plain": [
       "         x  y  x_before  y_before  metric_lin  metric_lin_before\n",
       "0      838  8       685         6   42.946588          88.709941\n",
       "1      704  7       691         7    8.328265          -4.671735\n",
       "2      820  9       782         9  -74.435088        -112.435088\n",
       "3      333  3       339         3   34.854971          40.854971\n",
       "4      686  6       534         5   89.709941          37.091618\n",
       "...    ... ..       ...       ...         ...                ...\n",
       "9995   300  4       695         9  -97.526706        -199.435088\n",
       "9996   371  6       477         7 -225.290059        -218.671735\n",
       "9997  1047  8       867         7  251.946588         171.328265\n",
       "9998   627  5      1086         9  130.091618         191.564912\n",
       "9999   848  8       869         9   52.946588         -25.435088\n",
       "\n",
       "[10000 rows x 6 columns]"
      ]
     },
     "execution_count": 27,
     "metadata": {},
     "output_type": "execute_result"
    }
   ],
   "source": [
    "df_pilot = pd.DataFrame({'x': [np.sum(s) for s in data_pilot],\n",
    "                        'y': [len(s) for s in data_pilot],\n",
    "                        'x_before': [np.sum(s) for s in data_pilot_before],\n",
    "                        'y_before': [len(s) for s in data_pilot_before],\n",
    "                        })\n",
    "\n",
    "df_control = pd.DataFrame({'x': [np.sum(s) for s in data_control],\n",
    "                        'y': [len(s) for s in data_control],\n",
    "                        'x_before': [np.sum(s) for s in data_control_before],\n",
    "                        'y_before': [len(s) for s in data_control_before],\n",
    "                        })\n",
    "coef_lin = df_control['x'].sum() / df_control['y'].sum()\n",
    "df_pilot['metric_lin'] = df_pilot['x'] - coef_lin * df_pilot['y']\n",
    "df_control['metric_lin'] = df_control['x'] - coef_lin * df_control['y']\n",
    "df_pilot['metric_lin_before'] = df_pilot['x_before'] - coef_lin * df_pilot['y_before']\n",
    "df_control['metric_lin_before'] = df_control['x_before'] - coef_lin * df_control['y_before']\n",
    "\n",
    "df_pilot"
   ]
  },
  {
   "cell_type": "code",
   "execution_count": 28,
   "metadata": {},
   "outputs": [
    {
     "data": {
      "text/plain": [
       "0.39846816728883516"
      ]
     },
     "execution_count": 28,
     "metadata": {},
     "output_type": "execute_result"
    }
   ],
   "source": [
    "_, pval = ttest_ind(df_pilot['metric_lin'], df_control['metric_lin'])\n",
    "pval"
   ]
  },
  {
   "cell_type": "markdown",
   "metadata": {},
   "source": [
    "P-value совпадает с полученным ранее значением"
   ]
  },
  {
   "cell_type": "markdown",
   "metadata": {},
   "source": [
    "### CUPED\n",
    "Применим CUPED к линеаризованной метрике"
   ]
  },
  {
   "cell_type": "code",
   "execution_count": 29,
   "metadata": {},
   "outputs": [
    {
     "data": {
      "text/plain": [
       "0.8686633864424133"
      ]
     },
     "execution_count": 29,
     "metadata": {},
     "output_type": "execute_result"
    }
   ],
   "source": [
    "def calculate_theta(y_control, y_pilot, y_control_cov, y_pilot_cov) -> float:\n",
    "    y = np.concatenate([y_control, y_pilot])\n",
    "    y_cov = np.concatenate([y_control_cov, y_pilot_cov])\n",
    "    cov = np.cov(y_cov, y)[0, 1]\n",
    "    var = y_cov.var()\n",
    "    theta = cov / var\n",
    "    return theta\n",
    "\n",
    "theta = calculate_theta(df_control['metric_lin'],\n",
    "                        df_pilot['metric_lin'],\n",
    "                        df_control['metric_lin_before'],\n",
    "                        df_pilot['metric_lin_before'])\n",
    "theta"
   ]
  },
  {
   "cell_type": "code",
   "execution_count": 30,
   "metadata": {},
   "outputs": [],
   "source": [
    "df_pilot['metric_lin_cuped'] = df_pilot['metric_lin'] - theta * df_pilot['metric_lin_before']\n",
    "df_control['metric_lin_cuped'] = df_control['metric_lin'] - theta * df_control['metric_lin_before']"
   ]
  },
  {
   "cell_type": "markdown",
   "metadata": {},
   "source": [
    "Проверим, сохраняется ли сонаправленность точечных оценок."
   ]
  },
  {
   "cell_type": "code",
   "execution_count": 31,
   "metadata": {},
   "outputs": [
    {
     "name": "stdout",
     "output_type": "stream",
     "text": [
      "Эффект по обычной метрике: 0.2568\n",
      "Эффект по линеаризованной метрике: 1.5457\n",
      "Эффект по линеаризованной cuped метрике: 4.3948\n"
     ]
    }
   ],
   "source": [
    "delta = df_pilot['x'].sum() / df_pilot['y'].sum() \\\n",
    "            - df_control['x'].sum() / df_control['y'].sum()\n",
    "delta_lin = df_pilot['metric_lin'].mean() - df_control['metric_lin'].mean()\n",
    "delta_lin_cuped = df_pilot['metric_lin_cuped'].mean() - df_control['metric_lin_cuped'].mean()\n",
    "\n",
    "print(f\"Эффект по обычной метрике: {delta:.4f}\")\n",
    "print(f\"Эффект по линеаризованной метрике: {delta_lin:.4f}\")\n",
    "print(f\"Эффект по линеаризованной cuped метрике: {delta_lin_cuped:.4f}\")"
   ]
  },
  {
   "cell_type": "code",
   "execution_count": 32,
   "metadata": {},
   "outputs": [
    {
     "data": {
      "text/plain": [
       "1.4530097488335832e-06"
      ]
     },
     "execution_count": 32,
     "metadata": {},
     "output_type": "execute_result"
    }
   ],
   "source": [
    "_, pval = ttest_ind(df_control['metric_lin_cuped'], df_pilot['metric_lin_cuped'])\n",
    "pval"
   ]
  },
  {
   "cell_type": "markdown",
   "metadata": {},
   "source": [
    "Получили pvalue < 0.05, то есть виден значимый эффект на уровне значимости 5%"
   ]
  },
  {
   "cell_type": "markdown",
   "metadata": {},
   "source": [
    "### АА-тест: Проверка корректности работы линеаризации + cuped\n",
    "Делаем все тоже самое, но без эффекта в пилотной группе"
   ]
  },
  {
   "cell_type": "code",
   "execution_count": 33,
   "metadata": {},
   "outputs": [
    {
     "name": "stderr",
     "output_type": "stream",
     "text": [
      "100%|█████████████████████████████████████████| 100/100 [01:14<00:00,  1.34it/s]\n"
     ]
    }
   ],
   "source": [
    "pvals = []\n",
    "for _ in tqdm(range(100)):\n",
    "    data_pilot, data_pilot_before = get_session_duration_with_prepilot(size=size, effect=0)\n",
    "    data_control, data_control_before = get_session_duration_with_prepilot(size=size, effect=0)\n",
    "\n",
    "    df_pilot = pd.DataFrame({'x': [np.sum(s) for s in data_pilot],\n",
    "                            'y': [len(s) for s in data_pilot],\n",
    "                            'x_before': [np.sum(s) for s in data_pilot_before],\n",
    "                            'y_before': [len(s) for s in data_pilot_before],\n",
    "                            })\n",
    "\n",
    "    df_control = pd.DataFrame({'x': [np.sum(s) for s in data_control],\n",
    "                            'y': [len(s) for s in data_control],\n",
    "                            'x_before': [np.sum(s) for s in data_control_before],\n",
    "                            'y_before': [len(s) for s in data_control_before],\n",
    "                            })\n",
    "    coef_lin = df_control['x'].sum() / df_control['y'].sum()\n",
    "    df_pilot['metric_lin'] = df_pilot['x'] - coef_lin * df_pilot['y']\n",
    "    df_control['metric_lin'] = df_control['x'] - coef_lin * df_control['y']\n",
    "    df_pilot['metric_lin_before'] = df_pilot['x_before'] - coef_lin * df_pilot['y_before']\n",
    "    df_control['metric_lin_before'] = df_control['x_before'] - coef_lin * df_control['y_before']\n",
    "\n",
    "    theta = calculate_theta(df_control['metric_lin'],\n",
    "                            df_pilot['metric_lin'],\n",
    "                            df_control['metric_lin_before'],\n",
    "                            df_pilot['metric_lin_before'])\n",
    "\n",
    "    df_pilot['metric_lin_cuped'] = df_pilot['metric_lin'] - theta * df_pilot['metric_lin_before']\n",
    "    df_control['metric_lin_cuped'] = df_control['metric_lin'] - theta * df_control['metric_lin_before']\n",
    "    _, pval = ttest_ind(df_control['metric_lin_cuped'], df_pilot['metric_lin_cuped'])\n",
    "    pvals.append(pval)"
   ]
  },
  {
   "cell_type": "code",
   "execution_count": 34,
   "metadata": {},
   "outputs": [
    {
     "data": {
      "text/plain": [
       "[<matplotlib.lines.Line2D at 0x7effbcce0130>]"
      ]
     },
     "execution_count": 34,
     "metadata": {},
     "output_type": "execute_result"
    },
    {
     "data": {
      "image/png": "[encoded data removed]",
      "text/plain": [
       "<Figure size 432x288 with 1 Axes>"
      ]
     },
     "metadata": {
      "needs_background": "light"
     },
     "output_type": "display_data"
    }
   ],
   "source": [
    "plt.hist(pvals, bins=30, density=True, cumulative=True)\n",
    "plt.plot([0, 1], [0, 1], color='k')"
   ]
  },
  {
   "cell_type": "markdown",
   "metadata": {},
   "source": [
    "## Метод бакетов. Как избавиться от зависимости в данных?"
   ]
  },
  {
   "cell_type": "markdown",
   "metadata": {},
   "source": [
    "Проведем модельный эксперимент. Пусть для каждого магазина мы выберем 500 пользователей для теста и контроля. Каждый из них может с определенной вероятностью прийти в какой-то из дней в магазин. Если он пришел в магазин, то потратит там какую-то случайную сумму.  \n",
    "\n",
    "Проанализируем ежедневную выручку для 10 магазинов в пилотной и 10 магазинов в контрольной группах. Чтобы набрать объем данных для тестирования, мы будем проводить эксперимент в течение 14 дней.  \n",
    "\n",
    "В рамках эксперимента мы будем полагать, что каждый пришедщий покупатель потратит какую-то сумму, определеяемую логнормальным распределением. Для всех покупателей установим одинаковое среднее (1000) и среднеквадратичное отклонение (500). Дополнительно мы будем полагать, что каждый из покупателей приходит в магазин в среднем полтора раза в неделю."
   ]
  },
  {
   "cell_type": "code",
   "execution_count": 35,
   "metadata": {},
   "outputs": [
    {
     "data": {
      "text/plain": [
       "array([   0.        ,    0.        ,    0.        ,    0.        ,\n",
       "          0.        ,    0.        ,    0.        , 1216.07849874,\n",
       "       1342.74546857,    0.        , 2599.24530378,    0.        ,\n",
       "          0.        ,  819.10019491])"
      ]
     },
     "execution_count": 35,
     "metadata": {},
     "output_type": "execute_result"
    }
   ],
   "source": [
    "from typing import Tuple\n",
    "\n",
    "np.random.seed(0)\n",
    "\n",
    "def get_dist_args(mean=1000, std=500) -> Tuple[float, float]:\n",
    "    \"\"\"\n",
    "    Расчет параметров для логнормального распределения\n",
    "    \"\"\"\n",
    "    k = (std / mean) ** 2 + 1\n",
    "    s = -np.log(k / 2)\n",
    "    scale = mean / k ** 0.5\n",
    "    return s, scale\n",
    "    \n",
    "s, scale = get_dist_args(mean=1000, std=500)\n",
    "\n",
    "# Логнормальное распределение с нужными параметрами\n",
    "dist = lognorm(s=s, scale=scale)\n",
    "\n",
    "def get_user_receipts():\n",
    "    # Число дней в эксперименте\n",
    "    SIZE = 14\n",
    "    # Прийдет ли клиент в магазин в каждый из дней\n",
    "    has_visited = bernoulli.rvs(p=1.5/7, size=SIZE)\n",
    "    receipts = dist.rvs(size=SIZE)\n",
    "    return has_visited * receipts\n",
    "\n",
    "get_user_receipts()"
   ]
  },
  {
   "cell_type": "markdown",
   "metadata": {},
   "source": [
    "На основе так сгенерированных чеков пользователямы можем построить распределение для магазинов. Пусть у нас как в пилотную, так и в контрольную группы попадают по 10 магазинов. В рамках модельного эксперимента сформируем UID пользователя (он нужен для воспроизводимости эксперимента)"
   ]
  },
  {
   "cell_type": "code",
   "execution_count": 36,
   "metadata": {},
   "outputs": [],
   "source": [
    "def get_store_receipts():\n",
    "    \"\"\"\n",
    "    Генерация всех чеков в магазине во время эксперимента\n",
    "    \"\"\"\n",
    "    SIZE = (500, 14)\n",
    "    has_visited = bernoulli.rvs(p=1.5/7, size=SIZE)\n",
    "    receipts = dist.rvs(size=SIZE)\n",
    "    return has_visited * receipts\n",
    "\n",
    "def get_AB_groups(seed, receipts_generator=get_store_receipts):\n",
    "    np.random.seed(seed)\n",
    "    A = [receipts_generator() for _ in range(10)]\n",
    "    B = [receipts_generator() for _ in range(10)]\n",
    "    return A, B\n",
    "\n",
    "a_receipts, b_receipts = get_AB_groups(0)"
   ]
  },
  {
   "cell_type": "markdown",
   "metadata": {},
   "source": [
    "Для полученных групп проведем агрегацию и определим сумму ежедневных трат в каждом из магазинов"
   ]
  },
  {
   "cell_type": "code",
   "execution_count": 37,
   "metadata": {},
   "outputs": [],
   "source": [
    "def get_daily_sales(group):\n",
    "    \"\"\"\n",
    "    Продажи в группах по дням\n",
    "    \"\"\"\n",
    "    return [shop_sales.sum(axis=0) for shop_sales in group]"
   ]
  },
  {
   "cell_type": "code",
   "execution_count": 38,
   "metadata": {},
   "outputs": [
    {
     "name": "stderr",
     "output_type": "stream",
     "text": [
      "/home/lucky/anaconda3/lib/python3.9/site-packages/seaborn/distributions.py:2619: FutureWarning: `distplot` is a deprecated function and will be removed in a future version. Please adapt your code to use either `displot` (a figure-level function with similar flexibility) or `histplot` (an axes-level function for histograms).\n",
      "  warnings.warn(msg, FutureWarning)\n",
      "/home/lucky/anaconda3/lib/python3.9/site-packages/seaborn/distributions.py:2619: FutureWarning: `distplot` is a deprecated function and will be removed in a future version. Please adapt your code to use either `displot` (a figure-level function with similar flexibility) or `histplot` (an axes-level function for histograms).\n",
      "  warnings.warn(msg, FutureWarning)\n"
     ]
    },
    {
     "data": {
      "image/png": "[encoded data removed]",
      "text/plain": [
       "<Figure size 432x288 with 1 Axes>"
      ]
     },
     "metadata": {
      "needs_background": "light"
     },
     "output_type": "display_data"
    }
   ],
   "source": [
    "def plot_daily_sales_hist(group_a, group_b, title=None):\n",
    "    daily_sales_a = get_daily_sales(group_a)\n",
    "    daily_sales_b = get_daily_sales(group_b)\n",
    "    \n",
    "    if title:\n",
    "        plt.title(title)\n",
    "        \n",
    "    sns.distplot(daily_sales_a, bins=20, label='group_a')\n",
    "    sns.distplot(daily_sales_b, bins=20, label='group_b')\n",
    "    plt.legend()\n",
    "    \n",
    "plot_daily_sales_hist(a_receipts, b_receipts, 'Ежедневные продажи. Независимые покупки')"
   ]
  },
  {
   "cell_type": "markdown",
   "metadata": {},
   "source": [
    "Мы помним, что перед любым экспериментом нужно провести проверку равномерности pvalue в АА-тесте. Сейчас у нас как раз нет эффекта. Попробуем нарисовать график для распределения pvalue"
   ]
  },
  {
   "cell_type": "code",
   "execution_count": 39,
   "metadata": {},
   "outputs": [
    {
     "name": "stderr",
     "output_type": "stream",
     "text": [
      "100%|██████████████████████████████████████| 2000/2000 [00:17<00:00, 114.20it/s]\n"
     ]
    },
    {
     "data": {
      "image/png": "[encoded data removed]",
      "text/plain": [
       "<Figure size 1008x432 with 2 Axes>"
      ]
     },
     "metadata": {
      "needs_background": "light"
     },
     "output_type": "display_data"
    }
   ],
   "source": [
    "pvals = []\n",
    "for i in tqdm(range(2000)):\n",
    "    group_a, group_b = get_AB_groups(i)\n",
    "    daily_sales_a = get_daily_sales(group_a)\n",
    "    daily_sales_b = get_daily_sales(group_b)\n",
    "    _, pval = ttest_ind(np.concatenate(daily_sales_a), np.concatenate(daily_sales_b))\n",
    "    pvals.append(pval)\n",
    "    \n",
    "plot_value_ecdf(pvals, title='AA-тест. Распределение p-value. Независимые покупки')  "
   ]
  },
  {
   "cell_type": "markdown",
   "metadata": {},
   "source": [
    "Вроде бы все хорошо.\n",
    "\n",
    "Но давайте внимательно посмотрим на наш модельный эксперимент. Посмотрев внимательней, можно заметить, что в рамках эксперимента пользователи ведут себя день ото дня совершенно независимо. Действительно ли так ведут себя пользователи?"
   ]
  },
  {
   "cell_type": "markdown",
   "metadata": {},
   "source": [
    "## Покупатели с любимым днем покупок"
   ]
  },
  {
   "cell_type": "markdown",
   "metadata": {},
   "source": [
    "Чуть-чуть поменяем поведение пользователей. Пусть пользователи также в среднем приходят в магазин полтора раза в неделю. Но на этот раз у каждого из них будет любимый день покупок (он приходит в магазин с вероятностью 0.9), а в остальные дни приходит гораздо реже (вероятность покупки в магазине 0.1)\n",
    "\n",
    "Изменим схему нашего эксперимента"
   ]
  },
  {
   "cell_type": "code",
   "execution_count": 40,
   "metadata": {},
   "outputs": [
    {
     "name": "stderr",
     "output_type": "stream",
     "text": [
      "/tmp/ipykernel_6397/2325914427.py:8: FutureWarning: Using a non-tuple sequence for multidimensional indexing is deprecated; use `arr[tuple(seq)]` instead of `arr[seq]`. In the future this will be interpreted as an array index, `arr[np.array(seq)]`, which will result either in an error or a different result.\n",
      "  probs[idx] = 0.9\n"
     ]
    },
    {
     "data": {
      "text/plain": [
       "array([[ 868.76150297,    0.        ,    0.        , ...,    0.        ,\n",
       "         714.97971254, 1016.27713316],\n",
       "       [   0.        , 2854.36952366,    0.        , ...,    0.        ,\n",
       "           0.        ,    0.        ],\n",
       "       [1154.77621147,    0.        ,  893.74500755, ...,    0.        ,\n",
       "           0.        ,    0.        ],\n",
       "       ...,\n",
       "       [   0.        ,    0.        ,    0.        , ..., 1396.48732507,\n",
       "         538.52793043,    0.        ],\n",
       "       [   0.        , 1083.48616005,    0.        , ...,    0.        ,\n",
       "           0.        ,    0.        ],\n",
       "       [   0.        ,    0.        ,    0.        , ...,    0.        ,\n",
       "        1243.54991323,    0.        ]])"
      ]
     },
     "execution_count": 40,
     "metadata": {},
     "output_type": "execute_result"
    }
   ],
   "source": [
    "def get_store_receipts_dependent():\n",
    "    SHAPE=(500, 14)\n",
    "    # Первоначальное заполнение матрицы вероятностей\n",
    "    probs = np.full(shape=(SHAPE[0], SHAPE[1] // 2), fill_value=0.1)\n",
    "    # Любимый день покупок\n",
    "    favorite_days = np.random.randint(low=0, high=7, size=SHAPE[0])\n",
    "    idx = [range(SHAPE[0]), favorite_days]\n",
    "    probs[idx] = 0.9\n",
    "    # Т.к. эксперимент длится 2 недели\n",
    "    probs = np.concatenate([probs, probs], axis=1)\n",
    "    \n",
    "    has_visited = bernoulli.rvs(size=SHAPE, p=probs)\n",
    "    receipts = dist.rvs(size=SHAPE)\n",
    "    return has_visited * receipts\n",
    "\n",
    "get_store_receipts_dependent()"
   ]
  },
  {
   "cell_type": "code",
   "execution_count": 41,
   "metadata": {},
   "outputs": [
    {
     "name": "stderr",
     "output_type": "stream",
     "text": [
      "/tmp/ipykernel_6397/2325914427.py:8: FutureWarning: Using a non-tuple sequence for multidimensional indexing is deprecated; use `arr[tuple(seq)]` instead of `arr[seq]`. In the future this will be interpreted as an array index, `arr[np.array(seq)]`, which will result either in an error or a different result.\n",
      "  probs[idx] = 0.9\n",
      "/home/lucky/anaconda3/lib/python3.9/site-packages/seaborn/distributions.py:2619: FutureWarning: `distplot` is a deprecated function and will be removed in a future version. Please adapt your code to use either `displot` (a figure-level function with similar flexibility) or `histplot` (an axes-level function for histograms).\n",
      "  warnings.warn(msg, FutureWarning)\n",
      "/home/lucky/anaconda3/lib/python3.9/site-packages/seaborn/distributions.py:2619: FutureWarning: `distplot` is a deprecated function and will be removed in a future version. Please adapt your code to use either `displot` (a figure-level function with similar flexibility) or `histplot` (an axes-level function for histograms).\n",
      "  warnings.warn(msg, FutureWarning)\n"
     ]
    },
    {
     "data": {
      "image/png": "[encoded data removed]",
      "text/plain": [
       "<Figure size 432x288 with 1 Axes>"
      ]
     },
     "metadata": {
      "needs_background": "light"
     },
     "output_type": "display_data"
    }
   ],
   "source": [
    "a_receipts_dep, b_receipts_dep = get_AB_groups(seed=0, receipts_generator=get_store_receipts_dependent)\n",
    "\n",
    "plot_daily_sales_hist(a_receipts_dep, b_receipts_dep, \"Ежедневные продажи. Зависимые покупки\")"
   ]
  },
  {
   "cell_type": "markdown",
   "metadata": {},
   "source": [
    "Убедимся, что сами по себе метрики не изменились"
   ]
  },
  {
   "cell_type": "code",
   "execution_count": 42,
   "metadata": {},
   "outputs": [
    {
     "name": "stdout",
     "output_type": "stream",
     "text": [
      "Независимые покупки:\n",
      "\tgroup_a: 15208524\n",
      "\tgroup_b: 15020722\n",
      "\n",
      "Зависимые покупки:\n",
      "\tgroup_a: 15089672\n",
      "\tgroup_b: 14901522\n"
     ]
    }
   ],
   "source": [
    "print('Независимые покупки:')\n",
    "print('\\tgroup_a:', round(np.sum(a_receipts)))\n",
    "print('\\tgroup_b:', round(np.sum(b_receipts)))\n",
    "\n",
    "print('\\nЗависимые покупки:')\n",
    "print('\\tgroup_a:', round(np.sum(a_receipts_dep)))\n",
    "print('\\tgroup_b:', round(np.sum(b_receipts_dep)))"
   ]
  },
  {
   "cell_type": "markdown",
   "metadata": {},
   "source": [
    "Наконец, мы можем проверить распределение p-value. Убедимся, что зависимость в данных ломает ttest"
   ]
  },
  {
   "cell_type": "code",
   "execution_count": 43,
   "metadata": {},
   "outputs": [
    {
     "name": "stderr",
     "output_type": "stream",
     "text": [
      "  0%|                                                  | 0/2000 [00:00<?, ?it/s]/tmp/ipykernel_6397/2325914427.py:8: FutureWarning: Using a non-tuple sequence for multidimensional indexing is deprecated; use `arr[tuple(seq)]` instead of `arr[seq]`. In the future this will be interpreted as an array index, `arr[np.array(seq)]`, which will result either in an error or a different result.\n",
      "  probs[idx] = 0.9\n",
      "100%|███████████████████████████████████████| 2000/2000 [00:27<00:00, 73.56it/s]\n"
     ]
    },
    {
     "data": {
      "image/png": "[encoded data removed]",
      "text/plain": [
       "<Figure size 1008x432 with 2 Axes>"
      ]
     },
     "metadata": {
      "needs_background": "light"
     },
     "output_type": "display_data"
    }
   ],
   "source": [
    "pvals = []\n",
    "for i in tqdm(range(2000)):\n",
    "    group_a, group_b = get_AB_groups(i, receipts_generator=get_store_receipts_dependent)\n",
    "    daily_sales_a = get_daily_sales(group_a)\n",
    "    daily_sales_b = get_daily_sales(group_b)\n",
    "    _, pval = ttest_ind(np.concatenate(daily_sales_a), np.concatenate(daily_sales_b))\n",
    "    # Можно делать без конкатенации. Тогда получим по 14 значений pvalue за 1 раз - по каждому дню отдельно\n",
    "    # Но общий график по pvalue будет примерно такой же\n",
    "    # _, pval = ttest_ind(daily_sales_a, daily_sales_b)\n",
    "    pvals.append(pval)\n",
    "    \n",
    "plot_value_ecdf(pvals, title='AA-тест. Распределение p-value. Зависимые покупки')  "
   ]
  },
  {
   "cell_type": "markdown",
   "metadata": {},
   "source": [
    "### Метод бакетов"
   ]
  },
  {
   "cell_type": "markdown",
   "metadata": {},
   "source": [
    "Мы видим, что во внешне случайный процесс очень легко проникает зависимость между данными. И это ломает наши тесты. Давайте научимся бороться с этим.\n",
    "\n",
    "Для этого прейдем от подсчета суточной выручки по магазинам к подсчету общей выручки, принесенной одним пользователем. Данные по пользователям агрегируем в несколько бакетов. Можно выбрать 100 бакетов и произвести объединение на основе хэша. В нашей модельной задаче мы просто объединим каждого сотого ползователя из эксперимента."
   ]
  },
  {
   "cell_type": "code",
   "execution_count": 105,
   "metadata": {},
   "outputs": [],
   "source": [
    "def get_bucket_sum(group):\n",
    "    # Число бакетов\n",
    "    B = 100\n",
    "    bucket_sum = np.zeros(B)\n",
    "    for shop_sales in group:\n",
    "        # Суммарные продажи по пользователям за все дни\n",
    "        user_sales = shop_sales.sum(axis=1)\n",
    "        # Предполагаем, что поделится нацело\n",
    "        n_split_parts = user_sales.shape[0] // B\n",
    "        user_sales_splitted = np.array_split(user_sales, n_split_parts)\n",
    "        # Суммы по каждому бакету\n",
    "        bucket_sum = np.sum(user_sales_splitted, axis=0)\n",
    "    return bucket_sum"
   ]
  },
  {
   "cell_type": "code",
   "execution_count": 109,
   "metadata": {},
   "outputs": [
    {
     "name": "stderr",
     "output_type": "stream",
     "text": [
      "/home/lucky/anaconda3/lib/python3.9/site-packages/seaborn/distributions.py:2619: FutureWarning: `distplot` is a deprecated function and will be removed in a future version. Please adapt your code to use either `displot` (a figure-level function with similar flexibility) or `histplot` (an axes-level function for histograms).\n",
      "  warnings.warn(msg, FutureWarning)\n",
      "/home/lucky/anaconda3/lib/python3.9/site-packages/seaborn/distributions.py:2619: FutureWarning: `distplot` is a deprecated function and will be removed in a future version. Please adapt your code to use either `displot` (a figure-level function with similar flexibility) or `histplot` (an axes-level function for histograms).\n",
      "  warnings.warn(msg, FutureWarning)\n"
     ]
    },
    {
     "data": {
      "text/plain": [
       "<matplotlib.legend.Legend at 0x7effbd0c66a0>"
      ]
     },
     "execution_count": 109,
     "metadata": {},
     "output_type": "execute_result"
    },
    {
     "data": {
      "image/png": "[encoded data removed]",
      "text/plain": [
       "<Figure size 432x288 with 1 Axes>"
      ]
     },
     "metadata": {
      "needs_background": "light"
     },
     "output_type": "display_data"
    }
   ],
   "source": [
    "bucket_a_dep = get_bucket_sum(a_receipts_dep)\n",
    "bucket_b_dep = get_bucket_sum(b_receipts_dep)\n",
    "\n",
    "plt.title('Суммарная выручка по бакетам')\n",
    "sns.distplot(bucket_a_dep, bins=20, label='group_a')\n",
    "sns.distplot(bucket_b_dep, bins=20, label='group_b')\n",
    "plt.legend()"
   ]
  },
  {
   "cell_type": "markdown",
   "metadata": {},
   "source": [
    "При любом распределении чеков бакетное распределение стремится к нормальному. Это связано с тем, что действия отдельных пользователей можно считать независимыми.  \n",
    "\n",
    "Конечно же и это не всегда так. Муж и жена могут ходить в магазин по очереди. \n",
    "\n",
    "Убедимся, что бакетное распределение действительно даст нам равномерно распределенное p-value"
   ]
  },
  {
   "cell_type": "code",
   "execution_count": 111,
   "metadata": {},
   "outputs": [
    {
     "name": "stderr",
     "output_type": "stream",
     "text": [
      "  0%|                                                  | 0/1000 [00:00<?, ?it/s]/tmp/ipykernel_6397/2325914427.py:8: FutureWarning: Using a non-tuple sequence for multidimensional indexing is deprecated; use `arr[tuple(seq)]` instead of `arr[seq]`. In the future this will be interpreted as an array index, `arr[np.array(seq)]`, which will result either in an error or a different result.\n",
      "  probs[idx] = 0.9\n",
      "100%|███████████████████████████████████████| 1000/1000 [00:14<00:00, 67.87it/s]\n"
     ]
    },
    {
     "data": {
      "image/png": "[encoded data removed]",
      "text/plain": [
       "<Figure size 1008x432 with 2 Axes>"
      ]
     },
     "metadata": {
      "needs_background": "light"
     },
     "output_type": "display_data"
    }
   ],
   "source": [
    "p_values = []\n",
    "\n",
    "for i in tqdm(range(1000)):\n",
    "    group_a_dep, group_b_dep = get_AB_groups(i, receipts_generator=get_store_receipts_dependent)\n",
    "    bucket_a_dep = get_bucket_sum(group_a_dep)\n",
    "    bucket_b_dep = get_bucket_sum(group_b_dep)\n",
    "    _, pval = ttest_ind(bucket_a_dep, bucket_b_dep)\n",
    "    p_values.append(pval)\n",
    "    \n",
    "plot_value_ecdf(p_values, title='Распределение p-value для метода бакетов')  "
   ]
  },
  {
   "cell_type": "markdown",
   "metadata": {},
   "source": [
    "### А зачем нам тут метод бакетов, если можно просто взять продажи по клиентам???"
   ]
  },
  {
   "cell_type": "code",
   "execution_count": 130,
   "metadata": {},
   "outputs": [
    {
     "name": "stderr",
     "output_type": "stream",
     "text": [
      "  0%|                                                  | 0/2000 [00:00<?, ?it/s]/tmp/ipykernel_6397/2325914427.py:8: FutureWarning: Using a non-tuple sequence for multidimensional indexing is deprecated; use `arr[tuple(seq)]` instead of `arr[seq]`. In the future this will be interpreted as an array index, `arr[np.array(seq)]`, which will result either in an error or a different result.\n",
      "  probs[idx] = 0.9\n",
      "100%|███████████████████████████████████████| 2000/2000 [00:28<00:00, 69.01it/s]\n"
     ]
    },
    {
     "data": {
      "image/png": "[encoded data removed]",
      "text/plain": [
       "<Figure size 1008x432 with 2 Axes>"
      ]
     },
     "metadata": {
      "needs_background": "light"
     },
     "output_type": "display_data"
    }
   ],
   "source": [
    "p_values = []\n",
    "\n",
    "for i in tqdm(range(2000)):\n",
    "    group_a_dep, group_b_dep = get_AB_groups(i, receipts_generator=get_store_receipts_dependent)\n",
    "    clients_a_revenue = [store_sales.sum(axis=1) for store_sales in group_a_dep]\n",
    "    clients_b_revenue = [store_sales.sum(axis=1) for store_sales in group_b_dep]\n",
    "    _, pval = ttest_ind(np.concatenate(clients_a_revenue), np.concatenate(clients_b_revenue))\n",
    "    p_values.append(pval)\n",
    "    \n",
    "plot_value_ecdf(p_values, title='Распределение p-value для клиентских продаж')  "
   ]
  },
  {
   "cell_type": "code",
   "execution_count": null,
   "metadata": {},
   "outputs": [],
   "source": []
  }
 ],
 "metadata": {
  "colab": {
   "collapsed_sections": [],
   "name": "seminar_5.ipynb",
   "provenance": []
  },
  "kernelspec": {
   "display_name": "Python 3",
   "language": "python",
   "name": "python3"
  },
  "language_info": {
   "codemirror_mode": {
    "name": "ipython",
    "version": 3
   },
   "file_extension": ".py",
   "mimetype": "text/x-python",
   "name": "python",
   "nbconvert_exporter": "python",
   "pygments_lexer": "ipython3",
   "version": "3.9.7"
  },
  "widgets": {
   "application/vnd.jupyter.widget-state+json": {
    "021c608fc3314e73b5d0f345dc1dc770": {
     "model_module": "@jupyter-widgets/controls",
     "model_name": "FloatProgressModel",
     "state": {
      "_dom_classes": [],
      "_model_module": "@jupyter-widgets/controls",
      "_model_module_version": "1.5.0",
      "_model_name": "FloatProgressModel",
      "_view_count": null,
      "_view_module": "@jupyter-widgets/controls",
      "_view_module_version": "1.5.0",
      "_view_name": "ProgressView",
      "bar_style": "success",
      "description": "100%",
      "description_tooltip": null,
      "layout": "IPY_MODEL_41b5d21a1e8e44bcb4fda175aee12e64",
      "max": 1000,
      "min": 0,
      "orientation": "horizontal",
      "style": "IPY_MODEL_c6e8806d1f0149b69b7cddec1414eaf7",
      "value": 1000
     }
    },
    "0390851680024f84858fcf4635d5ff27": {
     "model_module": "@jupyter-widgets/base",
     "model_name": "LayoutModel",
     "state": {
      "_model_module": "@jupyter-widgets/base",
      "_model_module_version": "1.2.0",
      "_model_name": "LayoutModel",
      "_view_count": null,
      "_view_module": "@jupyter-widgets/base",
      "_view_module_version": "1.2.0",
      "_view_name": "LayoutView",
      "align_content": null,
      "align_items": null,
      "align_self": null,
      "border": null,
      "bottom": null,
      "display": null,
      "flex": null,
      "flex_flow": null,
      "grid_area": null,
      "grid_auto_columns": null,
      "grid_auto_flow": null,
      "grid_auto_rows": null,
      "grid_column": null,
      "grid_gap": null,
      "grid_row": null,
      "grid_template_areas": null,
      "grid_template_columns": null,
      "grid_template_rows": null,
      "height": null,
      "justify_content": null,
      "justify_items": null,
      "left": null,
      "margin": null,
      "max_height": null,
      "max_width": null,
      "min_height": null,
      "min_width": null,
      "object_fit": null,
      "object_position": null,
      "order": null,
      "overflow": null,
      "overflow_x": null,
      "overflow_y": null,
      "padding": null,
      "right": null,
      "top": null,
      "visibility": null,
      "width": null
     }
    },
    "03d3d5855b2944aa87c37a555c496c19": {
     "model_module": "@jupyter-widgets/base",
     "model_name": "LayoutModel",
     "state": {
      "_model_module": "@jupyter-widgets/base",
      "_model_module_version": "1.2.0",
      "_model_name": "LayoutModel",
      "_view_count": null,
      "_view_module": "@jupyter-widgets/base",
      "_view_module_version": "1.2.0",
      "_view_name": "LayoutView",
      "align_content": null,
      "align_items": null,
      "align_self": null,
      "border": null,
      "bottom": null,
      "display": null,
      "flex": null,
      "flex_flow": null,
      "grid_area": null,
      "grid_auto_columns": null,
      "grid_auto_flow": null,
      "grid_auto_rows": null,
      "grid_column": null,
      "grid_gap": null,
      "grid_row": null,
      "grid_template_areas": null,
      "grid_template_columns": null,
      "grid_template_rows": null,
      "height": null,
      "justify_content": null,
      "justify_items": null,
      "left": null,
      "margin": null,
      "max_height": null,
      "max_width": null,
      "min_height": null,
      "min_width": null,
      "object_fit": null,
      "object_position": null,
      "order": null,
      "overflow": null,
      "overflow_x": null,
      "overflow_y": null,
      "padding": null,
      "right": null,
      "top": null,
      "visibility": null,
      "width": null
     }
    },
    "0419c4fb8797459a866744bb006c2d1a": {
     "model_module": "@jupyter-widgets/controls",
     "model_name": "DescriptionStyleModel",
     "state": {
      "_model_module": "@jupyter-widgets/controls",
      "_model_module_version": "1.5.0",
      "_model_name": "DescriptionStyleModel",
      "_view_count": null,
      "_view_module": "@jupyter-widgets/base",
      "_view_module_version": "1.2.0",
      "_view_name": "StyleView",
      "description_width": ""
     }
    },
    "0617095891a243bda7e141c15c6e1541": {
     "model_module": "@jupyter-widgets/base",
     "model_name": "LayoutModel",
     "state": {
      "_model_module": "@jupyter-widgets/base",
      "_model_module_version": "1.2.0",
      "_model_name": "LayoutModel",
      "_view_count": null,
      "_view_module": "@jupyter-widgets/base",
      "_view_module_version": "1.2.0",
      "_view_name": "LayoutView",
      "align_content": null,
      "align_items": null,
      "align_self": null,
      "border": null,
      "bottom": null,
      "display": null,
      "flex": null,
      "flex_flow": null,
      "grid_area": null,
      "grid_auto_columns": null,
      "grid_auto_flow": null,
      "grid_auto_rows": null,
      "grid_column": null,
      "grid_gap": null,
      "grid_row": null,
      "grid_template_areas": null,
      "grid_template_columns": null,
      "grid_template_rows": null,
      "height": null,
      "justify_content": null,
      "justify_items": null,
      "left": null,
      "margin": null,
      "max_height": null,
      "max_width": null,
      "min_height": null,
      "min_width": null,
      "object_fit": null,
      "object_position": null,
      "order": null,
      "overflow": null,
      "overflow_x": null,
      "overflow_y": null,
      "padding": null,
      "right": null,
      "top": null,
      "visibility": null,
      "width": null
     }
    },
    "0d010bd5766b48c284eec634349af335": {
     "model_module": "@jupyter-widgets/controls",
     "model_name": "ProgressStyleModel",
     "state": {
      "_model_module": "@jupyter-widgets/controls",
      "_model_module_version": "1.5.0",
      "_model_name": "ProgressStyleModel",
      "_view_count": null,
      "_view_module": "@jupyter-widgets/base",
      "_view_module_version": "1.2.0",
      "_view_name": "StyleView",
      "bar_color": null,
      "description_width": "initial"
     }
    },
    "0dd2bd7e0285437c81709243b5b3816a": {
     "model_module": "@jupyter-widgets/base",
     "model_name": "LayoutModel",
     "state": {
      "_model_module": "@jupyter-widgets/base",
      "_model_module_version": "1.2.0",
      "_model_name": "LayoutModel",
      "_view_count": null,
      "_view_module": "@jupyter-widgets/base",
      "_view_module_version": "1.2.0",
      "_view_name": "LayoutView",
      "align_content": null,
      "align_items": null,
      "align_self": null,
      "border": null,
      "bottom": null,
      "display": null,
      "flex": null,
      "flex_flow": null,
      "grid_area": null,
      "grid_auto_columns": null,
      "grid_auto_flow": null,
      "grid_auto_rows": null,
      "grid_column": null,
      "grid_gap": null,
      "grid_row": null,
      "grid_template_areas": null,
      "grid_template_columns": null,
      "grid_template_rows": null,
      "height": null,
      "justify_content": null,
      "justify_items": null,
      "left": null,
      "margin": null,
      "max_height": null,
      "max_width": null,
      "min_height": null,
      "min_width": null,
      "object_fit": null,
      "object_position": null,
      "order": null,
      "overflow": null,
      "overflow_x": null,
      "overflow_y": null,
      "padding": null,
      "right": null,
      "top": null,
      "visibility": null,
      "width": null
     }
    },
    "1013fee1a1da42b19883963f57fcf754": {
     "model_module": "@jupyter-widgets/base",
     "model_name": "LayoutModel",
     "state": {
      "_model_module": "@jupyter-widgets/base",
      "_model_module_version": "1.2.0",
      "_model_name": "LayoutModel",
      "_view_count": null,
      "_view_module": "@jupyter-widgets/base",
      "_view_module_version": "1.2.0",
      "_view_name": "LayoutView",
      "align_content": null,
      "align_items": null,
      "align_self": null,
      "border": null,
      "bottom": null,
      "display": null,
      "flex": null,
      "flex_flow": null,
      "grid_area": null,
      "grid_auto_columns": null,
      "grid_auto_flow": null,
      "grid_auto_rows": null,
      "grid_column": null,
      "grid_gap": null,
      "grid_row": null,
      "grid_template_areas": null,
      "grid_template_columns": null,
      "grid_template_rows": null,
      "height": null,
      "justify_content": null,
      "justify_items": null,
      "left": null,
      "margin": null,
      "max_height": null,
      "max_width": null,
      "min_height": null,
      "min_width": null,
      "object_fit": null,
      "object_position": null,
      "order": null,
      "overflow": null,
      "overflow_x": null,
      "overflow_y": null,
      "padding": null,
      "right": null,
      "top": null,
      "visibility": null,
      "width": null
     }
    },
    "1064f8ac4318472c8aa4d847bed023d1": {
     "model_module": "@jupyter-widgets/base",
     "model_name": "LayoutModel",
     "state": {
      "_model_module": "@jupyter-widgets/base",
      "_model_module_version": "1.2.0",
      "_model_name": "LayoutModel",
      "_view_count": null,
      "_view_module": "@jupyter-widgets/base",
      "_view_module_version": "1.2.0",
      "_view_name": "LayoutView",
      "align_content": null,
      "align_items": null,
      "align_self": null,
      "border": null,
      "bottom": null,
      "display": null,
      "flex": null,
      "flex_flow": null,
      "grid_area": null,
      "grid_auto_columns": null,
      "grid_auto_flow": null,
      "grid_auto_rows": null,
      "grid_column": null,
      "grid_gap": null,
      "grid_row": null,
      "grid_template_areas": null,
      "grid_template_columns": null,
      "grid_template_rows": null,
      "height": null,
      "justify_content": null,
      "justify_items": null,
      "left": null,
      "margin": null,
      "max_height": null,
      "max_width": null,
      "min_height": null,
      "min_width": null,
      "object_fit": null,
      "object_position": null,
      "order": null,
      "overflow": null,
      "overflow_x": null,
      "overflow_y": null,
      "padding": null,
      "right": null,
      "top": null,
      "visibility": null,
      "width": null
     }
    },
    "1719b9dfb22f4022bd8c62093672b0eb": {
     "model_module": "@jupyter-widgets/controls",
     "model_name": "FloatProgressModel",
     "state": {
      "_dom_classes": [],
      "_model_module": "@jupyter-widgets/controls",
      "_model_module_version": "1.5.0",
      "_model_name": "FloatProgressModel",
      "_view_count": null,
      "_view_module": "@jupyter-widgets/controls",
      "_view_module_version": "1.5.0",
      "_view_name": "ProgressView",
      "bar_style": "success",
      "description": "100%",
      "description_tooltip": null,
      "layout": "IPY_MODEL_e6cb401839b4444da790bd3425ff0df8",
      "max": 1000,
      "min": 0,
      "orientation": "horizontal",
      "style": "IPY_MODEL_0d010bd5766b48c284eec634349af335",
      "value": 1000
     }
    },
    "1cd6531ecccb48b3823728e4d1a6c3d1": {
     "model_module": "@jupyter-widgets/controls",
     "model_name": "HTMLModel",
     "state": {
      "_dom_classes": [],
      "_model_module": "@jupyter-widgets/controls",
      "_model_module_version": "1.5.0",
      "_model_name": "HTMLModel",
      "_view_count": null,
      "_view_module": "@jupyter-widgets/controls",
      "_view_module_version": "1.5.0",
      "_view_name": "HTMLView",
      "description": "",
      "description_tooltip": null,
      "layout": "IPY_MODEL_0617095891a243bda7e141c15c6e1541",
      "placeholder": "​",
      "style": "IPY_MODEL_65b812d486444cb58d8a634129e020a5",
      "value": " 5000/5000 [00:01&lt;00:00, 2744.41it/s]"
     }
    },
    "1d2c0a3b46d546d2a23d7cc05a83e764": {
     "model_module": "@jupyter-widgets/controls",
     "model_name": "FloatProgressModel",
     "state": {
      "_dom_classes": [],
      "_model_module": "@jupyter-widgets/controls",
      "_model_module_version": "1.5.0",
      "_model_name": "FloatProgressModel",
      "_view_count": null,
      "_view_module": "@jupyter-widgets/controls",
      "_view_module_version": "1.5.0",
      "_view_name": "ProgressView",
      "bar_style": "success",
      "description": "100%",
      "description_tooltip": null,
      "layout": "IPY_MODEL_60e50db69cbe454083a8f91bebcb6897",
      "max": 1000,
      "min": 0,
      "orientation": "horizontal",
      "style": "IPY_MODEL_454a5a04ca3c44d1b4d93433369f273f",
      "value": 1000
     }
    },
    "2033638745e541c0985fcd21ea784afd": {
     "model_module": "@jupyter-widgets/base",
     "model_name": "LayoutModel",
     "state": {
      "_model_module": "@jupyter-widgets/base",
      "_model_module_version": "1.2.0",
      "_model_name": "LayoutModel",
      "_view_count": null,
      "_view_module": "@jupyter-widgets/base",
      "_view_module_version": "1.2.0",
      "_view_name": "LayoutView",
      "align_content": null,
      "align_items": null,
      "align_self": null,
      "border": null,
      "bottom": null,
      "display": null,
      "flex": null,
      "flex_flow": null,
      "grid_area": null,
      "grid_auto_columns": null,
      "grid_auto_flow": null,
      "grid_auto_rows": null,
      "grid_column": null,
      "grid_gap": null,
      "grid_row": null,
      "grid_template_areas": null,
      "grid_template_columns": null,
      "grid_template_rows": null,
      "height": null,
      "justify_content": null,
      "justify_items": null,
      "left": null,
      "margin": null,
      "max_height": null,
      "max_width": null,
      "min_height": null,
      "min_width": null,
      "object_fit": null,
      "object_position": null,
      "order": null,
      "overflow": null,
      "overflow_x": null,
      "overflow_y": null,
      "padding": null,
      "right": null,
      "top": null,
      "visibility": null,
      "width": null
     }
    },
    "2173856eb87c4fdcb2801cc2ebb8f772": {
     "model_module": "@jupyter-widgets/controls",
     "model_name": "ProgressStyleModel",
     "state": {
      "_model_module": "@jupyter-widgets/controls",
      "_model_module_version": "1.5.0",
      "_model_name": "ProgressStyleModel",
      "_view_count": null,
      "_view_module": "@jupyter-widgets/base",
      "_view_module_version": "1.2.0",
      "_view_name": "StyleView",
      "bar_color": null,
      "description_width": "initial"
     }
    },
    "233ff56608aa4ecea13ba8cbe5fadc2d": {
     "model_module": "@jupyter-widgets/controls",
     "model_name": "DescriptionStyleModel",
     "state": {
      "_model_module": "@jupyter-widgets/controls",
      "_model_module_version": "1.5.0",
      "_model_name": "DescriptionStyleModel",
      "_view_count": null,
      "_view_module": "@jupyter-widgets/base",
      "_view_module_version": "1.2.0",
      "_view_name": "StyleView",
      "description_width": ""
     }
    },
    "268789e5cd394dde8f9ea829fb357af6": {
     "model_module": "@jupyter-widgets/controls",
     "model_name": "FloatProgressModel",
     "state": {
      "_dom_classes": [],
      "_model_module": "@jupyter-widgets/controls",
      "_model_module_version": "1.5.0",
      "_model_name": "FloatProgressModel",
      "_view_count": null,
      "_view_module": "@jupyter-widgets/controls",
      "_view_module_version": "1.5.0",
      "_view_name": "ProgressView",
      "bar_style": "success",
      "description": "100%",
      "description_tooltip": null,
      "layout": "IPY_MODEL_7c390f8934144c67bef0f64393b7eb39",
      "max": 1000,
      "min": 0,
      "orientation": "horizontal",
      "style": "IPY_MODEL_40fec0b195294ff4ab52a485ce8c43df",
      "value": 1000
     }
    },
    "279fb3301a9b44c7861868ac0364a4c1": {
     "model_module": "@jupyter-widgets/controls",
     "model_name": "HTMLModel",
     "state": {
      "_dom_classes": [],
      "_model_module": "@jupyter-widgets/controls",
      "_model_module_version": "1.5.0",
      "_model_name": "HTMLModel",
      "_view_count": null,
      "_view_module": "@jupyter-widgets/controls",
      "_view_module_version": "1.5.0",
      "_view_name": "HTMLView",
      "description": "",
      "description_tooltip": null,
      "layout": "IPY_MODEL_b2813984204442baa0e3da70f0450565",
      "placeholder": "​",
      "style": "IPY_MODEL_a21e94085e77474897fb476e2d759bed",
      "value": " 100/100 [00:07&lt;00:00, 12.69it/s]"
     }
    },
    "28a4764cc1f3499b96475fa3fee69f99": {
     "model_module": "@jupyter-widgets/controls",
     "model_name": "DescriptionStyleModel",
     "state": {
      "_model_module": "@jupyter-widgets/controls",
      "_model_module_version": "1.5.0",
      "_model_name": "DescriptionStyleModel",
      "_view_count": null,
      "_view_module": "@jupyter-widgets/base",
      "_view_module_version": "1.2.0",
      "_view_name": "StyleView",
      "description_width": ""
     }
    },
    "2bcdc6433ea34c77a5d1e5cf2cb01242": {
     "model_module": "@jupyter-widgets/controls",
     "model_name": "HTMLModel",
     "state": {
      "_dom_classes": [],
      "_model_module": "@jupyter-widgets/controls",
      "_model_module_version": "1.5.0",
      "_model_name": "HTMLModel",
      "_view_count": null,
      "_view_module": "@jupyter-widgets/controls",
      "_view_module_version": "1.5.0",
      "_view_name": "HTMLView",
      "description": "",
      "description_tooltip": null,
      "layout": "IPY_MODEL_5fe00133e4244b119150227db51dbec9",
      "placeholder": "​",
      "style": "IPY_MODEL_68770c36f25143e19d010e69d0875f83",
      "value": " 1000/1000 [00:05&lt;00:00, 174.54it/s]"
     }
    },
    "2e6474d4d4574757bda35c3e024be21d": {
     "model_module": "@jupyter-widgets/base",
     "model_name": "LayoutModel",
     "state": {
      "_model_module": "@jupyter-widgets/base",
      "_model_module_version": "1.2.0",
      "_model_name": "LayoutModel",
      "_view_count": null,
      "_view_module": "@jupyter-widgets/base",
      "_view_module_version": "1.2.0",
      "_view_name": "LayoutView",
      "align_content": null,
      "align_items": null,
      "align_self": null,
      "border": null,
      "bottom": null,
      "display": null,
      "flex": null,
      "flex_flow": null,
      "grid_area": null,
      "grid_auto_columns": null,
      "grid_auto_flow": null,
      "grid_auto_rows": null,
      "grid_column": null,
      "grid_gap": null,
      "grid_row": null,
      "grid_template_areas": null,
      "grid_template_columns": null,
      "grid_template_rows": null,
      "height": null,
      "justify_content": null,
      "justify_items": null,
      "left": null,
      "margin": null,
      "max_height": null,
      "max_width": null,
      "min_height": null,
      "min_width": null,
      "object_fit": null,
      "object_position": null,
      "order": null,
      "overflow": null,
      "overflow_x": null,
      "overflow_y": null,
      "padding": null,
      "right": null,
      "top": null,
      "visibility": null,
      "width": null
     }
    },
    "2ec66a47710545fbb8b9b5529b52d1a6": {
     "model_module": "@jupyter-widgets/controls",
     "model_name": "HBoxModel",
     "state": {
      "_dom_classes": [],
      "_model_module": "@jupyter-widgets/controls",
      "_model_module_version": "1.5.0",
      "_model_name": "HBoxModel",
      "_view_count": null,
      "_view_module": "@jupyter-widgets/controls",
      "_view_module_version": "1.5.0",
      "_view_name": "HBoxView",
      "box_style": "",
      "children": [
       "IPY_MODEL_268789e5cd394dde8f9ea829fb357af6",
       "IPY_MODEL_de3240bc5e2e44d69083fe3dbb09f20b"
      ],
      "layout": "IPY_MODEL_1013fee1a1da42b19883963f57fcf754"
     }
    },
    "315dc6ea1a7843a496805b8aaa882f12": {
     "model_module": "@jupyter-widgets/controls",
     "model_name": "HBoxModel",
     "state": {
      "_dom_classes": [],
      "_model_module": "@jupyter-widgets/controls",
      "_model_module_version": "1.5.0",
      "_model_name": "HBoxModel",
      "_view_count": null,
      "_view_module": "@jupyter-widgets/controls",
      "_view_module_version": "1.5.0",
      "_view_name": "HBoxView",
      "box_style": "",
      "children": [
       "IPY_MODEL_3d5cba0707594647a0c1589d766a9bf1",
       "IPY_MODEL_2bcdc6433ea34c77a5d1e5cf2cb01242"
      ],
      "layout": "IPY_MODEL_2033638745e541c0985fcd21ea784afd"
     }
    },
    "329dcd2eeb44488ca0121f023d55ddc9": {
     "model_module": "@jupyter-widgets/controls",
     "model_name": "FloatProgressModel",
     "state": {
      "_dom_classes": [],
      "_model_module": "@jupyter-widgets/controls",
      "_model_module_version": "1.5.0",
      "_model_name": "FloatProgressModel",
      "_view_count": null,
      "_view_module": "@jupyter-widgets/controls",
      "_view_module_version": "1.5.0",
      "_view_name": "ProgressView",
      "bar_style": "success",
      "description": "100%",
      "description_tooltip": null,
      "layout": "IPY_MODEL_a52a3b60cfab4f868dfda30e176ab35d",
      "max": 1000,
      "min": 0,
      "orientation": "horizontal",
      "style": "IPY_MODEL_fcd07a3749514ef9bba1c5afb9b58964",
      "value": 1000
     }
    },
    "33e0309fb6164039a8fe9ffc4fb6ed8f": {
     "model_module": "@jupyter-widgets/base",
     "model_name": "LayoutModel",
     "state": {
      "_model_module": "@jupyter-widgets/base",
      "_model_module_version": "1.2.0",
      "_model_name": "LayoutModel",
      "_view_count": null,
      "_view_module": "@jupyter-widgets/base",
      "_view_module_version": "1.2.0",
      "_view_name": "LayoutView",
      "align_content": null,
      "align_items": null,
      "align_self": null,
      "border": null,
      "bottom": null,
      "display": null,
      "flex": null,
      "flex_flow": null,
      "grid_area": null,
      "grid_auto_columns": null,
      "grid_auto_flow": null,
      "grid_auto_rows": null,
      "grid_column": null,
      "grid_gap": null,
      "grid_row": null,
      "grid_template_areas": null,
      "grid_template_columns": null,
      "grid_template_rows": null,
      "height": null,
      "justify_content": null,
      "justify_items": null,
      "left": null,
      "margin": null,
      "max_height": null,
      "max_width": null,
      "min_height": null,
      "min_width": null,
      "object_fit": null,
      "object_position": null,
      "order": null,
      "overflow": null,
      "overflow_x": null,
      "overflow_y": null,
      "padding": null,
      "right": null,
      "top": null,
      "visibility": null,
      "width": null
     }
    },
    "3984f65ad9874b4699859785d6bd59e5": {
     "model_module": "@jupyter-widgets/base",
     "model_name": "LayoutModel",
     "state": {
      "_model_module": "@jupyter-widgets/base",
      "_model_module_version": "1.2.0",
      "_model_name": "LayoutModel",
      "_view_count": null,
      "_view_module": "@jupyter-widgets/base",
      "_view_module_version": "1.2.0",
      "_view_name": "LayoutView",
      "align_content": null,
      "align_items": null,
      "align_self": null,
      "border": null,
      "bottom": null,
      "display": null,
      "flex": null,
      "flex_flow": null,
      "grid_area": null,
      "grid_auto_columns": null,
      "grid_auto_flow": null,
      "grid_auto_rows": null,
      "grid_column": null,
      "grid_gap": null,
      "grid_row": null,
      "grid_template_areas": null,
      "grid_template_columns": null,
      "grid_template_rows": null,
      "height": null,
      "justify_content": null,
      "justify_items": null,
      "left": null,
      "margin": null,
      "max_height": null,
      "max_width": null,
      "min_height": null,
      "min_width": null,
      "object_fit": null,
      "object_position": null,
      "order": null,
      "overflow": null,
      "overflow_x": null,
      "overflow_y": null,
      "padding": null,
      "right": null,
      "top": null,
      "visibility": null,
      "width": null
     }
    },
    "3ade9daf4be949cb9446ead3e000b417": {
     "model_module": "@jupyter-widgets/base",
     "model_name": "LayoutModel",
     "state": {
      "_model_module": "@jupyter-widgets/base",
      "_model_module_version": "1.2.0",
      "_model_name": "LayoutModel",
      "_view_count": null,
      "_view_module": "@jupyter-widgets/base",
      "_view_module_version": "1.2.0",
      "_view_name": "LayoutView",
      "align_content": null,
      "align_items": null,
      "align_self": null,
      "border": null,
      "bottom": null,
      "display": null,
      "flex": null,
      "flex_flow": null,
      "grid_area": null,
      "grid_auto_columns": null,
      "grid_auto_flow": null,
      "grid_auto_rows": null,
      "grid_column": null,
      "grid_gap": null,
      "grid_row": null,
      "grid_template_areas": null,
      "grid_template_columns": null,
      "grid_template_rows": null,
      "height": null,
      "justify_content": null,
      "justify_items": null,
      "left": null,
      "margin": null,
      "max_height": null,
      "max_width": null,
      "min_height": null,
      "min_width": null,
      "object_fit": null,
      "object_position": null,
      "order": null,
      "overflow": null,
      "overflow_x": null,
      "overflow_y": null,
      "padding": null,
      "right": null,
      "top": null,
      "visibility": null,
      "width": null
     }
    },
    "3cccbf5d81db4b85b879ef0b2019a425": {
     "model_module": "@jupyter-widgets/base",
     "model_name": "LayoutModel",
     "state": {
      "_model_module": "@jupyter-widgets/base",
      "_model_module_version": "1.2.0",
      "_model_name": "LayoutModel",
      "_view_count": null,
      "_view_module": "@jupyter-widgets/base",
      "_view_module_version": "1.2.0",
      "_view_name": "LayoutView",
      "align_content": null,
      "align_items": null,
      "align_self": null,
      "border": null,
      "bottom": null,
      "display": null,
      "flex": null,
      "flex_flow": null,
      "grid_area": null,
      "grid_auto_columns": null,
      "grid_auto_flow": null,
      "grid_auto_rows": null,
      "grid_column": null,
      "grid_gap": null,
      "grid_row": null,
      "grid_template_areas": null,
      "grid_template_columns": null,
      "grid_template_rows": null,
      "height": null,
      "justify_content": null,
      "justify_items": null,
      "left": null,
      "margin": null,
      "max_height": null,
      "max_width": null,
      "min_height": null,
      "min_width": null,
      "object_fit": null,
      "object_position": null,
      "order": null,
      "overflow": null,
      "overflow_x": null,
      "overflow_y": null,
      "padding": null,
      "right": null,
      "top": null,
      "visibility": null,
      "width": null
     }
    },
    "3d5cba0707594647a0c1589d766a9bf1": {
     "model_module": "@jupyter-widgets/controls",
     "model_name": "FloatProgressModel",
     "state": {
      "_dom_classes": [],
      "_model_module": "@jupyter-widgets/controls",
      "_model_module_version": "1.5.0",
      "_model_name": "FloatProgressModel",
      "_view_count": null,
      "_view_module": "@jupyter-widgets/controls",
      "_view_module_version": "1.5.0",
      "_view_name": "ProgressView",
      "bar_style": "success",
      "description": "100%",
      "description_tooltip": null,
      "layout": "IPY_MODEL_e4323b5372b84b9ea6d182bbaac352ea",
      "max": 1000,
      "min": 0,
      "orientation": "horizontal",
      "style": "IPY_MODEL_6957886306344eebbbe5ffda458b7626",
      "value": 1000
     }
    },
    "3f49892c16f042a3a6e901c9271d988c": {
     "model_module": "@jupyter-widgets/base",
     "model_name": "LayoutModel",
     "state": {
      "_model_module": "@jupyter-widgets/base",
      "_model_module_version": "1.2.0",
      "_model_name": "LayoutModel",
      "_view_count": null,
      "_view_module": "@jupyter-widgets/base",
      "_view_module_version": "1.2.0",
      "_view_name": "LayoutView",
      "align_content": null,
      "align_items": null,
      "align_self": null,
      "border": null,
      "bottom": null,
      "display": null,
      "flex": null,
      "flex_flow": null,
      "grid_area": null,
      "grid_auto_columns": null,
      "grid_auto_flow": null,
      "grid_auto_rows": null,
      "grid_column": null,
      "grid_gap": null,
      "grid_row": null,
      "grid_template_areas": null,
      "grid_template_columns": null,
      "grid_template_rows": null,
      "height": null,
      "justify_content": null,
      "justify_items": null,
      "left": null,
      "margin": null,
      "max_height": null,
      "max_width": null,
      "min_height": null,
      "min_width": null,
      "object_fit": null,
      "object_position": null,
      "order": null,
      "overflow": null,
      "overflow_x": null,
      "overflow_y": null,
      "padding": null,
      "right": null,
      "top": null,
      "visibility": null,
      "width": null
     }
    },
    "3fa51f306751449f8242a77668f5fbe1": {
     "model_module": "@jupyter-widgets/controls",
     "model_name": "HBoxModel",
     "state": {
      "_dom_classes": [],
      "_model_module": "@jupyter-widgets/controls",
      "_model_module_version": "1.5.0",
      "_model_name": "HBoxModel",
      "_view_count": null,
      "_view_module": "@jupyter-widgets/controls",
      "_view_module_version": "1.5.0",
      "_view_name": "HBoxView",
      "box_style": "",
      "children": [
       "IPY_MODEL_cbc0f9e76ea34057a92dc9dfdd079d6d",
       "IPY_MODEL_b683aef5dbb645bea43fe10ce8f75ddd"
      ],
      "layout": "IPY_MODEL_0390851680024f84858fcf4635d5ff27"
     }
    },
    "40fec0b195294ff4ab52a485ce8c43df": {
     "model_module": "@jupyter-widgets/controls",
     "model_name": "ProgressStyleModel",
     "state": {
      "_model_module": "@jupyter-widgets/controls",
      "_model_module_version": "1.5.0",
      "_model_name": "ProgressStyleModel",
      "_view_count": null,
      "_view_module": "@jupyter-widgets/base",
      "_view_module_version": "1.2.0",
      "_view_name": "StyleView",
      "bar_color": null,
      "description_width": "initial"
     }
    },
    "41955469664e48d09413982623ff2b3c": {
     "model_module": "@jupyter-widgets/controls",
     "model_name": "HBoxModel",
     "state": {
      "_dom_classes": [],
      "_model_module": "@jupyter-widgets/controls",
      "_model_module_version": "1.5.0",
      "_model_name": "HBoxModel",
      "_view_count": null,
      "_view_module": "@jupyter-widgets/controls",
      "_view_module_version": "1.5.0",
      "_view_name": "HBoxView",
      "box_style": "",
      "children": [
       "IPY_MODEL_329dcd2eeb44488ca0121f023d55ddc9",
       "IPY_MODEL_b7bb499a5d13463f96bc79d19ccfb272"
      ],
      "layout": "IPY_MODEL_1064f8ac4318472c8aa4d847bed023d1"
     }
    },
    "41b5d21a1e8e44bcb4fda175aee12e64": {
     "model_module": "@jupyter-widgets/base",
     "model_name": "LayoutModel",
     "state": {
      "_model_module": "@jupyter-widgets/base",
      "_model_module_version": "1.2.0",
      "_model_name": "LayoutModel",
      "_view_count": null,
      "_view_module": "@jupyter-widgets/base",
      "_view_module_version": "1.2.0",
      "_view_name": "LayoutView",
      "align_content": null,
      "align_items": null,
      "align_self": null,
      "border": null,
      "bottom": null,
      "display": null,
      "flex": null,
      "flex_flow": null,
      "grid_area": null,
      "grid_auto_columns": null,
      "grid_auto_flow": null,
      "grid_auto_rows": null,
      "grid_column": null,
      "grid_gap": null,
      "grid_row": null,
      "grid_template_areas": null,
      "grid_template_columns": null,
      "grid_template_rows": null,
      "height": null,
      "justify_content": null,
      "justify_items": null,
      "left": null,
      "margin": null,
      "max_height": null,
      "max_width": null,
      "min_height": null,
      "min_width": null,
      "object_fit": null,
      "object_position": null,
      "order": null,
      "overflow": null,
      "overflow_x": null,
      "overflow_y": null,
      "padding": null,
      "right": null,
      "top": null,
      "visibility": null,
      "width": null
     }
    },
    "4240a1496e4b4ddcbbe74f659a18f897": {
     "model_module": "@jupyter-widgets/controls",
     "model_name": "HTMLModel",
     "state": {
      "_dom_classes": [],
      "_model_module": "@jupyter-widgets/controls",
      "_model_module_version": "1.5.0",
      "_model_name": "HTMLModel",
      "_view_count": null,
      "_view_module": "@jupyter-widgets/controls",
      "_view_module_version": "1.5.0",
      "_view_name": "HTMLView",
      "description": "",
      "description_tooltip": null,
      "layout": "IPY_MODEL_33e0309fb6164039a8fe9ffc4fb6ed8f",
      "placeholder": "​",
      "style": "IPY_MODEL_28a4764cc1f3499b96475fa3fee69f99",
      "value": " 2000/2000 [00:39&lt;00:00, 50.70it/s]"
     }
    },
    "4262c9db23d94fc5ab7c1042d348059f": {
     "model_module": "@jupyter-widgets/controls",
     "model_name": "ProgressStyleModel",
     "state": {
      "_model_module": "@jupyter-widgets/controls",
      "_model_module_version": "1.5.0",
      "_model_name": "ProgressStyleModel",
      "_view_count": null,
      "_view_module": "@jupyter-widgets/base",
      "_view_module_version": "1.2.0",
      "_view_name": "StyleView",
      "bar_color": null,
      "description_width": "initial"
     }
    },
    "451ebf728e244ff1bd259acf831ed193": {
     "model_module": "@jupyter-widgets/controls",
     "model_name": "DescriptionStyleModel",
     "state": {
      "_model_module": "@jupyter-widgets/controls",
      "_model_module_version": "1.5.0",
      "_model_name": "DescriptionStyleModel",
      "_view_count": null,
      "_view_module": "@jupyter-widgets/base",
      "_view_module_version": "1.2.0",
      "_view_name": "StyleView",
      "description_width": ""
     }
    },
    "454a5a04ca3c44d1b4d93433369f273f": {
     "model_module": "@jupyter-widgets/controls",
     "model_name": "ProgressStyleModel",
     "state": {
      "_model_module": "@jupyter-widgets/controls",
      "_model_module_version": "1.5.0",
      "_model_name": "ProgressStyleModel",
      "_view_count": null,
      "_view_module": "@jupyter-widgets/base",
      "_view_module_version": "1.2.0",
      "_view_name": "StyleView",
      "bar_color": null,
      "description_width": "initial"
     }
    },
    "46a9145fe8d94766bf5cce5bc0cb8e2a": {
     "model_module": "@jupyter-widgets/base",
     "model_name": "LayoutModel",
     "state": {
      "_model_module": "@jupyter-widgets/base",
      "_model_module_version": "1.2.0",
      "_model_name": "LayoutModel",
      "_view_count": null,
      "_view_module": "@jupyter-widgets/base",
      "_view_module_version": "1.2.0",
      "_view_name": "LayoutView",
      "align_content": null,
      "align_items": null,
      "align_self": null,
      "border": null,
      "bottom": null,
      "display": null,
      "flex": null,
      "flex_flow": null,
      "grid_area": null,
      "grid_auto_columns": null,
      "grid_auto_flow": null,
      "grid_auto_rows": null,
      "grid_column": null,
      "grid_gap": null,
      "grid_row": null,
      "grid_template_areas": null,
      "grid_template_columns": null,
      "grid_template_rows": null,
      "height": null,
      "justify_content": null,
      "justify_items": null,
      "left": null,
      "margin": null,
      "max_height": null,
      "max_width": null,
      "min_height": null,
      "min_width": null,
      "object_fit": null,
      "object_position": null,
      "order": null,
      "overflow": null,
      "overflow_x": null,
      "overflow_y": null,
      "padding": null,
      "right": null,
      "top": null,
      "visibility": null,
      "width": null
     }
    },
    "48acc7e4aa6a41d4a075b52a46102b2e": {
     "model_module": "@jupyter-widgets/controls",
     "model_name": "DescriptionStyleModel",
     "state": {
      "_model_module": "@jupyter-widgets/controls",
      "_model_module_version": "1.5.0",
      "_model_name": "DescriptionStyleModel",
      "_view_count": null,
      "_view_module": "@jupyter-widgets/base",
      "_view_module_version": "1.2.0",
      "_view_name": "StyleView",
      "description_width": ""
     }
    },
    "4a8969a8cff24cab82fc4b7f15661a0d": {
     "model_module": "@jupyter-widgets/controls",
     "model_name": "DescriptionStyleModel",
     "state": {
      "_model_module": "@jupyter-widgets/controls",
      "_model_module_version": "1.5.0",
      "_model_name": "DescriptionStyleModel",
      "_view_count": null,
      "_view_module": "@jupyter-widgets/base",
      "_view_module_version": "1.2.0",
      "_view_name": "StyleView",
      "description_width": ""
     }
    },
    "4b62f185b5f84fd8a3bf64a556f338e0": {
     "model_module": "@jupyter-widgets/base",
     "model_name": "LayoutModel",
     "state": {
      "_model_module": "@jupyter-widgets/base",
      "_model_module_version": "1.2.0",
      "_model_name": "LayoutModel",
      "_view_count": null,
      "_view_module": "@jupyter-widgets/base",
      "_view_module_version": "1.2.0",
      "_view_name": "LayoutView",
      "align_content": null,
      "align_items": null,
      "align_self": null,
      "border": null,
      "bottom": null,
      "display": null,
      "flex": null,
      "flex_flow": null,
      "grid_area": null,
      "grid_auto_columns": null,
      "grid_auto_flow": null,
      "grid_auto_rows": null,
      "grid_column": null,
      "grid_gap": null,
      "grid_row": null,
      "grid_template_areas": null,
      "grid_template_columns": null,
      "grid_template_rows": null,
      "height": null,
      "justify_content": null,
      "justify_items": null,
      "left": null,
      "margin": null,
      "max_height": null,
      "max_width": null,
      "min_height": null,
      "min_width": null,
      "object_fit": null,
      "object_position": null,
      "order": null,
      "overflow": null,
      "overflow_x": null,
      "overflow_y": null,
      "padding": null,
      "right": null,
      "top": null,
      "visibility": null,
      "width": null
     }
    },
    "4f2321db9aa24d25b059b43866cb0382": {
     "model_module": "@jupyter-widgets/base",
     "model_name": "LayoutModel",
     "state": {
      "_model_module": "@jupyter-widgets/base",
      "_model_module_version": "1.2.0",
      "_model_name": "LayoutModel",
      "_view_count": null,
      "_view_module": "@jupyter-widgets/base",
      "_view_module_version": "1.2.0",
      "_view_name": "LayoutView",
      "align_content": null,
      "align_items": null,
      "align_self": null,
      "border": null,
      "bottom": null,
      "display": null,
      "flex": null,
      "flex_flow": null,
      "grid_area": null,
      "grid_auto_columns": null,
      "grid_auto_flow": null,
      "grid_auto_rows": null,
      "grid_column": null,
      "grid_gap": null,
      "grid_row": null,
      "grid_template_areas": null,
      "grid_template_columns": null,
      "grid_template_rows": null,
      "height": null,
      "justify_content": null,
      "justify_items": null,
      "left": null,
      "margin": null,
      "max_height": null,
      "max_width": null,
      "min_height": null,
      "min_width": null,
      "object_fit": null,
      "object_position": null,
      "order": null,
      "overflow": null,
      "overflow_x": null,
      "overflow_y": null,
      "padding": null,
      "right": null,
      "top": null,
      "visibility": null,
      "width": null
     }
    },
    "50c05c973ab84abca8a292493060b377": {
     "model_module": "@jupyter-widgets/base",
     "model_name": "LayoutModel",
     "state": {
      "_model_module": "@jupyter-widgets/base",
      "_model_module_version": "1.2.0",
      "_model_name": "LayoutModel",
      "_view_count": null,
      "_view_module": "@jupyter-widgets/base",
      "_view_module_version": "1.2.0",
      "_view_name": "LayoutView",
      "align_content": null,
      "align_items": null,
      "align_self": null,
      "border": null,
      "bottom": null,
      "display": null,
      "flex": null,
      "flex_flow": null,
      "grid_area": null,
      "grid_auto_columns": null,
      "grid_auto_flow": null,
      "grid_auto_rows": null,
      "grid_column": null,
      "grid_gap": null,
      "grid_row": null,
      "grid_template_areas": null,
      "grid_template_columns": null,
      "grid_template_rows": null,
      "height": null,
      "justify_content": null,
      "justify_items": null,
      "left": null,
      "margin": null,
      "max_height": null,
      "max_width": null,
      "min_height": null,
      "min_width": null,
      "object_fit": null,
      "object_position": null,
      "order": null,
      "overflow": null,
      "overflow_x": null,
      "overflow_y": null,
      "padding": null,
      "right": null,
      "top": null,
      "visibility": null,
      "width": null
     }
    },
    "52a6b8af79a14efb954d4021d46262f0": {
     "model_module": "@jupyter-widgets/base",
     "model_name": "LayoutModel",
     "state": {
      "_model_module": "@jupyter-widgets/base",
      "_model_module_version": "1.2.0",
      "_model_name": "LayoutModel",
      "_view_count": null,
      "_view_module": "@jupyter-widgets/base",
      "_view_module_version": "1.2.0",
      "_view_name": "LayoutView",
      "align_content": null,
      "align_items": null,
      "align_self": null,
      "border": null,
      "bottom": null,
      "display": null,
      "flex": null,
      "flex_flow": null,
      "grid_area": null,
      "grid_auto_columns": null,
      "grid_auto_flow": null,
      "grid_auto_rows": null,
      "grid_column": null,
      "grid_gap": null,
      "grid_row": null,
      "grid_template_areas": null,
      "grid_template_columns": null,
      "grid_template_rows": null,
      "height": null,
      "justify_content": null,
      "justify_items": null,
      "left": null,
      "margin": null,
      "max_height": null,
      "max_width": null,
      "min_height": null,
      "min_width": null,
      "object_fit": null,
      "object_position": null,
      "order": null,
      "overflow": null,
      "overflow_x": null,
      "overflow_y": null,
      "padding": null,
      "right": null,
      "top": null,
      "visibility": null,
      "width": null
     }
    },
    "535d95a532584520adf9d4719f5b7f0e": {
     "model_module": "@jupyter-widgets/controls",
     "model_name": "ProgressStyleModel",
     "state": {
      "_model_module": "@jupyter-widgets/controls",
      "_model_module_version": "1.5.0",
      "_model_name": "ProgressStyleModel",
      "_view_count": null,
      "_view_module": "@jupyter-widgets/base",
      "_view_module_version": "1.2.0",
      "_view_name": "StyleView",
      "bar_color": null,
      "description_width": "initial"
     }
    },
    "544c0510705f433c84f5aa805407c252": {
     "model_module": "@jupyter-widgets/controls",
     "model_name": "HTMLModel",
     "state": {
      "_dom_classes": [],
      "_model_module": "@jupyter-widgets/controls",
      "_model_module_version": "1.5.0",
      "_model_name": "HTMLModel",
      "_view_count": null,
      "_view_module": "@jupyter-widgets/controls",
      "_view_module_version": "1.5.0",
      "_view_name": "HTMLView",
      "description": "",
      "description_tooltip": null,
      "layout": "IPY_MODEL_ddedb77d61ae4b9ab1e4684a9c8e0e2b",
      "placeholder": "​",
      "style": "IPY_MODEL_9c5375b4eb0344d890b86c621092f684",
      "value": " 1000/1000 [00:06&lt;00:00, 166.08it/s]"
     }
    },
    "547cb79e64964186adbf1cc6752b49d9": {
     "model_module": "@jupyter-widgets/base",
     "model_name": "LayoutModel",
     "state": {
      "_model_module": "@jupyter-widgets/base",
      "_model_module_version": "1.2.0",
      "_model_name": "LayoutModel",
      "_view_count": null,
      "_view_module": "@jupyter-widgets/base",
      "_view_module_version": "1.2.0",
      "_view_name": "LayoutView",
      "align_content": null,
      "align_items": null,
      "align_self": null,
      "border": null,
      "bottom": null,
      "display": null,
      "flex": null,
      "flex_flow": null,
      "grid_area": null,
      "grid_auto_columns": null,
      "grid_auto_flow": null,
      "grid_auto_rows": null,
      "grid_column": null,
      "grid_gap": null,
      "grid_row": null,
      "grid_template_areas": null,
      "grid_template_columns": null,
      "grid_template_rows": null,
      "height": null,
      "justify_content": null,
      "justify_items": null,
      "left": null,
      "margin": null,
      "max_height": null,
      "max_width": null,
      "min_height": null,
      "min_width": null,
      "object_fit": null,
      "object_position": null,
      "order": null,
      "overflow": null,
      "overflow_x": null,
      "overflow_y": null,
      "padding": null,
      "right": null,
      "top": null,
      "visibility": null,
      "width": null
     }
    },
    "5fe00133e4244b119150227db51dbec9": {
     "model_module": "@jupyter-widgets/base",
     "model_name": "LayoutModel",
     "state": {
      "_model_module": "@jupyter-widgets/base",
      "_model_module_version": "1.2.0",
      "_model_name": "LayoutModel",
      "_view_count": null,
      "_view_module": "@jupyter-widgets/base",
      "_view_module_version": "1.2.0",
      "_view_name": "LayoutView",
      "align_content": null,
      "align_items": null,
      "align_self": null,
      "border": null,
      "bottom": null,
      "display": null,
      "flex": null,
      "flex_flow": null,
      "grid_area": null,
      "grid_auto_columns": null,
      "grid_auto_flow": null,
      "grid_auto_rows": null,
      "grid_column": null,
      "grid_gap": null,
      "grid_row": null,
      "grid_template_areas": null,
      "grid_template_columns": null,
      "grid_template_rows": null,
      "height": null,
      "justify_content": null,
      "justify_items": null,
      "left": null,
      "margin": null,
      "max_height": null,
      "max_width": null,
      "min_height": null,
      "min_width": null,
      "object_fit": null,
      "object_position": null,
      "order": null,
      "overflow": null,
      "overflow_x": null,
      "overflow_y": null,
      "padding": null,
      "right": null,
      "top": null,
      "visibility": null,
      "width": null
     }
    },
    "60df7c622a2149538fb31441a72dce41": {
     "model_module": "@jupyter-widgets/base",
     "model_name": "LayoutModel",
     "state": {
      "_model_module": "@jupyter-widgets/base",
      "_model_module_version": "1.2.0",
      "_model_name": "LayoutModel",
      "_view_count": null,
      "_view_module": "@jupyter-widgets/base",
      "_view_module_version": "1.2.0",
      "_view_name": "LayoutView",
      "align_content": null,
      "align_items": null,
      "align_self": null,
      "border": null,
      "bottom": null,
      "display": null,
      "flex": null,
      "flex_flow": null,
      "grid_area": null,
      "grid_auto_columns": null,
      "grid_auto_flow": null,
      "grid_auto_rows": null,
      "grid_column": null,
      "grid_gap": null,
      "grid_row": null,
      "grid_template_areas": null,
      "grid_template_columns": null,
      "grid_template_rows": null,
      "height": null,
      "justify_content": null,
      "justify_items": null,
      "left": null,
      "margin": null,
      "max_height": null,
      "max_width": null,
      "min_height": null,
      "min_width": null,
      "object_fit": null,
      "object_position": null,
      "order": null,
      "overflow": null,
      "overflow_x": null,
      "overflow_y": null,
      "padding": null,
      "right": null,
      "top": null,
      "visibility": null,
      "width": null
     }
    },
    "60e50db69cbe454083a8f91bebcb6897": {
     "model_module": "@jupyter-widgets/base",
     "model_name": "LayoutModel",
     "state": {
      "_model_module": "@jupyter-widgets/base",
      "_model_module_version": "1.2.0",
      "_model_name": "LayoutModel",
      "_view_count": null,
      "_view_module": "@jupyter-widgets/base",
      "_view_module_version": "1.2.0",
      "_view_name": "LayoutView",
      "align_content": null,
      "align_items": null,
      "align_self": null,
      "border": null,
      "bottom": null,
      "display": null,
      "flex": null,
      "flex_flow": null,
      "grid_area": null,
      "grid_auto_columns": null,
      "grid_auto_flow": null,
      "grid_auto_rows": null,
      "grid_column": null,
      "grid_gap": null,
      "grid_row": null,
      "grid_template_areas": null,
      "grid_template_columns": null,
      "grid_template_rows": null,
      "height": null,
      "justify_content": null,
      "justify_items": null,
      "left": null,
      "margin": null,
      "max_height": null,
      "max_width": null,
      "min_height": null,
      "min_width": null,
      "object_fit": null,
      "object_position": null,
      "order": null,
      "overflow": null,
      "overflow_x": null,
      "overflow_y": null,
      "padding": null,
      "right": null,
      "top": null,
      "visibility": null,
      "width": null
     }
    },
    "64296a7c8c9a472aa95a46ac85e0f0d0": {
     "model_module": "@jupyter-widgets/controls",
     "model_name": "FloatProgressModel",
     "state": {
      "_dom_classes": [],
      "_model_module": "@jupyter-widgets/controls",
      "_model_module_version": "1.5.0",
      "_model_name": "FloatProgressModel",
      "_view_count": null,
      "_view_module": "@jupyter-widgets/controls",
      "_view_module_version": "1.5.0",
      "_view_name": "ProgressView",
      "bar_style": "success",
      "description": "100%",
      "description_tooltip": null,
      "layout": "IPY_MODEL_b8bf58a9a4254968ad6eb0728826cbba",
      "max": 4000,
      "min": 0,
      "orientation": "horizontal",
      "style": "IPY_MODEL_b760a3e02a964792969ba0e25b025d4d",
      "value": 4000
     }
    },
    "65b812d486444cb58d8a634129e020a5": {
     "model_module": "@jupyter-widgets/controls",
     "model_name": "DescriptionStyleModel",
     "state": {
      "_model_module": "@jupyter-widgets/controls",
      "_model_module_version": "1.5.0",
      "_model_name": "DescriptionStyleModel",
      "_view_count": null,
      "_view_module": "@jupyter-widgets/base",
      "_view_module_version": "1.2.0",
      "_view_name": "StyleView",
      "description_width": ""
     }
    },
    "662546d784b64fe1ae036c7b8a8b94f0": {
     "model_module": "@jupyter-widgets/controls",
     "model_name": "HTMLModel",
     "state": {
      "_dom_classes": [],
      "_model_module": "@jupyter-widgets/controls",
      "_model_module_version": "1.5.0",
      "_model_name": "HTMLModel",
      "_view_count": null,
      "_view_module": "@jupyter-widgets/controls",
      "_view_module_version": "1.5.0",
      "_view_name": "HTMLView",
      "description": "",
      "description_tooltip": null,
      "layout": "IPY_MODEL_4b62f185b5f84fd8a3bf64a556f338e0",
      "placeholder": "​",
      "style": "IPY_MODEL_451ebf728e244ff1bd259acf831ed193",
      "value": " 200/200 [00:19&lt;00:00, 10.49it/s]"
     }
    },
    "67234dbd653c476b91cd704882c900c0": {
     "model_module": "@jupyter-widgets/controls",
     "model_name": "HTMLModel",
     "state": {
      "_dom_classes": [],
      "_model_module": "@jupyter-widgets/controls",
      "_model_module_version": "1.5.0",
      "_model_name": "HTMLModel",
      "_view_count": null,
      "_view_module": "@jupyter-widgets/controls",
      "_view_module_version": "1.5.0",
      "_view_name": "HTMLView",
      "description": "",
      "description_tooltip": null,
      "layout": "IPY_MODEL_8fbc6a7661804f3e8effd0d9d69cd4d0",
      "placeholder": "​",
      "style": "IPY_MODEL_99fafb5c045c4074a945a57c47ab3629",
      "value": " 4000/4000 [01:20&lt;00:00, 49.44it/s]"
     }
    },
    "67a8884910374dafac17d79d1c1e91b4": {
     "model_module": "@jupyter-widgets/controls",
     "model_name": "HBoxModel",
     "state": {
      "_dom_classes": [],
      "_model_module": "@jupyter-widgets/controls",
      "_model_module_version": "1.5.0",
      "_model_name": "HBoxModel",
      "_view_count": null,
      "_view_module": "@jupyter-widgets/controls",
      "_view_module_version": "1.5.0",
      "_view_name": "HBoxView",
      "box_style": "",
      "children": [
       "IPY_MODEL_1d2c0a3b46d546d2a23d7cc05a83e764",
       "IPY_MODEL_951d80754576491b8a56770d13299e7b"
      ],
      "layout": "IPY_MODEL_3984f65ad9874b4699859785d6bd59e5"
     }
    },
    "68770c36f25143e19d010e69d0875f83": {
     "model_module": "@jupyter-widgets/controls",
     "model_name": "DescriptionStyleModel",
     "state": {
      "_model_module": "@jupyter-widgets/controls",
      "_model_module_version": "1.5.0",
      "_model_name": "DescriptionStyleModel",
      "_view_count": null,
      "_view_module": "@jupyter-widgets/base",
      "_view_module_version": "1.2.0",
      "_view_name": "StyleView",
      "description_width": ""
     }
    },
    "6957886306344eebbbe5ffda458b7626": {
     "model_module": "@jupyter-widgets/controls",
     "model_name": "ProgressStyleModel",
     "state": {
      "_model_module": "@jupyter-widgets/controls",
      "_model_module_version": "1.5.0",
      "_model_name": "ProgressStyleModel",
      "_view_count": null,
      "_view_module": "@jupyter-widgets/base",
      "_view_module_version": "1.2.0",
      "_view_name": "StyleView",
      "bar_color": null,
      "description_width": "initial"
     }
    },
    "69a827742d5048c4a96b4f4741a25767": {
     "model_module": "@jupyter-widgets/controls",
     "model_name": "HBoxModel",
     "state": {
      "_dom_classes": [],
      "_model_module": "@jupyter-widgets/controls",
      "_model_module_version": "1.5.0",
      "_model_name": "HBoxModel",
      "_view_count": null,
      "_view_module": "@jupyter-widgets/controls",
      "_view_module_version": "1.5.0",
      "_view_name": "HBoxView",
      "box_style": "",
      "children": [
       "IPY_MODEL_dad6fd12bd9549468bc94e52ab322546",
       "IPY_MODEL_b9b763d210ba4977991fe528282c9868"
      ],
      "layout": "IPY_MODEL_f3c5663942104ebdbb3af20814566b59"
     }
    },
    "6a3ddaefee73498998d88558f671877b": {
     "model_module": "@jupyter-widgets/base",
     "model_name": "LayoutModel",
     "state": {
      "_model_module": "@jupyter-widgets/base",
      "_model_module_version": "1.2.0",
      "_model_name": "LayoutModel",
      "_view_count": null,
      "_view_module": "@jupyter-widgets/base",
      "_view_module_version": "1.2.0",
      "_view_name": "LayoutView",
      "align_content": null,
      "align_items": null,
      "align_self": null,
      "border": null,
      "bottom": null,
      "display": null,
      "flex": null,
      "flex_flow": null,
      "grid_area": null,
      "grid_auto_columns": null,
      "grid_auto_flow": null,
      "grid_auto_rows": null,
      "grid_column": null,
      "grid_gap": null,
      "grid_row": null,
      "grid_template_areas": null,
      "grid_template_columns": null,
      "grid_template_rows": null,
      "height": null,
      "justify_content": null,
      "justify_items": null,
      "left": null,
      "margin": null,
      "max_height": null,
      "max_width": null,
      "min_height": null,
      "min_width": null,
      "object_fit": null,
      "object_position": null,
      "order": null,
      "overflow": null,
      "overflow_x": null,
      "overflow_y": null,
      "padding": null,
      "right": null,
      "top": null,
      "visibility": null,
      "width": null
     }
    },
    "6af2cb30407b4129b5691c4f512a406b": {
     "model_module": "@jupyter-widgets/controls",
     "model_name": "DescriptionStyleModel",
     "state": {
      "_model_module": "@jupyter-widgets/controls",
      "_model_module_version": "1.5.0",
      "_model_name": "DescriptionStyleModel",
      "_view_count": null,
      "_view_module": "@jupyter-widgets/base",
      "_view_module_version": "1.2.0",
      "_view_name": "StyleView",
      "description_width": ""
     }
    },
    "6f29644603324e90ab2ea15841b4ce5f": {
     "model_module": "@jupyter-widgets/controls",
     "model_name": "FloatProgressModel",
     "state": {
      "_dom_classes": [],
      "_model_module": "@jupyter-widgets/controls",
      "_model_module_version": "1.5.0",
      "_model_name": "FloatProgressModel",
      "_view_count": null,
      "_view_module": "@jupyter-widgets/controls",
      "_view_module_version": "1.5.0",
      "_view_name": "ProgressView",
      "bar_style": "success",
      "description": "100%",
      "description_tooltip": null,
      "layout": "IPY_MODEL_9feee9adb3f84d05b1bf8b1380b03df2",
      "max": 5000,
      "min": 0,
      "orientation": "horizontal",
      "style": "IPY_MODEL_c728d04292e14fbf88a6999f6a05f7ed",
      "value": 5000
     }
    },
    "711cce636f2c4037ad7bad3c2f534704": {
     "model_module": "@jupyter-widgets/controls",
     "model_name": "HTMLModel",
     "state": {
      "_dom_classes": [],
      "_model_module": "@jupyter-widgets/controls",
      "_model_module_version": "1.5.0",
      "_model_name": "HTMLModel",
      "_view_count": null,
      "_view_module": "@jupyter-widgets/controls",
      "_view_module_version": "1.5.0",
      "_view_name": "HTMLView",
      "description": "",
      "description_tooltip": null,
      "layout": "IPY_MODEL_e7ac68c5834a43809ad13ed9978bfa4a",
      "placeholder": "​",
      "style": "IPY_MODEL_6af2cb30407b4129b5691c4f512a406b",
      "value": " 1000/1000 [00:40&lt;00:00, 24.78it/s]"
     }
    },
    "7c390f8934144c67bef0f64393b7eb39": {
     "model_module": "@jupyter-widgets/base",
     "model_name": "LayoutModel",
     "state": {
      "_model_module": "@jupyter-widgets/base",
      "_model_module_version": "1.2.0",
      "_model_name": "LayoutModel",
      "_view_count": null,
      "_view_module": "@jupyter-widgets/base",
      "_view_module_version": "1.2.0",
      "_view_name": "LayoutView",
      "align_content": null,
      "align_items": null,
      "align_self": null,
      "border": null,
      "bottom": null,
      "display": null,
      "flex": null,
      "flex_flow": null,
      "grid_area": null,
      "grid_auto_columns": null,
      "grid_auto_flow": null,
      "grid_auto_rows": null,
      "grid_column": null,
      "grid_gap": null,
      "grid_row": null,
      "grid_template_areas": null,
      "grid_template_columns": null,
      "grid_template_rows": null,
      "height": null,
      "justify_content": null,
      "justify_items": null,
      "left": null,
      "margin": null,
      "max_height": null,
      "max_width": null,
      "min_height": null,
      "min_width": null,
      "object_fit": null,
      "object_position": null,
      "order": null,
      "overflow": null,
      "overflow_x": null,
      "overflow_y": null,
      "padding": null,
      "right": null,
      "top": null,
      "visibility": null,
      "width": null
     }
    },
    "7effaff742594a3cbbc7488844469c21": {
     "model_module": "@jupyter-widgets/controls",
     "model_name": "HBoxModel",
     "state": {
      "_dom_classes": [],
      "_model_module": "@jupyter-widgets/controls",
      "_model_module_version": "1.5.0",
      "_model_name": "HBoxModel",
      "_view_count": null,
      "_view_module": "@jupyter-widgets/controls",
      "_view_module_version": "1.5.0",
      "_view_name": "HBoxView",
      "box_style": "",
      "children": [
       "IPY_MODEL_021c608fc3314e73b5d0f345dc1dc770",
       "IPY_MODEL_544c0510705f433c84f5aa805407c252"
      ],
      "layout": "IPY_MODEL_547cb79e64964186adbf1cc6752b49d9"
     }
    },
    "852d4669927c4ddb8ed79b7f8a7aeb68": {
     "model_module": "@jupyter-widgets/controls",
     "model_name": "DescriptionStyleModel",
     "state": {
      "_model_module": "@jupyter-widgets/controls",
      "_model_module_version": "1.5.0",
      "_model_name": "DescriptionStyleModel",
      "_view_count": null,
      "_view_module": "@jupyter-widgets/base",
      "_view_module_version": "1.2.0",
      "_view_name": "StyleView",
      "description_width": ""
     }
    },
    "86ed896d99b14d9bbbd669ad4678ec4c": {
     "model_module": "@jupyter-widgets/controls",
     "model_name": "ProgressStyleModel",
     "state": {
      "_model_module": "@jupyter-widgets/controls",
      "_model_module_version": "1.5.0",
      "_model_name": "ProgressStyleModel",
      "_view_count": null,
      "_view_module": "@jupyter-widgets/base",
      "_view_module_version": "1.2.0",
      "_view_name": "StyleView",
      "bar_color": null,
      "description_width": "initial"
     }
    },
    "8d17e73b891d46dcae7c8e4ba16a52a0": {
     "model_module": "@jupyter-widgets/controls",
     "model_name": "HBoxModel",
     "state": {
      "_dom_classes": [],
      "_model_module": "@jupyter-widgets/controls",
      "_model_module_version": "1.5.0",
      "_model_name": "HBoxModel",
      "_view_count": null,
      "_view_module": "@jupyter-widgets/controls",
      "_view_module_version": "1.5.0",
      "_view_name": "HBoxView",
      "box_style": "",
      "children": [
       "IPY_MODEL_c93f32c4186645b3aa8661411c3e8e9d",
       "IPY_MODEL_4240a1496e4b4ddcbbe74f659a18f897"
      ],
      "layout": "IPY_MODEL_ce7400b64925436faef6be247e38cfa3"
     }
    },
    "8fbc6a7661804f3e8effd0d9d69cd4d0": {
     "model_module": "@jupyter-widgets/base",
     "model_name": "LayoutModel",
     "state": {
      "_model_module": "@jupyter-widgets/base",
      "_model_module_version": "1.2.0",
      "_model_name": "LayoutModel",
      "_view_count": null,
      "_view_module": "@jupyter-widgets/base",
      "_view_module_version": "1.2.0",
      "_view_name": "LayoutView",
      "align_content": null,
      "align_items": null,
      "align_self": null,
      "border": null,
      "bottom": null,
      "display": null,
      "flex": null,
      "flex_flow": null,
      "grid_area": null,
      "grid_auto_columns": null,
      "grid_auto_flow": null,
      "grid_auto_rows": null,
      "grid_column": null,
      "grid_gap": null,
      "grid_row": null,
      "grid_template_areas": null,
      "grid_template_columns": null,
      "grid_template_rows": null,
      "height": null,
      "justify_content": null,
      "justify_items": null,
      "left": null,
      "margin": null,
      "max_height": null,
      "max_width": null,
      "min_height": null,
      "min_width": null,
      "object_fit": null,
      "object_position": null,
      "order": null,
      "overflow": null,
      "overflow_x": null,
      "overflow_y": null,
      "padding": null,
      "right": null,
      "top": null,
      "visibility": null,
      "width": null
     }
    },
    "9069a1560abb495b875d4a3c50b46b10": {
     "model_module": "@jupyter-widgets/base",
     "model_name": "LayoutModel",
     "state": {
      "_model_module": "@jupyter-widgets/base",
      "_model_module_version": "1.2.0",
      "_model_name": "LayoutModel",
      "_view_count": null,
      "_view_module": "@jupyter-widgets/base",
      "_view_module_version": "1.2.0",
      "_view_name": "LayoutView",
      "align_content": null,
      "align_items": null,
      "align_self": null,
      "border": null,
      "bottom": null,
      "display": null,
      "flex": null,
      "flex_flow": null,
      "grid_area": null,
      "grid_auto_columns": null,
      "grid_auto_flow": null,
      "grid_auto_rows": null,
      "grid_column": null,
      "grid_gap": null,
      "grid_row": null,
      "grid_template_areas": null,
      "grid_template_columns": null,
      "grid_template_rows": null,
      "height": null,
      "justify_content": null,
      "justify_items": null,
      "left": null,
      "margin": null,
      "max_height": null,
      "max_width": null,
      "min_height": null,
      "min_width": null,
      "object_fit": null,
      "object_position": null,
      "order": null,
      "overflow": null,
      "overflow_x": null,
      "overflow_y": null,
      "padding": null,
      "right": null,
      "top": null,
      "visibility": null,
      "width": null
     }
    },
    "951d80754576491b8a56770d13299e7b": {
     "model_module": "@jupyter-widgets/controls",
     "model_name": "HTMLModel",
     "state": {
      "_dom_classes": [],
      "_model_module": "@jupyter-widgets/controls",
      "_model_module_version": "1.5.0",
      "_model_name": "HTMLModel",
      "_view_count": null,
      "_view_module": "@jupyter-widgets/controls",
      "_view_module_version": "1.5.0",
      "_view_name": "HTMLView",
      "description": "",
      "description_tooltip": null,
      "layout": "IPY_MODEL_e594ea6fb7514ae9a34703d200fe159c",
      "placeholder": "​",
      "style": "IPY_MODEL_4a8969a8cff24cab82fc4b7f15661a0d",
      "value": " 1000/1000 [00:06&lt;00:00, 160.26it/s]"
     }
    },
    "978894bf82e24123a622e7e4956c1a43": {
     "model_module": "@jupyter-widgets/controls",
     "model_name": "HBoxModel",
     "state": {
      "_dom_classes": [],
      "_model_module": "@jupyter-widgets/controls",
      "_model_module_version": "1.5.0",
      "_model_name": "HBoxModel",
      "_view_count": null,
      "_view_module": "@jupyter-widgets/controls",
      "_view_module_version": "1.5.0",
      "_view_name": "HBoxView",
      "box_style": "",
      "children": [
       "IPY_MODEL_6f29644603324e90ab2ea15841b4ce5f",
       "IPY_MODEL_1cd6531ecccb48b3823728e4d1a6c3d1"
      ],
      "layout": "IPY_MODEL_ee2d7e24c38b43aaa7ef7657f5698687"
     }
    },
    "981d1213e33f439bbdbe6f533b7ed9f3": {
     "model_module": "@jupyter-widgets/controls",
     "model_name": "FloatProgressModel",
     "state": {
      "_dom_classes": [],
      "_model_module": "@jupyter-widgets/controls",
      "_model_module_version": "1.5.0",
      "_model_name": "FloatProgressModel",
      "_view_count": null,
      "_view_module": "@jupyter-widgets/controls",
      "_view_module_version": "1.5.0",
      "_view_name": "ProgressView",
      "bar_style": "success",
      "description": "100%",
      "description_tooltip": null,
      "layout": "IPY_MODEL_d92062dede8b48859ac0aa9c6222ee0a",
      "max": 100,
      "min": 0,
      "orientation": "horizontal",
      "style": "IPY_MODEL_535d95a532584520adf9d4719f5b7f0e",
      "value": 100
     }
    },
    "99fafb5c045c4074a945a57c47ab3629": {
     "model_module": "@jupyter-widgets/controls",
     "model_name": "DescriptionStyleModel",
     "state": {
      "_model_module": "@jupyter-widgets/controls",
      "_model_module_version": "1.5.0",
      "_model_name": "DescriptionStyleModel",
      "_view_count": null,
      "_view_module": "@jupyter-widgets/base",
      "_view_module_version": "1.2.0",
      "_view_name": "StyleView",
      "description_width": ""
     }
    },
    "9c5375b4eb0344d890b86c621092f684": {
     "model_module": "@jupyter-widgets/controls",
     "model_name": "DescriptionStyleModel",
     "state": {
      "_model_module": "@jupyter-widgets/controls",
      "_model_module_version": "1.5.0",
      "_model_name": "DescriptionStyleModel",
      "_view_count": null,
      "_view_module": "@jupyter-widgets/base",
      "_view_module_version": "1.2.0",
      "_view_name": "StyleView",
      "description_width": ""
     }
    },
    "9d4a49459df24d55abb45e62c1f231d2": {
     "model_module": "@jupyter-widgets/controls",
     "model_name": "FloatProgressModel",
     "state": {
      "_dom_classes": [],
      "_model_module": "@jupyter-widgets/controls",
      "_model_module_version": "1.5.0",
      "_model_name": "FloatProgressModel",
      "_view_count": null,
      "_view_module": "@jupyter-widgets/controls",
      "_view_module_version": "1.5.0",
      "_view_name": "ProgressView",
      "bar_style": "success",
      "description": "100%",
      "description_tooltip": null,
      "layout": "IPY_MODEL_dbc0d8d3b5d1414eb985a2b71a948da7",
      "max": 200,
      "min": 0,
      "orientation": "horizontal",
      "style": "IPY_MODEL_86ed896d99b14d9bbbd669ad4678ec4c",
      "value": 200
     }
    },
    "9feee9adb3f84d05b1bf8b1380b03df2": {
     "model_module": "@jupyter-widgets/base",
     "model_name": "LayoutModel",
     "state": {
      "_model_module": "@jupyter-widgets/base",
      "_model_module_version": "1.2.0",
      "_model_name": "LayoutModel",
      "_view_count": null,
      "_view_module": "@jupyter-widgets/base",
      "_view_module_version": "1.2.0",
      "_view_name": "LayoutView",
      "align_content": null,
      "align_items": null,
      "align_self": null,
      "border": null,
      "bottom": null,
      "display": null,
      "flex": null,
      "flex_flow": null,
      "grid_area": null,
      "grid_auto_columns": null,
      "grid_auto_flow": null,
      "grid_auto_rows": null,
      "grid_column": null,
      "grid_gap": null,
      "grid_row": null,
      "grid_template_areas": null,
      "grid_template_columns": null,
      "grid_template_rows": null,
      "height": null,
      "justify_content": null,
      "justify_items": null,
      "left": null,
      "margin": null,
      "max_height": null,
      "max_width": null,
      "min_height": null,
      "min_width": null,
      "object_fit": null,
      "object_position": null,
      "order": null,
      "overflow": null,
      "overflow_x": null,
      "overflow_y": null,
      "padding": null,
      "right": null,
      "top": null,
      "visibility": null,
      "width": null
     }
    },
    "a07e56c7ea804d5f83a45e233d8d47cd": {
     "model_module": "@jupyter-widgets/base",
     "model_name": "LayoutModel",
     "state": {
      "_model_module": "@jupyter-widgets/base",
      "_model_module_version": "1.2.0",
      "_model_name": "LayoutModel",
      "_view_count": null,
      "_view_module": "@jupyter-widgets/base",
      "_view_module_version": "1.2.0",
      "_view_name": "LayoutView",
      "align_content": null,
      "align_items": null,
      "align_self": null,
      "border": null,
      "bottom": null,
      "display": null,
      "flex": null,
      "flex_flow": null,
      "grid_area": null,
      "grid_auto_columns": null,
      "grid_auto_flow": null,
      "grid_auto_rows": null,
      "grid_column": null,
      "grid_gap": null,
      "grid_row": null,
      "grid_template_areas": null,
      "grid_template_columns": null,
      "grid_template_rows": null,
      "height": null,
      "justify_content": null,
      "justify_items": null,
      "left": null,
      "margin": null,
      "max_height": null,
      "max_width": null,
      "min_height": null,
      "min_width": null,
      "object_fit": null,
      "object_position": null,
      "order": null,
      "overflow": null,
      "overflow_x": null,
      "overflow_y": null,
      "padding": null,
      "right": null,
      "top": null,
      "visibility": null,
      "width": null
     }
    },
    "a21e94085e77474897fb476e2d759bed": {
     "model_module": "@jupyter-widgets/controls",
     "model_name": "DescriptionStyleModel",
     "state": {
      "_model_module": "@jupyter-widgets/controls",
      "_model_module_version": "1.5.0",
      "_model_name": "DescriptionStyleModel",
      "_view_count": null,
      "_view_module": "@jupyter-widgets/base",
      "_view_module_version": "1.2.0",
      "_view_name": "StyleView",
      "description_width": ""
     }
    },
    "a431ef66fbc14d64879f4cc363512b63": {
     "model_module": "@jupyter-widgets/controls",
     "model_name": "HTMLModel",
     "state": {
      "_dom_classes": [],
      "_model_module": "@jupyter-widgets/controls",
      "_model_module_version": "1.5.0",
      "_model_name": "HTMLModel",
      "_view_count": null,
      "_view_module": "@jupyter-widgets/controls",
      "_view_module_version": "1.5.0",
      "_view_name": "HTMLView",
      "description": "",
      "description_tooltip": null,
      "layout": "IPY_MODEL_3f49892c16f042a3a6e901c9271d988c",
      "placeholder": "​",
      "style": "IPY_MODEL_852d4669927c4ddb8ed79b7f8a7aeb68",
      "value": " 1000/1000 [00:30&lt;00:00, 32.50it/s]"
     }
    },
    "a52a3b60cfab4f868dfda30e176ab35d": {
     "model_module": "@jupyter-widgets/base",
     "model_name": "LayoutModel",
     "state": {
      "_model_module": "@jupyter-widgets/base",
      "_model_module_version": "1.2.0",
      "_model_name": "LayoutModel",
      "_view_count": null,
      "_view_module": "@jupyter-widgets/base",
      "_view_module_version": "1.2.0",
      "_view_name": "LayoutView",
      "align_content": null,
      "align_items": null,
      "align_self": null,
      "border": null,
      "bottom": null,
      "display": null,
      "flex": null,
      "flex_flow": null,
      "grid_area": null,
      "grid_auto_columns": null,
      "grid_auto_flow": null,
      "grid_auto_rows": null,
      "grid_column": null,
      "grid_gap": null,
      "grid_row": null,
      "grid_template_areas": null,
      "grid_template_columns": null,
      "grid_template_rows": null,
      "height": null,
      "justify_content": null,
      "justify_items": null,
      "left": null,
      "margin": null,
      "max_height": null,
      "max_width": null,
      "min_height": null,
      "min_width": null,
      "object_fit": null,
      "object_position": null,
      "order": null,
      "overflow": null,
      "overflow_x": null,
      "overflow_y": null,
      "padding": null,
      "right": null,
      "top": null,
      "visibility": null,
      "width": null
     }
    },
    "a8490fd4d6804acb936695839356f06d": {
     "model_module": "@jupyter-widgets/controls",
     "model_name": "ProgressStyleModel",
     "state": {
      "_model_module": "@jupyter-widgets/controls",
      "_model_module_version": "1.5.0",
      "_model_name": "ProgressStyleModel",
      "_view_count": null,
      "_view_module": "@jupyter-widgets/base",
      "_view_module_version": "1.2.0",
      "_view_name": "StyleView",
      "bar_color": null,
      "description_width": "initial"
     }
    },
    "a8fac76b146e43699113b5bce882750a": {
     "model_module": "@jupyter-widgets/base",
     "model_name": "LayoutModel",
     "state": {
      "_model_module": "@jupyter-widgets/base",
      "_model_module_version": "1.2.0",
      "_model_name": "LayoutModel",
      "_view_count": null,
      "_view_module": "@jupyter-widgets/base",
      "_view_module_version": "1.2.0",
      "_view_name": "LayoutView",
      "align_content": null,
      "align_items": null,
      "align_self": null,
      "border": null,
      "bottom": null,
      "display": null,
      "flex": null,
      "flex_flow": null,
      "grid_area": null,
      "grid_auto_columns": null,
      "grid_auto_flow": null,
      "grid_auto_rows": null,
      "grid_column": null,
      "grid_gap": null,
      "grid_row": null,
      "grid_template_areas": null,
      "grid_template_columns": null,
      "grid_template_rows": null,
      "height": null,
      "justify_content": null,
      "justify_items": null,
      "left": null,
      "margin": null,
      "max_height": null,
      "max_width": null,
      "min_height": null,
      "min_width": null,
      "object_fit": null,
      "object_position": null,
      "order": null,
      "overflow": null,
      "overflow_x": null,
      "overflow_y": null,
      "padding": null,
      "right": null,
      "top": null,
      "visibility": null,
      "width": null
     }
    },
    "abf8f409d0e248bd9fb203d35fccea74": {
     "model_module": "@jupyter-widgets/controls",
     "model_name": "HBoxModel",
     "state": {
      "_dom_classes": [],
      "_model_module": "@jupyter-widgets/controls",
      "_model_module_version": "1.5.0",
      "_model_name": "HBoxModel",
      "_view_count": null,
      "_view_module": "@jupyter-widgets/controls",
      "_view_module_version": "1.5.0",
      "_view_name": "HBoxView",
      "box_style": "",
      "children": [
       "IPY_MODEL_ac7ab3cac9ab4e67a7c9fc9a79b299c8",
       "IPY_MODEL_711cce636f2c4037ad7bad3c2f534704"
      ],
      "layout": "IPY_MODEL_60df7c622a2149538fb31441a72dce41"
     }
    },
    "ac7ab3cac9ab4e67a7c9fc9a79b299c8": {
     "model_module": "@jupyter-widgets/controls",
     "model_name": "FloatProgressModel",
     "state": {
      "_dom_classes": [],
      "_model_module": "@jupyter-widgets/controls",
      "_model_module_version": "1.5.0",
      "_model_name": "FloatProgressModel",
      "_view_count": null,
      "_view_module": "@jupyter-widgets/controls",
      "_view_module_version": "1.5.0",
      "_view_name": "ProgressView",
      "bar_style": "success",
      "description": "100%",
      "description_tooltip": null,
      "layout": "IPY_MODEL_03d3d5855b2944aa87c37a555c496c19",
      "max": 1000,
      "min": 0,
      "orientation": "horizontal",
      "style": "IPY_MODEL_d5f26d4446594a278d6ba7fd71763a21",
      "value": 1000
     }
    },
    "ada06cf8f1b0400fa1cf887951e090d3": {
     "model_module": "@jupyter-widgets/controls",
     "model_name": "HBoxModel",
     "state": {
      "_dom_classes": [],
      "_model_module": "@jupyter-widgets/controls",
      "_model_module_version": "1.5.0",
      "_model_name": "HBoxModel",
      "_view_count": null,
      "_view_module": "@jupyter-widgets/controls",
      "_view_module_version": "1.5.0",
      "_view_name": "HBoxView",
      "box_style": "",
      "children": [
       "IPY_MODEL_9d4a49459df24d55abb45e62c1f231d2",
       "IPY_MODEL_662546d784b64fe1ae036c7b8a8b94f0"
      ],
      "layout": "IPY_MODEL_46a9145fe8d94766bf5cce5bc0cb8e2a"
     }
    },
    "adc2495054a34ba29e5adbf91e21612b": {
     "model_module": "@jupyter-widgets/controls",
     "model_name": "HBoxModel",
     "state": {
      "_dom_classes": [],
      "_model_module": "@jupyter-widgets/controls",
      "_model_module_version": "1.5.0",
      "_model_name": "HBoxModel",
      "_view_count": null,
      "_view_module": "@jupyter-widgets/controls",
      "_view_module_version": "1.5.0",
      "_view_name": "HBoxView",
      "box_style": "",
      "children": [
       "IPY_MODEL_1719b9dfb22f4022bd8c62093672b0eb",
       "IPY_MODEL_a431ef66fbc14d64879f4cc363512b63"
      ],
      "layout": "IPY_MODEL_0dd2bd7e0285437c81709243b5b3816a"
     }
    },
    "b2813984204442baa0e3da70f0450565": {
     "model_module": "@jupyter-widgets/base",
     "model_name": "LayoutModel",
     "state": {
      "_model_module": "@jupyter-widgets/base",
      "_model_module_version": "1.2.0",
      "_model_name": "LayoutModel",
      "_view_count": null,
      "_view_module": "@jupyter-widgets/base",
      "_view_module_version": "1.2.0",
      "_view_name": "LayoutView",
      "align_content": null,
      "align_items": null,
      "align_self": null,
      "border": null,
      "bottom": null,
      "display": null,
      "flex": null,
      "flex_flow": null,
      "grid_area": null,
      "grid_auto_columns": null,
      "grid_auto_flow": null,
      "grid_auto_rows": null,
      "grid_column": null,
      "grid_gap": null,
      "grid_row": null,
      "grid_template_areas": null,
      "grid_template_columns": null,
      "grid_template_rows": null,
      "height": null,
      "justify_content": null,
      "justify_items": null,
      "left": null,
      "margin": null,
      "max_height": null,
      "max_width": null,
      "min_height": null,
      "min_width": null,
      "object_fit": null,
      "object_position": null,
      "order": null,
      "overflow": null,
      "overflow_x": null,
      "overflow_y": null,
      "padding": null,
      "right": null,
      "top": null,
      "visibility": null,
      "width": null
     }
    },
    "b31205fbb44a403a816d7026a6034ba9": {
     "model_module": "@jupyter-widgets/base",
     "model_name": "LayoutModel",
     "state": {
      "_model_module": "@jupyter-widgets/base",
      "_model_module_version": "1.2.0",
      "_model_name": "LayoutModel",
      "_view_count": null,
      "_view_module": "@jupyter-widgets/base",
      "_view_module_version": "1.2.0",
      "_view_name": "LayoutView",
      "align_content": null,
      "align_items": null,
      "align_self": null,
      "border": null,
      "bottom": null,
      "display": null,
      "flex": null,
      "flex_flow": null,
      "grid_area": null,
      "grid_auto_columns": null,
      "grid_auto_flow": null,
      "grid_auto_rows": null,
      "grid_column": null,
      "grid_gap": null,
      "grid_row": null,
      "grid_template_areas": null,
      "grid_template_columns": null,
      "grid_template_rows": null,
      "height": null,
      "justify_content": null,
      "justify_items": null,
      "left": null,
      "margin": null,
      "max_height": null,
      "max_width": null,
      "min_height": null,
      "min_width": null,
      "object_fit": null,
      "object_position": null,
      "order": null,
      "overflow": null,
      "overflow_x": null,
      "overflow_y": null,
      "padding": null,
      "right": null,
      "top": null,
      "visibility": null,
      "width": null
     }
    },
    "b683aef5dbb645bea43fe10ce8f75ddd": {
     "model_module": "@jupyter-widgets/controls",
     "model_name": "HTMLModel",
     "state": {
      "_dom_classes": [],
      "_model_module": "@jupyter-widgets/controls",
      "_model_module_version": "1.5.0",
      "_model_name": "HTMLModel",
      "_view_count": null,
      "_view_module": "@jupyter-widgets/controls",
      "_view_module_version": "1.5.0",
      "_view_name": "HTMLView",
      "description": "",
      "description_tooltip": null,
      "layout": "IPY_MODEL_f4652ba522304b6aa86d263def9a75a7",
      "placeholder": "​",
      "style": "IPY_MODEL_0419c4fb8797459a866744bb006c2d1a",
      "value": " 1000/1000 [00:05&lt;00:00, 173.50it/s]"
     }
    },
    "b760a3e02a964792969ba0e25b025d4d": {
     "model_module": "@jupyter-widgets/controls",
     "model_name": "ProgressStyleModel",
     "state": {
      "_model_module": "@jupyter-widgets/controls",
      "_model_module_version": "1.5.0",
      "_model_name": "ProgressStyleModel",
      "_view_count": null,
      "_view_module": "@jupyter-widgets/base",
      "_view_module_version": "1.2.0",
      "_view_name": "StyleView",
      "bar_color": null,
      "description_width": "initial"
     }
    },
    "b7bb499a5d13463f96bc79d19ccfb272": {
     "model_module": "@jupyter-widgets/controls",
     "model_name": "HTMLModel",
     "state": {
      "_dom_classes": [],
      "_model_module": "@jupyter-widgets/controls",
      "_model_module_version": "1.5.0",
      "_model_name": "HTMLModel",
      "_view_count": null,
      "_view_module": "@jupyter-widgets/controls",
      "_view_module_version": "1.5.0",
      "_view_name": "HTMLView",
      "description": "",
      "description_tooltip": null,
      "layout": "IPY_MODEL_9069a1560abb495b875d4a3c50b46b10",
      "placeholder": "​",
      "style": "IPY_MODEL_48acc7e4aa6a41d4a075b52a46102b2e",
      "value": " 1000/1000 [00:05&lt;00:00, 169.83it/s]"
     }
    },
    "b8bf58a9a4254968ad6eb0728826cbba": {
     "model_module": "@jupyter-widgets/base",
     "model_name": "LayoutModel",
     "state": {
      "_model_module": "@jupyter-widgets/base",
      "_model_module_version": "1.2.0",
      "_model_name": "LayoutModel",
      "_view_count": null,
      "_view_module": "@jupyter-widgets/base",
      "_view_module_version": "1.2.0",
      "_view_name": "LayoutView",
      "align_content": null,
      "align_items": null,
      "align_self": null,
      "border": null,
      "bottom": null,
      "display": null,
      "flex": null,
      "flex_flow": null,
      "grid_area": null,
      "grid_auto_columns": null,
      "grid_auto_flow": null,
      "grid_auto_rows": null,
      "grid_column": null,
      "grid_gap": null,
      "grid_row": null,
      "grid_template_areas": null,
      "grid_template_columns": null,
      "grid_template_rows": null,
      "height": null,
      "justify_content": null,
      "justify_items": null,
      "left": null,
      "margin": null,
      "max_height": null,
      "max_width": null,
      "min_height": null,
      "min_width": null,
      "object_fit": null,
      "object_position": null,
      "order": null,
      "overflow": null,
      "overflow_x": null,
      "overflow_y": null,
      "padding": null,
      "right": null,
      "top": null,
      "visibility": null,
      "width": null
     }
    },
    "b9b763d210ba4977991fe528282c9868": {
     "model_module": "@jupyter-widgets/controls",
     "model_name": "HTMLModel",
     "state": {
      "_dom_classes": [],
      "_model_module": "@jupyter-widgets/controls",
      "_model_module_version": "1.5.0",
      "_model_name": "HTMLModel",
      "_view_count": null,
      "_view_module": "@jupyter-widgets/controls",
      "_view_module_version": "1.5.0",
      "_view_name": "HTMLView",
      "description": "",
      "description_tooltip": null,
      "layout": "IPY_MODEL_b31205fbb44a403a816d7026a6034ba9",
      "placeholder": "​",
      "style": "IPY_MODEL_233ff56608aa4ecea13ba8cbe5fadc2d",
      "value": " 1000/1000 [00:04&lt;00:00, 215.76it/s]"
     }
    },
    "bda573c924a34b4db745010a387b902c": {
     "model_module": "@jupyter-widgets/controls",
     "model_name": "HBoxModel",
     "state": {
      "_dom_classes": [],
      "_model_module": "@jupyter-widgets/controls",
      "_model_module_version": "1.5.0",
      "_model_name": "HBoxModel",
      "_view_count": null,
      "_view_module": "@jupyter-widgets/controls",
      "_view_module_version": "1.5.0",
      "_view_name": "HBoxView",
      "box_style": "",
      "children": [
       "IPY_MODEL_981d1213e33f439bbdbe6f533b7ed9f3",
       "IPY_MODEL_279fb3301a9b44c7861868ac0364a4c1"
      ],
      "layout": "IPY_MODEL_50c05c973ab84abca8a292493060b377"
     }
    },
    "be88785ebd53464da7ad09c81237a138": {
     "model_module": "@jupyter-widgets/controls",
     "model_name": "HTMLModel",
     "state": {
      "_dom_classes": [],
      "_model_module": "@jupyter-widgets/controls",
      "_model_module_version": "1.5.0",
      "_model_name": "HTMLModel",
      "_view_count": null,
      "_view_module": "@jupyter-widgets/controls",
      "_view_module_version": "1.5.0",
      "_view_name": "HTMLView",
      "description": "",
      "description_tooltip": null,
      "layout": "IPY_MODEL_3ade9daf4be949cb9446ead3e000b417",
      "placeholder": "​",
      "style": "IPY_MODEL_cdf00ee7851b4c9996973f31af809f14",
      "value": " 1000/1000 [01:16&lt;00:00, 13.04it/s]"
     }
    },
    "bf784e496e604748bced9c746a6d5e67": {
     "model_module": "@jupyter-widgets/controls",
     "model_name": "ProgressStyleModel",
     "state": {
      "_model_module": "@jupyter-widgets/controls",
      "_model_module_version": "1.5.0",
      "_model_name": "ProgressStyleModel",
      "_view_count": null,
      "_view_module": "@jupyter-widgets/base",
      "_view_module_version": "1.2.0",
      "_view_name": "StyleView",
      "bar_color": null,
      "description_width": "initial"
     }
    },
    "c0d5034e61f842cf9ecf36401e41af59": {
     "model_module": "@jupyter-widgets/controls",
     "model_name": "FloatProgressModel",
     "state": {
      "_dom_classes": [],
      "_model_module": "@jupyter-widgets/controls",
      "_model_module_version": "1.5.0",
      "_model_name": "FloatProgressModel",
      "_view_count": null,
      "_view_module": "@jupyter-widgets/controls",
      "_view_module_version": "1.5.0",
      "_view_name": "ProgressView",
      "bar_style": "success",
      "description": "100%",
      "description_tooltip": null,
      "layout": "IPY_MODEL_a07e56c7ea804d5f83a45e233d8d47cd",
      "max": 1000,
      "min": 0,
      "orientation": "horizontal",
      "style": "IPY_MODEL_bf784e496e604748bced9c746a6d5e67",
      "value": 1000
     }
    },
    "c6e8806d1f0149b69b7cddec1414eaf7": {
     "model_module": "@jupyter-widgets/controls",
     "model_name": "ProgressStyleModel",
     "state": {
      "_model_module": "@jupyter-widgets/controls",
      "_model_module_version": "1.5.0",
      "_model_name": "ProgressStyleModel",
      "_view_count": null,
      "_view_module": "@jupyter-widgets/base",
      "_view_module_version": "1.2.0",
      "_view_name": "StyleView",
      "bar_color": null,
      "description_width": "initial"
     }
    },
    "c728d04292e14fbf88a6999f6a05f7ed": {
     "model_module": "@jupyter-widgets/controls",
     "model_name": "ProgressStyleModel",
     "state": {
      "_model_module": "@jupyter-widgets/controls",
      "_model_module_version": "1.5.0",
      "_model_name": "ProgressStyleModel",
      "_view_count": null,
      "_view_module": "@jupyter-widgets/base",
      "_view_module_version": "1.2.0",
      "_view_name": "StyleView",
      "bar_color": null,
      "description_width": "initial"
     }
    },
    "c93f32c4186645b3aa8661411c3e8e9d": {
     "model_module": "@jupyter-widgets/controls",
     "model_name": "FloatProgressModel",
     "state": {
      "_dom_classes": [],
      "_model_module": "@jupyter-widgets/controls",
      "_model_module_version": "1.5.0",
      "_model_name": "FloatProgressModel",
      "_view_count": null,
      "_view_module": "@jupyter-widgets/controls",
      "_view_module_version": "1.5.0",
      "_view_name": "ProgressView",
      "bar_style": "success",
      "description": "100%",
      "description_tooltip": null,
      "layout": "IPY_MODEL_52a6b8af79a14efb954d4021d46262f0",
      "max": 2000,
      "min": 0,
      "orientation": "horizontal",
      "style": "IPY_MODEL_2173856eb87c4fdcb2801cc2ebb8f772",
      "value": 2000
     }
    },
    "cac5b01d121f4d49a548ac4f9c550e7e": {
     "model_module": "@jupyter-widgets/controls",
     "model_name": "DescriptionStyleModel",
     "state": {
      "_model_module": "@jupyter-widgets/controls",
      "_model_module_version": "1.5.0",
      "_model_name": "DescriptionStyleModel",
      "_view_count": null,
      "_view_module": "@jupyter-widgets/base",
      "_view_module_version": "1.2.0",
      "_view_name": "StyleView",
      "description_width": ""
     }
    },
    "cb787f067aa8479e889b44389fab2331": {
     "model_module": "@jupyter-widgets/controls",
     "model_name": "HBoxModel",
     "state": {
      "_dom_classes": [],
      "_model_module": "@jupyter-widgets/controls",
      "_model_module_version": "1.5.0",
      "_model_name": "HBoxModel",
      "_view_count": null,
      "_view_module": "@jupyter-widgets/controls",
      "_view_module_version": "1.5.0",
      "_view_name": "HBoxView",
      "box_style": "",
      "children": [
       "IPY_MODEL_64296a7c8c9a472aa95a46ac85e0f0d0",
       "IPY_MODEL_67234dbd653c476b91cd704882c900c0"
      ],
      "layout": "IPY_MODEL_6a3ddaefee73498998d88558f671877b"
     }
    },
    "cbc0f9e76ea34057a92dc9dfdd079d6d": {
     "model_module": "@jupyter-widgets/controls",
     "model_name": "FloatProgressModel",
     "state": {
      "_dom_classes": [],
      "_model_module": "@jupyter-widgets/controls",
      "_model_module_version": "1.5.0",
      "_model_name": "FloatProgressModel",
      "_view_count": null,
      "_view_module": "@jupyter-widgets/controls",
      "_view_module_version": "1.5.0",
      "_view_name": "ProgressView",
      "bar_style": "success",
      "description": "100%",
      "description_tooltip": null,
      "layout": "IPY_MODEL_a8fac76b146e43699113b5bce882750a",
      "max": 1000,
      "min": 0,
      "orientation": "horizontal",
      "style": "IPY_MODEL_4262c9db23d94fc5ab7c1042d348059f",
      "value": 1000
     }
    },
    "cdf00ee7851b4c9996973f31af809f14": {
     "model_module": "@jupyter-widgets/controls",
     "model_name": "DescriptionStyleModel",
     "state": {
      "_model_module": "@jupyter-widgets/controls",
      "_model_module_version": "1.5.0",
      "_model_name": "DescriptionStyleModel",
      "_view_count": null,
      "_view_module": "@jupyter-widgets/base",
      "_view_module_version": "1.2.0",
      "_view_name": "StyleView",
      "description_width": ""
     }
    },
    "ce7400b64925436faef6be247e38cfa3": {
     "model_module": "@jupyter-widgets/base",
     "model_name": "LayoutModel",
     "state": {
      "_model_module": "@jupyter-widgets/base",
      "_model_module_version": "1.2.0",
      "_model_name": "LayoutModel",
      "_view_count": null,
      "_view_module": "@jupyter-widgets/base",
      "_view_module_version": "1.2.0",
      "_view_name": "LayoutView",
      "align_content": null,
      "align_items": null,
      "align_self": null,
      "border": null,
      "bottom": null,
      "display": null,
      "flex": null,
      "flex_flow": null,
      "grid_area": null,
      "grid_auto_columns": null,
      "grid_auto_flow": null,
      "grid_auto_rows": null,
      "grid_column": null,
      "grid_gap": null,
      "grid_row": null,
      "grid_template_areas": null,
      "grid_template_columns": null,
      "grid_template_rows": null,
      "height": null,
      "justify_content": null,
      "justify_items": null,
      "left": null,
      "margin": null,
      "max_height": null,
      "max_width": null,
      "min_height": null,
      "min_width": null,
      "object_fit": null,
      "object_position": null,
      "order": null,
      "overflow": null,
      "overflow_x": null,
      "overflow_y": null,
      "padding": null,
      "right": null,
      "top": null,
      "visibility": null,
      "width": null
     }
    },
    "d5f26d4446594a278d6ba7fd71763a21": {
     "model_module": "@jupyter-widgets/controls",
     "model_name": "ProgressStyleModel",
     "state": {
      "_model_module": "@jupyter-widgets/controls",
      "_model_module_version": "1.5.0",
      "_model_name": "ProgressStyleModel",
      "_view_count": null,
      "_view_module": "@jupyter-widgets/base",
      "_view_module_version": "1.2.0",
      "_view_name": "StyleView",
      "bar_color": null,
      "description_width": "initial"
     }
    },
    "d92062dede8b48859ac0aa9c6222ee0a": {
     "model_module": "@jupyter-widgets/base",
     "model_name": "LayoutModel",
     "state": {
      "_model_module": "@jupyter-widgets/base",
      "_model_module_version": "1.2.0",
      "_model_name": "LayoutModel",
      "_view_count": null,
      "_view_module": "@jupyter-widgets/base",
      "_view_module_version": "1.2.0",
      "_view_name": "LayoutView",
      "align_content": null,
      "align_items": null,
      "align_self": null,
      "border": null,
      "bottom": null,
      "display": null,
      "flex": null,
      "flex_flow": null,
      "grid_area": null,
      "grid_auto_columns": null,
      "grid_auto_flow": null,
      "grid_auto_rows": null,
      "grid_column": null,
      "grid_gap": null,
      "grid_row": null,
      "grid_template_areas": null,
      "grid_template_columns": null,
      "grid_template_rows": null,
      "height": null,
      "justify_content": null,
      "justify_items": null,
      "left": null,
      "margin": null,
      "max_height": null,
      "max_width": null,
      "min_height": null,
      "min_width": null,
      "object_fit": null,
      "object_position": null,
      "order": null,
      "overflow": null,
      "overflow_x": null,
      "overflow_y": null,
      "padding": null,
      "right": null,
      "top": null,
      "visibility": null,
      "width": null
     }
    },
    "dad6fd12bd9549468bc94e52ab322546": {
     "model_module": "@jupyter-widgets/controls",
     "model_name": "FloatProgressModel",
     "state": {
      "_dom_classes": [],
      "_model_module": "@jupyter-widgets/controls",
      "_model_module_version": "1.5.0",
      "_model_name": "FloatProgressModel",
      "_view_count": null,
      "_view_module": "@jupyter-widgets/controls",
      "_view_module_version": "1.5.0",
      "_view_name": "ProgressView",
      "bar_style": "success",
      "description": "100%",
      "description_tooltip": null,
      "layout": "IPY_MODEL_2e6474d4d4574757bda35c3e024be21d",
      "max": 1000,
      "min": 0,
      "orientation": "horizontal",
      "style": "IPY_MODEL_a8490fd4d6804acb936695839356f06d",
      "value": 1000
     }
    },
    "dbc0d8d3b5d1414eb985a2b71a948da7": {
     "model_module": "@jupyter-widgets/base",
     "model_name": "LayoutModel",
     "state": {
      "_model_module": "@jupyter-widgets/base",
      "_model_module_version": "1.2.0",
      "_model_name": "LayoutModel",
      "_view_count": null,
      "_view_module": "@jupyter-widgets/base",
      "_view_module_version": "1.2.0",
      "_view_name": "LayoutView",
      "align_content": null,
      "align_items": null,
      "align_self": null,
      "border": null,
      "bottom": null,
      "display": null,
      "flex": null,
      "flex_flow": null,
      "grid_area": null,
      "grid_auto_columns": null,
      "grid_auto_flow": null,
      "grid_auto_rows": null,
      "grid_column": null,
      "grid_gap": null,
      "grid_row": null,
      "grid_template_areas": null,
      "grid_template_columns": null,
      "grid_template_rows": null,
      "height": null,
      "justify_content": null,
      "justify_items": null,
      "left": null,
      "margin": null,
      "max_height": null,
      "max_width": null,
      "min_height": null,
      "min_width": null,
      "object_fit": null,
      "object_position": null,
      "order": null,
      "overflow": null,
      "overflow_x": null,
      "overflow_y": null,
      "padding": null,
      "right": null,
      "top": null,
      "visibility": null,
      "width": null
     }
    },
    "dd68768d4c4d4ac88b71589263ae36b5": {
     "model_module": "@jupyter-widgets/controls",
     "model_name": "HBoxModel",
     "state": {
      "_dom_classes": [],
      "_model_module": "@jupyter-widgets/controls",
      "_model_module_version": "1.5.0",
      "_model_name": "HBoxModel",
      "_view_count": null,
      "_view_module": "@jupyter-widgets/controls",
      "_view_module_version": "1.5.0",
      "_view_name": "HBoxView",
      "box_style": "",
      "children": [
       "IPY_MODEL_c0d5034e61f842cf9ecf36401e41af59",
       "IPY_MODEL_be88785ebd53464da7ad09c81237a138"
      ],
      "layout": "IPY_MODEL_4f2321db9aa24d25b059b43866cb0382"
     }
    },
    "ddedb77d61ae4b9ab1e4684a9c8e0e2b": {
     "model_module": "@jupyter-widgets/base",
     "model_name": "LayoutModel",
     "state": {
      "_model_module": "@jupyter-widgets/base",
      "_model_module_version": "1.2.0",
      "_model_name": "LayoutModel",
      "_view_count": null,
      "_view_module": "@jupyter-widgets/base",
      "_view_module_version": "1.2.0",
      "_view_name": "LayoutView",
      "align_content": null,
      "align_items": null,
      "align_self": null,
      "border": null,
      "bottom": null,
      "display": null,
      "flex": null,
      "flex_flow": null,
      "grid_area": null,
      "grid_auto_columns": null,
      "grid_auto_flow": null,
      "grid_auto_rows": null,
      "grid_column": null,
      "grid_gap": null,
      "grid_row": null,
      "grid_template_areas": null,
      "grid_template_columns": null,
      "grid_template_rows": null,
      "height": null,
      "justify_content": null,
      "justify_items": null,
      "left": null,
      "margin": null,
      "max_height": null,
      "max_width": null,
      "min_height": null,
      "min_width": null,
      "object_fit": null,
      "object_position": null,
      "order": null,
      "overflow": null,
      "overflow_x": null,
      "overflow_y": null,
      "padding": null,
      "right": null,
      "top": null,
      "visibility": null,
      "width": null
     }
    },
    "de3240bc5e2e44d69083fe3dbb09f20b": {
     "model_module": "@jupyter-widgets/controls",
     "model_name": "HTMLModel",
     "state": {
      "_dom_classes": [],
      "_model_module": "@jupyter-widgets/controls",
      "_model_module_version": "1.5.0",
      "_model_name": "HTMLModel",
      "_view_count": null,
      "_view_module": "@jupyter-widgets/controls",
      "_view_module_version": "1.5.0",
      "_view_name": "HTMLView",
      "description": "",
      "description_tooltip": null,
      "layout": "IPY_MODEL_3cccbf5d81db4b85b879ef0b2019a425",
      "placeholder": "​",
      "style": "IPY_MODEL_cac5b01d121f4d49a548ac4f9c550e7e",
      "value": " 1000/1000 [00:05&lt;00:00, 173.16it/s]"
     }
    },
    "e4323b5372b84b9ea6d182bbaac352ea": {
     "model_module": "@jupyter-widgets/base",
     "model_name": "LayoutModel",
     "state": {
      "_model_module": "@jupyter-widgets/base",
      "_model_module_version": "1.2.0",
      "_model_name": "LayoutModel",
      "_view_count": null,
      "_view_module": "@jupyter-widgets/base",
      "_view_module_version": "1.2.0",
      "_view_name": "LayoutView",
      "align_content": null,
      "align_items": null,
      "align_self": null,
      "border": null,
      "bottom": null,
      "display": null,
      "flex": null,
      "flex_flow": null,
      "grid_area": null,
      "grid_auto_columns": null,
      "grid_auto_flow": null,
      "grid_auto_rows": null,
      "grid_column": null,
      "grid_gap": null,
      "grid_row": null,
      "grid_template_areas": null,
      "grid_template_columns": null,
      "grid_template_rows": null,
      "height": null,
      "justify_content": null,
      "justify_items": null,
      "left": null,
      "margin": null,
      "max_height": null,
      "max_width": null,
      "min_height": null,
      "min_width": null,
      "object_fit": null,
      "object_position": null,
      "order": null,
      "overflow": null,
      "overflow_x": null,
      "overflow_y": null,
      "padding": null,
      "right": null,
      "top": null,
      "visibility": null,
      "width": null
     }
    },
    "e594ea6fb7514ae9a34703d200fe159c": {
     "model_module": "@jupyter-widgets/base",
     "model_name": "LayoutModel",
     "state": {
      "_model_module": "@jupyter-widgets/base",
      "_model_module_version": "1.2.0",
      "_model_name": "LayoutModel",
      "_view_count": null,
      "_view_module": "@jupyter-widgets/base",
      "_view_module_version": "1.2.0",
      "_view_name": "LayoutView",
      "align_content": null,
      "align_items": null,
      "align_self": null,
      "border": null,
      "bottom": null,
      "display": null,
      "flex": null,
      "flex_flow": null,
      "grid_area": null,
      "grid_auto_columns": null,
      "grid_auto_flow": null,
      "grid_auto_rows": null,
      "grid_column": null,
      "grid_gap": null,
      "grid_row": null,
      "grid_template_areas": null,
      "grid_template_columns": null,
      "grid_template_rows": null,
      "height": null,
      "justify_content": null,
      "justify_items": null,
      "left": null,
      "margin": null,
      "max_height": null,
      "max_width": null,
      "min_height": null,
      "min_width": null,
      "object_fit": null,
      "object_position": null,
      "order": null,
      "overflow": null,
      "overflow_x": null,
      "overflow_y": null,
      "padding": null,
      "right": null,
      "top": null,
      "visibility": null,
      "width": null
     }
    },
    "e6cb401839b4444da790bd3425ff0df8": {
     "model_module": "@jupyter-widgets/base",
     "model_name": "LayoutModel",
     "state": {
      "_model_module": "@jupyter-widgets/base",
      "_model_module_version": "1.2.0",
      "_model_name": "LayoutModel",
      "_view_count": null,
      "_view_module": "@jupyter-widgets/base",
      "_view_module_version": "1.2.0",
      "_view_name": "LayoutView",
      "align_content": null,
      "align_items": null,
      "align_self": null,
      "border": null,
      "bottom": null,
      "display": null,
      "flex": null,
      "flex_flow": null,
      "grid_area": null,
      "grid_auto_columns": null,
      "grid_auto_flow": null,
      "grid_auto_rows": null,
      "grid_column": null,
      "grid_gap": null,
      "grid_row": null,
      "grid_template_areas": null,
      "grid_template_columns": null,
      "grid_template_rows": null,
      "height": null,
      "justify_content": null,
      "justify_items": null,
      "left": null,
      "margin": null,
      "max_height": null,
      "max_width": null,
      "min_height": null,
      "min_width": null,
      "object_fit": null,
      "object_position": null,
      "order": null,
      "overflow": null,
      "overflow_x": null,
      "overflow_y": null,
      "padding": null,
      "right": null,
      "top": null,
      "visibility": null,
      "width": null
     }
    },
    "e7ac68c5834a43809ad13ed9978bfa4a": {
     "model_module": "@jupyter-widgets/base",
     "model_name": "LayoutModel",
     "state": {
      "_model_module": "@jupyter-widgets/base",
      "_model_module_version": "1.2.0",
      "_model_name": "LayoutModel",
      "_view_count": null,
      "_view_module": "@jupyter-widgets/base",
      "_view_module_version": "1.2.0",
      "_view_name": "LayoutView",
      "align_content": null,
      "align_items": null,
      "align_self": null,
      "border": null,
      "bottom": null,
      "display": null,
      "flex": null,
      "flex_flow": null,
      "grid_area": null,
      "grid_auto_columns": null,
      "grid_auto_flow": null,
      "grid_auto_rows": null,
      "grid_column": null,
      "grid_gap": null,
      "grid_row": null,
      "grid_template_areas": null,
      "grid_template_columns": null,
      "grid_template_rows": null,
      "height": null,
      "justify_content": null,
      "justify_items": null,
      "left": null,
      "margin": null,
      "max_height": null,
      "max_width": null,
      "min_height": null,
      "min_width": null,
      "object_fit": null,
      "object_position": null,
      "order": null,
      "overflow": null,
      "overflow_x": null,
      "overflow_y": null,
      "padding": null,
      "right": null,
      "top": null,
      "visibility": null,
      "width": null
     }
    },
    "ee2d7e24c38b43aaa7ef7657f5698687": {
     "model_module": "@jupyter-widgets/base",
     "model_name": "LayoutModel",
     "state": {
      "_model_module": "@jupyter-widgets/base",
      "_model_module_version": "1.2.0",
      "_model_name": "LayoutModel",
      "_view_count": null,
      "_view_module": "@jupyter-widgets/base",
      "_view_module_version": "1.2.0",
      "_view_name": "LayoutView",
      "align_content": null,
      "align_items": null,
      "align_self": null,
      "border": null,
      "bottom": null,
      "display": null,
      "flex": null,
      "flex_flow": null,
      "grid_area": null,
      "grid_auto_columns": null,
      "grid_auto_flow": null,
      "grid_auto_rows": null,
      "grid_column": null,
      "grid_gap": null,
      "grid_row": null,
      "grid_template_areas": null,
      "grid_template_columns": null,
      "grid_template_rows": null,
      "height": null,
      "justify_content": null,
      "justify_items": null,
      "left": null,
      "margin": null,
      "max_height": null,
      "max_width": null,
      "min_height": null,
      "min_width": null,
      "object_fit": null,
      "object_position": null,
      "order": null,
      "overflow": null,
      "overflow_x": null,
      "overflow_y": null,
      "padding": null,
      "right": null,
      "top": null,
      "visibility": null,
      "width": null
     }
    },
    "f3c5663942104ebdbb3af20814566b59": {
     "model_module": "@jupyter-widgets/base",
     "model_name": "LayoutModel",
     "state": {
      "_model_module": "@jupyter-widgets/base",
      "_model_module_version": "1.2.0",
      "_model_name": "LayoutModel",
      "_view_count": null,
      "_view_module": "@jupyter-widgets/base",
      "_view_module_version": "1.2.0",
      "_view_name": "LayoutView",
      "align_content": null,
      "align_items": null,
      "align_self": null,
      "border": null,
      "bottom": null,
      "display": null,
      "flex": null,
      "flex_flow": null,
      "grid_area": null,
      "grid_auto_columns": null,
      "grid_auto_flow": null,
      "grid_auto_rows": null,
      "grid_column": null,
      "grid_gap": null,
      "grid_row": null,
      "grid_template_areas": null,
      "grid_template_columns": null,
      "grid_template_rows": null,
      "height": null,
      "justify_content": null,
      "justify_items": null,
      "left": null,
      "margin": null,
      "max_height": null,
      "max_width": null,
      "min_height": null,
      "min_width": null,
      "object_fit": null,
      "object_position": null,
      "order": null,
      "overflow": null,
      "overflow_x": null,
      "overflow_y": null,
      "padding": null,
      "right": null,
      "top": null,
      "visibility": null,
      "width": null
     }
    },
    "f4652ba522304b6aa86d263def9a75a7": {
     "model_module": "@jupyter-widgets/base",
     "model_name": "LayoutModel",
     "state": {
      "_model_module": "@jupyter-widgets/base",
      "_model_module_version": "1.2.0",
      "_model_name": "LayoutModel",
      "_view_count": null,
      "_view_module": "@jupyter-widgets/base",
      "_view_module_version": "1.2.0",
      "_view_name": "LayoutView",
      "align_content": null,
      "align_items": null,
      "align_self": null,
      "border": null,
      "bottom": null,
      "display": null,
      "flex": null,
      "flex_flow": null,
      "grid_area": null,
      "grid_auto_columns": null,
      "grid_auto_flow": null,
      "grid_auto_rows": null,
      "grid_column": null,
      "grid_gap": null,
      "grid_row": null,
      "grid_template_areas": null,
      "grid_template_columns": null,
      "grid_template_rows": null,
      "height": null,
      "justify_content": null,
      "justify_items": null,
      "left": null,
      "margin": null,
      "max_height": null,
      "max_width": null,
      "min_height": null,
      "min_width": null,
      "object_fit": null,
      "object_position": null,
      "order": null,
      "overflow": null,
      "overflow_x": null,
      "overflow_y": null,
      "padding": null,
      "right": null,
      "top": null,
      "visibility": null,
      "width": null
     }
    },
    "fcd07a3749514ef9bba1c5afb9b58964": {
     "model_module": "@jupyter-widgets/controls",
     "model_name": "ProgressStyleModel",
     "state": {
      "_model_module": "@jupyter-widgets/controls",
      "_model_module_version": "1.5.0",
      "_model_name": "ProgressStyleModel",
      "_view_count": null,
      "_view_module": "@jupyter-widgets/base",
      "_view_module_version": "1.2.0",
      "_view_name": "StyleView",
      "bar_color": null,
      "description_width": "initial"
     }
    }
   }
  }
 },
 "nbformat": 4,
 "nbformat_minor": 1
}
