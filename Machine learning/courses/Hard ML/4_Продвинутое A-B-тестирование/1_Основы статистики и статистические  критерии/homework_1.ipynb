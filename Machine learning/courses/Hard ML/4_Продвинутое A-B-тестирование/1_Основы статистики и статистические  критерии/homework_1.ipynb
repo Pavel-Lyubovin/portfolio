{
 "cells": [
  {
   "cell_type": "markdown",
   "id": "fb41f1eb",
   "metadata": {},
   "source": [
    "Тема: Основы статистики и статистические критерии\n",
    "\n",
    "Видео лекции:  \n",
    "https://www.youtube.com/watch?v=v4ydaa-94nI\n",
    "    \n",
    "Видео семинара:  \n",
    "https://www.youtube.com/watch?v=VKuY4ApfH6M"
   ]
  },
  {
   "cell_type": "markdown",
   "id": "f885b4b1",
   "metadata": {},
   "source": [
    "# Домашнее задание к 1-му уроку"
   ]
  },
  {
   "cell_type": "markdown",
   "id": "b2877bd9",
   "metadata": {},
   "source": [
    "## Задача 1. Оценка вероятности ошибки I рода.\n",
    "Напишите функцию для оценки ошибки первого рода."
   ]
  },
  {
   "cell_type": "code",
   "execution_count": 1,
   "id": "baeb3360",
   "metadata": {},
   "outputs": [],
   "source": [
    "import numpy as np\n",
    "import pandas as pd\n",
    "from scipy.stats import ttest_ind\n",
    "\n",
    "\n",
    "def estimate_first_type_error(df_pilot_group, df_control_group, metric_name, alpha=0.05, n_iter=10000, seed=None):\n",
    "    \"\"\"Оцениваем ошибку первого рода.\n",
    "\n",
    "    Бутстрепим выборки из пилотной и контрольной групп тех же размеров, считаем долю случаев с значимыми отличиями.\n",
    "    \n",
    "    df_pilot_group - pd.DataFrame, датафрейм с данными пилотной группы\n",
    "    df_control_group - pd.DataFrame, датафрейм с данными контрольной группы\n",
    "    metric_name - str, названия столбца с метрикой\n",
    "    alpha - float, уровень значимости для статтеста\n",
    "    n_iter - int, кол-во итераций бутстрапа\n",
    "    seed - int or None, состояние генератора случайных чисел.\n",
    "\n",
    "    return - float, ошибка первого рода\n",
    "    \"\"\"\n",
    "    p_vals = []\n",
    "    for _ in range(n_iter):\n",
    "        a = df_control_group[metric_name].sample(frac=1, replace=True, random_state=seed)\n",
    "        b = df_pilot_group[metric_name].sample(frac=1, replace=True, random_state=seed)\n",
    "        _, p_val = ttest_ind(a, b)\n",
    "        p_vals.append(p_val)\n",
    "        \n",
    "    res = sum([1 if p_val < alpha else 0 for p_val in p_vals]) / n_iter\n",
    "    return res      "
   ]
  },
  {
   "cell_type": "code",
   "execution_count": 3,
   "id": "50930b18",
   "metadata": {},
   "outputs": [
    {
     "data": {
      "text/plain": [
       "0.0959"
      ]
     },
     "execution_count": 3,
     "metadata": {},
     "output_type": "execute_result"
    }
   ],
   "source": [
    "df_1 = pd.DataFrame({'vals': np.random.normal(0, 1, size=1000)})\n",
    "df_2 = pd.DataFrame({'vals': np.random.normal(0, 1, size=1000)})\n",
    "\n",
    "estimate_first_type_error(df_1, df_2, 'vals')"
   ]
  },
  {
   "cell_type": "code",
   "execution_count": null,
   "id": "515bf3ff",
   "metadata": {},
   "outputs": [],
   "source": []
  },
  {
   "cell_type": "markdown",
   "id": "992cf401",
   "metadata": {},
   "source": [
    "## Задача 2. Оценка вероятности ошибки II рода.\n",
    "\n",
    "Напишите функцию для оценки ошибки второго рода.\n",
    "\n",
    "Добавлять эффект к экспериментальной группе можно разными способами. Способ добавления эффекта может повлиять на результаты статистических критериев и оценку вероятности ошибки II рода. При выполнении задания считайте, что **эффект распределён равномерно** по всем объектам экспериментальной группы, то есть метрики объектов в среднем увеличиваются на **одинаковую величину**."
   ]
  },
  {
   "cell_type": "code",
   "execution_count": 16,
   "id": "c80e48e9",
   "metadata": {},
   "outputs": [],
   "source": [
    "import numpy as np\n",
    "import pandas as pd\n",
    "from scipy.stats import ttest_ind\n",
    "\n",
    "\n",
    "def estimate_second_type_error(df_pilot_group, df_control_group, metric_name, effects, alpha=0.05, n_iter=10000, seed=None):\n",
    "    \"\"\"Оцениваем ошибки второго рода.\n",
    "\n",
    "    Бутстрепим выборки из пилотной и контрольной групп тех же размеров, добавляем эффект к пилотной группе,\n",
    "    считаем долю случаев без значимых отличий.\n",
    "    \n",
    "    df_pilot_group - pd.DataFrame, датафрейм с данными пилотной группы\n",
    "    df_control_group - pd.DataFrame, датафрейм с данными контрольной группы\n",
    "    metric_name - str, названия столбца с метрикой\n",
    "    effects - List[float], список размеров эффектов ([1.03] - увеличение на 3%).\n",
    "    alpha - float, уровень значимости для статтеста\n",
    "    n_iter - int, кол-во итераций бутстрапа\n",
    "    seed - int or None, состояние генератора случайных чисел\n",
    "\n",
    "    return - dict, {размер_эффекта: ошибка_второго_рода}\n",
    "    \"\"\"\n",
    "    dict_res = dict()\n",
    "    for effect in effects:\n",
    "        p_vals = []\n",
    "        for _ in range(n_iter):\n",
    "            a = df_control_group[metric_name].sample(frac=1, replace=True, random_state=seed)\n",
    "            b = df_pilot_group[metric_name].sample(frac=1, replace=True, random_state=seed)\n",
    "            b *= effect\n",
    "            _, p_val = ttest_ind(a, b)\n",
    "            p_vals.append(p_val)\n",
    "\n",
    "        res = sum([1 if p_val >= alpha else 0 for p_val in p_vals]) / n_iter\n",
    "        dict_res[effect] = res\n",
    "        \n",
    "    return dict_res  "
   ]
  },
  {
   "cell_type": "code",
   "execution_count": 17,
   "id": "7771f89d",
   "metadata": {},
   "outputs": [
    {
     "data": {
      "text/plain": [
       "{1.03: 0.8838, 1.05: 0.7796, 1.1: 0.3828}"
      ]
     },
     "execution_count": 17,
     "metadata": {},
     "output_type": "execute_result"
    }
   ],
   "source": [
    "SIZE = 1000\n",
    "df_1 = pd.DataFrame({'vals': np.random.normal(loc=1, scale=1, size=SIZE)})\n",
    "df_2 = pd.DataFrame({'vals': np.random.normal(loc=1, scale=1, size=SIZE)})\n",
    "effects = [1.03, 1.05, 1.10]\n",
    "\n",
    "estimate_second_type_error(df_1, df_2, 'vals', effects)"
   ]
  },
  {
   "cell_type": "code",
   "execution_count": null,
   "id": "69ba939a",
   "metadata": {},
   "outputs": [],
   "source": []
  }
 ],
 "metadata": {
  "kernelspec": {
   "display_name": "Python 3",
   "language": "python",
   "name": "python3"
  },
  "language_info": {
   "codemirror_mode": {
    "name": "ipython",
    "version": 3
   },
   "file_extension": ".py",
   "mimetype": "text/x-python",
   "name": "python",
   "nbconvert_exporter": "python",
   "pygments_lexer": "ipython3",
   "version": "3.9.7"
  }
 },
 "nbformat": 4,
 "nbformat_minor": 5
}
