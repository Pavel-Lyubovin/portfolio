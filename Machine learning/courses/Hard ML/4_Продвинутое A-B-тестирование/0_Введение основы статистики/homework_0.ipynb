{
 "cells": [
  {
   "cell_type": "markdown",
   "id": "67ffdcd5",
   "metadata": {},
   "source": [
    "# Задача 1."
   ]
  },
  {
   "cell_type": "markdown",
   "id": "a83e52f5",
   "metadata": {},
   "source": [
    "Напишите функцию, которая будет вычислять доверительный интервал для оценки параметра p распределения Бернулли B(p), используя свойство асимптотической нормальности ОМП.\n",
    "\n",
    "При решении используйте приближение zα/2​=1.96."
   ]
  },
  {
   "cell_type": "code",
   "execution_count": 26,
   "id": "f7d380da",
   "metadata": {},
   "outputs": [],
   "source": [
    "import numpy as np\n",
    "\n",
    "\n",
    "def get_bernoulli_confidence_interval(values: np.array):\n",
    "    \"\"\"Вычисляет доверительный интервал для параметра распределения Бернулли.\n",
    "\n",
    "    :param values: массив элементов из нулей и единиц.\n",
    "    :return (left_bound, right_bound): границы доверительного интервала.\n",
    "    \"\"\"\n",
    "    # Кол-во наблюдений\n",
    "    n =  values.shape[0]\n",
    "    # Оценка параметра p распределения Бернулли\n",
    "    p_hat = values.sum() / n\n",
    "    # Оценка математического ожидания распределения Бернулли\n",
    "    mu_hat = p_hat\n",
    "    # Оценка дисперсии распределения Бернулли\n",
    "    d_hat = p_hat * (1 - p_hat)\n",
    "    # Стандартная ошибка\n",
    "    se = (d_hat / n) ** 0.5\n",
    "    # Z-коэффициент для альфа/2, если альфа = 0.05\n",
    "    Z_ALPHA_HALF = 1.96\n",
    "    \n",
    "    # Зная мат. ожидание, дисперсию и z, рассчитываем доверительный интервал по центральной предельной теореме\n",
    "    left_bound = mu_hat - Z_ALPHA_HALF * se\n",
    "    right_bound = mu_hat + Z_ALPHA_HALF * se\n",
    "    \n",
    "    # Т.к. у нас распределение Бернулли, то оно по определению ограничено 0 и 1\n",
    "    # расчетный доверительный интервал  нужно тоже ограничить\n",
    "    left_bound = max(0, left_bound)\n",
    "    right_bound = min(1, right_bound)\n",
    "    \n",
    "    return left_bound, right_bound"
   ]
  },
  {
   "cell_type": "code",
   "execution_count": 27,
   "id": "cca0b554",
   "metadata": {},
   "outputs": [
    {
     "data": {
      "text/plain": [
       "(0, 0.447922568557201)"
      ]
     },
     "execution_count": 27,
     "metadata": {},
     "output_type": "execute_result"
    }
   ],
   "source": [
    "get_bernoulli_confidence_interval(np.array([0, 0, 0, 0, 0, 0, 0, 0, 1, 1]))"
   ]
  },
  {
   "cell_type": "code",
   "execution_count": null,
   "id": "dbc0d657",
   "metadata": {},
   "outputs": [],
   "source": []
  }
 ],
 "metadata": {
  "kernelspec": {
   "display_name": "Python 3",
   "language": "python",
   "name": "python3"
  },
  "language_info": {
   "codemirror_mode": {
    "name": "ipython",
    "version": 3
   },
   "file_extension": ".py",
   "mimetype": "text/x-python",
   "name": "python",
   "nbconvert_exporter": "python",
   "pygments_lexer": "ipython3",
   "version": "3.9.7"
  }
 },
 "nbformat": 4,
 "nbformat_minor": 5
}
