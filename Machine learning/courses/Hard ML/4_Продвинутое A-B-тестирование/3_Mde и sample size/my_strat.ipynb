{
 "cells": [
  {
   "cell_type": "markdown",
   "metadata": {},
   "source": [
    "# Повторяю ноутбук Валерия Бабушкина про снижение дисперсии с помощью стратификации"
   ]
  },
  {
   "cell_type": "code",
   "execution_count": 1,
   "metadata": {},
   "outputs": [],
   "source": [
    "import numpy as np\n",
    "from tqdm import tqdm\n",
    "from scipy.stats import norm"
   ]
  },
  {
   "cell_type": "code",
   "execution_count": 25,
   "metadata": {},
   "outputs": [],
   "source": [
    "def show_diff_se(sample_size: int, n_iter: int = 100):\n",
    "    \n",
    "    # Истинные размеры страт в генеральной совокупности\n",
    "    strat_1_len = 10 ** 7\n",
    "    strat_2_len = 10 ** 6\n",
    "    \n",
    "    # Список попадание СКО в доверительный интервал для каждой итерации\n",
    "    in_ci_acc = []\n",
    "    \n",
    "    for _ in tqdm(range(n_iter)):\n",
    "        # Общий размер генеральной совокупности\n",
    "        len_gen = strat_1_len + strat_2_len\n",
    "        # Страты ген. совокупности\n",
    "        gen_strat_1 = np.random.normal(100, 10, size=strat_1_len)\n",
    "        gen_strat_2 = np.random.normal(50, 5, size=strat_2_len)\n",
    "        # Генеральная совокупность\n",
    "        gen = np.concatenate([gen_strat_1, gen_strat_2])\n",
    "        gen_mean = np.mean(gen)\n",
    "        \n",
    "        # Размер сэмпла из генеральной совокупности для оценки весов страт\n",
    "        valuation_sample_size = int(0.1 * len_gen)\n",
    "        # Участники эксперимента до эксперимента\n",
    "        idx = np.random.choice(range(len(gen)), size=valuation_sample_size, replace=False)\n",
    "        strat_1_before = gen[idx[idx <= strat_1_len]]\n",
    "        strat_2_before = gen[idx[idx > strat_1_len]]\n",
    "        # Участники эксперимента после экспериента\n",
    "        idx = np.random.choice(range(len(gen)), size=valuation_sample_size, replace=False)\n",
    "        strat_1_after = gen[idx[idx <= strat_1_len]]\n",
    "        strat_2_after = gen[idx[idx > strat_1_len]]\n",
    "        exp_after = np.concatenate([strat_1_after, strat_2_after])\n",
    "        # веса страт до эксперимента. Важно! именно ДО эксперимента\n",
    "        w1 = strat_1_before.shape[0] / valuation_sample_size\n",
    "        w2 = strat_2_before.shape[0] / valuation_sample_size\n",
    "        \n",
    "        # сэмплирую участников эксперимента после эксперимента\n",
    "        idx = np.random.choice(range(len(exp_after)), size=sample_size, replace=False)\n",
    "        strat_1_after_samples = exp_after[idx[idx <= len(strat_1_after)]]\n",
    "        strat_2_after_samples = exp_after[idx[idx > len(strat_1_after)]]\n",
    "    \n",
    "        strat_se = ((strat_1_after_samples.var() * w1 + strat_2_after_samples.var() * w2) / sample_size) ** 0.5\n",
    "        strat_mean = strat_1_after_samples.mean() * w1 + strat_2_after_samples.mean() * w2\n",
    "        \n",
    "        # z-score для 95% доверительного интервала (двустороннего) ~1.96\n",
    "        z_score = norm.ppf(1 - 0.05 / 2)\n",
    "        in_ci = 1 if (gen_mean >= strat_mean - z_score * strat_se) and (gen_mean <= strat_mean + z_score * strat_se) else 0\n",
    "        in_ci_acc.append(in_ci)\n",
    "        \n",
    "    \n",
    "    print(f\"Доля попаданий стратифицированого СКО в доверительный интервал: {sum(in_ci_acc) / n_iter}\")\n",
    "    print(f\"Стратифицированное среднее: {strat_mean}\")\n",
    "    print(f\"Стратифицированное СКО: {strat_se}\")\n",
    "    \n",
    "    # Оценка СКО через бутстрап\n",
    "    exp_b = np.random.choice(exp_after, size=(sample_size, 1000), replace=True)\n",
    "    std_b = np.std(np.mean(exp_b, axis=0))\n",
    "    print(f\"СКО через bootstrap: {std_b}\")"
   ]
  },
  {
   "cell_type": "code",
   "execution_count": 29,
   "metadata": {},
   "outputs": [
    {
     "name": "stderr",
     "output_type": "stream",
     "text": [
      "100%|█████████████████████████████████████████| 100/100 [06:12<00:00,  3.72s/it]"
     ]
    },
    {
     "name": "stdout",
     "output_type": "stream",
     "text": [
      "Доля попаданий стратифицированого СКО в доверительный интервал: 0.96\n",
      "Стратифицированное среднее: 95.28660270267949\n",
      "Стратифицированное СКО: 0.31009440393100385\n",
      "СКО через bootstrap: 0.5242678279698993\n"
     ]
    },
    {
     "name": "stderr",
     "output_type": "stream",
     "text": [
      "\n"
     ]
    }
   ],
   "source": [
    "show_diff_se(1000, 100)"
   ]
  },
  {
   "cell_type": "code",
   "execution_count": 28,
   "metadata": {
    "scrolled": false
   },
   "outputs": [
    {
     "name": "stderr",
     "output_type": "stream",
     "text": [
      "100%|███████████████████████████████████████████| 10/10 [00:35<00:00,  3.59s/it]"
     ]
    },
    {
     "name": "stdout",
     "output_type": "stream",
     "text": [
      "Доля попаданий стратифицированого СКО в доверительный интервал: 0.9\n",
      "Стратифицированное среднее: 95.76268927763243\n",
      "Стратифицированное СКО: 0.3129756305418904\n",
      "СКО через bootstrap: 0.5541631321072553\n"
     ]
    },
    {
     "name": "stderr",
     "output_type": "stream",
     "text": [
      "\n"
     ]
    }
   ],
   "source": [
    "show_diff_se(1000, 10)"
   ]
  },
  {
   "cell_type": "markdown",
   "metadata": {},
   "source": [
    "## Вариант, который был в видео\n",
    "https://www.youtube.com/watch?v=F-6CXV7r1C0"
   ]
  },
  {
   "cell_type": "code",
   "execution_count": 2,
   "metadata": {},
   "outputs": [],
   "source": [
    "# Генеральная совокупность\n",
    "strat_1 = np.random.normal(100, 10, 10**6)\n",
    "strat_2 = np.random.normal(50, 5, 10**6)\n",
    "gen_len = strat_1.shape[0] + strat_2.shape[0]\n",
    "gen_mean = np.concatenate([strat_1, strat_2]).mean()"
   ]
  },
  {
   "cell_type": "code",
   "execution_count": 9,
   "metadata": {},
   "outputs": [
    {
     "name": "stderr",
     "output_type": "stream",
     "text": [
      "100%|███████████████████████████████████████| 1000/1000 [01:04<00:00, 15.58it/s]"
     ]
    },
    {
     "name": "stdout",
     "output_type": "stream",
     "text": [
      "Доля попаданий в доверительный интервал: 0.958\n",
      "Стратифицированное СКО: 0.17677775714253977\n",
      "Стратифицированное среднее: 75.00793218000591\n",
      "Обычное СКО: 26.005521729724556\n",
      "Обычное среднее: 74.97589228314999\n"
     ]
    },
    {
     "name": "stderr",
     "output_type": "stream",
     "text": [
      "\n"
     ]
    }
   ],
   "source": [
    "# Кол-во наблюдений из страт\n",
    "len_1 = 1000\n",
    "len_2 = 1000\n",
    "# Веса страт\n",
    "w1 = len_1 / (len_1 + len_2)\n",
    "w2 = len_2 / (len_1 + len_2)\n",
    "\n",
    "std_strats = []\n",
    "mean_strats = []\n",
    "in_ci_acc = []\n",
    "\n",
    "for i in tqdm(range(1000)):\n",
    "    sample_1 = np.random.choice(strat_1, len_1, replace=False)\n",
    "    sample_2 = np.random.choice(strat_2, len_2, replace=False)\n",
    "    \n",
    "    std_strat = ((sample_1.var() * w1 + sample_2.var() * w2) / (len_1 + len_2)) ** 0.5\n",
    "    mean_strat = sample_1.mean() * w1 + sample_2.mean() * w2\n",
    "    std_strats.append(std_strat)\n",
    "    mean_strats.append(mean_strat)\n",
    "    \n",
    "    # Вхождение в доверительный интервал\n",
    "    z_score = norm.ppf(1 - 0.05 / 2)\n",
    "    in_ci = 1 if (gen_mean >= mean_strat - z_score * std_strat) and (gen_mean <= mean_strat + z_score * std_strat) \\\n",
    "                else 0\n",
    "    in_ci_acc.append(in_ci)\n",
    "\n",
    "print(f\"Доля попаданий в доверительный интервал: {np.mean(in_ci_acc)}\")\n",
    "print(f\"Стратифицированное СКО: {np.mean(std_strats)}\")\n",
    "print(f\"Стратифицированное среднее: {np.mean(mean_strats)}\")\n",
    "print(f\"Обычное СКО: {np.concatenate([sample_1, sample_2]).std()}\")\n",
    "print(f\"Обычное среднее: {np.concatenate([sample_1, sample_2]).mean()}\")"
   ]
  },
  {
   "cell_type": "code",
   "execution_count": 10,
   "metadata": {},
   "outputs": [
    {
     "name": "stdout",
     "output_type": "stream",
     "text": [
      "СКО бутстрепа: 0.6000222247838686\n",
      "Среднее бутстрепа: 74.98789167523742\n"
     ]
    }
   ],
   "source": [
    "# Проверка СКО и среднего через бутстрап\n",
    "b = np.random.choice(np.concatenate([strat_1, strat_2]), size=((len_1+len_2), 1000), replace=True)\n",
    "b_mean = b.mean(axis=0)\n",
    "print(f\"СКО бутстрепа: {b_mean.std()}\")\n",
    "print(f\"Среднее бутстрепа: {b_mean.mean()}\")"
   ]
  },
  {
   "cell_type": "code",
   "execution_count": null,
   "metadata": {},
   "outputs": [],
   "source": [
    "# Остались вопросы:\n",
    "# 1. Почему обычное СКО в несколько раз отличается от СКО бутстрепа?\n",
    "# 2. Как уменьшенная через стратификацию дисперсия поможет нам проводить эксперименты быстрее?\n",
    "# Ведь от того, что мы иначе оценили дисперсию, истинная дисперсия не изменилась."
   ]
  }
 ],
 "metadata": {
  "kernelspec": {
   "display_name": "Python 3",
   "language": "python",
   "name": "python3"
  },
  "language_info": {
   "codemirror_mode": {
    "name": "ipython",
    "version": 3
   },
   "file_extension": ".py",
   "mimetype": "text/x-python",
   "name": "python",
   "nbconvert_exporter": "python",
   "pygments_lexer": "ipython3",
   "version": "3.9.7"
  }
 },
 "nbformat": 4,
 "nbformat_minor": 4
}
