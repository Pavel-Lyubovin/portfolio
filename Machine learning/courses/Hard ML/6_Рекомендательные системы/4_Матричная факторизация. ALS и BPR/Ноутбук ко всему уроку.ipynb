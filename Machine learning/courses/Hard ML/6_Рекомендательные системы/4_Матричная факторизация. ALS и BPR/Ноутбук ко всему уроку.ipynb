{
 "cells": [
  {
   "cell_type": "markdown",
   "id": "b2ee020b",
   "metadata": {},
   "source": [
    "Урок 4.\n",
    "\n",
    "Тема: ЗАДАЧА МАТРИЧНОЙ ФАКТОРИЗАЦИИ. АЛГОРИТМЫ ALS И BPR\n",
    "\n",
    "Видео лекции: https://www.youtube.com/watch?v=_f_9TLBfTyA\n",
    "        \n",
    "Видео семинара: https://www.youtube.com/watch?v=MFlww6dpAUI\n",
    "\n",
    "Ноутбук с практикой (этот):\n",
    "https://disk.yandex.ru/d/jESLxdmQTtrhwA\n",
    "Конспект notion:\n",
    "https://www.notion.so/4-ALS-BPR-34a7a94ccc96499ea130eb5f4e471062\n",
    "Конспект pdf:\n",
    "https://disk.yandex.ru/i/ljttlTEkxzecNA\n",
    "Презентация:\n",
    "https://disk.yandex.ru/i/lP7Ni2cw1nV5Tg\n",
    "        "
   ]
  },
  {
   "cell_type": "code",
   "execution_count": 1,
   "id": "5593a0b4",
   "metadata": {},
   "outputs": [],
   "source": [
    "# расскоментируйте код ниже, чтобы установить все зависимости\n",
    "# !pip install -q \\\n",
    "#     pyarrow==12.0.1 \\\n",
    "#     polars==0.18.6 \\\n",
    "#     pandas==2.0.3 \\\n",
    "#     lightfm==1.17 \\\n",
    "#     optuna==3.3.0 \\\n",
    "#     tqdm==4.65.0 \\\n",
    "#     scipy==1.10.1 \\\n",
    "#     numpy==1.24.3 \\\n",
    "#     faiss-cpu==1.7.4 \\\n",
    "#     implicit==0.7.0"
   ]
  },
  {
   "cell_type": "code",
   "execution_count": 1,
   "id": "9c073da9",
   "metadata": {},
   "outputs": [],
   "source": [
    "# раскоментируйте код ниже, чтобы скачать данные\n",
    "# !wget -q https://files.grouplens.org/datasets/movielens/ml-1m.zip\n",
    "# !unzip -q ml-1m.zip"
   ]
  },
  {
   "cell_type": "code",
   "execution_count": 3,
   "id": "38788fb7",
   "metadata": {
    "scrolled": true
   },
   "outputs": [],
   "source": [
    "import optuna\n",
    "import random\n",
    "\n",
    "import polars as pl\n",
    "import pandas as pd\n",
    "import numpy as np\n",
    "\n",
    "from typing import List\n",
    "import scipy.sparse as sp\n",
    "from tqdm import tqdm\n",
    "import matplotlib.pyplot as plt\n",
    "\n",
    "import implicit\n",
    "import faiss\n",
    "from lightfm import LightFM"
   ]
  },
  {
   "cell_type": "markdown",
   "id": "b170100a",
   "metadata": {},
   "source": [
    "Как и раньше, будем работать с датаестом movielens, где есть информация об явной реакции для фильмов и сериалов"
   ]
  },
  {
   "cell_type": "code",
   "execution_count": 4,
   "id": "141b3f1c",
   "metadata": {
    "scrolled": true
   },
   "outputs": [
    {
     "data": {
      "text/html": [
       "<div><style>\n",
       ".dataframe > thead > tr > th,\n",
       ".dataframe > tbody > tr > td {\n",
       "  text-align: right;\n",
       "}\n",
       "</style>\n",
       "<small>shape: (575_281, 4)</small><table border=\"1\" class=\"dataframe\"><thead><tr><th>user_id</th><th>item_id</th><th>rating</th><th>timestamp</th></tr><tr><td>i64</td><td>i64</td><td>i64</td><td>i64</td></tr></thead><tbody><tr><td>1</td><td>1193</td><td>5</td><td>978300760</td></tr><tr><td>1</td><td>3408</td><td>4</td><td>978300275</td></tr><tr><td>1</td><td>2355</td><td>5</td><td>978824291</td></tr><tr><td>1</td><td>1287</td><td>5</td><td>978302039</td></tr><tr><td>1</td><td>2804</td><td>5</td><td>978300719</td></tr><tr><td>1</td><td>594</td><td>4</td><td>978302268</td></tr><tr><td>1</td><td>919</td><td>4</td><td>978301368</td></tr><tr><td>1</td><td>595</td><td>5</td><td>978824268</td></tr><tr><td>1</td><td>938</td><td>4</td><td>978301752</td></tr><tr><td>1</td><td>2398</td><td>4</td><td>978302281</td></tr><tr><td>1</td><td>2918</td><td>4</td><td>978302124</td></tr><tr><td>1</td><td>1035</td><td>5</td><td>978301753</td></tr><tr><td>&hellip;</td><td>&hellip;</td><td>&hellip;</td><td>&hellip;</td></tr><tr><td>6040</td><td>2019</td><td>5</td><td>956703977</td></tr><tr><td>6040</td><td>541</td><td>4</td><td>956715288</td></tr><tr><td>6040</td><td>1077</td><td>5</td><td>964828799</td></tr><tr><td>6040</td><td>549</td><td>4</td><td>956704746</td></tr><tr><td>6040</td><td>2022</td><td>5</td><td>956716207</td></tr><tr><td>6040</td><td>2028</td><td>5</td><td>956704519</td></tr><tr><td>6040</td><td>1080</td><td>4</td><td>957717322</td></tr><tr><td>6040</td><td>1089</td><td>4</td><td>956704996</td></tr><tr><td>6040</td><td>1094</td><td>5</td><td>956704887</td></tr><tr><td>6040</td><td>562</td><td>5</td><td>956704746</td></tr><tr><td>6040</td><td>1096</td><td>4</td><td>956715648</td></tr><tr><td>6040</td><td>1097</td><td>4</td><td>956715569</td></tr></tbody></table></div>"
      ],
      "text/plain": [
       "shape: (575_281, 4)\n",
       "┌─────────┬─────────┬────────┬───────────┐\n",
       "│ user_id ┆ item_id ┆ rating ┆ timestamp │\n",
       "│ ---     ┆ ---     ┆ ---    ┆ ---       │\n",
       "│ i64     ┆ i64     ┆ i64    ┆ i64       │\n",
       "╞═════════╪═════════╪════════╪═══════════╡\n",
       "│ 1       ┆ 1193    ┆ 5      ┆ 978300760 │\n",
       "│ 1       ┆ 3408    ┆ 4      ┆ 978300275 │\n",
       "│ 1       ┆ 2355    ┆ 5      ┆ 978824291 │\n",
       "│ 1       ┆ 1287    ┆ 5      ┆ 978302039 │\n",
       "│ …       ┆ …       ┆ …      ┆ …         │\n",
       "│ 6040    ┆ 1094    ┆ 5      ┆ 956704887 │\n",
       "│ 6040    ┆ 562     ┆ 5      ┆ 956704746 │\n",
       "│ 6040    ┆ 1096    ┆ 4      ┆ 956715648 │\n",
       "│ 6040    ┆ 1097    ┆ 4      ┆ 956715569 │\n",
       "└─────────┴─────────┴────────┴───────────┘"
      ]
     },
     "execution_count": 4,
     "metadata": {},
     "output_type": "execute_result"
    }
   ],
   "source": [
    "ratings = pd.read_csv(\n",
    "    'ml-1m/ratings.dat', delimiter='::', header=None, \n",
    "    names=['user_id', 'item_id', 'rating', 'timestamp'], \n",
    "    engine='python'\n",
    ")\n",
    "ratings = pl.from_pandas(ratings).filter(pl.col('rating') >= 4)\n",
    "ratings"
   ]
  },
  {
   "cell_type": "code",
   "execution_count": 5,
   "id": "4fb10ebf",
   "metadata": {
    "scrolled": true
   },
   "outputs": [
    {
     "data": {
      "text/html": [
       "<div><style>\n",
       ".dataframe > thead > tr > th,\n",
       ".dataframe > tbody > tr > td {\n",
       "  text-align: right;\n",
       "}\n",
       "</style>\n",
       "<small>shape: (6_038, 5)</small><table border=\"1\" class=\"dataframe\"><thead><tr><th>user_id</th><th>train_item_ids</th><th>train_ratings</th><th>test_item_ids</th><th>test_ratings</th></tr><tr><td>i64</td><td>list[i64]</td><td>list[i64]</td><td>list[i64]</td><td>list[i64]</td></tr></thead><tbody><tr><td>896</td><td>[3797, 3798, … 3752]</td><td>[4, 5, … 4]</td><td>[3755, 2961, 3785]</td><td>[4, 5, 4]</td></tr><tr><td>5856</td><td>[589, 597, … 1036]</td><td>[5, 4, … 5]</td><td>[2000, 539, 2013]</td><td>[5, 4, 5]</td></tr><tr><td>5312</td><td>[3793, 2054, … 1090]</td><td>[4, 4, … 4]</td><td>[1097, 2040, 2042]</td><td>[5, 4, 4]</td></tr><tr><td>1280</td><td>[3798, 2997, … 2959]</td><td>[4, 4, … 4]</td><td>[2028, 553, 1089]</td><td>[5, 5, 5]</td></tr><tr><td>3520</td><td>[2987, 1249, … 1240]</td><td>[4, 4, … 4]</td><td>[3785, 1246, 1247]</td><td>[4, 5, 5]</td></tr><tr><td>672</td><td>[2987, 3930, … 3755]</td><td>[4, 4, … 4]</td><td>[1221, 2028, 3928]</td><td>[5, 5, 4]</td></tr><tr><td>5664</td><td>[589, 3000, … 1089]</td><td>[4, 5, … 5]</td><td>[1097, 2046, 2048]</td><td>[4, 5, 4]</td></tr><tr><td>2432</td><td>[589, 1262, … 1210]</td><td>[4, 4, … 5]</td><td>[1214, 541, 1240]</td><td>[4, 5, 4]</td></tr><tr><td>1440</td><td>[1263, 593, … 1233]</td><td>[4, 5, … 5]</td><td>[1234, 1240, 1242]</td><td>[4, 4, 4]</td></tr><tr><td>2624</td><td>[2987, 1249, … 3927]</td><td>[4, 4, … 4]</td><td>[1242, 2985, 1247]</td><td>[5, 4, 4]</td></tr><tr><td>1504</td><td>[3793, 6, … 3578]</td><td>[4, 4, … 5]</td><td>[3740, 1200, 1218]</td><td>[4, 5, 5]</td></tr><tr><td>5824</td><td>[2054, 586, … 1089]</td><td>[4, 4, … 4]</td><td>[2034, 1097, 2046]</td><td>[4, 4, 4]</td></tr><tr><td>&hellip;</td><td>&hellip;</td><td>&hellip;</td><td>&hellip;</td><td>&hellip;</td></tr><tr><td>2047</td><td>[2987, 1250, … 1089]</td><td>[4, 5, … 5]</td><td>[3910, 3911, 1097]</td><td>[5, 4, 5]</td></tr><tr><td>4191</td><td>[3054, 2469, … 2687]</td><td>[4, 5, … 5]</td><td>[3354, 3355, 527]</td><td>[4, 4, 5]</td></tr><tr><td>1215</td><td>[1249, 3793, … 3770]</td><td>[4, 4, … 4]</td><td>[1097, 1240, 2046]</td><td>[4, 5, 4]</td></tr><tr><td>1087</td><td>[2987, 1250, … 1093]</td><td>[5, 5, … 4]</td><td>[1097, 1240, 1246]</td><td>[5, 4, 5]</td></tr><tr><td>415</td><td>[1321, 2125, … 1172]</td><td>[4, 4, … 4]</td><td>[2985, 3788, 1247]</td><td>[4, 4, 5]</td></tr><tr><td>4063</td><td>[3791, 3793, … 2028]</td><td>[5, 4, … 5]</td><td>[3916, 1231, 1242]</td><td>[5, 5, 5]</td></tr><tr><td>2143</td><td>[2997, 589, … 1214]</td><td>[4, 4, … 4]</td><td>[2019, 1230, 1240]</td><td>[5, 4, 4]</td></tr><tr><td>3455</td><td>[1273, 2076, … 1589]</td><td>[5, 4, … 4]</td><td>[1732, 2788, 377]</td><td>[5, 5, 4]</td></tr><tr><td>1631</td><td>[574, 2054, … 551]</td><td>[4, 4, … 5]</td><td>[1234, 562, 3928]</td><td>[5, 4, 4]</td></tr><tr><td>863</td><td>[589, 6, … 1222]</td><td>[5, 4, … 4]</td><td>[2028, 1240, 1242]</td><td>[5, 4, 5]</td></tr><tr><td>63</td><td>[2987, 6, … 2023]</td><td>[4, 5, … 4]</td><td>[1225, 2976, 1094]</td><td>[5, 4, 5]</td></tr><tr><td>3967</td><td>[3793, 1252, … 1225]</td><td>[4, 4, … 4]</td><td>[2028, 1246, 1247]</td><td>[5, 4, 4]</td></tr></tbody></table></div>"
      ],
      "text/plain": [
       "shape: (6_038, 5)\n",
       "┌─────────┬──────────────────────┬───────────────┬────────────────────┬──────────────┐\n",
       "│ user_id ┆ train_item_ids       ┆ train_ratings ┆ test_item_ids      ┆ test_ratings │\n",
       "│ ---     ┆ ---                  ┆ ---           ┆ ---                ┆ ---          │\n",
       "│ i64     ┆ list[i64]            ┆ list[i64]     ┆ list[i64]          ┆ list[i64]    │\n",
       "╞═════════╪══════════════════════╪═══════════════╪════════════════════╪══════════════╡\n",
       "│ 896     ┆ [3797, 3798, … 3752] ┆ [4, 5, … 4]   ┆ [3755, 2961, 3785] ┆ [4, 5, 4]    │\n",
       "│ 5856    ┆ [589, 597, … 1036]   ┆ [5, 4, … 5]   ┆ [2000, 539, 2013]  ┆ [5, 4, 5]    │\n",
       "│ 5312    ┆ [3793, 2054, … 1090] ┆ [4, 4, … 4]   ┆ [1097, 2040, 2042] ┆ [5, 4, 4]    │\n",
       "│ 1280    ┆ [3798, 2997, … 2959] ┆ [4, 4, … 4]   ┆ [2028, 553, 1089]  ┆ [5, 5, 5]    │\n",
       "│ …       ┆ …                    ┆ …             ┆ …                  ┆ …            │\n",
       "│ 1631    ┆ [574, 2054, … 551]   ┆ [4, 4, … 5]   ┆ [1234, 562, 3928]  ┆ [5, 4, 4]    │\n",
       "│ 863     ┆ [589, 6, … 1222]     ┆ [5, 4, … 4]   ┆ [2028, 1240, 1242] ┆ [5, 4, 5]    │\n",
       "│ 63      ┆ [2987, 6, … 2023]    ┆ [4, 5, … 4]   ┆ [1225, 2976, 1094] ┆ [5, 4, 5]    │\n",
       "│ 3967    ┆ [3793, 1252, … 1225] ┆ [4, 4, … 4]   ┆ [2028, 1246, 1247] ┆ [5, 4, 4]    │\n",
       "└─────────┴──────────────────────┴───────────────┴────────────────────┴──────────────┘"
      ]
     },
     "execution_count": 5,
     "metadata": {},
     "output_type": "execute_result"
    }
   ],
   "source": [
    "grouped_df = (\n",
    "    ratings\n",
    "    .groupby('user_id')\n",
    "    .agg([\n",
    "        pl.col('item_id').apply(lambda x: x[:-3]).alias('train_item_ids'),\n",
    "        pl.col('rating').apply(lambda x: x[:-3]).alias('train_ratings'),\n",
    "        pl.col('item_id').apply(lambda x: x[-3:]).alias('test_item_ids'),\n",
    "        pl.col('rating').apply(lambda x: x[-3:]).alias('test_ratings'),\n",
    "    ])\n",
    ")\n",
    "grouped_df"
   ]
  },
  {
   "cell_type": "code",
   "execution_count": 6,
   "id": "d5f18e46",
   "metadata": {},
   "outputs": [
    {
     "name": "stdout",
     "output_type": "stream",
     "text": [
      "средняя длина сессии 55\n"
     ]
    }
   ],
   "source": [
    "median_seq_len = int(grouped_df['train_item_ids'].apply(len).median())\n",
    "print(f\"средняя длина сессии {median_seq_len}\")"
   ]
  },
  {
   "cell_type": "code",
   "execution_count": 7,
   "id": "0cafa711",
   "metadata": {},
   "outputs": [
    {
     "data": {
      "text/plain": [
       "<6041x3953 sparse matrix of type '<class 'numpy.float32'>'\n",
       "\twith 557171 stored elements in Compressed Sparse Row format>"
      ]
     },
     "execution_count": 7,
     "metadata": {},
     "output_type": "execute_result"
    }
   ],
   "source": [
    "# соберем строчки для разреженной матрицы\n",
    "rows = []\n",
    "cols = []\n",
    "values = []\n",
    "\n",
    "for user_id, train_item_ids, train_ratings in grouped_df.select(\n",
    "    'user_id', 'train_item_ids', 'train_ratings'\n",
    ").rows():\n",
    "    rows.extend([user_id] * len(train_item_ids))\n",
    "    cols.extend(train_item_ids)\n",
    "    values.extend(train_ratings)\n",
    "\n",
    "user_item_data = sp.csr_matrix((values, (rows, cols)), dtype=np.float32)\n",
    "user_item_data"
   ]
  },
  {
   "cell_type": "code",
   "execution_count": 8,
   "id": "72b310cc",
   "metadata": {},
   "outputs": [],
   "source": [
    "TOP_K = 10\n",
    "\n",
    "\n",
    "def user_hitrate(y_relevant: List[str], y_recs: List[str], k: int = TOP_K) -> int:\n",
    "    return int(len(set(y_relevant).intersection(y_recs[:k])) > 0)"
   ]
  },
  {
   "cell_type": "code",
   "execution_count": 9,
   "id": "94bba13c",
   "metadata": {},
   "outputs": [],
   "source": [
    "RANDOM_STATE = 42\n",
    "\n",
    "def set_seed():\n",
    "    random.seed(RANDOM_STATE)\n",
    "    np.random.seed(RANDOM_STATE)\n",
    "    \n",
    "    \n",
    "def get_recommendations(user_embs: np.array, item_embs: np.array, k: int = TOP_K):\n",
    "    # строим индекс объектов\n",
    "    index = faiss.IndexFlatIP(item_embs.shape[1])\n",
    "    index.add(item_embs)\n",
    "\n",
    "    # строим рекомендации с помощью dot-product расстояния\n",
    "    return index.search(user_embs, k)\n",
    "\n",
    "def evaluate_model(user_embs: np.array, item_embs: np.array):\n",
    "    # строим рекомендации с запасом, так как включена фильтрация уже просмотренного\n",
    "    # и может не остаться рекомендаций после нее\n",
    "    _, recs = get_recommendations(user_embs, item_embs, TOP_K + median_seq_len)\n",
    "    \n",
    "    # посчитаем метрики качества рекомендаций\n",
    "    hitrate_list = []\n",
    "    for user_id, user_history, y_rel in grouped_df.select('user_id', 'train_item_ids', 'test_item_ids').rows():\n",
    "        y_rec = [\n",
    "            item_id\n",
    "            for item_id in recs[user_id]\n",
    "            # фильтруем уже просмотренное\n",
    "            if item_id not in user_history\n",
    "        ]\n",
    "        hitrate_list.append(user_hitrate(y_rel, y_rec))\n",
    "    return np.mean(hitrate_list)"
   ]
  },
  {
   "cell_type": "markdown",
   "id": "f3d7415a",
   "metadata": {},
   "source": [
    "## SVD"
   ]
  },
  {
   "cell_type": "markdown",
   "id": "3c7ce825",
   "metadata": {},
   "source": [
    "У такого алгоритма есть параметр `k` – количество главных компонент, которые можно интерпретировать как размерность скрытого пространства модели\n",
    "\n",
    "Попробуем провести эксперимент с зависимостью от того, как хорошо алгоритм SVD восстанавливает матрицу рейтингов и качеством самих рекомендаций. Для этого будем использовать реализацию SVD алгоритма из библиотеки [scipy](https://docs.scipy.org/doc/scipy/reference/generated/scipy.sparse.linalg.svds.html)"
   ]
  },
  {
   "cell_type": "code",
   "execution_count": 10,
   "id": "bffd5067",
   "metadata": {},
   "outputs": [
    {
     "name": "stderr",
     "output_type": "stream",
     "text": [
      "100%|██████████| 20/20 [00:56<00:00,  2.82s/it]\n"
     ]
    },
    {
     "name": "stdout",
     "output_type": "stream",
     "text": [
      "Оптимальное k = 56 (Hitrate@10 = 0.234)\n"
     ]
    },
    {
     "data": {
      "image/png": "[encoded data removed]",
      "text/plain": [
       "<Figure size 640x480 with 2 Axes>"
      ]
     },
     "metadata": {},
     "output_type": "display_data"
    }
   ],
   "source": [
    "k_range = []\n",
    "mse_list = []\n",
    "mean_hitrate_list = []\n",
    "\n",
    "for k in tqdm(np.linspace(2, 150, 20)):\n",
    "    k = int(k)\n",
    "    k_range.append(k)\n",
    "    \n",
    "    # выполним алгоритм SVD с заданным числом главных компонент k\n",
    "    U, S, V = sp.linalg.svds(user_item_data, k=k, random_state=RANDOM_STATE)\n",
    "    \n",
    "    # посчитаем ошибку MSE восстановленной матрицы с помощью SVD разложения\n",
    "    mse = np.power(U @ np.diag(S) @ V - user_item_data, 2).mean()\n",
    "    mse_list.append(mse)\n",
    "\n",
    "    # построим рекомендации с помощью cosine knn index\n",
    "    user_embs, item_embs = U @ np.diag(S), V.T\n",
    "    mean_hitrate = evaluate_model(\n",
    "        user_embs,\n",
    "        item_embs,\n",
    "    )\n",
    "    mean_hitrate_list.append(mean_hitrate)\n",
    "    \n",
    "k_optimal = k_range[np.argmax(mean_hitrate_list)]\n",
    "print(f'Оптимальное k = {k_optimal} (Hitrate@{TOP_K} = {np.max(mean_hitrate_list):.3f})')\n",
    "\n",
    "fig, ax1 = plt.subplots()\n",
    "ax1.plot(k_range, mse_list, c='b')\n",
    "ax1.set_xlabel('количество главных компонент в SVD')\n",
    "ax1.set_ylabel('MSE разложения')\n",
    "\n",
    "ax2 = ax1.twinx()\n",
    "\n",
    "ax2.plot(k_range, mean_hitrate_list, c='r')\n",
    "ax2.set_ylabel(f'Hitrate@{TOP_K}')\n",
    "ax2.axvline(x=k_optimal, c='r', linestyle=':')\n",
    "plt.show()"
   ]
  },
  {
   "cell_type": "markdown",
   "id": "1cc561cb",
   "metadata": {},
   "source": [
    "## ALS, BPR (из библиотеки implicit)\n",
    "\n",
    "Гиперпараметры могут сильно влиять на метрики качества, поэтому стоит их подобрать с помощью библиотеки [optuna](https://optuna.org/)\n",
    "\n",
    "Для алгоритма [ALS](https://benfred.github.io/implicit/api/models/cpu/als.html) рассмотрим следующие параметры:\n",
    "- `factors` – размерность эмбеддингов\n",
    "- `iterations` – сколько итераций будет обучаться алгоритм\n",
    "- `alpha` – параметр implicitALS, учитывающий оценку в разреженной матрице как вес\n",
    "- `regularization` – параметр регуляризации эмбеддингов"
   ]
  },
  {
   "cell_type": "code",
   "execution_count": 11,
   "id": "54524ba1",
   "metadata": {},
   "outputs": [
    {
     "name": "stderr",
     "output_type": "stream",
     "text": [
      "  0%|          | 0/30 [00:00<?, ?it/s]100%|██████████| 30/30 [00:07<00:00,  3.97it/s, loss=0.0313]\n"
     ]
    },
    {
     "name": "stdout",
     "output_type": "stream",
     "text": [
      "Hitrate@10 = 0.2101689301093077\n"
     ]
    }
   ],
   "source": [
    "set_seed()\n",
    "als_model = implicit.als.AlternatingLeastSquares(\n",
    "    factors=64,\n",
    "    iterations=30,\n",
    "    calculate_training_loss=True,\n",
    "    random_state=RANDOM_STATE,\n",
    "    regularization=0.05\n",
    ")\n",
    "als_model.fit(user_item_data)\n",
    "\n",
    "mean_hitrate = evaluate_model(\n",
    "    als_model.user_factors,\n",
    "    als_model.item_factors,\n",
    ")\n",
    "print(f'Hitrate@{TOP_K} = {mean_hitrate}')"
   ]
  },
  {
   "cell_type": "code",
   "execution_count": 12,
   "id": "6280726e",
   "metadata": {
    "scrolled": true
   },
   "outputs": [
    {
     "name": "stderr",
     "output_type": "stream",
     "text": [
      "[I 2024-04-04 10:17:37,782] A new study created in memory with name: no-name-e559b711-45fc-4a69-96c4-ceff1ea9620b\n"
     ]
    },
    {
     "name": "stdout",
     "output_type": "stream",
     "text": [
      "{'factors': 71, 'iterations': 25, 'alpha': 1.1839473783774426, 'regularization': 0.026311738159652154}\n"
     ]
    },
    {
     "name": "stderr",
     "output_type": "stream",
     "text": [
      "100%|██████████| 25/25 [00:05<00:00,  4.99it/s]\n",
      "[I 2024-04-04 10:17:43,752] Trial 0 finished with value: 0.2073534282875124 and parameters: {'factors': 71, 'iterations': 25, 'alpha': 1.1839473783774426, 'regularization': 0.026311738159652154}. Best is trial 0 with value: 0.2073534282875124.\n"
     ]
    },
    {
     "name": "stdout",
     "output_type": "stream",
     "text": [
      "Hitrate@10 = 0.2073534282875124\n",
      "{'factors': 53, 'iterations': 7, 'alpha': 1.5834336605534016, 'regularization': 0.045760870477833684}\n"
     ]
    },
    {
     "name": "stderr",
     "output_type": "stream",
     "text": [
      "100%|██████████| 7/7 [00:01<00:00,  4.89it/s]\n",
      "[I 2024-04-04 10:17:46,138] Trial 1 finished with value: 0.19874130506790327 and parameters: {'factors': 53, 'iterations': 7, 'alpha': 1.5834336605534016, 'regularization': 0.045760870477833684}. Best is trial 0 with value: 0.2073534282875124.\n"
     ]
    },
    {
     "name": "stdout",
     "output_type": "stream",
     "text": [
      "Hitrate@10 = 0.19874130506790327\n",
      "{'factors': 49, 'iterations': 22, 'alpha': 1.9713241080693837, 'regularization': 0.16446031231038621}\n"
     ]
    },
    {
     "name": "stderr",
     "output_type": "stream",
     "text": [
      "100%|██████████| 22/22 [00:04<00:00,  4.94it/s]\n",
      "[I 2024-04-04 10:17:51,618] Trial 2 finished with value: 0.1853262669758198 and parameters: {'factors': 49, 'iterations': 22, 'alpha': 1.9713241080693837, 'regularization': 0.16446031231038621}. Best is trial 0 with value: 0.2073534282875124.\n"
     ]
    },
    {
     "name": "stdout",
     "output_type": "stream",
     "text": [
      "Hitrate@10 = 0.1853262669758198\n",
      "{'factors': 99, 'iterations': 18, 'alpha': 2.118332271531551, 'regularization': 0.4145961815917527}\n"
     ]
    },
    {
     "name": "stderr",
     "output_type": "stream",
     "text": [
      "100%|██████████| 18/18 [00:04<00:00,  3.72it/s]\n",
      "[I 2024-04-04 10:17:57,470] Trial 3 finished with value: 0.19609142100033122 and parameters: {'factors': 99, 'iterations': 18, 'alpha': 2.118332271531551, 'regularization': 0.4145961815917527}. Best is trial 0 with value: 0.2073534282875124.\n"
     ]
    },
    {
     "name": "stdout",
     "output_type": "stream",
     "text": [
      "Hitrate@10 = 0.19609142100033122\n",
      "{'factors': 31, 'iterations': 29, 'alpha': 1.998463533963699, 'regularization': 0.15699661200364226}\n"
     ]
    },
    {
     "name": "stderr",
     "output_type": "stream",
     "text": [
      "100%|██████████| 29/29 [00:04<00:00,  5.82it/s]\n",
      "[I 2024-04-04 10:18:03,622] Trial 4 finished with value: 0.18698244451805235 and parameters: {'factors': 31, 'iterations': 29, 'alpha': 1.998463533963699, 'regularization': 0.15699661200364226}. Best is trial 0 with value: 0.2073534282875124.\n"
     ]
    },
    {
     "name": "stdout",
     "output_type": "stream",
     "text": [
      "Hitrate@10 = 0.18698244451805235\n",
      "{'factors': 63, 'iterations': 16, 'alpha': 2.0468551852000485, 'regularization': 0.5174154967110737}\n"
     ]
    },
    {
     "name": "stderr",
     "output_type": "stream",
     "text": [
      "100%|██████████| 16/16 [00:03<00:00,  4.69it/s]\n",
      "[I 2024-04-04 10:18:08,005] Trial 5 finished with value: 0.19112288837363364 and parameters: {'factors': 63, 'iterations': 16, 'alpha': 2.0468551852000485, 'regularization': 0.5174154967110737}. Best is trial 0 with value: 0.2073534282875124.\n"
     ]
    },
    {
     "name": "stdout",
     "output_type": "stream",
     "text": [
      "Hitrate@10 = 0.19112288837363364\n",
      "{'factors': 85, 'iterations': 30, 'alpha': 3.7799500998801645, 'regularization': 0.765996066173338}\n"
     ]
    },
    {
     "name": "stderr",
     "output_type": "stream",
     "text": [
      "100%|██████████| 30/30 [00:07<00:00,  3.96it/s]\n",
      "[I 2024-04-04 10:18:16,573] Trial 6 finished with value: 0.17919841006955944 and parameters: {'factors': 85, 'iterations': 30, 'alpha': 3.7799500998801645, 'regularization': 0.765996066173338}. Best is trial 0 with value: 0.2073534282875124.\n"
     ]
    },
    {
     "name": "stdout",
     "output_type": "stream",
     "text": [
      "Hitrate@10 = 0.17919841006955944\n",
      "{'factors': 128, 'iterations': 17, 'alpha': 4.985442557980548, 'regularization': 0.8631141010318188}\n"
     ]
    },
    {
     "name": "stderr",
     "output_type": "stream",
     "text": [
      "100%|██████████| 17/17 [00:05<00:00,  3.22it/s]\n",
      "[I 2024-04-04 10:18:22,863] Trial 7 finished with value: 0.18317323617091752 and parameters: {'factors': 128, 'iterations': 17, 'alpha': 4.985442557980548, 'regularization': 0.8631141010318188}. Best is trial 0 with value: 0.2073534282875124.\n"
     ]
    },
    {
     "name": "stdout",
     "output_type": "stream",
     "text": [
      "Hitrate@10 = 0.18317323617091752\n",
      "{'factors': 74, 'iterations': 13, 'alpha': 2.013896670241067, 'regularization': 0.12834111463403006}\n"
     ]
    },
    {
     "name": "stderr",
     "output_type": "stream",
     "text": [
      "100%|██████████| 13/13 [00:02<00:00,  4.34it/s]\n",
      "[I 2024-04-04 10:18:26,821] Trial 8 finished with value: 0.18615435574693606 and parameters: {'factors': 74, 'iterations': 13, 'alpha': 2.013896670241067, 'regularization': 0.12834111463403006}. Best is trial 0 with value: 0.2073534282875124.\n"
     ]
    },
    {
     "name": "stdout",
     "output_type": "stream",
     "text": [
      "Hitrate@10 = 0.18615435574693606\n",
      "{'factors': 35, 'iterations': 5, 'alpha': 2.9265237739121845, 'regularization': 0.4550962422280228}\n"
     ]
    },
    {
     "name": "stderr",
     "output_type": "stream",
     "text": [
      "100%|██████████| 5/5 [00:00<00:00,  5.99it/s]\n",
      "[I 2024-04-04 10:18:28,774] Trial 9 finished with value: 0.18333885392514077 and parameters: {'factors': 35, 'iterations': 5, 'alpha': 2.9265237739121845, 'regularization': 0.4550962422280228}. Best is trial 0 with value: 0.2073534282875124.\n"
     ]
    },
    {
     "name": "stdout",
     "output_type": "stream",
     "text": [
      "Hitrate@10 = 0.18333885392514077\n",
      "{'factors': 106, 'iterations': 25, 'alpha': 0.2852381091753835, 'regularization': 0.026799676425874774}\n"
     ]
    },
    {
     "name": "stderr",
     "output_type": "stream",
     "text": [
      "100%|██████████| 25/25 [00:07<00:00,  3.22it/s]\n",
      "[I 2024-04-04 10:18:37,489] Trial 10 finished with value: 0.20404107320304737 and parameters: {'factors': 106, 'iterations': 25, 'alpha': 0.2852381091753835, 'regularization': 0.026799676425874774}. Best is trial 0 with value: 0.2073534282875124.\n"
     ]
    },
    {
     "name": "stdout",
     "output_type": "stream",
     "text": [
      "Hitrate@10 = 0.20404107320304737\n",
      "{'factors': 9, 'iterations': 25, 'alpha': 0.2548397250723852, 'regularization': 0.005545697616563677}\n"
     ]
    },
    {
     "name": "stderr",
     "output_type": "stream",
     "text": [
      "100%|██████████| 25/25 [00:03<00:00,  7.58it/s]\n",
      "[I 2024-04-04 10:18:41,735] Trial 11 finished with value: 0.18482941371315004 and parameters: {'factors': 9, 'iterations': 25, 'alpha': 0.2548397250723852, 'regularization': 0.005545697616563677}. Best is trial 0 with value: 0.2073534282875124.\n"
     ]
    },
    {
     "name": "stdout",
     "output_type": "stream",
     "text": [
      "Hitrate@10 = 0.18482941371315004\n",
      "{'factors': 114, 'iterations': 24, 'alpha': 0.23158954711513596, 'regularization': 0.2616052452537808}\n"
     ]
    },
    {
     "name": "stderr",
     "output_type": "stream",
     "text": [
      "100%|██████████| 24/24 [00:06<00:00,  3.49it/s]\n",
      "[I 2024-04-04 10:18:49,527] Trial 12 finished with value: 0.2007287181185823 and parameters: {'factors': 114, 'iterations': 24, 'alpha': 0.23158954711513596, 'regularization': 0.2616052452537808}. Best is trial 0 with value: 0.2073534282875124.\n"
     ]
    },
    {
     "name": "stdout",
     "output_type": "stream",
     "text": [
      "Hitrate@10 = 0.2007287181185823\n",
      "{'factors': 93, 'iterations': 21, 'alpha': 0.9121482127190953, 'regularization': 0.2806078052877243}\n"
     ]
    },
    {
     "name": "stderr",
     "output_type": "stream",
     "text": [
      "100%|██████████| 21/21 [00:05<00:00,  3.53it/s]\n",
      "[I 2024-04-04 10:18:56,434] Trial 13 finished with value: 0.2088439880755217 and parameters: {'factors': 93, 'iterations': 21, 'alpha': 0.9121482127190953, 'regularization': 0.2806078052877243}. Best is trial 13 with value: 0.2088439880755217.\n"
     ]
    },
    {
     "name": "stdout",
     "output_type": "stream",
     "text": [
      "Hitrate@10 = 0.2088439880755217\n",
      "{'factors': 84, 'iterations': 20, 'alpha': 1.0879544126669087, 'regularization': 0.29243743354827556}\n"
     ]
    },
    {
     "name": "stderr",
     "output_type": "stream",
     "text": [
      "100%|██████████| 20/20 [00:04<00:00,  4.17it/s]\n",
      "[I 2024-04-04 10:19:02,207] Trial 14 finished with value: 0.20718781053328916 and parameters: {'factors': 84, 'iterations': 20, 'alpha': 1.0879544126669087, 'regularization': 0.29243743354827556}. Best is trial 13 with value: 0.2088439880755217.\n"
     ]
    },
    {
     "name": "stdout",
     "output_type": "stream",
     "text": [
      "Hitrate@10 = 0.20718781053328916\n",
      "{'factors': 90, 'iterations': 12, 'alpha': 1.1247941000353798, 'regularization': 0.2733462958975594}\n"
     ]
    },
    {
     "name": "stderr",
     "output_type": "stream",
     "text": [
      "100%|██████████| 12/12 [00:03<00:00,  3.62it/s]\n",
      "[I 2024-04-04 10:19:06,683] Trial 15 finished with value: 0.20751904604173568 and parameters: {'factors': 90, 'iterations': 12, 'alpha': 1.1247941000353798, 'regularization': 0.2733462958975594}. Best is trial 13 with value: 0.2088439880755217.\n"
     ]
    },
    {
     "name": "stdout",
     "output_type": "stream",
     "text": [
      "Hitrate@10 = 0.20751904604173568\n",
      "{'factors': 91, 'iterations': 12, 'alpha': 0.8816329092410217, 'regularization': 0.32674414695904264}\n"
     ]
    },
    {
     "name": "stderr",
     "output_type": "stream",
     "text": [
      "100%|██████████| 12/12 [00:03<00:00,  3.63it/s]\n",
      "[I 2024-04-04 10:19:10,956] Trial 16 finished with value: 0.20520039748261013 and parameters: {'factors': 91, 'iterations': 12, 'alpha': 0.8816329092410217, 'regularization': 0.32674414695904264}. Best is trial 13 with value: 0.2088439880755217.\n"
     ]
    },
    {
     "name": "stdout",
     "output_type": "stream",
     "text": [
      "Hitrate@10 = 0.20520039748261013\n",
      "{'factors': 113, 'iterations': 10, 'alpha': 0.8302800915923061, 'regularization': 0.590340550839479}\n"
     ]
    },
    {
     "name": "stderr",
     "output_type": "stream",
     "text": [
      "100%|██████████| 10/10 [00:03<00:00,  3.32it/s]\n",
      "[I 2024-04-04 10:19:14,919] Trial 17 finished with value: 0.2088439880755217 and parameters: {'factors': 113, 'iterations': 10, 'alpha': 0.8302800915923061, 'regularization': 0.590340550839479}. Best is trial 13 with value: 0.2088439880755217.\n"
     ]
    },
    {
     "name": "stdout",
     "output_type": "stream",
     "text": [
      "Hitrate@10 = 0.2088439880755217\n",
      "{'factors': 123, 'iterations': 8, 'alpha': 0.674511665263819, 'regularization': 0.5850643986926467}\n"
     ]
    },
    {
     "name": "stderr",
     "output_type": "stream",
     "text": [
      "100%|██████████| 8/8 [00:02<00:00,  2.90it/s]\n",
      "[I 2024-04-04 10:19:18,650] Trial 18 finished with value: 0.20420669095727062 and parameters: {'factors': 123, 'iterations': 8, 'alpha': 0.674511665263819, 'regularization': 0.5850643986926467}. Best is trial 13 with value: 0.2088439880755217.\n"
     ]
    },
    {
     "name": "stdout",
     "output_type": "stream",
     "text": [
      "Hitrate@10 = 0.20420669095727062\n",
      "{'factors': 111, 'iterations': 14, 'alpha': 1.419931471239625, 'regularization': 0.6535785304173009}\n"
     ]
    },
    {
     "name": "stderr",
     "output_type": "stream",
     "text": [
      "100%|██████████| 14/14 [00:04<00:00,  3.41it/s]\n",
      "[I 2024-04-04 10:19:23,716] Trial 19 finished with value: 0.19741636303411725 and parameters: {'factors': 111, 'iterations': 14, 'alpha': 1.419931471239625, 'regularization': 0.6535785304173009}. Best is trial 13 with value: 0.2088439880755217.\n"
     ]
    },
    {
     "name": "stdout",
     "output_type": "stream",
     "text": [
      "Hitrate@10 = 0.19741636303411725\n",
      "{'factors': 99, 'iterations': 10, 'alpha': 0.7277733373160582, 'regularization': 0.9996146431491328}\n"
     ]
    },
    {
     "name": "stderr",
     "output_type": "stream",
     "text": [
      "100%|██████████| 10/10 [00:02<00:00,  3.78it/s]\n",
      "[I 2024-04-04 10:19:27,318] Trial 20 finished with value: 0.2081815170586287 and parameters: {'factors': 99, 'iterations': 10, 'alpha': 0.7277733373160582, 'regularization': 0.9996146431491328}. Best is trial 13 with value: 0.2088439880755217.\n"
     ]
    },
    {
     "name": "stdout",
     "output_type": "stream",
     "text": [
      "Hitrate@10 = 0.2081815170586287\n",
      "{'factors': 102, 'iterations': 9, 'alpha': 0.6432935657901102, 'regularization': 0.9644815008548451}\n"
     ]
    },
    {
     "name": "stderr",
     "output_type": "stream",
     "text": [
      "100%|██████████| 9/9 [00:02<00:00,  3.51it/s]\n",
      "[I 2024-04-04 10:19:31,005] Trial 21 finished with value: 0.2091752235839682 and parameters: {'factors': 102, 'iterations': 9, 'alpha': 0.6432935657901102, 'regularization': 0.9644815008548451}. Best is trial 21 with value: 0.2091752235839682.\n"
     ]
    },
    {
     "name": "stdout",
     "output_type": "stream",
     "text": [
      "Hitrate@10 = 0.2091752235839682\n",
      "{'factors': 115, 'iterations': 9, 'alpha': 0.6420171351628408, 'regularization': 0.6792603854972512}\n"
     ]
    },
    {
     "name": "stderr",
     "output_type": "stream",
     "text": [
      "100%|██████████| 9/9 [00:02<00:00,  3.41it/s]\n",
      "[I 2024-04-04 10:19:34,599] Trial 22 finished with value: 0.2081815170586287 and parameters: {'factors': 115, 'iterations': 9, 'alpha': 0.6420171351628408, 'regularization': 0.6792603854972512}. Best is trial 21 with value: 0.2091752235839682.\n"
     ]
    },
    {
     "name": "stdout",
     "output_type": "stream",
     "text": [
      "Hitrate@10 = 0.2081815170586287\n",
      "{'factors': 100, 'iterations': 5, 'alpha': 0.5216997481259971, 'regularization': 0.388394250094118}\n"
     ]
    },
    {
     "name": "stderr",
     "output_type": "stream",
     "text": [
      "100%|██████████| 5/5 [00:01<00:00,  3.77it/s]\n",
      "[I 2024-04-04 10:19:36,920] Trial 23 finished with value: 0.2126531964226565 and parameters: {'factors': 100, 'iterations': 5, 'alpha': 0.5216997481259971, 'regularization': 0.388394250094118}. Best is trial 23 with value: 0.2126531964226565.\n"
     ]
    },
    {
     "name": "stdout",
     "output_type": "stream",
     "text": [
      "Hitrate@10 = 0.2126531964226565\n",
      "{'factors': 101, 'iterations': 6, 'alpha': 0.24883220575405218, 'regularization': 0.42424908024248315}\n"
     ]
    },
    {
     "name": "stderr",
     "output_type": "stream",
     "text": [
      "100%|██████████| 6/6 [00:01<00:00,  4.07it/s]\n",
      "[I 2024-04-04 10:19:39,327] Trial 24 finished with value: 0.2095064590924147 and parameters: {'factors': 101, 'iterations': 6, 'alpha': 0.24883220575405218, 'regularization': 0.42424908024248315}. Best is trial 23 with value: 0.2126531964226565.\n"
     ]
    },
    {
     "name": "stdout",
     "output_type": "stream",
     "text": [
      "Hitrate@10 = 0.2095064590924147\n"
     ]
    },
    {
     "data": {
      "text/plain": [
       "{'factors': 100,\n",
       " 'iterations': 5,\n",
       " 'alpha': 0.5216997481259971,\n",
       " 'regularization': 0.388394250094118}"
      ]
     },
     "execution_count": 12,
     "metadata": {},
     "output_type": "execute_result"
    }
   ],
   "source": [
    "def objective(trial):\n",
    "    factors = trial.suggest_int('factors', 8, 128)\n",
    "    iterations = trial.suggest_int('iterations', 5, 30)\n",
    "    alpha = trial.suggest_float('alpha', 0.1, 5.0)\n",
    "    regularization = trial.suggest_float('regularization', 1e-3, 1.0)\n",
    "        \n",
    "    print({\n",
    "        'factors': factors,\n",
    "        'iterations': iterations,\n",
    "        'alpha': alpha,\n",
    "        'regularization': regularization,\n",
    "    })\n",
    "    \n",
    "    set_seed()\n",
    "    als_model = implicit.als.AlternatingLeastSquares(\n",
    "        factors=factors,\n",
    "        iterations=iterations,\n",
    "        random_state=RANDOM_STATE,\n",
    "        alpha=alpha,\n",
    "        regularization=regularization\n",
    "    )\n",
    "    als_model.fit(user_item_data)\n",
    "    \n",
    "    mean_hitrate = evaluate_model(\n",
    "        als_model.user_factors,\n",
    "        als_model.item_factors,\n",
    "    )\n",
    "    \n",
    "    print(f'Hitrate@{TOP_K} = {mean_hitrate}')\n",
    "    return mean_hitrate\n",
    "    \n",
    "# для запуска optuna нужно определить функцию и направление (минимизация/максимизация)\n",
    "# в данном случае мы максимизируем метрику Hitrate@10\n",
    "study = optuna.create_study(directions=('maximize',))\n",
    "# запустим процесс подбора гиперпараметров\n",
    "study.optimize(objective, n_trials=25)\n",
    "\n",
    "# лучшие параметры будут храниться тут\n",
    "study.best_params"
   ]
  },
  {
   "cell_type": "code",
   "execution_count": 13,
   "id": "754f4e03",
   "metadata": {},
   "outputs": [
    {
     "name": "stderr",
     "output_type": "stream",
     "text": [
      "  0%|          | 0/5 [00:00<?, ?it/s]100%|██████████| 5/5 [00:01<00:00,  4.28it/s]\n"
     ]
    },
    {
     "name": "stdout",
     "output_type": "stream",
     "text": [
      "Hitrate@10 = 0.2126531964226565\n"
     ]
    }
   ],
   "source": [
    "als_model = implicit.als.AlternatingLeastSquares(\n",
    "    random_state=RANDOM_STATE,\n",
    "    **study.best_params\n",
    ")\n",
    "als_model.fit(user_item_data)\n",
    "\n",
    "mean_hitrate = evaluate_model(\n",
    "    als_model.user_factors,\n",
    "    als_model.item_factors,\n",
    ")\n",
    "print(f'Hitrate@{TOP_K} = {mean_hitrate}')"
   ]
  },
  {
   "cell_type": "markdown",
   "id": "f8a715e8",
   "metadata": {},
   "source": [
    "Дла алгоритма [BPR](https://benfred.github.io/implicit/api/models/cpu/bpr.html) рассмотрим следующие параметры:\n",
    "\n",
    "- `factors` – размерность эмбеддингов\n",
    "- `iterations` – сколько итераций будет обучаться алгоритм\n",
    "- `learning_rate` – скорость обучения алгоритма градиентного спуска\n",
    "- `regularization` – параметр регуляризации эмбеддингов"
   ]
  },
  {
   "cell_type": "code",
   "execution_count": 14,
   "id": "8f656a5c",
   "metadata": {
    "scrolled": true
   },
   "outputs": [
    {
     "name": "stderr",
     "output_type": "stream",
     "text": [
      "[I 2024-04-04 10:22:11,405] A new study created in memory with name: no-name-3b5d5362-6a27-4e6f-8cbe-92fb01d56ae1\n"
     ]
    },
    {
     "name": "stdout",
     "output_type": "stream",
     "text": [
      "{'factors': 23, 'iterations': 21, 'learning_rate': 0.08436495358811583, 'regularization': 0.0877225917804729}\n"
     ]
    },
    {
     "name": "stderr",
     "output_type": "stream",
     "text": [
      "100%|██████████| 21/21 [00:00<00:00, 40.70it/s, train_auc=77.14%, skipped=21.00%]\n",
      "[I 2024-04-04 10:22:13,202] Trial 0 finished with value: 0.08595561444186817 and parameters: {'factors': 23, 'iterations': 21, 'learning_rate': 0.08436495358811583, 'regularization': 0.0877225917804729}. Best is trial 0 with value: 0.08595561444186817.\n"
     ]
    },
    {
     "name": "stdout",
     "output_type": "stream",
     "text": [
      "Hitrate@10 = 0.08595561444186817\n",
      "{'factors': 26, 'iterations': 66, 'learning_rate': 0.03883796709497266, 'regularization': 0.021876662864339615}\n"
     ]
    },
    {
     "name": "stderr",
     "output_type": "stream",
     "text": [
      "100%|██████████| 66/66 [00:01<00:00, 41.12it/s, train_auc=88.18%, skipped=20.92%]\n",
      "[I 2024-04-04 10:22:15,959] Trial 1 finished with value: 0.15004968532626697 and parameters: {'factors': 26, 'iterations': 66, 'learning_rate': 0.03883796709497266, 'regularization': 0.021876662864339615}. Best is trial 1 with value: 0.15004968532626697.\n"
     ]
    },
    {
     "name": "stdout",
     "output_type": "stream",
     "text": [
      "Hitrate@10 = 0.15004968532626697\n",
      "{'factors': 12, 'iterations': 11, 'learning_rate': 0.010394382497316992, 'regularization': 0.009095123662865266}\n"
     ]
    },
    {
     "name": "stderr",
     "output_type": "stream",
     "text": [
      "100%|██████████| 11/11 [00:00<00:00, 42.80it/s, train_auc=67.57%, skipped=20.96%]\n",
      "[I 2024-04-04 10:22:17,195] Trial 2 finished with value: 0.10334547863530971 and parameters: {'factors': 12, 'iterations': 11, 'learning_rate': 0.010394382497316992, 'regularization': 0.009095123662865266}. Best is trial 1 with value: 0.15004968532626697.\n"
     ]
    },
    {
     "name": "stdout",
     "output_type": "stream",
     "text": [
      "Hitrate@10 = 0.10334547863530971\n",
      "{'factors': 9, 'iterations': 29, 'learning_rate': 0.03689601441082768, 'regularization': 0.002422705087147638}\n"
     ]
    },
    {
     "name": "stderr",
     "output_type": "stream",
     "text": [
      "100%|██████████| 29/29 [00:00<00:00, 43.43it/s, train_auc=83.97%, skipped=20.97%]\n",
      "[I 2024-04-04 10:22:18,883] Trial 3 finished with value: 0.12007287181185823 and parameters: {'factors': 9, 'iterations': 29, 'learning_rate': 0.03689601441082768, 'regularization': 0.002422705087147638}. Best is trial 1 with value: 0.15004968532626697.\n"
     ]
    },
    {
     "name": "stdout",
     "output_type": "stream",
     "text": [
      "Hitrate@10 = 0.12007287181185823\n",
      "{'factors': 114, 'iterations': 64, 'learning_rate': 0.07787713849075933, 'regularization': 0.0010921030943056337}\n"
     ]
    },
    {
     "name": "stderr",
     "output_type": "stream",
     "text": [
      "100%|██████████| 64/64 [00:02<00:00, 25.93it/s, train_auc=94.51%, skipped=20.92%]\n",
      "[I 2024-04-04 10:22:22,309] Trial 4 finished with value: 0.10417356740642597 and parameters: {'factors': 114, 'iterations': 64, 'learning_rate': 0.07787713849075933, 'regularization': 0.0010921030943056337}. Best is trial 1 with value: 0.15004968532626697.\n"
     ]
    },
    {
     "name": "stdout",
     "output_type": "stream",
     "text": [
      "Hitrate@10 = 0.10417356740642597\n",
      "{'factors': 80, 'iterations': 33, 'learning_rate': 0.07747219845079706, 'regularization': 0.08224515309261116}\n"
     ]
    },
    {
     "name": "stderr",
     "output_type": "stream",
     "text": [
      "100%|██████████| 33/33 [00:01<00:00, 30.96it/s, train_auc=78.58%, skipped=20.92%]\n",
      "[I 2024-04-04 10:22:24,524] Trial 5 finished with value: 0.0907585293143425 and parameters: {'factors': 80, 'iterations': 33, 'learning_rate': 0.07747219845079706, 'regularization': 0.08224515309261116}. Best is trial 1 with value: 0.15004968532626697.\n"
     ]
    },
    {
     "name": "stdout",
     "output_type": "stream",
     "text": [
      "Hitrate@10 = 0.0907585293143425\n",
      "{'factors': 102, 'iterations': 54, 'learning_rate': 0.09143848904235573, 'regularization': 0.08996568636094171}\n"
     ]
    },
    {
     "name": "stderr",
     "output_type": "stream",
     "text": [
      "100%|██████████| 54/54 [00:01<00:00, 27.25it/s, train_auc=77.68%, skipped=20.84%]\n",
      "[I 2024-04-04 10:22:27,671] Trial 6 finished with value: 0.15220271613116926 and parameters: {'factors': 102, 'iterations': 54, 'learning_rate': 0.09143848904235573, 'regularization': 0.08996568636094171}. Best is trial 6 with value: 0.15220271613116926.\n"
     ]
    },
    {
     "name": "stdout",
     "output_type": "stream",
     "text": [
      "Hitrate@10 = 0.15220271613116926\n",
      "{'factors': 10, 'iterations': 65, 'learning_rate': 0.08069060588453815, 'regularization': 0.039217405165507674}\n"
     ]
    },
    {
     "name": "stderr",
     "output_type": "stream",
     "text": [
      "100%|██████████| 65/65 [00:01<00:00, 48.39it/s, train_auc=82.74%, skipped=20.93%]\n",
      "[I 2024-04-04 10:22:30,196] Trial 7 finished with value: 0.12321960914210003 and parameters: {'factors': 10, 'iterations': 65, 'learning_rate': 0.08069060588453815, 'regularization': 0.039217405165507674}. Best is trial 6 with value: 0.15220271613116926.\n"
     ]
    },
    {
     "name": "stdout",
     "output_type": "stream",
     "text": [
      "Hitrate@10 = 0.12321960914210003\n",
      "{'factors': 117, 'iterations': 10, 'learning_rate': 0.06692229515659956, 'regularization': 0.06935081508592111}\n"
     ]
    },
    {
     "name": "stderr",
     "output_type": "stream",
     "text": [
      "100%|██████████| 10/10 [00:00<00:00, 26.23it/s, train_auc=76.90%, skipped=20.88%]\n",
      "[I 2024-04-04 10:22:31,719] Trial 8 finished with value: 0.12321960914210003 and parameters: {'factors': 117, 'iterations': 10, 'learning_rate': 0.06692229515659956, 'regularization': 0.06935081508592111}. Best is trial 6 with value: 0.15220271613116926.\n"
     ]
    },
    {
     "name": "stdout",
     "output_type": "stream",
     "text": [
      "Hitrate@10 = 0.12321960914210003\n",
      "{'factors': 26, 'iterations': 29, 'learning_rate': 0.0337182556059808, 'regularization': 0.011454815974883324}\n"
     ]
    },
    {
     "name": "stderr",
     "output_type": "stream",
     "text": [
      "100%|██████████| 29/29 [00:00<00:00, 41.03it/s, train_auc=87.90%, skipped=20.91%]\n",
      "[I 2024-04-04 10:22:33,408] Trial 9 finished with value: 0.1576681020205366 and parameters: {'factors': 26, 'iterations': 29, 'learning_rate': 0.0337182556059808, 'regularization': 0.011454815974883324}. Best is trial 9 with value: 0.1576681020205366.\n"
     ]
    },
    {
     "name": "stdout",
     "output_type": "stream",
     "text": [
      "Hitrate@10 = 0.1576681020205366\n",
      "{'factors': 51, 'iterations': 92, 'learning_rate': 0.004336910271005131, 'regularization': 0.04163929363890259}\n"
     ]
    },
    {
     "name": "stderr",
     "output_type": "stream",
     "text": [
      "100%|██████████| 92/92 [00:02<00:00, 34.77it/s, train_auc=80.13%, skipped=20.93%]\n",
      "[I 2024-04-04 10:22:37,109] Trial 10 finished with value: 0.14027823782709506 and parameters: {'factors': 51, 'iterations': 92, 'learning_rate': 0.004336910271005131, 'regularization': 0.04163929363890259}. Best is trial 9 with value: 0.1576681020205366.\n"
     ]
    },
    {
     "name": "stdout",
     "output_type": "stream",
     "text": [
      "Hitrate@10 = 0.14027823782709506\n",
      "{'factors': 82, 'iterations': 44, 'learning_rate': 0.09860295086705453, 'regularization': 0.06471097797604781}\n"
     ]
    },
    {
     "name": "stderr",
     "output_type": "stream",
     "text": [
      "100%|██████████| 44/44 [00:01<00:00, 31.33it/s, train_auc=80.65%, skipped=20.93%]\n",
      "[I 2024-04-04 10:22:39,675] Trial 11 finished with value: 0.11228883736336535 and parameters: {'factors': 82, 'iterations': 44, 'learning_rate': 0.09860295086705453, 'regularization': 0.06471097797604781}. Best is trial 9 with value: 0.1576681020205366.\n"
     ]
    },
    {
     "name": "stdout",
     "output_type": "stream",
     "text": [
      "Hitrate@10 = 0.11228883736336535\n",
      "{'factors': 54, 'iterations': 51, 'learning_rate': 0.05489070761887993, 'regularization': 0.09840702050636607}\n"
     ]
    },
    {
     "name": "stderr",
     "output_type": "stream",
     "text": [
      "100%|██████████| 51/51 [00:01<00:00, 32.47it/s, train_auc=77.70%, skipped=20.87%]\n",
      "[I 2024-04-04 10:22:42,396] Trial 12 finished with value: 0.106160980457105 and parameters: {'factors': 54, 'iterations': 51, 'learning_rate': 0.05489070761887993, 'regularization': 0.09840702050636607}. Best is trial 9 with value: 0.1576681020205366.\n"
     ]
    },
    {
     "name": "stdout",
     "output_type": "stream",
     "text": [
      "Hitrate@10 = 0.106160980457105\n",
      "{'factors': 100, 'iterations': 83, 'learning_rate': 0.02969885210790977, 'regularization': 0.05430522745644163}\n"
     ]
    },
    {
     "name": "stderr",
     "output_type": "stream",
     "text": [
      "100%|██████████| 83/83 [00:03<00:00, 27.11it/s, train_auc=83.51%, skipped=20.91%]\n",
      "[I 2024-04-04 10:22:46,699] Trial 13 finished with value: 0.13713150049685327 and parameters: {'factors': 100, 'iterations': 83, 'learning_rate': 0.02969885210790977, 'regularization': 0.05430522745644163}. Best is trial 9 with value: 0.1576681020205366.\n"
     ]
    },
    {
     "name": "stdout",
     "output_type": "stream",
     "text": [
      "Hitrate@10 = 0.13713150049685327\n",
      "{'factors': 45, 'iterations': 40, 'learning_rate': 0.0572168370856917, 'regularization': 0.028442064138601605}\n"
     ]
    },
    {
     "name": "stderr",
     "output_type": "stream",
     "text": [
      "100%|██████████| 40/40 [00:01<00:00, 36.61it/s, train_auc=86.80%, skipped=20.92%]\n",
      "[I 2024-04-04 10:22:48,782] Trial 14 finished with value: 0.1384564425306393 and parameters: {'factors': 45, 'iterations': 40, 'learning_rate': 0.0572168370856917, 'regularization': 0.028442064138601605}. Best is trial 9 with value: 0.1576681020205366.\n"
     ]
    },
    {
     "name": "stdout",
     "output_type": "stream",
     "text": [
      "Hitrate@10 = 0.1384564425306393\n",
      "{'factors': 94, 'iterations': 76, 'learning_rate': 0.09893254055082146, 'regularization': 0.05319560458692378}\n"
     ]
    },
    {
     "name": "stderr",
     "output_type": "stream",
     "text": [
      "100%|██████████| 76/76 [00:02<00:00, 29.34it/s, train_auc=82.33%, skipped=20.91%]\n",
      "[I 2024-04-04 10:22:52,478] Trial 15 finished with value: 0.11642928121894668 and parameters: {'factors': 94, 'iterations': 76, 'learning_rate': 0.09893254055082146, 'regularization': 0.05319560458692378}. Best is trial 9 with value: 0.1576681020205366.\n"
     ]
    },
    {
     "name": "stdout",
     "output_type": "stream",
     "text": [
      "Hitrate@10 = 0.11642928121894668\n",
      "{'factors': 66, 'iterations': 51, 'learning_rate': 0.04791219440353888, 'regularization': 0.021581763601374968}\n"
     ]
    },
    {
     "name": "stderr",
     "output_type": "stream",
     "text": [
      "100%|██████████| 51/51 [00:01<00:00, 33.43it/s, train_auc=89.14%, skipped=20.95%]\n",
      "[I 2024-04-04 10:22:55,094] Trial 16 finished with value: 0.1447499171911229 and parameters: {'factors': 66, 'iterations': 51, 'learning_rate': 0.04791219440353888, 'regularization': 0.021581763601374968}. Best is trial 9 with value: 0.1576681020205366.\n"
     ]
    },
    {
     "name": "stdout",
     "output_type": "stream",
     "text": [
      "Hitrate@10 = 0.1447499171911229\n",
      "{'factors': 37, 'iterations': 24, 'learning_rate': 0.023823143349237262, 'regularization': 0.06677979805019006}\n"
     ]
    },
    {
     "name": "stderr",
     "output_type": "stream",
     "text": [
      "100%|██████████| 24/24 [00:00<00:00, 40.66it/s, train_auc=78.68%, skipped=20.88%]\n",
      "[I 2024-04-04 10:22:56,706] Trial 17 finished with value: 0.1401126200728718 and parameters: {'factors': 37, 'iterations': 24, 'learning_rate': 0.023823143349237262, 'regularization': 0.06677979805019006}. Best is trial 9 with value: 0.1576681020205366.\n"
     ]
    },
    {
     "name": "stdout",
     "output_type": "stream",
     "text": [
      "Hitrate@10 = 0.1401126200728718\n",
      "{'factors': 124, 'iterations': 42, 'learning_rate': 0.06255308293287293, 'regularization': 0.09743132687358493}\n"
     ]
    },
    {
     "name": "stderr",
     "output_type": "stream",
     "text": [
      "100%|██████████| 42/42 [00:01<00:00, 23.78it/s, train_auc=77.37%, skipped=20.96%]\n",
      "[I 2024-04-04 10:22:59,603] Trial 18 finished with value: 0.1243789334216628 and parameters: {'factors': 124, 'iterations': 42, 'learning_rate': 0.06255308293287293, 'regularization': 0.09743132687358493}. Best is trial 9 with value: 0.1576681020205366.\n"
     ]
    },
    {
     "name": "stdout",
     "output_type": "stream",
     "text": [
      "Hitrate@10 = 0.1243789334216628\n",
      "{'factors': 69, 'iterations': 59, 'learning_rate': 0.04928540000780544, 'regularization': 0.07985142721581592}\n"
     ]
    },
    {
     "name": "stderr",
     "output_type": "stream",
     "text": [
      "100%|██████████| 59/59 [00:01<00:00, 30.21it/s, train_auc=80.03%, skipped=20.98%]\n",
      "[I 2024-04-04 10:23:02,768] Trial 19 finished with value: 0.10069559456773766 and parameters: {'factors': 69, 'iterations': 59, 'learning_rate': 0.04928540000780544, 'regularization': 0.07985142721581592}. Best is trial 9 with value: 0.1576681020205366.\n"
     ]
    },
    {
     "name": "stdout",
     "output_type": "stream",
     "text": [
      "Hitrate@10 = 0.10069559456773766\n",
      "{'factors': 105, 'iterations': 34, 'learning_rate': 0.017624627380488173, 'regularization': 0.040166762360451455}\n"
     ]
    },
    {
     "name": "stderr",
     "output_type": "stream",
     "text": [
      "100%|██████████| 34/34 [00:01<00:00, 30.05it/s, train_auc=81.67%, skipped=20.93%]\n",
      "[I 2024-04-04 10:23:04,932] Trial 20 finished with value: 0.13729711825107652 and parameters: {'factors': 105, 'iterations': 34, 'learning_rate': 0.017624627380488173, 'regularization': 0.040166762360451455}. Best is trial 9 with value: 0.1576681020205366.\n"
     ]
    },
    {
     "name": "stdout",
     "output_type": "stream",
     "text": [
      "Hitrate@10 = 0.13729711825107652\n",
      "{'factors': 32, 'iterations': 73, 'learning_rate': 0.04215705843127739, 'regularization': 0.0171331960795859}\n"
     ]
    },
    {
     "name": "stderr",
     "output_type": "stream",
     "text": [
      "100%|██████████| 73/73 [00:01<00:00, 41.08it/s, train_auc=89.30%, skipped=20.97%]\n",
      "[I 2024-04-04 10:23:07,671] Trial 21 finished with value: 0.1457436237164624 and parameters: {'factors': 32, 'iterations': 73, 'learning_rate': 0.04215705843127739, 'regularization': 0.0171331960795859}. Best is trial 9 with value: 0.1576681020205366.\n"
     ]
    },
    {
     "name": "stdout",
     "output_type": "stream",
     "text": [
      "Hitrate@10 = 0.1457436237164624\n",
      "{'factors': 25, 'iterations': 94, 'learning_rate': 0.035915216773086275, 'regularization': 0.030477792169731788}\n"
     ]
    },
    {
     "name": "stderr",
     "output_type": "stream",
     "text": [
      "100%|██████████| 94/94 [00:02<00:00, 42.06it/s, train_auc=87.43%, skipped=20.94%]\n",
      "[I 2024-04-04 10:23:10,897] Trial 22 finished with value: 0.13829082477641602 and parameters: {'factors': 25, 'iterations': 94, 'learning_rate': 0.035915216773086275, 'regularization': 0.030477792169731788}. Best is trial 9 with value: 0.1576681020205366.\n"
     ]
    },
    {
     "name": "stdout",
     "output_type": "stream",
     "text": [
      "Hitrate@10 = 0.13829082477641602\n",
      "{'factors': 23, 'iterations': 72, 'learning_rate': 0.02736464421291515, 'regularization': 0.012590278179361359}\n"
     ]
    },
    {
     "name": "stderr",
     "output_type": "stream",
     "text": [
      "100%|██████████| 72/72 [00:01<00:00, 43.53it/s, train_auc=88.56%, skipped=20.95%]\n",
      "[I 2024-04-04 10:23:13,528] Trial 23 finished with value: 0.15021530308049022 and parameters: {'factors': 23, 'iterations': 72, 'learning_rate': 0.02736464421291515, 'regularization': 0.012590278179361359}. Best is trial 9 with value: 0.1576681020205366.\n"
     ]
    },
    {
     "name": "stdout",
     "output_type": "stream",
     "text": [
      "Hitrate@10 = 0.15021530308049022\n",
      "{'factors': 61, 'iterations': 84, 'learning_rate': 0.025645159801354078, 'regularization': 0.01287338726251478}\n"
     ]
    },
    {
     "name": "stderr",
     "output_type": "stream",
     "text": [
      "100%|██████████| 84/84 [00:02<00:00, 35.54it/s, train_auc=92.43%, skipped=21.03%]\n",
      "[I 2024-04-04 10:23:16,831] Trial 24 finished with value: 0.1419344153693276 and parameters: {'factors': 61, 'iterations': 84, 'learning_rate': 0.025645159801354078, 'regularization': 0.01287338726251478}. Best is trial 9 with value: 0.1576681020205366.\n"
     ]
    },
    {
     "name": "stdout",
     "output_type": "stream",
     "text": [
      "Hitrate@10 = 0.1419344153693276\n"
     ]
    },
    {
     "data": {
      "text/plain": [
       "{'factors': 26,\n",
       " 'iterations': 29,\n",
       " 'learning_rate': 0.0337182556059808,\n",
       " 'regularization': 0.011454815974883324}"
      ]
     },
     "execution_count": 14,
     "metadata": {},
     "output_type": "execute_result"
    }
   ],
   "source": [
    "def objective(trial):\n",
    "    factors = trial.suggest_int('factors', 8, 128)\n",
    "    iterations = trial.suggest_int('iterations', 10, 100)\n",
    "    learning_rate = trial.suggest_float('learning_rate', 1e-4, 1e-1)\n",
    "    regularization = trial.suggest_float('regularization', 1e-3, 1e-1)\n",
    "        \n",
    "    print({\n",
    "        'factors': factors,\n",
    "        'iterations': iterations,\n",
    "        'learning_rate': learning_rate,\n",
    "        'regularization': regularization,\n",
    "    })\n",
    "    \n",
    "    set_seed()\n",
    "    bpr_model = implicit.bpr.BayesianPersonalizedRanking(\n",
    "        factors=factors,\n",
    "        iterations=iterations,\n",
    "        random_state=RANDOM_STATE,\n",
    "        learning_rate=learning_rate,\n",
    "        regularization=regularization\n",
    "    )\n",
    "    bpr_model.fit(user_item_data)\n",
    "    \n",
    "    mean_hitrate = evaluate_model(\n",
    "        bpr_model.user_factors,\n",
    "        bpr_model.item_factors,\n",
    "    )\n",
    "    print(f'Hitrate@{TOP_K} = {mean_hitrate}')\n",
    "    return mean_hitrate\n",
    "    \n",
    "    \n",
    "study = optuna.create_study(directions=('maximize',))\n",
    "study.optimize(objective, n_trials=25)\n",
    "\n",
    "study.best_params"
   ]
  },
  {
   "cell_type": "code",
   "execution_count": 15,
   "id": "e4fb180d",
   "metadata": {},
   "outputs": [
    {
     "name": "stderr",
     "output_type": "stream",
     "text": [
      " 14%|█▍        | 4/29 [00:00<00:00, 41.09it/s, train_auc=65.99%, skipped=20.99%]100%|██████████| 29/29 [00:00<00:00, 39.41it/s, train_auc=87.91%, skipped=20.91%]\n"
     ]
    },
    {
     "name": "stdout",
     "output_type": "stream",
     "text": [
      "Hitrate@10 = 0.15833057303742962\n"
     ]
    }
   ],
   "source": [
    "bpr_model = implicit.bpr.BayesianPersonalizedRanking(\n",
    "    random_state=RANDOM_STATE,\n",
    "    **study.best_params\n",
    ")\n",
    "bpr_model.fit(user_item_data)\n",
    "\n",
    "mean_hitrate = evaluate_model(\n",
    "    bpr_model.user_factors,\n",
    "    bpr_model.item_factors,\n",
    ")\n",
    "print(f'Hitrate@{TOP_K} = {mean_hitrate}')"
   ]
  },
  {
   "cell_type": "markdown",
   "id": "13633164",
   "metadata": {},
   "source": [
    "## LightFM\n",
    "\n",
    "Библиотека [LightFM](https://making.lyst.com/lightfm/docs/index.html) позволяет работать с разными функциями ошибки (logistic, bpr, warp)\n",
    "\n",
    "рассмотрим следующие параметры:\n",
    "\n",
    "- `no_components` – размерность эмбеддингов\n",
    "- `epochs` – сколько итераций будет обучаться алгоритм\n",
    "- `loss` – одна из поддерживаемых функций ошибки (logistic, bpr, warp)\n",
    "- `alpha` – параметр регуляризации эмбеддингов (для пользователей и объектов используем одинаковый для ускорения)"
   ]
  },
  {
   "cell_type": "code",
   "execution_count": 16,
   "id": "4e8f98e9",
   "metadata": {
    "scrolled": true
   },
   "outputs": [
    {
     "name": "stderr",
     "output_type": "stream",
     "text": [
      "[I 2024-04-04 10:24:23,058] A new study created in memory with name: no-name-72fee409-0700-41da-af50-dc10cc17b573\n"
     ]
    },
    {
     "name": "stdout",
     "output_type": "stream",
     "text": [
      "{'no_components': 37, 'alpha': 0.0006488223270327586, 'loss': 'warp-kos'}\n"
     ]
    },
    {
     "name": "stderr",
     "output_type": "stream",
     "text": [
      "Epoch: 100%|██████████| 14/14 [00:24<00:00,  1.72s/it]\n",
      "[I 2024-04-04 10:24:48,261] Trial 0 finished with value: 0.041570056310036435 and parameters: {'no_components': 37, 'epochs': 14, 'loss': 'warp-kos', 'alpha': 0.0006488223270327586}. Best is trial 0 with value: 0.041570056310036435.\n"
     ]
    },
    {
     "name": "stdout",
     "output_type": "stream",
     "text": [
      "Hitrate@10 = 0.041570056310036435\n",
      "{'no_components': 50, 'alpha': 0.0004167652031506397, 'loss': 'logistic'}\n"
     ]
    },
    {
     "name": "stderr",
     "output_type": "stream",
     "text": [
      "Epoch: 100%|██████████| 20/20 [00:15<00:00,  1.28it/s]\n",
      "[I 2024-04-04 10:25:05,301] Trial 1 finished with value: 0.001324942033786022 and parameters: {'no_components': 50, 'epochs': 20, 'loss': 'logistic', 'alpha': 0.0004167652031506397}. Best is trial 0 with value: 0.041570056310036435.\n"
     ]
    },
    {
     "name": "stdout",
     "output_type": "stream",
     "text": [
      "Hitrate@10 = 0.001324942033786022\n",
      "{'no_components': 16, 'alpha': 0.0009815357582607191, 'loss': 'logistic'}\n"
     ]
    },
    {
     "name": "stderr",
     "output_type": "stream",
     "text": [
      "Epoch: 100%|██████████| 16/16 [00:05<00:00,  2.97it/s]\n",
      "[I 2024-04-04 10:25:11,993] Trial 2 finished with value: 0.0003312355084465055 and parameters: {'no_components': 16, 'epochs': 16, 'loss': 'logistic', 'alpha': 0.0009815357582607191}. Best is trial 0 with value: 0.041570056310036435.\n"
     ]
    },
    {
     "name": "stdout",
     "output_type": "stream",
     "text": [
      "Hitrate@10 = 0.0003312355084465055\n",
      "{'no_components': 32, 'alpha': 0.0004393610339545586, 'loss': 'warp'}\n"
     ]
    },
    {
     "name": "stderr",
     "output_type": "stream",
     "text": [
      "Epoch: 100%|██████████| 16/16 [00:14<00:00,  1.10it/s]\n",
      "[I 2024-04-04 10:25:27,536] Trial 3 finished with value: 0.18946671083140113 and parameters: {'no_components': 32, 'epochs': 16, 'loss': 'warp', 'alpha': 0.0004393610339545586}. Best is trial 3 with value: 0.18946671083140113.\n"
     ]
    },
    {
     "name": "stdout",
     "output_type": "stream",
     "text": [
      "Hitrate@10 = 0.18946671083140113\n",
      "{'no_components': 49, 'alpha': 0.000398245335479263, 'loss': 'logistic'}\n"
     ]
    },
    {
     "name": "stderr",
     "output_type": "stream",
     "text": [
      "Epoch: 100%|██████████| 6/6 [00:04<00:00,  1.30it/s]\n",
      "[I 2024-04-04 10:25:33,425] Trial 4 finished with value: 0.0003312355084465055 and parameters: {'no_components': 49, 'epochs': 6, 'loss': 'logistic', 'alpha': 0.000398245335479263}. Best is trial 3 with value: 0.18946671083140113.\n"
     ]
    },
    {
     "name": "stdout",
     "output_type": "stream",
     "text": [
      "Hitrate@10 = 0.0003312355084465055\n",
      "{'no_components': 56, 'alpha': 0.00031400045512310873, 'loss': 'logistic'}\n"
     ]
    },
    {
     "name": "stderr",
     "output_type": "stream",
     "text": [
      "Epoch: 100%|██████████| 9/9 [00:07<00:00,  1.15it/s]\n",
      "[I 2024-04-04 10:25:42,707] Trial 5 finished with value: 0.0009937065253395165 and parameters: {'no_components': 56, 'epochs': 9, 'loss': 'logistic', 'alpha': 0.00031400045512310873}. Best is trial 3 with value: 0.18946671083140113.\n"
     ]
    },
    {
     "name": "stdout",
     "output_type": "stream",
     "text": [
      "Hitrate@10 = 0.0009937065253395165\n",
      "{'no_components': 17, 'alpha': 0.00038005534406376773, 'loss': 'warp-kos'}\n"
     ]
    },
    {
     "name": "stderr",
     "output_type": "stream",
     "text": [
      "Epoch: 100%|██████████| 8/8 [00:09<00:00,  1.14s/it]\n",
      "[I 2024-04-04 10:25:53,025] Trial 6 finished with value: 0.025505134150380922 and parameters: {'no_components': 17, 'epochs': 8, 'loss': 'warp-kos', 'alpha': 0.00038005534406376773}. Best is trial 3 with value: 0.18946671083140113.\n"
     ]
    },
    {
     "name": "stdout",
     "output_type": "stream",
     "text": [
      "Hitrate@10 = 0.025505134150380922\n",
      "{'no_components': 35, 'alpha': 0.0008638977311707052, 'loss': 'warp-kos'}\n"
     ]
    },
    {
     "name": "stderr",
     "output_type": "stream",
     "text": [
      "Epoch: 100%|██████████| 6/6 [00:10<00:00,  1.70s/it]\n",
      "[I 2024-04-04 10:26:04,564] Trial 7 finished with value: 0.01457436237164624 and parameters: {'no_components': 35, 'epochs': 6, 'loss': 'warp-kos', 'alpha': 0.0008638977311707052}. Best is trial 3 with value: 0.18946671083140113.\n"
     ]
    },
    {
     "name": "stdout",
     "output_type": "stream",
     "text": [
      "Hitrate@10 = 0.01457436237164624\n",
      "{'no_components': 18, 'alpha': 0.00018572730398144666, 'loss': 'logistic'}\n"
     ]
    },
    {
     "name": "stderr",
     "output_type": "stream",
     "text": [
      "Epoch: 100%|██████████| 10/10 [00:03<00:00,  2.64it/s]\n",
      "[I 2024-04-04 10:26:09,763] Trial 8 finished with value: 0.0021530308049022857 and parameters: {'no_components': 18, 'epochs': 10, 'loss': 'logistic', 'alpha': 0.00018572730398144666}. Best is trial 3 with value: 0.18946671083140113.\n"
     ]
    },
    {
     "name": "stdout",
     "output_type": "stream",
     "text": [
      "Hitrate@10 = 0.0021530308049022857\n",
      "{'no_components': 14, 'alpha': 0.00037073866791996544, 'loss': 'logistic'}\n"
     ]
    },
    {
     "name": "stderr",
     "output_type": "stream",
     "text": [
      "Epoch: 100%|██████████| 20/20 [00:06<00:00,  3.01it/s]\n",
      "[I 2024-04-04 10:26:17,670] Trial 9 finished with value: 0.0009937065253395165 and parameters: {'no_components': 14, 'epochs': 20, 'loss': 'logistic', 'alpha': 0.00037073866791996544}. Best is trial 3 with value: 0.18946671083140113.\n"
     ]
    },
    {
     "name": "stdout",
     "output_type": "stream",
     "text": [
      "Hitrate@10 = 0.0009937065253395165\n",
      "{'no_components': 32, 'alpha': 3.073633552353925e-05, 'loss': 'warp'}\n"
     ]
    },
    {
     "name": "stderr",
     "output_type": "stream",
     "text": [
      "Epoch: 100%|██████████| 16/16 [00:13<00:00,  1.15it/s]\n",
      "[I 2024-04-04 10:26:32,666] Trial 10 finished with value: 0.1636303411725737 and parameters: {'no_components': 32, 'epochs': 16, 'loss': 'warp', 'alpha': 3.073633552353925e-05}. Best is trial 3 with value: 0.18946671083140113.\n"
     ]
    },
    {
     "name": "stdout",
     "output_type": "stream",
     "text": [
      "Hitrate@10 = 0.1636303411725737\n",
      "{'no_components': 32, 'alpha': 6.173881202137368e-05, 'loss': 'warp'}\n"
     ]
    },
    {
     "name": "stderr",
     "output_type": "stream",
     "text": [
      "Epoch: 100%|██████████| 16/16 [00:13<00:00,  1.15it/s]\n",
      "[I 2024-04-04 10:26:47,749] Trial 11 finished with value: 0.16942696257038756 and parameters: {'no_components': 32, 'epochs': 16, 'loss': 'warp', 'alpha': 6.173881202137368e-05}. Best is trial 3 with value: 0.18946671083140113.\n"
     ]
    },
    {
     "name": "stdout",
     "output_type": "stream",
     "text": [
      "Hitrate@10 = 0.16942696257038756\n",
      "{'no_components': 25, 'alpha': 2.8469672768293997e-06, 'loss': 'warp'}\n"
     ]
    },
    {
     "name": "stderr",
     "output_type": "stream",
     "text": [
      "Epoch: 100%|██████████| 16/16 [00:11<00:00,  1.38it/s]\n",
      "[I 2024-04-04 10:27:00,447] Trial 12 finished with value: 0.17704537926465716 and parameters: {'no_components': 25, 'epochs': 16, 'loss': 'warp', 'alpha': 2.8469672768293997e-06}. Best is trial 3 with value: 0.18946671083140113.\n"
     ]
    },
    {
     "name": "stdout",
     "output_type": "stream",
     "text": [
      "Hitrate@10 = 0.17704537926465716\n",
      "{'no_components': 26, 'alpha': 0.00019343523900041586, 'loss': 'bpr'}\n"
     ]
    },
    {
     "name": "stderr",
     "output_type": "stream",
     "text": [
      "Epoch: 100%|██████████| 13/13 [00:09<00:00,  1.34it/s]\n",
      "[I 2024-04-04 10:27:11,204] Trial 13 finished with value: 0.04173567406425969 and parameters: {'no_components': 26, 'epochs': 13, 'loss': 'bpr', 'alpha': 0.00019343523900041586}. Best is trial 3 with value: 0.18946671083140113.\n"
     ]
    },
    {
     "name": "stdout",
     "output_type": "stream",
     "text": [
      "Hitrate@10 = 0.04173567406425969\n",
      "{'no_components': 43, 'alpha': 0.0005844914785488445, 'loss': 'warp'}\n"
     ]
    },
    {
     "name": "stderr",
     "output_type": "stream",
     "text": [
      "Epoch: 100%|██████████| 18/18 [00:20<00:00,  1.14s/it]\n",
      "[I 2024-04-04 10:27:32,640] Trial 14 finished with value: 0.19642265650877774 and parameters: {'no_components': 43, 'epochs': 18, 'loss': 'warp', 'alpha': 0.0005844914785488445}. Best is trial 14 with value: 0.19642265650877774.\n"
     ]
    },
    {
     "name": "stdout",
     "output_type": "stream",
     "text": [
      "Hitrate@10 = 0.19642265650877774\n",
      "{'no_components': 43, 'alpha': 0.000605405800777743, 'loss': 'warp'}\n"
     ]
    },
    {
     "name": "stderr",
     "output_type": "stream",
     "text": [
      "Epoch: 100%|██████████| 19/19 [00:21<00:00,  1.13s/it]\n",
      "[I 2024-04-04 10:27:55,102] Trial 15 finished with value: 0.19592580324610798 and parameters: {'no_components': 43, 'epochs': 19, 'loss': 'warp', 'alpha': 0.000605405800777743}. Best is trial 14 with value: 0.19642265650877774.\n"
     ]
    },
    {
     "name": "stdout",
     "output_type": "stream",
     "text": [
      "Hitrate@10 = 0.19592580324610798\n",
      "{'no_components': 64, 'alpha': 0.0005748744656105721, 'loss': 'warp'}\n"
     ]
    },
    {
     "name": "stderr",
     "output_type": "stream",
     "text": [
      "Epoch: 100%|██████████| 18/18 [00:28<00:00,  1.59s/it]\n",
      "[I 2024-04-04 10:28:24,749] Trial 16 finished with value: 0.20056310036435906 and parameters: {'no_components': 64, 'epochs': 18, 'loss': 'warp', 'alpha': 0.0005748744656105721}. Best is trial 16 with value: 0.20056310036435906.\n"
     ]
    },
    {
     "name": "stdout",
     "output_type": "stream",
     "text": [
      "Hitrate@10 = 0.20056310036435906\n",
      "{'no_components': 63, 'alpha': 0.0005629224082245723, 'loss': 'bpr'}\n"
     ]
    },
    {
     "name": "stderr",
     "output_type": "stream",
     "text": [
      "Epoch: 100%|██████████| 18/18 [00:26<00:00,  1.49s/it]\n",
      "[I 2024-04-04 10:28:52,877] Trial 17 finished with value: 0.019542894998343822 and parameters: {'no_components': 63, 'epochs': 18, 'loss': 'bpr', 'alpha': 0.0005629224082245723}. Best is trial 16 with value: 0.20056310036435906.\n"
     ]
    },
    {
     "name": "stdout",
     "output_type": "stream",
     "text": [
      "Hitrate@10 = 0.019542894998343822\n",
      "{'no_components': 64, 'alpha': 0.0007013886527225564, 'loss': 'warp'}\n"
     ]
    },
    {
     "name": "stderr",
     "output_type": "stream",
     "text": [
      "Epoch: 100%|██████████| 18/18 [00:29<00:00,  1.62s/it]\n",
      "[I 2024-04-04 10:29:23,016] Trial 18 finished with value: 0.18830738655183835 and parameters: {'no_components': 64, 'epochs': 18, 'loss': 'warp', 'alpha': 0.0007013886527225564}. Best is trial 16 with value: 0.20056310036435906.\n"
     ]
    },
    {
     "name": "stdout",
     "output_type": "stream",
     "text": [
      "Hitrate@10 = 0.18830738655183835\n",
      "{'no_components': 56, 'alpha': 0.0007360181920083338, 'loss': 'warp'}\n"
     ]
    },
    {
     "name": "stderr",
     "output_type": "stream",
     "text": [
      "Epoch: 100%|██████████| 11/11 [00:15<00:00,  1.42s/it]\n",
      "[I 2024-04-04 10:29:39,614] Trial 19 finished with value: 0.17837032129844319 and parameters: {'no_components': 56, 'epochs': 11, 'loss': 'warp', 'alpha': 0.0007360181920083338}. Best is trial 16 with value: 0.20056310036435906.\n"
     ]
    },
    {
     "name": "stdout",
     "output_type": "stream",
     "text": [
      "Hitrate@10 = 0.17837032129844319\n",
      "{'no_components': 8, 'alpha': 0.0005114830814794664, 'loss': 'warp'}\n"
     ]
    },
    {
     "name": "stderr",
     "output_type": "stream",
     "text": [
      "Epoch: 100%|██████████| 13/13 [00:05<00:00,  2.39it/s]\n",
      "[I 2024-04-04 10:29:46,046] Trial 20 finished with value: 0.14706856575024843 and parameters: {'no_components': 8, 'epochs': 13, 'loss': 'warp', 'alpha': 0.0005114830814794664}. Best is trial 16 with value: 0.20056310036435906.\n"
     ]
    },
    {
     "name": "stdout",
     "output_type": "stream",
     "text": [
      "Hitrate@10 = 0.14706856575024843\n",
      "{'no_components': 42, 'alpha': 0.0005995057196368168, 'loss': 'warp'}\n"
     ]
    },
    {
     "name": "stderr",
     "output_type": "stream",
     "text": [
      "Epoch: 100%|██████████| 18/18 [00:20<00:00,  1.14s/it]\n",
      "[I 2024-04-04 10:30:07,581] Trial 21 finished with value: 0.19576018549188473 and parameters: {'no_components': 42, 'epochs': 18, 'loss': 'warp', 'alpha': 0.0005995057196368168}. Best is trial 16 with value: 0.20056310036435906.\n"
     ]
    },
    {
     "name": "stdout",
     "output_type": "stream",
     "text": [
      "Hitrate@10 = 0.19576018549188473\n",
      "{'no_components': 45, 'alpha': 0.0005196877042700811, 'loss': 'warp'}\n"
     ]
    },
    {
     "name": "stderr",
     "output_type": "stream",
     "text": [
      "Epoch: 100%|██████████| 19/19 [00:22<00:00,  1.18s/it]\n",
      "[I 2024-04-04 10:30:31,111] Trial 22 finished with value: 0.20089433587280556 and parameters: {'no_components': 45, 'epochs': 19, 'loss': 'warp', 'alpha': 0.0005196877042700811}. Best is trial 22 with value: 0.20089433587280556.\n"
     ]
    },
    {
     "name": "stdout",
     "output_type": "stream",
     "text": [
      "Hitrate@10 = 0.20089433587280556\n",
      "{'no_components': 47, 'alpha': 0.0005223040489608528, 'loss': 'warp'}\n"
     ]
    },
    {
     "name": "stderr",
     "output_type": "stream",
     "text": [
      "Epoch: 100%|██████████| 18/18 [00:22<00:00,  1.23s/it]\n",
      "[I 2024-04-04 10:30:54,466] Trial 23 finished with value: 0.19509771447499172 and parameters: {'no_components': 47, 'epochs': 18, 'loss': 'warp', 'alpha': 0.0005223040489608528}. Best is trial 22 with value: 0.20089433587280556.\n"
     ]
    },
    {
     "name": "stdout",
     "output_type": "stream",
     "text": [
      "Hitrate@10 = 0.19509771447499172\n",
      "{'no_components': 57, 'alpha': 0.0005087346899098689, 'loss': 'bpr'}\n"
     ]
    },
    {
     "name": "stderr",
     "output_type": "stream",
     "text": [
      "Epoch: 100%|██████████| 14/14 [00:19<00:00,  1.40s/it]\n",
      "[I 2024-04-04 10:31:15,158] Trial 24 finished with value: 0.02484266313348791 and parameters: {'no_components': 57, 'epochs': 14, 'loss': 'bpr', 'alpha': 0.0005087346899098689}. Best is trial 22 with value: 0.20089433587280556.\n"
     ]
    },
    {
     "name": "stdout",
     "output_type": "stream",
     "text": [
      "Hitrate@10 = 0.02484266313348791\n"
     ]
    },
    {
     "data": {
      "text/plain": [
       "{'no_components': 45,\n",
       " 'epochs': 19,\n",
       " 'loss': 'warp',\n",
       " 'alpha': 0.0005196877042700811}"
      ]
     },
     "execution_count": 16,
     "metadata": {},
     "output_type": "execute_result"
    }
   ],
   "source": [
    "def objective(trial):\n",
    "    no_components = trial.suggest_int('no_components', 8, 64)\n",
    "    epochs = trial.suggest_int('epochs', 5, 20)\n",
    "    loss = trial.suggest_categorical('loss', ['logistic', 'bpr', 'warp', 'warp-kos'])\n",
    "    alpha = trial.suggest_float('alpha', 0., 1e-3)\n",
    "        \n",
    "    print({\n",
    "        'no_components': no_components,\n",
    "        'alpha': alpha,\n",
    "        'loss': loss,\n",
    "    })\n",
    "    \n",
    "    set_seed()\n",
    "    try:\n",
    "        # модель может бросить исключение, если регуляризация слишком сильная\n",
    "        lightfm_model = LightFM(\n",
    "            no_components=no_components,\n",
    "            loss=loss,\n",
    "            item_alpha=alpha,\n",
    "            user_alpha=alpha,\n",
    "            k=TOP_K,\n",
    "            random_state=RANDOM_STATE,\n",
    "        )\n",
    "        lightfm_model.fit(user_item_data, epochs=epochs, verbose=True)\n",
    "    except:\n",
    "        return None\n",
    "    \n",
    "    mean_hitrate = evaluate_model(\n",
    "        lightfm_model.user_embeddings,\n",
    "        lightfm_model.item_embeddings,\n",
    "    )\n",
    "    print(f'Hitrate@{TOP_K} = {mean_hitrate}')\n",
    "    return mean_hitrate\n",
    "    \n",
    "\n",
    "study = optuna.create_study(directions=('maximize',))\n",
    "study.optimize(objective, n_trials=25)\n",
    "\n",
    "study.best_params"
   ]
  },
  {
   "cell_type": "code",
   "execution_count": 17,
   "id": "002db7f0",
   "metadata": {},
   "outputs": [
    {
     "name": "stderr",
     "output_type": "stream",
     "text": [
      "Epoch:   0%|          | 0/30 [00:00<?, ?it/s]Epoch: 100%|██████████| 30/30 [00:35<00:00,  1.17s/it]\n"
     ]
    },
    {
     "name": "stdout",
     "output_type": "stream",
     "text": [
      "Hitrate@10 = 0.2091752235839682\n"
     ]
    }
   ],
   "source": [
    "lightfm_model = LightFM(\n",
    "    no_components=45,\n",
    "    loss='warp',\n",
    "    item_alpha=4e-4,\n",
    "    user_alpha=4e-4,\n",
    "    k=TOP_K,\n",
    "    random_state=RANDOM_STATE,\n",
    ")\n",
    "lightfm_model.fit(user_item_data, epochs=30, verbose=True)\n",
    "\n",
    "mean_hitrate = evaluate_model(\n",
    "    lightfm_model.user_embeddings,\n",
    "    lightfm_model.item_embeddings,\n",
    ")\n",
    "print(f'Hitrate@{TOP_K} = {mean_hitrate}')"
   ]
  }
 ],
 "metadata": {
  "kernelspec": {
   "display_name": "Python 3",
   "language": "python",
   "name": "python3"
  },
  "language_info": {
   "codemirror_mode": {
    "name": "ipython",
    "version": 3
   },
   "file_extension": ".py",
   "mimetype": "text/x-python",
   "name": "python",
   "nbconvert_exporter": "python",
   "pygments_lexer": "ipython3",
   "version": "3.9.7"
  }
 },
 "nbformat": 4,
 "nbformat_minor": 5
}
