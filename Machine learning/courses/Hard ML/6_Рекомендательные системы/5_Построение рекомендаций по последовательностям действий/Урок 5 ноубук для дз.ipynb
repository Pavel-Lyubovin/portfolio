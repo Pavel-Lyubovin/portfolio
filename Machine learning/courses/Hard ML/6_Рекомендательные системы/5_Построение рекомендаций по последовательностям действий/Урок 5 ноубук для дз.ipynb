{
 "cells": [
  {
   "cell_type": "markdown",
   "id": "f10f161c",
   "metadata": {},
   "source": [
    "# Создание рекомендательной системы для авторов музыки"
   ]
  },
  {
   "cell_type": "markdown",
   "id": "5c3a29d8",
   "metadata": {},
   "source": [
    "## Описание задания\n",
    "В роли ML-инженера в сервисе музыкального стриминга вам представлена задача создания рекомендательной системы для собственного потокового сервиса, аналогичного Spotify. В этот раз вы не обладаете знаниями о контенте, зато у вас есть история прослушиваний исполнителей для каждого пользователя.\n",
    "\n",
    "Ваша задача состоит в улучшении алгоритма, который определит наиболее релевантные рекомендации для каждого пользователя на основе их истории прослушиваний.\n",
    "\n",
    "**Описание данных**  \n",
    "В файле `train.parquet` вам предоставлены данные о прослушиваниях пользователями артистов в сервисе.\n",
    "\n",
    "Зачастую в реальных системах данные анонимизированы, поэтому и в этом задании мы будем работать только с абстрактными идентификаторами. Поэтому для оценки метода мы будем использовать рассмотренные ранее метрики качества."
   ]
  },
  {
   "cell_type": "markdown",
   "id": "68d66963",
   "metadata": {},
   "source": [
    "|Поле|Тип|Описание|\n",
    "|---|---|---|\n",
    "|user_id|str|Идентификатор пользователя|\n",
    "|artist_id|str|Идентификатор исполнителя|"
   ]
  },
  {
   "cell_type": "markdown",
   "id": "c750dc82",
   "metadata": {},
   "source": [
    "## Оценивание\n",
    "Оценка за задание зависит от метрики качества ndcg@20, которая часто применяется в задаче ранжирования. Чем больше релевантных объектов находится в начале списка рекомендаций, тем она выше. Для оценивания используются сессионная валидация с последними N артистами из истории прослушиваний.\n",
    "\n",
    "В зависимости от значения этой метрики, финальная оценка будет линейно отображена из диапазона значений метрики [0.02, 0.07] в диапазон оценки [0, 25]. То есть при ndcg@20 <= 0.02 вы получите оценку 0, при ndcg@20 >= 0.07 вы получите оценку 25, а все промежуточные значения считаются по формуле\n",
    "\n",
    "\n",
    "\n",
    "\n",
    "$  \n",
    "<font size=\"5\">\n",
    "$25\\frac{ndcg−0.02}{0.07−0.02}$\n",
    "</font>\n"
   ]
  },
  {
   "cell_type": "markdown",
   "id": "6364c8c4",
   "metadata": {},
   "source": [
    "## Советы по решению\n",
    "- параметры моделей по умолчанию зачастую не являются оптимальными, стоит подобрать наиболее подходящие\n",
    "- для улучшения метрик стоит обучать модель на всех возможных данных (train + test)\n",
    "- в качестве комбинации методов можно использовать взвешенную сортировку, где вес зависит от позиции в списке рекомендаций и «качества» метода\n",
    "\n",
    "При офлайн оценке рекомендуется оценивать ваше решение с помощью валидации по событиям. Не забывайте, что при сдаче решения стоит обучить вашу модель на всех возможных данных для увеличения метрики."
   ]
  },
  {
   "cell_type": "code",
   "execution_count": 23,
   "id": "a054832f",
   "metadata": {},
   "outputs": [
    {
     "name": "stderr",
     "output_type": "stream",
     "text": [
      "/home/jupyter-pavel.lyubovin/.conda/envs/recsys/lib/python3.9/site-packages/tqdm/auto.py:21: TqdmWarning: IProgress not found. Please update jupyter and ipywidgets. See https://ipywidgets.readthedocs.io/en/stable/user_install.html\n",
      "  from .autonotebook import tqdm as notebook_tqdm\n"
     ]
    }
   ],
   "source": [
    "import pandas as pd\n",
    "import polars as pl\n",
    "import numpy as np\n",
    "import scipy.sparse as sp\n",
    "from gensim.models import Word2Vec\n",
    "import optuna\n",
    "import random\n",
    "\n",
    "from tqdm import tqdm\n",
    "from typing import List, Any"
   ]
  },
  {
   "cell_type": "markdown",
   "id": "0f86f3a9",
   "metadata": {},
   "source": [
    "## Читаем датасет"
   ]
  },
  {
   "cell_type": "code",
   "execution_count": 3,
   "id": "b3b0fc0f",
   "metadata": {
    "scrolled": true
   },
   "outputs": [
    {
     "data": {
      "text/html": [
       "<div><style>\n",
       ".dataframe > thead > tr > th,\n",
       ".dataframe > tbody > tr > td {\n",
       "  text-align: right;\n",
       "}\n",
       "</style>\n",
       "<small>shape: (2_275_900, 2)</small><table border=\"1\" class=\"dataframe\"><thead><tr><th>user_id</th><th>artist_id</th></tr><tr><td>str</td><td>str</td></tr></thead><tbody><tr><td>&quot;d705b538-1bd8-…</td><td>&quot;69c71d72-7ed8-…</td></tr><tr><td>&quot;d705b538-1bd8-…</td><td>&quot;30bf469f-9abd-…</td></tr><tr><td>&quot;d705b538-1bd8-…</td><td>&quot;a26c9335-2459-…</td></tr><tr><td>&quot;d705b538-1bd8-…</td><td>&quot;69c903b5-dff0-…</td></tr><tr><td>&quot;d705b538-1bd8-…</td><td>&quot;af8eef9d-13aa-…</td></tr><tr><td>&quot;d705b538-1bd8-…</td><td>&quot;293a86ee-6ce7-…</td></tr><tr><td>&quot;d705b538-1bd8-…</td><td>&quot;348f4909-1c48-…</td></tr><tr><td>&quot;d705b538-1bd8-…</td><td>&quot;ad2bf122-726e-…</td></tr><tr><td>&quot;d705b538-1bd8-…</td><td>&quot;cc97fc57-30b5-…</td></tr><tr><td>&quot;d705b538-1bd8-…</td><td>&quot;3000b3a4-7435-…</td></tr><tr><td>&quot;d705b538-1bd8-…</td><td>&quot;3d3535e5-f2cf-…</td></tr><tr><td>&quot;d705b538-1bd8-…</td><td>&quot;b4d4af2b-f7a9-…</td></tr><tr><td>&hellip;</td><td>&hellip;</td></tr><tr><td>&quot;fde30130-2882-…</td><td>&quot;b21ad2da-5a3b-…</td></tr><tr><td>&quot;fde30130-2882-…</td><td>&quot;69c71d72-7ed8-…</td></tr><tr><td>&quot;fde30130-2882-…</td><td>&quot;a26c9335-2459-…</td></tr><tr><td>&quot;fde30130-2882-…</td><td>&quot;bf1f82b0-709a-…</td></tr><tr><td>&quot;fde30130-2882-…</td><td>&quot;1279ad53-a053-…</td></tr><tr><td>&quot;fde30130-2882-…</td><td>&quot;ee0f3f04-8fa0-…</td></tr><tr><td>&quot;fde30130-2882-…</td><td>&quot;7de0cc8f-f42d-…</td></tr><tr><td>&quot;fde30130-2882-…</td><td>&quot;79973184-b4f0-…</td></tr><tr><td>&quot;fde30130-2882-…</td><td>&quot;ed437fe5-c894-…</td></tr><tr><td>&quot;fde30130-2882-…</td><td>&quot;6ea31f9c-d4fa-…</td></tr><tr><td>&quot;fde30130-2882-…</td><td>&quot;ce4b8396-8061-…</td></tr><tr><td>&quot;fde30130-2882-…</td><td>&quot;224f17fd-74e2-…</td></tr></tbody></table></div>"
      ],
      "text/plain": [
       "shape: (2_275_900, 2)\n",
       "┌───────────────────────────────────┬───────────────────────────────────┐\n",
       "│ user_id                           ┆ artist_id                         │\n",
       "│ ---                               ┆ ---                               │\n",
       "│ str                               ┆ str                               │\n",
       "╞═══════════════════════════════════╪═══════════════════════════════════╡\n",
       "│ d705b538-1bd8-48a3-9dad-8941dee2… ┆ 69c71d72-7ed8-42c4-b9ec-c33976a3… │\n",
       "│ d705b538-1bd8-48a3-9dad-8941dee2… ┆ 30bf469f-9abd-4011-a210-ff19fee2… │\n",
       "│ d705b538-1bd8-48a3-9dad-8941dee2… ┆ a26c9335-2459-4c89-a00c-fdecbeb2… │\n",
       "│ d705b538-1bd8-48a3-9dad-8941dee2… ┆ 69c903b5-dff0-4ded-86e4-ea97ac4e… │\n",
       "│ …                                 ┆ …                                 │\n",
       "│ fde30130-2882-4950-8fd4-5483b4a6… ┆ ed437fe5-c894-4ddf-b2ce-d1f91988… │\n",
       "│ fde30130-2882-4950-8fd4-5483b4a6… ┆ 6ea31f9c-d4fa-42a7-a77a-de92a793… │\n",
       "│ fde30130-2882-4950-8fd4-5483b4a6… ┆ ce4b8396-8061-4225-a1ed-0528f1ca… │\n",
       "│ fde30130-2882-4950-8fd4-5483b4a6… ┆ 224f17fd-74e2-4d0b-93a7-63bd7af9… │\n",
       "└───────────────────────────────────┴───────────────────────────────────┘"
      ]
     },
     "execution_count": 3,
     "metadata": {},
     "output_type": "execute_result"
    }
   ],
   "source": [
    "data = pl.read_parquet('train.parquet')\n",
    "data"
   ]
  },
  {
   "cell_type": "markdown",
   "id": "c0187017",
   "metadata": {},
   "source": [
    "## Метрики\n",
    "\n",
    "В этом задании нашей задачей будем оптимизация метрик ndcg@20. Тем не менее, такая метрику сложно интерпретировать и поэтому вам также будет доступно значение метрики hitrate@20, с которой вы уже познакомились в прошлой домашке"
   ]
  },
  {
   "cell_type": "code",
   "execution_count": 4,
   "id": "efb0aaed",
   "metadata": {},
   "outputs": [],
   "source": [
    "TOP_K = 20\n",
    "\n",
    "\n",
    "def user_hitrate(y_relevant: List[str], y_recs: List[str], k: int = TOP_K) -> int:\n",
    "    return int(len(set(y_relevant).intersection(y_recs[:k])) > 0)\n",
    "\n",
    "def user_ndcg(y_rel: List[Any], y_rec: List[Any], k: int = 10) -> float:\n",
    "    \"\"\"\n",
    "    :param y_rel: relevant items\n",
    "    :param y_rec: recommended items\n",
    "    :param k: number of top recommended items\n",
    "    :return: ndcg metric for user recommendations\n",
    "    \"\"\"\n",
    "    dcg = sum([1. / np.log2(idx + 2) for idx, item in enumerate(y_rec[:k]) if item in y_rel])\n",
    "    idcg = sum([1. / np.log2(idx + 2) for idx, _ in enumerate(zip(y_rel, np.arange(k)))])\n",
    "    return dcg / idcg"
   ]
  },
  {
   "cell_type": "markdown",
   "id": "43bf0329",
   "metadata": {},
   "source": [
    "В этом датасете идентификаторы представлены в виде строк, но для работы с ними может быть проще сделать преобразование в числа (например, для алгоритмов матричной факторизации)"
   ]
  },
  {
   "cell_type": "code",
   "execution_count": 5,
   "id": "07829521",
   "metadata": {},
   "outputs": [],
   "source": [
    "user_mapping = {k: v for v, k in enumerate(data['user_id'].unique())}\n",
    "user_mapping_inverse = {k: v for v, k in user_mapping.items()}\n",
    "\n",
    "artist_mapping = {k: v for v, k in enumerate(data['artist_id'].unique())}\n",
    "artist_mapping_inverse = {k: v for v, k in artist_mapping.items()}"
   ]
  },
  {
   "cell_type": "code",
   "execution_count": 6,
   "id": "156ede3e",
   "metadata": {
    "scrolled": true
   },
   "outputs": [
    {
     "data": {
      "text/html": [
       "<div><style>\n",
       ".dataframe > thead > tr > th,\n",
       ".dataframe > tbody > tr > td {\n",
       "  text-align: right;\n",
       "}\n",
       "</style>\n",
       "<small>shape: (50_000, 3)</small><table border=\"1\" class=\"dataframe\"><thead><tr><th>user_id</th><th>train_item_ids</th><th>test_item_ids</th></tr><tr><td>i64</td><td>list[i64]</td><td>list[i64]</td></tr></thead><tbody><tr><td>47904</td><td>[10482, 34566, … 30556]</td><td>[54222, 42063, 74243]</td></tr><tr><td>40768</td><td>[82671, 15478, … 59985]</td><td>[21027, 53132, 32472]</td></tr><tr><td>6688</td><td>[42853, 2989, … 63041]</td><td>[62040, 73224, 53287]</td></tr><tr><td>24192</td><td>[78377, 43526, … 10850]</td><td>[13721, 17598, 10740]</td></tr><tr><td>26496</td><td>[88898, 43382, … 18668]</td><td>[19284, 24769, 68274]</td></tr><tr><td>41696</td><td>[47343, 28827, … 1101]</td><td>[7217, 24463, 46178]</td></tr><tr><td>23712</td><td>[26317, 55268, … 57413]</td><td>[722, 37616, 38173]</td></tr><tr><td>32096</td><td>[43837, 37616, … 41796]</td><td>[45284, 1059, 36408]</td></tr><tr><td>6432</td><td>[13569, 84848, … 60721]</td><td>[85959, 19247, 31304]</td></tr><tr><td>13056</td><td>[51499, 88878, … 60714]</td><td>[37746, 11664, 26277]</td></tr><tr><td>17600</td><td>[74248, 63317, … 84745]</td><td>[80920, 63978, 49099]</td></tr><tr><td>41088</td><td>[19976, 79102, … 86049]</td><td>[52716, 53952, 42232]</td></tr><tr><td>&hellip;</td><td>&hellip;</td><td>&hellip;</td></tr><tr><td>9279</td><td>[34052, 62079, … 45638]</td><td>[37569, 49654, 42376]</td></tr><tr><td>36095</td><td>[63124, 72154, … 30858]</td><td>[75982, 66833, 59982]</td></tr><tr><td>3071</td><td>[3128, 64176, … 34052]</td><td>[25953, 81279, 38587]</td></tr><tr><td>35231</td><td>[87534, 62224, … 39477]</td><td>[34048, 82525, 1266]</td></tr><tr><td>44383</td><td>[55360, 55302, … 79030]</td><td>[47986, 31502, 81463]</td></tr><tr><td>1471</td><td>[84449, 73098, … 49232]</td><td>[57619, 1983, 876]</td></tr><tr><td>12159</td><td>[73752, 30938, … 17022]</td><td>[60435, 49951, 84905]</td></tr><tr><td>21983</td><td>[7046, 46483, … 86505]</td><td>[88846, 17559, 39415]</td></tr><tr><td>49663</td><td>[66047, 56536, … 196]</td><td>[47773, 28375, 67760]</td></tr><tr><td>40383</td><td>[67785, 51499, … 36148]</td><td>[23158, 78660, 8760]</td></tr><tr><td>27359</td><td>[12499, 80190, … 60901]</td><td>[40802, 76180, 52088]</td></tr><tr><td>47935</td><td>[10929, 23627, … 73181]</td><td>[19546, 2989, 36899]</td></tr></tbody></table></div>"
      ],
      "text/plain": [
       "shape: (50_000, 3)\n",
       "┌─────────┬─────────────────────────┬───────────────────────┐\n",
       "│ user_id ┆ train_item_ids          ┆ test_item_ids         │\n",
       "│ ---     ┆ ---                     ┆ ---                   │\n",
       "│ i64     ┆ list[i64]               ┆ list[i64]             │\n",
       "╞═════════╪═════════════════════════╪═══════════════════════╡\n",
       "│ 47904   ┆ [10482, 34566, … 30556] ┆ [54222, 42063, 74243] │\n",
       "│ 40768   ┆ [82671, 15478, … 59985] ┆ [21027, 53132, 32472] │\n",
       "│ 6688    ┆ [42853, 2989, … 63041]  ┆ [62040, 73224, 53287] │\n",
       "│ 24192   ┆ [78377, 43526, … 10850] ┆ [13721, 17598, 10740] │\n",
       "│ …       ┆ …                       ┆ …                     │\n",
       "│ 49663   ┆ [66047, 56536, … 196]   ┆ [47773, 28375, 67760] │\n",
       "│ 40383   ┆ [67785, 51499, … 36148] ┆ [23158, 78660, 8760]  │\n",
       "│ 27359   ┆ [12499, 80190, … 60901] ┆ [40802, 76180, 52088] │\n",
       "│ 47935   ┆ [10929, 23627, … 73181] ┆ [19546, 2989, 36899]  │\n",
       "└─────────┴─────────────────────────┴───────────────────────┘"
      ]
     },
     "execution_count": 6,
     "metadata": {},
     "output_type": "execute_result"
    }
   ],
   "source": [
    "grouped_df_with_inds = (\n",
    "    data\n",
    "    .with_columns([\n",
    "        pl.col('user_id').apply(user_mapping.get),\n",
    "        pl.col('artist_id').apply(artist_mapping.get),\n",
    "    ])\n",
    "    # для каждого пользователя оставим последние 3 объекта в качестве тестовой выборки,\n",
    "    # а остальное будем использовать для тренировки\n",
    "    .groupby('user_id')\n",
    "    .agg([\n",
    "        pl.col('artist_id').apply(lambda x: x[:-3]).alias('train_item_ids'),\n",
    "        pl.col('artist_id').apply(lambda x: x[-3:]).alias('test_item_ids'),\n",
    "    ])\n",
    ")\n",
    "\n",
    "grouped_df_with_inds"
   ]
  },
  {
   "cell_type": "code",
   "execution_count": 7,
   "id": "36dea774",
   "metadata": {},
   "outputs": [
    {
     "name": "stdout",
     "output_type": "stream",
     "text": [
      "средняя длина сессии 42\n"
     ]
    }
   ],
   "source": [
    "median_seq_len = int(grouped_df_with_inds['train_item_ids'].apply(len).median())\n",
    "print(f\"средняя длина сессии {median_seq_len}\")"
   ]
  },
  {
   "cell_type": "code",
   "execution_count": 8,
   "id": "7cd5a463",
   "metadata": {},
   "outputs": [],
   "source": [
    "# соберем строчки для разреженной матрицы\n",
    "rows = []\n",
    "cols = []\n",
    "values = []\n",
    "for user_id, train_ids, _ in grouped_df_with_inds.rows():\n",
    "    rows.extend([user_id] * len(train_ids))\n",
    "    values.extend([1] * len(train_ids))\n",
    "    cols.extend(train_ids)\n",
    "\n",
    "user_item_data = sp.csr_matrix((values, (rows, cols)))"
   ]
  },
  {
   "cell_type": "markdown",
   "id": "e064a3aa",
   "metadata": {},
   "source": [
    "## Бейзлайны\n",
    "\n",
    "В качестве простого бейзлайна будем рекомендовать самый популярных артистов\n",
    "\n",
    "Мы хотим сначала провалидировать такое решение, а значит в качестве популярных артистов мы возьмем только тех, кто чаще встречается в `train_item_ids`"
   ]
  },
  {
   "cell_type": "code",
   "execution_count": 9,
   "id": "fa65a122",
   "metadata": {
    "scrolled": true
   },
   "outputs": [],
   "source": [
    "top_artists = (\n",
    "    grouped_df_with_inds\n",
    "    .select(pl.col('train_item_ids').alias('artist_id'))\n",
    "    .explode('artist_id')\n",
    "    .groupby('artist_id')\n",
    "    .count()\n",
    "    .sort('count', descending=True)\n",
    "    .head(TOP_K + median_seq_len)\n",
    ")['artist_id'].to_list()"
   ]
  },
  {
   "cell_type": "code",
   "execution_count": 10,
   "id": "2b39b15d",
   "metadata": {},
   "outputs": [
    {
     "name": "stdout",
     "output_type": "stream",
     "text": [
      "NDCG@20 = 0.01401, Hitrate@20 = 0.10248\n"
     ]
    }
   ],
   "source": [
    "ndcg_list = []\n",
    "hitrate_list = []\n",
    "\n",
    "for user_id, user_history, y_rel in grouped_df_with_inds.rows():\n",
    "    y_rec = top_artists.copy()\n",
    "    \n",
    "    ndcg_list.append(user_ndcg(y_rel, y_rec))\n",
    "    hitrate_list.append(user_hitrate(y_rel, y_rec))\n",
    "    \n",
    "print(f'NDCG@{TOP_K} = {np.mean(ndcg_list):.5f}, Hitrate@{TOP_K} = {np.mean(hitrate_list):.5f}')"
   ]
  },
  {
   "cell_type": "markdown",
   "id": "f30d3687",
   "metadata": {},
   "source": [
    "Не забываем про фильтрацию просмотренного (для разных доменов и подходов это не всегда улучши рекомендации, но в данном случае дало прирост)"
   ]
  },
  {
   "cell_type": "code",
   "execution_count": 11,
   "id": "900f8bcc",
   "metadata": {},
   "outputs": [
    {
     "name": "stdout",
     "output_type": "stream",
     "text": [
      "NDCG@20 = 0.01740, Hitrate@20 = 0.11684\n"
     ]
    }
   ],
   "source": [
    "ndcg_list = []\n",
    "hitrate_list = []\n",
    "\n",
    "for user_id, user_history, y_rel in grouped_df_with_inds.rows():\n",
    "    y_rec = [artist_id for artist_id in top_artists if artist_id not in user_history]\n",
    "    \n",
    "    ndcg_list.append(user_ndcg(y_rel, y_rec))\n",
    "    hitrate_list.append(user_hitrate(y_rel, y_rec))\n",
    "    \n",
    "print(f'NDCG@{TOP_K} = {np.mean(ndcg_list):.5f}, Hitrate@{TOP_K} = {np.mean(hitrate_list):.5f}')"
   ]
  },
  {
   "cell_type": "markdown",
   "id": "b7373ba7",
   "metadata": {},
   "source": [
    "## Построим файл с рекомендациями\n",
    "\n",
    "Для построения рекомендаций теперь можем учесть все возможные данные"
   ]
  },
  {
   "cell_type": "code",
   "execution_count": 12,
   "id": "32275e4a",
   "metadata": {},
   "outputs": [],
   "source": [
    "top_artists = (\n",
    "    data\n",
    "    .groupby('artist_id')\n",
    "    .count()\n",
    "    .sort('count', descending=True)\n",
    "    .head(TOP_K + median_seq_len)\n",
    ")['artist_id'].to_list()"
   ]
  },
  {
   "cell_type": "code",
   "execution_count": 13,
   "id": "8a3cb241",
   "metadata": {
    "scrolled": true
   },
   "outputs": [
    {
     "data": {
      "text/html": [
       "<div><style>\n",
       ".dataframe > thead > tr > th,\n",
       ".dataframe > tbody > tr > td {\n",
       "  text-align: right;\n",
       "}\n",
       "</style>\n",
       "<small>shape: (50_000, 2)</small><table border=\"1\" class=\"dataframe\"><thead><tr><th>user_id</th><th>y_rec</th></tr><tr><td>str</td><td>list[str]</td></tr></thead><tbody><tr><td>&quot;1daa0aae-746f-…</td><td>[&quot;5cd0ffb5-0cf2-4ecd-8c5b-ca2102e33198&quot;, &quot;12289298-d9dc-4b1d-bc27-16480829de75&quot;, … &quot;98e69a29-ee83-41f1-924e-08a50a32efdc&quot;]</td></tr><tr><td>&quot;74203af4-7674-…</td><td>[&quot;5cd0ffb5-0cf2-4ecd-8c5b-ca2102e33198&quot;, &quot;12289298-d9dc-4b1d-bc27-16480829de75&quot;, … &quot;98e69a29-ee83-41f1-924e-08a50a32efdc&quot;]</td></tr><tr><td>&quot;2b4d6ce1-99e3-…</td><td>[&quot;5cd0ffb5-0cf2-4ecd-8c5b-ca2102e33198&quot;, &quot;12289298-d9dc-4b1d-bc27-16480829de75&quot;, … &quot;98e69a29-ee83-41f1-924e-08a50a32efdc&quot;]</td></tr><tr><td>&quot;6971db2c-dadf-…</td><td>[&quot;5cd0ffb5-0cf2-4ecd-8c5b-ca2102e33198&quot;, &quot;12289298-d9dc-4b1d-bc27-16480829de75&quot;, … &quot;98e69a29-ee83-41f1-924e-08a50a32efdc&quot;]</td></tr><tr><td>&quot;f7faf00d-aa96-…</td><td>[&quot;5cd0ffb5-0cf2-4ecd-8c5b-ca2102e33198&quot;, &quot;12289298-d9dc-4b1d-bc27-16480829de75&quot;, … &quot;98e69a29-ee83-41f1-924e-08a50a32efdc&quot;]</td></tr><tr><td>&quot;f6987c10-10a0-…</td><td>[&quot;5cd0ffb5-0cf2-4ecd-8c5b-ca2102e33198&quot;, &quot;12289298-d9dc-4b1d-bc27-16480829de75&quot;, … &quot;98e69a29-ee83-41f1-924e-08a50a32efdc&quot;]</td></tr><tr><td>&quot;38cc4f02-0efb-…</td><td>[&quot;5cd0ffb5-0cf2-4ecd-8c5b-ca2102e33198&quot;, &quot;12289298-d9dc-4b1d-bc27-16480829de75&quot;, … &quot;98e69a29-ee83-41f1-924e-08a50a32efdc&quot;]</td></tr><tr><td>&quot;b7939dca-9492-…</td><td>[&quot;5cd0ffb5-0cf2-4ecd-8c5b-ca2102e33198&quot;, &quot;12289298-d9dc-4b1d-bc27-16480829de75&quot;, … &quot;98e69a29-ee83-41f1-924e-08a50a32efdc&quot;]</td></tr><tr><td>&quot;d57f33f1-e594-…</td><td>[&quot;5cd0ffb5-0cf2-4ecd-8c5b-ca2102e33198&quot;, &quot;12289298-d9dc-4b1d-bc27-16480829de75&quot;, … &quot;98e69a29-ee83-41f1-924e-08a50a32efdc&quot;]</td></tr><tr><td>&quot;858abebb-cf57-…</td><td>[&quot;5cd0ffb5-0cf2-4ecd-8c5b-ca2102e33198&quot;, &quot;12289298-d9dc-4b1d-bc27-16480829de75&quot;, … &quot;98e69a29-ee83-41f1-924e-08a50a32efdc&quot;]</td></tr><tr><td>&quot;d0c17365-f4f3-…</td><td>[&quot;5cd0ffb5-0cf2-4ecd-8c5b-ca2102e33198&quot;, &quot;12289298-d9dc-4b1d-bc27-16480829de75&quot;, … &quot;98e69a29-ee83-41f1-924e-08a50a32efdc&quot;]</td></tr><tr><td>&quot;a8894304-8d6b-…</td><td>[&quot;5cd0ffb5-0cf2-4ecd-8c5b-ca2102e33198&quot;, &quot;12289298-d9dc-4b1d-bc27-16480829de75&quot;, … &quot;98e69a29-ee83-41f1-924e-08a50a32efdc&quot;]</td></tr><tr><td>&hellip;</td><td>&hellip;</td></tr><tr><td>&quot;def17dc2-203d-…</td><td>[&quot;5cd0ffb5-0cf2-4ecd-8c5b-ca2102e33198&quot;, &quot;12289298-d9dc-4b1d-bc27-16480829de75&quot;, … &quot;98e69a29-ee83-41f1-924e-08a50a32efdc&quot;]</td></tr><tr><td>&quot;c4c9cd56-d8d2-…</td><td>[&quot;5cd0ffb5-0cf2-4ecd-8c5b-ca2102e33198&quot;, &quot;12289298-d9dc-4b1d-bc27-16480829de75&quot;, … &quot;98e69a29-ee83-41f1-924e-08a50a32efdc&quot;]</td></tr><tr><td>&quot;88cc9fb7-2dec-…</td><td>[&quot;5cd0ffb5-0cf2-4ecd-8c5b-ca2102e33198&quot;, &quot;12289298-d9dc-4b1d-bc27-16480829de75&quot;, … &quot;98e69a29-ee83-41f1-924e-08a50a32efdc&quot;]</td></tr><tr><td>&quot;4988b7fa-1b39-…</td><td>[&quot;5cd0ffb5-0cf2-4ecd-8c5b-ca2102e33198&quot;, &quot;12289298-d9dc-4b1d-bc27-16480829de75&quot;, … &quot;98e69a29-ee83-41f1-924e-08a50a32efdc&quot;]</td></tr><tr><td>&quot;677bc599-a45c-…</td><td>[&quot;5cd0ffb5-0cf2-4ecd-8c5b-ca2102e33198&quot;, &quot;12289298-d9dc-4b1d-bc27-16480829de75&quot;, … &quot;98e69a29-ee83-41f1-924e-08a50a32efdc&quot;]</td></tr><tr><td>&quot;5469c3bc-9935-…</td><td>[&quot;5cd0ffb5-0cf2-4ecd-8c5b-ca2102e33198&quot;, &quot;12289298-d9dc-4b1d-bc27-16480829de75&quot;, … &quot;98e69a29-ee83-41f1-924e-08a50a32efdc&quot;]</td></tr><tr><td>&quot;cca6d39c-dbee-…</td><td>[&quot;5cd0ffb5-0cf2-4ecd-8c5b-ca2102e33198&quot;, &quot;12289298-d9dc-4b1d-bc27-16480829de75&quot;, … &quot;98e69a29-ee83-41f1-924e-08a50a32efdc&quot;]</td></tr><tr><td>&quot;192eb01a-91b7-…</td><td>[&quot;5cd0ffb5-0cf2-4ecd-8c5b-ca2102e33198&quot;, &quot;12289298-d9dc-4b1d-bc27-16480829de75&quot;, … &quot;98e69a29-ee83-41f1-924e-08a50a32efdc&quot;]</td></tr><tr><td>&quot;cef7fa7d-d4a9-…</td><td>[&quot;5cd0ffb5-0cf2-4ecd-8c5b-ca2102e33198&quot;, &quot;12289298-d9dc-4b1d-bc27-16480829de75&quot;, … &quot;98e69a29-ee83-41f1-924e-08a50a32efdc&quot;]</td></tr><tr><td>&quot;3c283cba-c192-…</td><td>[&quot;5cd0ffb5-0cf2-4ecd-8c5b-ca2102e33198&quot;, &quot;12289298-d9dc-4b1d-bc27-16480829de75&quot;, … &quot;98e69a29-ee83-41f1-924e-08a50a32efdc&quot;]</td></tr><tr><td>&quot;82ae9934-4bfb-…</td><td>[&quot;5cd0ffb5-0cf2-4ecd-8c5b-ca2102e33198&quot;, &quot;12289298-d9dc-4b1d-bc27-16480829de75&quot;, … &quot;98e69a29-ee83-41f1-924e-08a50a32efdc&quot;]</td></tr><tr><td>&quot;e5fdc7cd-8efa-…</td><td>[&quot;5cd0ffb5-0cf2-4ecd-8c5b-ca2102e33198&quot;, &quot;12289298-d9dc-4b1d-bc27-16480829de75&quot;, … &quot;98e69a29-ee83-41f1-924e-08a50a32efdc&quot;]</td></tr></tbody></table></div>"
      ],
      "text/plain": [
       "shape: (50_000, 2)\n",
       "┌───────────────────────────────────┬───────────────────────────────────┐\n",
       "│ user_id                           ┆ y_rec                             │\n",
       "│ ---                               ┆ ---                               │\n",
       "│ str                               ┆ list[str]                         │\n",
       "╞═══════════════════════════════════╪═══════════════════════════════════╡\n",
       "│ 1daa0aae-746f-40bd-80b4-5b40b6c8… ┆ [\"5cd0ffb5-0cf2-4ecd-8c5b-ca2102… │\n",
       "│ 74203af4-7674-4a79-bc8b-19a7b072… ┆ [\"5cd0ffb5-0cf2-4ecd-8c5b-ca2102… │\n",
       "│ 2b4d6ce1-99e3-47f9-a5d3-a6f815f6… ┆ [\"5cd0ffb5-0cf2-4ecd-8c5b-ca2102… │\n",
       "│ 6971db2c-dadf-4178-b76c-d25749ea… ┆ [\"5cd0ffb5-0cf2-4ecd-8c5b-ca2102… │\n",
       "│ …                                 ┆ …                                 │\n",
       "│ cef7fa7d-d4a9-49fa-8ba0-efcb0666… ┆ [\"5cd0ffb5-0cf2-4ecd-8c5b-ca2102… │\n",
       "│ 3c283cba-c192-42c9-a427-f95de2e7… ┆ [\"5cd0ffb5-0cf2-4ecd-8c5b-ca2102… │\n",
       "│ 82ae9934-4bfb-421a-a0ac-882e805f… ┆ [\"5cd0ffb5-0cf2-4ecd-8c5b-ca2102… │\n",
       "│ e5fdc7cd-8efa-40b0-83ee-504be8fc… ┆ [\"5cd0ffb5-0cf2-4ecd-8c5b-ca2102… │\n",
       "└───────────────────────────────────┴───────────────────────────────────┘"
      ]
     },
     "execution_count": 13,
     "metadata": {},
     "output_type": "execute_result"
    }
   ],
   "source": [
    "submission = []\n",
    "\n",
    "for user_id, user_history in data.groupby('user_id').agg(pl.col('artist_id')).rows():\n",
    "    y_rec = top_artists.copy()\n",
    "    \n",
    "    submission.append((user_id, y_rec))\n",
    "    \n",
    "submission = pl.DataFrame(submission, schema=('user_id', 'y_rec'))\n",
    "submission.write_parquet('sample_submission.parquet')\n",
    "submission"
   ]
  },
  {
   "cell_type": "markdown",
   "id": "824f7ac3",
   "metadata": {},
   "source": [
    "Не забывайте, что в файле с рекомендациями должны быть **исходные идентификаторы (строки)**, а не преобразованные в числа!"
   ]
  },
  {
   "cell_type": "markdown",
   "id": "d1da5dc4",
   "metadata": {},
   "source": [
    "# Начинаем выполнять задание"
   ]
  },
  {
   "cell_type": "code",
   "execution_count": 20,
   "id": "29fa35e5",
   "metadata": {},
   "outputs": [
    {
     "data": {
      "text/html": [
       "<div><style>\n",
       ".dataframe > thead > tr > th,\n",
       ".dataframe > tbody > tr > td {\n",
       "  text-align: right;\n",
       "}\n",
       "</style>\n",
       "<small>shape: (50_000, 3)</small><table border=\"1\" class=\"dataframe\"><thead><tr><th>user_id</th><th>train_item_ids</th><th>test_item_ids</th></tr><tr><td>i64</td><td>list[i64]</td><td>list[i64]</td></tr></thead><tbody><tr><td>47904</td><td>[10482, 34566, … 30556]</td><td>[54222, 42063, 74243]</td></tr><tr><td>40768</td><td>[82671, 15478, … 59985]</td><td>[21027, 53132, 32472]</td></tr><tr><td>6688</td><td>[42853, 2989, … 63041]</td><td>[62040, 73224, 53287]</td></tr><tr><td>24192</td><td>[78377, 43526, … 10850]</td><td>[13721, 17598, 10740]</td></tr><tr><td>26496</td><td>[88898, 43382, … 18668]</td><td>[19284, 24769, 68274]</td></tr><tr><td>41696</td><td>[47343, 28827, … 1101]</td><td>[7217, 24463, 46178]</td></tr><tr><td>23712</td><td>[26317, 55268, … 57413]</td><td>[722, 37616, 38173]</td></tr><tr><td>32096</td><td>[43837, 37616, … 41796]</td><td>[45284, 1059, 36408]</td></tr><tr><td>6432</td><td>[13569, 84848, … 60721]</td><td>[85959, 19247, 31304]</td></tr><tr><td>13056</td><td>[51499, 88878, … 60714]</td><td>[37746, 11664, 26277]</td></tr><tr><td>17600</td><td>[74248, 63317, … 84745]</td><td>[80920, 63978, 49099]</td></tr><tr><td>41088</td><td>[19976, 79102, … 86049]</td><td>[52716, 53952, 42232]</td></tr><tr><td>&hellip;</td><td>&hellip;</td><td>&hellip;</td></tr><tr><td>9279</td><td>[34052, 62079, … 45638]</td><td>[37569, 49654, 42376]</td></tr><tr><td>36095</td><td>[63124, 72154, … 30858]</td><td>[75982, 66833, 59982]</td></tr><tr><td>3071</td><td>[3128, 64176, … 34052]</td><td>[25953, 81279, 38587]</td></tr><tr><td>35231</td><td>[87534, 62224, … 39477]</td><td>[34048, 82525, 1266]</td></tr><tr><td>44383</td><td>[55360, 55302, … 79030]</td><td>[47986, 31502, 81463]</td></tr><tr><td>1471</td><td>[84449, 73098, … 49232]</td><td>[57619, 1983, 876]</td></tr><tr><td>12159</td><td>[73752, 30938, … 17022]</td><td>[60435, 49951, 84905]</td></tr><tr><td>21983</td><td>[7046, 46483, … 86505]</td><td>[88846, 17559, 39415]</td></tr><tr><td>49663</td><td>[66047, 56536, … 196]</td><td>[47773, 28375, 67760]</td></tr><tr><td>40383</td><td>[67785, 51499, … 36148]</td><td>[23158, 78660, 8760]</td></tr><tr><td>27359</td><td>[12499, 80190, … 60901]</td><td>[40802, 76180, 52088]</td></tr><tr><td>47935</td><td>[10929, 23627, … 73181]</td><td>[19546, 2989, 36899]</td></tr></tbody></table></div>"
      ],
      "text/plain": [
       "shape: (50_000, 3)\n",
       "┌─────────┬─────────────────────────┬───────────────────────┐\n",
       "│ user_id ┆ train_item_ids          ┆ test_item_ids         │\n",
       "│ ---     ┆ ---                     ┆ ---                   │\n",
       "│ i64     ┆ list[i64]               ┆ list[i64]             │\n",
       "╞═════════╪═════════════════════════╪═══════════════════════╡\n",
       "│ 47904   ┆ [10482, 34566, … 30556] ┆ [54222, 42063, 74243] │\n",
       "│ 40768   ┆ [82671, 15478, … 59985] ┆ [21027, 53132, 32472] │\n",
       "│ 6688    ┆ [42853, 2989, … 63041]  ┆ [62040, 73224, 53287] │\n",
       "│ 24192   ┆ [78377, 43526, … 10850] ┆ [13721, 17598, 10740] │\n",
       "│ …       ┆ …                       ┆ …                     │\n",
       "│ 49663   ┆ [66047, 56536, … 196]   ┆ [47773, 28375, 67760] │\n",
       "│ 40383   ┆ [67785, 51499, … 36148] ┆ [23158, 78660, 8760]  │\n",
       "│ 27359   ┆ [12499, 80190, … 60901] ┆ [40802, 76180, 52088] │\n",
       "│ 47935   ┆ [10929, 23627, … 73181] ┆ [19546, 2989, 36899]  │\n",
       "└─────────┴─────────────────────────┴───────────────────────┘"
      ]
     },
     "execution_count": 20,
     "metadata": {},
     "output_type": "execute_result"
    }
   ],
   "source": [
    "grouped_df_with_inds"
   ]
  },
  {
   "cell_type": "code",
   "execution_count": 22,
   "id": "91ba828e",
   "metadata": {},
   "outputs": [
    {
     "name": "stdout",
     "output_type": "stream",
     "text": [
      "Ndcg@20 = 0.0237 Hitrate@20 = 0.1490\n"
     ]
    }
   ],
   "source": [
    "def evaluate_model(model):\n",
    "    ndcg_list = []\n",
    "    hitrate_list = []\n",
    "    for train_ids, y_rel in grouped_df_with_inds.select('train_item_ids', 'test_item_ids').rows():\n",
    "        model_preds = model.predict_output_word(\n",
    "            train_ids, topn=(TOP_K + len(train_ids))\n",
    "        )\n",
    "        if model_preds is None:\n",
    "            hitrate_list.append(0)\n",
    "            continue\n",
    "\n",
    "        y_rec = [pred[0] for pred in model_preds if pred[0] not in train_ids]\n",
    "        ndcg_list.append(user_ndcg(y_rel, y_rec))\n",
    "        hitrate_list.append(user_hitrate(y_rel, y_rec))\n",
    "    return np.mean(ndcg_list), np.mean(hitrate_list)\n",
    "\n",
    "# обучим w2v с параметрами по умолчанию\n",
    "model = Word2Vec(grouped_df_with_inds['train_item_ids'].to_list())\n",
    "mean_ndcg, mean_hitrate = evaluate_model(model)\n",
    "print(f'Ndcg@{TOP_K} = {mean_ndcg:.4f} Hitrate@{TOP_K} = {mean_hitrate:.4f}')"
   ]
  },
  {
   "cell_type": "markdown",
   "id": "61cbe88c",
   "metadata": {},
   "source": [
    "Пробую подобрать параметры оптуной"
   ]
  },
  {
   "cell_type": "code",
   "execution_count": 24,
   "id": "4b5921ed",
   "metadata": {},
   "outputs": [
    {
     "name": "stderr",
     "output_type": "stream",
     "text": [
      "[I 2024-04-04 18:14:42,307] A new study created in memory with name: no-name-5ea8202a-6b22-4868-81c2-06edfd5feda6\n"
     ]
    },
    {
     "name": "stdout",
     "output_type": "stream",
     "text": [
      "{'sg': 1, 'window_len': 10, 'ns_exponent': -0.043770927479415356, 'negative': 10, 'min_count': 5, 'vector_size': 64}\n"
     ]
    },
    {
     "name": "stderr",
     "output_type": "stream",
     "text": [
      "[I 2024-04-04 18:18:43,309] Trial 0 finished with value: 0.04498511241730642 and parameters: {'sg': 1, 'window': 10, 'ns_exponent': -0.043770927479415356, 'negative': 10, 'min_count': 5, 'vector_size': 64}. Best is trial 0 with value: 0.04498511241730642.\n"
     ]
    },
    {
     "name": "stdout",
     "output_type": "stream",
     "text": [
      "NDCG@20 = 0.0450 Hitrate@20 = 0.2694\n",
      "{'sg': 0, 'window_len': 8, 'ns_exponent': -0.5597146402069706, 'negative': 17, 'min_count': 10, 'vector_size': 16}\n"
     ]
    },
    {
     "name": "stderr",
     "output_type": "stream",
     "text": [
      "[I 2024-04-04 18:20:09,137] Trial 1 finished with value: 0.04137813591136338 and parameters: {'sg': 0, 'window': 8, 'ns_exponent': -0.5597146402069706, 'negative': 17, 'min_count': 10, 'vector_size': 16}. Best is trial 0 with value: 0.04498511241730642.\n"
     ]
    },
    {
     "name": "stdout",
     "output_type": "stream",
     "text": [
      "NDCG@20 = 0.0414 Hitrate@20 = 0.2529\n",
      "{'sg': 0, 'window_len': 5, 'ns_exponent': 2.7199223143221545, 'negative': 13, 'min_count': 10, 'vector_size': 64}\n"
     ]
    },
    {
     "name": "stderr",
     "output_type": "stream",
     "text": [
      "[I 2024-04-04 18:21:29,215] Trial 2 finished with value: 0.02420644069071452 and parameters: {'sg': 0, 'window': 5, 'ns_exponent': 2.7199223143221545, 'negative': 13, 'min_count': 10, 'vector_size': 64}. Best is trial 0 with value: 0.04498511241730642.\n"
     ]
    },
    {
     "name": "stdout",
     "output_type": "stream",
     "text": [
      "NDCG@20 = 0.0242 Hitrate@20 = 0.1321\n",
      "{'sg': 1, 'window_len': 3, 'ns_exponent': 1.0529375612144243, 'negative': 13, 'min_count': 20, 'vector_size': 64}\n"
     ]
    },
    {
     "name": "stderr",
     "output_type": "stream",
     "text": [
      "[I 2024-04-04 18:23:26,854] Trial 3 finished with value: 0.019019721292736682 and parameters: {'sg': 1, 'window': 3, 'ns_exponent': 1.0529375612144243, 'negative': 13, 'min_count': 20, 'vector_size': 64}. Best is trial 0 with value: 0.04498511241730642.\n"
     ]
    },
    {
     "name": "stdout",
     "output_type": "stream",
     "text": [
      "NDCG@20 = 0.0190 Hitrate@20 = 0.1092\n",
      "{'sg': 0, 'window_len': 1, 'ns_exponent': -2.923753961377712, 'negative': 10, 'min_count': 1, 'vector_size': 32}\n"
     ]
    },
    {
     "name": "stderr",
     "output_type": "stream",
     "text": [
      "[I 2024-04-04 18:25:24,687] Trial 4 finished with value: 0.014734834376115228 and parameters: {'sg': 0, 'window': 1, 'ns_exponent': -2.923753961377712, 'negative': 10, 'min_count': 1, 'vector_size': 32}. Best is trial 0 with value: 0.04498511241730642.\n"
     ]
    },
    {
     "name": "stdout",
     "output_type": "stream",
     "text": [
      "NDCG@20 = 0.0147 Hitrate@20 = 0.0980\n",
      "{'sg': 0, 'window_len': 10, 'ns_exponent': -0.997329785316412, 'negative': 8, 'min_count': 7, 'vector_size': 64}\n"
     ]
    },
    {
     "name": "stderr",
     "output_type": "stream",
     "text": [
      "[I 2024-04-04 18:26:50,565] Trial 5 finished with value: 0.021585901176999194 and parameters: {'sg': 0, 'window': 10, 'ns_exponent': -0.997329785316412, 'negative': 8, 'min_count': 7, 'vector_size': 64}. Best is trial 0 with value: 0.04498511241730642.\n"
     ]
    },
    {
     "name": "stdout",
     "output_type": "stream",
     "text": [
      "NDCG@20 = 0.0216 Hitrate@20 = 0.1501\n",
      "{'sg': 1, 'window_len': 5, 'ns_exponent': 1.572495054034773, 'negative': 14, 'min_count': 6, 'vector_size': 128}\n"
     ]
    },
    {
     "name": "stderr",
     "output_type": "stream",
     "text": [
      "[I 2024-04-04 18:30:04,282] Trial 6 finished with value: 0.012476612658048366 and parameters: {'sg': 1, 'window': 5, 'ns_exponent': 1.572495054034773, 'negative': 14, 'min_count': 6, 'vector_size': 128}. Best is trial 0 with value: 0.04498511241730642.\n"
     ]
    },
    {
     "name": "stdout",
     "output_type": "stream",
     "text": [
      "NDCG@20 = 0.0125 Hitrate@20 = 0.0904\n",
      "{'sg': 1, 'window_len': 9, 'ns_exponent': 0.98473759448129, 'negative': 5, 'min_count': 16, 'vector_size': 64}\n"
     ]
    },
    {
     "name": "stderr",
     "output_type": "stream",
     "text": [
      "[I 2024-04-04 18:32:07,020] Trial 7 finished with value: 0.02085996144679986 and parameters: {'sg': 1, 'window': 9, 'ns_exponent': 0.98473759448129, 'negative': 5, 'min_count': 16, 'vector_size': 64}. Best is trial 0 with value: 0.04498511241730642.\n"
     ]
    },
    {
     "name": "stdout",
     "output_type": "stream",
     "text": [
      "NDCG@20 = 0.0209 Hitrate@20 = 0.1203\n",
      "{'sg': 0, 'window_len': 2, 'ns_exponent': -0.5407467158565504, 'negative': 3, 'min_count': 11, 'vector_size': 16}\n"
     ]
    },
    {
     "name": "stderr",
     "output_type": "stream",
     "text": [
      "[I 2024-04-04 18:33:09,473] Trial 8 finished with value: 0.017380704056283662 and parameters: {'sg': 0, 'window': 2, 'ns_exponent': -0.5407467158565504, 'negative': 3, 'min_count': 11, 'vector_size': 16}. Best is trial 0 with value: 0.04498511241730642.\n"
     ]
    },
    {
     "name": "stdout",
     "output_type": "stream",
     "text": [
      "NDCG@20 = 0.0174 Hitrate@20 = 0.1221\n",
      "{'sg': 0, 'window_len': 7, 'ns_exponent': -2.5781994860927644, 'negative': 20, 'min_count': 11, 'vector_size': 16}\n"
     ]
    },
    {
     "name": "stderr",
     "output_type": "stream",
     "text": [
      "[I 2024-04-04 18:34:30,955] Trial 9 finished with value: 0.023292047800479422 and parameters: {'sg': 0, 'window': 7, 'ns_exponent': -2.5781994860927644, 'negative': 20, 'min_count': 11, 'vector_size': 16}. Best is trial 0 with value: 0.04498511241730642.\n"
     ]
    },
    {
     "name": "stdout",
     "output_type": "stream",
     "text": [
      "NDCG@20 = 0.0233 Hitrate@20 = 0.1579\n",
      "{'sg': 1, 'window_len': 7, 'ns_exponent': -1.6293075797299894, 'negative': 8, 'min_count': 2, 'vector_size': 128}\n"
     ]
    },
    {
     "name": "stderr",
     "output_type": "stream",
     "text": [
      "[I 2024-04-04 18:38:37,863] Trial 10 finished with value: 0.015053493592956702 and parameters: {'sg': 1, 'window': 7, 'ns_exponent': -1.6293075797299894, 'negative': 8, 'min_count': 2, 'vector_size': 128}. Best is trial 0 with value: 0.04498511241730642.\n"
     ]
    },
    {
     "name": "stdout",
     "output_type": "stream",
     "text": [
      "NDCG@20 = 0.0151 Hitrate@20 = 0.0965\n",
      "{'sg': 1, 'window_len': 8, 'ns_exponent': 0.1351769020915979, 'negative': 18, 'min_count': 5, 'vector_size': 16}\n"
     ]
    },
    {
     "name": "stderr",
     "output_type": "stream",
     "text": [
      "[I 2024-04-04 18:43:14,880] Trial 11 finished with value: 0.032324253154144805 and parameters: {'sg': 1, 'window': 8, 'ns_exponent': 0.1351769020915979, 'negative': 18, 'min_count': 5, 'vector_size': 16}. Best is trial 0 with value: 0.04498511241730642.\n"
     ]
    },
    {
     "name": "stdout",
     "output_type": "stream",
     "text": [
      "NDCG@20 = 0.0323 Hitrate@20 = 0.2261\n",
      "{'sg': 1, 'window_len': 10, 'ns_exponent': -0.09668301657681794, 'negative': 16, 'min_count': 14, 'vector_size': 32}\n"
     ]
    },
    {
     "name": "stderr",
     "output_type": "stream",
     "text": [
      "[I 2024-04-04 18:47:31,942] Trial 12 finished with value: 0.04175558627111004 and parameters: {'sg': 1, 'window': 10, 'ns_exponent': -0.09668301657681794, 'negative': 16, 'min_count': 14, 'vector_size': 32}. Best is trial 0 with value: 0.04498511241730642.\n"
     ]
    },
    {
     "name": "stdout",
     "output_type": "stream",
     "text": [
      "NDCG@20 = 0.0418 Hitrate@20 = 0.2490\n",
      "{'sg': 1, 'window_len': 10, 'ns_exponent': -1.592658321137588, 'negative': 16, 'min_count': 16, 'vector_size': 32}\n"
     ]
    },
    {
     "name": "stderr",
     "output_type": "stream",
     "text": [
      "[I 2024-04-04 18:51:33,810] Trial 13 finished with value: 0.020379294382701686 and parameters: {'sg': 1, 'window': 10, 'ns_exponent': -1.592658321137588, 'negative': 16, 'min_count': 16, 'vector_size': 32}. Best is trial 0 with value: 0.04498511241730642.\n"
     ]
    },
    {
     "name": "stdout",
     "output_type": "stream",
     "text": [
      "NDCG@20 = 0.0204 Hitrate@20 = 0.1329\n",
      "{'sg': 1, 'window_len': 10, 'ns_exponent': 0.13652776670403877, 'negative': 10, 'min_count': 15, 'vector_size': 32}\n"
     ]
    },
    {
     "name": "stderr",
     "output_type": "stream",
     "text": [
      "[I 2024-04-04 18:54:35,888] Trial 14 finished with value: 0.04266198227038798 and parameters: {'sg': 1, 'window': 10, 'ns_exponent': 0.13652776670403877, 'negative': 10, 'min_count': 15, 'vector_size': 32}. Best is trial 0 with value: 0.04498511241730642.\n"
     ]
    },
    {
     "name": "stdout",
     "output_type": "stream",
     "text": [
      "NDCG@20 = 0.0427 Hitrate@20 = 0.2722\n",
      "{'sg': 1, 'window_len': 6, 'ns_exponent': 0.47230310369286993, 'negative': 10, 'min_count': 20, 'vector_size': 32}\n"
     ]
    },
    {
     "name": "stderr",
     "output_type": "stream",
     "text": [
      "[I 2024-04-04 18:56:47,822] Trial 15 finished with value: 0.02324326459028554 and parameters: {'sg': 1, 'window': 6, 'ns_exponent': 0.47230310369286993, 'negative': 10, 'min_count': 20, 'vector_size': 32}. Best is trial 0 with value: 0.04498511241730642.\n"
     ]
    },
    {
     "name": "stdout",
     "output_type": "stream",
     "text": [
      "NDCG@20 = 0.0232 Hitrate@20 = 0.1408\n",
      "{'sg': 1, 'window_len': 9, 'ns_exponent': 0.4190388714058485, 'negative': 7, 'min_count': 4, 'vector_size': 64}\n"
     ]
    },
    {
     "name": "stderr",
     "output_type": "stream",
     "text": [
      "[I 2024-04-04 18:59:47,528] Trial 16 finished with value: 0.028925947084800615 and parameters: {'sg': 1, 'window': 9, 'ns_exponent': 0.4190388714058485, 'negative': 7, 'min_count': 4, 'vector_size': 64}. Best is trial 0 with value: 0.04498511241730642.\n"
     ]
    },
    {
     "name": "stdout",
     "output_type": "stream",
     "text": [
      "NDCG@20 = 0.0289 Hitrate@20 = 0.1769\n",
      "{'sg': 1, 'window_len': 4, 'ns_exponent': 1.5297721070537273, 'negative': 11, 'min_count': 8, 'vector_size': 32}\n"
     ]
    },
    {
     "name": "stderr",
     "output_type": "stream",
     "text": [
      "[I 2024-04-04 19:01:38,362] Trial 17 finished with value: 0.013548409804028907 and parameters: {'sg': 1, 'window': 4, 'ns_exponent': 1.5297721070537273, 'negative': 11, 'min_count': 8, 'vector_size': 32}. Best is trial 0 with value: 0.04498511241730642.\n"
     ]
    },
    {
     "name": "stdout",
     "output_type": "stream",
     "text": [
      "NDCG@20 = 0.0135 Hitrate@20 = 0.0904\n",
      "{'sg': 1, 'window_len': 9, 'ns_exponent': -0.4127653428504183, 'negative': 6, 'min_count': 14, 'vector_size': 128}\n"
     ]
    },
    {
     "name": "stderr",
     "output_type": "stream",
     "text": [
      "[I 2024-04-04 19:03:46,178] Trial 18 finished with value: 0.03472278756897037 and parameters: {'sg': 1, 'window': 9, 'ns_exponent': -0.4127653428504183, 'negative': 6, 'min_count': 14, 'vector_size': 128}. Best is trial 0 with value: 0.04498511241730642.\n"
     ]
    },
    {
     "name": "stdout",
     "output_type": "stream",
     "text": [
      "NDCG@20 = 0.0347 Hitrate@20 = 0.2119\n",
      "{'sg': 1, 'window_len': 7, 'ns_exponent': -1.0973112835674228, 'negative': 9, 'min_count': 3, 'vector_size': 32}\n"
     ]
    },
    {
     "name": "stderr",
     "output_type": "stream",
     "text": [
      "[I 2024-04-04 19:06:39,494] Trial 19 finished with value: 0.014773579385387847 and parameters: {'sg': 1, 'window': 7, 'ns_exponent': -1.0973112835674228, 'negative': 9, 'min_count': 3, 'vector_size': 32}. Best is trial 0 with value: 0.04498511241730642.\n"
     ]
    },
    {
     "name": "stdout",
     "output_type": "stream",
     "text": [
      "NDCG@20 = 0.0148 Hitrate@20 = 0.1028\n",
      "{'sg': 1, 'window_len': 8, 'ns_exponent': 0.12986780316236424, 'negative': 4, 'min_count': 17, 'vector_size': 64}\n"
     ]
    },
    {
     "name": "stderr",
     "output_type": "stream",
     "text": [
      "[I 2024-04-04 19:08:15,600] Trial 20 finished with value: 0.04384812102748746 and parameters: {'sg': 1, 'window': 8, 'ns_exponent': 0.12986780316236424, 'negative': 4, 'min_count': 17, 'vector_size': 64}. Best is trial 0 with value: 0.04498511241730642.\n"
     ]
    },
    {
     "name": "stdout",
     "output_type": "stream",
     "text": [
      "NDCG@20 = 0.0438 Hitrate@20 = 0.2769\n",
      "{'sg': 1, 'window_len': 8, 'ns_exponent': 0.1263758565352176, 'negative': 3, 'min_count': 17, 'vector_size': 64}\n"
     ]
    },
    {
     "name": "stderr",
     "output_type": "stream",
     "text": [
      "[I 2024-04-04 19:09:38,967] Trial 21 finished with value: 0.043848399974013845 and parameters: {'sg': 1, 'window': 8, 'ns_exponent': 0.1263758565352176, 'negative': 3, 'min_count': 17, 'vector_size': 64}. Best is trial 0 with value: 0.04498511241730642.\n"
     ]
    },
    {
     "name": "stdout",
     "output_type": "stream",
     "text": [
      "NDCG@20 = 0.0438 Hitrate@20 = 0.2759\n",
      "{'sg': 1, 'window_len': 8, 'ns_exponent': 0.6877447910091197, 'negative': 3, 'min_count': 18, 'vector_size': 64}\n"
     ]
    },
    {
     "name": "stderr",
     "output_type": "stream",
     "text": [
      "[I 2024-04-04 19:11:07,071] Trial 22 finished with value: 0.02188064271041847 and parameters: {'sg': 1, 'window': 8, 'ns_exponent': 0.6877447910091197, 'negative': 3, 'min_count': 18, 'vector_size': 64}. Best is trial 0 with value: 0.04498511241730642.\n"
     ]
    },
    {
     "name": "stdout",
     "output_type": "stream",
     "text": [
      "NDCG@20 = 0.0219 Hitrate@20 = 0.1232\n",
      "{'sg': 1, 'window_len': 6, 'ns_exponent': -0.14186064802110826, 'negative': 5, 'min_count': 18, 'vector_size': 64}\n"
     ]
    },
    {
     "name": "stderr",
     "output_type": "stream",
     "text": [
      "[I 2024-04-04 19:12:34,515] Trial 23 finished with value: 0.04019679354246106 and parameters: {'sg': 1, 'window': 6, 'ns_exponent': -0.14186064802110826, 'negative': 5, 'min_count': 18, 'vector_size': 64}. Best is trial 0 with value: 0.04498511241730642.\n"
     ]
    },
    {
     "name": "stdout",
     "output_type": "stream",
     "text": [
      "NDCG@20 = 0.0402 Hitrate@20 = 0.2414\n",
      "{'sg': 1, 'window_len': 9, 'ns_exponent': 0.3805734162474441, 'negative': 4, 'min_count': 13, 'vector_size': 64}\n"
     ]
    },
    {
     "name": "stderr",
     "output_type": "stream",
     "text": [
      "[I 2024-04-04 19:14:12,647] Trial 24 finished with value: 0.024899850276501885 and parameters: {'sg': 1, 'window': 9, 'ns_exponent': 0.3805734162474441, 'negative': 4, 'min_count': 13, 'vector_size': 64}. Best is trial 0 with value: 0.04498511241730642.\n"
     ]
    },
    {
     "name": "stdout",
     "output_type": "stream",
     "text": [
      "NDCG@20 = 0.0249 Hitrate@20 = 0.1627\n",
      "{'sg': 1, 'window_len': 8, 'ns_exponent': -0.2207302276050942, 'negative': 6, 'min_count': 18, 'vector_size': 64}\n"
     ]
    },
    {
     "name": "stderr",
     "output_type": "stream",
     "text": [
      "[I 2024-04-04 19:16:09,859] Trial 25 finished with value: 0.03857112827578094 and parameters: {'sg': 1, 'window': 8, 'ns_exponent': -0.2207302276050942, 'negative': 6, 'min_count': 18, 'vector_size': 64}. Best is trial 0 with value: 0.04498511241730642.\n"
     ]
    },
    {
     "name": "stdout",
     "output_type": "stream",
     "text": [
      "NDCG@20 = 0.0386 Hitrate@20 = 0.2328\n",
      "{'sg': 1, 'window_len': 7, 'ns_exponent': -0.746627783079892, 'negative': 3, 'min_count': 9, 'vector_size': 64}\n"
     ]
    },
    {
     "name": "stderr",
     "output_type": "stream",
     "text": [
      "[I 2024-04-04 19:17:33,231] Trial 26 finished with value: 0.016123139552862063 and parameters: {'sg': 1, 'window': 7, 'ns_exponent': -0.746627783079892, 'negative': 3, 'min_count': 9, 'vector_size': 64}. Best is trial 0 with value: 0.04498511241730642.\n"
     ]
    },
    {
     "name": "stdout",
     "output_type": "stream",
     "text": [
      "NDCG@20 = 0.0161 Hitrate@20 = 0.1168\n",
      "{'sg': 1, 'window_len': 9, 'ns_exponent': 0.9426624642543714, 'negative': 5, 'min_count': 0, 'vector_size': 64}\n"
     ]
    },
    {
     "name": "stderr",
     "output_type": "stream",
     "text": [
      "[I 2024-04-04 19:20:57,389] Trial 27 finished with value: 0.014923662000590796 and parameters: {'sg': 1, 'window': 9, 'ns_exponent': 0.9426624642543714, 'negative': 5, 'min_count': 0, 'vector_size': 64}. Best is trial 0 with value: 0.04498511241730642.\n"
     ]
    },
    {
     "name": "stdout",
     "output_type": "stream",
     "text": [
      "NDCG@20 = 0.0149 Hitrate@20 = 0.0987\n",
      "{'sg': 1, 'window_len': 6, 'ns_exponent': -0.04756858593337568, 'negative': 7, 'min_count': 12, 'vector_size': 64}\n"
     ]
    },
    {
     "name": "stderr",
     "output_type": "stream",
     "text": [
      "[I 2024-04-04 19:22:51,963] Trial 28 finished with value: 0.04363274404589207 and parameters: {'sg': 1, 'window': 6, 'ns_exponent': -0.04756858593337568, 'negative': 7, 'min_count': 12, 'vector_size': 64}. Best is trial 0 with value: 0.04498511241730642.\n"
     ]
    },
    {
     "name": "stdout",
     "output_type": "stream",
     "text": [
      "NDCG@20 = 0.0436 Hitrate@20 = 0.2594\n",
      "{'sg': 0, 'window_len': 8, 'ns_exponent': -0.6980466937356067, 'negative': 4, 'min_count': 17, 'vector_size': 64}\n"
     ]
    },
    {
     "name": "stderr",
     "output_type": "stream",
     "text": [
      "[I 2024-04-04 19:23:42,718] Trial 29 finished with value: 0.02964332878367074 and parameters: {'sg': 0, 'window': 8, 'ns_exponent': -0.6980466937356067, 'negative': 4, 'min_count': 17, 'vector_size': 64}. Best is trial 0 with value: 0.04498511241730642.\n"
     ]
    },
    {
     "name": "stdout",
     "output_type": "stream",
     "text": [
      "NDCG@20 = 0.0296 Hitrate@20 = 0.2038\n",
      "{'sg': 1, 'window_len': 8, 'ns_exponent': -0.44309115844410557, 'negative': 12, 'min_count': 19, 'vector_size': 64}\n"
     ]
    },
    {
     "name": "stderr",
     "output_type": "stream",
     "text": [
      "[I 2024-04-04 19:26:35,792] Trial 30 finished with value: 0.03409829912210948 and parameters: {'sg': 1, 'window': 8, 'ns_exponent': -0.44309115844410557, 'negative': 12, 'min_count': 19, 'vector_size': 64}. Best is trial 0 with value: 0.04498511241730642.\n"
     ]
    },
    {
     "name": "stdout",
     "output_type": "stream",
     "text": [
      "NDCG@20 = 0.0341 Hitrate@20 = 0.2093\n",
      "{'sg': 1, 'window_len': 6, 'ns_exponent': 0.029596847129617538, 'negative': 7, 'min_count': 12, 'vector_size': 64}\n"
     ]
    },
    {
     "name": "stderr",
     "output_type": "stream",
     "text": [
      "[I 2024-04-04 19:28:25,944] Trial 31 finished with value: 0.04593745251731587 and parameters: {'sg': 1, 'window': 6, 'ns_exponent': 0.029596847129617538, 'negative': 7, 'min_count': 12, 'vector_size': 64}. Best is trial 31 with value: 0.04593745251731587.\n"
     ]
    },
    {
     "name": "stdout",
     "output_type": "stream",
     "text": [
      "NDCG@20 = 0.0459 Hitrate@20 = 0.2714\n",
      "{'sg': 1, 'window_len': 4, 'ns_exponent': 0.19399071518619543, 'negative': 7, 'min_count': 9, 'vector_size': 64}\n"
     ]
    },
    {
     "name": "stderr",
     "output_type": "stream",
     "text": [
      "[I 2024-04-04 19:30:03,589] Trial 32 finished with value: 0.03144745211094553 and parameters: {'sg': 1, 'window': 4, 'ns_exponent': 0.19399071518619543, 'negative': 7, 'min_count': 9, 'vector_size': 64}. Best is trial 31 with value: 0.04593745251731587.\n"
     ]
    },
    {
     "name": "stdout",
     "output_type": "stream",
     "text": [
      "NDCG@20 = 0.0314 Hitrate@20 = 0.2348\n",
      "{'sg': 1, 'window_len': 5, 'ns_exponent': 0.7078220186331211, 'negative': 4, 'min_count': 13, 'vector_size': 64}\n"
     ]
    },
    {
     "name": "stderr",
     "output_type": "stream",
     "text": [
      "[I 2024-04-04 19:31:24,538] Trial 33 finished with value: 0.020796886447310016 and parameters: {'sg': 1, 'window': 5, 'ns_exponent': 0.7078220186331211, 'negative': 4, 'min_count': 13, 'vector_size': 64}. Best is trial 31 with value: 0.04593745251731587.\n"
     ]
    },
    {
     "name": "stdout",
     "output_type": "stream",
     "text": [
      "NDCG@20 = 0.0208 Hitrate@20 = 0.1253\n",
      "{'sg': 0, 'window_len': 4, 'ns_exponent': -0.29889461171236786, 'negative': 6, 'min_count': 16, 'vector_size': 64}\n"
     ]
    },
    {
     "name": "stderr",
     "output_type": "stream",
     "text": [
      "[I 2024-04-04 19:32:13,853] Trial 34 finished with value: 0.0439817917844214 and parameters: {'sg': 0, 'window': 4, 'ns_exponent': -0.29889461171236786, 'negative': 6, 'min_count': 16, 'vector_size': 64}. Best is trial 31 with value: 0.04593745251731587.\n"
     ]
    },
    {
     "name": "stdout",
     "output_type": "stream",
     "text": [
      "NDCG@20 = 0.0440 Hitrate@20 = 0.2652\n",
      "{'sg': 0, 'window_len': 4, 'ns_exponent': 2.8406923304542913, 'negative': 9, 'min_count': 11, 'vector_size': 64}\n"
     ]
    },
    {
     "name": "stderr",
     "output_type": "stream",
     "text": [
      "[I 2024-04-04 19:33:16,462] Trial 35 finished with value: 0.01790374474952653 and parameters: {'sg': 0, 'window': 4, 'ns_exponent': 2.8406923304542913, 'negative': 9, 'min_count': 11, 'vector_size': 64}. Best is trial 31 with value: 0.04593745251731587.\n"
     ]
    },
    {
     "name": "stdout",
     "output_type": "stream",
     "text": [
      "NDCG@20 = 0.0179 Hitrate@20 = 0.1050\n",
      "{'sg': 0, 'window_len': 3, 'ns_exponent': 1.259116665707266, 'negative': 8, 'min_count': 15, 'vector_size': 128}\n"
     ]
    },
    {
     "name": "stderr",
     "output_type": "stream",
     "text": [
      "[I 2024-04-04 19:34:15,422] Trial 36 finished with value: 0.01896826717990164 and parameters: {'sg': 0, 'window': 3, 'ns_exponent': 1.259116665707266, 'negative': 8, 'min_count': 15, 'vector_size': 128}. Best is trial 31 with value: 0.04593745251731587.\n"
     ]
    },
    {
     "name": "stdout",
     "output_type": "stream",
     "text": [
      "NDCG@20 = 0.0190 Hitrate@20 = 0.1186\n",
      "{'sg': 0, 'window_len': 3, 'ns_exponent': -0.1913620683035799, 'negative': 6, 'min_count': 6, 'vector_size': 64}\n"
     ]
    },
    {
     "name": "stderr",
     "output_type": "stream",
     "text": [
      "[I 2024-04-04 19:35:30,290] Trial 37 finished with value: 0.03945753801796469 and parameters: {'sg': 0, 'window': 3, 'ns_exponent': -0.1913620683035799, 'negative': 6, 'min_count': 6, 'vector_size': 64}. Best is trial 31 with value: 0.04593745251731587.\n"
     ]
    },
    {
     "name": "stdout",
     "output_type": "stream",
     "text": [
      "NDCG@20 = 0.0395 Hitrate@20 = 0.2433\n",
      "{'sg': 0, 'window_len': 5, 'ns_exponent': 1.9751488719476875, 'negative': 13, 'min_count': 16, 'vector_size': 16}\n"
     ]
    },
    {
     "name": "stderr",
     "output_type": "stream",
     "text": [
      "[I 2024-04-04 19:36:28,449] Trial 38 finished with value: 0.021673204195595767 and parameters: {'sg': 0, 'window': 5, 'ns_exponent': 1.9751488719476875, 'negative': 13, 'min_count': 16, 'vector_size': 16}. Best is trial 31 with value: 0.04593745251731587.\n"
     ]
    },
    {
     "name": "stdout",
     "output_type": "stream",
     "text": [
      "NDCG@20 = 0.0217 Hitrate@20 = 0.1151\n",
      "{'sg': 0, 'window_len': 1, 'ns_exponent': 0.6839407968268831, 'negative': 11, 'min_count': 10, 'vector_size': 64}\n"
     ]
    },
    {
     "name": "stderr",
     "output_type": "stream",
     "text": [
      "[I 2024-04-04 19:37:38,153] Trial 39 finished with value: 0.02365944851823961 and parameters: {'sg': 0, 'window': 1, 'ns_exponent': 0.6839407968268831, 'negative': 11, 'min_count': 10, 'vector_size': 64}. Best is trial 31 with value: 0.04593745251731587.\n"
     ]
    },
    {
     "name": "stdout",
     "output_type": "stream",
     "text": [
      "NDCG@20 = 0.0237 Hitrate@20 = 0.1440\n",
      "{'sg': 0, 'window_len': 2, 'ns_exponent': -0.9700864320646059, 'negative': 9, 'min_count': 7, 'vector_size': 64}\n"
     ]
    },
    {
     "name": "stderr",
     "output_type": "stream",
     "text": [
      "[I 2024-04-04 19:38:52,211] Trial 40 finished with value: 0.016124096108054653 and parameters: {'sg': 0, 'window': 2, 'ns_exponent': -0.9700864320646059, 'negative': 9, 'min_count': 7, 'vector_size': 64}. Best is trial 31 with value: 0.04593745251731587.\n"
     ]
    },
    {
     "name": "stdout",
     "output_type": "stream",
     "text": [
      "NDCG@20 = 0.0161 Hitrate@20 = 0.1124\n",
      "{'sg': 1, 'window_len': 7, 'ns_exponent': 0.18460828007169433, 'negative': 5, 'min_count': 17, 'vector_size': 64}\n"
     ]
    },
    {
     "name": "stderr",
     "output_type": "stream",
     "text": [
      "[I 2024-04-04 19:40:25,557] Trial 41 finished with value: 0.03949939213200981 and parameters: {'sg': 1, 'window': 7, 'ns_exponent': 0.18460828007169433, 'negative': 5, 'min_count': 17, 'vector_size': 64}. Best is trial 31 with value: 0.04593745251731587.\n"
     ]
    },
    {
     "name": "stdout",
     "output_type": "stream",
     "text": [
      "NDCG@20 = 0.0395 Hitrate@20 = 0.2698\n",
      "{'sg': 0, 'window_len': 6, 'ns_exponent': -0.2941820919831824, 'negative': 3, 'min_count': 19, 'vector_size': 64}\n"
     ]
    },
    {
     "name": "stderr",
     "output_type": "stream",
     "text": [
      "[I 2024-04-04 19:41:11,439] Trial 42 finished with value: 0.04378082831165914 and parameters: {'sg': 0, 'window': 6, 'ns_exponent': -0.2941820919831824, 'negative': 3, 'min_count': 19, 'vector_size': 64}. Best is trial 31 with value: 0.04593745251731587.\n"
     ]
    },
    {
     "name": "stdout",
     "output_type": "stream",
     "text": [
      "NDCG@20 = 0.0438 Hitrate@20 = 0.2661\n",
      "{'sg': 1, 'window_len': 4, 'ns_exponent': 0.39448347734526384, 'negative': 6, 'min_count': 15, 'vector_size': 64}\n"
     ]
    },
    {
     "name": "stderr",
     "output_type": "stream",
     "text": [
      "[I 2024-04-04 19:42:31,426] Trial 43 finished with value: 0.02402573652455712 and parameters: {'sg': 1, 'window': 4, 'ns_exponent': 0.39448347734526384, 'negative': 6, 'min_count': 15, 'vector_size': 64}. Best is trial 31 with value: 0.04593745251731587.\n"
     ]
    },
    {
     "name": "stdout",
     "output_type": "stream",
     "text": [
      "NDCG@20 = 0.0240 Hitrate@20 = 0.1547\n",
      "{'sg': 1, 'window_len': 5, 'ns_exponent': -0.007096025322631094, 'negative': 4, 'min_count': 17, 'vector_size': 16}\n"
     ]
    },
    {
     "name": "stderr",
     "output_type": "stream",
     "text": [
      "[I 2024-04-04 19:43:48,757] Trial 44 finished with value: 0.04157126386220112 and parameters: {'sg': 1, 'window': 5, 'ns_exponent': -0.007096025322631094, 'negative': 4, 'min_count': 17, 'vector_size': 16}. Best is trial 31 with value: 0.04593745251731587.\n"
     ]
    },
    {
     "name": "stdout",
     "output_type": "stream",
     "text": [
      "NDCG@20 = 0.0416 Hitrate@20 = 0.2495\n",
      "{'sg': 1, 'window_len': 10, 'ns_exponent': -0.6554309868112579, 'negative': 8, 'min_count': 13, 'vector_size': 128}\n"
     ]
    },
    {
     "name": "stderr",
     "output_type": "stream",
     "text": [
      "[I 2024-04-04 19:46:47,928] Trial 45 finished with value: 0.03076464273625932 and parameters: {'sg': 1, 'window': 10, 'ns_exponent': -0.6554309868112579, 'negative': 8, 'min_count': 13, 'vector_size': 128}. Best is trial 31 with value: 0.04593745251731587.\n"
     ]
    },
    {
     "name": "stdout",
     "output_type": "stream",
     "text": [
      "NDCG@20 = 0.0308 Hitrate@20 = 0.1944\n",
      "{'sg': 0, 'window_len': 9, 'ns_exponent': 0.0870309781408407, 'negative': 7, 'min_count': 14, 'vector_size': 64}\n"
     ]
    },
    {
     "name": "stderr",
     "output_type": "stream",
     "text": [
      "[I 2024-04-04 19:47:49,184] Trial 46 finished with value: 0.060584399847025426 and parameters: {'sg': 0, 'window': 9, 'ns_exponent': 0.0870309781408407, 'negative': 7, 'min_count': 14, 'vector_size': 64}. Best is trial 46 with value: 0.060584399847025426.\n"
     ]
    },
    {
     "name": "stdout",
     "output_type": "stream",
     "text": [
      "NDCG@20 = 0.0606 Hitrate@20 = 0.3472\n",
      "{'sg': 0, 'window_len': 10, 'ns_exponent': -0.24568263490759748, 'negative': 7, 'min_count': 12, 'vector_size': 64}\n"
     ]
    },
    {
     "name": "stderr",
     "output_type": "stream",
     "text": [
      "[I 2024-04-04 19:48:59,510] Trial 47 finished with value: 0.05222148973768926 and parameters: {'sg': 0, 'window': 10, 'ns_exponent': -0.24568263490759748, 'negative': 7, 'min_count': 12, 'vector_size': 64}. Best is trial 46 with value: 0.060584399847025426.\n"
     ]
    },
    {
     "name": "stdout",
     "output_type": "stream",
     "text": [
      "NDCG@20 = 0.0522 Hitrate@20 = 0.3070\n",
      "{'sg': 0, 'window_len': 10, 'ns_exponent': -0.4405081820907409, 'negative': 8, 'min_count': 12, 'vector_size': 64}\n"
     ]
    },
    {
     "name": "stderr",
     "output_type": "stream",
     "text": [
      "[I 2024-04-04 19:50:05,119] Trial 48 finished with value: 0.046782506877588045 and parameters: {'sg': 0, 'window': 10, 'ns_exponent': -0.4405081820907409, 'negative': 8, 'min_count': 12, 'vector_size': 64}. Best is trial 46 with value: 0.060584399847025426.\n"
     ]
    },
    {
     "name": "stdout",
     "output_type": "stream",
     "text": [
      "NDCG@20 = 0.0468 Hitrate@20 = 0.2789\n",
      "{'sg': 0, 'window_len': 10, 'ns_exponent': -0.6004602876030919, 'negative': 9, 'min_count': 12, 'vector_size': 16}\n"
     ]
    },
    {
     "name": "stderr",
     "output_type": "stream",
     "text": [
      "[I 2024-04-04 19:51:14,971] Trial 49 finished with value: 0.03910054550414214 and parameters: {'sg': 0, 'window': 10, 'ns_exponent': -0.6004602876030919, 'negative': 9, 'min_count': 12, 'vector_size': 16}. Best is trial 46 with value: 0.060584399847025426.\n"
     ]
    },
    {
     "name": "stdout",
     "output_type": "stream",
     "text": [
      "NDCG@20 = 0.0391 Hitrate@20 = 0.2508\n",
      "{'sg': 0, 'window_len': 10, 'ns_exponent': -1.0828096200443331, 'negative': 10, 'min_count': 12, 'vector_size': 128}\n"
     ]
    },
    {
     "name": "stderr",
     "output_type": "stream",
     "text": [
      "[I 2024-04-04 19:52:20,993] Trial 50 finished with value: 0.0296054513884559 and parameters: {'sg': 0, 'window': 10, 'ns_exponent': -1.0828096200443331, 'negative': 10, 'min_count': 12, 'vector_size': 128}. Best is trial 46 with value: 0.060584399847025426.\n"
     ]
    },
    {
     "name": "stdout",
     "output_type": "stream",
     "text": [
      "NDCG@20 = 0.0296 Hitrate@20 = 0.1855\n",
      "{'sg': 0, 'window_len': 9, 'ns_exponent': -0.3527240527066464, 'negative': 8, 'min_count': 14, 'vector_size': 64}\n"
     ]
    },
    {
     "name": "stderr",
     "output_type": "stream",
     "text": [
      "[I 2024-04-04 19:53:18,034] Trial 51 finished with value: 0.04925180955770741 and parameters: {'sg': 0, 'window': 9, 'ns_exponent': -0.3527240527066464, 'negative': 8, 'min_count': 14, 'vector_size': 64}. Best is trial 46 with value: 0.060584399847025426.\n"
     ]
    },
    {
     "name": "stdout",
     "output_type": "stream",
     "text": [
      "NDCG@20 = 0.0493 Hitrate@20 = 0.2910\n",
      "{'sg': 0, 'window_len': 9, 'ns_exponent': -0.4206616415114579, 'negative': 7, 'min_count': 14, 'vector_size': 64}\n"
     ]
    },
    {
     "name": "stderr",
     "output_type": "stream",
     "text": [
      "[I 2024-04-04 19:54:20,785] Trial 52 finished with value: 0.04677162078877806 and parameters: {'sg': 0, 'window': 9, 'ns_exponent': -0.4206616415114579, 'negative': 7, 'min_count': 14, 'vector_size': 64}. Best is trial 46 with value: 0.060584399847025426.\n"
     ]
    },
    {
     "name": "stdout",
     "output_type": "stream",
     "text": [
      "NDCG@20 = 0.0468 Hitrate@20 = 0.2778\n",
      "{'sg': 0, 'window_len': 9, 'ns_exponent': -0.39513968290313584, 'negative': 7, 'min_count': 14, 'vector_size': 64}\n"
     ]
    },
    {
     "name": "stderr",
     "output_type": "stream",
     "text": [
      "[I 2024-04-04 19:55:21,461] Trial 53 finished with value: 0.04787742032136888 and parameters: {'sg': 0, 'window': 9, 'ns_exponent': -0.39513968290313584, 'negative': 7, 'min_count': 14, 'vector_size': 64}. Best is trial 46 with value: 0.060584399847025426.\n"
     ]
    },
    {
     "name": "stdout",
     "output_type": "stream",
     "text": [
      "NDCG@20 = 0.0479 Hitrate@20 = 0.2843\n",
      "{'sg': 0, 'window_len': 9, 'ns_exponent': -0.8445758557998497, 'negative': 8, 'min_count': 14, 'vector_size': 64}\n"
     ]
    },
    {
     "name": "stderr",
     "output_type": "stream",
     "text": [
      "[I 2024-04-04 19:56:17,238] Trial 54 finished with value: 0.030758846444547985 and parameters: {'sg': 0, 'window': 9, 'ns_exponent': -0.8445758557998497, 'negative': 8, 'min_count': 14, 'vector_size': 64}. Best is trial 46 with value: 0.060584399847025426.\n"
     ]
    },
    {
     "name": "stdout",
     "output_type": "stream",
     "text": [
      "NDCG@20 = 0.0308 Hitrate@20 = 0.2067\n",
      "{'sg': 0, 'window_len': 9, 'ns_exponent': -0.5428097936447162, 'negative': 7, 'min_count': 14, 'vector_size': 64}\n"
     ]
    },
    {
     "name": "stderr",
     "output_type": "stream",
     "text": [
      "[I 2024-04-04 19:57:17,116] Trial 55 finished with value: 0.04229199660371314 and parameters: {'sg': 0, 'window': 9, 'ns_exponent': -0.5428097936447162, 'negative': 7, 'min_count': 14, 'vector_size': 64}. Best is trial 46 with value: 0.060584399847025426.\n"
     ]
    },
    {
     "name": "stdout",
     "output_type": "stream",
     "text": [
      "NDCG@20 = 0.0423 Hitrate@20 = 0.2605\n",
      "{'sg': 0, 'window_len': 10, 'ns_exponent': -1.2825576575652295, 'negative': 9, 'min_count': 11, 'vector_size': 64}\n"
     ]
    },
    {
     "name": "stderr",
     "output_type": "stream",
     "text": [
      "[I 2024-04-04 19:58:19,933] Trial 56 finished with value: 0.02634005664427179 and parameters: {'sg': 0, 'window': 10, 'ns_exponent': -1.2825576575652295, 'negative': 9, 'min_count': 11, 'vector_size': 64}. Best is trial 46 with value: 0.060584399847025426.\n"
     ]
    },
    {
     "name": "stdout",
     "output_type": "stream",
     "text": [
      "NDCG@20 = 0.0263 Hitrate@20 = 0.1719\n",
      "{'sg': 0, 'window_len': 9, 'ns_exponent': -0.39107828888464724, 'negative': 8, 'min_count': 13, 'vector_size': 64}\n"
     ]
    },
    {
     "name": "stderr",
     "output_type": "stream",
     "text": [
      "[I 2024-04-04 19:59:32,507] Trial 57 finished with value: 0.047765057839880956 and parameters: {'sg': 0, 'window': 9, 'ns_exponent': -0.39107828888464724, 'negative': 8, 'min_count': 13, 'vector_size': 64}. Best is trial 46 with value: 0.060584399847025426.\n"
     ]
    },
    {
     "name": "stdout",
     "output_type": "stream",
     "text": [
      "NDCG@20 = 0.0478 Hitrate@20 = 0.2825\n",
      "{'sg': 0, 'window_len': 10, 'ns_exponent': -0.8476814734383763, 'negative': 8, 'min_count': 13, 'vector_size': 32}\n"
     ]
    },
    {
     "name": "stderr",
     "output_type": "stream",
     "text": [
      "[I 2024-04-04 20:00:34,063] Trial 58 finished with value: 0.031406947858363954 and parameters: {'sg': 0, 'window': 10, 'ns_exponent': -0.8476814734383763, 'negative': 8, 'min_count': 13, 'vector_size': 32}. Best is trial 46 with value: 0.060584399847025426.\n"
     ]
    },
    {
     "name": "stdout",
     "output_type": "stream",
     "text": [
      "NDCG@20 = 0.0314 Hitrate@20 = 0.2044\n",
      "{'sg': 0, 'window_len': 9, 'ns_exponent': -0.5215665601845249, 'negative': 11, 'min_count': 11, 'vector_size': 64}\n"
     ]
    },
    {
     "name": "stderr",
     "output_type": "stream",
     "text": [
      "[I 2024-04-04 20:01:42,159] Trial 59 finished with value: 0.044000546372606544 and parameters: {'sg': 0, 'window': 9, 'ns_exponent': -0.5215665601845249, 'negative': 11, 'min_count': 11, 'vector_size': 64}. Best is trial 46 with value: 0.060584399847025426.\n"
     ]
    },
    {
     "name": "stdout",
     "output_type": "stream",
     "text": [
      "NDCG@20 = 0.0440 Hitrate@20 = 0.2652\n",
      "{'sg': 0, 'window_len': 9, 'ns_exponent': -1.251632424994411, 'negative': 10, 'min_count': 15, 'vector_size': 64}\n"
     ]
    },
    {
     "name": "stderr",
     "output_type": "stream",
     "text": [
      "[I 2024-04-04 20:02:39,931] Trial 60 finished with value: 0.03263844415478497 and parameters: {'sg': 0, 'window': 9, 'ns_exponent': -1.251632424994411, 'negative': 10, 'min_count': 15, 'vector_size': 64}. Best is trial 46 with value: 0.060584399847025426.\n"
     ]
    },
    {
     "name": "stdout",
     "output_type": "stream",
     "text": [
      "NDCG@20 = 0.0326 Hitrate@20 = 0.1961\n",
      "{'sg': 0, 'window_len': 9, 'ns_exponent': -0.35303040296298377, 'negative': 7, 'min_count': 14, 'vector_size': 64}\n"
     ]
    },
    {
     "name": "stderr",
     "output_type": "stream",
     "text": [
      "[I 2024-04-04 20:03:43,458] Trial 61 finished with value: 0.04919867573563929 and parameters: {'sg': 0, 'window': 9, 'ns_exponent': -0.35303040296298377, 'negative': 7, 'min_count': 14, 'vector_size': 64}. Best is trial 46 with value: 0.060584399847025426.\n"
     ]
    },
    {
     "name": "stdout",
     "output_type": "stream",
     "text": [
      "NDCG@20 = 0.0492 Hitrate@20 = 0.2878\n",
      "{'sg': 0, 'window_len': 10, 'ns_exponent': -0.29382460155890366, 'negative': 8, 'min_count': 13, 'vector_size': 64}\n"
     ]
    },
    {
     "name": "stderr",
     "output_type": "stream",
     "text": [
      "[I 2024-04-04 20:04:44,568] Trial 62 finished with value: 0.051524975928405374 and parameters: {'sg': 0, 'window': 10, 'ns_exponent': -0.29382460155890366, 'negative': 8, 'min_count': 13, 'vector_size': 64}. Best is trial 46 with value: 0.060584399847025426.\n"
     ]
    },
    {
     "name": "stdout",
     "output_type": "stream",
     "text": [
      "NDCG@20 = 0.0515 Hitrate@20 = 0.3022\n",
      "{'sg': 0, 'window_len': 9, 'ns_exponent': -0.14815044783267667, 'negative': 7, 'min_count': 15, 'vector_size': 64}\n"
     ]
    },
    {
     "name": "stderr",
     "output_type": "stream",
     "text": [
      "[I 2024-04-04 20:05:37,457] Trial 63 finished with value: 0.05597601916648613 and parameters: {'sg': 0, 'window': 9, 'ns_exponent': -0.14815044783267667, 'negative': 7, 'min_count': 15, 'vector_size': 64}. Best is trial 46 with value: 0.060584399847025426.\n"
     ]
    },
    {
     "name": "stdout",
     "output_type": "stream",
     "text": [
      "NDCG@20 = 0.0560 Hitrate@20 = 0.3237\n",
      "{'sg': 0, 'window_len': 9, 'ns_exponent': -0.1862845851025599, 'negative': 6, 'min_count': 14, 'vector_size': 64}\n"
     ]
    },
    {
     "name": "stderr",
     "output_type": "stream",
     "text": [
      "[I 2024-04-04 20:06:40,160] Trial 64 finished with value: 0.05378159513103269 and parameters: {'sg': 0, 'window': 9, 'ns_exponent': -0.1862845851025599, 'negative': 6, 'min_count': 14, 'vector_size': 64}. Best is trial 46 with value: 0.060584399847025426.\n"
     ]
    },
    {
     "name": "stdout",
     "output_type": "stream",
     "text": [
      "NDCG@20 = 0.0538 Hitrate@20 = 0.3124\n",
      "{'sg': 0, 'window_len': 10, 'ns_exponent': -0.11250681396186984, 'negative': 6, 'min_count': 16, 'vector_size': 64}\n"
     ]
    },
    {
     "name": "stderr",
     "output_type": "stream",
     "text": [
      "[I 2024-04-04 20:07:41,489] Trial 65 finished with value: 0.05720134352465863 and parameters: {'sg': 0, 'window': 10, 'ns_exponent': -0.11250681396186984, 'negative': 6, 'min_count': 16, 'vector_size': 64}. Best is trial 46 with value: 0.060584399847025426.\n"
     ]
    },
    {
     "name": "stdout",
     "output_type": "stream",
     "text": [
      "NDCG@20 = 0.0572 Hitrate@20 = 0.3317\n",
      "{'sg': 0, 'window_len': 10, 'ns_exponent': 0.28144928047048867, 'negative': 5, 'min_count': 16, 'vector_size': 64}\n"
     ]
    },
    {
     "name": "stderr",
     "output_type": "stream",
     "text": [
      "[I 2024-04-04 20:08:31,029] Trial 66 finished with value: 0.04984258401823947 and parameters: {'sg': 0, 'window': 10, 'ns_exponent': 0.28144928047048867, 'negative': 5, 'min_count': 16, 'vector_size': 64}. Best is trial 46 with value: 0.060584399847025426.\n"
     ]
    },
    {
     "name": "stdout",
     "output_type": "stream",
     "text": [
      "NDCG@20 = 0.0498 Hitrate@20 = 0.3235\n",
      "{'sg': 0, 'window_len': 10, 'ns_exponent': -0.10185002232880391, 'negative': 5, 'min_count': 16, 'vector_size': 64}\n"
     ]
    },
    {
     "name": "stderr",
     "output_type": "stream",
     "text": [
      "[I 2024-04-04 20:09:27,380] Trial 67 finished with value: 0.05676576439532665 and parameters: {'sg': 0, 'window': 10, 'ns_exponent': -0.10185002232880391, 'negative': 5, 'min_count': 16, 'vector_size': 64}. Best is trial 46 with value: 0.060584399847025426.\n"
     ]
    },
    {
     "name": "stdout",
     "output_type": "stream",
     "text": [
      "NDCG@20 = 0.0568 Hitrate@20 = 0.3297\n",
      "{'sg': 0, 'window_len': 10, 'ns_exponent': -0.13332289298679612, 'negative': 6, 'min_count': 15, 'vector_size': 32}\n"
     ]
    },
    {
     "name": "stderr",
     "output_type": "stream",
     "text": [
      "[I 2024-04-04 20:10:16,652] Trial 68 finished with value: 0.05613015571274929 and parameters: {'sg': 0, 'window': 10, 'ns_exponent': -0.13332289298679612, 'negative': 6, 'min_count': 15, 'vector_size': 32}. Best is trial 46 with value: 0.060584399847025426.\n"
     ]
    },
    {
     "name": "stdout",
     "output_type": "stream",
     "text": [
      "NDCG@20 = 0.0561 Hitrate@20 = 0.3251\n",
      "{'sg': 0, 'window_len': 10, 'ns_exponent': -0.1290090595357706, 'negative': 6, 'min_count': 15, 'vector_size': 32}\n"
     ]
    },
    {
     "name": "stderr",
     "output_type": "stream",
     "text": [
      "[I 2024-04-04 20:11:07,037] Trial 69 finished with value: 0.05640694522113873 and parameters: {'sg': 0, 'window': 10, 'ns_exponent': -0.1290090595357706, 'negative': 6, 'min_count': 15, 'vector_size': 32}. Best is trial 46 with value: 0.060584399847025426.\n"
     ]
    },
    {
     "name": "stdout",
     "output_type": "stream",
     "text": [
      "NDCG@20 = 0.0564 Hitrate@20 = 0.3264\n",
      "{'sg': 0, 'window_len': 10, 'ns_exponent': -0.09764715524645935, 'negative': 5, 'min_count': 15, 'vector_size': 32}\n"
     ]
    },
    {
     "name": "stderr",
     "output_type": "stream",
     "text": [
      "[I 2024-04-04 20:11:55,198] Trial 70 finished with value: 0.05635958438247491 and parameters: {'sg': 0, 'window': 10, 'ns_exponent': -0.09764715524645935, 'negative': 5, 'min_count': 15, 'vector_size': 32}. Best is trial 46 with value: 0.060584399847025426.\n"
     ]
    },
    {
     "name": "stdout",
     "output_type": "stream",
     "text": [
      "NDCG@20 = 0.0564 Hitrate@20 = 0.3267\n",
      "{'sg': 0, 'window_len': 10, 'ns_exponent': -0.0863781232053645, 'negative': 5, 'min_count': 15, 'vector_size': 32}\n"
     ]
    },
    {
     "name": "stderr",
     "output_type": "stream",
     "text": [
      "[I 2024-04-04 20:12:42,146] Trial 71 finished with value: 0.056871073853273404 and parameters: {'sg': 0, 'window': 10, 'ns_exponent': -0.0863781232053645, 'negative': 5, 'min_count': 15, 'vector_size': 32}. Best is trial 46 with value: 0.060584399847025426.\n"
     ]
    },
    {
     "name": "stdout",
     "output_type": "stream",
     "text": [
      "NDCG@20 = 0.0569 Hitrate@20 = 0.3290\n",
      "{'sg': 0, 'window_len': 10, 'ns_exponent': -0.07671421378985435, 'negative': 5, 'min_count': 15, 'vector_size': 32}\n"
     ]
    },
    {
     "name": "stderr",
     "output_type": "stream",
     "text": [
      "[I 2024-04-04 20:13:38,560] Trial 72 finished with value: 0.05707512586597931 and parameters: {'sg': 0, 'window': 10, 'ns_exponent': -0.07671421378985435, 'negative': 5, 'min_count': 15, 'vector_size': 32}. Best is trial 46 with value: 0.060584399847025426.\n"
     ]
    },
    {
     "name": "stdout",
     "output_type": "stream",
     "text": [
      "NDCG@20 = 0.0571 Hitrate@20 = 0.3314\n",
      "{'sg': 0, 'window_len': 10, 'ns_exponent': -0.019891374310196386, 'negative': 5, 'min_count': 15, 'vector_size': 32}\n"
     ]
    },
    {
     "name": "stderr",
     "output_type": "stream",
     "text": [
      "[I 2024-04-04 20:14:30,757] Trial 73 finished with value: 0.05866700065058712 and parameters: {'sg': 0, 'window': 10, 'ns_exponent': -0.019891374310196386, 'negative': 5, 'min_count': 15, 'vector_size': 32}. Best is trial 46 with value: 0.060584399847025426.\n"
     ]
    },
    {
     "name": "stdout",
     "output_type": "stream",
     "text": [
      "NDCG@20 = 0.0587 Hitrate@20 = 0.3374\n",
      "{'sg': 0, 'window_len': 10, 'ns_exponent': 0.024016349754977934, 'negative': 5, 'min_count': 16, 'vector_size': 32}\n"
     ]
    },
    {
     "name": "stderr",
     "output_type": "stream",
     "text": [
      "[I 2024-04-04 20:15:20,114] Trial 74 finished with value: 0.05968650464403402 and parameters: {'sg': 0, 'window': 10, 'ns_exponent': 0.024016349754977934, 'negative': 5, 'min_count': 16, 'vector_size': 32}. Best is trial 46 with value: 0.060584399847025426.\n"
     ]
    },
    {
     "name": "stdout",
     "output_type": "stream",
     "text": [
      "NDCG@20 = 0.0597 Hitrate@20 = 0.3418\n",
      "{'sg': 0, 'window_len': 10, 'ns_exponent': 0.2570363436060975, 'negative': 4, 'min_count': 18, 'vector_size': 32}\n"
     ]
    },
    {
     "name": "stderr",
     "output_type": "stream",
     "text": [
      "[I 2024-04-04 20:16:18,845] Trial 75 finished with value: 0.05148375000127965 and parameters: {'sg': 0, 'window': 10, 'ns_exponent': 0.2570363436060975, 'negative': 4, 'min_count': 18, 'vector_size': 32}. Best is trial 46 with value: 0.060584399847025426.\n"
     ]
    },
    {
     "name": "stdout",
     "output_type": "stream",
     "text": [
      "NDCG@20 = 0.0515 Hitrate@20 = 0.3268\n",
      "{'sg': 0, 'window_len': 10, 'ns_exponent': 0.057791162162081466, 'negative': 5, 'min_count': 16, 'vector_size': 32}\n"
     ]
    },
    {
     "name": "stderr",
     "output_type": "stream",
     "text": [
      "[I 2024-04-04 20:17:10,887] Trial 76 finished with value: 0.05975228676256341 and parameters: {'sg': 0, 'window': 10, 'ns_exponent': 0.057791162162081466, 'negative': 5, 'min_count': 16, 'vector_size': 32}. Best is trial 46 with value: 0.060584399847025426.\n"
     ]
    },
    {
     "name": "stdout",
     "output_type": "stream",
     "text": [
      "NDCG@20 = 0.0598 Hitrate@20 = 0.3454\n",
      "{'sg': 0, 'window_len': 10, 'ns_exponent': 0.010905499667389795, 'negative': 5, 'min_count': 16, 'vector_size': 32}\n"
     ]
    },
    {
     "name": "stderr",
     "output_type": "stream",
     "text": [
      "[I 2024-04-04 20:17:58,486] Trial 77 finished with value: 0.05927187105970217 and parameters: {'sg': 0, 'window': 10, 'ns_exponent': 0.010905499667389795, 'negative': 5, 'min_count': 16, 'vector_size': 32}. Best is trial 46 with value: 0.060584399847025426.\n"
     ]
    },
    {
     "name": "stdout",
     "output_type": "stream",
     "text": [
      "NDCG@20 = 0.0593 Hitrate@20 = 0.3430\n",
      "{'sg': 0, 'window_len': 10, 'ns_exponent': 0.1055892204741416, 'negative': 5, 'min_count': 19, 'vector_size': 32}\n"
     ]
    },
    {
     "name": "stderr",
     "output_type": "stream",
     "text": [
      "[I 2024-04-04 20:18:48,662] Trial 78 finished with value: 0.06004234038957214 and parameters: {'sg': 0, 'window': 10, 'ns_exponent': 0.1055892204741416, 'negative': 5, 'min_count': 19, 'vector_size': 32}. Best is trial 46 with value: 0.060584399847025426.\n"
     ]
    },
    {
     "name": "stdout",
     "output_type": "stream",
     "text": [
      "NDCG@20 = 0.0600 Hitrate@20 = 0.3493\n",
      "{'sg': 0, 'window_len': 10, 'ns_exponent': 0.5100363810363704, 'negative': 3, 'min_count': 19, 'vector_size': 32}\n"
     ]
    },
    {
     "name": "stderr",
     "output_type": "stream",
     "text": [
      "[I 2024-04-04 20:19:42,369] Trial 79 finished with value: 0.03580756704148298 and parameters: {'sg': 0, 'window': 10, 'ns_exponent': 0.5100363810363704, 'negative': 3, 'min_count': 19, 'vector_size': 32}. Best is trial 46 with value: 0.060584399847025426.\n"
     ]
    },
    {
     "name": "stdout",
     "output_type": "stream",
     "text": [
      "NDCG@20 = 0.0358 Hitrate@20 = 0.2434\n",
      "{'sg': 0, 'window_len': 10, 'ns_exponent': 0.09987124956281232, 'negative': 4, 'min_count': 20, 'vector_size': 32}\n"
     ]
    },
    {
     "name": "stderr",
     "output_type": "stream",
     "text": [
      "[I 2024-04-04 20:20:31,248] Trial 80 finished with value: 0.05933001091653711 and parameters: {'sg': 0, 'window': 10, 'ns_exponent': 0.09987124956281232, 'negative': 4, 'min_count': 20, 'vector_size': 32}. Best is trial 46 with value: 0.060584399847025426.\n"
     ]
    },
    {
     "name": "stdout",
     "output_type": "stream",
     "text": [
      "NDCG@20 = 0.0593 Hitrate@20 = 0.3454\n",
      "{'sg': 0, 'window_len': 10, 'ns_exponent': 0.28795733269720936, 'negative': 4, 'min_count': 20, 'vector_size': 32}\n"
     ]
    },
    {
     "name": "stderr",
     "output_type": "stream",
     "text": [
      "[I 2024-04-04 20:21:19,906] Trial 81 finished with value: 0.05006902088769888 and parameters: {'sg': 0, 'window': 10, 'ns_exponent': 0.28795733269720936, 'negative': 4, 'min_count': 20, 'vector_size': 32}. Best is trial 46 with value: 0.060584399847025426.\n"
     ]
    },
    {
     "name": "stdout",
     "output_type": "stream",
     "text": [
      "NDCG@20 = 0.0501 Hitrate@20 = 0.3243\n",
      "{'sg': 0, 'window_len': 10, 'ns_exponent': 0.08231046342934593, 'negative': 4, 'min_count': 19, 'vector_size': 32}\n"
     ]
    },
    {
     "name": "stderr",
     "output_type": "stream",
     "text": [
      "[I 2024-04-04 20:22:05,492] Trial 82 finished with value: 0.05951218479784026 and parameters: {'sg': 0, 'window': 10, 'ns_exponent': 0.08231046342934593, 'negative': 4, 'min_count': 19, 'vector_size': 32}. Best is trial 46 with value: 0.060584399847025426.\n"
     ]
    },
    {
     "name": "stdout",
     "output_type": "stream",
     "text": [
      "NDCG@20 = 0.0595 Hitrate@20 = 0.3447\n",
      "{'sg': 0, 'window_len': 10, 'ns_exponent': 0.07343086101363182, 'negative': 4, 'min_count': 20, 'vector_size': 32}\n"
     ]
    },
    {
     "name": "stderr",
     "output_type": "stream",
     "text": [
      "[I 2024-04-04 20:22:53,845] Trial 83 finished with value: 0.059568887158283006 and parameters: {'sg': 0, 'window': 10, 'ns_exponent': 0.07343086101363182, 'negative': 4, 'min_count': 20, 'vector_size': 32}. Best is trial 46 with value: 0.060584399847025426.\n"
     ]
    },
    {
     "name": "stdout",
     "output_type": "stream",
     "text": [
      "NDCG@20 = 0.0596 Hitrate@20 = 0.3453\n",
      "{'sg': 0, 'window_len': 10, 'ns_exponent': 0.06443760475829204, 'negative': 4, 'min_count': 20, 'vector_size': 32}\n"
     ]
    },
    {
     "name": "stderr",
     "output_type": "stream",
     "text": [
      "[I 2024-04-04 20:23:40,359] Trial 84 finished with value: 0.05974868564742853 and parameters: {'sg': 0, 'window': 10, 'ns_exponent': 0.06443760475829204, 'negative': 4, 'min_count': 20, 'vector_size': 32}. Best is trial 46 with value: 0.060584399847025426.\n"
     ]
    },
    {
     "name": "stdout",
     "output_type": "stream",
     "text": [
      "NDCG@20 = 0.0597 Hitrate@20 = 0.3448\n",
      "{'sg': 0, 'window_len': 9, 'ns_exponent': 0.14479549805270137, 'negative': 3, 'min_count': 20, 'vector_size': 32}\n"
     ]
    },
    {
     "name": "stderr",
     "output_type": "stream",
     "text": [
      "[I 2024-04-04 20:24:28,681] Trial 85 finished with value: 0.05599435186821888 and parameters: {'sg': 0, 'window': 9, 'ns_exponent': 0.14479549805270137, 'negative': 3, 'min_count': 20, 'vector_size': 32}. Best is trial 46 with value: 0.060584399847025426.\n"
     ]
    },
    {
     "name": "stdout",
     "output_type": "stream",
     "text": [
      "NDCG@20 = 0.0560 Hitrate@20 = 0.3370\n",
      "{'sg': 0, 'window_len': 10, 'ns_exponent': 0.0994253529445497, 'negative': 4, 'min_count': 19, 'vector_size': 32}\n"
     ]
    },
    {
     "name": "stderr",
     "output_type": "stream",
     "text": [
      "[I 2024-04-04 20:25:19,979] Trial 86 finished with value: 0.059321776732384944 and parameters: {'sg': 0, 'window': 10, 'ns_exponent': 0.0994253529445497, 'negative': 4, 'min_count': 19, 'vector_size': 32}. Best is trial 46 with value: 0.060584399847025426.\n"
     ]
    },
    {
     "name": "stdout",
     "output_type": "stream",
     "text": [
      "NDCG@20 = 0.0593 Hitrate@20 = 0.3454\n",
      "{'sg': 0, 'window_len': 10, 'ns_exponent': 0.5691046462007532, 'negative': 4, 'min_count': 19, 'vector_size': 32}\n"
     ]
    },
    {
     "name": "stderr",
     "output_type": "stream",
     "text": [
      "[I 2024-04-04 20:26:04,803] Trial 87 finished with value: 0.03414084350796483 and parameters: {'sg': 0, 'window': 10, 'ns_exponent': 0.5691046462007532, 'negative': 4, 'min_count': 19, 'vector_size': 32}. Best is trial 46 with value: 0.060584399847025426.\n"
     ]
    },
    {
     "name": "stdout",
     "output_type": "stream",
     "text": [
      "NDCG@20 = 0.0341 Hitrate@20 = 0.2300\n",
      "{'sg': 0, 'window_len': 9, 'ns_exponent': 0.0883359337207347, 'negative': 4, 'min_count': 18, 'vector_size': 32}\n"
     ]
    },
    {
     "name": "stderr",
     "output_type": "stream",
     "text": [
      "[I 2024-04-04 20:26:56,959] Trial 88 finished with value: 0.05877388844378991 and parameters: {'sg': 0, 'window': 9, 'ns_exponent': 0.0883359337207347, 'negative': 4, 'min_count': 18, 'vector_size': 32}. Best is trial 46 with value: 0.060584399847025426.\n"
     ]
    },
    {
     "name": "stdout",
     "output_type": "stream",
     "text": [
      "NDCG@20 = 0.0588 Hitrate@20 = 0.3415\n",
      "{'sg': 0, 'window_len': 8, 'ns_exponent': 0.3553094230825132, 'negative': 3, 'min_count': 20, 'vector_size': 32}\n"
     ]
    },
    {
     "name": "stderr",
     "output_type": "stream",
     "text": [
      "[I 2024-04-04 20:27:47,158] Trial 89 finished with value: 0.04233338881575312 and parameters: {'sg': 0, 'window': 8, 'ns_exponent': 0.3553094230825132, 'negative': 3, 'min_count': 20, 'vector_size': 32}. Best is trial 46 with value: 0.060584399847025426.\n"
     ]
    },
    {
     "name": "stdout",
     "output_type": "stream",
     "text": [
      "NDCG@20 = 0.0423 Hitrate@20 = 0.2924\n",
      "{'sg': 0, 'window_len': 10, 'ns_exponent': 0.5484827891137954, 'negative': 4, 'min_count': 19, 'vector_size': 32}\n"
     ]
    },
    {
     "name": "stderr",
     "output_type": "stream",
     "text": [
      "[I 2024-04-04 20:28:28,937] Trial 90 finished with value: 0.03539168624144522 and parameters: {'sg': 0, 'window': 10, 'ns_exponent': 0.5484827891137954, 'negative': 4, 'min_count': 19, 'vector_size': 32}. Best is trial 46 with value: 0.060584399847025426.\n"
     ]
    },
    {
     "name": "stdout",
     "output_type": "stream",
     "text": [
      "NDCG@20 = 0.0354 Hitrate@20 = 0.2362\n",
      "{'sg': 0, 'window_len': 10, 'ns_exponent': 0.09459748469562758, 'negative': 3, 'min_count': 19, 'vector_size': 32}\n"
     ]
    },
    {
     "name": "stderr",
     "output_type": "stream",
     "text": [
      "[I 2024-04-04 20:29:10,283] Trial 91 finished with value: 0.0577701114240921 and parameters: {'sg': 0, 'window': 10, 'ns_exponent': 0.09459748469562758, 'negative': 3, 'min_count': 19, 'vector_size': 32}. Best is trial 46 with value: 0.060584399847025426.\n"
     ]
    },
    {
     "name": "stdout",
     "output_type": "stream",
     "text": [
      "NDCG@20 = 0.0578 Hitrate@20 = 0.3397\n",
      "{'sg': 0, 'window_len': 10, 'ns_exponent': 0.41763179687807905, 'negative': 5, 'min_count': 20, 'vector_size': 32}\n"
     ]
    },
    {
     "name": "stderr",
     "output_type": "stream",
     "text": [
      "[I 2024-04-04 20:30:04,604] Trial 92 finished with value: 0.041960873882547 and parameters: {'sg': 0, 'window': 10, 'ns_exponent': 0.41763179687807905, 'negative': 5, 'min_count': 20, 'vector_size': 32}. Best is trial 46 with value: 0.060584399847025426.\n"
     ]
    },
    {
     "name": "stdout",
     "output_type": "stream",
     "text": [
      "NDCG@20 = 0.0420 Hitrate@20 = 0.2887\n",
      "{'sg': 0, 'window_len': 10, 'ns_exponent': 0.08931303436863534, 'negative': 4, 'min_count': 18, 'vector_size': 32}\n"
     ]
    },
    {
     "name": "stderr",
     "output_type": "stream",
     "text": [
      "[I 2024-04-04 20:30:55,172] Trial 93 finished with value: 0.05918266416430841 and parameters: {'sg': 0, 'window': 10, 'ns_exponent': 0.08931303436863534, 'negative': 4, 'min_count': 18, 'vector_size': 32}. Best is trial 46 with value: 0.060584399847025426.\n"
     ]
    },
    {
     "name": "stdout",
     "output_type": "stream",
     "text": [
      "NDCG@20 = 0.0592 Hitrate@20 = 0.3441\n",
      "{'sg': 0, 'window_len': 10, 'ns_exponent': 0.26292226983785344, 'negative': 19, 'min_count': 17, 'vector_size': 32}\n"
     ]
    },
    {
     "name": "stderr",
     "output_type": "stream",
     "text": [
      "[I 2024-04-04 20:32:08,893] Trial 94 finished with value: 0.05317316947997577 and parameters: {'sg': 0, 'window': 10, 'ns_exponent': 0.26292226983785344, 'negative': 19, 'min_count': 17, 'vector_size': 32}. Best is trial 46 with value: 0.060584399847025426.\n"
     ]
    },
    {
     "name": "stdout",
     "output_type": "stream",
     "text": [
      "NDCG@20 = 0.0532 Hitrate@20 = 0.3392\n",
      "{'sg': 0, 'window_len': 9, 'ns_exponent': 0.15982799584592833, 'negative': 4, 'min_count': 20, 'vector_size': 32}\n"
     ]
    },
    {
     "name": "stderr",
     "output_type": "stream",
     "text": [
      "[I 2024-04-04 20:32:58,139] Trial 95 finished with value: 0.057035635822581254 and parameters: {'sg': 0, 'window': 9, 'ns_exponent': 0.15982799584592833, 'negative': 4, 'min_count': 20, 'vector_size': 32}. Best is trial 46 with value: 0.060584399847025426.\n"
     ]
    },
    {
     "name": "stdout",
     "output_type": "stream",
     "text": [
      "NDCG@20 = 0.0570 Hitrate@20 = 0.3406\n",
      "{'sg': 0, 'window_len': 10, 'ns_exponent': 0.37133933194814805, 'negative': 3, 'min_count': 19, 'vector_size': 32}\n"
     ]
    },
    {
     "name": "stderr",
     "output_type": "stream",
     "text": [
      "[I 2024-04-04 20:33:41,747] Trial 96 finished with value: 0.043058660353749854 and parameters: {'sg': 0, 'window': 10, 'ns_exponent': 0.37133933194814805, 'negative': 3, 'min_count': 19, 'vector_size': 32}. Best is trial 46 with value: 0.060584399847025426.\n"
     ]
    },
    {
     "name": "stdout",
     "output_type": "stream",
     "text": [
      "NDCG@20 = 0.0431 Hitrate@20 = 0.2960\n",
      "{'sg': 0, 'window_len': 9, 'ns_exponent': 0.0034566315229371397, 'negative': 5, 'min_count': 18, 'vector_size': 32}\n"
     ]
    },
    {
     "name": "stderr",
     "output_type": "stream",
     "text": [
      "[I 2024-04-04 20:34:34,522] Trial 97 finished with value: 0.059417916748184814 and parameters: {'sg': 0, 'window': 9, 'ns_exponent': 0.0034566315229371397, 'negative': 5, 'min_count': 18, 'vector_size': 32}. Best is trial 46 with value: 0.060584399847025426.\n"
     ]
    },
    {
     "name": "stdout",
     "output_type": "stream",
     "text": [
      "NDCG@20 = 0.0594 Hitrate@20 = 0.3399\n",
      "{'sg': 0, 'window_len': 8, 'ns_exponent': 0.7580884685506912, 'negative': 4, 'min_count': 18, 'vector_size': 32}\n"
     ]
    },
    {
     "name": "stderr",
     "output_type": "stream",
     "text": [
      "[I 2024-04-04 20:35:19,867] Trial 98 finished with value: 0.028900413071824664 and parameters: {'sg': 0, 'window': 8, 'ns_exponent': 0.7580884685506912, 'negative': 4, 'min_count': 18, 'vector_size': 32}. Best is trial 46 with value: 0.060584399847025426.\n"
     ]
    },
    {
     "name": "stdout",
     "output_type": "stream",
     "text": [
      "NDCG@20 = 0.0289 Hitrate@20 = 0.1734\n",
      "{'sg': 0, 'window_len': 9, 'ns_exponent': 0.224215400672453, 'negative': 3, 'min_count': 19, 'vector_size': 32}\n"
     ]
    },
    {
     "name": "stderr",
     "output_type": "stream",
     "text": [
      "[I 2024-04-04 20:36:05,605] Trial 99 finished with value: 0.05183632194671007 and parameters: {'sg': 0, 'window': 9, 'ns_exponent': 0.224215400672453, 'negative': 3, 'min_count': 19, 'vector_size': 32}. Best is trial 46 with value: 0.060584399847025426.\n"
     ]
    },
    {
     "name": "stdout",
     "output_type": "stream",
     "text": [
      "NDCG@20 = 0.0518 Hitrate@20 = 0.3266\n"
     ]
    },
    {
     "data": {
      "text/plain": [
       "{'sg': 0,\n",
       " 'window': 9,\n",
       " 'ns_exponent': 0.0870309781408407,\n",
       " 'negative': 7,\n",
       " 'min_count': 14,\n",
       " 'vector_size': 64}"
      ]
     },
     "execution_count": 24,
     "metadata": {},
     "output_type": "execute_result"
    }
   ],
   "source": [
    "SEED = 42\n",
    "\n",
    "def set_seed(seed):\n",
    "    np.random.seed(seed)\n",
    "    random.seed(seed)\n",
    "\n",
    "def objective(trial):\n",
    "    sg = trial.suggest_categorical('sg', [0, 1])\n",
    "    window = trial.suggest_int('window', 1, 10)\n",
    "    ns_exponent = trial.suggest_float('ns_exponent', -3, 3)\n",
    "    negative = trial.suggest_int('negative', 3, 20)\n",
    "    min_count = trial.suggest_int('min_count', 0, 20)\n",
    "    vector_size = trial.suggest_categorical('vector_size', [16, 32, 64, 128])\n",
    "    \n",
    "    print({\n",
    "        'sg': sg,\n",
    "        'window_len': window,\n",
    "        'ns_exponent': ns_exponent,\n",
    "        'negative': negative,\n",
    "        'min_count': min_count,\n",
    "        'vector_size': vector_size,\n",
    "    })\n",
    "    \n",
    "    set_seed(SEED)\n",
    "    model = Word2Vec(\n",
    "        grouped_df_with_inds['train_item_ids'].to_list(),\n",
    "        window=window,\n",
    "        sg=sg,\n",
    "        hs=0,\n",
    "        min_count=min_count,\n",
    "        vector_size=vector_size,\n",
    "        negative=negative,\n",
    "        ns_exponent=ns_exponent,\n",
    "        seed=SEED,\n",
    "        epochs=10,\n",
    "    )\n",
    "    \n",
    "    mean_ndcg, mean_hitrate = evaluate_model(model)\n",
    "    print(f'NDCG@{TOP_K} = {mean_ndcg:.4f} Hitrate@{TOP_K} = {mean_hitrate:.4f}')\n",
    "    return mean_ndcg\n",
    "    \n",
    "    \n",
    "study = optuna.create_study(directions=('maximize',))\n",
    "study.optimize(objective, n_trials=100)\n",
    "\n",
    "study.best_params"
   ]
  },
  {
   "cell_type": "code",
   "execution_count": 25,
   "id": "1f48911a",
   "metadata": {},
   "outputs": [
    {
     "data": {
      "text/plain": [
       "{'sg': 0,\n",
       " 'window': 9,\n",
       " 'ns_exponent': 0.0870309781408407,\n",
       " 'negative': 7,\n",
       " 'min_count': 14,\n",
       " 'vector_size': 64}"
      ]
     },
     "execution_count": 25,
     "metadata": {},
     "output_type": "execute_result"
    }
   ],
   "source": [
    "study.best_params"
   ]
  },
  {
   "cell_type": "code",
   "execution_count": 26,
   "id": "83b6a58f",
   "metadata": {},
   "outputs": [
    {
     "name": "stdout",
     "output_type": "stream",
     "text": [
      "NDCG@20 = 0.0658 Hitrate@20 = 0.3778\n"
     ]
    }
   ],
   "source": [
    "# Возьму лучшие параметры и обучу побольше эпох\n",
    "set_seed(SEED)\n",
    "model = Word2Vec(\n",
    "    grouped_df_with_inds['train_item_ids'].to_list(),\n",
    "    window=9,\n",
    "    sg=0,\n",
    "    hs=0,\n",
    "    min_count=14,\n",
    "    vector_size=64,\n",
    "    negative=7,\n",
    "    ns_exponent=0.0870309781408407,\n",
    "    seed=SEED,\n",
    "    epochs=50,\n",
    ")\n",
    "mean_ndcg, mean_hitrate = evaluate_model(model)\n",
    "print(f'NDCG@{TOP_K} = {mean_ndcg:.4f} Hitrate@{TOP_K} = {mean_hitrate:.4f}')"
   ]
  },
  {
   "cell_type": "code",
   "execution_count": 27,
   "id": "60f4e4e6",
   "metadata": {},
   "outputs": [
    {
     "name": "stdout",
     "output_type": "stream",
     "text": [
      "NDCG@20 = 0.0668 Hitrate@20 = 0.3804\n"
     ]
    }
   ],
   "source": [
    "# Может 100 эпох лучше, чем 50?\n",
    "set_seed(SEED)\n",
    "model = Word2Vec(\n",
    "    grouped_df_with_inds['train_item_ids'].to_list(),\n",
    "    window=9,\n",
    "    sg=0,\n",
    "    hs=0,\n",
    "    min_count=14,\n",
    "    vector_size=64,\n",
    "    negative=7,\n",
    "    ns_exponent=0.0870309781408407,\n",
    "    seed=SEED,\n",
    "    epochs=100,\n",
    ")\n",
    "mean_ndcg, mean_hitrate = evaluate_model(model)\n",
    "print(f'NDCG@{TOP_K} = {mean_ndcg:.4f} Hitrate@{TOP_K} = {mean_hitrate:.4f}')"
   ]
  },
  {
   "cell_type": "markdown",
   "id": "ccb629fc",
   "metadata": {},
   "source": [
    "Лучше, но совсем чуть-чуть"
   ]
  },
  {
   "cell_type": "code",
   "execution_count": 29,
   "id": "16da7943",
   "metadata": {},
   "outputs": [
    {
     "data": {
      "text/html": [
       "<div><style>\n",
       ".dataframe > thead > tr > th,\n",
       ".dataframe > tbody > tr > td {\n",
       "  text-align: right;\n",
       "}\n",
       "</style>\n",
       "<small>shape: (50_000, 2)</small><table border=\"1\" class=\"dataframe\"><thead><tr><th>user_id</th><th>item_ids_full</th></tr><tr><td>i64</td><td>list[i64]</td></tr></thead><tbody><tr><td>47136</td><td>[19175, 34112, … 71009]</td></tr><tr><td>18240</td><td>[33648, 61027, … 85541]</td></tr><tr><td>39104</td><td>[12004, 36675, … 79429]</td></tr><tr><td>41728</td><td>[71848, 48486, … 48572]</td></tr><tr><td>16416</td><td>[23689, 58652, … 37254]</td></tr><tr><td>46560</td><td>[1206, 69633, … 75239]</td></tr><tr><td>48000</td><td>[19427, 31911, … 75381]</td></tr><tr><td>49408</td><td>[42731, 17598, … 68410]</td></tr><tr><td>14336</td><td>[63397, 51530, … 49337]</td></tr><tr><td>14944</td><td>[42024, 56709, … 54289]</td></tr><tr><td>20800</td><td>[48808, 19181, … 63644]</td></tr><tr><td>32128</td><td>[69540, 25069, … 28619]</td></tr><tr><td>&hellip;</td><td>&hellip;</td></tr><tr><td>31423</td><td>[18738, 21074, … 37816]</td></tr><tr><td>17247</td><td>[3639, 64922, … 79650]</td></tr><tr><td>36607</td><td>[36169, 46233, … 10072]</td></tr><tr><td>26175</td><td>[86662, 70849, … 83087]</td></tr><tr><td>767</td><td>[32164, 4182, … 83359]</td></tr><tr><td>29759</td><td>[23627, 89939, … 64348]</td></tr><tr><td>43551</td><td>[88415, 80178, … 15167]</td></tr><tr><td>9471</td><td>[30212, 36270, … 69833]</td></tr><tr><td>42687</td><td>[62433, 65564, … 6961]</td></tr><tr><td>36639</td><td>[22686, 69833, … 55558]</td></tr><tr><td>7295</td><td>[67139, 2940, … 4877]</td></tr><tr><td>3039</td><td>[2062, 72595, … 13651]</td></tr></tbody></table></div>"
      ],
      "text/plain": [
       "shape: (50_000, 2)\n",
       "┌─────────┬─────────────────────────┐\n",
       "│ user_id ┆ item_ids_full           │\n",
       "│ ---     ┆ ---                     │\n",
       "│ i64     ┆ list[i64]               │\n",
       "╞═════════╪═════════════════════════╡\n",
       "│ 47136   ┆ [19175, 34112, … 71009] │\n",
       "│ 18240   ┆ [33648, 61027, … 85541] │\n",
       "│ 39104   ┆ [12004, 36675, … 79429] │\n",
       "│ 41728   ┆ [71848, 48486, … 48572] │\n",
       "│ …       ┆ …                       │\n",
       "│ 42687   ┆ [62433, 65564, … 6961]  │\n",
       "│ 36639   ┆ [22686, 69833, … 55558] │\n",
       "│ 7295    ┆ [67139, 2940, … 4877]   │\n",
       "│ 3039    ┆ [2062, 72595, … 13651]  │\n",
       "└─────────┴─────────────────────────┘"
      ]
     },
     "execution_count": 29,
     "metadata": {},
     "output_type": "execute_result"
    }
   ],
   "source": [
    "# Обучим модель на полном датасете\n",
    "grouped_df_with_inds_full = (\n",
    "    data\n",
    "    .with_columns([\n",
    "        pl.col('user_id').apply(user_mapping.get),\n",
    "        pl.col('artist_id').apply(artist_mapping.get),\n",
    "    ])\n",
    "    # для каждого пользователя оставим последние 3 объекта в качестве тестовой выборки,\n",
    "    # а остальное будем использовать для тренировки\n",
    "    .groupby('user_id')\n",
    "    .agg([\n",
    "        pl.col('artist_id').apply(lambda x: x[:]).alias('item_ids_full'),\n",
    "        # pl.col('artist_id').apply(lambda x: x[-3:]).alias('test_item_ids'),\n",
    "    ])\n",
    ")\n",
    "\n",
    "grouped_df_with_inds_full"
   ]
  },
  {
   "cell_type": "code",
   "execution_count": 30,
   "id": "651364fb",
   "metadata": {},
   "outputs": [],
   "source": [
    "set_seed(SEED)\n",
    "model_full = Word2Vec(\n",
    "    grouped_df_with_inds_full['item_ids_full'].to_list(),\n",
    "    window=9,\n",
    "    sg=0,\n",
    "    hs=0,\n",
    "    min_count=14,\n",
    "    vector_size=64,\n",
    "    negative=7,\n",
    "    ns_exponent=0.0870309781408407,\n",
    "    seed=SEED,\n",
    "    epochs=100,\n",
    ")"
   ]
  },
  {
   "cell_type": "code",
   "execution_count": 41,
   "id": "a40a8f5a",
   "metadata": {},
   "outputs": [
    {
     "data": {
      "text/html": [
       "<div><style>\n",
       ".dataframe > thead > tr > th,\n",
       ".dataframe > tbody > tr > td {\n",
       "  text-align: right;\n",
       "}\n",
       "</style>\n",
       "<small>shape: (50_000, 2)</small><table border=\"1\" class=\"dataframe\"><thead><tr><th>user_id</th><th>y_rec</th></tr><tr><td>str</td><td>list[str]</td></tr></thead><tbody><tr><td>&quot;bfba5702-a137-…</td><td>[&quot;0e78b958-b53d-490f-bc6d-5ced445ad2c0&quot;, &quot;519544ab-b48a-4c29-a933-c39af3dc7d97&quot;, … &quot;7e0a77d9-a8f8-4a60-ac5d-f771056f8306&quot;]</td></tr><tr><td>&quot;31969f3d-29ea-…</td><td>[&quot;c92b1ba4-c710-4c2d-82f8-d446f409548a&quot;, &quot;a6cdae3d-16ae-430a-8716-b82f64ed758d&quot;, … &quot;35f1b9df-4c83-4281-b27c-48b7a214de7d&quot;]</td></tr><tr><td>&quot;e19c4591-07f0-…</td><td>[&quot;4ecc576e-e92a-47b2-983e-ecacdb210ae7&quot;, &quot;0775b8b6-2b02-41f7-a2ce-f0a5c0a64650&quot;, … &quot;ea908d75-6b47-4442-957f-eaac87538adf&quot;]</td></tr><tr><td>&quot;308b68c5-60b5-…</td><td>[&quot;5013361c-4240-442e-855e-19f0185aa442&quot;, &quot;7c5b4e7e-4929-4d34-a55b-e28e28a8ea3c&quot;, … &quot;98e69a29-ee83-41f1-924e-08a50a32efdc&quot;]</td></tr><tr><td>&quot;c283798b-f59d-…</td><td>[&quot;d5bcd7a1-b02c-43ce-90b3-9c794cf4d596&quot;, &quot;757a27fe-89a2-47a5-a2a8-a4dd864737b3&quot;, … &quot;67bbde6c-2555-4b5c-a2d9-7d5d54b26975&quot;]</td></tr><tr><td>&quot;070047bd-5ad1-…</td><td>[&quot;90ddb877-05d9-4b70-884b-8d90082d2868&quot;, &quot;0f692d11-9a2a-4964-bfaa-3841b4d537cb&quot;, … &quot;83ed959d-15bb-4173-a347-75f4d498466c&quot;]</td></tr><tr><td>&quot;ece51a1d-9f3b-…</td><td>[&quot;6f1b8a85-c127-40a6-84be-d659aefc99e8&quot;, &quot;c8822a9f-f6f2-4025-ae84-8b7cd45c916f&quot;, … &quot;ee0f3f04-8fa0-46ad-b821-2a5ebf5ca6e9&quot;]</td></tr><tr><td>&quot;5d977cb0-b3d6-…</td><td>[&quot;ee0f3f04-8fa0-46ad-b821-2a5ebf5ca6e9&quot;, &quot;d1947eb3-8fba-4084-a173-a514820ee4cc&quot;, … &quot;76f67ddb-f1d0-4502-abf7-42224deb5cda&quot;]</td></tr><tr><td>&quot;8d65c9ed-c6d1-…</td><td>[&quot;a8e78fd5-610f-4de6-8a5f-3e098f6cb151&quot;, &quot;b7999c99-13c5-4b43-a9e9-d60d7615399c&quot;, … &quot;ed471306-1aea-4695-be38-d5833ed5db12&quot;]</td></tr><tr><td>&quot;5a3508c1-6353-…</td><td>[&quot;dabdb8c5-b076-4d78-90ac-243ce4432c01&quot;, &quot;07069ce7-35c2-4298-be5b-f175a762812c&quot;, … &quot;9b403c9e-ebf7-438b-bdff-0c2a5d11e063&quot;]</td></tr><tr><td>&quot;204d9a59-1e2d-…</td><td>[&quot;cca77b96-b014-4419-810e-b0954d1d8a4c&quot;, &quot;6068650b-00fe-4c73-a567-f3056ab0286d&quot;, … &quot;e952b778-0de8-4c9b-bd64-e21976a2d3c4&quot;]</td></tr><tr><td>&quot;9268cdb0-f0dc-…</td><td>[&quot;7de993ca-0b51-4236-828a-6617a0d10b52&quot;, &quot;4b3d9f31-4564-4fab-b392-7e5a2754bf6e&quot;, … &quot;65e728b9-ed4b-4f83-8b03-4a73d61ba06d&quot;]</td></tr><tr><td>&hellip;</td><td>&hellip;</td></tr><tr><td>&quot;6aed5a18-9d2d-…</td><td>[&quot;757a27fe-89a2-47a5-a2a8-a4dd864737b3&quot;, &quot;a02b2ded-e9d6-4043-9736-490ce2901600&quot;, … &quot;af6f7306-aeca-4f3c-a6dd-890da98f53b2&quot;]</td></tr><tr><td>&quot;b67754de-67b0-…</td><td>[&quot;24e6c8fa-aaa6-4121-bfcf-2ab3bc20c19b&quot;, &quot;59dbabe4-3771-437d-a3ef-9f3edbff7af6&quot;, … &quot;87a7508f-415e-4080-8bff-8ff94cfec4a6&quot;]</td></tr><tr><td>&quot;ada0b7bb-3742-…</td><td>[&quot;f3400a8e-d5b3-496a-bd7f-d60f3a0fd397&quot;, &quot;4e1063ab-2b1d-471d-aaa6-cbca88b3cf76&quot;, … &quot;e4545263-e3c0-4ebc-a75b-4ec7e11fed4f&quot;]</td></tr><tr><td>&quot;b6ca59e9-0770-…</td><td>[&quot;9b8a5964-fede-421a-bd5e-cb7ec011b1ae&quot;, &quot;305a1203-f2cc-4ee8-8d71-ed95373a9502&quot;, … &quot;810f5ba7-be0b-49aa-b1ad-16254669709d&quot;]</td></tr><tr><td>&quot;4109f7b1-5432-…</td><td>[&quot;7c03868c-f4da-4f7b-a8d7-8533665816dd&quot;, &quot;30fce36e-ce37-40a3-a8f9-cd8bacbf9dde&quot;, … &quot;feec3322-f019-4880-8f0a-853a0f39dc96&quot;]</td></tr><tr><td>&quot;0c272dd7-0531-…</td><td>[&quot;148a5aca-2f10-4577-afe9-ca83e9e56bad&quot;, &quot;5cd0ffb5-0cf2-4ecd-8c5b-ca2102e33198&quot;, … &quot;8586fa4d-5e83-4c53-be27-0efa58ae6499&quot;]</td></tr><tr><td>&quot;9dd1f65f-0028-…</td><td>[&quot;2697c99e-4a80-4a00-b534-7a361a0bef9f&quot;, &quot;0048b56f-8ec3-4371-b979-3710cb365c11&quot;, … &quot;c8841d2c-613a-40a7-89af-f7201f073c1d&quot;]</td></tr><tr><td>&quot;8738c860-92e0-…</td><td>[&quot;275ef89c-62a4-4f1a-9a84-4a4bc8dfa1dc&quot;, &quot;aefc6aa6-2578-4186-91cd-05c6fc94b74d&quot;, … &quot;79e81ed7-39fd-4046-a942-e3a0ded32039&quot;]</td></tr><tr><td>&quot;2ff850cf-0d39-…</td><td>[&quot;0775b8b6-2b02-41f7-a2ce-f0a5c0a64650&quot;, &quot;531882e0-b662-4bdf-871a-073aed6e3168&quot;, … &quot;dc653fb2-cfff-4748-8089-542a2c4f9ded&quot;]</td></tr><tr><td>&quot;27ddc917-0b35-…</td><td>[&quot;56e4a99d-cefc-4c87-9484-c6f4ae663c55&quot;, &quot;10832c5a-b122-4eba-8bbc-b05589fb34e1&quot;, … &quot;6b154588-a509-48a7-8456-bb9f1e602972&quot;]</td></tr><tr><td>&quot;f78f3257-2caa-…</td><td>[&quot;dc414615-0d0d-46f6-944e-4ecf56c29941&quot;, &quot;b0480abe-7e29-4732-886b-f3e6c788d6d8&quot;, … &quot;1ff11a5b-acaf-4c93-816c-90d39ca3bd02&quot;]</td></tr><tr><td>&quot;19dfe2ae-5091-…</td><td>[&quot;39787577-bd88-4cab-928a-c65e5a7c37d7&quot;, &quot;eceeb524-01b4-4fc6-8a44-24882da06a94&quot;, … &quot;697f39af-d335-4894-8cb1-f52df18f342f&quot;]</td></tr></tbody></table></div>"
      ],
      "text/plain": [
       "shape: (50_000, 2)\n",
       "┌───────────────────────────────────┬───────────────────────────────────┐\n",
       "│ user_id                           ┆ y_rec                             │\n",
       "│ ---                               ┆ ---                               │\n",
       "│ str                               ┆ list[str]                         │\n",
       "╞═══════════════════════════════════╪═══════════════════════════════════╡\n",
       "│ bfba5702-a137-4f22-b37d-9e4bcf5e… ┆ [\"0e78b958-b53d-490f-bc6d-5ced44… │\n",
       "│ 31969f3d-29ea-4d7a-b19b-32a5f32a… ┆ [\"c92b1ba4-c710-4c2d-82f8-d446f4… │\n",
       "│ e19c4591-07f0-4041-8aca-9fa018f6… ┆ [\"4ecc576e-e92a-47b2-983e-ecacdb… │\n",
       "│ 308b68c5-60b5-469e-aaa2-6fa7f5e9… ┆ [\"5013361c-4240-442e-855e-19f018… │\n",
       "│ …                                 ┆ …                                 │\n",
       "│ 2ff850cf-0d39-43a4-8ceb-9925641c… ┆ [\"0775b8b6-2b02-41f7-a2ce-f0a5c0… │\n",
       "│ 27ddc917-0b35-4118-88e9-472e3c28… ┆ [\"56e4a99d-cefc-4c87-9484-c6f4ae… │\n",
       "│ f78f3257-2caa-4b95-9d30-35dae0cd… ┆ [\"dc414615-0d0d-46f6-944e-4ecf56… │\n",
       "│ 19dfe2ae-5091-407d-8ad8-03ec5314… ┆ [\"39787577-bd88-4cab-928a-c65e5a… │\n",
       "└───────────────────────────────────┴───────────────────────────────────┘"
      ]
     },
     "execution_count": 41,
     "metadata": {},
     "output_type": "execute_result"
    }
   ],
   "source": [
    "# Делаю предсказания и запись в файл\n",
    "submission = []\n",
    "\n",
    "for user_id, item_ids_full in grouped_df_with_inds_full.select('user_id', 'item_ids_full').rows():\n",
    "    model_preds = model_full.predict_output_word(item_ids_full, topn=(TOP_K + len(item_ids_full)))\n",
    "    y_rec = [artist_mapping_inverse[pred[0]] for pred in model_preds if pred[0] not in item_ids_full]\n",
    "    submission.append((user_mapping_inverse[user_id], y_rec))\n",
    "\n",
    "submission = pl.DataFrame(submission, schema=('user_id', 'y_rec'))\n",
    "submission.write_parquet('submission.parquet')\n",
    "submission"
   ]
  },
  {
   "cell_type": "markdown",
   "id": "4ca311a1",
   "metadata": {},
   "source": [
    "## Финальный результат\n",
    "\n",
    "Баллы:  25.00  \n",
    "\n",
    "Total score:  \n",
    "Passed with 100%!  \n",
    "\n",
    "Tests result:  \n",
    "Test\tTime\tScore  \n",
    "✓ test_csv_file\t2.2s\t100 / 100  \n",
    "Messages:  \n",
    "Test\tMessage  \n",
    "✓ test_csv_file\tNDCG@20 = 0.08343251208200754  \n",
    "Hitrate@20 = 0.3697  "
   ]
  },
  {
   "cell_type": "code",
   "execution_count": null,
   "id": "d295106e",
   "metadata": {},
   "outputs": [],
   "source": []
  },
  {
   "cell_type": "code",
   "execution_count": null,
   "id": "62496f69",
   "metadata": {},
   "outputs": [],
   "source": []
  },
  {
   "cell_type": "code",
   "execution_count": null,
   "id": "b8e90d59",
   "metadata": {},
   "outputs": [],
   "source": []
  },
  {
   "cell_type": "code",
   "execution_count": null,
   "id": "37a9e176",
   "metadata": {},
   "outputs": [],
   "source": []
  }
 ],
 "metadata": {
  "kernelspec": {
   "display_name": "Python 3",
   "language": "python",
   "name": "python3"
  },
  "language_info": {
   "codemirror_mode": {
    "name": "ipython",
    "version": 3
   },
   "file_extension": ".py",
   "mimetype": "text/x-python",
   "name": "python",
   "nbconvert_exporter": "python",
   "pygments_lexer": "ipython3",
   "version": "3.9.7"
  }
 },
 "nbformat": 4,
 "nbformat_minor": 5
}
