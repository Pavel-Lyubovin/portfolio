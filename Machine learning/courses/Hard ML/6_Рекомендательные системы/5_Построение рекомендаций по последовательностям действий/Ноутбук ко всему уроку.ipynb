{
 "cells": [
  {
   "cell_type": "markdown",
   "id": "c22c33c2",
   "metadata": {},
   "source": [
    "5. ПОСТРОЕНИЕ РЕКОМЕНДАЦИЙ ПО ПОСЛЕДОВАТЕЛЬНОСТЯМ ДЕЙСТВИЙ\n",
    "\n",
    "Лекция:\n",
    "https://www.youtube.com/watch?v=4HMnWES84qg\n",
    "Ноутбук с практикой:\n",
    "https://disk.yandex.ru/d/B8rzuN2OExqi6A\n",
    "Конспект notion:\n",
    "https://www.notion.so/5-2abf000b96fa4571ac7ef4e081080d3e\n",
    "Конспект pdf:\n",
    "https://disk.yandex.ru/i/BGK4wQV0xr-zlw\n",
    "Презентация:\n",
    "https://disk.yandex.ru/i/X0YWKHQhDsg0-A\n",
    "\n",
    "\n",
    "Ноутбук для домашней работы\n",
    "https://disk.yandex.ru/d/-8vGs19jdo6iWg\n",
    "Датасет для домашней работы train.parquet\n",
    "https://disk.yandex.ru/d/I-0aOHn-0pjCKA\n",
    "Ноутбук с готовым решением от автора:\n",
    "https://disk.yandex.ru/d/3CSF5LNE5hdccA"
   ]
  },
  {
   "cell_type": "code",
   "execution_count": 1,
   "id": "41a960cc",
   "metadata": {},
   "outputs": [],
   "source": [
    "# расскоментируйте код ниже, чтобы установить все зависимости\n",
    "# !pip install -q \\\n",
    "#     pyarrow==12.0.1 \\\n",
    "#     polars==0.18.6 \\\n",
    "#     pandas==2.0.3 \\\n",
    "#     optuna==3.3.0 \\\n",
    "#     tqdm==4.65.0 \\\n",
    "#     numpy==1.24.3 \\\n",
    "#     redis==4.6.0 \\\n",
    "#     gensim==4.3.2"
   ]
  },
  {
   "cell_type": "code",
   "execution_count": 1,
   "id": "a1764fbb",
   "metadata": {},
   "outputs": [],
   "source": [
    "# раскоментируйте код ниже, чтобы скачать данные\n",
    "# !wget -q https://files.grouplens.org/datasets/movielens/ml-100k.zip\n",
    "# !unzip -q ml-100k.zip"
   ]
  },
  {
   "cell_type": "code",
   "execution_count": 2,
   "id": "08656b16",
   "metadata": {},
   "outputs": [
    {
     "name": "stderr",
     "output_type": "stream",
     "text": [
      "/home/jupyter-pavel.lyubovin/.conda/envs/recsys/lib/python3.9/site-packages/tqdm/auto.py:21: TqdmWarning: IProgress not found. Please update jupyter and ipywidgets. See https://ipywidgets.readthedocs.io/en/stable/user_install.html\n",
      "  from .autonotebook import tqdm as notebook_tqdm\n"
     ]
    }
   ],
   "source": [
    "import uuid\n",
    "import redis\n",
    "import optuna\n",
    "import random\n",
    "\n",
    "import polars as pl\n",
    "import pandas as pd\n",
    "import numpy as np\n",
    "from tqdm import tqdm\n",
    "from gensim.models import Word2Vec\n",
    "\n",
    "from typing import List, Any"
   ]
  },
  {
   "cell_type": "code",
   "execution_count": 3,
   "id": "b51a51a3",
   "metadata": {
    "scrolled": true
   },
   "outputs": [
    {
     "data": {
      "text/html": [
       "<div><style>\n",
       ".dataframe > thead > tr > th,\n",
       ".dataframe > tbody > tr > td {\n",
       "  text-align: right;\n",
       "}\n",
       "</style>\n",
       "<small>shape: (55_375, 4)</small><table border=\"1\" class=\"dataframe\"><thead><tr><th>user_id</th><th>item_id</th><th>rating</th><th>timestamp</th></tr><tr><td>i64</td><td>i64</td><td>i64</td><td>i64</td></tr></thead><tbody><tr><td>298</td><td>474</td><td>4</td><td>884182806</td></tr><tr><td>253</td><td>465</td><td>5</td><td>891628467</td></tr><tr><td>286</td><td>1014</td><td>5</td><td>879781125</td></tr><tr><td>200</td><td>222</td><td>5</td><td>876042340</td></tr><tr><td>122</td><td>387</td><td>5</td><td>879270459</td></tr><tr><td>291</td><td>1042</td><td>4</td><td>874834944</td></tr><tr><td>119</td><td>392</td><td>4</td><td>886176814</td></tr><tr><td>167</td><td>486</td><td>4</td><td>892738452</td></tr><tr><td>299</td><td>144</td><td>4</td><td>877881320</td></tr><tr><td>308</td><td>1</td><td>4</td><td>887736532</td></tr><tr><td>38</td><td>95</td><td>5</td><td>892430094</td></tr><tr><td>63</td><td>277</td><td>4</td><td>875747401</td></tr><tr><td>&hellip;</td><td>&hellip;</td><td>&hellip;</td><td>&hellip;</td></tr><tr><td>429</td><td>199</td><td>5</td><td>882386006</td></tr><tr><td>897</td><td>369</td><td>4</td><td>879993713</td></tr><tr><td>936</td><td>287</td><td>4</td><td>886832419</td></tr><tr><td>821</td><td>151</td><td>4</td><td>874792889</td></tr><tr><td>113</td><td>975</td><td>5</td><td>875936424</td></tr><tr><td>864</td><td>685</td><td>4</td><td>888891900</td></tr><tr><td>617</td><td>582</td><td>4</td><td>883789294</td></tr><tr><td>421</td><td>498</td><td>4</td><td>892241344</td></tr><tr><td>495</td><td>1091</td><td>4</td><td>888637503</td></tr><tr><td>806</td><td>421</td><td>4</td><td>882388897</td></tr><tr><td>676</td><td>538</td><td>4</td><td>892685437</td></tr><tr><td>716</td><td>204</td><td>5</td><td>879795543</td></tr></tbody></table></div>"
      ],
      "text/plain": [
       "shape: (55_375, 4)\n",
       "┌─────────┬─────────┬────────┬───────────┐\n",
       "│ user_id ┆ item_id ┆ rating ┆ timestamp │\n",
       "│ ---     ┆ ---     ┆ ---    ┆ ---       │\n",
       "│ i64     ┆ i64     ┆ i64    ┆ i64       │\n",
       "╞═════════╪═════════╪════════╪═══════════╡\n",
       "│ 298     ┆ 474     ┆ 4      ┆ 884182806 │\n",
       "│ 253     ┆ 465     ┆ 5      ┆ 891628467 │\n",
       "│ 286     ┆ 1014    ┆ 5      ┆ 879781125 │\n",
       "│ 200     ┆ 222     ┆ 5      ┆ 876042340 │\n",
       "│ …       ┆ …       ┆ …      ┆ …         │\n",
       "│ 495     ┆ 1091    ┆ 4      ┆ 888637503 │\n",
       "│ 806     ┆ 421     ┆ 4      ┆ 882388897 │\n",
       "│ 676     ┆ 538     ┆ 4      ┆ 892685437 │\n",
       "│ 716     ┆ 204     ┆ 5      ┆ 879795543 │\n",
       "└─────────┴─────────┴────────┴───────────┘"
      ]
     },
     "execution_count": 3,
     "metadata": {},
     "output_type": "execute_result"
    }
   ],
   "source": [
    "ratings = pd.read_csv(\n",
    "    'ml-100k/u.data', sep='\\t',\n",
    "    names=['user_id', 'item_id', 'rating', 'timestamp']\n",
    ")\n",
    "ratings = pl.from_pandas(ratings).filter(pl.col('rating') >= 4)\n",
    "ratings"
   ]
  },
  {
   "cell_type": "code",
   "execution_count": 4,
   "id": "c35a23ae",
   "metadata": {
    "scrolled": true
   },
   "outputs": [
    {
     "data": {
      "text/html": [
       "<div><style>\n",
       ".dataframe > thead > tr > th,\n",
       ".dataframe > tbody > tr > td {\n",
       "  text-align: right;\n",
       "}\n",
       "</style>\n",
       "<small>shape: (942, 5)</small><table border=\"1\" class=\"dataframe\"><thead><tr><th>user_id</th><th>train_ids</th><th>train_ratings</th><th>test_ids</th><th>test_ratings</th></tr><tr><td>i64</td><td>list[i64]</td><td>list[i64]</td><td>list[i64]</td><td>list[i64]</td></tr></thead><tbody><tr><td>480</td><td>[190, 183, … 56]</td><td>[5, 4, … 4]</td><td>[302, 169, 98]</td><td>[4, 5, 4]</td></tr><tr><td>608</td><td>[1172, 490, … 187]</td><td>[5, 4, … 4]</td><td>[216, 1281, 93]</td><td>[5, 4, 4]</td></tr><tr><td>384</td><td>[272, 355, … 327]</td><td>[5, 4, … 4]</td><td>[879, 258, 286]</td><td>[4, 4, 4]</td></tr><tr><td>96</td><td>[156, 87, … 514]</td><td>[4, 4, … 4]</td><td>[196, 234, 423]</td><td>[4, 4, 5]</td></tr><tr><td>768</td><td>[173, 282, … 272]</td><td>[5, 4, … 5]</td><td>[100, 222, 301]</td><td>[5, 4, 5]</td></tr><tr><td>192</td><td>[1061, 1160, … 100]</td><td>[4, 4, … 5]</td><td>[289, 9, 287]</td><td>[4, 5, 4]</td></tr><tr><td>416</td><td>[125, 724, … 291]</td><td>[5, 4, … 4]</td><td>[1594, 79, 153]</td><td>[5, 5, 4]</td></tr><tr><td>448</td><td>[360, 262, … 258]</td><td>[4, 4, … 4]</td><td>[1062, 1022, 270]</td><td>[5, 5, 5]</td></tr><tr><td>160</td><td>[234, 174, … 250]</td><td>[5, 5, … 4]</td><td>[488, 952, 127]</td><td>[5, 4, 5]</td></tr><tr><td>512</td><td>[265, 23, … 183]</td><td>[4, 4, … 5]</td><td>[50, 1238, 186]</td><td>[5, 4, 5]</td></tr><tr><td>704</td><td>[205, 354, … 481]</td><td>[5, 4, … 5]</td><td>[633, 523, 134]</td><td>[5, 5, 5]</td></tr><tr><td>896</td><td>[310, 525, … 751]</td><td>[4, 5, … 4]</td><td>[176, 96, 511]</td><td>[5, 5, 5]</td></tr><tr><td>&hellip;</td><td>&hellip;</td><td>&hellip;</td><td>&hellip;</td><td>&hellip;</td></tr><tr><td>223</td><td>[274, 969, … 278]</td><td>[4, 5, … 4]</td><td>[28, 173, 546]</td><td>[4, 5, 5]</td></tr><tr><td>703</td><td>[293, 7, … 926]</td><td>[4, 4, … 4]</td><td>[1012, 127, 100]</td><td>[4, 5, 4]</td></tr><tr><td>31</td><td>[484, 302, … 1022]</td><td>[5, 4, … 5]</td><td>[1019, 611, 192]</td><td>[5, 4, 4]</td></tr><tr><td>255</td><td>[185, 258, … 872]</td><td>[4, 4, … 4]</td><td>[597, 324, 219]</td><td>[4, 5, 5]</td></tr><tr><td>767</td><td>[1068, 486, … 1]</td><td>[4, 4, … 5]</td><td>[659, 177, 180]</td><td>[5, 5, 5]</td></tr><tr><td>383</td><td>[505, 464, … 188]</td><td>[4, 4, … 5]</td><td>[185, 213, 200]</td><td>[5, 5, 5]</td></tr><tr><td>415</td><td>[1524, 154, … 136]</td><td>[5, 4, … 5]</td><td>[258, 483, 174]</td><td>[4, 5, 5]</td></tr><tr><td>543</td><td>[135, 83, … 191]</td><td>[5, 4, … 4]</td><td>[528, 64, 947]</td><td>[4, 4, 4]</td></tr><tr><td>191</td><td>[302, 286, … 340]</td><td>[4, 4, … 4]</td><td>[316, 345, 315]</td><td>[5, 4, 5]</td></tr><tr><td>831</td><td>[96, 591, … 197]</td><td>[5, 4, … 4]</td><td>[22, 56, 690]</td><td>[5, 5, 4]</td></tr><tr><td>479</td><td>[228, 28, … 200]</td><td>[4, 4, … 5]</td><td>[250, 238, 136]</td><td>[4, 4, 4]</td></tr><tr><td>735</td><td>[1, 258, … 275]</td><td>[4, 4, … 4]</td><td>[300, 237, 127]</td><td>[4, 4, 4]</td></tr></tbody></table></div>"
      ],
      "text/plain": [
       "shape: (942, 5)\n",
       "┌─────────┬────────────────────┬───────────────┬─────────────────┬──────────────┐\n",
       "│ user_id ┆ train_ids          ┆ train_ratings ┆ test_ids        ┆ test_ratings │\n",
       "│ ---     ┆ ---                ┆ ---           ┆ ---             ┆ ---          │\n",
       "│ i64     ┆ list[i64]          ┆ list[i64]     ┆ list[i64]       ┆ list[i64]    │\n",
       "╞═════════╪════════════════════╪═══════════════╪═════════════════╪══════════════╡\n",
       "│ 480     ┆ [190, 183, … 56]   ┆ [5, 4, … 4]   ┆ [302, 169, 98]  ┆ [4, 5, 4]    │\n",
       "│ 608     ┆ [1172, 490, … 187] ┆ [5, 4, … 4]   ┆ [216, 1281, 93] ┆ [5, 4, 4]    │\n",
       "│ 384     ┆ [272, 355, … 327]  ┆ [5, 4, … 4]   ┆ [879, 258, 286] ┆ [4, 4, 4]    │\n",
       "│ 96      ┆ [156, 87, … 514]   ┆ [4, 4, … 4]   ┆ [196, 234, 423] ┆ [4, 4, 5]    │\n",
       "│ …       ┆ …                  ┆ …             ┆ …               ┆ …            │\n",
       "│ 191     ┆ [302, 286, … 340]  ┆ [4, 4, … 4]   ┆ [316, 345, 315] ┆ [5, 4, 5]    │\n",
       "│ 831     ┆ [96, 591, … 197]   ┆ [5, 4, … 4]   ┆ [22, 56, 690]   ┆ [5, 5, 4]    │\n",
       "│ 479     ┆ [228, 28, … 200]   ┆ [4, 4, … 5]   ┆ [250, 238, 136] ┆ [4, 4, 4]    │\n",
       "│ 735     ┆ [1, 258, … 275]    ┆ [4, 4, … 4]   ┆ [300, 237, 127] ┆ [4, 4, 4]    │\n",
       "└─────────┴────────────────────┴───────────────┴─────────────────┴──────────────┘"
      ]
     },
     "execution_count": 4,
     "metadata": {},
     "output_type": "execute_result"
    }
   ],
   "source": [
    "grouped_df = (\n",
    "    ratings\n",
    "    .groupby('user_id')\n",
    "    .agg([\n",
    "        pl.col('item_id').apply(lambda x: x[:-3]).alias('train_ids'),\n",
    "        pl.col('rating').apply(lambda x: x[:-3]).alias('train_ratings'),\n",
    "        pl.col('item_id').apply(lambda x: x[-3:]).alias('test_ids'),\n",
    "        pl.col('rating').apply(lambda x: x[-3:]).alias('test_ratings'),\n",
    "    ])\n",
    ")\n",
    "grouped_df"
   ]
  },
  {
   "cell_type": "code",
   "execution_count": 5,
   "id": "f58e8ab6",
   "metadata": {},
   "outputs": [],
   "source": [
    "TOP_K = 10\n",
    "\n",
    "\n",
    "def user_intersection(y_rel: List[Any], y_rec: List[Any], k: int = 10) -> int:\n",
    "    \"\"\"\n",
    "    :param y_rel: relevant items\n",
    "    :param y_rec: recommended items\n",
    "    :param k: number of top recommended items\n",
    "    :return: number of items in intersection of y_rel and y_rec (truncated to top-K)\n",
    "    \"\"\"\n",
    "    return len(set(y_rec[:k]).intersection(set(y_rel)))\n",
    "\n",
    "\n",
    "def user_hitrate(y_rel: List[Any], y_rec: List[Any], k: int = 10) -> int:\n",
    "    \"\"\"\n",
    "    :param y_rel: relevant items\n",
    "    :param y_rec: recommended items\n",
    "    :param k: number of top recommended items\n",
    "    :return: 1 if top-k recommendations contains at lease one relevant item\n",
    "    \"\"\"\n",
    "    return int(user_intersection(y_rel, y_rec, k) > 0)\n",
    "\n",
    "\n",
    "def user_precision(y_rel: List[Any], y_rec: List[Any], k: int = 10) -> float:\n",
    "    \"\"\"\n",
    "    :param y_rel: relevant items\n",
    "    :param y_rec: recommended items\n",
    "    :param k: number of top recommended items\n",
    "    :return: percentage of relevant items through recommendations\n",
    "    \"\"\"\n",
    "    return user_intersection(y_rel, y_rec, k) / k\n",
    "\n",
    "\n",
    "def user_ap(y_rel: List[Any], y_rec: List[Any], k: int = 10) -> float:\n",
    "    \"\"\"\n",
    "    :param y_rel: relevant items\n",
    "    :param y_rec: recommended items\n",
    "    :param k: number of top recommended items\n",
    "    :return: average precision metric for user recommendations\n",
    "    \"\"\"\n",
    "    return np.sum([\n",
    "        user_precision(y_rel, y_rec, idx + 1)\n",
    "        for idx, item in enumerate(y_rec[:k]) if item in y_rel\n",
    "    ]) / k"
   ]
  },
  {
   "cell_type": "markdown",
   "id": "e0910f0d",
   "metadata": {},
   "source": [
    "## Применим алгоритм w2v\n",
    "\n",
    "Внутри gensim написан эффективный метод `predict_output_word`, позволяющий получать следующие возможные токены (в нашем случае объекты для рекомендации), перед фильтрацией просмотренного попросим его сгенерировать на `len(train_ids)` токенов больше (в худшем случае, нам придется все отфильтровать)"
   ]
  },
  {
   "cell_type": "code",
   "execution_count": 6,
   "id": "ec98af4c",
   "metadata": {},
   "outputs": [
    {
     "name": "stdout",
     "output_type": "stream",
     "text": [
      "MAP@10 = 0.0038 Hitrate@10 = 0.1348\n"
     ]
    }
   ],
   "source": [
    "def evaluate_model(model):\n",
    "    ap_list = []\n",
    "    hitrate_list = []\n",
    "    for train_ids, y_rel in grouped_df.select('train_ids', 'test_ids').rows():\n",
    "        model_preds = model.predict_output_word(\n",
    "            train_ids, topn=(TOP_K + len(train_ids))\n",
    "        )\n",
    "        if model_preds is None:\n",
    "            hitrate_list.append(0)\n",
    "            continue\n",
    "\n",
    "        y_rec = [pred[0] for pred in model_preds if pred[0] not in train_ids]\n",
    "        ap_list.append(user_ap(y_rel, y_rec))\n",
    "        hitrate_list.append(user_hitrate(y_rel, y_rec))\n",
    "    return np.mean(ap_list), np.mean(hitrate_list)\n",
    "\n",
    "# обучим w2v с параметрами по умолчанию\n",
    "model = Word2Vec(grouped_df['train_ids'].to_list())\n",
    "mean_ap, mean_hitrate = evaluate_model(model)\n",
    "print(f'MAP@{TOP_K} = {mean_ap:.4f} Hitrate@{TOP_K} = {mean_hitrate:.4f}')"
   ]
  },
  {
   "cell_type": "markdown",
   "id": "354f00d4",
   "metadata": {},
   "source": [
    "## Подберем самые оптимальные гиперпараметры с помощью optuna\n",
    "\n",
    "Дла алгоритма [W2V](https://radimrehurek.com/gensim/models/word2vec.html#gensim.models.word2vec.Word2Vec) рассмотрим следующие параметры:\n",
    "\n",
    "- `sg` – 1, если использовать skip-gram, иначе cbow\n",
    "- `window` – размер окна для обучения алгоритма w2v\n",
    "- `ns_exponent` – степень популярности объектов, которая будет использована для negative sampling\n",
    "- `negative` – количество негативных примеров для сэмплирования\n",
    "- `min_count` – минимальное число взаимодействий, нужное для \n",
    "- `vector_size` – размерность эмбеддингов"
   ]
  },
  {
   "cell_type": "code",
   "execution_count": 7,
   "id": "5c4bf5e1",
   "metadata": {
    "scrolled": true
   },
   "outputs": [
    {
     "name": "stderr",
     "output_type": "stream",
     "text": [
      "[I 2024-04-04 14:45:38,349] A new study created in memory with name: no-name-3bac1fd7-d3b6-4a5c-9be2-89bb97235b79\n"
     ]
    },
    {
     "name": "stdout",
     "output_type": "stream",
     "text": [
      "{'sg': 0, 'window_len': 10, 'ns_exponent': -0.3960956499056234, 'negative': 15, 'min_count': 12, 'vector_size': 32}\n"
     ]
    },
    {
     "name": "stderr",
     "output_type": "stream",
     "text": [
      "[I 2024-04-04 14:45:39,757] Trial 0 finished with value: 0.021630656872678147 and parameters: {'sg': 0, 'window': 10, 'ns_exponent': -0.3960956499056234, 'negative': 15, 'min_count': 12, 'vector_size': 32}. Best is trial 0 with value: 0.021630656872678147.\n"
     ]
    },
    {
     "name": "stdout",
     "output_type": "stream",
     "text": [
      "MAP@10 = 0.0216 Hitrate@10 = 0.4363\n",
      "{'sg': 0, 'window_len': 10, 'ns_exponent': 0.35353863861027346, 'negative': 20, 'min_count': 9, 'vector_size': 16}\n"
     ]
    },
    {
     "name": "stderr",
     "output_type": "stream",
     "text": [
      "[I 2024-04-04 14:45:41,973] Trial 1 finished with value: 0.018640661938534284 and parameters: {'sg': 0, 'window': 10, 'ns_exponent': 0.35353863861027346, 'negative': 20, 'min_count': 9, 'vector_size': 16}. Best is trial 0 with value: 0.021630656872678147.\n"
     ]
    },
    {
     "name": "stdout",
     "output_type": "stream",
     "text": [
      "MAP@10 = 0.0186 Hitrate@10 = 0.3928\n",
      "{'sg': 0, 'window_len': 2, 'ns_exponent': -2.517982307984182, 'negative': 20, 'min_count': 7, 'vector_size': 16}\n"
     ]
    },
    {
     "name": "stderr",
     "output_type": "stream",
     "text": [
      "[I 2024-04-04 14:45:43,603] Trial 2 finished with value: 0.010511355960824045 and parameters: {'sg': 0, 'window': 2, 'ns_exponent': -2.517982307984182, 'negative': 20, 'min_count': 7, 'vector_size': 16}. Best is trial 0 with value: 0.021630656872678147.\n"
     ]
    },
    {
     "name": "stdout",
     "output_type": "stream",
     "text": [
      "MAP@10 = 0.0105 Hitrate@10 = 0.2272\n",
      "{'sg': 1, 'window_len': 4, 'ns_exponent': 2.1546083642346296, 'negative': 19, 'min_count': 5, 'vector_size': 16}\n"
     ]
    },
    {
     "name": "stderr",
     "output_type": "stream",
     "text": [
      "[I 2024-04-04 14:45:47,711] Trial 3 finished with value: 0.0027079533941236065 and parameters: {'sg': 1, 'window': 4, 'ns_exponent': 2.1546083642346296, 'negative': 19, 'min_count': 5, 'vector_size': 16}. Best is trial 0 with value: 0.021630656872678147.\n"
     ]
    },
    {
     "name": "stdout",
     "output_type": "stream",
     "text": [
      "MAP@10 = 0.0027 Hitrate@10 = 0.0754\n",
      "{'sg': 1, 'window_len': 1, 'ns_exponent': -1.8273483539031627, 'negative': 5, 'min_count': 14, 'vector_size': 128}\n"
     ]
    },
    {
     "name": "stderr",
     "output_type": "stream",
     "text": [
      "[I 2024-04-04 14:45:49,586] Trial 4 finished with value: 0.008500591016548464 and parameters: {'sg': 1, 'window': 1, 'ns_exponent': -1.8273483539031627, 'negative': 5, 'min_count': 14, 'vector_size': 128}. Best is trial 0 with value: 0.021630656872678147.\n"
     ]
    },
    {
     "name": "stdout",
     "output_type": "stream",
     "text": [
      "MAP@10 = 0.0085 Hitrate@10 = 0.1890\n",
      "{'sg': 0, 'window_len': 5, 'ns_exponent': 0.15414978458171458, 'negative': 4, 'min_count': 19, 'vector_size': 32}\n"
     ]
    },
    {
     "name": "stderr",
     "output_type": "stream",
     "text": [
      "[I 2024-04-04 14:45:50,794] Trial 5 finished with value: 0.019333671057075313 and parameters: {'sg': 0, 'window': 5, 'ns_exponent': 0.15414978458171458, 'negative': 4, 'min_count': 19, 'vector_size': 32}. Best is trial 0 with value: 0.021630656872678147.\n"
     ]
    },
    {
     "name": "stdout",
     "output_type": "stream",
     "text": [
      "MAP@10 = 0.0193 Hitrate@10 = 0.3970\n",
      "{'sg': 0, 'window_len': 3, 'ns_exponent': 1.4544361327785698, 'negative': 11, 'min_count': 13, 'vector_size': 128}\n"
     ]
    },
    {
     "name": "stderr",
     "output_type": "stream",
     "text": [
      "[I 2024-04-04 14:45:52,039] Trial 6 finished with value: 0.006863475177304964 and parameters: {'sg': 0, 'window': 3, 'ns_exponent': 1.4544361327785698, 'negative': 11, 'min_count': 13, 'vector_size': 128}. Best is trial 0 with value: 0.021630656872678147.\n"
     ]
    },
    {
     "name": "stdout",
     "output_type": "stream",
     "text": [
      "MAP@10 = 0.0069 Hitrate@10 = 0.1486\n",
      "{'sg': 1, 'window_len': 9, 'ns_exponent': 1.2669161771206472, 'negative': 11, 'min_count': 8, 'vector_size': 16}\n"
     ]
    },
    {
     "name": "stderr",
     "output_type": "stream",
     "text": [
      "[I 2024-04-04 14:45:56,297] Trial 7 finished with value: 0.007816911516379602 and parameters: {'sg': 1, 'window': 9, 'ns_exponent': 1.2669161771206472, 'negative': 11, 'min_count': 8, 'vector_size': 16}. Best is trial 0 with value: 0.021630656872678147.\n"
     ]
    },
    {
     "name": "stdout",
     "output_type": "stream",
     "text": [
      "MAP@10 = 0.0078 Hitrate@10 = 0.2028\n",
      "{'sg': 0, 'window_len': 6, 'ns_exponent': -0.03817817230816001, 'negative': 4, 'min_count': 14, 'vector_size': 16}\n"
     ]
    },
    {
     "name": "stderr",
     "output_type": "stream",
     "text": [
      "[I 2024-04-04 14:45:57,080] Trial 8 finished with value: 0.02096550996285039 and parameters: {'sg': 0, 'window': 6, 'ns_exponent': -0.03817817230816001, 'negative': 4, 'min_count': 14, 'vector_size': 16}. Best is trial 0 with value: 0.021630656872678147.\n"
     ]
    },
    {
     "name": "stdout",
     "output_type": "stream",
     "text": [
      "MAP@10 = 0.0210 Hitrate@10 = 0.4161\n",
      "{'sg': 0, 'window_len': 6, 'ns_exponent': -2.638081318910192, 'negative': 12, 'min_count': 3, 'vector_size': 128}\n"
     ]
    },
    {
     "name": "stderr",
     "output_type": "stream",
     "text": [
      "[I 2024-04-04 14:45:58,106] Trial 9 finished with value: 0.01105306484295846 and parameters: {'sg': 0, 'window': 6, 'ns_exponent': -2.638081318910192, 'negative': 12, 'min_count': 3, 'vector_size': 128}. Best is trial 0 with value: 0.021630656872678147.\n"
     ]
    },
    {
     "name": "stdout",
     "output_type": "stream",
     "text": [
      "MAP@10 = 0.0111 Hitrate@10 = 0.2665\n",
      "{'sg': 1, 'window_len': 8, 'ns_exponent': -1.0142301882311253, 'negative': 16, 'min_count': 20, 'vector_size': 32}\n"
     ]
    },
    {
     "name": "stderr",
     "output_type": "stream",
     "text": [
      "[I 2024-04-04 14:46:02,481] Trial 10 finished with value: 0.016423463356973995 and parameters: {'sg': 1, 'window': 8, 'ns_exponent': -1.0142301882311253, 'negative': 16, 'min_count': 20, 'vector_size': 32}. Best is trial 0 with value: 0.021630656872678147.\n"
     ]
    },
    {
     "name": "stdout",
     "output_type": "stream",
     "text": [
      "MAP@10 = 0.0164 Hitrate@10 = 0.3429\n",
      "{'sg': 0, 'window_len': 7, 'ns_exponent': -0.7752049954218381, 'negative': 7, 'min_count': 14, 'vector_size': 64}\n"
     ]
    },
    {
     "name": "stderr",
     "output_type": "stream",
     "text": [
      "[I 2024-04-04 14:46:03,686] Trial 11 finished with value: 0.015584599797365756 and parameters: {'sg': 0, 'window': 7, 'ns_exponent': -0.7752049954218381, 'negative': 7, 'min_count': 14, 'vector_size': 64}. Best is trial 0 with value: 0.021630656872678147.\n"
     ]
    },
    {
     "name": "stdout",
     "output_type": "stream",
     "text": [
      "MAP@10 = 0.0156 Hitrate@10 = 0.3344\n",
      "{'sg': 0, 'window_len': 10, 'ns_exponent': -0.3389084417289811, 'negative': 15, 'min_count': 0, 'vector_size': 32}\n"
     ]
    },
    {
     "name": "stderr",
     "output_type": "stream",
     "text": [
      "[I 2024-04-04 14:46:04,755] Trial 12 finished with value: 0.016649907125970958 and parameters: {'sg': 0, 'window': 10, 'ns_exponent': -0.3389084417289811, 'negative': 15, 'min_count': 0, 'vector_size': 32}. Best is trial 0 with value: 0.021630656872678147.\n"
     ]
    },
    {
     "name": "stdout",
     "output_type": "stream",
     "text": [
      "MAP@10 = 0.0166 Hitrate@10 = 0.3715\n",
      "{'sg': 0, 'window_len': 7, 'ns_exponent': -1.3284259598224453, 'negative': 9, 'min_count': 17, 'vector_size': 64}\n"
     ]
    },
    {
     "name": "stderr",
     "output_type": "stream",
     "text": [
      "[I 2024-04-04 14:46:06,253] Trial 13 finished with value: 0.013040695710908476 and parameters: {'sg': 0, 'window': 7, 'ns_exponent': -1.3284259598224453, 'negative': 9, 'min_count': 17, 'vector_size': 64}. Best is trial 0 with value: 0.021630656872678147.\n"
     ]
    },
    {
     "name": "stdout",
     "output_type": "stream",
     "text": [
      "MAP@10 = 0.0130 Hitrate@10 = 0.3015\n",
      "{'sg': 0, 'window_len': 5, 'ns_exponent': 0.42761665159692175, 'negative': 15, 'min_count': 13, 'vector_size': 32}\n"
     ]
    },
    {
     "name": "stderr",
     "output_type": "stream",
     "text": [
      "[I 2024-04-04 14:46:07,638] Trial 14 finished with value: 0.014765493076663291 and parameters: {'sg': 0, 'window': 5, 'ns_exponent': 0.42761665159692175, 'negative': 15, 'min_count': 13, 'vector_size': 32}. Best is trial 0 with value: 0.021630656872678147.\n"
     ]
    },
    {
     "name": "stdout",
     "output_type": "stream",
     "text": [
      "MAP@10 = 0.0148 Hitrate@10 = 0.3376\n",
      "{'sg': 0, 'window_len': 8, 'ns_exponent': 2.879615257144402, 'negative': 3, 'min_count': 11, 'vector_size': 16}\n"
     ]
    },
    {
     "name": "stderr",
     "output_type": "stream",
     "text": [
      "[I 2024-04-04 14:46:08,567] Trial 15 finished with value: 0.007814800742992232 and parameters: {'sg': 0, 'window': 8, 'ns_exponent': 2.879615257144402, 'negative': 3, 'min_count': 11, 'vector_size': 16}. Best is trial 0 with value: 0.021630656872678147.\n"
     ]
    },
    {
     "name": "stdout",
     "output_type": "stream",
     "text": [
      "MAP@10 = 0.0078 Hitrate@10 = 0.1688\n",
      "{'sg': 0, 'window_len': 9, 'ns_exponent': -0.3699522980121155, 'negative': 17, 'min_count': 17, 'vector_size': 32}\n"
     ]
    },
    {
     "name": "stderr",
     "output_type": "stream",
     "text": [
      "[I 2024-04-04 14:46:09,944] Trial 16 finished with value: 0.02387145390070922 and parameters: {'sg': 0, 'window': 9, 'ns_exponent': -0.3699522980121155, 'negative': 17, 'min_count': 17, 'vector_size': 32}. Best is trial 16 with value: 0.02387145390070922.\n"
     ]
    },
    {
     "name": "stdout",
     "output_type": "stream",
     "text": [
      "MAP@10 = 0.0239 Hitrate@10 = 0.4448\n",
      "{'sg': 0, 'window_len': 9, 'ns_exponent': -0.4223197552597673, 'negative': 17, 'min_count': 17, 'vector_size': 32}\n"
     ]
    },
    {
     "name": "stderr",
     "output_type": "stream",
     "text": [
      "[I 2024-04-04 14:46:11,082] Trial 17 finished with value: 0.022257640999662275 and parameters: {'sg': 0, 'window': 9, 'ns_exponent': -0.4223197552597673, 'negative': 17, 'min_count': 17, 'vector_size': 32}. Best is trial 16 with value: 0.02387145390070922.\n"
     ]
    },
    {
     "name": "stdout",
     "output_type": "stream",
     "text": [
      "MAP@10 = 0.0223 Hitrate@10 = 0.4278\n",
      "{'sg': 1, 'window_len': 8, 'ns_exponent': -1.2511368669673182, 'negative': 17, 'min_count': 17, 'vector_size': 32}\n"
     ]
    },
    {
     "name": "stderr",
     "output_type": "stream",
     "text": [
      "[I 2024-04-04 14:46:16,136] Trial 18 finished with value: 0.014667215467747383 and parameters: {'sg': 1, 'window': 8, 'ns_exponent': -1.2511368669673182, 'negative': 17, 'min_count': 17, 'vector_size': 32}. Best is trial 16 with value: 0.02387145390070922.\n"
     ]
    },
    {
     "name": "stdout",
     "output_type": "stream",
     "text": [
      "MAP@10 = 0.0147 Hitrate@10 = 0.3195\n",
      "{'sg': 0, 'window_len': 9, 'ns_exponent': -1.9315459141512752, 'negative': 18, 'min_count': 17, 'vector_size': 32}\n"
     ]
    },
    {
     "name": "stderr",
     "output_type": "stream",
     "text": [
      "[I 2024-04-04 14:46:18,052] Trial 19 finished with value: 0.012020601148260724 and parameters: {'sg': 0, 'window': 9, 'ns_exponent': -1.9315459141512752, 'negative': 18, 'min_count': 17, 'vector_size': 32}. Best is trial 16 with value: 0.02387145390070922.\n"
     ]
    },
    {
     "name": "stdout",
     "output_type": "stream",
     "text": [
      "MAP@10 = 0.0120 Hitrate@10 = 0.2749\n",
      "{'sg': 0, 'window_len': 9, 'ns_exponent': 0.8005578396903705, 'negative': 14, 'min_count': 16, 'vector_size': 32}\n"
     ]
    },
    {
     "name": "stderr",
     "output_type": "stream",
     "text": [
      "[I 2024-04-04 14:46:19,928] Trial 20 finished with value: 0.01424290780141844 and parameters: {'sg': 0, 'window': 9, 'ns_exponent': 0.8005578396903705, 'negative': 14, 'min_count': 16, 'vector_size': 32}. Best is trial 16 with value: 0.02387145390070922.\n"
     ]
    },
    {
     "name": "stdout",
     "output_type": "stream",
     "text": [
      "MAP@10 = 0.0142 Hitrate@10 = 0.3121\n",
      "{'sg': 0, 'window_len': 10, 'ns_exponent': -0.6323081730043472, 'negative': 13, 'min_count': 11, 'vector_size': 32}\n"
     ]
    },
    {
     "name": "stderr",
     "output_type": "stream",
     "text": [
      "[I 2024-04-04 14:46:21,136] Trial 21 finished with value: 0.01678951367781155 and parameters: {'sg': 0, 'window': 10, 'ns_exponent': -0.6323081730043472, 'negative': 13, 'min_count': 11, 'vector_size': 32}. Best is trial 16 with value: 0.02387145390070922.\n"
     ]
    },
    {
     "name": "stdout",
     "output_type": "stream",
     "text": [
      "MAP@10 = 0.0168 Hitrate@10 = 0.3450\n",
      "{'sg': 0, 'window_len': 9, 'ns_exponent': -0.2312163133224715, 'negative': 17, 'min_count': 19, 'vector_size': 32}\n"
     ]
    },
    {
     "name": "stderr",
     "output_type": "stream",
     "text": [
      "[I 2024-04-04 14:46:23,119] Trial 22 finished with value: 0.025222686592367444 and parameters: {'sg': 0, 'window': 9, 'ns_exponent': -0.2312163133224715, 'negative': 17, 'min_count': 19, 'vector_size': 32}. Best is trial 22 with value: 0.025222686592367444.\n"
     ]
    },
    {
     "name": "stdout",
     "output_type": "stream",
     "text": [
      "MAP@10 = 0.0252 Hitrate@10 = 0.4766\n",
      "{'sg': 0, 'window_len': 7, 'ns_exponent': -0.23922642014720746, 'negative': 17, 'min_count': 19, 'vector_size': 32}\n"
     ]
    },
    {
     "name": "stderr",
     "output_type": "stream",
     "text": [
      "[I 2024-04-04 14:46:24,523] Trial 23 finished with value: 0.022210106382978725 and parameters: {'sg': 0, 'window': 7, 'ns_exponent': -0.23922642014720746, 'negative': 17, 'min_count': 19, 'vector_size': 32}. Best is trial 22 with value: 0.025222686592367444.\n"
     ]
    },
    {
     "name": "stdout",
     "output_type": "stream",
     "text": [
      "MAP@10 = 0.0222 Hitrate@10 = 0.4533\n",
      "{'sg': 0, 'window_len': 9, 'ns_exponent': -0.8609900729641016, 'negative': 18, 'min_count': 20, 'vector_size': 64}\n"
     ]
    },
    {
     "name": "stderr",
     "output_type": "stream",
     "text": [
      "[I 2024-04-04 14:46:25,811] Trial 24 finished with value: 0.01782353934481594 and parameters: {'sg': 0, 'window': 9, 'ns_exponent': -0.8609900729641016, 'negative': 18, 'min_count': 20, 'vector_size': 64}. Best is trial 22 with value: 0.025222686592367444.\n"
     ]
    },
    {
     "name": "stdout",
     "output_type": "stream",
     "text": [
      "MAP@10 = 0.0178 Hitrate@10 = 0.3715\n",
      "{'sg': 0, 'window_len': 8, 'ns_exponent': -0.047751472101659975, 'negative': 17, 'min_count': 16, 'vector_size': 32}\n"
     ]
    },
    {
     "name": "stderr",
     "output_type": "stream",
     "text": [
      "[I 2024-04-04 14:46:26,864] Trial 25 finished with value: 0.028281112799729825 and parameters: {'sg': 0, 'window': 8, 'ns_exponent': -0.047751472101659975, 'negative': 17, 'min_count': 16, 'vector_size': 32}. Best is trial 25 with value: 0.028281112799729825.\n"
     ]
    },
    {
     "name": "stdout",
     "output_type": "stream",
     "text": [
      "MAP@10 = 0.0283 Hitrate@10 = 0.5021\n",
      "{'sg': 1, 'window_len': 8, 'ns_exponent': 0.5797392437421549, 'negative': 13, 'min_count': 15, 'vector_size': 32}\n"
     ]
    },
    {
     "name": "stderr",
     "output_type": "stream",
     "text": [
      "[I 2024-04-04 14:46:31,161] Trial 26 finished with value: 0.015878757176629517 and parameters: {'sg': 1, 'window': 8, 'ns_exponent': 0.5797392437421549, 'negative': 13, 'min_count': 15, 'vector_size': 32}. Best is trial 25 with value: 0.028281112799729825.\n"
     ]
    },
    {
     "name": "stdout",
     "output_type": "stream",
     "text": [
      "MAP@10 = 0.0159 Hitrate@10 = 0.3248\n",
      "{'sg': 0, 'window_len': 7, 'ns_exponent': 0.051553618530350676, 'negative': 19, 'min_count': 18, 'vector_size': 32}\n"
     ]
    },
    {
     "name": "stderr",
     "output_type": "stream",
     "text": [
      "[I 2024-04-04 14:46:32,466] Trial 27 finished with value: 0.028551334008780817 and parameters: {'sg': 0, 'window': 7, 'ns_exponent': 0.051553618530350676, 'negative': 19, 'min_count': 18, 'vector_size': 32}. Best is trial 27 with value: 0.028551334008780817.\n"
     ]
    },
    {
     "name": "stdout",
     "output_type": "stream",
     "text": [
      "MAP@10 = 0.0286 Hitrate@10 = 0.5042\n",
      "{'sg': 0, 'window_len': 7, 'ns_exponent': -0.01433135532572119, 'negative': 19, 'min_count': 19, 'vector_size': 32}\n"
     ]
    },
    {
     "name": "stderr",
     "output_type": "stream",
     "text": [
      "[I 2024-04-04 14:46:34,263] Trial 28 finished with value: 0.027874577845322525 and parameters: {'sg': 0, 'window': 7, 'ns_exponent': -0.01433135532572119, 'negative': 19, 'min_count': 19, 'vector_size': 32}. Best is trial 27 with value: 0.028551334008780817.\n"
     ]
    },
    {
     "name": "stdout",
     "output_type": "stream",
     "text": [
      "MAP@10 = 0.0279 Hitrate@10 = 0.5106\n",
      "{'sg': 0, 'window_len': 6, 'ns_exponent': 0.8507023413488397, 'negative': 19, 'min_count': 18, 'vector_size': 32}\n"
     ]
    },
    {
     "name": "stderr",
     "output_type": "stream",
     "text": [
      "[I 2024-04-04 14:46:35,664] Trial 29 finished with value: 0.012262791286727458 and parameters: {'sg': 0, 'window': 6, 'ns_exponent': 0.8507023413488397, 'negative': 19, 'min_count': 18, 'vector_size': 32}. Best is trial 27 with value: 0.028551334008780817.\n"
     ]
    },
    {
     "name": "stdout",
     "output_type": "stream",
     "text": [
      "MAP@10 = 0.0123 Hitrate@10 = 0.2909\n",
      "{'sg': 0, 'window_len': 7, 'ns_exponent': 0.1330695051931984, 'negative': 20, 'min_count': 15, 'vector_size': 128}\n"
     ]
    },
    {
     "name": "stderr",
     "output_type": "stream",
     "text": [
      "[I 2024-04-04 14:46:37,342] Trial 30 finished with value: 0.02200738770685579 and parameters: {'sg': 0, 'window': 7, 'ns_exponent': 0.1330695051931984, 'negative': 20, 'min_count': 15, 'vector_size': 128}. Best is trial 27 with value: 0.028551334008780817.\n"
     ]
    },
    {
     "name": "stdout",
     "output_type": "stream",
     "text": [
      "MAP@10 = 0.0220 Hitrate@10 = 0.4331\n",
      "{'sg': 0, 'window_len': 7, 'ns_exponent': -0.035229673224231345, 'negative': 19, 'min_count': 19, 'vector_size': 32}\n"
     ]
    },
    {
     "name": "stderr",
     "output_type": "stream",
     "text": [
      "[I 2024-04-04 14:46:39,263] Trial 31 finished with value: 0.02913487841945289 and parameters: {'sg': 0, 'window': 7, 'ns_exponent': -0.035229673224231345, 'negative': 19, 'min_count': 19, 'vector_size': 32}. Best is trial 31 with value: 0.02913487841945289.\n"
     ]
    },
    {
     "name": "stdout",
     "output_type": "stream",
     "text": [
      "MAP@10 = 0.0291 Hitrate@10 = 0.5000\n",
      "{'sg': 0, 'window_len': 6, 'ns_exponent': 0.7750050175292805, 'negative': 19, 'min_count': 20, 'vector_size': 32}\n"
     ]
    },
    {
     "name": "stderr",
     "output_type": "stream",
     "text": [
      "[I 2024-04-04 14:46:40,695] Trial 32 finished with value: 0.0136395221209051 and parameters: {'sg': 0, 'window': 6, 'ns_exponent': 0.7750050175292805, 'negative': 19, 'min_count': 20, 'vector_size': 32}. Best is trial 31 with value: 0.02913487841945289.\n"
     ]
    },
    {
     "name": "stdout",
     "output_type": "stream",
     "text": [
      "MAP@10 = 0.0136 Hitrate@10 = 0.3089\n",
      "{'sg': 0, 'window_len': 7, 'ns_exponent': 0.1240397064848281, 'negative': 20, 'min_count': 18, 'vector_size': 32}\n"
     ]
    },
    {
     "name": "stderr",
     "output_type": "stream",
     "text": [
      "[I 2024-04-04 14:46:42,301] Trial 33 finished with value: 0.02604149780479568 and parameters: {'sg': 0, 'window': 7, 'ns_exponent': 0.1240397064848281, 'negative': 20, 'min_count': 18, 'vector_size': 32}. Best is trial 31 with value: 0.02913487841945289.\n"
     ]
    },
    {
     "name": "stdout",
     "output_type": "stream",
     "text": [
      "MAP@10 = 0.0260 Hitrate@10 = 0.4692\n",
      "{'sg': 0, 'window_len': 5, 'ns_exponent': 0.24468580968846387, 'negative': 18, 'min_count': 16, 'vector_size': 32}\n"
     ]
    },
    {
     "name": "stderr",
     "output_type": "stream",
     "text": [
      "[I 2024-04-04 14:46:43,358] Trial 34 finished with value: 0.018223319824383657 and parameters: {'sg': 0, 'window': 5, 'ns_exponent': 0.24468580968846387, 'negative': 18, 'min_count': 16, 'vector_size': 32}. Best is trial 31 with value: 0.02913487841945289.\n"
     ]
    },
    {
     "name": "stdout",
     "output_type": "stream",
     "text": [
      "MAP@10 = 0.0182 Hitrate@10 = 0.3885\n",
      "{'sg': 0, 'window_len': 8, 'ns_exponent': -0.05675039706913898, 'negative': 19, 'min_count': 18, 'vector_size': 64}\n"
     ]
    },
    {
     "name": "stderr",
     "output_type": "stream",
     "text": [
      "[I 2024-04-04 14:46:45,017] Trial 35 finished with value: 0.029174772036474166 and parameters: {'sg': 0, 'window': 8, 'ns_exponent': -0.05675039706913898, 'negative': 19, 'min_count': 18, 'vector_size': 64}. Best is trial 35 with value: 0.029174772036474166.\n"
     ]
    },
    {
     "name": "stdout",
     "output_type": "stream",
     "text": [
      "MAP@10 = 0.0292 Hitrate@10 = 0.5011\n",
      "{'sg': 1, 'window_len': 8, 'ns_exponent': -0.5934144168070986, 'negative': 20, 'min_count': 15, 'vector_size': 64}\n"
     ]
    },
    {
     "name": "stderr",
     "output_type": "stream",
     "text": [
      "[I 2024-04-04 14:46:50,863] Trial 36 finished with value: 0.018468844984802432 and parameters: {'sg': 1, 'window': 8, 'ns_exponent': -0.5934144168070986, 'negative': 20, 'min_count': 15, 'vector_size': 64}. Best is trial 35 with value: 0.029174772036474166.\n"
     ]
    },
    {
     "name": "stdout",
     "output_type": "stream",
     "text": [
      "MAP@10 = 0.0185 Hitrate@10 = 0.3800\n",
      "{'sg': 0, 'window_len': 4, 'ns_exponent': 0.45321313574601885, 'negative': 15, 'min_count': 18, 'vector_size': 64}\n"
     ]
    },
    {
     "name": "stderr",
     "output_type": "stream",
     "text": [
      "[I 2024-04-04 14:46:52,282] Trial 37 finished with value: 0.013527186761229314 and parameters: {'sg': 0, 'window': 4, 'ns_exponent': 0.45321313574601885, 'negative': 15, 'min_count': 18, 'vector_size': 64}. Best is trial 35 with value: 0.029174772036474166.\n"
     ]
    },
    {
     "name": "stdout",
     "output_type": "stream",
     "text": [
      "MAP@10 = 0.0135 Hitrate@10 = 0.3227\n",
      "{'sg': 0, 'window_len': 8, 'ns_exponent': 1.1193052173552305, 'negative': 16, 'min_count': 9, 'vector_size': 64}\n"
     ]
    },
    {
     "name": "stderr",
     "output_type": "stream",
     "text": [
      "[I 2024-04-04 14:46:53,686] Trial 38 finished with value: 0.008295043904086457 and parameters: {'sg': 0, 'window': 8, 'ns_exponent': 1.1193052173552305, 'negative': 16, 'min_count': 9, 'vector_size': 64}. Best is trial 35 with value: 0.029174772036474166.\n"
     ]
    },
    {
     "name": "stdout",
     "output_type": "stream",
     "text": [
      "MAP@10 = 0.0083 Hitrate@10 = 0.2113\n",
      "{'sg': 1, 'window_len': 4, 'ns_exponent': 1.6491663069208609, 'negative': 18, 'min_count': 16, 'vector_size': 64}\n"
     ]
    },
    {
     "name": "stderr",
     "output_type": "stream",
     "text": [
      "[I 2024-04-04 14:46:56,851] Trial 39 finished with value: 0.007555386693684565 and parameters: {'sg': 1, 'window': 4, 'ns_exponent': 1.6491663069208609, 'negative': 18, 'min_count': 16, 'vector_size': 64}. Best is trial 35 with value: 0.029174772036474166.\n"
     ]
    },
    {
     "name": "stdout",
     "output_type": "stream",
     "text": [
      "MAP@10 = 0.0076 Hitrate@10 = 0.1911\n",
      "{'sg': 0, 'window_len': 1, 'ns_exponent': -0.06715669945178511, 'negative': 20, 'min_count': 5, 'vector_size': 16}\n"
     ]
    },
    {
     "name": "stderr",
     "output_type": "stream",
     "text": [
      "[I 2024-04-04 14:46:58,861] Trial 40 finished with value: 0.021097982100641677 and parameters: {'sg': 0, 'window': 1, 'ns_exponent': -0.06715669945178511, 'negative': 20, 'min_count': 5, 'vector_size': 16}. Best is trial 35 with value: 0.029174772036474166.\n"
     ]
    },
    {
     "name": "stdout",
     "output_type": "stream",
     "text": [
      "MAP@10 = 0.0211 Hitrate@10 = 0.4331\n",
      "{'sg': 0, 'window_len': 7, 'ns_exponent': -0.05807281870326683, 'negative': 19, 'min_count': 20, 'vector_size': 128}\n"
     ]
    },
    {
     "name": "stderr",
     "output_type": "stream",
     "text": [
      "[I 2024-04-04 14:47:00,265] Trial 41 finished with value: 0.02576663289429247 and parameters: {'sg': 0, 'window': 7, 'ns_exponent': -0.05807281870326683, 'negative': 19, 'min_count': 20, 'vector_size': 128}. Best is trial 35 with value: 0.029174772036474166.\n"
     ]
    },
    {
     "name": "stdout",
     "output_type": "stream",
     "text": [
      "MAP@10 = 0.0258 Hitrate@10 = 0.4703\n",
      "{'sg': 0, 'window_len': 6, 'ns_exponent': 0.21176791170840728, 'negative': 19, 'min_count': 19, 'vector_size': 32}\n"
     ]
    },
    {
     "name": "stderr",
     "output_type": "stream",
     "text": [
      "[I 2024-04-04 14:47:02,155] Trial 42 finished with value: 0.01954533941236069 and parameters: {'sg': 0, 'window': 6, 'ns_exponent': 0.21176791170840728, 'negative': 19, 'min_count': 19, 'vector_size': 32}. Best is trial 35 with value: 0.029174772036474166.\n"
     ]
    },
    {
     "name": "stdout",
     "output_type": "stream",
     "text": [
      "MAP@10 = 0.0195 Hitrate@10 = 0.4023\n",
      "{'sg': 0, 'window_len': 7, 'ns_exponent': 0.34952816259519376, 'negative': 19, 'min_count': 18, 'vector_size': 32}\n"
     ]
    },
    {
     "name": "stderr",
     "output_type": "stream",
     "text": [
      "[I 2024-04-04 14:47:03,353] Trial 43 finished with value: 0.01958337554880108 and parameters: {'sg': 0, 'window': 7, 'ns_exponent': 0.34952816259519376, 'negative': 19, 'min_count': 18, 'vector_size': 32}. Best is trial 35 with value: 0.029174772036474166.\n"
     ]
    },
    {
     "name": "stdout",
     "output_type": "stream",
     "text": [
      "MAP@10 = 0.0196 Hitrate@10 = 0.3885\n",
      "{'sg': 0, 'window_len': 8, 'ns_exponent': -0.1265916745207739, 'negative': 18, 'min_count': 19, 'vector_size': 64}\n"
     ]
    },
    {
     "name": "stderr",
     "output_type": "stream",
     "text": [
      "[I 2024-04-04 14:47:04,916] Trial 44 finished with value: 0.025882809861533265 and parameters: {'sg': 0, 'window': 8, 'ns_exponent': -0.1265916745207739, 'negative': 18, 'min_count': 19, 'vector_size': 64}. Best is trial 35 with value: 0.029174772036474166.\n"
     ]
    },
    {
     "name": "stdout",
     "output_type": "stream",
     "text": [
      "MAP@10 = 0.0259 Hitrate@10 = 0.4777\n",
      "{'sg': 0, 'window_len': 6, 'ns_exponent': -0.587055411135027, 'negative': 16, 'min_count': 13, 'vector_size': 128}\n"
     ]
    },
    {
     "name": "stderr",
     "output_type": "stream",
     "text": [
      "[I 2024-04-04 14:47:06,599] Trial 45 finished with value: 0.015555260047281324 and parameters: {'sg': 0, 'window': 6, 'ns_exponent': -0.587055411135027, 'negative': 16, 'min_count': 13, 'vector_size': 128}. Best is trial 35 with value: 0.029174772036474166.\n"
     ]
    },
    {
     "name": "stdout",
     "output_type": "stream",
     "text": [
      "MAP@10 = 0.0156 Hitrate@10 = 0.3344\n",
      "{'sg': 0, 'window_len': 7, 'ns_exponent': 0.5882264087475335, 'negative': 8, 'min_count': 20, 'vector_size': 32}\n"
     ]
    },
    {
     "name": "stderr",
     "output_type": "stream",
     "text": [
      "[I 2024-04-04 14:47:07,326] Trial 46 finished with value: 0.014672619047619047 and parameters: {'sg': 0, 'window': 7, 'ns_exponent': 0.5882264087475335, 'negative': 8, 'min_count': 20, 'vector_size': 32}. Best is trial 35 with value: 0.029174772036474166.\n"
     ]
    },
    {
     "name": "stdout",
     "output_type": "stream",
     "text": [
      "MAP@10 = 0.0147 Hitrate@10 = 0.3259\n",
      "{'sg': 0, 'window_len': 8, 'ns_exponent': -0.4786833934785949, 'negative': 19, 'min_count': 18, 'vector_size': 16}\n"
     ]
    },
    {
     "name": "stderr",
     "output_type": "stream",
     "text": [
      "[I 2024-04-04 14:47:08,652] Trial 47 finished with value: 0.021041371158392438 and parameters: {'sg': 0, 'window': 8, 'ns_exponent': -0.4786833934785949, 'negative': 19, 'min_count': 18, 'vector_size': 16}. Best is trial 35 with value: 0.029174772036474166.\n"
     ]
    },
    {
     "name": "stdout",
     "output_type": "stream",
     "text": [
      "MAP@10 = 0.0210 Hitrate@10 = 0.4183\n",
      "{'sg': 1, 'window_len': 6, 'ns_exponent': -0.01890036226201028, 'negative': 20, 'min_count': 16, 'vector_size': 32}\n"
     ]
    },
    {
     "name": "stderr",
     "output_type": "stream",
     "text": [
      "[I 2024-04-04 14:47:13,030] Trial 48 finished with value: 0.03224552516041878 and parameters: {'sg': 1, 'window': 6, 'ns_exponent': -0.01890036226201028, 'negative': 20, 'min_count': 16, 'vector_size': 32}. Best is trial 48 with value: 0.03224552516041878.\n"
     ]
    },
    {
     "name": "stdout",
     "output_type": "stream",
     "text": [
      "MAP@10 = 0.0322 Hitrate@10 = 0.5276\n",
      "{'sg': 1, 'window_len': 5, 'ns_exponent': -0.9566289415734126, 'negative': 20, 'min_count': 12, 'vector_size': 64}\n"
     ]
    },
    {
     "name": "stderr",
     "output_type": "stream",
     "text": [
      "[I 2024-04-04 14:47:17,400] Trial 49 finished with value: 0.015678022627490712 and parameters: {'sg': 1, 'window': 5, 'ns_exponent': -0.9566289415734126, 'negative': 20, 'min_count': 12, 'vector_size': 64}. Best is trial 48 with value: 0.03224552516041878.\n"
     ]
    },
    {
     "name": "stdout",
     "output_type": "stream",
     "text": [
      "MAP@10 = 0.0157 Hitrate@10 = 0.3153\n",
      "{'sg': 1, 'window_len': 3, 'ns_exponent': -0.23257520674820048, 'negative': 16, 'min_count': 14, 'vector_size': 32}\n"
     ]
    },
    {
     "name": "stderr",
     "output_type": "stream",
     "text": [
      "[I 2024-04-04 14:47:19,998] Trial 50 finished with value: 0.02462014522120905 and parameters: {'sg': 1, 'window': 3, 'ns_exponent': -0.23257520674820048, 'negative': 16, 'min_count': 14, 'vector_size': 32}. Best is trial 48 with value: 0.03224552516041878.\n"
     ]
    },
    {
     "name": "stdout",
     "output_type": "stream",
     "text": [
      "MAP@10 = 0.0246 Hitrate@10 = 0.4575\n",
      "{'sg': 1, 'window_len': 6, 'ns_exponent': 0.13003949300961662, 'negative': 20, 'min_count': 16, 'vector_size': 32}\n"
     ]
    },
    {
     "name": "stderr",
     "output_type": "stream",
     "text": [
      "[I 2024-04-04 14:47:24,387] Trial 51 finished with value: 0.027024653833164474 and parameters: {'sg': 1, 'window': 6, 'ns_exponent': 0.13003949300961662, 'negative': 20, 'min_count': 16, 'vector_size': 32}. Best is trial 48 with value: 0.03224552516041878.\n"
     ]
    },
    {
     "name": "stdout",
     "output_type": "stream",
     "text": [
      "MAP@10 = 0.0270 Hitrate@10 = 0.5021\n",
      "{'sg': 1, 'window_len': 7, 'ns_exponent': 0.35946879068345416, 'negative': 18, 'min_count': 18, 'vector_size': 32}\n"
     ]
    },
    {
     "name": "stderr",
     "output_type": "stream",
     "text": [
      "[I 2024-04-04 14:47:28,545] Trial 52 finished with value: 0.021101190476190478 and parameters: {'sg': 1, 'window': 7, 'ns_exponent': 0.35946879068345416, 'negative': 18, 'min_count': 18, 'vector_size': 32}. Best is trial 48 with value: 0.03224552516041878.\n"
     ]
    },
    {
     "name": "stdout",
     "output_type": "stream",
     "text": [
      "MAP@10 = 0.0211 Hitrate@10 = 0.3864\n",
      "{'sg': 1, 'window_len': 6, 'ns_exponent': -0.330694441931795, 'negative': 19, 'min_count': 19, 'vector_size': 32}\n"
     ]
    },
    {
     "name": "stderr",
     "output_type": "stream",
     "text": [
      "[I 2024-04-04 14:47:32,905] Trial 53 finished with value: 0.023782843633907463 and parameters: {'sg': 1, 'window': 6, 'ns_exponent': -0.330694441931795, 'negative': 19, 'min_count': 19, 'vector_size': 32}. Best is trial 48 with value: 0.03224552516041878.\n"
     ]
    },
    {
     "name": "stdout",
     "output_type": "stream",
     "text": [
      "MAP@10 = 0.0238 Hitrate@10 = 0.4374\n",
      "{'sg': 0, 'window_len': 7, 'ns_exponent': -0.022514920106653968, 'negative': 10, 'min_count': 17, 'vector_size': 32}\n"
     ]
    },
    {
     "name": "stderr",
     "output_type": "stream",
     "text": [
      "[I 2024-04-04 14:47:34,032] Trial 54 finished with value: 0.02828613644039176 and parameters: {'sg': 0, 'window': 7, 'ns_exponent': -0.022514920106653968, 'negative': 10, 'min_count': 17, 'vector_size': 32}. Best is trial 48 with value: 0.03224552516041878.\n"
     ]
    },
    {
     "name": "stdout",
     "output_type": "stream",
     "text": [
      "MAP@10 = 0.0283 Hitrate@10 = 0.4904\n",
      "{'sg': 0, 'window_len': 8, 'ns_exponent': -0.7508454914753989, 'negative': 10, 'min_count': 15, 'vector_size': 32}\n"
     ]
    },
    {
     "name": "stderr",
     "output_type": "stream",
     "text": [
      "[I 2024-04-04 14:47:35,030] Trial 55 finished with value: 0.016404044241810196 and parameters: {'sg': 0, 'window': 8, 'ns_exponent': -0.7508454914753989, 'negative': 10, 'min_count': 15, 'vector_size': 32}. Best is trial 48 with value: 0.03224552516041878.\n"
     ]
    },
    {
     "name": "stdout",
     "output_type": "stream",
     "text": [
      "MAP@10 = 0.0164 Hitrate@10 = 0.3397\n",
      "{'sg': 1, 'window_len': 10, 'ns_exponent': -0.44266742717618485, 'negative': 6, 'min_count': 17, 'vector_size': 16}\n"
     ]
    },
    {
     "name": "stderr",
     "output_type": "stream",
     "text": [
      "[I 2024-04-04 14:47:37,550] Trial 56 finished with value: 0.02183042046605876 and parameters: {'sg': 1, 'window': 10, 'ns_exponent': -0.44266742717618485, 'negative': 6, 'min_count': 17, 'vector_size': 16}. Best is trial 48 with value: 0.03224552516041878.\n"
     ]
    },
    {
     "name": "stdout",
     "output_type": "stream",
     "text": [
      "MAP@10 = 0.0218 Hitrate@10 = 0.4076\n",
      "{'sg': 0, 'window_len': 7, 'ns_exponent': -0.030991450483339344, 'negative': 11, 'min_count': 16, 'vector_size': 32}\n"
     ]
    },
    {
     "name": "stderr",
     "output_type": "stream",
     "text": [
      "[I 2024-04-04 14:47:39,186] Trial 57 finished with value: 0.026859591354272207 and parameters: {'sg': 0, 'window': 7, 'ns_exponent': -0.030991450483339344, 'negative': 11, 'min_count': 16, 'vector_size': 32}. Best is trial 48 with value: 0.03224552516041878.\n"
     ]
    },
    {
     "name": "stdout",
     "output_type": "stream",
     "text": [
      "MAP@10 = 0.0269 Hitrate@10 = 0.5032\n",
      "{'sg': 0, 'window_len': 8, 'ns_exponent': 0.5677469077397914, 'negative': 9, 'min_count': 1, 'vector_size': 32}\n"
     ]
    },
    {
     "name": "stderr",
     "output_type": "stream",
     "text": [
      "[I 2024-04-04 14:47:40,791] Trial 58 finished with value: 0.009038036136440391 and parameters: {'sg': 0, 'window': 8, 'ns_exponent': 0.5677469077397914, 'negative': 9, 'min_count': 1, 'vector_size': 32}. Best is trial 48 with value: 0.03224552516041878.\n"
     ]
    },
    {
     "name": "stdout",
     "output_type": "stream",
     "text": [
      "MAP@10 = 0.0090 Hitrate@10 = 0.2123\n",
      "{'sg': 0, 'window_len': 5, 'ns_exponent': -1.0979359178332766, 'negative': 12, 'min_count': 7, 'vector_size': 128}\n"
     ]
    },
    {
     "name": "stderr",
     "output_type": "stream",
     "text": [
      "[I 2024-04-04 14:47:42,486] Trial 59 finished with value: 0.008918313069908815 and parameters: {'sg': 0, 'window': 5, 'ns_exponent': -1.0979359178332766, 'negative': 12, 'min_count': 7, 'vector_size': 128}. Best is trial 48 with value: 0.03224552516041878.\n"
     ]
    },
    {
     "name": "stdout",
     "output_type": "stream",
     "text": [
      "MAP@10 = 0.0089 Hitrate@10 = 0.2059\n",
      "{'sg': 1, 'window_len': 9, 'ns_exponent': -0.23197216985799127, 'negative': 10, 'min_count': 17, 'vector_size': 32}\n"
     ]
    },
    {
     "name": "stderr",
     "output_type": "stream",
     "text": [
      "[I 2024-04-04 14:47:45,655] Trial 60 finished with value: 0.025673083417764267 and parameters: {'sg': 1, 'window': 9, 'ns_exponent': -0.23197216985799127, 'negative': 10, 'min_count': 17, 'vector_size': 32}. Best is trial 48 with value: 0.03224552516041878.\n"
     ]
    },
    {
     "name": "stdout",
     "output_type": "stream",
     "text": [
      "MAP@10 = 0.0257 Hitrate@10 = 0.4703\n",
      "{'sg': 0, 'window_len': 7, 'ns_exponent': 0.13422251350906214, 'negative': 18, 'min_count': 19, 'vector_size': 32}\n"
     ]
    },
    {
     "name": "stderr",
     "output_type": "stream",
     "text": [
      "[I 2024-04-04 14:47:47,149] Trial 61 finished with value: 0.02426076494427558 and parameters: {'sg': 0, 'window': 7, 'ns_exponent': 0.13422251350906214, 'negative': 18, 'min_count': 19, 'vector_size': 32}. Best is trial 48 with value: 0.03224552516041878.\n"
     ]
    },
    {
     "name": "stdout",
     "output_type": "stream",
     "text": [
      "MAP@10 = 0.0243 Hitrate@10 = 0.4522\n",
      "{'sg': 0, 'window_len': 7, 'ns_exponent': -0.1173788308920394, 'negative': 17, 'min_count': 17, 'vector_size': 32}\n"
     ]
    },
    {
     "name": "stderr",
     "output_type": "stream",
     "text": [
      "[I 2024-04-04 14:47:48,304] Trial 62 finished with value: 0.0283323201621074 and parameters: {'sg': 0, 'window': 7, 'ns_exponent': -0.1173788308920394, 'negative': 17, 'min_count': 17, 'vector_size': 32}. Best is trial 48 with value: 0.03224552516041878.\n"
     ]
    },
    {
     "name": "stdout",
     "output_type": "stream",
     "text": [
      "MAP@10 = 0.0283 Hitrate@10 = 0.5053\n",
      "{'sg': 0, 'window_len': 6, 'ns_exponent': -0.666178391595582, 'negative': 17, 'min_count': 15, 'vector_size': 32}\n"
     ]
    },
    {
     "name": "stderr",
     "output_type": "stream",
     "text": [
      "[I 2024-04-04 14:47:49,751] Trial 63 finished with value: 0.016007218844984804 and parameters: {'sg': 0, 'window': 6, 'ns_exponent': -0.666178391595582, 'negative': 17, 'min_count': 15, 'vector_size': 32}. Best is trial 48 with value: 0.03224552516041878.\n"
     ]
    },
    {
     "name": "stdout",
     "output_type": "stream",
     "text": [
      "MAP@10 = 0.0160 Hitrate@10 = 0.3461\n",
      "{'sg': 0, 'window_len': 8, 'ns_exponent': -0.34302435057872294, 'negative': 17, 'min_count': 17, 'vector_size': 32}\n"
     ]
    },
    {
     "name": "stderr",
     "output_type": "stream",
     "text": [
      "[I 2024-04-04 14:47:50,782] Trial 64 finished with value: 0.022855074299223233 and parameters: {'sg': 0, 'window': 8, 'ns_exponent': -0.34302435057872294, 'negative': 17, 'min_count': 17, 'vector_size': 32}. Best is trial 48 with value: 0.03224552516041878.\n"
     ]
    },
    {
     "name": "stdout",
     "output_type": "stream",
     "text": [
      "MAP@10 = 0.0229 Hitrate@10 = 0.4406\n",
      "{'sg': 0, 'window_len': 7, 'ns_exponent': 0.3139284928614231, 'negative': 14, 'min_count': 14, 'vector_size': 32}\n"
     ]
    },
    {
     "name": "stderr",
     "output_type": "stream",
     "text": [
      "[I 2024-04-04 14:47:52,003] Trial 65 finished with value: 0.0190330547112462 and parameters: {'sg': 0, 'window': 7, 'ns_exponent': 0.3139284928614231, 'negative': 14, 'min_count': 14, 'vector_size': 32}. Best is trial 48 with value: 0.03224552516041878.\n"
     ]
    },
    {
     "name": "stdout",
     "output_type": "stream",
     "text": [
      "MAP@10 = 0.0190 Hitrate@10 = 0.3822\n",
      "{'sg': 0, 'window_len': 8, 'ns_exponent': -0.0019358963817947099, 'negative': 18, 'min_count': 17, 'vector_size': 64}\n"
     ]
    },
    {
     "name": "stderr",
     "output_type": "stream",
     "text": [
      "[I 2024-04-04 14:47:53,552] Trial 66 finished with value: 0.029211415062478895 and parameters: {'sg': 0, 'window': 8, 'ns_exponent': -0.0019358963817947099, 'negative': 18, 'min_count': 17, 'vector_size': 64}. Best is trial 48 with value: 0.03224552516041878.\n"
     ]
    },
    {
     "name": "stdout",
     "output_type": "stream",
     "text": [
      "MAP@10 = 0.0292 Hitrate@10 = 0.5042\n",
      "{'sg': 0, 'window_len': 7, 'ns_exponent': 0.06416244960410016, 'negative': 20, 'min_count': 18, 'vector_size': 64}\n"
     ]
    },
    {
     "name": "stderr",
     "output_type": "stream",
     "text": [
      "[I 2024-04-04 14:47:54,874] Trial 67 finished with value: 0.027924518743667682 and parameters: {'sg': 0, 'window': 7, 'ns_exponent': 0.06416244960410016, 'negative': 20, 'min_count': 18, 'vector_size': 64}. Best is trial 48 with value: 0.03224552516041878.\n"
     ]
    },
    {
     "name": "stdout",
     "output_type": "stream",
     "text": [
      "MAP@10 = 0.0279 Hitrate@10 = 0.4841\n",
      "{'sg': 0, 'window_len': 6, 'ns_exponent': -0.18716029738995096, 'negative': 18, 'min_count': 17, 'vector_size': 64}\n"
     ]
    },
    {
     "name": "stderr",
     "output_type": "stream",
     "text": [
      "[I 2024-04-04 14:47:56,264] Trial 68 finished with value: 0.0227168608578183 and parameters: {'sg': 0, 'window': 6, 'ns_exponent': -0.18716029738995096, 'negative': 18, 'min_count': 17, 'vector_size': 64}. Best is trial 48 with value: 0.03224552516041878.\n"
     ]
    },
    {
     "name": "stdout",
     "output_type": "stream",
     "text": [
      "MAP@10 = 0.0227 Hitrate@10 = 0.4406\n",
      "{'sg': 0, 'window_len': 9, 'ns_exponent': -0.5118341800412586, 'negative': 8, 'min_count': 20, 'vector_size': 64}\n"
     ]
    },
    {
     "name": "stderr",
     "output_type": "stream",
     "text": [
      "[I 2024-04-04 14:47:57,706] Trial 69 finished with value: 0.018273851739277272 and parameters: {'sg': 0, 'window': 9, 'ns_exponent': -0.5118341800412586, 'negative': 8, 'min_count': 20, 'vector_size': 64}. Best is trial 48 with value: 0.03224552516041878.\n"
     ]
    },
    {
     "name": "stdout",
     "output_type": "stream",
     "text": [
      "MAP@10 = 0.0183 Hitrate@10 = 0.3875\n",
      "{'sg': 0, 'window_len': 8, 'ns_exponent': -0.8027651393420742, 'negative': 16, 'min_count': 16, 'vector_size': 64}\n"
     ]
    },
    {
     "name": "stderr",
     "output_type": "stream",
     "text": [
      "[I 2024-04-04 14:47:59,419] Trial 70 finished with value: 0.01684228301249578 and parameters: {'sg': 0, 'window': 8, 'ns_exponent': -0.8027651393420742, 'negative': 16, 'min_count': 16, 'vector_size': 64}. Best is trial 48 with value: 0.03224552516041878.\n"
     ]
    },
    {
     "name": "stdout",
     "output_type": "stream",
     "text": [
      "MAP@10 = 0.0168 Hitrate@10 = 0.3609\n",
      "{'sg': 0, 'window_len': 8, 'ns_exponent': 0.023094667664193123, 'negative': 17, 'min_count': 16, 'vector_size': 32}\n"
     ]
    },
    {
     "name": "stderr",
     "output_type": "stream",
     "text": [
      "[I 2024-04-04 14:48:01,194] Trial 71 finished with value: 0.029117274569402232 and parameters: {'sg': 0, 'window': 8, 'ns_exponent': 0.023094667664193123, 'negative': 17, 'min_count': 16, 'vector_size': 32}. Best is trial 48 with value: 0.03224552516041878.\n"
     ]
    },
    {
     "name": "stdout",
     "output_type": "stream",
     "text": [
      "MAP@10 = 0.0291 Hitrate@10 = 0.4979\n",
      "{'sg': 0, 'window_len': 8, 'ns_exponent': 0.10052042619974189, 'negative': 19, 'min_count': 18, 'vector_size': 64}\n"
     ]
    },
    {
     "name": "stderr",
     "output_type": "stream",
     "text": [
      "[I 2024-04-04 14:48:02,673] Trial 72 finished with value: 0.026150667004390407 and parameters: {'sg': 0, 'window': 8, 'ns_exponent': 0.10052042619974189, 'negative': 19, 'min_count': 18, 'vector_size': 64}. Best is trial 48 with value: 0.03224552516041878.\n"
     ]
    },
    {
     "name": "stdout",
     "output_type": "stream",
     "text": [
      "MAP@10 = 0.0262 Hitrate@10 = 0.4766\n",
      "{'sg': 0, 'window_len': 7, 'ns_exponent': 0.42525839475717064, 'negative': 17, 'min_count': 17, 'vector_size': 32}\n"
     ]
    },
    {
     "name": "stderr",
     "output_type": "stream",
     "text": [
      "[I 2024-04-04 14:48:04,044] Trial 73 finished with value: 0.017589412360688957 and parameters: {'sg': 0, 'window': 7, 'ns_exponent': 0.42525839475717064, 'negative': 17, 'min_count': 17, 'vector_size': 32}. Best is trial 48 with value: 0.03224552516041878.\n"
     ]
    },
    {
     "name": "stdout",
     "output_type": "stream",
     "text": [
      "MAP@10 = 0.0176 Hitrate@10 = 0.3620\n",
      "{'sg': 0, 'window_len': 7, 'ns_exponent': -0.06906193289829476, 'negative': 15, 'min_count': 15, 'vector_size': 32}\n"
     ]
    },
    {
     "name": "stderr",
     "output_type": "stream",
     "text": [
      "[I 2024-04-04 14:48:05,091] Trial 74 finished with value: 0.02564712090509963 and parameters: {'sg': 0, 'window': 7, 'ns_exponent': -0.06906193289829476, 'negative': 15, 'min_count': 15, 'vector_size': 32}. Best is trial 48 with value: 0.03224552516041878.\n"
     ]
    },
    {
     "name": "stdout",
     "output_type": "stream",
     "text": [
      "MAP@10 = 0.0256 Hitrate@10 = 0.4756\n",
      "{'sg': 0, 'window_len': 9, 'ns_exponent': -0.319321706115045, 'negative': 18, 'min_count': 13, 'vector_size': 32}\n"
     ]
    },
    {
     "name": "stderr",
     "output_type": "stream",
     "text": [
      "[I 2024-04-04 14:48:06,639] Trial 75 finished with value: 0.02389370145221209 and parameters: {'sg': 0, 'window': 9, 'ns_exponent': -0.319321706115045, 'negative': 18, 'min_count': 13, 'vector_size': 32}. Best is trial 48 with value: 0.03224552516041878.\n"
     ]
    },
    {
     "name": "stdout",
     "output_type": "stream",
     "text": [
      "MAP@10 = 0.0239 Hitrate@10 = 0.4565\n",
      "{'sg': 0, 'window_len': 8, 'ns_exponent': 0.24825545272534244, 'negative': 20, 'min_count': 16, 'vector_size': 16}\n"
     ]
    },
    {
     "name": "stderr",
     "output_type": "stream",
     "text": [
      "[I 2024-04-04 14:48:08,171] Trial 76 finished with value: 0.020833924349881794 and parameters: {'sg': 0, 'window': 8, 'ns_exponent': 0.24825545272534244, 'negative': 20, 'min_count': 16, 'vector_size': 16}. Best is trial 48 with value: 0.03224552516041878.\n"
     ]
    },
    {
     "name": "stdout",
     "output_type": "stream",
     "text": [
      "MAP@10 = 0.0208 Hitrate@10 = 0.4257\n",
      "{'sg': 0, 'window_len': 6, 'ns_exponent': -0.4512549259334135, 'negative': 19, 'min_count': 18, 'vector_size': 64}\n"
     ]
    },
    {
     "name": "stderr",
     "output_type": "stream",
     "text": [
      "[I 2024-04-04 14:48:09,995] Trial 77 finished with value: 0.018718802769334686 and parameters: {'sg': 0, 'window': 6, 'ns_exponent': -0.4512549259334135, 'negative': 19, 'min_count': 18, 'vector_size': 64}. Best is trial 48 with value: 0.03224552516041878.\n"
     ]
    },
    {
     "name": "stdout",
     "output_type": "stream",
     "text": [
      "MAP@10 = 0.0187 Hitrate@10 = 0.3800\n",
      "{'sg': 1, 'window_len': 7, 'ns_exponent': -0.0032628973301830136, 'negative': 18, 'min_count': 19, 'vector_size': 32}\n"
     ]
    },
    {
     "name": "stderr",
     "output_type": "stream",
     "text": [
      "[I 2024-04-04 14:48:14,244] Trial 78 finished with value: 0.03334101654846335 and parameters: {'sg': 1, 'window': 7, 'ns_exponent': -0.0032628973301830136, 'negative': 18, 'min_count': 19, 'vector_size': 32}. Best is trial 78 with value: 0.03334101654846335.\n"
     ]
    },
    {
     "name": "stdout",
     "output_type": "stream",
     "text": [
      "MAP@10 = 0.0333 Hitrate@10 = 0.5340\n",
      "{'sg': 1, 'window_len': 8, 'ns_exponent': -0.14644230991827945, 'negative': 18, 'min_count': 19, 'vector_size': 128}\n"
     ]
    },
    {
     "name": "stderr",
     "output_type": "stream",
     "text": [
      "[I 2024-04-04 14:48:20,466] Trial 79 finished with value: 0.02773210064167511 and parameters: {'sg': 1, 'window': 8, 'ns_exponent': -0.14644230991827945, 'negative': 18, 'min_count': 19, 'vector_size': 128}. Best is trial 78 with value: 0.03334101654846335.\n"
     ]
    },
    {
     "name": "stdout",
     "output_type": "stream",
     "text": [
      "MAP@10 = 0.0277 Hitrate@10 = 0.4947\n",
      "{'sg': 1, 'window_len': 7, 'ns_exponent': 0.22331225504953636, 'negative': 17, 'min_count': 20, 'vector_size': 32}\n"
     ]
    },
    {
     "name": "stderr",
     "output_type": "stream",
     "text": [
      "[I 2024-04-04 14:48:24,387] Trial 80 finished with value: 0.024623184734886863 and parameters: {'sg': 1, 'window': 7, 'ns_exponent': 0.22331225504953636, 'negative': 17, 'min_count': 20, 'vector_size': 32}. Best is trial 78 with value: 0.03334101654846335.\n"
     ]
    },
    {
     "name": "stdout",
     "output_type": "stream",
     "text": [
      "MAP@10 = 0.0246 Hitrate@10 = 0.4427\n",
      "{'sg': 1, 'window_len': 7, 'ns_exponent': 0.07498629845118407, 'negative': 19, 'min_count': 17, 'vector_size': 32}\n"
     ]
    },
    {
     "name": "stderr",
     "output_type": "stream",
     "text": [
      "[I 2024-04-04 14:48:29,395] Trial 81 finished with value: 0.02852456940222898 and parameters: {'sg': 1, 'window': 7, 'ns_exponent': 0.07498629845118407, 'negative': 19, 'min_count': 17, 'vector_size': 32}. Best is trial 78 with value: 0.03334101654846335.\n"
     ]
    },
    {
     "name": "stdout",
     "output_type": "stream",
     "text": [
      "MAP@10 = 0.0285 Hitrate@10 = 0.5287\n",
      "{'sg': 1, 'window_len': 7, 'ns_exponent': 0.04560162214367493, 'negative': 19, 'min_count': 19, 'vector_size': 32}\n"
     ]
    },
    {
     "name": "stderr",
     "output_type": "stream",
     "text": [
      "[I 2024-04-04 14:48:34,055] Trial 82 finished with value: 0.03000434819317798 and parameters: {'sg': 1, 'window': 7, 'ns_exponent': 0.04560162214367493, 'negative': 19, 'min_count': 19, 'vector_size': 32}. Best is trial 78 with value: 0.03334101654846335.\n"
     ]
    },
    {
     "name": "stdout",
     "output_type": "stream",
     "text": [
      "MAP@10 = 0.0300 Hitrate@10 = 0.5117\n",
      "{'sg': 1, 'window_len': 6, 'ns_exponent': 0.508164144443354, 'negative': 19, 'min_count': 19, 'vector_size': 32}\n"
     ]
    },
    {
     "name": "stderr",
     "output_type": "stream",
     "text": [
      "[I 2024-04-04 14:48:38,035] Trial 83 finished with value: 0.01833375548801081 and parameters: {'sg': 1, 'window': 6, 'ns_exponent': 0.508164144443354, 'negative': 19, 'min_count': 19, 'vector_size': 32}. Best is trial 78 with value: 0.03334101654846335.\n"
     ]
    },
    {
     "name": "stdout",
     "output_type": "stream",
     "text": [
      "MAP@10 = 0.0183 Hitrate@10 = 0.3577\n",
      "{'sg': 1, 'window_len': 8, 'ns_exponent': 0.3060901467246562, 'negative': 20, 'min_count': 18, 'vector_size': 32}\n"
     ]
    },
    {
     "name": "stderr",
     "output_type": "stream",
     "text": [
      "[I 2024-04-04 14:48:43,165] Trial 84 finished with value: 0.0215926629517055 and parameters: {'sg': 1, 'window': 8, 'ns_exponent': 0.3060901467246562, 'negative': 20, 'min_count': 18, 'vector_size': 32}. Best is trial 78 with value: 0.03334101654846335.\n"
     ]
    },
    {
     "name": "stdout",
     "output_type": "stream",
     "text": [
      "MAP@10 = 0.0216 Hitrate@10 = 0.4130\n",
      "{'sg': 1, 'window_len': 9, 'ns_exponent': 0.6774896899617987, 'negative': 18, 'min_count': 20, 'vector_size': 32}\n"
     ]
    },
    {
     "name": "stderr",
     "output_type": "stream",
     "text": [
      "[I 2024-04-04 14:48:48,081] Trial 85 finished with value: 0.015230791962174941 and parameters: {'sg': 1, 'window': 9, 'ns_exponent': 0.6774896899617987, 'negative': 18, 'min_count': 20, 'vector_size': 32}. Best is trial 78 with value: 0.03334101654846335.\n"
     ]
    },
    {
     "name": "stdout",
     "output_type": "stream",
     "text": [
      "MAP@10 = 0.0152 Hitrate@10 = 0.3100\n",
      "{'sg': 1, 'window_len': 8, 'ns_exponent': 0.09852218725257808, 'negative': 19, 'min_count': 19, 'vector_size': 64}\n"
     ]
    },
    {
     "name": "stderr",
     "output_type": "stream",
     "text": [
      "[I 2024-04-04 14:48:53,948] Trial 86 finished with value: 0.029761187098953056 and parameters: {'sg': 1, 'window': 8, 'ns_exponent': 0.09852218725257808, 'negative': 19, 'min_count': 19, 'vector_size': 64}. Best is trial 78 with value: 0.03334101654846335.\n"
     ]
    },
    {
     "name": "stdout",
     "output_type": "stream",
     "text": [
      "MAP@10 = 0.0298 Hitrate@10 = 0.5053\n",
      "{'sg': 1, 'window_len': 8, 'ns_exponent': 0.398498476323062, 'negative': 20, 'min_count': 19, 'vector_size': 64}\n"
     ]
    },
    {
     "name": "stderr",
     "output_type": "stream",
     "text": [
      "[I 2024-04-04 14:48:59,896] Trial 87 finished with value: 0.018822061803444787 and parameters: {'sg': 1, 'window': 8, 'ns_exponent': 0.398498476323062, 'negative': 20, 'min_count': 19, 'vector_size': 64}. Best is trial 78 with value: 0.03334101654846335.\n"
     ]
    },
    {
     "name": "stdout",
     "output_type": "stream",
     "text": [
      "MAP@10 = 0.0188 Hitrate@10 = 0.3769\n",
      "{'sg': 1, 'window_len': 9, 'ns_exponent': -0.319409720043297, 'negative': 19, 'min_count': 20, 'vector_size': 64}\n"
     ]
    },
    {
     "name": "stderr",
     "output_type": "stream",
     "text": [
      "[I 2024-04-04 14:49:05,879] Trial 88 finished with value: 0.025568768996960485 and parameters: {'sg': 1, 'window': 9, 'ns_exponent': -0.319409720043297, 'negative': 19, 'min_count': 20, 'vector_size': 64}. Best is trial 78 with value: 0.03334101654846335.\n"
     ]
    },
    {
     "name": "stdout",
     "output_type": "stream",
     "text": [
      "MAP@10 = 0.0256 Hitrate@10 = 0.4480\n",
      "{'sg': 1, 'window_len': 2, 'ns_exponent': 0.025013278134447363, 'negative': 18, 'min_count': 18, 'vector_size': 64}\n"
     ]
    },
    {
     "name": "stderr",
     "output_type": "stream",
     "text": [
      "[I 2024-04-04 14:49:08,348] Trial 89 finished with value: 0.03169621749408984 and parameters: {'sg': 1, 'window': 2, 'ns_exponent': 0.025013278134447363, 'negative': 18, 'min_count': 18, 'vector_size': 64}. Best is trial 78 with value: 0.03334101654846335.\n"
     ]
    },
    {
     "name": "stdout",
     "output_type": "stream",
     "text": [
      "MAP@10 = 0.0317 Hitrate@10 = 0.5127\n",
      "{'sg': 1, 'window_len': 2, 'ns_exponent': 0.24845354521544818, 'negative': 18, 'min_count': 10, 'vector_size': 64}\n"
     ]
    },
    {
     "name": "stderr",
     "output_type": "stream",
     "text": [
      "[I 2024-04-04 14:49:10,671] Trial 90 finished with value: 0.02054698581560284 and parameters: {'sg': 1, 'window': 2, 'ns_exponent': 0.24845354521544818, 'negative': 18, 'min_count': 10, 'vector_size': 64}. Best is trial 78 with value: 0.03334101654846335.\n"
     ]
    },
    {
     "name": "stdout",
     "output_type": "stream",
     "text": [
      "MAP@10 = 0.0205 Hitrate@10 = 0.4130\n",
      "{'sg': 1, 'window_len': 2, 'ns_exponent': 0.11996285060935535, 'negative': 19, 'min_count': 18, 'vector_size': 64}\n"
     ]
    },
    {
     "name": "stderr",
     "output_type": "stream",
     "text": [
      "[I 2024-04-04 14:49:13,011] Trial 91 finished with value: 0.025601654846335697 and parameters: {'sg': 1, 'window': 2, 'ns_exponent': 0.11996285060935535, 'negative': 19, 'min_count': 18, 'vector_size': 64}. Best is trial 78 with value: 0.03334101654846335.\n"
     ]
    },
    {
     "name": "stdout",
     "output_type": "stream",
     "text": [
      "MAP@10 = 0.0256 Hitrate@10 = 0.4480\n",
      "{'sg': 1, 'window_len': 5, 'ns_exponent': -0.15032336281167152, 'negative': 20, 'min_count': 19, 'vector_size': 64}\n"
     ]
    },
    {
     "name": "stderr",
     "output_type": "stream",
     "text": [
      "[I 2024-04-04 14:49:16,972] Trial 92 finished with value: 0.029075523471800067 and parameters: {'sg': 1, 'window': 5, 'ns_exponent': -0.15032336281167152, 'negative': 20, 'min_count': 19, 'vector_size': 64}. Best is trial 78 with value: 0.03334101654846335.\n"
     ]
    },
    {
     "name": "stdout",
     "output_type": "stream",
     "text": [
      "MAP@10 = 0.0291 Hitrate@10 = 0.5117\n",
      "{'sg': 1, 'window_len': 3, 'ns_exponent': -0.14647896515410577, 'negative': 20, 'min_count': 19, 'vector_size': 64}\n"
     ]
    },
    {
     "name": "stderr",
     "output_type": "stream",
     "text": [
      "[I 2024-04-04 14:49:19,913] Trial 93 finished with value: 0.026838272543059778 and parameters: {'sg': 1, 'window': 3, 'ns_exponent': -0.14647896515410577, 'negative': 20, 'min_count': 19, 'vector_size': 64}. Best is trial 78 with value: 0.03334101654846335.\n"
     ]
    },
    {
     "name": "stdout",
     "output_type": "stream",
     "text": [
      "MAP@10 = 0.0268 Hitrate@10 = 0.4894\n",
      "{'sg': 1, 'window_len': 8, 'ns_exponent': -0.23433636190227686, 'negative': 20, 'min_count': 19, 'vector_size': 64}\n"
     ]
    },
    {
     "name": "stderr",
     "output_type": "stream",
     "text": [
      "[I 2024-04-04 14:49:25,298] Trial 94 finished with value: 0.0260169284025667 and parameters: {'sg': 1, 'window': 8, 'ns_exponent': -0.23433636190227686, 'negative': 20, 'min_count': 19, 'vector_size': 64}. Best is trial 78 with value: 0.03334101654846335.\n"
     ]
    },
    {
     "name": "stdout",
     "output_type": "stream",
     "text": [
      "MAP@10 = 0.0260 Hitrate@10 = 0.4671\n",
      "{'sg': 1, 'window_len': 1, 'ns_exponent': 0.04260346435176576, 'negative': 18, 'min_count': 20, 'vector_size': 64}\n"
     ]
    },
    {
     "name": "stderr",
     "output_type": "stream",
     "text": [
      "[I 2024-04-04 14:49:27,167] Trial 95 finished with value: 0.02425937183383992 and parameters: {'sg': 1, 'window': 1, 'ns_exponent': 0.04260346435176576, 'negative': 18, 'min_count': 20, 'vector_size': 64}. Best is trial 78 with value: 0.03334101654846335.\n"
     ]
    },
    {
     "name": "stdout",
     "output_type": "stream",
     "text": [
      "MAP@10 = 0.0243 Hitrate@10 = 0.4735\n",
      "{'sg': 1, 'window_len': 4, 'ns_exponent': 0.4717980540114025, 'negative': 19, 'min_count': 18, 'vector_size': 64}\n"
     ]
    },
    {
     "name": "stderr",
     "output_type": "stream",
     "text": [
      "[I 2024-04-04 14:49:30,797] Trial 96 finished with value: 0.018260469436001354 and parameters: {'sg': 1, 'window': 4, 'ns_exponent': 0.4717980540114025, 'negative': 19, 'min_count': 18, 'vector_size': 64}. Best is trial 78 with value: 0.03334101654846335.\n"
     ]
    },
    {
     "name": "stdout",
     "output_type": "stream",
     "text": [
      "MAP@10 = 0.0183 Hitrate@10 = 0.3461\n",
      "{'sg': 1, 'window_len': 5, 'ns_exponent': -0.5094513618028566, 'negative': 18, 'min_count': 19, 'vector_size': 64}\n"
     ]
    },
    {
     "name": "stderr",
     "output_type": "stream",
     "text": [
      "[I 2024-04-04 14:49:34,903] Trial 97 finished with value: 0.01951431104356636 and parameters: {'sg': 1, 'window': 5, 'ns_exponent': -0.5094513618028566, 'negative': 18, 'min_count': 19, 'vector_size': 64}. Best is trial 78 with value: 0.03334101654846335.\n"
     ]
    },
    {
     "name": "stdout",
     "output_type": "stream",
     "text": [
      "MAP@10 = 0.0195 Hitrate@10 = 0.3843\n",
      "{'sg': 1, 'window_len': 2, 'ns_exponent': -0.3813959000484169, 'negative': 20, 'min_count': 18, 'vector_size': 64}\n"
     ]
    },
    {
     "name": "stderr",
     "output_type": "stream",
     "text": [
      "[I 2024-04-04 14:49:37,902] Trial 98 finished with value: 0.021803275920297193 and parameters: {'sg': 1, 'window': 2, 'ns_exponent': -0.3813959000484169, 'negative': 20, 'min_count': 18, 'vector_size': 64}. Best is trial 78 with value: 0.03334101654846335.\n"
     ]
    },
    {
     "name": "stdout",
     "output_type": "stream",
     "text": [
      "MAP@10 = 0.0218 Hitrate@10 = 0.4055\n",
      "{'sg': 1, 'window_len': 8, 'ns_exponent': -0.012988161118688992, 'negative': 16, 'min_count': 20, 'vector_size': 64}\n"
     ]
    },
    {
     "name": "stderr",
     "output_type": "stream",
     "text": [
      "[I 2024-04-04 14:49:42,674] Trial 99 finished with value: 0.034305091185410336 and parameters: {'sg': 1, 'window': 8, 'ns_exponent': -0.012988161118688992, 'negative': 16, 'min_count': 20, 'vector_size': 64}. Best is trial 99 with value: 0.034305091185410336.\n"
     ]
    },
    {
     "name": "stdout",
     "output_type": "stream",
     "text": [
      "MAP@10 = 0.0343 Hitrate@10 = 0.5414\n"
     ]
    },
    {
     "data": {
      "text/plain": [
       "{'sg': 1,\n",
       " 'window': 8,\n",
       " 'ns_exponent': -0.012988161118688992,\n",
       " 'negative': 16,\n",
       " 'min_count': 20,\n",
       " 'vector_size': 64}"
      ]
     },
     "execution_count": 7,
     "metadata": {},
     "output_type": "execute_result"
    }
   ],
   "source": [
    "SEED = 42\n",
    "\n",
    "def set_seed(seed):\n",
    "    np.random.seed(seed)\n",
    "    random.seed(seed)\n",
    "\n",
    "def objective(trial):\n",
    "    sg = trial.suggest_categorical('sg', [0, 1])\n",
    "    window = trial.suggest_int('window', 1, 10)\n",
    "    ns_exponent = trial.suggest_float('ns_exponent', -3, 3)\n",
    "    negative = trial.suggest_int('negative', 3, 20)\n",
    "    min_count = trial.suggest_int('min_count', 0, 20)\n",
    "    vector_size = trial.suggest_categorical('vector_size', [16, 32, 64, 128])\n",
    "    \n",
    "    print({\n",
    "        'sg': sg,\n",
    "        'window_len': window,\n",
    "        'ns_exponent': ns_exponent,\n",
    "        'negative': negative,\n",
    "        'min_count': min_count,\n",
    "        'vector_size': vector_size,\n",
    "    })\n",
    "    \n",
    "    set_seed(SEED)\n",
    "    model = Word2Vec(\n",
    "        grouped_df['train_ids'].to_list(),\n",
    "        window=window,\n",
    "        sg=sg,\n",
    "        hs=0,\n",
    "        min_count=min_count,\n",
    "        vector_size=vector_size,\n",
    "        negative=negative,\n",
    "        ns_exponent=ns_exponent,\n",
    "        seed=SEED,\n",
    "        epochs=10,\n",
    "    )\n",
    "    \n",
    "    mean_ap, mean_hitrate = evaluate_model(model)\n",
    "    print(f'MAP@{TOP_K} = {mean_ap:.4f} Hitrate@{TOP_K} = {mean_hitrate:.4f}')\n",
    "    return mean_ap\n",
    "    \n",
    "    \n",
    "study = optuna.create_study(directions=('maximize',))\n",
    "study.optimize(objective, n_trials=100)\n",
    "\n",
    "study.best_params"
   ]
  },
  {
   "cell_type": "code",
   "execution_count": 8,
   "id": "07832c88",
   "metadata": {},
   "outputs": [
    {
     "name": "stdout",
     "output_type": "stream",
     "text": [
      "MAP@10 = 0.0370 Hitrate@10 = 0.5563\n"
     ]
    }
   ],
   "source": [
    "set_seed(SEED)\n",
    "model = Word2Vec(\n",
    "    grouped_df['train_ids'].to_list(),\n",
    "    **study.best_params,\n",
    "    hs=0,\n",
    "    seed=SEED,\n",
    "    epochs=50\n",
    ")\n",
    "\n",
    "hitrate_list = []\n",
    "for train_ids, y_rel in grouped_df.select('train_ids', 'test_ids').rows():\n",
    "    model_preds = model.predict_output_word(train_ids, topn=(TOP_K + len(train_ids)))\n",
    "    if model_preds is None:\n",
    "        hitrate_list.append(0)\n",
    "        continue\n",
    "        \n",
    "    y_rec = [pred[0] for pred in model_preds if pred[0] not in train_ids]\n",
    "    hitrate_list.append(user_hitrate(y_rel, y_rec))\n",
    "\n",
    "mean_ap, mean_hitrate = evaluate_model(model)\n",
    "print(f'MAP@{TOP_K} = {mean_ap:.4f} Hitrate@{TOP_K} = {mean_hitrate:.4f}')"
   ]
  },
  {
   "cell_type": "markdown",
   "id": "a0919e08",
   "metadata": {},
   "source": [
    "## Сохраним рекомендации в redis"
   ]
  },
  {
   "cell_type": "markdown",
   "id": "ae695a38",
   "metadata": {},
   "source": [
    "В реальных системах в качестве идентификаторов скорее всего будет использоваться uuid, тогда как при обучении удобно использовать представление в виде целых чисел.\n",
    "\n",
    "Одним из вариантов работы с идентификаторами является создание словарей `user_ids_mapping` и `user_ids_inverse_mapping`, где первый делает преобразование _uuid -> int_, а второй _int -> uuid_.\n",
    "\n",
    "Давайте просимулируем реальную рекомендательную систему и загрузим рекомендации в **redis**."
   ]
  },
  {
   "cell_type": "code",
   "execution_count": 9,
   "id": "31253774",
   "metadata": {
    "scrolled": true
   },
   "outputs": [],
   "source": [
    "user_ids_inverse_mapping = {k: uuid.uuid4() for k in ratings['user_id'].unique()}\n",
    "item_ids_inverse_mapping = {k: uuid.uuid4() for k in ratings['item_id'].unique()}"
   ]
  },
  {
   "cell_type": "code",
   "execution_count": 13,
   "id": "b6dab58c",
   "metadata": {
    "scrolled": true
   },
   "outputs": [],
   "source": [
    "# если redis запущен в том же окружении, то можно использовать localhost\n",
    "# иначе, измените host на ip-адресс сервера с запущенным redis\n",
    "r = redis.Redis(host='localhost', db=0)\n",
    "used_memory_before = r.info('memory')['used_memory']"
   ]
  },
  {
   "cell_type": "code",
   "execution_count": 14,
   "id": "4e7c6adb",
   "metadata": {
    "scrolled": true
   },
   "outputs": [],
   "source": [
    "TOP_K = 100  # сохраним топ-100 рекомендаций\n",
    "\n",
    "for user_id, train_ids in grouped_df.select('user_id', 'train_ids').rows():\n",
    "    model_preds = model.predict_output_word(train_ids, topn=(TOP_K + len(train_ids)))\n",
    "    if model_preds is None:\n",
    "        continue\n",
    "        \n",
    "    y_rec = [pred[0] for pred in model_preds if pred[0] not in train_ids]\n",
    "    r.rpush(\n",
    "        str(user_ids_inverse_mapping[user_id]),\n",
    "        *[str(item_ids_inverse_mapping[item_id]) for item_id in y_rec]\n",
    "    )"
   ]
  },
  {
   "cell_type": "code",
   "execution_count": 15,
   "id": "da36979b",
   "metadata": {
    "scrolled": true
   },
   "outputs": [
    {
     "data": {
      "text/plain": [
       "[b'fe99625b-9d3f-4cd6-a0cf-f718646a7318',\n",
       " b'238f70b5-09be-4220-b86d-8e8bd7d89099',\n",
       " b'7fd55bd5-f77c-4f45-b3d4-e008bb193c1a',\n",
       " b'58f7de35-0fbc-4b6f-900e-69865d33030c',\n",
       " b'cb562984-b3d8-4523-87b6-cb8eaec8e083',\n",
       " b'2b86535d-0175-4345-a7b9-a730ef70e80e',\n",
       " b'b3711e98-b96d-431e-98bf-1c4f2b38021f',\n",
       " b'ac374fea-7aad-46da-af7b-1435c769b35f',\n",
       " b'eebc547e-bd11-46db-9a17-5d5f224bbeac',\n",
       " b'5461eb58-a836-48b2-a691-c7773a9a1d01',\n",
       " b'4c48de2e-a3e2-4aa2-92d6-3091f6cfa66f',\n",
       " b'17960fc9-58c5-474b-849b-1d3343ae0878',\n",
       " b'37ceac17-2f2c-494f-b442-f0469375acce',\n",
       " b'6363813d-e1dc-4ac2-9062-da0e87bcfb6d',\n",
       " b'a68c2ac0-fa4c-4182-8af2-a7435098e658',\n",
       " b'57243f1d-1c6a-4a19-adc4-97e57e588389',\n",
       " b'aa7b5cdc-ea58-4354-b8de-60dbe6cc19c3',\n",
       " b'ec9261fc-402b-4f49-9e8c-89443084c85c',\n",
       " b'4b533ec7-02d4-4e52-a56d-90f15018e685',\n",
       " b'0c9e9bee-0b26-4df6-9160-8fd53959ec26',\n",
       " b'37685ac6-ed01-4682-a484-6c19f380ea98',\n",
       " b'cbf5ee26-b81f-44ab-bf28-29a18d4f1078',\n",
       " b'b7867d5c-d6b8-4e54-b1e9-d34ab0f51e78',\n",
       " b'4c5db45a-a588-422a-ae44-5fc7b57965bb',\n",
       " b'6d088162-9302-40cd-96c4-cfefaddecf43',\n",
       " b'7a8f6b65-e2fd-4d8a-bb61-b54eee8b3737',\n",
       " b'c96c91ea-f166-4e17-bb23-d47b79e4d856',\n",
       " b'4b6ae6f9-7379-48d1-825d-8fd7b8016836',\n",
       " b'af0327a6-5f18-4b45-8bb1-dfef670c0719',\n",
       " b'92cdc644-7e50-4411-bbf9-15124842bb55',\n",
       " b'f6e7552f-f68b-49c5-a956-1bdcd70dc9f3',\n",
       " b'6e9db2c9-0d4c-41e3-8f7e-e81e189f0182',\n",
       " b'28de115d-8024-469c-b624-eff842457b67',\n",
       " b'6dcc2dbb-774e-4eb3-ae5a-87c8a42f555d',\n",
       " b'2b80b397-bbc1-45fc-8e5c-548ee40ee445',\n",
       " b'b16dc87f-9567-4e1d-87b0-955054e198be',\n",
       " b'd3917cac-d7e7-474c-8866-cf2820687568',\n",
       " b'485a7d78-a504-4dd2-99c7-24cf6e3f724c',\n",
       " b'14ca5819-02ea-4cef-91ee-17ce98147b2e',\n",
       " b'e2efa792-cd11-4793-8537-60e45b89452b',\n",
       " b'7e1313da-b78e-4102-bfaf-8c500b732753',\n",
       " b'f66dac27-d2b2-429b-96e2-8f88e6b1eb6b',\n",
       " b'b5f8ca90-d876-49df-97bc-148346855208',\n",
       " b'5f7f5da8-b991-4e2b-9b27-b10839db3c07',\n",
       " b'92e50390-79f1-417e-bcf5-0bbdbab4a140',\n",
       " b'a9eb0f57-7617-4a97-b965-a3ddec5422dd',\n",
       " b'e298ab0b-60e2-4efd-b214-4e29a2daf136',\n",
       " b'60d42baf-d681-4c77-b216-a20ddd303737',\n",
       " b'591009e0-411e-42e8-ae65-4387dcf2dfb4',\n",
       " b'1897e908-034a-42a0-bade-4273b1b702ff',\n",
       " b'f4a6135c-2af1-4789-bbee-dfae792ede1e',\n",
       " b'0c5c1583-f5c1-4e5e-9803-3ef95dabbfa3',\n",
       " b'a565ea3e-cddd-440d-bc6a-89c9b45b4fc9',\n",
       " b'30c5fa5e-07e2-4bf5-b9c0-73a6f532415b',\n",
       " b'e42bbad0-0d68-4462-8598-a7fcbe574879',\n",
       " b'a0d2ace8-8557-4597-a432-e29767dcfd49',\n",
       " b'4efefd8d-4658-4994-9988-dda8139b1403',\n",
       " b'09423d77-5ecb-4939-92f9-7b3a7fd055c2',\n",
       " b'8db0e48a-5490-413a-9395-8c5acfea7c22',\n",
       " b'005e25b0-8294-47b6-a833-3c9adeab0785',\n",
       " b'a5419d62-5822-4b07-a9a0-e226f5bba4f2',\n",
       " b'bbabb1b9-52f2-4f53-a7ee-b34f2cf9b079',\n",
       " b'fb1dbc01-87a2-41f8-9b74-6a30babcff88',\n",
       " b'856026a1-a017-40a4-95ae-3a128322381b',\n",
       " b'8e22c6a9-6a6a-4979-bf0d-7e31b7dc53e0',\n",
       " b'9757af28-0cf3-4cab-9d18-e98409f8d3d9',\n",
       " b'5bd85536-e93b-4ed9-86e8-842e221e4a88',\n",
       " b'1d5a067a-362e-4fce-81d8-46fc58cd0c24',\n",
       " b'9671782e-53de-405b-8e4e-8b69ae4a796f',\n",
       " b'ceacd930-6d27-40ad-a104-c380c7a426db',\n",
       " b'80387a8e-e59d-4f11-8a76-b0a8a4b8d9cc',\n",
       " b'a94bf8b9-eda5-4a69-8dea-c7e2dcba3365',\n",
       " b'7fa8b8ca-74a0-4839-b89a-29bd5962b05b',\n",
       " b'b3a3db8f-c2ad-4cbe-b67e-30380adc9464',\n",
       " b'08c7e3ce-2249-4103-8711-21ebbad19a8a',\n",
       " b'dd3613c6-50d6-4ba4-ba44-b634016a8124',\n",
       " b'26a749c8-6268-4bb8-8e16-68c2efbdee8d',\n",
       " b'f4067946-90c7-4932-82e2-3748dd08c86e',\n",
       " b'16c51f76-e57a-4d8d-9289-f565ea7d8902',\n",
       " b'f4eb637f-766f-4f8e-a380-f25dbf2e8779',\n",
       " b'cccc6b85-04a4-4160-a782-c2dbf1ab0a7d',\n",
       " b'af9def8a-a256-404f-960d-cd3d5d4f4e5f',\n",
       " b'af946df2-59bb-41d4-ba24-f5cba26c88a9',\n",
       " b'5ef42ecb-03f0-4333-9992-1ee7a903e786',\n",
       " b'd46031b2-add0-45da-b768-89110f3392d4',\n",
       " b'3ce7cbca-ea89-4522-ac74-08da3130c2e2',\n",
       " b'3468f3a1-6e3f-497c-bf03-3b7f410428ed',\n",
       " b'ce786962-1c85-44ff-b788-8138769e14f8',\n",
       " b'2f3d6fc3-735e-4d37-8fb4-dd0cf941fca1',\n",
       " b'7baa4864-1e70-4879-8d09-370cd5ad9740',\n",
       " b'522e82fc-1a0c-4674-baa2-ceff1a77217a',\n",
       " b'4f715a5b-561e-4221-9cc3-dfd9ac2426a8',\n",
       " b'dee192aa-c307-4d7e-b803-9491cc6ed545',\n",
       " b'3ee18454-53b3-46ec-8ce9-4ff9f20a2881',\n",
       " b'd9201feb-b351-44b7-8e8a-8cd06d0e3f03',\n",
       " b'258d53ca-0428-46c1-aec8-f5d56f0b2ecb',\n",
       " b'd9dfeca4-0e81-4c73-b3e8-abbc22be864e',\n",
       " b'8d9ba4eb-beb5-4672-b63c-5295215147da',\n",
       " b'd5275287-b8d1-4b0c-a4bb-992c10f4d089',\n",
       " b'21fa5d40-8543-4cb8-9853-52640602d174',\n",
       " b'48f8d102-1260-417c-bb3d-e339c151c02d']"
      ]
     },
     "execution_count": 15,
     "metadata": {},
     "output_type": "execute_result"
    }
   ],
   "source": [
    "# прочитаем сохраненные рекомендации по ключу user_id\n",
    "r.lrange(str(user_ids_inverse_mapping[1]), 0, TOP_K)"
   ]
  },
  {
   "cell_type": "code",
   "execution_count": 16,
   "id": "9b3213b1",
   "metadata": {},
   "outputs": [
    {
     "data": {
      "text/plain": [
       "4415048"
      ]
     },
     "execution_count": 16,
     "metadata": {},
     "output_type": "execute_result"
    }
   ],
   "source": [
    "r.info('memory')['used_memory'] - used_memory_before"
   ]
  },
  {
   "cell_type": "markdown",
   "id": "ce0024ea",
   "metadata": {},
   "source": [
    "Потратили около 5Мб на сохранение рекомендаций"
   ]
  },
  {
   "cell_type": "code",
   "execution_count": 17,
   "id": "3bc77bd5",
   "metadata": {},
   "outputs": [],
   "source": [
    "r = redis.Redis(db=1)\n",
    "used_memory_before = r.info('memory')['used_memory']"
   ]
  },
  {
   "cell_type": "code",
   "execution_count": 18,
   "id": "6a2574db",
   "metadata": {},
   "outputs": [],
   "source": [
    "TOP_K = 100  # сохраним топ-100 рекомендаций\n",
    "\n",
    "for user_id, train_ids in grouped_df.select('user_id', 'train_ids').rows():\n",
    "    model_preds = model.predict_output_word(train_ids, topn=(TOP_K + len(train_ids)))\n",
    "    if model_preds is None:\n",
    "        continue\n",
    "        \n",
    "    y_rec = [pred[0] for pred in model_preds if pred[0] not in train_ids]\n",
    "    r.rpush(\n",
    "        user_ids_inverse_mapping[user_id].bytes,\n",
    "        *[item_ids_inverse_mapping[item_id].bytes for item_id in y_rec]\n",
    "    )"
   ]
  },
  {
   "cell_type": "code",
   "execution_count": 19,
   "id": "9bca08cb",
   "metadata": {
    "scrolled": true
   },
   "outputs": [
    {
     "data": {
      "text/plain": [
       "[UUID('fe99625b-9d3f-4cd6-a0cf-f718646a7318'),\n",
       " UUID('238f70b5-09be-4220-b86d-8e8bd7d89099'),\n",
       " UUID('7fd55bd5-f77c-4f45-b3d4-e008bb193c1a'),\n",
       " UUID('58f7de35-0fbc-4b6f-900e-69865d33030c'),\n",
       " UUID('cb562984-b3d8-4523-87b6-cb8eaec8e083'),\n",
       " UUID('2b86535d-0175-4345-a7b9-a730ef70e80e'),\n",
       " UUID('b3711e98-b96d-431e-98bf-1c4f2b38021f'),\n",
       " UUID('ac374fea-7aad-46da-af7b-1435c769b35f'),\n",
       " UUID('eebc547e-bd11-46db-9a17-5d5f224bbeac'),\n",
       " UUID('5461eb58-a836-48b2-a691-c7773a9a1d01'),\n",
       " UUID('4c48de2e-a3e2-4aa2-92d6-3091f6cfa66f'),\n",
       " UUID('17960fc9-58c5-474b-849b-1d3343ae0878'),\n",
       " UUID('37ceac17-2f2c-494f-b442-f0469375acce'),\n",
       " UUID('6363813d-e1dc-4ac2-9062-da0e87bcfb6d'),\n",
       " UUID('a68c2ac0-fa4c-4182-8af2-a7435098e658'),\n",
       " UUID('57243f1d-1c6a-4a19-adc4-97e57e588389'),\n",
       " UUID('aa7b5cdc-ea58-4354-b8de-60dbe6cc19c3'),\n",
       " UUID('ec9261fc-402b-4f49-9e8c-89443084c85c'),\n",
       " UUID('4b533ec7-02d4-4e52-a56d-90f15018e685'),\n",
       " UUID('0c9e9bee-0b26-4df6-9160-8fd53959ec26'),\n",
       " UUID('37685ac6-ed01-4682-a484-6c19f380ea98'),\n",
       " UUID('cbf5ee26-b81f-44ab-bf28-29a18d4f1078'),\n",
       " UUID('b7867d5c-d6b8-4e54-b1e9-d34ab0f51e78'),\n",
       " UUID('4c5db45a-a588-422a-ae44-5fc7b57965bb'),\n",
       " UUID('6d088162-9302-40cd-96c4-cfefaddecf43'),\n",
       " UUID('7a8f6b65-e2fd-4d8a-bb61-b54eee8b3737'),\n",
       " UUID('c96c91ea-f166-4e17-bb23-d47b79e4d856'),\n",
       " UUID('4b6ae6f9-7379-48d1-825d-8fd7b8016836'),\n",
       " UUID('af0327a6-5f18-4b45-8bb1-dfef670c0719'),\n",
       " UUID('92cdc644-7e50-4411-bbf9-15124842bb55'),\n",
       " UUID('f6e7552f-f68b-49c5-a956-1bdcd70dc9f3'),\n",
       " UUID('6e9db2c9-0d4c-41e3-8f7e-e81e189f0182'),\n",
       " UUID('28de115d-8024-469c-b624-eff842457b67'),\n",
       " UUID('6dcc2dbb-774e-4eb3-ae5a-87c8a42f555d'),\n",
       " UUID('2b80b397-bbc1-45fc-8e5c-548ee40ee445'),\n",
       " UUID('b16dc87f-9567-4e1d-87b0-955054e198be'),\n",
       " UUID('d3917cac-d7e7-474c-8866-cf2820687568'),\n",
       " UUID('485a7d78-a504-4dd2-99c7-24cf6e3f724c'),\n",
       " UUID('14ca5819-02ea-4cef-91ee-17ce98147b2e'),\n",
       " UUID('e2efa792-cd11-4793-8537-60e45b89452b'),\n",
       " UUID('7e1313da-b78e-4102-bfaf-8c500b732753'),\n",
       " UUID('f66dac27-d2b2-429b-96e2-8f88e6b1eb6b'),\n",
       " UUID('b5f8ca90-d876-49df-97bc-148346855208'),\n",
       " UUID('5f7f5da8-b991-4e2b-9b27-b10839db3c07'),\n",
       " UUID('92e50390-79f1-417e-bcf5-0bbdbab4a140'),\n",
       " UUID('a9eb0f57-7617-4a97-b965-a3ddec5422dd'),\n",
       " UUID('e298ab0b-60e2-4efd-b214-4e29a2daf136'),\n",
       " UUID('60d42baf-d681-4c77-b216-a20ddd303737'),\n",
       " UUID('591009e0-411e-42e8-ae65-4387dcf2dfb4'),\n",
       " UUID('1897e908-034a-42a0-bade-4273b1b702ff'),\n",
       " UUID('f4a6135c-2af1-4789-bbee-dfae792ede1e'),\n",
       " UUID('0c5c1583-f5c1-4e5e-9803-3ef95dabbfa3'),\n",
       " UUID('a565ea3e-cddd-440d-bc6a-89c9b45b4fc9'),\n",
       " UUID('30c5fa5e-07e2-4bf5-b9c0-73a6f532415b'),\n",
       " UUID('e42bbad0-0d68-4462-8598-a7fcbe574879'),\n",
       " UUID('a0d2ace8-8557-4597-a432-e29767dcfd49'),\n",
       " UUID('4efefd8d-4658-4994-9988-dda8139b1403'),\n",
       " UUID('09423d77-5ecb-4939-92f9-7b3a7fd055c2'),\n",
       " UUID('8db0e48a-5490-413a-9395-8c5acfea7c22'),\n",
       " UUID('005e25b0-8294-47b6-a833-3c9adeab0785'),\n",
       " UUID('a5419d62-5822-4b07-a9a0-e226f5bba4f2'),\n",
       " UUID('bbabb1b9-52f2-4f53-a7ee-b34f2cf9b079'),\n",
       " UUID('fb1dbc01-87a2-41f8-9b74-6a30babcff88'),\n",
       " UUID('856026a1-a017-40a4-95ae-3a128322381b'),\n",
       " UUID('8e22c6a9-6a6a-4979-bf0d-7e31b7dc53e0'),\n",
       " UUID('9757af28-0cf3-4cab-9d18-e98409f8d3d9'),\n",
       " UUID('5bd85536-e93b-4ed9-86e8-842e221e4a88'),\n",
       " UUID('1d5a067a-362e-4fce-81d8-46fc58cd0c24'),\n",
       " UUID('9671782e-53de-405b-8e4e-8b69ae4a796f'),\n",
       " UUID('ceacd930-6d27-40ad-a104-c380c7a426db'),\n",
       " UUID('80387a8e-e59d-4f11-8a76-b0a8a4b8d9cc'),\n",
       " UUID('a94bf8b9-eda5-4a69-8dea-c7e2dcba3365'),\n",
       " UUID('7fa8b8ca-74a0-4839-b89a-29bd5962b05b'),\n",
       " UUID('b3a3db8f-c2ad-4cbe-b67e-30380adc9464'),\n",
       " UUID('08c7e3ce-2249-4103-8711-21ebbad19a8a'),\n",
       " UUID('dd3613c6-50d6-4ba4-ba44-b634016a8124'),\n",
       " UUID('26a749c8-6268-4bb8-8e16-68c2efbdee8d'),\n",
       " UUID('f4067946-90c7-4932-82e2-3748dd08c86e'),\n",
       " UUID('16c51f76-e57a-4d8d-9289-f565ea7d8902'),\n",
       " UUID('f4eb637f-766f-4f8e-a380-f25dbf2e8779'),\n",
       " UUID('cccc6b85-04a4-4160-a782-c2dbf1ab0a7d'),\n",
       " UUID('af9def8a-a256-404f-960d-cd3d5d4f4e5f'),\n",
       " UUID('af946df2-59bb-41d4-ba24-f5cba26c88a9'),\n",
       " UUID('5ef42ecb-03f0-4333-9992-1ee7a903e786'),\n",
       " UUID('d46031b2-add0-45da-b768-89110f3392d4'),\n",
       " UUID('3ce7cbca-ea89-4522-ac74-08da3130c2e2'),\n",
       " UUID('3468f3a1-6e3f-497c-bf03-3b7f410428ed'),\n",
       " UUID('ce786962-1c85-44ff-b788-8138769e14f8'),\n",
       " UUID('2f3d6fc3-735e-4d37-8fb4-dd0cf941fca1'),\n",
       " UUID('7baa4864-1e70-4879-8d09-370cd5ad9740'),\n",
       " UUID('522e82fc-1a0c-4674-baa2-ceff1a77217a'),\n",
       " UUID('4f715a5b-561e-4221-9cc3-dfd9ac2426a8'),\n",
       " UUID('dee192aa-c307-4d7e-b803-9491cc6ed545'),\n",
       " UUID('3ee18454-53b3-46ec-8ce9-4ff9f20a2881'),\n",
       " UUID('d9201feb-b351-44b7-8e8a-8cd06d0e3f03'),\n",
       " UUID('258d53ca-0428-46c1-aec8-f5d56f0b2ecb'),\n",
       " UUID('d9dfeca4-0e81-4c73-b3e8-abbc22be864e'),\n",
       " UUID('8d9ba4eb-beb5-4672-b63c-5295215147da'),\n",
       " UUID('d5275287-b8d1-4b0c-a4bb-992c10f4d089'),\n",
       " UUID('21fa5d40-8543-4cb8-9853-52640602d174'),\n",
       " UUID('48f8d102-1260-417c-bb3d-e339c151c02d')]"
      ]
     },
     "execution_count": 19,
     "metadata": {},
     "output_type": "execute_result"
    }
   ],
   "source": [
    "# прочитаем сохраненные рекомендации по ключу user_id\n",
    "# для этого сначала преобразуем user_uuid в байты, а затем байты в item_uuid\n",
    "[\n",
    "    uuid.UUID(bytes=item_id_bytes, version=4)\n",
    "    for item_id_bytes in r.lrange(user_ids_inverse_mapping[1].bytes, 0, TOP_K)\n",
    "]"
   ]
  },
  {
   "cell_type": "code",
   "execution_count": 20,
   "id": "5484b62e",
   "metadata": {},
   "outputs": [
    {
     "data": {
      "text/plain": [
       "2175672"
      ]
     },
     "execution_count": 20,
     "metadata": {},
     "output_type": "execute_result"
    }
   ],
   "source": [
    "r.info('memory')['used_memory'] - used_memory_before"
   ]
  },
  {
   "cell_type": "markdown",
   "id": "296e8b47",
   "metadata": {},
   "source": [
    "Потратили в 2 раза меньше памяти для сохранения рекомендаций 🎉🎉"
   ]
  }
 ],
 "metadata": {
  "kernelspec": {
   "display_name": "Python 3",
   "language": "python",
   "name": "python3"
  },
  "language_info": {
   "codemirror_mode": {
    "name": "ipython",
    "version": 3
   },
   "file_extension": ".py",
   "mimetype": "text/x-python",
   "name": "python",
   "nbconvert_exporter": "python",
   "pygments_lexer": "ipython3",
   "version": "3.9.7"
  }
 },
 "nbformat": 4,
 "nbformat_minor": 5
}
