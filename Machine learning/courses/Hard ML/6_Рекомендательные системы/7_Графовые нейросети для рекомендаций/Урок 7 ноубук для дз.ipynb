{
 "cells": [
  {
   "cell_type": "code",
   "execution_count": 4,
   "id": "31b889ab",
   "metadata": {},
   "outputs": [],
   "source": [
    "import numpy as np\n",
    "import polars as pl\n",
    "from tqdm import tqdm\n",
    "\n",
    "from typing import List, Any\n",
    "\n",
    "import scipy.sparse as sp\n",
    "from sklearn.model_selection import train_test_split\n",
    "\n",
    "import random\n",
    "from collections import Counter"
   ]
  },
  {
   "cell_type": "code",
   "execution_count": 3,
   "id": "b37e982e",
   "metadata": {
    "scrolled": true
   },
   "outputs": [
    {
     "data": {
      "text/html": [
       "<div><style>\n",
       ".dataframe > thead > tr > th,\n",
       ".dataframe > tbody > tr > td {\n",
       "  text-align: right;\n",
       "}\n",
       "</style>\n",
       "<small>shape: (5_745_124, 2)</small><table border=\"1\" class=\"dataframe\"><thead><tr><th>uid</th><th>friend_uid</th></tr><tr><td>i64</td><td>i64</td></tr></thead><tbody><tr><td>93464</td><td>114312</td></tr><tr><td>93464</td><td>103690</td></tr><tr><td>93464</td><td>108045</td></tr><tr><td>93464</td><td>116128</td></tr><tr><td>93464</td><td>94113</td></tr><tr><td>93464</td><td>101668</td></tr><tr><td>93464</td><td>118820</td></tr><tr><td>93464</td><td>93617</td></tr><tr><td>93464</td><td>97587</td></tr><tr><td>93464</td><td>101941</td></tr><tr><td>93464</td><td>104574</td></tr><tr><td>93464</td><td>104636</td></tr><tr><td>&hellip;</td><td>&hellip;</td></tr><tr><td>96484</td><td>17519</td></tr><tr><td>89317</td><td>17519</td></tr><tr><td>40932</td><td>17519</td></tr><tr><td>29417</td><td>17519</td></tr><tr><td>48879</td><td>17519</td></tr><tr><td>22513</td><td>17519</td></tr><tr><td>109044</td><td>17519</td></tr><tr><td>41972</td><td>17519</td></tr><tr><td>47606</td><td>17519</td></tr><tr><td>93433</td><td>17519</td></tr><tr><td>105725</td><td>17519</td></tr><tr><td>88318</td><td>17519</td></tr></tbody></table></div>"
      ],
      "text/plain": [
       "shape: (5_745_124, 2)\n",
       "┌────────┬────────────┐\n",
       "│ uid    ┆ friend_uid │\n",
       "│ ---    ┆ ---        │\n",
       "│ i64    ┆ i64        │\n",
       "╞════════╪════════════╡\n",
       "│ 93464  ┆ 114312     │\n",
       "│ 93464  ┆ 103690     │\n",
       "│ 93464  ┆ 108045     │\n",
       "│ 93464  ┆ 116128     │\n",
       "│ …      ┆ …          │\n",
       "│ 47606  ┆ 17519      │\n",
       "│ 93433  ┆ 17519      │\n",
       "│ 105725 ┆ 17519      │\n",
       "│ 88318  ┆ 17519      │\n",
       "└────────┴────────────┘"
      ]
     },
     "execution_count": 3,
     "metadata": {},
     "output_type": "execute_result"
    }
   ],
   "source": [
    "data = pl.read_parquet('train.parquet')\n",
    "# датафрейм с обратными ребрами\n",
    "data_rev = (\n",
    "    data\n",
    "    .rename({'uid': 'friend_uid', 'friend_uid': 'uid'})\n",
    "    .select('uid', 'friend_uid')\n",
    ")\n",
    "\n",
    "# соединим все в один граф\n",
    "data = pl.concat([data, data_rev])\n",
    "data"
   ]
  },
  {
   "cell_type": "markdown",
   "id": "4f643e51",
   "metadata": {},
   "source": [
    "Данные состоят из двух колонок:\n",
    "\n",
    "- `uid` – идентификатор пользователя\n",
    "- `friend_uid` – идентификатор друга этого пользователя\n",
    "\n",
    "Нашей задачей будет порекомендовать возможных друзей, для оценки вашего решения будет использоваться метрика Recall@10, равная проценту верно угаданных друзей"
   ]
  },
  {
   "cell_type": "code",
   "execution_count": 15,
   "id": "6a44c79c",
   "metadata": {},
   "outputs": [],
   "source": [
    "TOP_K = 20\n",
    "RANDOM_STATE = 42\n",
    "\n",
    "SUBMISSION_PATH = 'submission.parquet'\n",
    "\n",
    "\n",
    "def user_intersection(y_rel: List[Any], y_rec: List[Any], k: int = 10) -> int:\n",
    "    \"\"\"\n",
    "    :param y_rel: relevant items\n",
    "    :param y_rec: recommended items\n",
    "    :param k: number of top recommended items\n",
    "    :return: number of items in intersection of y_rel and y_rec (truncated to top-K)\n",
    "    \"\"\"\n",
    "    return len(set(y_rec[:k]).intersection(set(y_rel)))\n",
    "\n",
    "\n",
    "def user_recall(y_rel: List[Any], y_rec: List[Any], k: int = 10) -> float:\n",
    "    \"\"\"\n",
    "    :param y_rel: relevant items\n",
    "    :param y_rec: recommended items\n",
    "    :param k: number of top recommended items\n",
    "    :return: percentage of found relevant items through recommendations\n",
    "    \"\"\"\n",
    "    return user_intersection(y_rel, y_rec, k) / min(k, len(set(y_rel)))"
   ]
  },
  {
   "cell_type": "markdown",
   "id": "e1aee09d",
   "metadata": {},
   "source": [
    "## Валидация\n",
    "\n",
    "Так как у нас нет временной последовательности и рекомендации друзей не так сильно зависят от временной составляющей, в качестве валидации можно использовать случайно выбранные ребра в графе (при этом для каждого пользователя будет равная пропорция друзей в валидации, которую можно достичь с помощью stratify параметра)"
   ]
  },
  {
   "cell_type": "code",
   "execution_count": 16,
   "id": "c251a688",
   "metadata": {},
   "outputs": [],
   "source": [
    "# зафиксируем генератор случайных чисел\n",
    "random.seed(RANDOM_STATE)\n",
    "np.random.seed(RANDOM_STATE)"
   ]
  },
  {
   "cell_type": "code",
   "execution_count": 6,
   "id": "3b93e044",
   "metadata": {
    "scrolled": true
   },
   "outputs": [
    {
     "data": {
      "text/html": [
       "<div><style>\n",
       ".dataframe > thead > tr > th,\n",
       ".dataframe > tbody > tr > td {\n",
       "  text-align: right;\n",
       "}\n",
       "</style>\n",
       "<small>shape: (5_166_881, 2)</small><table border=\"1\" class=\"dataframe\"><thead><tr><th>uid</th><th>friend_uid</th></tr><tr><td>i64</td><td>i64</td></tr></thead><tbody><tr><td>62053</td><td>63575</td></tr><tr><td>31895</td><td>59356</td></tr><tr><td>97127</td><td>32271</td></tr><tr><td>89</td><td>11703</td></tr><tr><td>105178</td><td>47188</td></tr><tr><td>116127</td><td>52662</td></tr><tr><td>33824</td><td>15235</td></tr><tr><td>23690</td><td>103992</td></tr><tr><td>94660</td><td>45709</td></tr><tr><td>20872</td><td>60890</td></tr><tr><td>16860</td><td>107284</td></tr><tr><td>72933</td><td>24768</td></tr><tr><td>&hellip;</td><td>&hellip;</td></tr><tr><td>75573</td><td>85971</td></tr><tr><td>89685</td><td>35585</td></tr><tr><td>62183</td><td>105868</td></tr><tr><td>32336</td><td>44964</td></tr><tr><td>50410</td><td>92648</td></tr><tr><td>70625</td><td>16115</td></tr><tr><td>114497</td><td>88075</td></tr><tr><td>6338</td><td>75957</td></tr><tr><td>33790</td><td>82938</td></tr><tr><td>102133</td><td>62986</td></tr><tr><td>46217</td><td>78893</td></tr><tr><td>7857</td><td>101269</td></tr></tbody></table></div>"
      ],
      "text/plain": [
       "shape: (5_166_881, 2)\n",
       "┌────────┬────────────┐\n",
       "│ uid    ┆ friend_uid │\n",
       "│ ---    ┆ ---        │\n",
       "│ i64    ┆ i64        │\n",
       "╞════════╪════════════╡\n",
       "│ 62053  ┆ 63575      │\n",
       "│ 31895  ┆ 59356      │\n",
       "│ 97127  ┆ 32271      │\n",
       "│ 89     ┆ 11703      │\n",
       "│ …      ┆ …          │\n",
       "│ 33790  ┆ 82938      │\n",
       "│ 102133 ┆ 62986      │\n",
       "│ 46217  ┆ 78893      │\n",
       "│ 7857   ┆ 101269     │\n",
       "└────────┴────────────┘"
      ]
     },
     "execution_count": 6,
     "metadata": {},
     "output_type": "execute_result"
    }
   ],
   "source": [
    "# отфильтруем тех пользователей, у которых только один друг :(\n",
    "# для того, чтобы в тренировочной выборке и валидации было хотя бы по одному другу\n",
    "friends_count = data.groupby('uid').count()\n",
    "filtered_uid = set(friends_count.filter(pl.col('count') > 1)['uid'].to_list())\n",
    "\n",
    "data_filtered = data.filter(pl.col('uid').is_in(filtered_uid))\n",
    "\n",
    "# случайно выбираем ребра для валидационной выборки\n",
    "train_df, test_df = train_test_split(\n",
    "    data_filtered.filter(pl.col('uid').is_in(filtered_uid)),\n",
    "    stratify=data_filtered['uid'],\n",
    "    test_size=0.1,\n",
    "    random_state=RANDOM_STATE\n",
    ")\n",
    "\n",
    "train_df"
   ]
  },
  {
   "cell_type": "markdown",
   "id": "5c087e4d",
   "metadata": {},
   "source": [
    "## Бейзлайн (Random)"
   ]
  },
  {
   "cell_type": "code",
   "execution_count": 198,
   "id": "3991b838",
   "metadata": {},
   "outputs": [
    {
     "name": "stdout",
     "output_type": "stream",
     "text": [
      "среднее число uid в user_history: 36\n"
     ]
    }
   ],
   "source": [
    "grouped_df = (\n",
    "    test_df\n",
    "    .groupby('uid')\n",
    "    .agg(pl.col('friend_uid').alias('y_rel'))\n",
    "    .join(\n",
    "        train_df\n",
    "        .groupby('uid')\n",
    "        .agg(pl.col('friend_uid').alias('user_history')),\n",
    "        'uid',\n",
    "        how='left'\n",
    "    )\n",
    ")\n",
    "\n",
    "median_seq_len = int(grouped_df['user_history'].apply(len).median())\n",
    "print(f\"среднее число uid в user_history: {median_seq_len}\")"
   ]
  },
  {
   "cell_type": "code",
   "execution_count": 8,
   "id": "e628fb9a",
   "metadata": {
    "scrolled": true
   },
   "outputs": [],
   "source": [
    "n_users = train_df['uid'].max() + 1\n",
    "\n",
    "# количество друзей у каждого пользователя\n",
    "friends_count = np.zeros(n_users)\n",
    "for uid, count in Counter(train_df['uid']).items():\n",
    "    friends_count[uid] = count\n",
    "    \n",
    "friends_count /= sum(friends_count)"
   ]
  },
  {
   "cell_type": "code",
   "execution_count": 9,
   "id": "d342b007",
   "metadata": {},
   "outputs": [
    {
     "name": "stderr",
     "output_type": "stream",
     "text": [
      "100%|██████████| 92562/92562 [00:08<00:00, 10456.45it/s]"
     ]
    },
    {
     "name": "stdout",
     "output_type": "stream",
     "text": [
      "Recall@10 = 0.0003110784946203369\n"
     ]
    },
    {
     "name": "stderr",
     "output_type": "stream",
     "text": [
      "\n"
     ]
    }
   ],
   "source": [
    "recall_list = []\n",
    "recs = np.random.choice(n_users, size=(n_users, TOP_K + median_seq_len), p=friends_count)\n",
    "\n",
    "for user_id, y_rel, user_history in tqdm(grouped_df.rows()):\n",
    "    y_rec = [uid for uid in recs[user_id] if uid not in user_history]\n",
    "    recall_list.append(user_recall(y_rel, y_rec))\n",
    "    \n",
    "print(f'Recall@{TOP_K} = {np.mean(recall_list)}')"
   ]
  },
  {
   "cell_type": "markdown",
   "id": "fe750b0a",
   "metadata": {},
   "source": [
    "## Построим рекомендации"
   ]
  },
  {
   "cell_type": "code",
   "execution_count": 34,
   "id": "43934001",
   "metadata": {},
   "outputs": [],
   "source": [
    "# посчитаем вероятности уже по всем имеющимся данным\n",
    "n_users = data['uid'].max() + 1\n",
    "\n",
    "# количество друзей у каждого пользователя\n",
    "friends_count = np.zeros(n_users)\n",
    "for uid, count in Counter(data['uid']).items():\n",
    "    friends_count[uid] = count\n",
    "    \n",
    "friends_count /= sum(friends_count)"
   ]
  },
  {
   "cell_type": "code",
   "execution_count": 11,
   "id": "68f64050",
   "metadata": {
    "scrolled": true
   },
   "outputs": [
    {
     "name": "stderr",
     "output_type": "stream",
     "text": [
      "100%|██████████| 85483/85483 [00:08<00:00, 9611.88it/s] \n"
     ]
    },
    {
     "data": {
      "text/html": [
       "<div><style>\n",
       ".dataframe > thead > tr > th,\n",
       ".dataframe > tbody > tr > td {\n",
       "  text-align: right;\n",
       "}\n",
       "</style>\n",
       "<small>shape: (85_483, 2)</small><table border=\"1\" class=\"dataframe\"><thead><tr><th>user_id</th><th>y_recs</th></tr><tr><td>i64</td><td>list[i64]</td></tr></thead><tbody><tr><td>0</td><td>[75174, 40482, … 107746]</td></tr><tr><td>1</td><td>[27663, 82181, … 37095]</td></tr><tr><td>3</td><td>[105454, 12906, … 43868]</td></tr><tr><td>4</td><td>[2627, 60169, … 108457]</td></tr><tr><td>5</td><td>[29164, 53357, … 33803]</td></tr><tr><td>6</td><td>[62015, 44506, … 3835]</td></tr><tr><td>7</td><td>[74067, 79534, … 53438]</td></tr><tr><td>8</td><td>[75913, 31803, … 32356]</td></tr><tr><td>9</td><td>[26079, 73565, … 111629]</td></tr><tr><td>10</td><td>[46650, 34491, … 116342]</td></tr><tr><td>11</td><td>[39738, 69724, … 78448]</td></tr><tr><td>13</td><td>[12205, 20978, … 117256]</td></tr><tr><td>&hellip;</td><td>&hellip;</td></tr><tr><td>118445</td><td>[116847, 54517, … 1498]</td></tr><tr><td>118449</td><td>[114302, 88814, … 67228]</td></tr><tr><td>118563</td><td>[105582, 86380, … 25311]</td></tr><tr><td>118723</td><td>[64342, 111709, … 30420]</td></tr><tr><td>118725</td><td>[65160, 92357, … 101930]</td></tr><tr><td>119033</td><td>[85811, 41364, … 72538]</td></tr><tr><td>119155</td><td>[87355, 116208, … 93918]</td></tr><tr><td>119383</td><td>[74151, 73700, … 39997]</td></tr><tr><td>119425</td><td>[45097, 13946, … 66505]</td></tr><tr><td>119457</td><td>[48927, 100539, … 86384]</td></tr><tr><td>119486</td><td>[108964, 115849, … 6044]</td></tr><tr><td>119517</td><td>[102088, 54681, … 98159]</td></tr></tbody></table></div>"
      ],
      "text/plain": [
       "shape: (85_483, 2)\n",
       "┌─────────┬──────────────────────────┐\n",
       "│ user_id ┆ y_recs                   │\n",
       "│ ---     ┆ ---                      │\n",
       "│ i64     ┆ list[i64]                │\n",
       "╞═════════╪══════════════════════════╡\n",
       "│ 0       ┆ [75174, 40482, … 107746] │\n",
       "│ 1       ┆ [27663, 82181, … 37095]  │\n",
       "│ 3       ┆ [105454, 12906, … 43868] │\n",
       "│ 4       ┆ [2627, 60169, … 108457]  │\n",
       "│ …       ┆ …                        │\n",
       "│ 119425  ┆ [45097, 13946, … 66505]  │\n",
       "│ 119457  ┆ [48927, 100539, … 86384] │\n",
       "│ 119486  ┆ [108964, 115849, … 6044] │\n",
       "│ 119517  ┆ [102088, 54681, … 98159] │\n",
       "└─────────┴──────────────────────────┘"
      ]
     },
     "execution_count": 11,
     "metadata": {},
     "output_type": "execute_result"
    }
   ],
   "source": [
    "sample_submission = pl.read_parquet('sample_submission.parquet')\n",
    "\n",
    "grouped_df = (\n",
    "    sample_submission.select('uid')\n",
    "    .join(\n",
    "        train_df\n",
    "        .groupby('uid')\n",
    "        .agg(pl.col('friend_uid').alias('user_history')),\n",
    "        'uid',\n",
    "        how='left'\n",
    "    )\n",
    ")\n",
    "\n",
    "submission = []\n",
    "recs = np.random.choice(n_users, size=(n_users, TOP_K + median_seq_len), p=friends_count)\n",
    "\n",
    "for user_id, user_history in tqdm(grouped_df.rows()):\n",
    "    user_history = [] if user_history is None else user_history\n",
    "    \n",
    "    y_rec = [uid for uid in recs[user_id] if uid not in user_history]\n",
    "    submission.append((user_id, y_rec))\n",
    "    \n",
    "submission = pl.DataFrame(submission, schema=['user_id', 'y_recs'])\n",
    "submission.write_parquet('submission.parquet')\n",
    "submission"
   ]
  },
  {
   "cell_type": "markdown",
   "id": "80abe174",
   "metadata": {},
   "source": [
    "# Начинаем выполнять задание"
   ]
  },
  {
   "cell_type": "markdown",
   "id": "b2e90258",
   "metadata": {},
   "source": [
    "Дано:\n",
    "- информация о связях между пользователями\n",
    "\n",
    "Надо:\n",
    "- составить эмбеддинги пользователей\n",
    "- для каждого пользователя найти наиболее похожих других пользователей, не являющихся сейчас друзьями"
   ]
  },
  {
   "cell_type": "markdown",
   "id": "2722bc15",
   "metadata": {},
   "source": [
    "## Составляем эмбеддинги пользователей"
   ]
  },
  {
   "cell_type": "code",
   "execution_count": 15,
   "id": "3c751f9e",
   "metadata": {},
   "outputs": [
    {
     "data": {
      "text/html": [
       "<div><style>\n",
       ".dataframe > thead > tr > th,\n",
       ".dataframe > tbody > tr > td {\n",
       "  text-align: right;\n",
       "}\n",
       "</style>\n",
       "<small>shape: (5_166_881, 2)</small><table border=\"1\" class=\"dataframe\"><thead><tr><th>uid</th><th>friend_uid</th></tr><tr><td>i64</td><td>i64</td></tr></thead><tbody><tr><td>62053</td><td>63575</td></tr><tr><td>31895</td><td>59356</td></tr><tr><td>97127</td><td>32271</td></tr><tr><td>89</td><td>11703</td></tr><tr><td>105178</td><td>47188</td></tr><tr><td>116127</td><td>52662</td></tr><tr><td>33824</td><td>15235</td></tr><tr><td>23690</td><td>103992</td></tr><tr><td>94660</td><td>45709</td></tr><tr><td>20872</td><td>60890</td></tr><tr><td>16860</td><td>107284</td></tr><tr><td>72933</td><td>24768</td></tr><tr><td>&hellip;</td><td>&hellip;</td></tr><tr><td>75573</td><td>85971</td></tr><tr><td>89685</td><td>35585</td></tr><tr><td>62183</td><td>105868</td></tr><tr><td>32336</td><td>44964</td></tr><tr><td>50410</td><td>92648</td></tr><tr><td>70625</td><td>16115</td></tr><tr><td>114497</td><td>88075</td></tr><tr><td>6338</td><td>75957</td></tr><tr><td>33790</td><td>82938</td></tr><tr><td>102133</td><td>62986</td></tr><tr><td>46217</td><td>78893</td></tr><tr><td>7857</td><td>101269</td></tr></tbody></table></div>"
      ],
      "text/plain": [
       "shape: (5_166_881, 2)\n",
       "┌────────┬────────────┐\n",
       "│ uid    ┆ friend_uid │\n",
       "│ ---    ┆ ---        │\n",
       "│ i64    ┆ i64        │\n",
       "╞════════╪════════════╡\n",
       "│ 62053  ┆ 63575      │\n",
       "│ 31895  ┆ 59356      │\n",
       "│ 97127  ┆ 32271      │\n",
       "│ 89     ┆ 11703      │\n",
       "│ …      ┆ …          │\n",
       "│ 33790  ┆ 82938      │\n",
       "│ 102133 ┆ 62986      │\n",
       "│ 46217  ┆ 78893      │\n",
       "│ 7857   ┆ 101269     │\n",
       "└────────┴────────────┘"
      ]
     },
     "execution_count": 15,
     "metadata": {},
     "output_type": "execute_result"
    }
   ],
   "source": [
    "train_df"
   ]
  },
  {
   "cell_type": "code",
   "execution_count": 28,
   "id": "f024b230",
   "metadata": {},
   "outputs": [
    {
     "name": "stderr",
     "output_type": "stream",
     "text": [
      "/home/jupyter-pavel.lyubovin/.conda/envs/recsys/lib/python3.9/site-packages/tqdm/auto.py:21: TqdmWarning: IProgress not found. Please update jupyter and ipywidgets. See https://ipywidgets.readthedocs.io/en/stable/user_install.html\n",
      "  from .autonotebook import tqdm as notebook_tqdm\n"
     ]
    }
   ],
   "source": [
    "import torch\n",
    "from torch_geometric.data import Data, HeteroData\n",
    "from torch_geometric.nn import Node2Vec, SAGEConv, LightGCN, to_hetero\n",
    "import pickle\n",
    "from sklearn.metrics.pairwise import cosine_distances"
   ]
  },
  {
   "cell_type": "code",
   "execution_count": 29,
   "id": "2887281e",
   "metadata": {},
   "outputs": [
    {
     "name": "stdout",
     "output_type": "stream",
     "text": [
      "device: cpu\n"
     ]
    }
   ],
   "source": [
    "# будем использовать cuda, если доступны вычисления на gpu\n",
    "device = 'cuda' if torch.cuda.is_available() else 'cpu'\n",
    "print(f'device: {device}')"
   ]
  },
  {
   "cell_type": "code",
   "execution_count": 24,
   "id": "9dc36fcd",
   "metadata": {},
   "outputs": [
    {
     "data": {
      "text/plain": [
       "Data(x=[120061], edge_index=[2, 5166881])"
      ]
     },
     "execution_count": 24,
     "metadata": {},
     "output_type": "execute_result"
    }
   ],
   "source": [
    "# Не знаю, как лучше кодировать вершины, пусть будут просто нули\n",
    "x = torch.tensor([0] * n_users, dtype=torch.float)\n",
    "\n",
    "# Ребра\n",
    "train_df\n",
    "edge_index = torch.tensor([train_df['uid'].to_numpy(),\n",
    "                           train_df['friend_uid'].to_numpy()], dtype=torch.long)\n",
    "\n",
    "# Формирую граф\n",
    "torch_data = Data(x=x, edge_index=edge_index)#.T.contiguous())\n",
    "torch_data"
   ]
  },
  {
   "cell_type": "code",
   "execution_count": 28,
   "id": "99938492",
   "metadata": {},
   "outputs": [
    {
     "name": "stdout",
     "output_type": "stream",
     "text": [
      "Epoch: 010, Loss: 1.0625\n",
      "Epoch: 020, Loss: 1.0559\n",
      "Epoch: 030, Loss: 1.0549\n",
      "Epoch: 040, Loss: 1.0546\n",
      "Epoch: 050, Loss: 1.0538\n",
      "Epoch: 060, Loss: 1.0537\n",
      "Epoch: 070, Loss: 1.0538\n",
      "Epoch: 080, Loss: 1.0534\n",
      "Epoch: 090, Loss: 1.0533\n",
      "Epoch: 100, Loss: 1.0534\n"
     ]
    }
   ],
   "source": [
    "model = Node2Vec(\n",
    "    torch_data.edge_index,\n",
    "    embedding_dim=128,  # размер эмбеддинга вершины\n",
    "    walk_length=20,  # длина случайного блуждания\n",
    "    context_size=10,  # размер окна из случайного блуждания (как в w2v)\n",
    "    walks_per_node=10,  # количество случайных блужданий из одной вершины\n",
    "    num_negative_samples=1,  # количество негативных примеров на один позитивный\n",
    "    p=1.0,  # параметр вероятности вернуться в предыдущую вершину\n",
    "    q=1.0,  # параметр вероятности исследовать граф вглубь\n",
    "    sparse=True,\n",
    ").to(device)\n",
    "\n",
    "# класс Node2Vec предоставляет сразу генератор случайного блуждания\n",
    "loader = model.loader(batch_size=512, shuffle=True, num_workers=4)\n",
    "optimizer = torch.optim.SparseAdam(list(model.parameters()), lr=0.01)\n",
    "\n",
    "\n",
    "def train():\n",
    "    model.train()\n",
    "    total_loss = 0\n",
    "    for pos_rw, neg_rw in loader:\n",
    "        # pos_rw – последовательность из случайного блуждания\n",
    "        # neg_rw – случайные негативные примеры\n",
    "        optimizer.zero_grad()\n",
    "        loss = model.loss(pos_rw.to(device), neg_rw.to(device))\n",
    "        loss.backward()\n",
    "        optimizer.step()\n",
    "        total_loss += loss.item()\n",
    "    return total_loss / len(loader)\n",
    "\n",
    "\n",
    "# @torch.no_grad()\n",
    "# def test():\n",
    "#     model.eval()\n",
    "#     z = model()\n",
    "#     acc = model.test(\n",
    "#         train_z=z[data.train_mask],\n",
    "#         train_y=data.y[data.train_mask],\n",
    "#         test_z=z[data.test_mask],\n",
    "#         test_y=data.y[data.test_mask],\n",
    "#         max_iter=150,\n",
    "#     )\n",
    "#     return acc\n",
    "\n",
    "\n",
    "for epoch in range(1, 101):\n",
    "    loss = train()\n",
    "    # acc = test()\n",
    "    if epoch % 10 == 0:\n",
    "        # print(f'Epoch: {epoch:03d}, Loss: {loss:.4f}, Acc: {acc:.4f}')\n",
    "        print(f'Epoch: {epoch:03d}, Loss: {loss:.4f}')\n",
    "\n",
    "\n",
    "# @torch.no_grad()\n",
    "# def plot_points(colors):\n",
    "#     model.eval()\n",
    "#     z = model().cpu().numpy()\n",
    "#     z = TSNE(n_components=2).fit_transform(z)\n",
    "#     y = data.y.cpu().numpy()\n",
    "\n",
    "#     plt.figure(figsize=(8, 8))\n",
    "#     for i in range(dataset.num_classes):\n",
    "#         plt.scatter(z[y == i, 0], z[y == i, 1], s=20, color=colors[i])\n",
    "#     plt.axis('off')\n",
    "#     plt.show()\n",
    "\n",
    "\n",
    "# colors = [\n",
    "#     '#ffc0cb', '#bada55', '#008080', '#420420', '#7fe5f0', '#065535', '#ffd700'\n",
    "# ]\n",
    "# plot_points(colors)"
   ]
  },
  {
   "cell_type": "code",
   "execution_count": 30,
   "id": "300970fe",
   "metadata": {},
   "outputs": [],
   "source": [
    "model.eval()\n",
    "\n",
    "# Сохранение модели\n",
    "with open('model_node2vec.pkl', 'wb') as handle:\n",
    "    pickle.dump(model, handle)"
   ]
  },
  {
   "cell_type": "code",
   "execution_count": 31,
   "id": "a3497685",
   "metadata": {},
   "outputs": [],
   "source": [
    "# Чтение модели\n",
    "with open('model_node2vec.pkl', 'rb') as handle:\n",
    "    model_node2vec = pickle.load(handle)"
   ]
  },
  {
   "cell_type": "code",
   "execution_count": 33,
   "id": "a09db3bb",
   "metadata": {},
   "outputs": [
    {
     "data": {
      "text/plain": [
       "array([[ 0.2795245 ,  0.05894143, -0.06608918, ..., -0.20425828,\n",
       "         0.10098294, -0.01275784],\n",
       "       [-0.28717944,  0.21700333,  0.13922796, ..., -0.2867469 ,\n",
       "        -0.2612505 , -0.2065052 ],\n",
       "       [-0.5303003 , -0.2508898 ,  0.17089486, ..., -0.01172561,\n",
       "         0.06361678, -0.11384055],\n",
       "       ...,\n",
       "       [-0.13796169, -0.07290526, -0.10769265, ...,  0.01244585,\n",
       "         0.08405679,  0.09053381],\n",
       "       [-0.23562124, -0.10650256,  0.16088043, ...,  0.26392296,\n",
       "        -0.3374337 , -0.12853004],\n",
       "       [-0.39085642,  0.2202326 ,  0.18887302, ..., -0.06343409,\n",
       "         0.22059086,  0.26544124]], dtype=float32)"
      ]
     },
     "execution_count": 33,
     "metadata": {},
     "output_type": "execute_result"
    }
   ],
   "source": [
    "# Предполагаю, что вот так можно вытащить все эмбеддинги всех клиентов\n",
    "model_node2vec.eval()\n",
    "z = model_node2vec().cpu().detach().numpy()\n",
    "z"
   ]
  },
  {
   "cell_type": "code",
   "execution_count": 34,
   "id": "14779011",
   "metadata": {},
   "outputs": [
    {
     "data": {
      "text/plain": [
       "(120061, 128)"
      ]
     },
     "execution_count": 34,
     "metadata": {},
     "output_type": "execute_result"
    }
   ],
   "source": [
    "z.shape"
   ]
  },
  {
   "cell_type": "code",
   "execution_count": 48,
   "id": "140140f7",
   "metadata": {},
   "outputs": [],
   "source": [
    "sample_submission = pl.read_parquet('sample_submission.parquet')\n",
    "\n",
    "grouped_df = (\n",
    "    test_df\n",
    "    .groupby('uid')\n",
    "    .agg(pl.col('friend_uid').alias('y_rel'))\n",
    "    .join(\n",
    "        train_df\n",
    "        .groupby('uid')\n",
    "        .agg(pl.col('friend_uid').alias('user_history')),\n",
    "        'uid',\n",
    "        how='left'\n",
    "    )\n",
    ")\n",
    "\n",
    "submission = []\n",
    "\n",
    "grouped_df_pandas = grouped_df.to_pandas()"
   ]
  },
  {
   "cell_type": "code",
   "execution_count": 50,
   "id": "568a55f3",
   "metadata": {},
   "outputs": [],
   "source": [
    "recall_list = []\n",
    "\n",
    "CHUNK = 1000\n",
    "for i in tqdm(range(121)):\n",
    "    distance = cosine_distances(z[i * CHUNK : (i + 1) * CHUNK], z)\n",
    "\n",
    "    recs = distance.argsort()\n",
    "    recs = recs[:, :TOP_K + median_seq_len]\n",
    "\n",
    "    for user_id in range(i * CHUNK, min((i + 1) * CHUNK, z.shape[0])):\n",
    "        df = grouped_df_pandas[grouped_df_pandas['uid'] == user_id]\n",
    "        if df.shape[0]:\n",
    "            user_history = df['user_history'].values[0]\n",
    "            y_rel = df['y_rel'].values[0]\n",
    "        # Если нет такого юзера в grouped_df_pandas или его история is None\n",
    "        if user_history is None:\n",
    "            user_history = []\n",
    "            y_rel = []\n",
    "        # Добавляю в user_history id самого пользователя, чтоы потом его отфильтровать\n",
    "        user_history = np.concatenate([user_history, [user_id]])\n",
    "        \n",
    "        y_rec = [uid for uid in recs[user_id - i * CHUNK] if uid not in user_history]\n",
    "        submission.append((user_id, y_rec))\n",
    "\n",
    "        recall_list.append(user_recall(y_rel, y_rec))\n",
    "\n",
    "print(f'Recall@{TOP_K} = {np.mean(recall_list)}') \n"
   ]
  },
  {
   "cell_type": "code",
   "execution_count": 227,
   "id": "49b89569",
   "metadata": {},
   "outputs": [
    {
     "data": {
      "text/html": [
       "<div><style>\n",
       ".dataframe > thead > tr > th,\n",
       ".dataframe > tbody > tr > td {\n",
       "  text-align: right;\n",
       "}\n",
       "</style>\n",
       "<small>shape: (130_064, 2)</small><table border=\"1\" class=\"dataframe\"><thead><tr><th>user_id</th><th>y_recs</th></tr><tr><td>i64</td><td>list[i64]</td></tr></thead><tbody><tr><td>0</td><td>[79793, 71727, … 38370]</td></tr><tr><td>1</td><td>[52180, 78660, … 14676]</td></tr><tr><td>2</td><td>[60344, 24024, … 61973]</td></tr><tr><td>0</td><td>[79793, 71727, … 38370]</td></tr><tr><td>1</td><td>[52180, 78660, … 14676]</td></tr><tr><td>2</td><td>[60344, 24024, … 61973]</td></tr><tr><td>3</td><td>[55591, 109130, … 37287]</td></tr><tr><td>4</td><td>[57778, 82171, … 68721]</td></tr><tr><td>5</td><td>[100609, 33398, … 18562]</td></tr><tr><td>6</td><td>[85087, 78915, … 1903]</td></tr><tr><td>7</td><td>[98968, 13883, … 60568]</td></tr><tr><td>8</td><td>[6635, 43123, … 53164]</td></tr><tr><td>&hellip;</td><td>&hellip;</td></tr><tr><td>120049</td><td>[87787, 41197, … 90366]</td></tr><tr><td>120050</td><td>[76811, 94047, … 102101]</td></tr><tr><td>120051</td><td>[65066, 20502, … 37605]</td></tr><tr><td>120052</td><td>[56281, 66269, … 36764]</td></tr><tr><td>120053</td><td>[28056, 18769, … 4926]</td></tr><tr><td>120054</td><td>[33045, 84996, … 95154]</td></tr><tr><td>120055</td><td>[74993, 32376, … 85439]</td></tr><tr><td>120056</td><td>[77207, 106315, … 14859]</td></tr><tr><td>120057</td><td>[66183, 80746, … 70389]</td></tr><tr><td>120058</td><td>[76397, 17851, … 96987]</td></tr><tr><td>120059</td><td>[25708, 84925, … 52270]</td></tr><tr><td>120060</td><td>[18498, 58570, … 114912]</td></tr></tbody></table></div>"
      ],
      "text/plain": [
       "shape: (130_064, 2)\n",
       "┌─────────┬──────────────────────────┐\n",
       "│ user_id ┆ y_recs                   │\n",
       "│ ---     ┆ ---                      │\n",
       "│ i64     ┆ list[i64]                │\n",
       "╞═════════╪══════════════════════════╡\n",
       "│ 0       ┆ [79793, 71727, … 38370]  │\n",
       "│ 1       ┆ [52180, 78660, … 14676]  │\n",
       "│ 2       ┆ [60344, 24024, … 61973]  │\n",
       "│ 0       ┆ [79793, 71727, … 38370]  │\n",
       "│ …       ┆ …                        │\n",
       "│ 120057  ┆ [66183, 80746, … 70389]  │\n",
       "│ 120058  ┆ [76397, 17851, … 96987]  │\n",
       "│ 120059  ┆ [25708, 84925, … 52270]  │\n",
       "│ 120060  ┆ [18498, 58570, … 114912] │\n",
       "└─────────┴──────────────────────────┘"
      ]
     },
     "execution_count": 227,
     "metadata": {},
     "output_type": "execute_result"
    }
   ],
   "source": [
    "submission = pl.DataFrame(submission, schema=['user_id', 'y_recs'])\n",
    "submission.write_parquet('submission.parquet')\n",
    "submission"
   ]
  },
  {
   "cell_type": "markdown",
   "id": "3e3e2f26",
   "metadata": {},
   "source": [
    "Результат:\n",
    "\n",
    "Recall@20 чкть менее 6%.\n",
    "\n",
    "А надо 18%"
   ]
  },
  {
   "cell_type": "markdown",
   "id": "c3a506da",
   "metadata": {},
   "source": [
    "## Попробую подобрать параметры для Node2Vec с помощью Оптуны на маленьком датасете\n",
    "\n",
    "Если не получится, то буду искать ответы за пределами данных курса"
   ]
  },
  {
   "cell_type": "code",
   "execution_count": 84,
   "id": "4a13770c",
   "metadata": {},
   "outputs": [
    {
     "data": {
      "text/html": [
       "<div><style>\n",
       ".dataframe > thead > tr > th,\n",
       ".dataframe > tbody > tr > td {\n",
       "  text-align: right;\n",
       "}\n",
       "</style>\n",
       "<small>shape: (5_745_124, 2)</small><table border=\"1\" class=\"dataframe\"><thead><tr><th>uid</th><th>friend_uid</th></tr><tr><td>i64</td><td>i64</td></tr></thead><tbody><tr><td>93464</td><td>114312</td></tr><tr><td>93464</td><td>103690</td></tr><tr><td>93464</td><td>108045</td></tr><tr><td>93464</td><td>116128</td></tr><tr><td>93464</td><td>94113</td></tr><tr><td>93464</td><td>101668</td></tr><tr><td>93464</td><td>118820</td></tr><tr><td>93464</td><td>93617</td></tr><tr><td>93464</td><td>97587</td></tr><tr><td>93464</td><td>101941</td></tr><tr><td>93464</td><td>104574</td></tr><tr><td>93464</td><td>104636</td></tr><tr><td>&hellip;</td><td>&hellip;</td></tr><tr><td>96484</td><td>17519</td></tr><tr><td>89317</td><td>17519</td></tr><tr><td>40932</td><td>17519</td></tr><tr><td>29417</td><td>17519</td></tr><tr><td>48879</td><td>17519</td></tr><tr><td>22513</td><td>17519</td></tr><tr><td>109044</td><td>17519</td></tr><tr><td>41972</td><td>17519</td></tr><tr><td>47606</td><td>17519</td></tr><tr><td>93433</td><td>17519</td></tr><tr><td>105725</td><td>17519</td></tr><tr><td>88318</td><td>17519</td></tr></tbody></table></div>"
      ],
      "text/plain": [
       "shape: (5_745_124, 2)\n",
       "┌────────┬────────────┐\n",
       "│ uid    ┆ friend_uid │\n",
       "│ ---    ┆ ---        │\n",
       "│ i64    ┆ i64        │\n",
       "╞════════╪════════════╡\n",
       "│ 93464  ┆ 114312     │\n",
       "│ 93464  ┆ 103690     │\n",
       "│ 93464  ┆ 108045     │\n",
       "│ 93464  ┆ 116128     │\n",
       "│ …      ┆ …          │\n",
       "│ 47606  ┆ 17519      │\n",
       "│ 93433  ┆ 17519      │\n",
       "│ 105725 ┆ 17519      │\n",
       "│ 88318  ┆ 17519      │\n",
       "└────────┴────────────┘"
      ]
     },
     "execution_count": 84,
     "metadata": {},
     "output_type": "execute_result"
    }
   ],
   "source": [
    "data = pl.read_parquet('train.parquet')\n",
    "\n",
    "# Делаю подвыборку 10_000 юзеров\n",
    "# N_USERS_IN_PART = 10_000\n",
    "N_USERS_IN_PART = data.shape[0]\n",
    "\n",
    "data = data.filter((pl.col('uid') < N_USERS_IN_PART) & (pl.col('friend_uid') < N_USERS_IN_PART))\n",
    "\n",
    "# датафрейм с обратными ребрами\n",
    "data_rev = (\n",
    "    data\n",
    "    .rename({'uid': 'friend_uid', 'friend_uid': 'uid'})\n",
    "    .select('uid', 'friend_uid')\n",
    ")\n",
    "\n",
    "# соединим все в один граф\n",
    "data = pl.concat([data, data_rev])\n",
    "data"
   ]
  },
  {
   "cell_type": "code",
   "execution_count": 85,
   "id": "db67e0ff",
   "metadata": {},
   "outputs": [
    {
     "data": {
      "text/html": [
       "<div><style>\n",
       ".dataframe > thead > tr > th,\n",
       ".dataframe > tbody > tr > td {\n",
       "  text-align: right;\n",
       "}\n",
       "</style>\n",
       "<small>shape: (5_166_881, 2)</small><table border=\"1\" class=\"dataframe\"><thead><tr><th>uid</th><th>friend_uid</th></tr><tr><td>i64</td><td>i64</td></tr></thead><tbody><tr><td>62053</td><td>63575</td></tr><tr><td>31895</td><td>59356</td></tr><tr><td>97127</td><td>32271</td></tr><tr><td>89</td><td>11703</td></tr><tr><td>105178</td><td>47188</td></tr><tr><td>116127</td><td>52662</td></tr><tr><td>33824</td><td>15235</td></tr><tr><td>23690</td><td>103992</td></tr><tr><td>94660</td><td>45709</td></tr><tr><td>20872</td><td>60890</td></tr><tr><td>16860</td><td>107284</td></tr><tr><td>72933</td><td>24768</td></tr><tr><td>&hellip;</td><td>&hellip;</td></tr><tr><td>75573</td><td>85971</td></tr><tr><td>89685</td><td>35585</td></tr><tr><td>62183</td><td>105868</td></tr><tr><td>32336</td><td>44964</td></tr><tr><td>50410</td><td>92648</td></tr><tr><td>70625</td><td>16115</td></tr><tr><td>114497</td><td>88075</td></tr><tr><td>6338</td><td>75957</td></tr><tr><td>33790</td><td>82938</td></tr><tr><td>102133</td><td>62986</td></tr><tr><td>46217</td><td>78893</td></tr><tr><td>7857</td><td>101269</td></tr></tbody></table></div>"
      ],
      "text/plain": [
       "shape: (5_166_881, 2)\n",
       "┌────────┬────────────┐\n",
       "│ uid    ┆ friend_uid │\n",
       "│ ---    ┆ ---        │\n",
       "│ i64    ┆ i64        │\n",
       "╞════════╪════════════╡\n",
       "│ 62053  ┆ 63575      │\n",
       "│ 31895  ┆ 59356      │\n",
       "│ 97127  ┆ 32271      │\n",
       "│ 89     ┆ 11703      │\n",
       "│ …      ┆ …          │\n",
       "│ 33790  ┆ 82938      │\n",
       "│ 102133 ┆ 62986      │\n",
       "│ 46217  ┆ 78893      │\n",
       "│ 7857   ┆ 101269     │\n",
       "└────────┴────────────┘"
      ]
     },
     "execution_count": 85,
     "metadata": {},
     "output_type": "execute_result"
    }
   ],
   "source": [
    "# отфильтруем тех пользователей, у которых только один друг :(\n",
    "# для того, чтобы в тренировочной выборке и валидации было хотя бы по одному другу\n",
    "friends_count = data.groupby('uid').count()\n",
    "filtered_uid = set(friends_count.filter(pl.col('count') > 1)['uid'].to_list())\n",
    "\n",
    "data_filtered = data.filter(pl.col('uid').is_in(filtered_uid))\n",
    "\n",
    "# случайно выбираем ребра для валидационной выборки\n",
    "train_df, test_df = train_test_split(\n",
    "    data_filtered,#.filter(pl.col('uid').is_in(filtered_uid)),\n",
    "    stratify=data_filtered['uid'],\n",
    "    test_size=0.1,\n",
    "    random_state=RANDOM_STATE\n",
    ")\n",
    "\n",
    "train_df"
   ]
  },
  {
   "cell_type": "code",
   "execution_count": 86,
   "id": "aa0fd04a",
   "metadata": {},
   "outputs": [],
   "source": [
    "# посчитаем вероятности уже по всем имеющимся данным\n",
    "n_users = data['uid'].max() + 1\n",
    "\n",
    "# количество друзей у каждого пользователя\n",
    "friends_count = np.zeros(n_users)\n",
    "for uid, count in Counter(data['uid']).items():\n",
    "    friends_count[uid] = count\n",
    "    \n",
    "friends_count /= sum(friends_count)"
   ]
  },
  {
   "cell_type": "code",
   "execution_count": 87,
   "id": "8210c624",
   "metadata": {},
   "outputs": [
    {
     "data": {
      "text/plain": [
       "Data(x=[120061], edge_index=[2, 5166881])"
      ]
     },
     "execution_count": 87,
     "metadata": {},
     "output_type": "execute_result"
    }
   ],
   "source": [
    "# Не знаю, как лучше кодировать вершины, пусть будут просто нули\n",
    "x = torch.tensor([0] * n_users, dtype=torch.float)\n",
    "\n",
    "# Ребра\n",
    "edge_index = torch.tensor([train_df['uid'].to_numpy(),\n",
    "                           train_df['friend_uid'].to_numpy()], dtype=torch.long)\n",
    "\n",
    "# Формирую граф\n",
    "torch_data = Data(x=x, edge_index=edge_index)#.T.contiguous())\n",
    "torch_data"
   ]
  },
  {
   "cell_type": "code",
   "execution_count": 88,
   "id": "e5c4f4ab",
   "metadata": {},
   "outputs": [],
   "source": [
    "grouped_df = (\n",
    "    test_df\n",
    "    .groupby('uid')\n",
    "    .agg(pl.col('friend_uid').alias('y_rel'))\n",
    "    .join(\n",
    "        train_df\n",
    "        .groupby('uid')\n",
    "        .agg(pl.col('friend_uid').alias('user_history')),\n",
    "        'uid',\n",
    "        how='left'\n",
    "    )\n",
    ")\n",
    "grouped_df_pandas = grouped_df.to_pandas()\n",
    "\n",
    "# Костыль\n",
    "median_seq_len = 36"
   ]
  },
  {
   "cell_type": "code",
   "execution_count": 89,
   "id": "21e4bfd7",
   "metadata": {},
   "outputs": [
    {
     "data": {
      "text/html": [
       "<div>\n",
       "<style scoped>\n",
       "    .dataframe tbody tr th:only-of-type {\n",
       "        vertical-align: middle;\n",
       "    }\n",
       "\n",
       "    .dataframe tbody tr th {\n",
       "        vertical-align: top;\n",
       "    }\n",
       "\n",
       "    .dataframe thead th {\n",
       "        text-align: right;\n",
       "    }\n",
       "</style>\n",
       "<table border=\"1\" class=\"dataframe\">\n",
       "  <thead>\n",
       "    <tr style=\"text-align: right;\">\n",
       "      <th></th>\n",
       "      <th>uid</th>\n",
       "      <th>y_rel</th>\n",
       "      <th>user_history</th>\n",
       "    </tr>\n",
       "  </thead>\n",
       "  <tbody>\n",
       "    <tr>\n",
       "      <th>0</th>\n",
       "      <td>86624</td>\n",
       "      <td>[26828, 10788]</td>\n",
       "      <td>[12811, 9091, 56344, 39979, 26230, 30958, 1370...</td>\n",
       "    </tr>\n",
       "    <tr>\n",
       "      <th>1</th>\n",
       "      <td>76608</td>\n",
       "      <td>[111287]</td>\n",
       "      <td>[76584, 81295, 15784, 8507, 1338]</td>\n",
       "    </tr>\n",
       "    <tr>\n",
       "      <th>2</th>\n",
       "      <td>58688</td>\n",
       "      <td>[111655, 111579, 54258, 79169, 44950, 113027, ...</td>\n",
       "      <td>[9763, 50117, 40601, 19973, 83101, 16136, 9023...</td>\n",
       "    </tr>\n",
       "    <tr>\n",
       "      <th>3</th>\n",
       "      <td>9888</td>\n",
       "      <td>[39233, 60668, 26779, 15052]</td>\n",
       "      <td>[20177, 65780, 101579, 66047, 25379, 30505, 88...</td>\n",
       "    </tr>\n",
       "    <tr>\n",
       "      <th>4</th>\n",
       "      <td>101472</td>\n",
       "      <td>[73966, 97168, 5190, 32552, 10425, 35435, 2427...</td>\n",
       "      <td>[35572, 49060, 102361, 2765, 90929, 99688, 128...</td>\n",
       "    </tr>\n",
       "    <tr>\n",
       "      <th>...</th>\n",
       "      <td>...</td>\n",
       "      <td>...</td>\n",
       "      <td>...</td>\n",
       "    </tr>\n",
       "    <tr>\n",
       "      <th>92557</th>\n",
       "      <td>87615</td>\n",
       "      <td>[51709, 103014, 35561, 41273, 2767, 4850, 8573...</td>\n",
       "      <td>[73882, 84648, 106415, 38173, 43941, 75240, 38...</td>\n",
       "    </tr>\n",
       "    <tr>\n",
       "      <th>92558</th>\n",
       "      <td>54847</td>\n",
       "      <td>[33784, 43352, 61057, 112843, 28105]</td>\n",
       "      <td>[55435, 59127, 75121, 117966, 67600, 80025, 65...</td>\n",
       "    </tr>\n",
       "    <tr>\n",
       "      <th>92559</th>\n",
       "      <td>30815</td>\n",
       "      <td>[37464, 70856, 4578, 117867, 80306, 45387, 102...</td>\n",
       "      <td>[84619, 13683, 104100, 105147, 48529, 25596, 3...</td>\n",
       "    </tr>\n",
       "    <tr>\n",
       "      <th>92560</th>\n",
       "      <td>70047</td>\n",
       "      <td>[37000]</td>\n",
       "      <td>[85071, 36150, 57605, 56935, 23581, 94278, 221...</td>\n",
       "    </tr>\n",
       "    <tr>\n",
       "      <th>92561</th>\n",
       "      <td>60319</td>\n",
       "      <td>[56531]</td>\n",
       "      <td>[32598, 102308, 17571, 50955, 35974, 60752, 11...</td>\n",
       "    </tr>\n",
       "  </tbody>\n",
       "</table>\n",
       "<p>92562 rows × 3 columns</p>\n",
       "</div>"
      ],
      "text/plain": [
       "          uid                                              y_rel  \\\n",
       "0       86624                                     [26828, 10788]   \n",
       "1       76608                                           [111287]   \n",
       "2       58688  [111655, 111579, 54258, 79169, 44950, 113027, ...   \n",
       "3        9888                       [39233, 60668, 26779, 15052]   \n",
       "4      101472  [73966, 97168, 5190, 32552, 10425, 35435, 2427...   \n",
       "...       ...                                                ...   \n",
       "92557   87615  [51709, 103014, 35561, 41273, 2767, 4850, 8573...   \n",
       "92558   54847               [33784, 43352, 61057, 112843, 28105]   \n",
       "92559   30815  [37464, 70856, 4578, 117867, 80306, 45387, 102...   \n",
       "92560   70047                                            [37000]   \n",
       "92561   60319                                            [56531]   \n",
       "\n",
       "                                            user_history  \n",
       "0      [12811, 9091, 56344, 39979, 26230, 30958, 1370...  \n",
       "1                      [76584, 81295, 15784, 8507, 1338]  \n",
       "2      [9763, 50117, 40601, 19973, 83101, 16136, 9023...  \n",
       "3      [20177, 65780, 101579, 66047, 25379, 30505, 88...  \n",
       "4      [35572, 49060, 102361, 2765, 90929, 99688, 128...  \n",
       "...                                                  ...  \n",
       "92557  [73882, 84648, 106415, 38173, 43941, 75240, 38...  \n",
       "92558  [55435, 59127, 75121, 117966, 67600, 80025, 65...  \n",
       "92559  [84619, 13683, 104100, 105147, 48529, 25596, 3...  \n",
       "92560  [85071, 36150, 57605, 56935, 23581, 94278, 221...  \n",
       "92561  [32598, 102308, 17571, 50955, 35974, 60752, 11...  \n",
       "\n",
       "[92562 rows x 3 columns]"
      ]
     },
     "execution_count": 89,
     "metadata": {},
     "output_type": "execute_result"
    }
   ],
   "source": [
    "grouped_df_pandas"
   ]
  },
  {
   "cell_type": "code",
   "execution_count": 91,
   "id": "05e0ec86",
   "metadata": {},
   "outputs": [
    {
     "name": "stderr",
     "output_type": "stream",
     "text": [
      " 10%|█         | 10/100 [1:26:35<19:47:30, 791.67s/it]"
     ]
    },
    {
     "name": "stdout",
     "output_type": "stream",
     "text": [
      "Epoch: 010, Loss: 1.0629, Recall@20: 0.0840\n"
     ]
    },
    {
     "name": "stderr",
     "output_type": "stream",
     "text": [
      " 20%|██        | 20/100 [2:54:07<17:54:52, 806.16s/it]"
     ]
    },
    {
     "name": "stdout",
     "output_type": "stream",
     "text": [
      "Epoch: 020, Loss: 1.0564, Recall@20: 0.1119\n"
     ]
    },
    {
     "name": "stderr",
     "output_type": "stream",
     "text": [
      " 30%|███       | 30/100 [4:19:54<15:35:47, 802.11s/it]"
     ]
    },
    {
     "name": "stdout",
     "output_type": "stream",
     "text": [
      "Epoch: 030, Loss: 1.0557, Recall@20: 0.1036\n"
     ]
    },
    {
     "name": "stderr",
     "output_type": "stream",
     "text": [
      " 40%|████      | 40/100 [5:48:24<13:35:22, 815.37s/it]"
     ]
    },
    {
     "name": "stdout",
     "output_type": "stream",
     "text": [
      "Epoch: 040, Loss: 1.0555, Recall@20: 0.0986\n"
     ]
    },
    {
     "name": "stderr",
     "output_type": "stream",
     "text": [
      " 50%|█████     | 50/100 [7:15:41<11:11:36, 805.93s/it]"
     ]
    },
    {
     "name": "stdout",
     "output_type": "stream",
     "text": [
      "Epoch: 050, Loss: 1.0547, Recall@20: 0.0967\n"
     ]
    },
    {
     "name": "stderr",
     "output_type": "stream",
     "text": [
      " 60%|██████    | 60/100 [8:43:06<8:51:21, 797.03s/it] "
     ]
    },
    {
     "name": "stdout",
     "output_type": "stream",
     "text": [
      "Epoch: 060, Loss: 1.0545, Recall@20: 0.0958\n"
     ]
    },
    {
     "name": "stderr",
     "output_type": "stream",
     "text": [
      " 70%|███████   | 70/100 [10:11:01<6:44:20, 808.68s/it]"
     ]
    },
    {
     "name": "stdout",
     "output_type": "stream",
     "text": [
      "Epoch: 070, Loss: 1.0541, Recall@20: 0.0949\n"
     ]
    },
    {
     "name": "stderr",
     "output_type": "stream",
     "text": [
      " 80%|████████  | 80/100 [11:39:42<4:30:40, 812.04s/it]"
     ]
    },
    {
     "name": "stdout",
     "output_type": "stream",
     "text": [
      "Epoch: 080, Loss: 1.0537, Recall@20: 0.0941\n"
     ]
    },
    {
     "name": "stderr",
     "output_type": "stream",
     "text": [
      " 90%|█████████ | 90/100 [13:05:02<2:11:48, 790.81s/it]"
     ]
    },
    {
     "name": "stdout",
     "output_type": "stream",
     "text": [
      "Epoch: 090, Loss: 1.0536, Recall@20: 0.0933\n"
     ]
    },
    {
     "name": "stderr",
     "output_type": "stream",
     "text": [
      "100%|██████████| 100/100 [14:31:34<00:00, 522.95s/it] "
     ]
    },
    {
     "name": "stdout",
     "output_type": "stream",
     "text": [
      "Epoch: 100, Loss: 1.0535, Recall@20: 0.0922\n"
     ]
    },
    {
     "name": "stderr",
     "output_type": "stream",
     "text": [
      "\n"
     ]
    }
   ],
   "source": [
    "model = Node2Vec(\n",
    "    torch_data.edge_index,\n",
    "    embedding_dim=128,  # размер эмбеддинга вершины\n",
    "    walk_length=20,  # длина случайного блуждания\n",
    "    context_size=10,  # размер окна из случайного блуждания (как в w2v)\n",
    "    walks_per_node=10,  # количество случайных блужданий из одной вершины\n",
    "    num_negative_samples=1,  # количество негативных примеров на один позитивный\n",
    "    p=1.0,  # параметр вероятности вернуться в предыдущую вершину\n",
    "    q=1.0,  # параметр вероятности исследовать граф вглубь\n",
    "    sparse=True,\n",
    ").to(device)\n",
    "\n",
    "# класс Node2Vec предоставляет сразу генератор случайного блуждания\n",
    "loader = model.loader(batch_size=512, shuffle=True, num_workers=32)\n",
    "optimizer = torch.optim.SparseAdam(list(model.parameters()), lr=0.01)\n",
    "\n",
    "\n",
    "def train():\n",
    "    model.train()\n",
    "    total_loss = 0\n",
    "    for pos_rw, neg_rw in loader:\n",
    "        # pos_rw – последовательность из случайного блуждания\n",
    "        # neg_rw – случайные негативные примеры\n",
    "        optimizer.zero_grad()\n",
    "        loss = model.loss(pos_rw.to(device), neg_rw.to(device))\n",
    "        loss.backward()\n",
    "        optimizer.step()\n",
    "        total_loss += loss.item()\n",
    "    return total_loss / len(loader)\n",
    "\n",
    "\n",
    "@torch.no_grad()\n",
    "def test():\n",
    "    \n",
    "    model.eval()\n",
    "    # z = model()\n",
    "    # Предполагаю, что вот так можно вытащить все эмбеддинги всех клиентов\n",
    "    z = model().cpu().detach().numpy()\n",
    "\n",
    "    recall_list = []\n",
    "\n",
    "    CHUNK = 1000\n",
    "    for i in range(((z.shape[0] - 1) // CHUNK) + 1):\n",
    "        distance = cosine_distances(z[i * CHUNK : (i + 1) * CHUNK], z)\n",
    "\n",
    "        recs = distance.argsort()\n",
    "        recs = recs[:, :TOP_K + median_seq_len]\n",
    "\n",
    "        for user_id in range(i * CHUNK, min((i + 1) * CHUNK, z.shape[0])):\n",
    "            df = grouped_df_pandas[grouped_df_pandas['uid'] == user_id]\n",
    "            if df.shape[0]:\n",
    "                user_history = df['user_history'].values[0]\n",
    "                y_rel = df['y_rel'].values[0]\n",
    "            # Если нет такого юзера в grouped_df_pandas или его история is None\n",
    "            else:\n",
    "                user_history = []\n",
    "                y_rel = []\n",
    "            # Добавляю в user_history id самого пользователя, чтоы потом его отфильтровать\n",
    "            user_history = np.concatenate([user_history, [user_id]])\n",
    "            \n",
    "            y_rec = [uid for uid in recs[user_id - i * CHUNK] if uid not in user_history]\n",
    "            # submission.append((user_id, y_rec))\n",
    "\n",
    "            # print(f\"{y_rel = }, {y_rec = }\")\n",
    "\n",
    "            if len(y_rel):\n",
    "                recall_list.append(user_recall(y_rel, y_rec, k=20))\n",
    "\n",
    "    # print(f'Recall@{TOP_K} = {np.mean(recall_list)}') \n",
    "\n",
    "\n",
    "    return np.mean(recall_list)\n",
    "\n",
    "\n",
    "for epoch in tqdm(range(1, 101)):\n",
    "    loss = train()\n",
    "    \n",
    "    if epoch % 10 == 0:\n",
    "        recall_20 = test()\n",
    "        # print(f'Epoch: {epoch:03d}, Loss: {loss:.4f}, Acc: {acc:.4f}')\n",
    "        print(f'Epoch: {epoch:03d}, Loss: {loss:.4f}, Recall@20: {recall_20:.4f}')\n"
   ]
  },
  {
   "cell_type": "code",
   "execution_count": 92,
   "id": "3210621e",
   "metadata": {},
   "outputs": [
    {
     "name": "stderr",
     "output_type": "stream",
     "text": [
      "100%|██████████| 121/121 [23:04<00:00, 11.44s/it]\n"
     ]
    },
    {
     "name": "stdout",
     "output_type": "stream",
     "text": [
      "Recall@20 = 0.049456344479915836\n"
     ]
    },
    {
     "data": {
      "text/html": [
       "<div><style>\n",
       ".dataframe > thead > tr > th,\n",
       ".dataframe > tbody > tr > td {\n",
       "  text-align: right;\n",
       "}\n",
       "</style>\n",
       "<small>shape: (120_061, 2)</small><table border=\"1\" class=\"dataframe\"><thead><tr><th>user_id</th><th>y_recs</th></tr><tr><td>i64</td><td>list[i64]</td></tr></thead><tbody><tr><td>0</td><td>[68034, 79051, … 64157]</td></tr><tr><td>1</td><td>[12009, 44749, … 118393]</td></tr><tr><td>2</td><td>[60598, 15467, … 115276]</td></tr><tr><td>3</td><td>[52256, 109130, … 116129]</td></tr><tr><td>4</td><td>[85427, 50616, … 20847]</td></tr><tr><td>5</td><td>[50151, 11322, … 60942]</td></tr><tr><td>6</td><td>[64142, 103138, … 84218]</td></tr><tr><td>7</td><td>[102537, 42645, … 81471]</td></tr><tr><td>8</td><td>[106972, 93246, … 865]</td></tr><tr><td>9</td><td>[76453, 92119, … 47718]</td></tr><tr><td>10</td><td>[94377, 105728, … 74820]</td></tr><tr><td>11</td><td>[71992, 110017, … 51097]</td></tr><tr><td>&hellip;</td><td>&hellip;</td></tr><tr><td>120049</td><td>[40237, 112827, … 30310]</td></tr><tr><td>120050</td><td>[1461, 14186, … 97671]</td></tr><tr><td>120051</td><td>[76877, 57142, … 19074]</td></tr><tr><td>120052</td><td>[21855, 60364, … 13289]</td></tr><tr><td>120053</td><td>[85269, 86284, … 53201]</td></tr><tr><td>120054</td><td>[84858, 75791, … 90754]</td></tr><tr><td>120055</td><td>[39233, 78442, … 101110]</td></tr><tr><td>120056</td><td>[99696, 44039, … 17836]</td></tr><tr><td>120057</td><td>[66183, 26622, … 18076]</td></tr><tr><td>120058</td><td>[17851, 100331, … 617]</td></tr><tr><td>120059</td><td>[24642, 99233, … 74792]</td></tr><tr><td>120060</td><td>[48557, 92620, … 106969]</td></tr></tbody></table></div>"
      ],
      "text/plain": [
       "shape: (120_061, 2)\n",
       "┌─────────┬───────────────────────────┐\n",
       "│ user_id ┆ y_recs                    │\n",
       "│ ---     ┆ ---                       │\n",
       "│ i64     ┆ list[i64]                 │\n",
       "╞═════════╪═══════════════════════════╡\n",
       "│ 0       ┆ [68034, 79051, … 64157]   │\n",
       "│ 1       ┆ [12009, 44749, … 118393]  │\n",
       "│ 2       ┆ [60598, 15467, … 115276]  │\n",
       "│ 3       ┆ [52256, 109130, … 116129] │\n",
       "│ …       ┆ …                         │\n",
       "│ 120057  ┆ [66183, 26622, … 18076]   │\n",
       "│ 120058  ┆ [17851, 100331, … 617]    │\n",
       "│ 120059  ┆ [24642, 99233, … 74792]   │\n",
       "│ 120060  ┆ [48557, 92620, … 106969]  │\n",
       "└─────────┴───────────────────────────┘"
      ]
     },
     "execution_count": 92,
     "metadata": {},
     "output_type": "execute_result"
    }
   ],
   "source": [
    "sample_submission = pl.read_parquet('sample_submission.parquet')\n",
    "\n",
    "submission = []\n",
    "\n",
    "recall_list = []\n",
    "\n",
    "z = model().cpu().detach().numpy()\n",
    "\n",
    "CHUNK = 1000\n",
    "for i in tqdm(range(121)):\n",
    "    distance = cosine_distances(z[i * CHUNK : (i + 1) * CHUNK], z)\n",
    "\n",
    "    recs = distance.argsort()\n",
    "    recs = recs[:, :TOP_K + median_seq_len]\n",
    "\n",
    "    for user_id in range(i * CHUNK, min((i + 1) * CHUNK, z.shape[0])):\n",
    "        df = grouped_df_pandas[grouped_df_pandas['uid'] == user_id]\n",
    "        if df.shape[0]:\n",
    "            user_history = df['user_history'].values[0]\n",
    "            y_rel = df['y_rel'].values[0]\n",
    "        # Если нет такого юзера в grouped_df_pandas или его история is None\n",
    "        if user_history is None:\n",
    "            user_history = []\n",
    "            y_rel = []\n",
    "        # Добавляю в user_history id самого пользователя, чтоы потом его отфильтровать\n",
    "        user_history = np.concatenate([user_history, [user_id]])\n",
    "        \n",
    "        y_rec = [uid for uid in recs[user_id - i * CHUNK] if uid not in user_history]\n",
    "        submission.append((user_id, y_rec))\n",
    "\n",
    "        recall_list.append(user_recall(y_rel, y_rec))\n",
    "\n",
    "print(f'Recall@{TOP_K} = {np.mean(recall_list)}') \n",
    "\n",
    "submission = pl.DataFrame(submission, schema=['user_id', 'y_recs'])\n",
    "submission.write_parquet('submission.parquet')\n",
    "submission"
   ]
  },
  {
   "cell_type": "code",
   "execution_count": 97,
   "id": "f12ad5ec",
   "metadata": {},
   "outputs": [
    {
     "data": {
      "text/html": [
       "<div>\n",
       "<style scoped>\n",
       "    .dataframe tbody tr th:only-of-type {\n",
       "        vertical-align: middle;\n",
       "    }\n",
       "\n",
       "    .dataframe tbody tr th {\n",
       "        vertical-align: top;\n",
       "    }\n",
       "\n",
       "    .dataframe thead th {\n",
       "        text-align: right;\n",
       "    }\n",
       "</style>\n",
       "<table border=\"1\" class=\"dataframe\">\n",
       "  <thead>\n",
       "    <tr style=\"text-align: right;\">\n",
       "      <th></th>\n",
       "      <th>uid</th>\n",
       "      <th>recs</th>\n",
       "    </tr>\n",
       "  </thead>\n",
       "  <tbody>\n",
       "    <tr>\n",
       "      <th>0</th>\n",
       "      <td>0</td>\n",
       "      <td>[59396, 3593, 91657, 39947, 69650, 106514, 261...</td>\n",
       "    </tr>\n",
       "    <tr>\n",
       "      <th>1</th>\n",
       "      <td>1</td>\n",
       "      <td>[118282, 109076, 69655, 101406, 59934, 99878, ...</td>\n",
       "    </tr>\n",
       "    <tr>\n",
       "      <th>2</th>\n",
       "      <td>3</td>\n",
       "      <td>[15364, 12807, 99340, 97296, 12818, 9750, 1743...</td>\n",
       "    </tr>\n",
       "    <tr>\n",
       "      <th>3</th>\n",
       "      <td>4</td>\n",
       "      <td>[69648, 95770, 50714, 26142, 17952, 1570, 1009...</td>\n",
       "    </tr>\n",
       "    <tr>\n",
       "      <th>4</th>\n",
       "      <td>5</td>\n",
       "      <td>[67591, 42002, 3603, 14882, 94246, 27174, 7210...</td>\n",
       "    </tr>\n",
       "    <tr>\n",
       "      <th>...</th>\n",
       "      <td>...</td>\n",
       "      <td>...</td>\n",
       "    </tr>\n",
       "    <tr>\n",
       "      <th>85478</th>\n",
       "      <td>119383</td>\n",
       "      <td>[15881, 94225, 87072, 8236, 85549, 41006, 5073...</td>\n",
       "    </tr>\n",
       "    <tr>\n",
       "      <th>85479</th>\n",
       "      <td>119425</td>\n",
       "      <td>[52743, 72713, 42011, 59424, 41504, 4141, 2001...</td>\n",
       "    </tr>\n",
       "    <tr>\n",
       "      <th>85480</th>\n",
       "      <td>119457</td>\n",
       "      <td>[58881, 14349, 67098, 54300, 110621, 19487, 18...</td>\n",
       "    </tr>\n",
       "    <tr>\n",
       "      <th>85481</th>\n",
       "      <td>119486</td>\n",
       "      <td>[6144, 33284, 59398, 92678, 3599, 15891, 34323...</td>\n",
       "    </tr>\n",
       "    <tr>\n",
       "      <th>85482</th>\n",
       "      <td>119517</td>\n",
       "      <td>[14848, 60938, 73755, 79388, 51743, 74784, 361...</td>\n",
       "    </tr>\n",
       "  </tbody>\n",
       "</table>\n",
       "<p>85483 rows × 2 columns</p>\n",
       "</div>"
      ],
      "text/plain": [
       "          uid                                               recs\n",
       "0           0  [59396, 3593, 91657, 39947, 69650, 106514, 261...\n",
       "1           1  [118282, 109076, 69655, 101406, 59934, 99878, ...\n",
       "2           3  [15364, 12807, 99340, 97296, 12818, 9750, 1743...\n",
       "3           4  [69648, 95770, 50714, 26142, 17952, 1570, 1009...\n",
       "4           5  [67591, 42002, 3603, 14882, 94246, 27174, 7210...\n",
       "...       ...                                                ...\n",
       "85478  119383  [15881, 94225, 87072, 8236, 85549, 41006, 5073...\n",
       "85479  119425  [52743, 72713, 42011, 59424, 41504, 4141, 2001...\n",
       "85480  119457  [58881, 14349, 67098, 54300, 110621, 19487, 18...\n",
       "85481  119486  [6144, 33284, 59398, 92678, 3599, 15891, 34323...\n",
       "85482  119517  [14848, 60938, 73755, 79388, 51743, 74784, 361...\n",
       "\n",
       "[85483 rows x 2 columns]"
      ]
     },
     "execution_count": 97,
     "metadata": {},
     "output_type": "execute_result"
    }
   ],
   "source": [
    "sample_submission.to_pandas()"
   ]
  },
  {
   "cell_type": "code",
   "execution_count": 98,
   "id": "6cd2b9aa",
   "metadata": {},
   "outputs": [
    {
     "data": {
      "text/html": [
       "<div>\n",
       "<style scoped>\n",
       "    .dataframe tbody tr th:only-of-type {\n",
       "        vertical-align: middle;\n",
       "    }\n",
       "\n",
       "    .dataframe tbody tr th {\n",
       "        vertical-align: top;\n",
       "    }\n",
       "\n",
       "    .dataframe thead th {\n",
       "        text-align: right;\n",
       "    }\n",
       "</style>\n",
       "<table border=\"1\" class=\"dataframe\">\n",
       "  <thead>\n",
       "    <tr style=\"text-align: right;\">\n",
       "      <th></th>\n",
       "      <th>user_id</th>\n",
       "      <th>y_recs</th>\n",
       "    </tr>\n",
       "  </thead>\n",
       "  <tbody>\n",
       "    <tr>\n",
       "      <th>0</th>\n",
       "      <td>0</td>\n",
       "      <td>[68034, 79051, 115056, 74766, 67322, 54883, 11...</td>\n",
       "    </tr>\n",
       "    <tr>\n",
       "      <th>1</th>\n",
       "      <td>1</td>\n",
       "      <td>[12009, 44749, 101936, 96208, 14884, 75484, 11...</td>\n",
       "    </tr>\n",
       "    <tr>\n",
       "      <th>2</th>\n",
       "      <td>2</td>\n",
       "      <td>[60598, 15467, 15411, 8915, 13920, 17648, 1057...</td>\n",
       "    </tr>\n",
       "    <tr>\n",
       "      <th>3</th>\n",
       "      <td>3</td>\n",
       "      <td>[52256, 109130, 99732, 94808, 70188, 99834, 10...</td>\n",
       "    </tr>\n",
       "    <tr>\n",
       "      <th>4</th>\n",
       "      <td>4</td>\n",
       "      <td>[85427, 50616, 57954, 18146, 8843, 60289, 1084...</td>\n",
       "    </tr>\n",
       "    <tr>\n",
       "      <th>...</th>\n",
       "      <td>...</td>\n",
       "      <td>...</td>\n",
       "    </tr>\n",
       "    <tr>\n",
       "      <th>120056</th>\n",
       "      <td>120056</td>\n",
       "      <td>[99696, 44039, 93766, 21271, 28377, 25668, 898...</td>\n",
       "    </tr>\n",
       "    <tr>\n",
       "      <th>120057</th>\n",
       "      <td>120057</td>\n",
       "      <td>[66183, 26622, 101018, 59781, 80366, 14712, 61...</td>\n",
       "    </tr>\n",
       "    <tr>\n",
       "      <th>120058</th>\n",
       "      <td>120058</td>\n",
       "      <td>[17851, 100331, 38897, 31044, 73082, 76397, 10...</td>\n",
       "    </tr>\n",
       "    <tr>\n",
       "      <th>120059</th>\n",
       "      <td>120059</td>\n",
       "      <td>[24642, 99233, 53574, 50035, 705, 86093, 11446...</td>\n",
       "    </tr>\n",
       "    <tr>\n",
       "      <th>120060</th>\n",
       "      <td>120060</td>\n",
       "      <td>[48557, 92620, 23024, 31945, 114048, 91148, 37...</td>\n",
       "    </tr>\n",
       "  </tbody>\n",
       "</table>\n",
       "<p>120061 rows × 2 columns</p>\n",
       "</div>"
      ],
      "text/plain": [
       "        user_id                                             y_recs\n",
       "0             0  [68034, 79051, 115056, 74766, 67322, 54883, 11...\n",
       "1             1  [12009, 44749, 101936, 96208, 14884, 75484, 11...\n",
       "2             2  [60598, 15467, 15411, 8915, 13920, 17648, 1057...\n",
       "3             3  [52256, 109130, 99732, 94808, 70188, 99834, 10...\n",
       "4             4  [85427, 50616, 57954, 18146, 8843, 60289, 1084...\n",
       "...         ...                                                ...\n",
       "120056   120056  [99696, 44039, 93766, 21271, 28377, 25668, 898...\n",
       "120057   120057  [66183, 26622, 101018, 59781, 80366, 14712, 61...\n",
       "120058   120058  [17851, 100331, 38897, 31044, 73082, 76397, 10...\n",
       "120059   120059  [24642, 99233, 53574, 50035, 705, 86093, 11446...\n",
       "120060   120060  [48557, 92620, 23024, 31945, 114048, 91148, 37...\n",
       "\n",
       "[120061 rows x 2 columns]"
      ]
     },
     "execution_count": 98,
     "metadata": {},
     "output_type": "execute_result"
    }
   ],
   "source": [
    "submission.to_pandas()"
   ]
  },
  {
   "cell_type": "code",
   "execution_count": 101,
   "id": "c2ac444f",
   "metadata": {},
   "outputs": [
    {
     "data": {
      "text/plain": [
       "85483"
      ]
     },
     "execution_count": 101,
     "metadata": {},
     "output_type": "execute_result"
    }
   ],
   "source": [
    "len(set(submission.to_pandas()['user_id']).intersection(set(sample_submission.to_pandas()['uid'])))"
   ]
  },
  {
   "cell_type": "code",
   "execution_count": null,
   "id": "6a1087f6",
   "metadata": {},
   "outputs": [],
   "source": []
  },
  {
   "cell_type": "markdown",
   "id": "6ff703e4",
   "metadata": {},
   "source": [
    "1. Проверить пересечение uid в sample_submission и submission\n",
    "2. Закинуть submission по последнему расчету\n",
    "3. Посчитать тут на cpu 20 эпох (лучшее качество модели)\n",
    "4. Запустить ноутбук на colabe\n",
    "5. Попробовать оптимизировать модель там\n",
    "6. Попробовать Adamic-Adam index\n",
    "7. Посмотреть решение автора"
   ]
  }
 ],
 "metadata": {
  "kernelspec": {
   "display_name": "Python 3",
   "language": "python",
   "name": "python3"
  },
  "language_info": {
   "codemirror_mode": {
    "name": "ipython",
    "version": 3
   },
   "file_extension": ".py",
   "mimetype": "text/x-python",
   "name": "python",
   "nbconvert_exporter": "python",
   "pygments_lexer": "ipython3",
   "version": "3.9.7"
  }
 },
 "nbformat": 4,
 "nbformat_minor": 5
}
