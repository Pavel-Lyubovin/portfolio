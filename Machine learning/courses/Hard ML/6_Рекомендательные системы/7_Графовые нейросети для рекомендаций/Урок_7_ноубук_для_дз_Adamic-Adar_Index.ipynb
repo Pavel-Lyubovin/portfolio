{
 "cells": [
  {
   "cell_type": "code",
   "execution_count": 1,
   "id": "31b889ab",
   "metadata": {
    "id": "31b889ab"
   },
   "outputs": [],
   "source": [
    "import numpy as np\n",
    "import polars as pl\n",
    "from tqdm import tqdm\n",
    "\n",
    "from typing import List, Any\n",
    "\n",
    "import scipy.sparse as sp\n",
    "from sklearn.model_selection import train_test_split\n",
    "\n",
    "import random\n",
    "from collections import Counter"
   ]
  },
  {
   "cell_type": "code",
   "execution_count": 2,
   "id": "2KZF1NNlyrEw",
   "metadata": {
    "colab": {
     "base_uri": "https://localhost:8080/"
    },
    "id": "2KZF1NNlyrEw",
    "outputId": "78cf6537-b1b9-4b7a-e87d-66ee0992ca8d"
   },
   "outputs": [
    {
     "name": "stdout",
     "output_type": "stream",
     "text": [
      "Mounted at /content/drive\n"
     ]
    }
   ],
   "source": [
    "from google.colab import drive\n",
    "drive.mount('/content/drive')\n",
    "\n",
    "PATH = 'drive/MyDrive/Colab Notebooks/ds-learning/lesson7'"
   ]
  },
  {
   "cell_type": "code",
   "execution_count": 3,
   "id": "b37e982e",
   "metadata": {
    "colab": {
     "base_uri": "https://localhost:8080/",
     "height": 872
    },
    "id": "b37e982e",
    "outputId": "aff25d94-d104-446a-a4ac-bf3f110170f7",
    "scrolled": true
   },
   "outputs": [
    {
     "data": {
      "text/html": [
       "<div><style>\n",
       ".dataframe > thead > tr,\n",
       ".dataframe > tbody > tr {\n",
       "  text-align: right;\n",
       "  white-space: pre-wrap;\n",
       "}\n",
       "</style>\n",
       "<small>shape: (5_745_124, 2)</small><table border=\"1\" class=\"dataframe\"><thead><tr><th>uid</th><th>friend_uid</th></tr><tr><td>i64</td><td>i64</td></tr></thead><tbody><tr><td>93464</td><td>114312</td></tr><tr><td>93464</td><td>103690</td></tr><tr><td>93464</td><td>108045</td></tr><tr><td>93464</td><td>116128</td></tr><tr><td>93464</td><td>94113</td></tr><tr><td>93464</td><td>101668</td></tr><tr><td>93464</td><td>118820</td></tr><tr><td>93464</td><td>93617</td></tr><tr><td>93464</td><td>97587</td></tr><tr><td>93464</td><td>101941</td></tr><tr><td>93464</td><td>104574</td></tr><tr><td>93464</td><td>104636</td></tr><tr><td>&hellip;</td><td>&hellip;</td></tr><tr><td>96484</td><td>17519</td></tr><tr><td>89317</td><td>17519</td></tr><tr><td>40932</td><td>17519</td></tr><tr><td>29417</td><td>17519</td></tr><tr><td>48879</td><td>17519</td></tr><tr><td>22513</td><td>17519</td></tr><tr><td>109044</td><td>17519</td></tr><tr><td>41972</td><td>17519</td></tr><tr><td>47606</td><td>17519</td></tr><tr><td>93433</td><td>17519</td></tr><tr><td>105725</td><td>17519</td></tr><tr><td>88318</td><td>17519</td></tr></tbody></table></div>"
      ],
      "text/plain": [
       "shape: (5_745_124, 2)\n",
       "┌────────┬────────────┐\n",
       "│ uid    ┆ friend_uid │\n",
       "│ ---    ┆ ---        │\n",
       "│ i64    ┆ i64        │\n",
       "╞════════╪════════════╡\n",
       "│ 93464  ┆ 114312     │\n",
       "│ 93464  ┆ 103690     │\n",
       "│ 93464  ┆ 108045     │\n",
       "│ 93464  ┆ 116128     │\n",
       "│ …      ┆ …          │\n",
       "│ 47606  ┆ 17519      │\n",
       "│ 93433  ┆ 17519      │\n",
       "│ 105725 ┆ 17519      │\n",
       "│ 88318  ┆ 17519      │\n",
       "└────────┴────────────┘"
      ]
     },
     "execution_count": 3,
     "metadata": {},
     "output_type": "execute_result"
    }
   ],
   "source": [
    "data = pl.read_parquet(f'{PATH}/train.parquet')\n",
    "# датафрейм с обратными ребрами\n",
    "data_rev = (\n",
    "    data\n",
    "    .rename({'uid': 'friend_uid', 'friend_uid': 'uid'})\n",
    "    .select('uid', 'friend_uid')\n",
    ")\n",
    "\n",
    "# соединим все в один граф\n",
    "data = pl.concat([data, data_rev])\n",
    "data"
   ]
  },
  {
   "cell_type": "markdown",
   "id": "4f643e51",
   "metadata": {
    "id": "4f643e51"
   },
   "source": [
    "Данные состоят из двух колонок:\n",
    "\n",
    "- `uid` – идентификатор пользователя\n",
    "- `friend_uid` – идентификатор друга этого пользователя\n",
    "\n",
    "Нашей задачей будет порекомендовать возможных друзей, для оценки вашего решения будет использоваться метрика Recall@10, равная проценту верно угаданных друзей"
   ]
  },
  {
   "cell_type": "code",
   "execution_count": 4,
   "id": "6a44c79c",
   "metadata": {
    "id": "6a44c79c"
   },
   "outputs": [],
   "source": [
    "TOP_K = 20\n",
    "RANDOM_STATE = 42\n",
    "\n",
    "SUBMISSION_PATH = 'submission.parquet'\n",
    "\n",
    "\n",
    "def user_intersection(y_rel: List[Any], y_rec: List[Any], k: int = 10) -> int:\n",
    "    \"\"\"\n",
    "    :param y_rel: relevant items\n",
    "    :param y_rec: recommended items\n",
    "    :param k: number of top recommended items\n",
    "    :return: number of items in intersection of y_rel and y_rec (truncated to top-K)\n",
    "    \"\"\"\n",
    "    return len(set(y_rec[:k]).intersection(set(y_rel)))\n",
    "\n",
    "\n",
    "def user_recall(y_rel: List[Any], y_rec: List[Any], k: int = 10) -> float:\n",
    "    \"\"\"\n",
    "    :param y_rel: relevant items\n",
    "    :param y_rec: recommended items\n",
    "    :param k: number of top recommended items\n",
    "    :return: percentage of found relevant items through recommendations\n",
    "    \"\"\"\n",
    "    return user_intersection(y_rel, y_rec, k) / min(k, len(set(y_rel)))"
   ]
  },
  {
   "cell_type": "markdown",
   "id": "e1aee09d",
   "metadata": {
    "id": "e1aee09d"
   },
   "source": [
    "## Валидация\n",
    "\n",
    "Так как у нас нет временной последовательности и рекомендации друзей не так сильно зависят от временной составляющей, в качестве можно использовать случайно выбранные ребра в графе (при этом для каждого пользователя будет равная пропорция друзей в валидации, которую можно достичь с помощью stratify параметра)"
   ]
  },
  {
   "cell_type": "code",
   "execution_count": 5,
   "id": "c251a688",
   "metadata": {
    "id": "c251a688"
   },
   "outputs": [],
   "source": [
    "# зафиксируем генератор случайных чисел\n",
    "random.seed(RANDOM_STATE)\n",
    "np.random.seed(RANDOM_STATE)"
   ]
  },
  {
   "cell_type": "code",
   "execution_count": 6,
   "id": "3b93e044",
   "metadata": {
    "colab": {
     "base_uri": "https://localhost:8080/",
     "height": 872
    },
    "id": "3b93e044",
    "outputId": "a0dee28e-ba3c-40e6-dbf8-ab633fa4c0d7",
    "scrolled": true
   },
   "outputs": [
    {
     "data": {
      "text/html": [
       "<div><style>\n",
       ".dataframe > thead > tr,\n",
       ".dataframe > tbody > tr {\n",
       "  text-align: right;\n",
       "  white-space: pre-wrap;\n",
       "}\n",
       "</style>\n",
       "<small>shape: (5_166_881, 2)</small><table border=\"1\" class=\"dataframe\"><thead><tr><th>uid</th><th>friend_uid</th></tr><tr><td>i64</td><td>i64</td></tr></thead><tbody><tr><td>62053</td><td>63575</td></tr><tr><td>31895</td><td>59356</td></tr><tr><td>97127</td><td>32271</td></tr><tr><td>89</td><td>11703</td></tr><tr><td>105178</td><td>47188</td></tr><tr><td>116127</td><td>52662</td></tr><tr><td>33824</td><td>15235</td></tr><tr><td>23690</td><td>103992</td></tr><tr><td>94660</td><td>45709</td></tr><tr><td>20872</td><td>60890</td></tr><tr><td>16860</td><td>107284</td></tr><tr><td>72933</td><td>24768</td></tr><tr><td>&hellip;</td><td>&hellip;</td></tr><tr><td>75573</td><td>85971</td></tr><tr><td>89685</td><td>35585</td></tr><tr><td>62183</td><td>105868</td></tr><tr><td>32336</td><td>44964</td></tr><tr><td>50410</td><td>92648</td></tr><tr><td>70625</td><td>16115</td></tr><tr><td>114497</td><td>88075</td></tr><tr><td>6338</td><td>75957</td></tr><tr><td>33790</td><td>82938</td></tr><tr><td>102133</td><td>62986</td></tr><tr><td>46217</td><td>78893</td></tr><tr><td>7857</td><td>101269</td></tr></tbody></table></div>"
      ],
      "text/plain": [
       "shape: (5_166_881, 2)\n",
       "┌────────┬────────────┐\n",
       "│ uid    ┆ friend_uid │\n",
       "│ ---    ┆ ---        │\n",
       "│ i64    ┆ i64        │\n",
       "╞════════╪════════════╡\n",
       "│ 62053  ┆ 63575      │\n",
       "│ 31895  ┆ 59356      │\n",
       "│ 97127  ┆ 32271      │\n",
       "│ 89     ┆ 11703      │\n",
       "│ …      ┆ …          │\n",
       "│ 33790  ┆ 82938      │\n",
       "│ 102133 ┆ 62986      │\n",
       "│ 46217  ┆ 78893      │\n",
       "│ 7857   ┆ 101269     │\n",
       "└────────┴────────────┘"
      ]
     },
     "execution_count": 6,
     "metadata": {},
     "output_type": "execute_result"
    }
   ],
   "source": [
    "# отфильтруем тех пользователей, у которых только один друг :(\n",
    "# для того, чтобы в тренировочной выборке и валидации было хотя бы по одному другу\n",
    "friends_count = data.group_by('uid').count()\n",
    "filtered_uid = set(friends_count.filter(pl.col('count') > 1)['uid'].to_list())\n",
    "\n",
    "data_filtered = data.filter(pl.col('uid').is_in(filtered_uid))\n",
    "\n",
    "# случайно выбираем ребра для валидационной выборки\n",
    "train_df, test_df = train_test_split(\n",
    "    data_filtered.filter(pl.col('uid').is_in(filtered_uid)),\n",
    "    stratify=data_filtered['uid'],\n",
    "    test_size=0.1,\n",
    "    random_state=RANDOM_STATE\n",
    ")\n",
    "\n",
    "train_df"
   ]
  },
  {
   "cell_type": "markdown",
   "id": "5c087e4d",
   "metadata": {
    "id": "5c087e4d"
   },
   "source": [
    "## Бейзлайн (Random)"
   ]
  },
  {
   "cell_type": "code",
   "execution_count": 7,
   "id": "3991b838",
   "metadata": {
    "colab": {
     "base_uri": "https://localhost:8080/"
    },
    "id": "3991b838",
    "outputId": "d55e22ec-4aba-4956-b879-ca64eaad2f52"
   },
   "outputs": [
    {
     "name": "stdout",
     "output_type": "stream",
     "text": [
      "среднее число uid в user_history: 36\n"
     ]
    }
   ],
   "source": [
    "grouped_df = (\n",
    "    test_df\n",
    "    .group_by('uid')\n",
    "    .agg(pl.col('friend_uid').alias('y_rel'))\n",
    "    .join(\n",
    "        train_df\n",
    "        .group_by('uid')\n",
    "        .agg(pl.col('friend_uid').alias('user_history')),\n",
    "        'uid',\n",
    "        how='left'\n",
    "    )\n",
    ")\n",
    "\n",
    "median_seq_len = int(grouped_df['user_history'].map_elements(len).median())\n",
    "print(f\"среднее число uid в user_history: {median_seq_len}\")"
   ]
  },
  {
   "cell_type": "code",
   "execution_count": null,
   "id": "e628fb9a",
   "metadata": {
    "id": "e628fb9a",
    "scrolled": true
   },
   "outputs": [],
   "source": [
    "n_users = train_df['uid'].max() + 1\n",
    "\n",
    "# количество друзей у каждого пользователя\n",
    "friends_count = np.zeros(n_users)\n",
    "for uid, count in Counter(train_df['uid']).items():\n",
    "    friends_count[uid] = count\n",
    "\n",
    "friends_count /= sum(friends_count)"
   ]
  },
  {
   "cell_type": "code",
   "execution_count": null,
   "id": "d342b007",
   "metadata": {
    "colab": {
     "base_uri": "https://localhost:8080/"
    },
    "id": "d342b007",
    "outputId": "a3a244ab-886b-44c3-e341-68338365139c"
   },
   "outputs": [
    {
     "name": "stderr",
     "output_type": "stream",
     "text": [
      "100%|██████████| 92562/92562 [00:17<00:00, 5346.50it/s]\n"
     ]
    },
    {
     "name": "stdout",
     "output_type": "stream",
     "text": [
      "Recall@20 = 0.00030239276771330966\n"
     ]
    }
   ],
   "source": [
    "recall_list = []\n",
    "recs = np.random.choice(n_users, size=(n_users, TOP_K + median_seq_len), p=friends_count)\n",
    "\n",
    "for user_id, y_rel, user_history in tqdm(grouped_df.rows()):\n",
    "    y_rec = [uid for uid in recs[user_id] if uid not in user_history]\n",
    "    recall_list.append(user_recall(y_rel, y_rec))\n",
    "\n",
    "print(f'Recall@{TOP_K} = {np.mean(recall_list)}')"
   ]
  },
  {
   "cell_type": "markdown",
   "id": "PMUbi5p20Gkf",
   "metadata": {
    "id": "PMUbi5p20Gkf"
   },
   "source": [
    "# Второй бейзлайн (Adamic-Adar)"
   ]
  },
  {
   "cell_type": "code",
   "execution_count": 7,
   "id": "oX3QH6fN0GTv",
   "metadata": {
    "id": "oX3QH6fN0GTv"
   },
   "outputs": [],
   "source": [
    "adjacency_matrix = sp.coo_array(\n",
    "    (np.ones(train_df.shape[0], dtype=int),\n",
    "    (train_df['uid'], train_df['friend_uid'])),\n",
    "    shape=(data_filtered.shape[0], data_filtered.shape[0])\n",
    ").tocsr()"
   ]
  },
  {
   "cell_type": "code",
   "execution_count": 8,
   "id": "OGiqtz4E0Rhq",
   "metadata": {
    "id": "OGiqtz4E0Rhq"
   },
   "outputs": [],
   "source": [
    "def get_adamic_adar_matrix(adjacency_matrix):\n",
    "    degree_vector = np.sum(adjacency_matrix, axis=1).reshape(1, -1)\n",
    "    log_degree_vector = np.log(degree_vector)\n",
    "    log_degree_vector[log_degree_vector == 0.0] = np.inf\n",
    "    resource_matrix = adjacency_matrix / log_degree_vector\n",
    "    return resource_matrix @ adjacency_matrix"
   ]
  },
  {
   "cell_type": "code",
   "execution_count": 9,
   "id": "4thCoQP60TJ2",
   "metadata": {
    "colab": {
     "base_uri": "https://localhost:8080/"
    },
    "id": "4thCoQP60TJ2",
    "outputId": "0316fcdc-0e86-45b2-895b-8600dc022f05"
   },
   "outputs": [
    {
     "name": "stderr",
     "output_type": "stream",
     "text": [
      "<ipython-input-8-e5d6d03f8e8b>:3: RuntimeWarning: divide by zero encountered in log\n",
      "  log_degree_vector = np.log(degree_vector)\n"
     ]
    }
   ],
   "source": [
    "aa_matrix = get_adamic_adar_matrix(adjacency_matrix)"
   ]
  },
  {
   "cell_type": "code",
   "execution_count": null,
   "id": "cMEplkUC7HRK",
   "metadata": {
    "colab": {
     "base_uri": "https://localhost:8080/"
    },
    "id": "cMEplkUC7HRK",
    "outputId": "5e97ef57-9b56-4da5-f365-8e32d67bd9be"
   },
   "outputs": [
    {
     "name": "stderr",
     "output_type": "stream",
     "text": [
      "100%|██████████| 92562/92562 [00:55<00:00, 1672.46it/s]"
     ]
    },
    {
     "name": "stdout",
     "output_type": "stream",
     "text": [
      "Recall@20 = 0.17930244849953691\n"
     ]
    },
    {
     "name": "stderr",
     "output_type": "stream",
     "text": [
      "\n"
     ]
    }
   ],
   "source": [
    "# Проверка метрики, если сохраняли историю\n",
    "\n",
    "recall_list = []\n",
    "\n",
    "for user_id, y_rel, user_history in tqdm(grouped_df.rows()):\n",
    "    ind = np.argpartition(aa_matrix[[user_id]].data, -TOP_K)[-TOP_K:]\n",
    "    recs = aa_matrix[[user_id]].indices[ind]\n",
    "    y_rec = [uid for uid in recs if uid not in user_history]\n",
    "    recall_list.append(user_recall(y_rel, y_rec, TOP_K))\n",
    "\n",
    "print(f'Recall@{TOP_K} = {np.mean(recall_list)}')"
   ]
  },
  {
   "cell_type": "markdown",
   "id": "fe750b0a",
   "metadata": {
    "id": "fe750b0a"
   },
   "source": [
    "## Построим рекомендации"
   ]
  },
  {
   "cell_type": "code",
   "execution_count": 10,
   "id": "1kMaIFiJ0cR7",
   "metadata": {
    "colab": {
     "base_uri": "https://localhost:8080/",
     "height": 889
    },
    "id": "1kMaIFiJ0cR7",
    "outputId": "d8dd41ab-75e8-4a5c-bdf2-24bc5965361d"
   },
   "outputs": [
    {
     "name": "stderr",
     "output_type": "stream",
     "text": [
      "100%|██████████| 85483/85483 [02:17<00:00, 621.82it/s]\n"
     ]
    },
    {
     "data": {
      "text/html": [
       "<div><style>\n",
       ".dataframe > thead > tr,\n",
       ".dataframe > tbody > tr {\n",
       "  text-align: right;\n",
       "  white-space: pre-wrap;\n",
       "}\n",
       "</style>\n",
       "<small>shape: (85_483, 2)</small><table border=\"1\" class=\"dataframe\"><thead><tr><th>user_id</th><th>y_recs</th></tr><tr><td>i64</td><td>list[i64]</td></tr></thead><tbody><tr><td>0</td><td>[68034, 43989, … 64886]</td></tr><tr><td>1</td><td>[90756, 92413, … 116400]</td></tr><tr><td>3</td><td>[70188, 94808, … 118664]</td></tr><tr><td>4</td><td>[38464, 36234, … 95849]</td></tr><tr><td>5</td><td>[18562, 48984, … 80655]</td></tr><tr><td>6</td><td>[32090, 103202, … 104824]</td></tr><tr><td>7</td><td>[102537, 76321, … 10495]</td></tr><tr><td>8</td><td>[47998, 98545, … 52138]</td></tr><tr><td>9</td><td>[10855, 29133, … 112158]</td></tr><tr><td>10</td><td>[37541, 84914, … 93734]</td></tr><tr><td>11</td><td>[110017, 85366, … 1047]</td></tr><tr><td>13</td><td>[22488, 25818, … 20267]</td></tr><tr><td>&hellip;</td><td>&hellip;</td></tr><tr><td>118445</td><td>[67349, 114757, … 47107]</td></tr><tr><td>118449</td><td>[43188, 20464, … 70174]</td></tr><tr><td>118563</td><td>[101110, 86384, … 78782]</td></tr><tr><td>118723</td><td>[85771, 98244, … 23182]</td></tr><tr><td>118725</td><td>[97762, 47607, … 39233]</td></tr><tr><td>119033</td><td>[33572, 11355, … 33300]</td></tr><tr><td>119155</td><td>[116811, 72661, … 28362]</td></tr><tr><td>119383</td><td>[71244, 101750, … 65780]</td></tr><tr><td>119425</td><td>[54526, 74993, … 101231]</td></tr><tr><td>119457</td><td>[69985, 76702, … 74993]</td></tr><tr><td>119486</td><td>[104824, 108287, … 89882]</td></tr><tr><td>119517</td><td>[17584, 92955, … 7733]</td></tr></tbody></table></div>"
      ],
      "text/plain": [
       "shape: (85_483, 2)\n",
       "┌─────────┬───────────────────────────┐\n",
       "│ user_id ┆ y_recs                    │\n",
       "│ ---     ┆ ---                       │\n",
       "│ i64     ┆ list[i64]                 │\n",
       "╞═════════╪═══════════════════════════╡\n",
       "│ 0       ┆ [68034, 43989, … 64886]   │\n",
       "│ 1       ┆ [90756, 92413, … 116400]  │\n",
       "│ 3       ┆ [70188, 94808, … 118664]  │\n",
       "│ 4       ┆ [38464, 36234, … 95849]   │\n",
       "│ …       ┆ …                         │\n",
       "│ 119425  ┆ [54526, 74993, … 101231]  │\n",
       "│ 119457  ┆ [69985, 76702, … 74993]   │\n",
       "│ 119486  ┆ [104824, 108287, … 89882] │\n",
       "│ 119517  ┆ [17584, 92955, … 7733]    │\n",
       "└─────────┴───────────────────────────┘"
      ]
     },
     "execution_count": 10,
     "metadata": {},
     "output_type": "execute_result"
    }
   ],
   "source": [
    "sample_submission = pl.read_parquet(f'{PATH}/sample_submission.parquet')\n",
    "\n",
    "grouped_df = (\n",
    "    sample_submission.select('uid')\n",
    "    .join(\n",
    "        train_df\n",
    "        .group_by('uid')\n",
    "        .agg(pl.col('friend_uid').alias('user_history')),\n",
    "        'uid',\n",
    "        how='left'\n",
    "    )\n",
    ")\n",
    "\n",
    "submission = []\n",
    "\n",
    "K = 100\n",
    "for user_id, user_history in tqdm(grouped_df.rows()):\n",
    "    user_history = [] if user_history is None else user_history\n",
    "    user_history.append(user_id)\n",
    "    data_len = aa_matrix[[user_id]].data.shape[0]\n",
    "    ind = np.argpartition(aa_matrix[[user_id]].data, -min(K, data_len))[-K:]\n",
    "    recs = aa_matrix[[user_id]].indices[ind]\n",
    "    rec_pairs = [(aa_ind, uid) for aa_ind, uid in zip(aa_matrix[[user_id]].data[ind],\n",
    "                                                      aa_matrix[[user_id]].indices[ind])]\n",
    "    rec_pairs.sort(reverse=True)\n",
    "    y_rec = [uid for _, uid in rec_pairs if uid not in user_history]\n",
    "    submission.append((user_id, y_rec[:20]))\n",
    "\n",
    "\n",
    "submission = pl.DataFrame(submission, schema=['user_id', 'y_recs'])\n",
    "\n",
    "submission.write_parquet('submission_aa_v3.parquet')\n",
    "submission"
   ]
  },
  {
   "cell_type": "code",
   "execution_count": 11,
   "id": "-ICnV47LacP4",
   "metadata": {
    "colab": {
     "base_uri": "https://localhost:8080/",
     "height": 159
    },
    "id": "-ICnV47LacP4",
    "outputId": "272d341c-6610-4944-d0ea-5a401063fed8"
   },
   "outputs": [
    {
     "data": {
      "text/html": [
       "<div><style>\n",
       ".dataframe > thead > tr,\n",
       ".dataframe > tbody > tr {\n",
       "  text-align: right;\n",
       "  white-space: pre-wrap;\n",
       "}\n",
       "</style>\n",
       "<small>shape: (2, 2)</small><table border=\"1\" class=\"dataframe\"><thead><tr><th>y_recs</th><th>count</th></tr><tr><td>bool</td><td>u32</td></tr></thead><tbody><tr><td>false</td><td>475</td></tr><tr><td>true</td><td>85008</td></tr></tbody></table></div>"
      ],
      "text/plain": [
       "shape: (2, 2)\n",
       "┌────────┬───────┐\n",
       "│ y_recs ┆ count │\n",
       "│ ---    ┆ ---   │\n",
       "│ bool   ┆ u32   │\n",
       "╞════════╪═══════╡\n",
       "│ false  ┆ 475   │\n",
       "│ true   ┆ 85008 │\n",
       "└────────┴───────┘"
      ]
     },
     "execution_count": 11,
     "metadata": {},
     "output_type": "execute_result"
    }
   ],
   "source": [
    "# проверка \"заполненности\" рекомендаций\n",
    "\n",
    "submission['y_recs'].map_elements(lambda x : len(x) >= 20).value_counts()"
   ]
  }
 ],
 "metadata": {
  "colab": {
   "provenance": []
  },
  "kernelspec": {
   "display_name": "Python 3",
   "language": "python",
   "name": "python3"
  },
  "language_info": {
   "codemirror_mode": {
    "name": "ipython",
    "version": 3
   },
   "file_extension": ".py",
   "mimetype": "text/x-python",
   "name": "python",
   "nbconvert_exporter": "python",
   "pygments_lexer": "ipython3",
   "version": "3.9.7"
  }
 },
 "nbformat": 4,
 "nbformat_minor": 5
}
